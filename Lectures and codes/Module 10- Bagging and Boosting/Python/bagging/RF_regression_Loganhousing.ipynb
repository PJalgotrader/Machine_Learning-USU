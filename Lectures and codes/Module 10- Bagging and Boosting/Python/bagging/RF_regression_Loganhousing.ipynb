{
 "cells": [
  {
   "attachments": {},
   "cell_type": "markdown",
   "metadata": {},
   "source": [
    "# Prof. Pedram Jahangiry\n",
    "\n",
    "You need to make a copy to your own Google drive if you want to edit the original notebook! Start by opening this notebook on Colab 👇\n",
    "\n",
    "<a href=\"https://colab.research.google.com/github/PJalgotrader/Machine_Learning-USU/blob/main/Lectures%20and%20codes/Module%2010-%20Bagging%20and%20Boosting/Python/bagging/RF_regression_Loganhousing.ipynb\" target=\"_parent\"><img src=\"https://colab.research.google.com/assets/colab-badge.svg\" alt=\"Open In Colab\"/></a> \n",
    "\n",
    "\n",
    "\n",
    "![logo](https://upload.wikimedia.org/wikipedia/commons/4/44/Huntsman-Wordmark-with-USU-Blue.gif#center) \n",
    "\n",
    "\n",
    "## 🔗 Links\n",
    "\n",
    "[![linkedin](https://img.shields.io/badge/LinkedIn-0A66C2?style=for-the-badge&logo=linkedin&logoColor=white)](https://www.linkedin.com/in/pedram-jahangiry-cfa-5778015a)\n",
    "\n",
    "[![Youtube](https://img.shields.io/badge/youtube_channel-1DA1F2?style=for-the-badge&logo=youtube&logoColor=white&color=FF0000)](https://www.youtube.com/channel/UCNDElcuuyX-2pSatVBDpJJQ)\n",
    "\n",
    "[![Twitter URL](https://img.shields.io/twitter/url/https/twitter.com/PedramJahangiry.svg?style=social&label=Follow%20%40PedramJahangiry)](https://twitter.com/PedramJahangiry)\n",
    "\n",
    "\n",
    "---"
   ]
  },
  {
   "cell_type": "markdown",
   "metadata": {},
   "source": [
    "# Random Forest Regression"
   ]
  },
  {
   "cell_type": "code",
   "execution_count": 1,
   "metadata": {},
   "outputs": [],
   "source": [
    "import numpy as np\n",
    "import pandas as pd\n",
    "import matplotlib.pyplot as plt\n",
    "import seaborn as sns\n",
    "sns.set()  #if you want to use seaborn themes with matplotlib functions\n",
    "import statsmodels.api as sm\n",
    "\n",
    "import warnings\n",
    "warnings.filterwarnings('ignore')\n"
   ]
  },
  {
   "cell_type": "code",
   "execution_count": 2,
   "metadata": {},
   "outputs": [],
   "source": [
    "df=pd.read_csv('https://raw.githubusercontent.com/PJalgotrader/Machine_Learning-USU/main/data/Logan_housing.csv')"
   ]
  },
  {
   "cell_type": "code",
   "execution_count": 3,
   "metadata": {},
   "outputs": [
    {
     "data": {
      "text/html": [
       "<div>\n",
       "<style scoped>\n",
       "    .dataframe tbody tr th:only-of-type {\n",
       "        vertical-align: middle;\n",
       "    }\n",
       "\n",
       "    .dataframe tbody tr th {\n",
       "        vertical-align: top;\n",
       "    }\n",
       "\n",
       "    .dataframe thead th {\n",
       "        text-align: right;\n",
       "    }\n",
       "</style>\n",
       "<table border=\"1\" class=\"dataframe\">\n",
       "  <thead>\n",
       "    <tr style=\"text-align: right;\">\n",
       "      <th></th>\n",
       "      <th>Sold Price</th>\n",
       "      <th>DOM</th>\n",
       "      <th>Garage Capacity</th>\n",
       "      <th>HOA Fee</th>\n",
       "      <th>Irregular Shape</th>\n",
       "      <th>Quadrant</th>\n",
       "      <th>School District</th>\n",
       "      <th>Sold Terms</th>\n",
       "      <th>Total Bedrooms</th>\n",
       "      <th>Total Bathrooms</th>\n",
       "      <th>Total Square Feet</th>\n",
       "      <th>Year Built</th>\n",
       "      <th>Zip</th>\n",
       "      <th>year_sold</th>\n",
       "      <th>month_sold</th>\n",
       "      <th>built_after_2000</th>\n",
       "    </tr>\n",
       "  </thead>\n",
       "  <tbody>\n",
       "    <tr>\n",
       "      <th>0</th>\n",
       "      <td>176000</td>\n",
       "      <td>5</td>\n",
       "      <td>2</td>\n",
       "      <td>0</td>\n",
       "      <td>No</td>\n",
       "      <td>NW</td>\n",
       "      <td>Cache</td>\n",
       "      <td>FHA</td>\n",
       "      <td>3</td>\n",
       "      <td>1</td>\n",
       "      <td>1031</td>\n",
       "      <td>1974</td>\n",
       "      <td>84335</td>\n",
       "      <td>2018</td>\n",
       "      <td>9</td>\n",
       "      <td>0</td>\n",
       "    </tr>\n",
       "    <tr>\n",
       "      <th>1</th>\n",
       "      <td>225000</td>\n",
       "      <td>6</td>\n",
       "      <td>2</td>\n",
       "      <td>0</td>\n",
       "      <td>No</td>\n",
       "      <td>NW</td>\n",
       "      <td>Cache</td>\n",
       "      <td>Conventional</td>\n",
       "      <td>4</td>\n",
       "      <td>2</td>\n",
       "      <td>2091</td>\n",
       "      <td>1995</td>\n",
       "      <td>84335</td>\n",
       "      <td>2018</td>\n",
       "      <td>7</td>\n",
       "      <td>0</td>\n",
       "    </tr>\n",
       "    <tr>\n",
       "      <th>2</th>\n",
       "      <td>274900</td>\n",
       "      <td>14</td>\n",
       "      <td>2</td>\n",
       "      <td>0</td>\n",
       "      <td>No</td>\n",
       "      <td>NW</td>\n",
       "      <td>Cache</td>\n",
       "      <td>Conventional</td>\n",
       "      <td>3</td>\n",
       "      <td>1</td>\n",
       "      <td>2016</td>\n",
       "      <td>1980</td>\n",
       "      <td>84335</td>\n",
       "      <td>2018</td>\n",
       "      <td>11</td>\n",
       "      <td>0</td>\n",
       "    </tr>\n",
       "    <tr>\n",
       "      <th>3</th>\n",
       "      <td>175000</td>\n",
       "      <td>16</td>\n",
       "      <td>1</td>\n",
       "      <td>0</td>\n",
       "      <td>No</td>\n",
       "      <td>NW</td>\n",
       "      <td>Cache</td>\n",
       "      <td>USDA Rural Development</td>\n",
       "      <td>4</td>\n",
       "      <td>1</td>\n",
       "      <td>1920</td>\n",
       "      <td>1978</td>\n",
       "      <td>84335</td>\n",
       "      <td>2018</td>\n",
       "      <td>6</td>\n",
       "      <td>0</td>\n",
       "    </tr>\n",
       "    <tr>\n",
       "      <th>4</th>\n",
       "      <td>179000</td>\n",
       "      <td>29</td>\n",
       "      <td>0</td>\n",
       "      <td>0</td>\n",
       "      <td>No</td>\n",
       "      <td>NW</td>\n",
       "      <td>Cache</td>\n",
       "      <td>Cash</td>\n",
       "      <td>4</td>\n",
       "      <td>2</td>\n",
       "      <td>1329</td>\n",
       "      <td>1976</td>\n",
       "      <td>84335</td>\n",
       "      <td>2018</td>\n",
       "      <td>9</td>\n",
       "      <td>0</td>\n",
       "    </tr>\n",
       "    <tr>\n",
       "      <th>5</th>\n",
       "      <td>299900</td>\n",
       "      <td>130</td>\n",
       "      <td>2</td>\n",
       "      <td>0</td>\n",
       "      <td>No</td>\n",
       "      <td>NW</td>\n",
       "      <td>Cache</td>\n",
       "      <td>Conventional</td>\n",
       "      <td>6</td>\n",
       "      <td>3</td>\n",
       "      <td>2765</td>\n",
       "      <td>1926</td>\n",
       "      <td>84335</td>\n",
       "      <td>2018</td>\n",
       "      <td>9</td>\n",
       "      <td>0</td>\n",
       "    </tr>\n",
       "    <tr>\n",
       "      <th>6</th>\n",
       "      <td>424000</td>\n",
       "      <td>463</td>\n",
       "      <td>6</td>\n",
       "      <td>0</td>\n",
       "      <td>No</td>\n",
       "      <td>NW</td>\n",
       "      <td>Cache</td>\n",
       "      <td>Conventional</td>\n",
       "      <td>4</td>\n",
       "      <td>4</td>\n",
       "      <td>5000</td>\n",
       "      <td>1933</td>\n",
       "      <td>84335</td>\n",
       "      <td>2019</td>\n",
       "      <td>12</td>\n",
       "      <td>0</td>\n",
       "    </tr>\n",
       "    <tr>\n",
       "      <th>7</th>\n",
       "      <td>775000</td>\n",
       "      <td>37</td>\n",
       "      <td>2</td>\n",
       "      <td>0</td>\n",
       "      <td>No</td>\n",
       "      <td>SE</td>\n",
       "      <td>Cache</td>\n",
       "      <td>Conventional</td>\n",
       "      <td>5</td>\n",
       "      <td>4</td>\n",
       "      <td>5180</td>\n",
       "      <td>1999</td>\n",
       "      <td>84328</td>\n",
       "      <td>2020</td>\n",
       "      <td>8</td>\n",
       "      <td>0</td>\n",
       "    </tr>\n",
       "    <tr>\n",
       "      <th>8</th>\n",
       "      <td>611000</td>\n",
       "      <td>38</td>\n",
       "      <td>2</td>\n",
       "      <td>0</td>\n",
       "      <td>No</td>\n",
       "      <td>SE</td>\n",
       "      <td>Cache</td>\n",
       "      <td>VA</td>\n",
       "      <td>5</td>\n",
       "      <td>3</td>\n",
       "      <td>4308</td>\n",
       "      <td>2015</td>\n",
       "      <td>84328</td>\n",
       "      <td>2020</td>\n",
       "      <td>11</td>\n",
       "      <td>1</td>\n",
       "    </tr>\n",
       "    <tr>\n",
       "      <th>9</th>\n",
       "      <td>1131310</td>\n",
       "      <td>115</td>\n",
       "      <td>2</td>\n",
       "      <td>0</td>\n",
       "      <td>Yes</td>\n",
       "      <td>SE</td>\n",
       "      <td>Cache</td>\n",
       "      <td>Cash</td>\n",
       "      <td>4</td>\n",
       "      <td>2</td>\n",
       "      <td>2116</td>\n",
       "      <td>1985</td>\n",
       "      <td>84328</td>\n",
       "      <td>2020</td>\n",
       "      <td>4</td>\n",
       "      <td>0</td>\n",
       "    </tr>\n",
       "  </tbody>\n",
       "</table>\n",
       "</div>"
      ],
      "text/plain": [
       "   Sold Price  DOM  Garage Capacity  HOA Fee Irregular Shape Quadrant  \\\n",
       "0      176000    5                2        0              No       NW   \n",
       "1      225000    6                2        0              No       NW   \n",
       "2      274900   14                2        0              No       NW   \n",
       "3      175000   16                1        0              No       NW   \n",
       "4      179000   29                0        0              No       NW   \n",
       "5      299900  130                2        0              No       NW   \n",
       "6      424000  463                6        0              No       NW   \n",
       "7      775000   37                2        0              No       SE   \n",
       "8      611000   38                2        0              No       SE   \n",
       "9     1131310  115                2        0             Yes       SE   \n",
       "\n",
       "  School District              Sold Terms  Total Bedrooms  Total Bathrooms  \\\n",
       "0           Cache                     FHA               3                1   \n",
       "1           Cache            Conventional               4                2   \n",
       "2           Cache            Conventional               3                1   \n",
       "3           Cache  USDA Rural Development               4                1   \n",
       "4           Cache                    Cash               4                2   \n",
       "5           Cache            Conventional               6                3   \n",
       "6           Cache            Conventional               4                4   \n",
       "7           Cache            Conventional               5                4   \n",
       "8           Cache                      VA               5                3   \n",
       "9           Cache                    Cash               4                2   \n",
       "\n",
       "   Total Square Feet  Year Built    Zip  year_sold  month_sold  \\\n",
       "0               1031        1974  84335       2018           9   \n",
       "1               2091        1995  84335       2018           7   \n",
       "2               2016        1980  84335       2018          11   \n",
       "3               1920        1978  84335       2018           6   \n",
       "4               1329        1976  84335       2018           9   \n",
       "5               2765        1926  84335       2018           9   \n",
       "6               5000        1933  84335       2019          12   \n",
       "7               5180        1999  84328       2020           8   \n",
       "8               4308        2015  84328       2020          11   \n",
       "9               2116        1985  84328       2020           4   \n",
       "\n",
       "   built_after_2000  \n",
       "0                 0  \n",
       "1                 0  \n",
       "2                 0  \n",
       "3                 0  \n",
       "4                 0  \n",
       "5                 0  \n",
       "6                 0  \n",
       "7                 0  \n",
       "8                 1  \n",
       "9                 0  "
      ]
     },
     "execution_count": 3,
     "metadata": {},
     "output_type": "execute_result"
    }
   ],
   "source": [
    "df.head(10)"
   ]
  },
  {
   "cell_type": "code",
   "execution_count": 5,
   "metadata": {},
   "outputs": [
    {
     "name": "stdout",
     "output_type": "stream",
     "text": [
      "<class 'pandas.core.frame.DataFrame'>\n",
      "RangeIndex: 4110 entries, 0 to 4109\n",
      "Data columns (total 16 columns):\n",
      " #   Column             Non-Null Count  Dtype \n",
      "---  ------             --------------  ----- \n",
      " 0   Sold Price         4110 non-null   int64 \n",
      " 1   DOM                4110 non-null   int64 \n",
      " 2   Garage Capacity    4110 non-null   int64 \n",
      " 3   HOA Fee            4110 non-null   int64 \n",
      " 4   Irregular Shape    4110 non-null   object\n",
      " 5   Quadrant           4110 non-null   object\n",
      " 6   School District    4110 non-null   object\n",
      " 7   Sold Terms         4110 non-null   object\n",
      " 8   Total Bedrooms     4110 non-null   int64 \n",
      " 9   Total Bathrooms    4110 non-null   int64 \n",
      " 10  Total Square Feet  4110 non-null   int64 \n",
      " 11  Year Built         4110 non-null   int64 \n",
      " 12  Zip                4110 non-null   int64 \n",
      " 13  year_sold          4110 non-null   int64 \n",
      " 14  month_sold         4110 non-null   int64 \n",
      " 15  built_after_2000   4110 non-null   int64 \n",
      "dtypes: int64(12), object(4)\n",
      "memory usage: 513.9+ KB\n"
     ]
    }
   ],
   "source": [
    "df.info()"
   ]
  },
  {
   "cell_type": "markdown",
   "metadata": {},
   "source": [
    "First we need to see if any data is missing"
   ]
  },
  {
   "cell_type": "code",
   "execution_count": 4,
   "metadata": {},
   "outputs": [
    {
     "data": {
      "text/plain": [
       "Sold Price           0.0\n",
       "DOM                  0.0\n",
       "Garage Capacity      0.0\n",
       "HOA Fee              0.0\n",
       "Irregular Shape      0.0\n",
       "Quadrant             0.0\n",
       "School District      0.0\n",
       "Sold Terms           0.0\n",
       "Total Bedrooms       0.0\n",
       "Total Bathrooms      0.0\n",
       "Total Square Feet    0.0\n",
       "Year Built           0.0\n",
       "Zip                  0.0\n",
       "year_sold            0.0\n",
       "month_sold           0.0\n",
       "built_after_2000     0.0\n",
       "dtype: float64"
      ]
     },
     "execution_count": 4,
     "metadata": {},
     "output_type": "execute_result"
    }
   ],
   "source": [
    "df.isnull().sum()/len(df)"
   ]
  },
  {
   "cell_type": "markdown",
   "metadata": {},
   "source": [
    "Looks good!\n",
    "Now let's see if there are any duplicates!"
   ]
  },
  {
   "cell_type": "code",
   "execution_count": 5,
   "metadata": {},
   "outputs": [
    {
     "data": {
      "text/plain": [
       "2"
      ]
     },
     "execution_count": 5,
     "metadata": {},
     "output_type": "execute_result"
    }
   ],
   "source": [
    "sum(df.duplicated())"
   ]
  },
  {
   "cell_type": "code",
   "execution_count": 6,
   "metadata": {},
   "outputs": [],
   "source": [
    "# dropping the duplicates:\n",
    "df.drop_duplicates(inplace=True)"
   ]
  },
  {
   "cell_type": "code",
   "execution_count": 7,
   "metadata": {},
   "outputs": [
    {
     "data": {
      "text/plain": [
       "Sold Price           1217\n",
       "DOM                   248\n",
       "Garage Capacity        14\n",
       "HOA Fee                96\n",
       "Irregular Shape         2\n",
       "Quadrant                4\n",
       "School District         2\n",
       "Sold Terms              6\n",
       "Total Bedrooms          9\n",
       "Total Bathrooms         7\n",
       "Total Square Feet    2009\n",
       "Year Built            136\n",
       "Zip                    16\n",
       "year_sold               3\n",
       "month_sold             12\n",
       "built_after_2000        2\n",
       "dtype: int64"
      ]
     },
     "execution_count": 7,
     "metadata": {},
     "output_type": "execute_result"
    }
   ],
   "source": [
    "df.nunique()"
   ]
  },
  {
   "cell_type": "markdown",
   "metadata": {},
   "source": [
    "---"
   ]
  },
  {
   "cell_type": "markdown",
   "metadata": {},
   "source": [
    "## Encode ordinal categorical features as an integer array.\n",
    "\n",
    "In random forest we don't need to transfer the categorical variables into dummy variables (using one-hot-encoding). However, the algorithm is not able to handel ordinal data. We should transform ordinal categorical variables into quantitative variables. "
   ]
  },
  {
   "cell_type": "code",
   "execution_count": 8,
   "metadata": {},
   "outputs": [
    {
     "data": {
      "text/html": [
       "<div>\n",
       "<style scoped>\n",
       "    .dataframe tbody tr th:only-of-type {\n",
       "        vertical-align: middle;\n",
       "    }\n",
       "\n",
       "    .dataframe tbody tr th {\n",
       "        vertical-align: top;\n",
       "    }\n",
       "\n",
       "    .dataframe thead th {\n",
       "        text-align: right;\n",
       "    }\n",
       "</style>\n",
       "<table border=\"1\" class=\"dataframe\">\n",
       "  <thead>\n",
       "    <tr style=\"text-align: right;\">\n",
       "      <th></th>\n",
       "      <th>Sold Price</th>\n",
       "      <th>DOM</th>\n",
       "      <th>Garage Capacity</th>\n",
       "      <th>HOA Fee</th>\n",
       "      <th>Irregular Shape</th>\n",
       "      <th>Quadrant</th>\n",
       "      <th>School District</th>\n",
       "      <th>Sold Terms</th>\n",
       "      <th>Total Bedrooms</th>\n",
       "      <th>Total Bathrooms</th>\n",
       "      <th>Total Square Feet</th>\n",
       "      <th>Year Built</th>\n",
       "      <th>Zip</th>\n",
       "      <th>year_sold</th>\n",
       "      <th>month_sold</th>\n",
       "      <th>built_after_2000</th>\n",
       "    </tr>\n",
       "  </thead>\n",
       "  <tbody>\n",
       "    <tr>\n",
       "      <th>0</th>\n",
       "      <td>176000</td>\n",
       "      <td>5</td>\n",
       "      <td>2</td>\n",
       "      <td>0</td>\n",
       "      <td>No</td>\n",
       "      <td>NW</td>\n",
       "      <td>Cache</td>\n",
       "      <td>FHA</td>\n",
       "      <td>3</td>\n",
       "      <td>1</td>\n",
       "      <td>1031</td>\n",
       "      <td>1974</td>\n",
       "      <td>84335</td>\n",
       "      <td>2018</td>\n",
       "      <td>9</td>\n",
       "      <td>0</td>\n",
       "    </tr>\n",
       "    <tr>\n",
       "      <th>1</th>\n",
       "      <td>225000</td>\n",
       "      <td>6</td>\n",
       "      <td>2</td>\n",
       "      <td>0</td>\n",
       "      <td>No</td>\n",
       "      <td>NW</td>\n",
       "      <td>Cache</td>\n",
       "      <td>Conventional</td>\n",
       "      <td>4</td>\n",
       "      <td>2</td>\n",
       "      <td>2091</td>\n",
       "      <td>1995</td>\n",
       "      <td>84335</td>\n",
       "      <td>2018</td>\n",
       "      <td>7</td>\n",
       "      <td>0</td>\n",
       "    </tr>\n",
       "    <tr>\n",
       "      <th>2</th>\n",
       "      <td>274900</td>\n",
       "      <td>14</td>\n",
       "      <td>2</td>\n",
       "      <td>0</td>\n",
       "      <td>No</td>\n",
       "      <td>NW</td>\n",
       "      <td>Cache</td>\n",
       "      <td>Conventional</td>\n",
       "      <td>3</td>\n",
       "      <td>1</td>\n",
       "      <td>2016</td>\n",
       "      <td>1980</td>\n",
       "      <td>84335</td>\n",
       "      <td>2018</td>\n",
       "      <td>11</td>\n",
       "      <td>0</td>\n",
       "    </tr>\n",
       "    <tr>\n",
       "      <th>3</th>\n",
       "      <td>175000</td>\n",
       "      <td>16</td>\n",
       "      <td>1</td>\n",
       "      <td>0</td>\n",
       "      <td>No</td>\n",
       "      <td>NW</td>\n",
       "      <td>Cache</td>\n",
       "      <td>USDA Rural Development</td>\n",
       "      <td>4</td>\n",
       "      <td>1</td>\n",
       "      <td>1920</td>\n",
       "      <td>1978</td>\n",
       "      <td>84335</td>\n",
       "      <td>2018</td>\n",
       "      <td>6</td>\n",
       "      <td>0</td>\n",
       "    </tr>\n",
       "    <tr>\n",
       "      <th>4</th>\n",
       "      <td>179000</td>\n",
       "      <td>29</td>\n",
       "      <td>0</td>\n",
       "      <td>0</td>\n",
       "      <td>No</td>\n",
       "      <td>NW</td>\n",
       "      <td>Cache</td>\n",
       "      <td>Cash</td>\n",
       "      <td>4</td>\n",
       "      <td>2</td>\n",
       "      <td>1329</td>\n",
       "      <td>1976</td>\n",
       "      <td>84335</td>\n",
       "      <td>2018</td>\n",
       "      <td>9</td>\n",
       "      <td>0</td>\n",
       "    </tr>\n",
       "  </tbody>\n",
       "</table>\n",
       "</div>"
      ],
      "text/plain": [
       "   Sold Price  DOM  Garage Capacity  HOA Fee Irregular Shape Quadrant  \\\n",
       "0      176000    5                2        0              No       NW   \n",
       "1      225000    6                2        0              No       NW   \n",
       "2      274900   14                2        0              No       NW   \n",
       "3      175000   16                1        0              No       NW   \n",
       "4      179000   29                0        0              No       NW   \n",
       "\n",
       "  School District              Sold Terms  Total Bedrooms  Total Bathrooms  \\\n",
       "0           Cache                     FHA               3                1   \n",
       "1           Cache            Conventional               4                2   \n",
       "2           Cache            Conventional               3                1   \n",
       "3           Cache  USDA Rural Development               4                1   \n",
       "4           Cache                    Cash               4                2   \n",
       "\n",
       "   Total Square Feet  Year Built    Zip  year_sold  month_sold  \\\n",
       "0               1031        1974  84335       2018           9   \n",
       "1               2091        1995  84335       2018           7   \n",
       "2               2016        1980  84335       2018          11   \n",
       "3               1920        1978  84335       2018           6   \n",
       "4               1329        1976  84335       2018           9   \n",
       "\n",
       "   built_after_2000  \n",
       "0                 0  \n",
       "1                 0  \n",
       "2                 0  \n",
       "3                 0  \n",
       "4                 0  "
      ]
     },
     "execution_count": 8,
     "metadata": {},
     "output_type": "execute_result"
    }
   ],
   "source": [
    "df.head()"
   ]
  },
  {
   "cell_type": "code",
   "execution_count": 9,
   "metadata": {},
   "outputs": [],
   "source": [
    "ordinal_categorical = ['Irregular Shape', 'Quadrant', 'School District', 'Sold Terms', 'Zip']"
   ]
  },
  {
   "cell_type": "code",
   "execution_count": 10,
   "metadata": {},
   "outputs": [],
   "source": [
    "from sklearn.preprocessing import OrdinalEncoder"
   ]
  },
  {
   "cell_type": "code",
   "execution_count": 11,
   "metadata": {},
   "outputs": [],
   "source": [
    "enc = OrdinalEncoder()"
   ]
  },
  {
   "cell_type": "code",
   "execution_count": 12,
   "metadata": {},
   "outputs": [],
   "source": [
    "df[ordinal_categorical]= enc.fit_transform(df[ordinal_categorical])"
   ]
  },
  {
   "cell_type": "code",
   "execution_count": 13,
   "metadata": {},
   "outputs": [
    {
     "data": {
      "text/html": [
       "<div>\n",
       "<style scoped>\n",
       "    .dataframe tbody tr th:only-of-type {\n",
       "        vertical-align: middle;\n",
       "    }\n",
       "\n",
       "    .dataframe tbody tr th {\n",
       "        vertical-align: top;\n",
       "    }\n",
       "\n",
       "    .dataframe thead th {\n",
       "        text-align: right;\n",
       "    }\n",
       "</style>\n",
       "<table border=\"1\" class=\"dataframe\">\n",
       "  <thead>\n",
       "    <tr style=\"text-align: right;\">\n",
       "      <th></th>\n",
       "      <th>Sold Price</th>\n",
       "      <th>DOM</th>\n",
       "      <th>Garage Capacity</th>\n",
       "      <th>HOA Fee</th>\n",
       "      <th>Irregular Shape</th>\n",
       "      <th>Quadrant</th>\n",
       "      <th>School District</th>\n",
       "      <th>Sold Terms</th>\n",
       "      <th>Total Bedrooms</th>\n",
       "      <th>Total Bathrooms</th>\n",
       "      <th>Total Square Feet</th>\n",
       "      <th>Year Built</th>\n",
       "      <th>Zip</th>\n",
       "      <th>year_sold</th>\n",
       "      <th>month_sold</th>\n",
       "      <th>built_after_2000</th>\n",
       "    </tr>\n",
       "  </thead>\n",
       "  <tbody>\n",
       "    <tr>\n",
       "      <th>0</th>\n",
       "      <td>176000</td>\n",
       "      <td>5</td>\n",
       "      <td>2</td>\n",
       "      <td>0</td>\n",
       "      <td>0.0</td>\n",
       "      <td>1.0</td>\n",
       "      <td>0.0</td>\n",
       "      <td>2.0</td>\n",
       "      <td>3</td>\n",
       "      <td>1</td>\n",
       "      <td>1031</td>\n",
       "      <td>1974</td>\n",
       "      <td>12.0</td>\n",
       "      <td>2018</td>\n",
       "      <td>9</td>\n",
       "      <td>0</td>\n",
       "    </tr>\n",
       "    <tr>\n",
       "      <th>1</th>\n",
       "      <td>225000</td>\n",
       "      <td>6</td>\n",
       "      <td>2</td>\n",
       "      <td>0</td>\n",
       "      <td>0.0</td>\n",
       "      <td>1.0</td>\n",
       "      <td>0.0</td>\n",
       "      <td>1.0</td>\n",
       "      <td>4</td>\n",
       "      <td>2</td>\n",
       "      <td>2091</td>\n",
       "      <td>1995</td>\n",
       "      <td>12.0</td>\n",
       "      <td>2018</td>\n",
       "      <td>7</td>\n",
       "      <td>0</td>\n",
       "    </tr>\n",
       "    <tr>\n",
       "      <th>2</th>\n",
       "      <td>274900</td>\n",
       "      <td>14</td>\n",
       "      <td>2</td>\n",
       "      <td>0</td>\n",
       "      <td>0.0</td>\n",
       "      <td>1.0</td>\n",
       "      <td>0.0</td>\n",
       "      <td>1.0</td>\n",
       "      <td>3</td>\n",
       "      <td>1</td>\n",
       "      <td>2016</td>\n",
       "      <td>1980</td>\n",
       "      <td>12.0</td>\n",
       "      <td>2018</td>\n",
       "      <td>11</td>\n",
       "      <td>0</td>\n",
       "    </tr>\n",
       "    <tr>\n",
       "      <th>3</th>\n",
       "      <td>175000</td>\n",
       "      <td>16</td>\n",
       "      <td>1</td>\n",
       "      <td>0</td>\n",
       "      <td>0.0</td>\n",
       "      <td>1.0</td>\n",
       "      <td>0.0</td>\n",
       "      <td>4.0</td>\n",
       "      <td>4</td>\n",
       "      <td>1</td>\n",
       "      <td>1920</td>\n",
       "      <td>1978</td>\n",
       "      <td>12.0</td>\n",
       "      <td>2018</td>\n",
       "      <td>6</td>\n",
       "      <td>0</td>\n",
       "    </tr>\n",
       "    <tr>\n",
       "      <th>4</th>\n",
       "      <td>179000</td>\n",
       "      <td>29</td>\n",
       "      <td>0</td>\n",
       "      <td>0</td>\n",
       "      <td>0.0</td>\n",
       "      <td>1.0</td>\n",
       "      <td>0.0</td>\n",
       "      <td>0.0</td>\n",
       "      <td>4</td>\n",
       "      <td>2</td>\n",
       "      <td>1329</td>\n",
       "      <td>1976</td>\n",
       "      <td>12.0</td>\n",
       "      <td>2018</td>\n",
       "      <td>9</td>\n",
       "      <td>0</td>\n",
       "    </tr>\n",
       "  </tbody>\n",
       "</table>\n",
       "</div>"
      ],
      "text/plain": [
       "   Sold Price  DOM  Garage Capacity  HOA Fee  Irregular Shape  Quadrant  \\\n",
       "0      176000    5                2        0              0.0       1.0   \n",
       "1      225000    6                2        0              0.0       1.0   \n",
       "2      274900   14                2        0              0.0       1.0   \n",
       "3      175000   16                1        0              0.0       1.0   \n",
       "4      179000   29                0        0              0.0       1.0   \n",
       "\n",
       "   School District  Sold Terms  Total Bedrooms  Total Bathrooms  \\\n",
       "0              0.0         2.0               3                1   \n",
       "1              0.0         1.0               4                2   \n",
       "2              0.0         1.0               3                1   \n",
       "3              0.0         4.0               4                1   \n",
       "4              0.0         0.0               4                2   \n",
       "\n",
       "   Total Square Feet  Year Built   Zip  year_sold  month_sold  \\\n",
       "0               1031        1974  12.0       2018           9   \n",
       "1               2091        1995  12.0       2018           7   \n",
       "2               2016        1980  12.0       2018          11   \n",
       "3               1920        1978  12.0       2018           6   \n",
       "4               1329        1976  12.0       2018           9   \n",
       "\n",
       "   built_after_2000  \n",
       "0                 0  \n",
       "1                 0  \n",
       "2                 0  \n",
       "3                 0  \n",
       "4                 0  "
      ]
     },
     "execution_count": 13,
     "metadata": {},
     "output_type": "execute_result"
    }
   ],
   "source": [
    "df.head()"
   ]
  },
  {
   "cell_type": "code",
   "execution_count": 14,
   "metadata": {},
   "outputs": [
    {
     "data": {
      "text/plain": [
       "[array(['No', 'Yes'], dtype=object),\n",
       " array(['NE', 'NW', 'SE', 'SW'], dtype=object),\n",
       " array(['Cache', 'Logan'], dtype=object),\n",
       " array(['Cash', 'Conventional', 'FHA', 'Other', 'USDA Rural Development',\n",
       "        'VA'], dtype=object),\n",
       " array([84305, 84308, 84318, 84319, 84320, 84321, 84325, 84326, 84327,\n",
       "        84328, 84332, 84333, 84335, 84338, 84339, 84341], dtype=int64)]"
      ]
     },
     "execution_count": 14,
     "metadata": {},
     "output_type": "execute_result"
    }
   ],
   "source": [
    "enc.categories_"
   ]
  },
  {
   "cell_type": "code",
   "execution_count": 19,
   "metadata": {},
   "outputs": [
    {
     "name": "stdout",
     "output_type": "stream",
     "text": [
      "<class 'pandas.core.frame.DataFrame'>\n",
      "Int64Index: 4108 entries, 0 to 4109\n",
      "Data columns (total 16 columns):\n",
      " #   Column             Non-Null Count  Dtype  \n",
      "---  ------             --------------  -----  \n",
      " 0   Sold Price         4108 non-null   int64  \n",
      " 1   DOM                4108 non-null   int64  \n",
      " 2   Garage Capacity    4108 non-null   int64  \n",
      " 3   HOA Fee            4108 non-null   int64  \n",
      " 4   Irregular Shape    4108 non-null   float64\n",
      " 5   Quadrant           4108 non-null   float64\n",
      " 6   School District    4108 non-null   float64\n",
      " 7   Sold Terms         4108 non-null   float64\n",
      " 8   Total Bedrooms     4108 non-null   int64  \n",
      " 9   Total Bathrooms    4108 non-null   int64  \n",
      " 10  Total Square Feet  4108 non-null   int64  \n",
      " 11  Year Built         4108 non-null   int64  \n",
      " 12  Zip                4108 non-null   float64\n",
      " 13  year_sold          4108 non-null   int64  \n",
      " 14  month_sold         4108 non-null   int64  \n",
      " 15  built_after_2000   4108 non-null   int64  \n",
      "dtypes: float64(5), int64(11)\n",
      "memory usage: 545.6 KB\n"
     ]
    }
   ],
   "source": [
    "df.info()"
   ]
  },
  {
   "cell_type": "code",
   "execution_count": 15,
   "metadata": {},
   "outputs": [],
   "source": [
    "df.drop('built_after_2000', axis=1, inplace=True) #why?"
   ]
  },
  {
   "cell_type": "code",
   "execution_count": 16,
   "metadata": {},
   "outputs": [
    {
     "data": {
      "text/plain": [
       "(4108, 15)"
      ]
     },
     "execution_count": 16,
     "metadata": {},
     "output_type": "execute_result"
    }
   ],
   "source": [
    "df.shape\n"
   ]
  },
  {
   "cell_type": "markdown",
   "metadata": {},
   "source": [
    "Remember, with other machine learning models, we ended up with **58 features** using the same data set because we had to transform categorical variables into dummies. But with RF, there is only **14 features** to work with. "
   ]
  },
  {
   "cell_type": "markdown",
   "metadata": {},
   "source": [
    "### Scaling features\n",
    "In random forest, we don't need to scale the features!! "
   ]
  },
  {
   "cell_type": "markdown",
   "metadata": {},
   "source": [
    "### Defining the variables and splitting the data"
   ]
  },
  {
   "cell_type": "code",
   "execution_count": 17,
   "metadata": {},
   "outputs": [],
   "source": [
    "rand_state = 1000"
   ]
  },
  {
   "cell_type": "code",
   "execution_count": 18,
   "metadata": {},
   "outputs": [],
   "source": [
    "y = df['Sold Price']\n",
    "X = df.drop('Sold Price', axis=1) # becareful inplace= False\n",
    "\n",
    "from sklearn.model_selection import train_test_split\n",
    "X_train, X_test, y_train, y_test = train_test_split(X, y, test_size=0.3, random_state=rand_state)"
   ]
  },
  {
   "cell_type": "markdown",
   "metadata": {},
   "source": [
    "---"
   ]
  },
  {
   "cell_type": "markdown",
   "metadata": {},
   "source": [
    "## Random Forest Regression with Sklearn"
   ]
  },
  {
   "cell_type": "code",
   "execution_count": 19,
   "metadata": {},
   "outputs": [],
   "source": [
    "from sklearn.ensemble import RandomForestRegressor"
   ]
  },
  {
   "cell_type": "code",
   "execution_count": 20,
   "metadata": {},
   "outputs": [
    {
     "data": {
      "text/html": [
       "<style>#sk-container-id-1 {color: black;background-color: white;}#sk-container-id-1 pre{padding: 0;}#sk-container-id-1 div.sk-toggleable {background-color: white;}#sk-container-id-1 label.sk-toggleable__label {cursor: pointer;display: block;width: 100%;margin-bottom: 0;padding: 0.3em;box-sizing: border-box;text-align: center;}#sk-container-id-1 label.sk-toggleable__label-arrow:before {content: \"▸\";float: left;margin-right: 0.25em;color: #696969;}#sk-container-id-1 label.sk-toggleable__label-arrow:hover:before {color: black;}#sk-container-id-1 div.sk-estimator:hover label.sk-toggleable__label-arrow:before {color: black;}#sk-container-id-1 div.sk-toggleable__content {max-height: 0;max-width: 0;overflow: hidden;text-align: left;background-color: #f0f8ff;}#sk-container-id-1 div.sk-toggleable__content pre {margin: 0.2em;color: black;border-radius: 0.25em;background-color: #f0f8ff;}#sk-container-id-1 input.sk-toggleable__control:checked~div.sk-toggleable__content {max-height: 200px;max-width: 100%;overflow: auto;}#sk-container-id-1 input.sk-toggleable__control:checked~label.sk-toggleable__label-arrow:before {content: \"▾\";}#sk-container-id-1 div.sk-estimator input.sk-toggleable__control:checked~label.sk-toggleable__label {background-color: #d4ebff;}#sk-container-id-1 div.sk-label input.sk-toggleable__control:checked~label.sk-toggleable__label {background-color: #d4ebff;}#sk-container-id-1 input.sk-hidden--visually {border: 0;clip: rect(1px 1px 1px 1px);clip: rect(1px, 1px, 1px, 1px);height: 1px;margin: -1px;overflow: hidden;padding: 0;position: absolute;width: 1px;}#sk-container-id-1 div.sk-estimator {font-family: monospace;background-color: #f0f8ff;border: 1px dotted black;border-radius: 0.25em;box-sizing: border-box;margin-bottom: 0.5em;}#sk-container-id-1 div.sk-estimator:hover {background-color: #d4ebff;}#sk-container-id-1 div.sk-parallel-item::after {content: \"\";width: 100%;border-bottom: 1px solid gray;flex-grow: 1;}#sk-container-id-1 div.sk-label:hover label.sk-toggleable__label {background-color: #d4ebff;}#sk-container-id-1 div.sk-serial::before {content: \"\";position: absolute;border-left: 1px solid gray;box-sizing: border-box;top: 0;bottom: 0;left: 50%;z-index: 0;}#sk-container-id-1 div.sk-serial {display: flex;flex-direction: column;align-items: center;background-color: white;padding-right: 0.2em;padding-left: 0.2em;position: relative;}#sk-container-id-1 div.sk-item {position: relative;z-index: 1;}#sk-container-id-1 div.sk-parallel {display: flex;align-items: stretch;justify-content: center;background-color: white;position: relative;}#sk-container-id-1 div.sk-item::before, #sk-container-id-1 div.sk-parallel-item::before {content: \"\";position: absolute;border-left: 1px solid gray;box-sizing: border-box;top: 0;bottom: 0;left: 50%;z-index: -1;}#sk-container-id-1 div.sk-parallel-item {display: flex;flex-direction: column;z-index: 1;position: relative;background-color: white;}#sk-container-id-1 div.sk-parallel-item:first-child::after {align-self: flex-end;width: 50%;}#sk-container-id-1 div.sk-parallel-item:last-child::after {align-self: flex-start;width: 50%;}#sk-container-id-1 div.sk-parallel-item:only-child::after {width: 0;}#sk-container-id-1 div.sk-dashed-wrapped {border: 1px dashed gray;margin: 0 0.4em 0.5em 0.4em;box-sizing: border-box;padding-bottom: 0.4em;background-color: white;}#sk-container-id-1 div.sk-label label {font-family: monospace;font-weight: bold;display: inline-block;line-height: 1.2em;}#sk-container-id-1 div.sk-label-container {text-align: center;}#sk-container-id-1 div.sk-container {/* jupyter's `normalize.less` sets `[hidden] { display: none; }` but bootstrap.min.css set `[hidden] { display: none !important; }` so we also need the `!important` here to be able to override the default hidden behavior on the sphinx rendered scikit-learn.org. See: https://github.com/scikit-learn/scikit-learn/issues/21755 */display: inline-block !important;position: relative;}#sk-container-id-1 div.sk-text-repr-fallback {display: none;}</style><div id=\"sk-container-id-1\" class=\"sk-top-container\"><div class=\"sk-text-repr-fallback\"><pre>RandomForestRegressor(random_state=1000)</pre><b>In a Jupyter environment, please rerun this cell to show the HTML representation or trust the notebook. <br />On GitHub, the HTML representation is unable to render, please try loading this page with nbviewer.org.</b></div><div class=\"sk-container\" hidden><div class=\"sk-item\"><div class=\"sk-estimator sk-toggleable\"><input class=\"sk-toggleable__control sk-hidden--visually\" id=\"sk-estimator-id-1\" type=\"checkbox\" checked><label for=\"sk-estimator-id-1\" class=\"sk-toggleable__label sk-toggleable__label-arrow\">RandomForestRegressor</label><div class=\"sk-toggleable__content\"><pre>RandomForestRegressor(random_state=1000)</pre></div></div></div></div></div>"
      ],
      "text/plain": [
       "RandomForestRegressor(random_state=1000)"
      ]
     },
     "execution_count": 20,
     "metadata": {},
     "output_type": "execute_result"
    }
   ],
   "source": [
    "# Fitting RF regression to the Training set\n",
    "RF_regression = RandomForestRegressor(random_state=rand_state)\n",
    "RF_regression.fit(X_train, y_train)"
   ]
  },
  {
   "cell_type": "code",
   "execution_count": 21,
   "metadata": {},
   "outputs": [],
   "source": [
    "# Predicting the Test set results\n",
    "y_hat = RF_regression.predict(X_test)\n"
   ]
  },
  {
   "cell_type": "code",
   "execution_count": 22,
   "metadata": {},
   "outputs": [
    {
     "data": {
      "text/html": [
       "<div>\n",
       "<style scoped>\n",
       "    .dataframe tbody tr th:only-of-type {\n",
       "        vertical-align: middle;\n",
       "    }\n",
       "\n",
       "    .dataframe tbody tr th {\n",
       "        vertical-align: top;\n",
       "    }\n",
       "\n",
       "    .dataframe thead th {\n",
       "        text-align: right;\n",
       "    }\n",
       "</style>\n",
       "<table border=\"1\" class=\"dataframe\">\n",
       "  <thead>\n",
       "    <tr style=\"text-align: right;\">\n",
       "      <th></th>\n",
       "      <th>y_test</th>\n",
       "      <th>y_hat</th>\n",
       "    </tr>\n",
       "  </thead>\n",
       "  <tbody>\n",
       "    <tr>\n",
       "      <th>4086</th>\n",
       "      <td>234500</td>\n",
       "      <td>262465.62</td>\n",
       "    </tr>\n",
       "    <tr>\n",
       "      <th>2938</th>\n",
       "      <td>200685</td>\n",
       "      <td>208367.15</td>\n",
       "    </tr>\n",
       "    <tr>\n",
       "      <th>175</th>\n",
       "      <td>345500</td>\n",
       "      <td>383041.50</td>\n",
       "    </tr>\n",
       "    <tr>\n",
       "      <th>1940</th>\n",
       "      <td>230000</td>\n",
       "      <td>229644.23</td>\n",
       "    </tr>\n",
       "    <tr>\n",
       "      <th>1763</th>\n",
       "      <td>299000</td>\n",
       "      <td>379370.31</td>\n",
       "    </tr>\n",
       "  </tbody>\n",
       "</table>\n",
       "</div>"
      ],
      "text/plain": [
       "      y_test      y_hat\n",
       "4086  234500  262465.62\n",
       "2938  200685  208367.15\n",
       "175   345500  383041.50\n",
       "1940  230000  229644.23\n",
       "1763  299000  379370.31"
      ]
     },
     "execution_count": 22,
     "metadata": {},
     "output_type": "execute_result"
    }
   ],
   "source": [
    "predictions = pd.DataFrame({ 'y_test':y_test,'y_hat':y_hat})\n",
    "predictions.head()"
   ]
  },
  {
   "cell_type": "markdown",
   "metadata": {},
   "source": [
    "---\n",
    "## Evaluating the model performance on test data"
   ]
  },
  {
   "cell_type": "code",
   "execution_count": 24,
   "metadata": {},
   "outputs": [
    {
     "data": {
      "image/png": "[encoded data removed]",
      "text/plain": [
       "<Figure size 640x480 with 1 Axes>"
      ]
     },
     "metadata": {},
     "output_type": "display_data"
    }
   ],
   "source": [
    "sns.scatterplot(x=y_test, y=y_hat, alpha=0.6)\n",
    "sns.lineplot(x=y_test, y=y_test)\n",
    "\n",
    "plt.xlabel('Actual price', fontsize=14)\n",
    "plt.ylabel('Prediced  price', fontsize=14)\n",
    "plt.title('Actual vs Predicted  price (test set)', fontsize=17)\n",
    "plt.show()"
   ]
  },
  {
   "cell_type": "code",
   "execution_count": 25,
   "metadata": {},
   "outputs": [
    {
     "data": {
      "text/plain": [
       "0.8379"
      ]
     },
     "execution_count": 25,
     "metadata": {},
     "output_type": "execute_result"
    }
   ],
   "source": [
    "np.round(RF_regression.score(X_test, y_test),4)"
   ]
  },
  {
   "cell_type": "markdown",
   "metadata": {},
   "source": [
    "Reminder: The $R^2$ using an SVM model was around 73%. Vanilla base RF is outperforming SVM. "
   ]
  },
  {
   "cell_type": "code",
   "execution_count": 26,
   "metadata": {},
   "outputs": [
    {
     "data": {
      "text/plain": [
       "46398.65"
      ]
     },
     "execution_count": 26,
     "metadata": {},
     "output_type": "execute_result"
    }
   ],
   "source": [
    "MSE_test = round(np.mean(np.square(y_test - y_hat)),2)\n",
    "RMSE_test = round(np.sqrt(MSE_test),2)\n",
    "RMSE_test"
   ]
  },
  {
   "cell_type": "markdown",
   "metadata": {},
   "source": [
    "---"
   ]
  },
  {
   "cell_type": "markdown",
   "metadata": {},
   "source": [
    "## Tuning hyperparameters: "
   ]
  },
  {
   "cell_type": "markdown",
   "metadata": {},
   "source": [
    "The key configuration parameters include the various hyperparameters for the individual decision trees introduced in the decision tree notebook. \n",
    "\n",
    "The following tables lists additional options for the two `RandomForest` classes:\n"
   ]
  },
  {
   "cell_type": "markdown",
   "metadata": {},
   "source": [
    "| Keyword      | Default | Description                                                                                                                |\n",
    "|--------------|---------|----------------------------------------------------------------------------------------------------------------------------|\n",
    "| bootstrap    | True    | Bootstrap samples during training                                                                                          |\n",
    "| n_estimators | 10      | # trees in the forest.                                                                                                     |\n",
    "| oob_score    | False   | Use out-of-bag samples to estimate the R2 on unseen data                                                                   |\n",
    "| max_features | auto    | The number of features to consider when looking for the best split                                                         |\n"
   ]
  },
  {
   "cell_type": "markdown",
   "metadata": {},
   "source": [
    "- The `bootstrap` parameter activates in the preceding bagging algorithm outline, which in turn enables the computation of the out-of-bag score (oob_score) that estimates the generalization accuracy using samples not included in the bootstrap sample used to train a given tree (see next section for detail). \n",
    "- The `n_estimators` parameter defines the number of trees to be grown as part of the forest. Larger forests perform better, but also take more time to build. It is important to monitor the cross-validation error as a function of the number of base learners to identify when the marginal reduction of the prediction error declines and the cost of additional training begins to outweigh the benefits.\n",
    "- The `max_features` parameter controls the size of the randomly selected feature subsets available when learning a new decision rule and split a node. A lower value reduces the correlation of the trees and, thus, the ensemble's variance, but may also increase the bias. Good starting values are `n_features` (the number of training features) for regression problems and `sqrt(n_features)` for classification problems, but will depend on the relationships among features and should be optimized using cross-validation."
   ]
  },
  {
   "cell_type": "markdown",
   "metadata": {},
   "source": [
    "Random forests are designed to contain deep fully-grown trees, which can be created using `max_depth=None` and `min_samples_split=2`. However, these values are not necessarily optimal, especially for high-dimensional data with many samples and, consequently, potentially very deep trees that can become very computationally-, and memory-, intensive.\n",
    "\n",
    "The `RandomForest` class provided by sklearn support parallel training and prediction by setting the n_jobs parameter to the k number of jobs to run on different cores. The -1 value uses all available cores. The overhead of interprocess communication may limit the speedup from being linear so that k jobs may take more than 1/k the time of a single job. Nonetheless, the speedup is often quite significant for large forests or deep individual trees that may take a meaningful amount of time to train when the data is large, and split evaluation becomes costly.\n",
    "\n",
    "As always, the best parameter configuration should be identified using cross-validation. The following steps illustrate the process:"
   ]
  },
  {
   "cell_type": "markdown",
   "metadata": {},
   "source": [
    "### Gridsearch\n"
   ]
  },
  {
   "cell_type": "code",
   "execution_count": 27,
   "metadata": {},
   "outputs": [],
   "source": [
    "my_param_grid = {'n_estimators': [10,100,500], 'max_features':['sqrt','log2'], 'max_depth':[5,10,20]}"
   ]
  },
  {
   "cell_type": "code",
   "execution_count": 28,
   "metadata": {},
   "outputs": [],
   "source": [
    "from sklearn.model_selection import GridSearchCV"
   ]
  },
  {
   "cell_type": "code",
   "execution_count": 29,
   "metadata": {},
   "outputs": [],
   "source": [
    "grid = GridSearchCV(estimator=RandomForestRegressor(random_state=rand_state),param_grid= my_param_grid, refit = True, verbose=2, cv=5 )\n",
    "# verbose just means the text output describing the process. (the greater the number the more detail you will get)."
   ]
  },
  {
   "cell_type": "code",
   "execution_count": 30,
   "metadata": {},
   "outputs": [
    {
     "name": "stdout",
     "output_type": "stream",
     "text": [
      "Fitting 5 folds for each of 18 candidates, totalling 90 fits\n",
      "[CV] END ....max_depth=5, max_features=sqrt, n_estimators=10; total time=   0.0s\n",
      "[CV] END ....max_depth=5, max_features=sqrt, n_estimators=10; total time=   0.0s\n",
      "[CV] END ....max_depth=5, max_features=sqrt, n_estimators=10; total time=   0.0s\n",
      "[CV] END ....max_depth=5, max_features=sqrt, n_estimators=10; total time=   0.0s\n",
      "[CV] END ....max_depth=5, max_features=sqrt, n_estimators=10; total time=   0.0s\n",
      "[CV] END ...max_depth=5, max_features=sqrt, n_estimators=100; total time=   0.2s\n",
      "[CV] END ...max_depth=5, max_features=sqrt, n_estimators=100; total time=   0.1s\n",
      "[CV] END ...max_depth=5, max_features=sqrt, n_estimators=100; total time=   0.1s\n",
      "[CV] END ...max_depth=5, max_features=sqrt, n_estimators=100; total time=   0.1s\n",
      "[CV] END ...max_depth=5, max_features=sqrt, n_estimators=100; total time=   0.1s\n",
      "[CV] END ...max_depth=5, max_features=sqrt, n_estimators=500; total time=   1.0s\n",
      "[CV] END ...max_depth=5, max_features=sqrt, n_estimators=500; total time=   1.1s\n",
      "[CV] END ...max_depth=5, max_features=sqrt, n_estimators=500; total time=   0.9s\n",
      "[CV] END ...max_depth=5, max_features=sqrt, n_estimators=500; total time=   1.1s\n",
      "[CV] END ...max_depth=5, max_features=sqrt, n_estimators=500; total time=   1.0s\n",
      "[CV] END ....max_depth=5, max_features=log2, n_estimators=10; total time=   0.0s\n",
      "[CV] END ....max_depth=5, max_features=log2, n_estimators=10; total time=   0.0s\n",
      "[CV] END ....max_depth=5, max_features=log2, n_estimators=10; total time=   0.0s\n",
      "[CV] END ....max_depth=5, max_features=log2, n_estimators=10; total time=   0.0s\n",
      "[CV] END ....max_depth=5, max_features=log2, n_estimators=10; total time=   0.0s\n",
      "[CV] END ...max_depth=5, max_features=log2, n_estimators=100; total time=   0.2s\n",
      "[CV] END ...max_depth=5, max_features=log2, n_estimators=100; total time=   0.2s\n",
      "[CV] END ...max_depth=5, max_features=log2, n_estimators=100; total time=   0.1s\n",
      "[CV] END ...max_depth=5, max_features=log2, n_estimators=100; total time=   0.2s\n",
      "[CV] END ...max_depth=5, max_features=log2, n_estimators=100; total time=   0.1s\n",
      "[CV] END ...max_depth=5, max_features=log2, n_estimators=500; total time=   1.0s\n",
      "[CV] END ...max_depth=5, max_features=log2, n_estimators=500; total time=   1.0s\n",
      "[CV] END ...max_depth=5, max_features=log2, n_estimators=500; total time=   0.9s\n",
      "[CV] END ...max_depth=5, max_features=log2, n_estimators=500; total time=   1.1s\n",
      "[CV] END ...max_depth=5, max_features=log2, n_estimators=500; total time=   0.9s\n",
      "[CV] END ...max_depth=10, max_features=sqrt, n_estimators=10; total time=   0.0s\n",
      "[CV] END ...max_depth=10, max_features=sqrt, n_estimators=10; total time=   0.0s\n",
      "[CV] END ...max_depth=10, max_features=sqrt, n_estimators=10; total time=   0.0s\n",
      "[CV] END ...max_depth=10, max_features=sqrt, n_estimators=10; total time=   0.0s\n",
      "[CV] END ...max_depth=10, max_features=sqrt, n_estimators=10; total time=   0.0s\n",
      "[CV] END ..max_depth=10, max_features=sqrt, n_estimators=100; total time=   0.3s\n",
      "[CV] END ..max_depth=10, max_features=sqrt, n_estimators=100; total time=   0.3s\n",
      "[CV] END ..max_depth=10, max_features=sqrt, n_estimators=100; total time=   0.3s\n",
      "[CV] END ..max_depth=10, max_features=sqrt, n_estimators=100; total time=   0.3s\n",
      "[CV] END ..max_depth=10, max_features=sqrt, n_estimators=100; total time=   0.3s\n",
      "[CV] END ..max_depth=10, max_features=sqrt, n_estimators=500; total time=   1.8s\n",
      "[CV] END ..max_depth=10, max_features=sqrt, n_estimators=500; total time=   1.7s\n",
      "[CV] END ..max_depth=10, max_features=sqrt, n_estimators=500; total time=   1.7s\n",
      "[CV] END ..max_depth=10, max_features=sqrt, n_estimators=500; total time=   1.7s\n",
      "[CV] END ..max_depth=10, max_features=sqrt, n_estimators=500; total time=   1.8s\n",
      "[CV] END ...max_depth=10, max_features=log2, n_estimators=10; total time=   0.0s\n",
      "[CV] END ...max_depth=10, max_features=log2, n_estimators=10; total time=   0.0s\n",
      "[CV] END ...max_depth=10, max_features=log2, n_estimators=10; total time=   0.0s\n",
      "[CV] END ...max_depth=10, max_features=log2, n_estimators=10; total time=   0.0s\n",
      "[CV] END ...max_depth=10, max_features=log2, n_estimators=10; total time=   0.0s\n",
      "[CV] END ..max_depth=10, max_features=log2, n_estimators=100; total time=   0.3s\n",
      "[CV] END ..max_depth=10, max_features=log2, n_estimators=100; total time=   0.3s\n",
      "[CV] END ..max_depth=10, max_features=log2, n_estimators=100; total time=   0.3s\n",
      "[CV] END ..max_depth=10, max_features=log2, n_estimators=100; total time=   0.3s\n",
      "[CV] END ..max_depth=10, max_features=log2, n_estimators=100; total time=   0.3s\n",
      "[CV] END ..max_depth=10, max_features=log2, n_estimators=500; total time=   1.6s\n",
      "[CV] END ..max_depth=10, max_features=log2, n_estimators=500; total time=   1.6s\n",
      "[CV] END ..max_depth=10, max_features=log2, n_estimators=500; total time=   1.7s\n",
      "[CV] END ..max_depth=10, max_features=log2, n_estimators=500; total time=   1.6s\n",
      "[CV] END ..max_depth=10, max_features=log2, n_estimators=500; total time=   1.8s\n",
      "[CV] END ...max_depth=20, max_features=sqrt, n_estimators=10; total time=   0.0s\n",
      "[CV] END ...max_depth=20, max_features=sqrt, n_estimators=10; total time=   0.0s\n",
      "[CV] END ...max_depth=20, max_features=sqrt, n_estimators=10; total time=   0.0s\n",
      "[CV] END ...max_depth=20, max_features=sqrt, n_estimators=10; total time=   0.0s\n",
      "[CV] END ...max_depth=20, max_features=sqrt, n_estimators=10; total time=   0.0s\n",
      "[CV] END ..max_depth=20, max_features=sqrt, n_estimators=100; total time=   0.5s\n",
      "[CV] END ..max_depth=20, max_features=sqrt, n_estimators=100; total time=   0.5s\n",
      "[CV] END ..max_depth=20, max_features=sqrt, n_estimators=100; total time=   0.6s\n",
      "[CV] END ..max_depth=20, max_features=sqrt, n_estimators=100; total time=   0.5s\n",
      "[CV] END ..max_depth=20, max_features=sqrt, n_estimators=100; total time=   0.4s\n",
      "[CV] END ..max_depth=20, max_features=sqrt, n_estimators=500; total time=   2.7s\n",
      "[CV] END ..max_depth=20, max_features=sqrt, n_estimators=500; total time=   2.8s\n",
      "[CV] END ..max_depth=20, max_features=sqrt, n_estimators=500; total time=   2.7s\n",
      "[CV] END ..max_depth=20, max_features=sqrt, n_estimators=500; total time=   2.7s\n",
      "[CV] END ..max_depth=20, max_features=sqrt, n_estimators=500; total time=   2.6s\n",
      "[CV] END ...max_depth=20, max_features=log2, n_estimators=10; total time=   0.0s\n",
      "[CV] END ...max_depth=20, max_features=log2, n_estimators=10; total time=   0.0s\n",
      "[CV] END ...max_depth=20, max_features=log2, n_estimators=10; total time=   0.0s\n",
      "[CV] END ...max_depth=20, max_features=log2, n_estimators=10; total time=   0.0s\n",
      "[CV] END ...max_depth=20, max_features=log2, n_estimators=10; total time=   0.0s\n",
      "[CV] END ..max_depth=20, max_features=log2, n_estimators=100; total time=   0.4s\n",
      "[CV] END ..max_depth=20, max_features=log2, n_estimators=100; total time=   0.4s\n",
      "[CV] END ..max_depth=20, max_features=log2, n_estimators=100; total time=   0.5s\n",
      "[CV] END ..max_depth=20, max_features=log2, n_estimators=100; total time=   0.5s\n",
      "[CV] END ..max_depth=20, max_features=log2, n_estimators=100; total time=   0.5s\n",
      "[CV] END ..max_depth=20, max_features=log2, n_estimators=500; total time=   2.7s\n",
      "[CV] END ..max_depth=20, max_features=log2, n_estimators=500; total time=   2.8s\n",
      "[CV] END ..max_depth=20, max_features=log2, n_estimators=500; total time=   2.7s\n",
      "[CV] END ..max_depth=20, max_features=log2, n_estimators=500; total time=   2.6s\n",
      "[CV] END ..max_depth=20, max_features=log2, n_estimators=500; total time=   2.6s\n"
     ]
    },
    {
     "data": {
      "text/html": [
       "<style>#sk-container-id-2 {color: black;background-color: white;}#sk-container-id-2 pre{padding: 0;}#sk-container-id-2 div.sk-toggleable {background-color: white;}#sk-container-id-2 label.sk-toggleable__label {cursor: pointer;display: block;width: 100%;margin-bottom: 0;padding: 0.3em;box-sizing: border-box;text-align: center;}#sk-container-id-2 label.sk-toggleable__label-arrow:before {content: \"▸\";float: left;margin-right: 0.25em;color: #696969;}#sk-container-id-2 label.sk-toggleable__label-arrow:hover:before {color: black;}#sk-container-id-2 div.sk-estimator:hover label.sk-toggleable__label-arrow:before {color: black;}#sk-container-id-2 div.sk-toggleable__content {max-height: 0;max-width: 0;overflow: hidden;text-align: left;background-color: #f0f8ff;}#sk-container-id-2 div.sk-toggleable__content pre {margin: 0.2em;color: black;border-radius: 0.25em;background-color: #f0f8ff;}#sk-container-id-2 input.sk-toggleable__control:checked~div.sk-toggleable__content {max-height: 200px;max-width: 100%;overflow: auto;}#sk-container-id-2 input.sk-toggleable__control:checked~label.sk-toggleable__label-arrow:before {content: \"▾\";}#sk-container-id-2 div.sk-estimator input.sk-toggleable__control:checked~label.sk-toggleable__label {background-color: #d4ebff;}#sk-container-id-2 div.sk-label input.sk-toggleable__control:checked~label.sk-toggleable__label {background-color: #d4ebff;}#sk-container-id-2 input.sk-hidden--visually {border: 0;clip: rect(1px 1px 1px 1px);clip: rect(1px, 1px, 1px, 1px);height: 1px;margin: -1px;overflow: hidden;padding: 0;position: absolute;width: 1px;}#sk-container-id-2 div.sk-estimator {font-family: monospace;background-color: #f0f8ff;border: 1px dotted black;border-radius: 0.25em;box-sizing: border-box;margin-bottom: 0.5em;}#sk-container-id-2 div.sk-estimator:hover {background-color: #d4ebff;}#sk-container-id-2 div.sk-parallel-item::after {content: \"\";width: 100%;border-bottom: 1px solid gray;flex-grow: 1;}#sk-container-id-2 div.sk-label:hover label.sk-toggleable__label {background-color: #d4ebff;}#sk-container-id-2 div.sk-serial::before {content: \"\";position: absolute;border-left: 1px solid gray;box-sizing: border-box;top: 0;bottom: 0;left: 50%;z-index: 0;}#sk-container-id-2 div.sk-serial {display: flex;flex-direction: column;align-items: center;background-color: white;padding-right: 0.2em;padding-left: 0.2em;position: relative;}#sk-container-id-2 div.sk-item {position: relative;z-index: 1;}#sk-container-id-2 div.sk-parallel {display: flex;align-items: stretch;justify-content: center;background-color: white;position: relative;}#sk-container-id-2 div.sk-item::before, #sk-container-id-2 div.sk-parallel-item::before {content: \"\";position: absolute;border-left: 1px solid gray;box-sizing: border-box;top: 0;bottom: 0;left: 50%;z-index: -1;}#sk-container-id-2 div.sk-parallel-item {display: flex;flex-direction: column;z-index: 1;position: relative;background-color: white;}#sk-container-id-2 div.sk-parallel-item:first-child::after {align-self: flex-end;width: 50%;}#sk-container-id-2 div.sk-parallel-item:last-child::after {align-self: flex-start;width: 50%;}#sk-container-id-2 div.sk-parallel-item:only-child::after {width: 0;}#sk-container-id-2 div.sk-dashed-wrapped {border: 1px dashed gray;margin: 0 0.4em 0.5em 0.4em;box-sizing: border-box;padding-bottom: 0.4em;background-color: white;}#sk-container-id-2 div.sk-label label {font-family: monospace;font-weight: bold;display: inline-block;line-height: 1.2em;}#sk-container-id-2 div.sk-label-container {text-align: center;}#sk-container-id-2 div.sk-container {/* jupyter's `normalize.less` sets `[hidden] { display: none; }` but bootstrap.min.css set `[hidden] { display: none !important; }` so we also need the `!important` here to be able to override the default hidden behavior on the sphinx rendered scikit-learn.org. See: https://github.com/scikit-learn/scikit-learn/issues/21755 */display: inline-block !important;position: relative;}#sk-container-id-2 div.sk-text-repr-fallback {display: none;}</style><div id=\"sk-container-id-2\" class=\"sk-top-container\"><div class=\"sk-text-repr-fallback\"><pre>GridSearchCV(cv=5, estimator=RandomForestRegressor(random_state=1000),\n",
       "             param_grid={&#x27;max_depth&#x27;: [5, 10, 20],\n",
       "                         &#x27;max_features&#x27;: [&#x27;sqrt&#x27;, &#x27;log2&#x27;],\n",
       "                         &#x27;n_estimators&#x27;: [10, 100, 500]},\n",
       "             verbose=2)</pre><b>In a Jupyter environment, please rerun this cell to show the HTML representation or trust the notebook. <br />On GitHub, the HTML representation is unable to render, please try loading this page with nbviewer.org.</b></div><div class=\"sk-container\" hidden><div class=\"sk-item sk-dashed-wrapped\"><div class=\"sk-label-container\"><div class=\"sk-label sk-toggleable\"><input class=\"sk-toggleable__control sk-hidden--visually\" id=\"sk-estimator-id-2\" type=\"checkbox\" ><label for=\"sk-estimator-id-2\" class=\"sk-toggleable__label sk-toggleable__label-arrow\">GridSearchCV</label><div class=\"sk-toggleable__content\"><pre>GridSearchCV(cv=5, estimator=RandomForestRegressor(random_state=1000),\n",
       "             param_grid={&#x27;max_depth&#x27;: [5, 10, 20],\n",
       "                         &#x27;max_features&#x27;: [&#x27;sqrt&#x27;, &#x27;log2&#x27;],\n",
       "                         &#x27;n_estimators&#x27;: [10, 100, 500]},\n",
       "             verbose=2)</pre></div></div></div><div class=\"sk-parallel\"><div class=\"sk-parallel-item\"><div class=\"sk-item\"><div class=\"sk-label-container\"><div class=\"sk-label sk-toggleable\"><input class=\"sk-toggleable__control sk-hidden--visually\" id=\"sk-estimator-id-3\" type=\"checkbox\" ><label for=\"sk-estimator-id-3\" class=\"sk-toggleable__label sk-toggleable__label-arrow\">estimator: RandomForestRegressor</label><div class=\"sk-toggleable__content\"><pre>RandomForestRegressor(random_state=1000)</pre></div></div></div><div class=\"sk-serial\"><div class=\"sk-item\"><div class=\"sk-estimator sk-toggleable\"><input class=\"sk-toggleable__control sk-hidden--visually\" id=\"sk-estimator-id-4\" type=\"checkbox\" ><label for=\"sk-estimator-id-4\" class=\"sk-toggleable__label sk-toggleable__label-arrow\">RandomForestRegressor</label><div class=\"sk-toggleable__content\"><pre>RandomForestRegressor(random_state=1000)</pre></div></div></div></div></div></div></div></div></div></div>"
      ],
      "text/plain": [
       "GridSearchCV(cv=5, estimator=RandomForestRegressor(random_state=1000),\n",
       "             param_grid={'max_depth': [5, 10, 20],\n",
       "                         'max_features': ['sqrt', 'log2'],\n",
       "                         'n_estimators': [10, 100, 500]},\n",
       "             verbose=2)"
      ]
     },
     "execution_count": 30,
     "metadata": {},
     "output_type": "execute_result"
    }
   ],
   "source": [
    "# May take a while!\n",
    "grid.fit(X_train,y_train)"
   ]
  },
  {
   "cell_type": "code",
   "execution_count": 31,
   "metadata": {},
   "outputs": [
    {
     "data": {
      "text/plain": [
       "{'max_depth': 20, 'max_features': 'sqrt', 'n_estimators': 500}"
      ]
     },
     "execution_count": 31,
     "metadata": {},
     "output_type": "execute_result"
    }
   ],
   "source": [
    "grid.best_params_"
   ]
  },
  {
   "cell_type": "code",
   "execution_count": 32,
   "metadata": {},
   "outputs": [
    {
     "data": {
      "text/html": [
       "<style>#sk-container-id-3 {color: black;background-color: white;}#sk-container-id-3 pre{padding: 0;}#sk-container-id-3 div.sk-toggleable {background-color: white;}#sk-container-id-3 label.sk-toggleable__label {cursor: pointer;display: block;width: 100%;margin-bottom: 0;padding: 0.3em;box-sizing: border-box;text-align: center;}#sk-container-id-3 label.sk-toggleable__label-arrow:before {content: \"▸\";float: left;margin-right: 0.25em;color: #696969;}#sk-container-id-3 label.sk-toggleable__label-arrow:hover:before {color: black;}#sk-container-id-3 div.sk-estimator:hover label.sk-toggleable__label-arrow:before {color: black;}#sk-container-id-3 div.sk-toggleable__content {max-height: 0;max-width: 0;overflow: hidden;text-align: left;background-color: #f0f8ff;}#sk-container-id-3 div.sk-toggleable__content pre {margin: 0.2em;color: black;border-radius: 0.25em;background-color: #f0f8ff;}#sk-container-id-3 input.sk-toggleable__control:checked~div.sk-toggleable__content {max-height: 200px;max-width: 100%;overflow: auto;}#sk-container-id-3 input.sk-toggleable__control:checked~label.sk-toggleable__label-arrow:before {content: \"▾\";}#sk-container-id-3 div.sk-estimator input.sk-toggleable__control:checked~label.sk-toggleable__label {background-color: #d4ebff;}#sk-container-id-3 div.sk-label input.sk-toggleable__control:checked~label.sk-toggleable__label {background-color: #d4ebff;}#sk-container-id-3 input.sk-hidden--visually {border: 0;clip: rect(1px 1px 1px 1px);clip: rect(1px, 1px, 1px, 1px);height: 1px;margin: -1px;overflow: hidden;padding: 0;position: absolute;width: 1px;}#sk-container-id-3 div.sk-estimator {font-family: monospace;background-color: #f0f8ff;border: 1px dotted black;border-radius: 0.25em;box-sizing: border-box;margin-bottom: 0.5em;}#sk-container-id-3 div.sk-estimator:hover {background-color: #d4ebff;}#sk-container-id-3 div.sk-parallel-item::after {content: \"\";width: 100%;border-bottom: 1px solid gray;flex-grow: 1;}#sk-container-id-3 div.sk-label:hover label.sk-toggleable__label {background-color: #d4ebff;}#sk-container-id-3 div.sk-serial::before {content: \"\";position: absolute;border-left: 1px solid gray;box-sizing: border-box;top: 0;bottom: 0;left: 50%;z-index: 0;}#sk-container-id-3 div.sk-serial {display: flex;flex-direction: column;align-items: center;background-color: white;padding-right: 0.2em;padding-left: 0.2em;position: relative;}#sk-container-id-3 div.sk-item {position: relative;z-index: 1;}#sk-container-id-3 div.sk-parallel {display: flex;align-items: stretch;justify-content: center;background-color: white;position: relative;}#sk-container-id-3 div.sk-item::before, #sk-container-id-3 div.sk-parallel-item::before {content: \"\";position: absolute;border-left: 1px solid gray;box-sizing: border-box;top: 0;bottom: 0;left: 50%;z-index: -1;}#sk-container-id-3 div.sk-parallel-item {display: flex;flex-direction: column;z-index: 1;position: relative;background-color: white;}#sk-container-id-3 div.sk-parallel-item:first-child::after {align-self: flex-end;width: 50%;}#sk-container-id-3 div.sk-parallel-item:last-child::after {align-self: flex-start;width: 50%;}#sk-container-id-3 div.sk-parallel-item:only-child::after {width: 0;}#sk-container-id-3 div.sk-dashed-wrapped {border: 1px dashed gray;margin: 0 0.4em 0.5em 0.4em;box-sizing: border-box;padding-bottom: 0.4em;background-color: white;}#sk-container-id-3 div.sk-label label {font-family: monospace;font-weight: bold;display: inline-block;line-height: 1.2em;}#sk-container-id-3 div.sk-label-container {text-align: center;}#sk-container-id-3 div.sk-container {/* jupyter's `normalize.less` sets `[hidden] { display: none; }` but bootstrap.min.css set `[hidden] { display: none !important; }` so we also need the `!important` here to be able to override the default hidden behavior on the sphinx rendered scikit-learn.org. See: https://github.com/scikit-learn/scikit-learn/issues/21755 */display: inline-block !important;position: relative;}#sk-container-id-3 div.sk-text-repr-fallback {display: none;}</style><div id=\"sk-container-id-3\" class=\"sk-top-container\"><div class=\"sk-text-repr-fallback\"><pre>RandomForestRegressor(max_depth=20, max_features=&#x27;sqrt&#x27;, n_estimators=500,\n",
       "                      random_state=1000)</pre><b>In a Jupyter environment, please rerun this cell to show the HTML representation or trust the notebook. <br />On GitHub, the HTML representation is unable to render, please try loading this page with nbviewer.org.</b></div><div class=\"sk-container\" hidden><div class=\"sk-item\"><div class=\"sk-estimator sk-toggleable\"><input class=\"sk-toggleable__control sk-hidden--visually\" id=\"sk-estimator-id-5\" type=\"checkbox\" checked><label for=\"sk-estimator-id-5\" class=\"sk-toggleable__label sk-toggleable__label-arrow\">RandomForestRegressor</label><div class=\"sk-toggleable__content\"><pre>RandomForestRegressor(max_depth=20, max_features=&#x27;sqrt&#x27;, n_estimators=500,\n",
       "                      random_state=1000)</pre></div></div></div></div></div>"
      ],
      "text/plain": [
       "RandomForestRegressor(max_depth=20, max_features='sqrt', n_estimators=500,\n",
       "                      random_state=1000)"
      ]
     },
     "execution_count": 32,
     "metadata": {},
     "output_type": "execute_result"
    }
   ],
   "source": [
    "grid.best_estimator_"
   ]
  },
  {
   "cell_type": "code",
   "execution_count": 33,
   "metadata": {},
   "outputs": [],
   "source": [
    "y_hat_optimized = grid.predict(X_test)"
   ]
  },
  {
   "cell_type": "code",
   "execution_count": 34,
   "metadata": {},
   "outputs": [
    {
     "data": {
      "text/html": [
       "<div>\n",
       "<style scoped>\n",
       "    .dataframe tbody tr th:only-of-type {\n",
       "        vertical-align: middle;\n",
       "    }\n",
       "\n",
       "    .dataframe tbody tr th {\n",
       "        vertical-align: top;\n",
       "    }\n",
       "\n",
       "    .dataframe thead th {\n",
       "        text-align: right;\n",
       "    }\n",
       "</style>\n",
       "<table border=\"1\" class=\"dataframe\">\n",
       "  <thead>\n",
       "    <tr style=\"text-align: right;\">\n",
       "      <th></th>\n",
       "      <th>y_test</th>\n",
       "      <th>y_hat</th>\n",
       "      <th>y_hat_optimized</th>\n",
       "    </tr>\n",
       "  </thead>\n",
       "  <tbody>\n",
       "    <tr>\n",
       "      <th>4086</th>\n",
       "      <td>234500</td>\n",
       "      <td>262465.62</td>\n",
       "      <td>263663.561524</td>\n",
       "    </tr>\n",
       "    <tr>\n",
       "      <th>2938</th>\n",
       "      <td>200685</td>\n",
       "      <td>208367.15</td>\n",
       "      <td>217316.819728</td>\n",
       "    </tr>\n",
       "    <tr>\n",
       "      <th>175</th>\n",
       "      <td>345500</td>\n",
       "      <td>383041.50</td>\n",
       "      <td>389525.313035</td>\n",
       "    </tr>\n",
       "    <tr>\n",
       "      <th>1940</th>\n",
       "      <td>230000</td>\n",
       "      <td>229644.23</td>\n",
       "      <td>217183.862310</td>\n",
       "    </tr>\n",
       "    <tr>\n",
       "      <th>1763</th>\n",
       "      <td>299000</td>\n",
       "      <td>379370.31</td>\n",
       "      <td>368291.758000</td>\n",
       "    </tr>\n",
       "  </tbody>\n",
       "</table>\n",
       "</div>"
      ],
      "text/plain": [
       "      y_test      y_hat  y_hat_optimized\n",
       "4086  234500  262465.62    263663.561524\n",
       "2938  200685  208367.15    217316.819728\n",
       "175   345500  383041.50    389525.313035\n",
       "1940  230000  229644.23    217183.862310\n",
       "1763  299000  379370.31    368291.758000"
      ]
     },
     "execution_count": 34,
     "metadata": {},
     "output_type": "execute_result"
    }
   ],
   "source": [
    "predictions['y_hat_optimized'] = y_hat_optimized\n",
    "predictions.head()"
   ]
  },
  {
   "cell_type": "code",
   "execution_count": 35,
   "metadata": {},
   "outputs": [
    {
     "data": {
      "image/png": "[encoded data removed]",
      "text/plain": [
       "<Figure size 640x480 with 1 Axes>"
      ]
     },
     "metadata": {},
     "output_type": "display_data"
    }
   ],
   "source": [
    "sns.scatterplot(x=y_test, y=y_hat_optimized, alpha=0.6)\n",
    "sns.lineplot(x=y_test, y=y_test)\n",
    "\n",
    "plt.xlabel('Actual price', fontsize=14)\n",
    "plt.ylabel('Prediced  price', fontsize=14)\n",
    "plt.title('Actual vs optimized predicted price (test set)', fontsize=17)\n",
    "plt.show()"
   ]
  },
  {
   "cell_type": "code",
   "execution_count": 36,
   "metadata": {},
   "outputs": [
    {
     "data": {
      "text/plain": [
       "0.8486"
      ]
     },
     "execution_count": 36,
     "metadata": {},
     "output_type": "execute_result"
    }
   ],
   "source": [
    "np.round(grid.score(X_test, y_test),4)"
   ]
  },
  {
   "cell_type": "code",
   "execution_count": 37,
   "metadata": {},
   "outputs": [
    {
     "data": {
      "text/plain": [
       "44850.32"
      ]
     },
     "execution_count": 37,
     "metadata": {},
     "output_type": "execute_result"
    }
   ],
   "source": [
    "MSE_test_opt = round(np.mean(np.square(y_test - y_hat_optimized)),2)\n",
    "RMSE_test_opt = round(np.sqrt(MSE_test_opt),2)\n",
    "RMSE_test_opt"
   ]
  },
  {
   "cell_type": "markdown",
   "metadata": {},
   "source": [
    "- Compared to numbers before using gridsearch (R2= 0.8379 and RMSE= 46398), this is a slight improvement!\n",
    "- Recall: the best we could do with SVM was R2=80. So RF outperforms SVM!"
   ]
  },
  {
   "cell_type": "markdown",
   "metadata": {},
   "source": [
    "---\n",
    "## Using Cross validation and OOB observations to estimate the $R^2$ in the test set. "
   ]
  },
  {
   "cell_type": "markdown",
   "metadata": {},
   "source": [
    "#### Cross validation\n",
    "We will use Cross validation to estimate performance metrics in the test set. "
   ]
  },
  {
   "cell_type": "code",
   "execution_count": 38,
   "metadata": {},
   "outputs": [],
   "source": [
    "from sklearn.model_selection import cross_val_score"
   ]
  },
  {
   "cell_type": "code",
   "execution_count": 39,
   "metadata": {},
   "outputs": [],
   "source": [
    "R2 = cross_val_score(estimator = RandomForestRegressor(max_depth=20, max_features='sqrt', n_estimators=500), X = X_train, y = y_train, cv = 5 , scoring=\"r2\" )"
   ]
  },
  {
   "cell_type": "code",
   "execution_count": 40,
   "metadata": {},
   "outputs": [
    {
     "data": {
      "text/plain": [
       "0.7842"
      ]
     },
     "execution_count": 40,
     "metadata": {},
     "output_type": "execute_result"
    }
   ],
   "source": [
    "R2_CV = round(np.mean(R2),4)\n",
    "R2_CV"
   ]
  },
  {
   "cell_type": "markdown",
   "metadata": {},
   "source": [
    "---"
   ]
  },
  {
   "cell_type": "markdown",
   "metadata": {},
   "source": [
    "### Out-of-Bag errors!"
   ]
  },
  {
   "cell_type": "markdown",
   "metadata": {},
   "source": [
    "We can show that on average, each bagged tree makes use of around 2/3 of the observations and 1/3 of them are not used to fit the model. These left out observations are called out-of-bag (OOB) observations. It turns out there is a very straightforward way to estimate the test errors using OOB observations. "
   ]
  },
  {
   "cell_type": "code",
   "execution_count": 41,
   "metadata": {},
   "outputs": [
    {
     "data": {
      "text/plain": [
       "array([51, 43,  1,  1, 62, 75, 60, 48, 74, 41, 16, 70, 12, 56, 39, 27, 40,\n",
       "       89, 29,  1, 59, 80, 39, 64, 37, 14, 83, 53, 96, 67, 57, 46, 25, 23,\n",
       "       70, 50, 40, 15, 57, 89, 70,  1,  8, 48, 39, 37, 68, 86, 95, 22, 14,\n",
       "       92, 36, 77, 36, 95, 54, 31, 31, 45, 56, 84, 67, 47, 35, 86, 85, 89,\n",
       "       88, 90, 62, 54, 62, 60, 18, 78, 17, 95, 53,  9, 55, 21, 73, 76, 83,\n",
       "       89, 87, 24, 69, 29, 93, 42, 35, 10, 43, 54, 30, 87, 13, 68])"
      ]
     },
     "execution_count": 41,
     "metadata": {},
     "output_type": "execute_result"
    }
   ],
   "source": [
    "np.random.choice(100,size=100)"
   ]
  },
  {
   "cell_type": "code",
   "execution_count": 48,
   "metadata": {},
   "outputs": [
    {
     "data": {
      "text/plain": [
       "60"
      ]
     },
     "execution_count": 48,
     "metadata": {},
     "output_type": "execute_result"
    }
   ],
   "source": [
    "np.unique(np.random.choice (100,size=100)).size"
   ]
  },
  {
   "cell_type": "code",
   "execution_count": 49,
   "metadata": {},
   "outputs": [
    {
     "data": {
      "text/html": [
       "<style>#sk-container-id-4 {color: black;background-color: white;}#sk-container-id-4 pre{padding: 0;}#sk-container-id-4 div.sk-toggleable {background-color: white;}#sk-container-id-4 label.sk-toggleable__label {cursor: pointer;display: block;width: 100%;margin-bottom: 0;padding: 0.3em;box-sizing: border-box;text-align: center;}#sk-container-id-4 label.sk-toggleable__label-arrow:before {content: \"▸\";float: left;margin-right: 0.25em;color: #696969;}#sk-container-id-4 label.sk-toggleable__label-arrow:hover:before {color: black;}#sk-container-id-4 div.sk-estimator:hover label.sk-toggleable__label-arrow:before {color: black;}#sk-container-id-4 div.sk-toggleable__content {max-height: 0;max-width: 0;overflow: hidden;text-align: left;background-color: #f0f8ff;}#sk-container-id-4 div.sk-toggleable__content pre {margin: 0.2em;color: black;border-radius: 0.25em;background-color: #f0f8ff;}#sk-container-id-4 input.sk-toggleable__control:checked~div.sk-toggleable__content {max-height: 200px;max-width: 100%;overflow: auto;}#sk-container-id-4 input.sk-toggleable__control:checked~label.sk-toggleable__label-arrow:before {content: \"▾\";}#sk-container-id-4 div.sk-estimator input.sk-toggleable__control:checked~label.sk-toggleable__label {background-color: #d4ebff;}#sk-container-id-4 div.sk-label input.sk-toggleable__control:checked~label.sk-toggleable__label {background-color: #d4ebff;}#sk-container-id-4 input.sk-hidden--visually {border: 0;clip: rect(1px 1px 1px 1px);clip: rect(1px, 1px, 1px, 1px);height: 1px;margin: -1px;overflow: hidden;padding: 0;position: absolute;width: 1px;}#sk-container-id-4 div.sk-estimator {font-family: monospace;background-color: #f0f8ff;border: 1px dotted black;border-radius: 0.25em;box-sizing: border-box;margin-bottom: 0.5em;}#sk-container-id-4 div.sk-estimator:hover {background-color: #d4ebff;}#sk-container-id-4 div.sk-parallel-item::after {content: \"\";width: 100%;border-bottom: 1px solid gray;flex-grow: 1;}#sk-container-id-4 div.sk-label:hover label.sk-toggleable__label {background-color: #d4ebff;}#sk-container-id-4 div.sk-serial::before {content: \"\";position: absolute;border-left: 1px solid gray;box-sizing: border-box;top: 0;bottom: 0;left: 50%;z-index: 0;}#sk-container-id-4 div.sk-serial {display: flex;flex-direction: column;align-items: center;background-color: white;padding-right: 0.2em;padding-left: 0.2em;position: relative;}#sk-container-id-4 div.sk-item {position: relative;z-index: 1;}#sk-container-id-4 div.sk-parallel {display: flex;align-items: stretch;justify-content: center;background-color: white;position: relative;}#sk-container-id-4 div.sk-item::before, #sk-container-id-4 div.sk-parallel-item::before {content: \"\";position: absolute;border-left: 1px solid gray;box-sizing: border-box;top: 0;bottom: 0;left: 50%;z-index: -1;}#sk-container-id-4 div.sk-parallel-item {display: flex;flex-direction: column;z-index: 1;position: relative;background-color: white;}#sk-container-id-4 div.sk-parallel-item:first-child::after {align-self: flex-end;width: 50%;}#sk-container-id-4 div.sk-parallel-item:last-child::after {align-self: flex-start;width: 50%;}#sk-container-id-4 div.sk-parallel-item:only-child::after {width: 0;}#sk-container-id-4 div.sk-dashed-wrapped {border: 1px dashed gray;margin: 0 0.4em 0.5em 0.4em;box-sizing: border-box;padding-bottom: 0.4em;background-color: white;}#sk-container-id-4 div.sk-label label {font-family: monospace;font-weight: bold;display: inline-block;line-height: 1.2em;}#sk-container-id-4 div.sk-label-container {text-align: center;}#sk-container-id-4 div.sk-container {/* jupyter's `normalize.less` sets `[hidden] { display: none; }` but bootstrap.min.css set `[hidden] { display: none !important; }` so we also need the `!important` here to be able to override the default hidden behavior on the sphinx rendered scikit-learn.org. See: https://github.com/scikit-learn/scikit-learn/issues/21755 */display: inline-block !important;position: relative;}#sk-container-id-4 div.sk-text-repr-fallback {display: none;}</style><div id=\"sk-container-id-4\" class=\"sk-top-container\"><div class=\"sk-text-repr-fallback\"><pre>RandomForestRegressor(max_depth=20, max_features=&#x27;sqrt&#x27;, n_estimators=500,\n",
       "                      oob_score=True)</pre><b>In a Jupyter environment, please rerun this cell to show the HTML representation or trust the notebook. <br />On GitHub, the HTML representation is unable to render, please try loading this page with nbviewer.org.</b></div><div class=\"sk-container\" hidden><div class=\"sk-item\"><div class=\"sk-estimator sk-toggleable\"><input class=\"sk-toggleable__control sk-hidden--visually\" id=\"sk-estimator-id-6\" type=\"checkbox\" checked><label for=\"sk-estimator-id-6\" class=\"sk-toggleable__label sk-toggleable__label-arrow\">RandomForestRegressor</label><div class=\"sk-toggleable__content\"><pre>RandomForestRegressor(max_depth=20, max_features=&#x27;sqrt&#x27;, n_estimators=500,\n",
       "                      oob_score=True)</pre></div></div></div></div></div>"
      ],
      "text/plain": [
       "RandomForestRegressor(max_depth=20, max_features='sqrt', n_estimators=500,\n",
       "                      oob_score=True)"
      ]
     },
     "execution_count": 49,
     "metadata": {},
     "output_type": "execute_result"
    }
   ],
   "source": [
    "RF_oob = RandomForestRegressor(max_depth=20, max_features='sqrt', n_estimators=500, oob_score=True)\n",
    "RF_oob.fit(X_train, y_train)"
   ]
  },
  {
   "cell_type": "code",
   "execution_count": 50,
   "metadata": {},
   "outputs": [
    {
     "data": {
      "text/plain": [
       "0.7815493875377031"
      ]
     },
     "execution_count": 50,
     "metadata": {},
     "output_type": "execute_result"
    }
   ],
   "source": [
    "RF_oob.oob_score_"
   ]
  },
  {
   "cell_type": "markdown",
   "metadata": {},
   "source": [
    "---"
   ]
  },
  {
   "cell_type": "markdown",
   "metadata": {},
   "source": [
    "### Feature Importance"
   ]
  },
  {
   "cell_type": "code",
   "execution_count": 51,
   "metadata": {},
   "outputs": [
    {
     "data": {
      "text/plain": [
       "['DOM',\n",
       " 'Garage Capacity',\n",
       " 'HOA Fee',\n",
       " 'Irregular Shape',\n",
       " 'Quadrant',\n",
       " 'School District',\n",
       " 'Sold Terms',\n",
       " 'Total Bedrooms',\n",
       " 'Total Bathrooms',\n",
       " 'Total Square Feet',\n",
       " 'Year Built',\n",
       " 'Zip',\n",
       " 'year_sold',\n",
       " 'month_sold']"
      ]
     },
     "execution_count": 51,
     "metadata": {},
     "output_type": "execute_result"
    }
   ],
   "source": [
    "features = list(X_train.columns)\n",
    "features"
   ]
  },
  {
   "cell_type": "code",
   "execution_count": 52,
   "metadata": {},
   "outputs": [
    {
     "data": {
      "text/html": [
       "<style>#sk-container-id-5 {color: black;background-color: white;}#sk-container-id-5 pre{padding: 0;}#sk-container-id-5 div.sk-toggleable {background-color: white;}#sk-container-id-5 label.sk-toggleable__label {cursor: pointer;display: block;width: 100%;margin-bottom: 0;padding: 0.3em;box-sizing: border-box;text-align: center;}#sk-container-id-5 label.sk-toggleable__label-arrow:before {content: \"▸\";float: left;margin-right: 0.25em;color: #696969;}#sk-container-id-5 label.sk-toggleable__label-arrow:hover:before {color: black;}#sk-container-id-5 div.sk-estimator:hover label.sk-toggleable__label-arrow:before {color: black;}#sk-container-id-5 div.sk-toggleable__content {max-height: 0;max-width: 0;overflow: hidden;text-align: left;background-color: #f0f8ff;}#sk-container-id-5 div.sk-toggleable__content pre {margin: 0.2em;color: black;border-radius: 0.25em;background-color: #f0f8ff;}#sk-container-id-5 input.sk-toggleable__control:checked~div.sk-toggleable__content {max-height: 200px;max-width: 100%;overflow: auto;}#sk-container-id-5 input.sk-toggleable__control:checked~label.sk-toggleable__label-arrow:before {content: \"▾\";}#sk-container-id-5 div.sk-estimator input.sk-toggleable__control:checked~label.sk-toggleable__label {background-color: #d4ebff;}#sk-container-id-5 div.sk-label input.sk-toggleable__control:checked~label.sk-toggleable__label {background-color: #d4ebff;}#sk-container-id-5 input.sk-hidden--visually {border: 0;clip: rect(1px 1px 1px 1px);clip: rect(1px, 1px, 1px, 1px);height: 1px;margin: -1px;overflow: hidden;padding: 0;position: absolute;width: 1px;}#sk-container-id-5 div.sk-estimator {font-family: monospace;background-color: #f0f8ff;border: 1px dotted black;border-radius: 0.25em;box-sizing: border-box;margin-bottom: 0.5em;}#sk-container-id-5 div.sk-estimator:hover {background-color: #d4ebff;}#sk-container-id-5 div.sk-parallel-item::after {content: \"\";width: 100%;border-bottom: 1px solid gray;flex-grow: 1;}#sk-container-id-5 div.sk-label:hover label.sk-toggleable__label {background-color: #d4ebff;}#sk-container-id-5 div.sk-serial::before {content: \"\";position: absolute;border-left: 1px solid gray;box-sizing: border-box;top: 0;bottom: 0;left: 50%;z-index: 0;}#sk-container-id-5 div.sk-serial {display: flex;flex-direction: column;align-items: center;background-color: white;padding-right: 0.2em;padding-left: 0.2em;position: relative;}#sk-container-id-5 div.sk-item {position: relative;z-index: 1;}#sk-container-id-5 div.sk-parallel {display: flex;align-items: stretch;justify-content: center;background-color: white;position: relative;}#sk-container-id-5 div.sk-item::before, #sk-container-id-5 div.sk-parallel-item::before {content: \"\";position: absolute;border-left: 1px solid gray;box-sizing: border-box;top: 0;bottom: 0;left: 50%;z-index: -1;}#sk-container-id-5 div.sk-parallel-item {display: flex;flex-direction: column;z-index: 1;position: relative;background-color: white;}#sk-container-id-5 div.sk-parallel-item:first-child::after {align-self: flex-end;width: 50%;}#sk-container-id-5 div.sk-parallel-item:last-child::after {align-self: flex-start;width: 50%;}#sk-container-id-5 div.sk-parallel-item:only-child::after {width: 0;}#sk-container-id-5 div.sk-dashed-wrapped {border: 1px dashed gray;margin: 0 0.4em 0.5em 0.4em;box-sizing: border-box;padding-bottom: 0.4em;background-color: white;}#sk-container-id-5 div.sk-label label {font-family: monospace;font-weight: bold;display: inline-block;line-height: 1.2em;}#sk-container-id-5 div.sk-label-container {text-align: center;}#sk-container-id-5 div.sk-container {/* jupyter's `normalize.less` sets `[hidden] { display: none; }` but bootstrap.min.css set `[hidden] { display: none !important; }` so we also need the `!important` here to be able to override the default hidden behavior on the sphinx rendered scikit-learn.org. See: https://github.com/scikit-learn/scikit-learn/issues/21755 */display: inline-block !important;position: relative;}#sk-container-id-5 div.sk-text-repr-fallback {display: none;}</style><div id=\"sk-container-id-5\" class=\"sk-top-container\"><div class=\"sk-text-repr-fallback\"><pre>RandomForestRegressor(max_depth=20, max_features=&#x27;sqrt&#x27;, n_estimators=500,\n",
       "                      random_state=1000)</pre><b>In a Jupyter environment, please rerun this cell to show the HTML representation or trust the notebook. <br />On GitHub, the HTML representation is unable to render, please try loading this page with nbviewer.org.</b></div><div class=\"sk-container\" hidden><div class=\"sk-item\"><div class=\"sk-estimator sk-toggleable\"><input class=\"sk-toggleable__control sk-hidden--visually\" id=\"sk-estimator-id-7\" type=\"checkbox\" checked><label for=\"sk-estimator-id-7\" class=\"sk-toggleable__label sk-toggleable__label-arrow\">RandomForestRegressor</label><div class=\"sk-toggleable__content\"><pre>RandomForestRegressor(max_depth=20, max_features=&#x27;sqrt&#x27;, n_estimators=500,\n",
       "                      random_state=1000)</pre></div></div></div></div></div>"
      ],
      "text/plain": [
       "RandomForestRegressor(max_depth=20, max_features='sqrt', n_estimators=500,\n",
       "                      random_state=1000)"
      ]
     },
     "execution_count": 52,
     "metadata": {},
     "output_type": "execute_result"
    }
   ],
   "source": [
    "RF_Regressor = RandomForestRegressor(n_estimators = 500, max_features='sqrt', max_depth=20, random_state= rand_state)\n",
    "RF_Regressor.fit(X_train, y_train)"
   ]
  },
  {
   "cell_type": "code",
   "execution_count": 53,
   "metadata": {},
   "outputs": [
    {
     "data": {
      "text/plain": [
       "array([0.04270873, 0.15762993, 0.04294991, 0.00981058, 0.02096636,\n",
       "       0.01890072, 0.02908753, 0.0855662 , 0.10733285, 0.34693044,\n",
       "       0.05790082, 0.02612978, 0.02678065, 0.02730549])"
      ]
     },
     "execution_count": 53,
     "metadata": {},
     "output_type": "execute_result"
    }
   ],
   "source": [
    "importance = RF_Regressor.feature_importances_\n",
    "importance"
   ]
  },
  {
   "cell_type": "code",
   "execution_count": 54,
   "metadata": {},
   "outputs": [
    {
     "data": {
      "text/html": [
       "<div>\n",
       "<style scoped>\n",
       "    .dataframe tbody tr th:only-of-type {\n",
       "        vertical-align: middle;\n",
       "    }\n",
       "\n",
       "    .dataframe tbody tr th {\n",
       "        vertical-align: top;\n",
       "    }\n",
       "\n",
       "    .dataframe thead th {\n",
       "        text-align: right;\n",
       "    }\n",
       "</style>\n",
       "<table border=\"1\" class=\"dataframe\">\n",
       "  <thead>\n",
       "    <tr style=\"text-align: right;\">\n",
       "      <th></th>\n",
       "      <th>Features</th>\n",
       "      <th>Feature_importance</th>\n",
       "    </tr>\n",
       "  </thead>\n",
       "  <tbody>\n",
       "    <tr>\n",
       "      <th>3</th>\n",
       "      <td>Irregular Shape</td>\n",
       "      <td>0.009811</td>\n",
       "    </tr>\n",
       "    <tr>\n",
       "      <th>5</th>\n",
       "      <td>School District</td>\n",
       "      <td>0.018901</td>\n",
       "    </tr>\n",
       "    <tr>\n",
       "      <th>4</th>\n",
       "      <td>Quadrant</td>\n",
       "      <td>0.020966</td>\n",
       "    </tr>\n",
       "    <tr>\n",
       "      <th>11</th>\n",
       "      <td>Zip</td>\n",
       "      <td>0.026130</td>\n",
       "    </tr>\n",
       "    <tr>\n",
       "      <th>12</th>\n",
       "      <td>year_sold</td>\n",
       "      <td>0.026781</td>\n",
       "    </tr>\n",
       "    <tr>\n",
       "      <th>13</th>\n",
       "      <td>month_sold</td>\n",
       "      <td>0.027305</td>\n",
       "    </tr>\n",
       "    <tr>\n",
       "      <th>6</th>\n",
       "      <td>Sold Terms</td>\n",
       "      <td>0.029088</td>\n",
       "    </tr>\n",
       "    <tr>\n",
       "      <th>0</th>\n",
       "      <td>DOM</td>\n",
       "      <td>0.042709</td>\n",
       "    </tr>\n",
       "    <tr>\n",
       "      <th>2</th>\n",
       "      <td>HOA Fee</td>\n",
       "      <td>0.042950</td>\n",
       "    </tr>\n",
       "    <tr>\n",
       "      <th>10</th>\n",
       "      <td>Year Built</td>\n",
       "      <td>0.057901</td>\n",
       "    </tr>\n",
       "    <tr>\n",
       "      <th>7</th>\n",
       "      <td>Total Bedrooms</td>\n",
       "      <td>0.085566</td>\n",
       "    </tr>\n",
       "    <tr>\n",
       "      <th>8</th>\n",
       "      <td>Total Bathrooms</td>\n",
       "      <td>0.107333</td>\n",
       "    </tr>\n",
       "    <tr>\n",
       "      <th>1</th>\n",
       "      <td>Garage Capacity</td>\n",
       "      <td>0.157630</td>\n",
       "    </tr>\n",
       "    <tr>\n",
       "      <th>9</th>\n",
       "      <td>Total Square Feet</td>\n",
       "      <td>0.346930</td>\n",
       "    </tr>\n",
       "  </tbody>\n",
       "</table>\n",
       "</div>"
      ],
      "text/plain": [
       "             Features  Feature_importance\n",
       "3     Irregular Shape            0.009811\n",
       "5     School District            0.018901\n",
       "4            Quadrant            0.020966\n",
       "11                Zip            0.026130\n",
       "12          year_sold            0.026781\n",
       "13         month_sold            0.027305\n",
       "6          Sold Terms            0.029088\n",
       "0                 DOM            0.042709\n",
       "2             HOA Fee            0.042950\n",
       "10         Year Built            0.057901\n",
       "7      Total Bedrooms            0.085566\n",
       "8     Total Bathrooms            0.107333\n",
       "1     Garage Capacity            0.157630\n",
       "9   Total Square Feet            0.346930"
      ]
     },
     "execution_count": 54,
     "metadata": {},
     "output_type": "execute_result"
    }
   ],
   "source": [
    "FIM = pd.DataFrame({'Features': features, 'Feature_importance':importance})\n",
    "FIM = FIM.sort_values(by=['Feature_importance'])\n",
    "FIM"
   ]
  },
  {
   "cell_type": "code",
   "execution_count": 55,
   "metadata": {},
   "outputs": [
    {
     "data": {
      "image/png": "[encoded data removed]",
      "text/plain": [
       "<Figure size 1000x600 with 1 Axes>"
      ]
     },
     "metadata": {},
     "output_type": "display_data"
    }
   ],
   "source": [
    "plt.figure(figsize=(10,6))\n",
    "plt.title('Feature Importance')\n",
    "sns.barplot(y='Features', x='Feature_importance', data=FIM)\n",
    "plt.show()"
   ]
  },
  {
   "cell_type": "markdown",
   "metadata": {},
   "source": [
    "---\n",
    "---"
   ]
  },
  {
   "cell_type": "markdown",
   "metadata": {},
   "source": [
    "## Does more important feature mean more significant?"
   ]
  },
  {
   "cell_type": "code",
   "execution_count": 56,
   "metadata": {},
   "outputs": [],
   "source": [
    "import statsmodels.api as sm"
   ]
  },
  {
   "cell_type": "code",
   "execution_count": 57,
   "metadata": {},
   "outputs": [],
   "source": [
    "# With statsmodels, we need to mannually add a constant to our dataset!\n",
    "X_test_wc = sm.add_constant(X_test)\n",
    "X_train_wc = sm.add_constant(X_train)"
   ]
  },
  {
   "cell_type": "code",
   "execution_count": 58,
   "metadata": {},
   "outputs": [],
   "source": [
    "# Fit the model\n",
    "model = sm.OLS(y_train,X_train_wc)\n",
    "statsmodels_reg= model.fit()"
   ]
  },
  {
   "cell_type": "code",
   "execution_count": 59,
   "metadata": {},
   "outputs": [
    {
     "data": {
      "text/html": [
       "<table class=\"simpletable\">\n",
       "<caption>OLS Regression Results</caption>\n",
       "<tr>\n",
       "  <th>Dep. Variable:</th>       <td>Sold Price</td>    <th>  R-squared:         </th> <td>   0.755</td> \n",
       "</tr>\n",
       "<tr>\n",
       "  <th>Model:</th>                   <td>OLS</td>       <th>  Adj. R-squared:    </th> <td>   0.754</td> \n",
       "</tr>\n",
       "<tr>\n",
       "  <th>Method:</th>             <td>Least Squares</td>  <th>  F-statistic:       </th> <td>   630.4</td> \n",
       "</tr>\n",
       "<tr>\n",
       "  <th>Date:</th>             <td>Wed, 05 Apr 2023</td> <th>  Prob (F-statistic):</th>  <td>  0.00</td>  \n",
       "</tr>\n",
       "<tr>\n",
       "  <th>Time:</th>                 <td>10:48:14</td>     <th>  Log-Likelihood:    </th> <td> -35655.</td> \n",
       "</tr>\n",
       "<tr>\n",
       "  <th>No. Observations:</th>      <td>  2875</td>      <th>  AIC:               </th> <td>7.134e+04</td>\n",
       "</tr>\n",
       "<tr>\n",
       "  <th>Df Residuals:</th>          <td>  2860</td>      <th>  BIC:               </th> <td>7.143e+04</td>\n",
       "</tr>\n",
       "<tr>\n",
       "  <th>Df Model:</th>              <td>    14</td>      <th>                     </th>     <td> </td>    \n",
       "</tr>\n",
       "<tr>\n",
       "  <th>Covariance Type:</th>      <td>nonrobust</td>    <th>                     </th>     <td> </td>    \n",
       "</tr>\n",
       "</table>\n",
       "<table class=\"simpletable\">\n",
       "<tr>\n",
       "          <td></td>             <th>coef</th>     <th>std err</th>      <th>t</th>      <th>P>|t|</th>  <th>[0.025</th>    <th>0.975]</th>  \n",
       "</tr>\n",
       "<tr>\n",
       "  <th>const</th>             <td>-4.985e+07</td> <td> 2.75e+06</td> <td>  -18.151</td> <td> 0.000</td> <td>-5.52e+07</td> <td>-4.45e+07</td>\n",
       "</tr>\n",
       "<tr>\n",
       "  <th>DOM</th>               <td>  -55.1928</td> <td>   22.736</td> <td>   -2.428</td> <td> 0.015</td> <td>  -99.773</td> <td>  -10.612</td>\n",
       "</tr>\n",
       "<tr>\n",
       "  <th>Garage Capacity</th>   <td> 1.942e+04</td> <td> 1286.898</td> <td>   15.088</td> <td> 0.000</td> <td> 1.69e+04</td> <td> 2.19e+04</td>\n",
       "</tr>\n",
       "<tr>\n",
       "  <th>HOA Fee</th>           <td>    1.0187</td> <td>   17.429</td> <td>    0.058</td> <td> 0.953</td> <td>  -33.156</td> <td>   35.194</td>\n",
       "</tr>\n",
       "<tr>\n",
       "  <th>Irregular Shape</th>   <td> 1.348e+04</td> <td> 3881.799</td> <td>    3.472</td> <td> 0.001</td> <td> 5866.477</td> <td> 2.11e+04</td>\n",
       "</tr>\n",
       "<tr>\n",
       "  <th>Quadrant</th>          <td> 5508.5054</td> <td> 1044.865</td> <td>    5.272</td> <td> 0.000</td> <td> 3459.741</td> <td> 7557.270</td>\n",
       "</tr>\n",
       "<tr>\n",
       "  <th>School District</th>   <td>-7499.6621</td> <td> 2558.191</td> <td>   -2.932</td> <td> 0.003</td> <td>-1.25e+04</td> <td>-2483.577</td>\n",
       "</tr>\n",
       "<tr>\n",
       "  <th>Sold Terms</th>        <td> -660.7414</td> <td>  977.467</td> <td>   -0.676</td> <td> 0.499</td> <td>-2577.353</td> <td> 1255.870</td>\n",
       "</tr>\n",
       "<tr>\n",
       "  <th>Total Bedrooms</th>    <td> 1000.4834</td> <td> 1345.759</td> <td>    0.743</td> <td> 0.457</td> <td>-1638.272</td> <td> 3639.239</td>\n",
       "</tr>\n",
       "<tr>\n",
       "  <th>Total Bathrooms</th>   <td> 2022.8305</td> <td> 1987.773</td> <td>    1.018</td> <td> 0.309</td> <td>-1874.783</td> <td> 5920.444</td>\n",
       "</tr>\n",
       "<tr>\n",
       "  <th>Total Square Feet</th> <td>   80.6931</td> <td>    1.752</td> <td>   46.065</td> <td> 0.000</td> <td>   77.258</td> <td>   84.128</td>\n",
       "</tr>\n",
       "<tr>\n",
       "  <th>Year Built</th>        <td>  113.5147</td> <td>   45.989</td> <td>    2.468</td> <td> 0.014</td> <td>   23.340</td> <td>  203.689</td>\n",
       "</tr>\n",
       "<tr>\n",
       "  <th>Zip</th>               <td>  459.4171</td> <td>  268.915</td> <td>    1.708</td> <td> 0.088</td> <td>  -67.869</td> <td>  986.703</td>\n",
       "</tr>\n",
       "<tr>\n",
       "  <th>year_sold</th>         <td> 2.459e+04</td> <td> 1361.057</td> <td>   18.065</td> <td> 0.000</td> <td> 2.19e+04</td> <td> 2.73e+04</td>\n",
       "</tr>\n",
       "<tr>\n",
       "  <th>month_sold</th>        <td> 2835.0534</td> <td>  365.969</td> <td>    7.747</td> <td> 0.000</td> <td> 2117.464</td> <td> 3552.643</td>\n",
       "</tr>\n",
       "</table>\n",
       "<table class=\"simpletable\">\n",
       "<tr>\n",
       "  <th>Omnibus:</th>       <td>3540.895</td> <th>  Durbin-Watson:     </th>  <td>   1.964</td>  \n",
       "</tr>\n",
       "<tr>\n",
       "  <th>Prob(Omnibus):</th>  <td> 0.000</td>  <th>  Jarque-Bera (JB):  </th> <td>1530235.354</td>\n",
       "</tr>\n",
       "<tr>\n",
       "  <th>Skew:</th>           <td> 6.092</td>  <th>  Prob(JB):          </th>  <td>    0.00</td>  \n",
       "</tr>\n",
       "<tr>\n",
       "  <th>Kurtosis:</th>       <td>115.364</td> <th>  Cond. No.          </th>  <td>9.39e+06</td>  \n",
       "</tr>\n",
       "</table><br/><br/>Notes:<br/>[1] Standard Errors assume that the covariance matrix of the errors is correctly specified.<br/>[2] The condition number is large, 9.39e+06. This might indicate that there are<br/>strong multicollinearity or other numerical problems."
      ],
      "text/plain": [
       "<class 'statsmodels.iolib.summary.Summary'>\n",
       "\"\"\"\n",
       "                            OLS Regression Results                            \n",
       "==============================================================================\n",
       "Dep. Variable:             Sold Price   R-squared:                       0.755\n",
       "Model:                            OLS   Adj. R-squared:                  0.754\n",
       "Method:                 Least Squares   F-statistic:                     630.4\n",
       "Date:                Wed, 05 Apr 2023   Prob (F-statistic):               0.00\n",
       "Time:                        10:48:14   Log-Likelihood:                -35655.\n",
       "No. Observations:                2875   AIC:                         7.134e+04\n",
       "Df Residuals:                    2860   BIC:                         7.143e+04\n",
       "Df Model:                          14                                         \n",
       "Covariance Type:            nonrobust                                         \n",
       "=====================================================================================\n",
       "                        coef    std err          t      P>|t|      [0.025      0.975]\n",
       "-------------------------------------------------------------------------------------\n",
       "const             -4.985e+07   2.75e+06    -18.151      0.000   -5.52e+07   -4.45e+07\n",
       "DOM                 -55.1928     22.736     -2.428      0.015     -99.773     -10.612\n",
       "Garage Capacity    1.942e+04   1286.898     15.088      0.000    1.69e+04    2.19e+04\n",
       "HOA Fee               1.0187     17.429      0.058      0.953     -33.156      35.194\n",
       "Irregular Shape    1.348e+04   3881.799      3.472      0.001    5866.477    2.11e+04\n",
       "Quadrant           5508.5054   1044.865      5.272      0.000    3459.741    7557.270\n",
       "School District   -7499.6621   2558.191     -2.932      0.003   -1.25e+04   -2483.577\n",
       "Sold Terms         -660.7414    977.467     -0.676      0.499   -2577.353    1255.870\n",
       "Total Bedrooms     1000.4834   1345.759      0.743      0.457   -1638.272    3639.239\n",
       "Total Bathrooms    2022.8305   1987.773      1.018      0.309   -1874.783    5920.444\n",
       "Total Square Feet    80.6931      1.752     46.065      0.000      77.258      84.128\n",
       "Year Built          113.5147     45.989      2.468      0.014      23.340     203.689\n",
       "Zip                 459.4171    268.915      1.708      0.088     -67.869     986.703\n",
       "year_sold          2.459e+04   1361.057     18.065      0.000    2.19e+04    2.73e+04\n",
       "month_sold         2835.0534    365.969      7.747      0.000    2117.464    3552.643\n",
       "==============================================================================\n",
       "Omnibus:                     3540.895   Durbin-Watson:                   1.964\n",
       "Prob(Omnibus):                  0.000   Jarque-Bera (JB):          1530235.354\n",
       "Skew:                           6.092   Prob(JB):                         0.00\n",
       "Kurtosis:                     115.364   Cond. No.                     9.39e+06\n",
       "==============================================================================\n",
       "\n",
       "Notes:\n",
       "[1] Standard Errors assume that the covariance matrix of the errors is correctly specified.\n",
       "[2] The condition number is large, 9.39e+06. This might indicate that there are\n",
       "strong multicollinearity or other numerical problems.\n",
       "\"\"\""
      ]
     },
     "execution_count": 59,
     "metadata": {},
     "output_type": "execute_result"
    }
   ],
   "source": [
    "statsmodels_reg.summary()"
   ]
  },
  {
   "cell_type": "markdown",
   "metadata": {},
   "source": [
    "---\n",
    "---\n",
    "# PyCaret\n",
    "\n",
    "1. **PyCaret**: https://pycaret.readthedocs.io/en/latest/index.html PyCaret3.0\n",
    "2. **scikit-learn**: https://scikit-learn.org/stable/index.html\n",
    "3. **PyCaret model containers** : https://github.com/pycaret/pycaret/tree/master/pycaret/containers/models"
   ]
  },
  {
   "cell_type": "markdown",
   "metadata": {},
   "source": [
    "# Installation"
   ]
  },
  {
   "cell_type": "markdown",
   "metadata": {},
   "source": [
    "Follow the steps here: https://pycaret.gitbook.io/docs/get-started/installation\n"
   ]
  },
  {
   "cell_type": "code",
   "execution_count": 1,
   "metadata": {},
   "outputs": [],
   "source": [
    "#only if you want to run it in Google Colab: \n",
    "# for this chapter, we can install the light version of PyCaret as below. \n",
    "\n",
    "# !pip install pycaret"
   ]
  },
  {
   "cell_type": "code",
   "execution_count": 69,
   "metadata": {},
   "outputs": [
    {
     "data": {
      "text/plain": [
       "'3.0.0'"
      ]
     },
     "execution_count": 69,
     "metadata": {},
     "output_type": "execute_result"
    }
   ],
   "source": [
    "# if you got a warning that you need to \"RESTART RUNTIME\", go ahead and press that button. \n",
    "\n",
    "# let's double ckeck the Pycaret version: \n",
    "from pycaret.utils import version\n",
    "version()"
   ]
  },
  {
   "cell_type": "code",
   "execution_count": 70,
   "metadata": {},
   "outputs": [],
   "source": [
    "df_py = pd.read_csv('https://raw.githubusercontent.com/PJalgotrader/Machine_Learning-USU/main/data/Logan_housing.csv')"
   ]
  },
  {
   "cell_type": "code",
   "execution_count": 71,
   "metadata": {},
   "outputs": [
    {
     "data": {
      "text/html": [
       "<div>\n",
       "<style scoped>\n",
       "    .dataframe tbody tr th:only-of-type {\n",
       "        vertical-align: middle;\n",
       "    }\n",
       "\n",
       "    .dataframe tbody tr th {\n",
       "        vertical-align: top;\n",
       "    }\n",
       "\n",
       "    .dataframe thead th {\n",
       "        text-align: right;\n",
       "    }\n",
       "</style>\n",
       "<table border=\"1\" class=\"dataframe\">\n",
       "  <thead>\n",
       "    <tr style=\"text-align: right;\">\n",
       "      <th></th>\n",
       "      <th>Sold Price</th>\n",
       "      <th>DOM</th>\n",
       "      <th>Garage Capacity</th>\n",
       "      <th>HOA Fee</th>\n",
       "      <th>Irregular Shape</th>\n",
       "      <th>Quadrant</th>\n",
       "      <th>School District</th>\n",
       "      <th>Sold Terms</th>\n",
       "      <th>Total Bedrooms</th>\n",
       "      <th>Total Bathrooms</th>\n",
       "      <th>Total Square Feet</th>\n",
       "      <th>Year Built</th>\n",
       "      <th>Zip</th>\n",
       "      <th>year_sold</th>\n",
       "      <th>month_sold</th>\n",
       "      <th>built_after_2000</th>\n",
       "    </tr>\n",
       "  </thead>\n",
       "  <tbody>\n",
       "    <tr>\n",
       "      <th>0</th>\n",
       "      <td>176000</td>\n",
       "      <td>5</td>\n",
       "      <td>2</td>\n",
       "      <td>0</td>\n",
       "      <td>No</td>\n",
       "      <td>NW</td>\n",
       "      <td>Cache</td>\n",
       "      <td>FHA</td>\n",
       "      <td>3</td>\n",
       "      <td>1</td>\n",
       "      <td>1031</td>\n",
       "      <td>1974</td>\n",
       "      <td>84335</td>\n",
       "      <td>2018</td>\n",
       "      <td>9</td>\n",
       "      <td>0</td>\n",
       "    </tr>\n",
       "    <tr>\n",
       "      <th>1</th>\n",
       "      <td>225000</td>\n",
       "      <td>6</td>\n",
       "      <td>2</td>\n",
       "      <td>0</td>\n",
       "      <td>No</td>\n",
       "      <td>NW</td>\n",
       "      <td>Cache</td>\n",
       "      <td>Conventional</td>\n",
       "      <td>4</td>\n",
       "      <td>2</td>\n",
       "      <td>2091</td>\n",
       "      <td>1995</td>\n",
       "      <td>84335</td>\n",
       "      <td>2018</td>\n",
       "      <td>7</td>\n",
       "      <td>0</td>\n",
       "    </tr>\n",
       "    <tr>\n",
       "      <th>2</th>\n",
       "      <td>274900</td>\n",
       "      <td>14</td>\n",
       "      <td>2</td>\n",
       "      <td>0</td>\n",
       "      <td>No</td>\n",
       "      <td>NW</td>\n",
       "      <td>Cache</td>\n",
       "      <td>Conventional</td>\n",
       "      <td>3</td>\n",
       "      <td>1</td>\n",
       "      <td>2016</td>\n",
       "      <td>1980</td>\n",
       "      <td>84335</td>\n",
       "      <td>2018</td>\n",
       "      <td>11</td>\n",
       "      <td>0</td>\n",
       "    </tr>\n",
       "    <tr>\n",
       "      <th>3</th>\n",
       "      <td>175000</td>\n",
       "      <td>16</td>\n",
       "      <td>1</td>\n",
       "      <td>0</td>\n",
       "      <td>No</td>\n",
       "      <td>NW</td>\n",
       "      <td>Cache</td>\n",
       "      <td>USDA Rural Development</td>\n",
       "      <td>4</td>\n",
       "      <td>1</td>\n",
       "      <td>1920</td>\n",
       "      <td>1978</td>\n",
       "      <td>84335</td>\n",
       "      <td>2018</td>\n",
       "      <td>6</td>\n",
       "      <td>0</td>\n",
       "    </tr>\n",
       "    <tr>\n",
       "      <th>4</th>\n",
       "      <td>179000</td>\n",
       "      <td>29</td>\n",
       "      <td>0</td>\n",
       "      <td>0</td>\n",
       "      <td>No</td>\n",
       "      <td>NW</td>\n",
       "      <td>Cache</td>\n",
       "      <td>Cash</td>\n",
       "      <td>4</td>\n",
       "      <td>2</td>\n",
       "      <td>1329</td>\n",
       "      <td>1976</td>\n",
       "      <td>84335</td>\n",
       "      <td>2018</td>\n",
       "      <td>9</td>\n",
       "      <td>0</td>\n",
       "    </tr>\n",
       "  </tbody>\n",
       "</table>\n",
       "</div>"
      ],
      "text/plain": [
       "   Sold Price  DOM  Garage Capacity  HOA Fee Irregular Shape Quadrant  \\\n",
       "0      176000    5                2        0              No       NW   \n",
       "1      225000    6                2        0              No       NW   \n",
       "2      274900   14                2        0              No       NW   \n",
       "3      175000   16                1        0              No       NW   \n",
       "4      179000   29                0        0              No       NW   \n",
       "\n",
       "  School District              Sold Terms  Total Bedrooms  Total Bathrooms  \\\n",
       "0           Cache                     FHA               3                1   \n",
       "1           Cache            Conventional               4                2   \n",
       "2           Cache            Conventional               3                1   \n",
       "3           Cache  USDA Rural Development               4                1   \n",
       "4           Cache                    Cash               4                2   \n",
       "\n",
       "   Total Square Feet  Year Built    Zip  year_sold  month_sold  \\\n",
       "0               1031        1974  84335       2018           9   \n",
       "1               2091        1995  84335       2018           7   \n",
       "2               2016        1980  84335       2018          11   \n",
       "3               1920        1978  84335       2018           6   \n",
       "4               1329        1976  84335       2018           9   \n",
       "\n",
       "   built_after_2000  \n",
       "0                 0  \n",
       "1                 0  \n",
       "2                 0  \n",
       "3                 0  \n",
       "4                 0  "
      ]
     },
     "execution_count": 71,
     "metadata": {},
     "output_type": "execute_result"
    }
   ],
   "source": [
    "df_py.head()"
   ]
  },
  {
   "cell_type": "code",
   "execution_count": 72,
   "metadata": {},
   "outputs": [],
   "source": [
    "from pycaret.regression import *\n"
   ]
  },
  {
   "cell_type": "code",
   "execution_count": 73,
   "metadata": {},
   "outputs": [
    {
     "data": {
      "text/html": [
       "<style type=\"text/css\">\n",
       "#T_78a35_row10_col1 {\n",
       "  background-color: lightgreen;\n",
       "}\n",
       "</style>\n",
       "<table id=\"T_78a35\">\n",
       "  <thead>\n",
       "    <tr>\n",
       "      <th class=\"blank level0\" >&nbsp;</th>\n",
       "      <th id=\"T_78a35_level0_col0\" class=\"col_heading level0 col0\" >Description</th>\n",
       "      <th id=\"T_78a35_level0_col1\" class=\"col_heading level0 col1\" >Value</th>\n",
       "    </tr>\n",
       "  </thead>\n",
       "  <tbody>\n",
       "    <tr>\n",
       "      <th id=\"T_78a35_level0_row0\" class=\"row_heading level0 row0\" >0</th>\n",
       "      <td id=\"T_78a35_row0_col0\" class=\"data row0 col0\" >Session id</td>\n",
       "      <td id=\"T_78a35_row0_col1\" class=\"data row0 col1\" >555</td>\n",
       "    </tr>\n",
       "    <tr>\n",
       "      <th id=\"T_78a35_level0_row1\" class=\"row_heading level0 row1\" >1</th>\n",
       "      <td id=\"T_78a35_row1_col0\" class=\"data row1 col0\" >Target</td>\n",
       "      <td id=\"T_78a35_row1_col1\" class=\"data row1 col1\" >Sold Price</td>\n",
       "    </tr>\n",
       "    <tr>\n",
       "      <th id=\"T_78a35_level0_row2\" class=\"row_heading level0 row2\" >2</th>\n",
       "      <td id=\"T_78a35_row2_col0\" class=\"data row2 col0\" >Target type</td>\n",
       "      <td id=\"T_78a35_row2_col1\" class=\"data row2 col1\" >Regression</td>\n",
       "    </tr>\n",
       "    <tr>\n",
       "      <th id=\"T_78a35_level0_row3\" class=\"row_heading level0 row3\" >3</th>\n",
       "      <td id=\"T_78a35_row3_col0\" class=\"data row3 col0\" >Original data shape</td>\n",
       "      <td id=\"T_78a35_row3_col1\" class=\"data row3 col1\" >(4110, 16)</td>\n",
       "    </tr>\n",
       "    <tr>\n",
       "      <th id=\"T_78a35_level0_row4\" class=\"row_heading level0 row4\" >4</th>\n",
       "      <td id=\"T_78a35_row4_col0\" class=\"data row4 col0\" >Transformed data shape</td>\n",
       "      <td id=\"T_78a35_row4_col1\" class=\"data row4 col1\" >(4110, 24)</td>\n",
       "    </tr>\n",
       "    <tr>\n",
       "      <th id=\"T_78a35_level0_row5\" class=\"row_heading level0 row5\" >5</th>\n",
       "      <td id=\"T_78a35_row5_col0\" class=\"data row5 col0\" >Transformed train set shape</td>\n",
       "      <td id=\"T_78a35_row5_col1\" class=\"data row5 col1\" >(2877, 24)</td>\n",
       "    </tr>\n",
       "    <tr>\n",
       "      <th id=\"T_78a35_level0_row6\" class=\"row_heading level0 row6\" >6</th>\n",
       "      <td id=\"T_78a35_row6_col0\" class=\"data row6 col0\" >Transformed test set shape</td>\n",
       "      <td id=\"T_78a35_row6_col1\" class=\"data row6 col1\" >(1233, 24)</td>\n",
       "    </tr>\n",
       "    <tr>\n",
       "      <th id=\"T_78a35_level0_row7\" class=\"row_heading level0 row7\" >7</th>\n",
       "      <td id=\"T_78a35_row7_col0\" class=\"data row7 col0\" >Ordinal features</td>\n",
       "      <td id=\"T_78a35_row7_col1\" class=\"data row7 col1\" >2</td>\n",
       "    </tr>\n",
       "    <tr>\n",
       "      <th id=\"T_78a35_level0_row8\" class=\"row_heading level0 row8\" >8</th>\n",
       "      <td id=\"T_78a35_row8_col0\" class=\"data row8 col0\" >Numeric features</td>\n",
       "      <td id=\"T_78a35_row8_col1\" class=\"data row8 col1\" >11</td>\n",
       "    </tr>\n",
       "    <tr>\n",
       "      <th id=\"T_78a35_level0_row9\" class=\"row_heading level0 row9\" >9</th>\n",
       "      <td id=\"T_78a35_row9_col0\" class=\"data row9 col0\" >Categorical features</td>\n",
       "      <td id=\"T_78a35_row9_col1\" class=\"data row9 col1\" >4</td>\n",
       "    </tr>\n",
       "    <tr>\n",
       "      <th id=\"T_78a35_level0_row10\" class=\"row_heading level0 row10\" >10</th>\n",
       "      <td id=\"T_78a35_row10_col0\" class=\"data row10 col0\" >Preprocess</td>\n",
       "      <td id=\"T_78a35_row10_col1\" class=\"data row10 col1\" >True</td>\n",
       "    </tr>\n",
       "    <tr>\n",
       "      <th id=\"T_78a35_level0_row11\" class=\"row_heading level0 row11\" >11</th>\n",
       "      <td id=\"T_78a35_row11_col0\" class=\"data row11 col0\" >Imputation type</td>\n",
       "      <td id=\"T_78a35_row11_col1\" class=\"data row11 col1\" >simple</td>\n",
       "    </tr>\n",
       "    <tr>\n",
       "      <th id=\"T_78a35_level0_row12\" class=\"row_heading level0 row12\" >12</th>\n",
       "      <td id=\"T_78a35_row12_col0\" class=\"data row12 col0\" >Numeric imputation</td>\n",
       "      <td id=\"T_78a35_row12_col1\" class=\"data row12 col1\" >mean</td>\n",
       "    </tr>\n",
       "    <tr>\n",
       "      <th id=\"T_78a35_level0_row13\" class=\"row_heading level0 row13\" >13</th>\n",
       "      <td id=\"T_78a35_row13_col0\" class=\"data row13 col0\" >Categorical imputation</td>\n",
       "      <td id=\"T_78a35_row13_col1\" class=\"data row13 col1\" >mode</td>\n",
       "    </tr>\n",
       "    <tr>\n",
       "      <th id=\"T_78a35_level0_row14\" class=\"row_heading level0 row14\" >14</th>\n",
       "      <td id=\"T_78a35_row14_col0\" class=\"data row14 col0\" >Maximum one-hot encoding</td>\n",
       "      <td id=\"T_78a35_row14_col1\" class=\"data row14 col1\" >25</td>\n",
       "    </tr>\n",
       "    <tr>\n",
       "      <th id=\"T_78a35_level0_row15\" class=\"row_heading level0 row15\" >15</th>\n",
       "      <td id=\"T_78a35_row15_col0\" class=\"data row15 col0\" >Encoding method</td>\n",
       "      <td id=\"T_78a35_row15_col1\" class=\"data row15 col1\" >None</td>\n",
       "    </tr>\n",
       "    <tr>\n",
       "      <th id=\"T_78a35_level0_row16\" class=\"row_heading level0 row16\" >16</th>\n",
       "      <td id=\"T_78a35_row16_col0\" class=\"data row16 col0\" >Fold Generator</td>\n",
       "      <td id=\"T_78a35_row16_col1\" class=\"data row16 col1\" >KFold</td>\n",
       "    </tr>\n",
       "    <tr>\n",
       "      <th id=\"T_78a35_level0_row17\" class=\"row_heading level0 row17\" >17</th>\n",
       "      <td id=\"T_78a35_row17_col0\" class=\"data row17 col0\" >Fold Number</td>\n",
       "      <td id=\"T_78a35_row17_col1\" class=\"data row17 col1\" >10</td>\n",
       "    </tr>\n",
       "    <tr>\n",
       "      <th id=\"T_78a35_level0_row18\" class=\"row_heading level0 row18\" >18</th>\n",
       "      <td id=\"T_78a35_row18_col0\" class=\"data row18 col0\" >CPU Jobs</td>\n",
       "      <td id=\"T_78a35_row18_col1\" class=\"data row18 col1\" >-1</td>\n",
       "    </tr>\n",
       "    <tr>\n",
       "      <th id=\"T_78a35_level0_row19\" class=\"row_heading level0 row19\" >19</th>\n",
       "      <td id=\"T_78a35_row19_col0\" class=\"data row19 col0\" >Use GPU</td>\n",
       "      <td id=\"T_78a35_row19_col1\" class=\"data row19 col1\" >False</td>\n",
       "    </tr>\n",
       "    <tr>\n",
       "      <th id=\"T_78a35_level0_row20\" class=\"row_heading level0 row20\" >20</th>\n",
       "      <td id=\"T_78a35_row20_col0\" class=\"data row20 col0\" >Log Experiment</td>\n",
       "      <td id=\"T_78a35_row20_col1\" class=\"data row20 col1\" >False</td>\n",
       "    </tr>\n",
       "    <tr>\n",
       "      <th id=\"T_78a35_level0_row21\" class=\"row_heading level0 row21\" >21</th>\n",
       "      <td id=\"T_78a35_row21_col0\" class=\"data row21 col0\" >Experiment Name</td>\n",
       "      <td id=\"T_78a35_row21_col1\" class=\"data row21 col1\" >reg-default-name</td>\n",
       "    </tr>\n",
       "    <tr>\n",
       "      <th id=\"T_78a35_level0_row22\" class=\"row_heading level0 row22\" >22</th>\n",
       "      <td id=\"T_78a35_row22_col0\" class=\"data row22 col0\" >USI</td>\n",
       "      <td id=\"T_78a35_row22_col1\" class=\"data row22 col1\" >28ba</td>\n",
       "    </tr>\n",
       "  </tbody>\n",
       "</table>\n"
      ],
      "text/plain": [
       "<pandas.io.formats.style.Styler at 0x241584f6e60>"
      ]
     },
     "metadata": {},
     "output_type": "display_data"
    },
    {
     "data": {
      "text/plain": [
       "<pycaret.regression.oop.RegressionExperiment at 0x241582cb2e0>"
      ]
     },
     "execution_count": 73,
     "metadata": {},
     "output_type": "execute_result"
    }
   ],
   "source": [
    "setup(data=df_py,  target='Sold Price', session_id=555, train_size=0.7, preprocess=True)\n"
   ]
  },
  {
   "cell_type": "code",
   "execution_count": 74,
   "metadata": {},
   "outputs": [
    {
     "data": {
      "text/html": [
       "<div>\n",
       "<style scoped>\n",
       "    .dataframe tbody tr th:only-of-type {\n",
       "        vertical-align: middle;\n",
       "    }\n",
       "\n",
       "    .dataframe tbody tr th {\n",
       "        vertical-align: top;\n",
       "    }\n",
       "\n",
       "    .dataframe thead th {\n",
       "        text-align: right;\n",
       "    }\n",
       "</style>\n",
       "<table border=\"1\" class=\"dataframe\">\n",
       "  <thead>\n",
       "    <tr style=\"text-align: right;\">\n",
       "      <th></th>\n",
       "      <th>Name</th>\n",
       "      <th>Reference</th>\n",
       "      <th>Turbo</th>\n",
       "    </tr>\n",
       "    <tr>\n",
       "      <th>ID</th>\n",
       "      <th></th>\n",
       "      <th></th>\n",
       "      <th></th>\n",
       "    </tr>\n",
       "  </thead>\n",
       "  <tbody>\n",
       "    <tr>\n",
       "      <th>lr</th>\n",
       "      <td>Linear Regression</td>\n",
       "      <td>sklearn.linear_model._base.LinearRegression</td>\n",
       "      <td>True</td>\n",
       "    </tr>\n",
       "    <tr>\n",
       "      <th>lasso</th>\n",
       "      <td>Lasso Regression</td>\n",
       "      <td>sklearn.linear_model._coordinate_descent.Lasso</td>\n",
       "      <td>True</td>\n",
       "    </tr>\n",
       "    <tr>\n",
       "      <th>ridge</th>\n",
       "      <td>Ridge Regression</td>\n",
       "      <td>sklearn.linear_model._ridge.Ridge</td>\n",
       "      <td>True</td>\n",
       "    </tr>\n",
       "    <tr>\n",
       "      <th>en</th>\n",
       "      <td>Elastic Net</td>\n",
       "      <td>sklearn.linear_model._coordinate_descent.Elast...</td>\n",
       "      <td>True</td>\n",
       "    </tr>\n",
       "    <tr>\n",
       "      <th>lar</th>\n",
       "      <td>Least Angle Regression</td>\n",
       "      <td>sklearn.linear_model._least_angle.Lars</td>\n",
       "      <td>True</td>\n",
       "    </tr>\n",
       "    <tr>\n",
       "      <th>llar</th>\n",
       "      <td>Lasso Least Angle Regression</td>\n",
       "      <td>sklearn.linear_model._least_angle.LassoLars</td>\n",
       "      <td>True</td>\n",
       "    </tr>\n",
       "    <tr>\n",
       "      <th>omp</th>\n",
       "      <td>Orthogonal Matching Pursuit</td>\n",
       "      <td>sklearn.linear_model._omp.OrthogonalMatchingPu...</td>\n",
       "      <td>True</td>\n",
       "    </tr>\n",
       "    <tr>\n",
       "      <th>br</th>\n",
       "      <td>Bayesian Ridge</td>\n",
       "      <td>sklearn.linear_model._bayes.BayesianRidge</td>\n",
       "      <td>True</td>\n",
       "    </tr>\n",
       "    <tr>\n",
       "      <th>ard</th>\n",
       "      <td>Automatic Relevance Determination</td>\n",
       "      <td>sklearn.linear_model._bayes.ARDRegression</td>\n",
       "      <td>False</td>\n",
       "    </tr>\n",
       "    <tr>\n",
       "      <th>par</th>\n",
       "      <td>Passive Aggressive Regressor</td>\n",
       "      <td>sklearn.linear_model._passive_aggressive.Passi...</td>\n",
       "      <td>True</td>\n",
       "    </tr>\n",
       "    <tr>\n",
       "      <th>ransac</th>\n",
       "      <td>Random Sample Consensus</td>\n",
       "      <td>sklearn.linear_model._ransac.RANSACRegressor</td>\n",
       "      <td>False</td>\n",
       "    </tr>\n",
       "    <tr>\n",
       "      <th>tr</th>\n",
       "      <td>TheilSen Regressor</td>\n",
       "      <td>sklearn.linear_model._theil_sen.TheilSenRegressor</td>\n",
       "      <td>False</td>\n",
       "    </tr>\n",
       "    <tr>\n",
       "      <th>huber</th>\n",
       "      <td>Huber Regressor</td>\n",
       "      <td>sklearn.linear_model._huber.HuberRegressor</td>\n",
       "      <td>True</td>\n",
       "    </tr>\n",
       "    <tr>\n",
       "      <th>kr</th>\n",
       "      <td>Kernel Ridge</td>\n",
       "      <td>sklearn.kernel_ridge.KernelRidge</td>\n",
       "      <td>False</td>\n",
       "    </tr>\n",
       "    <tr>\n",
       "      <th>svm</th>\n",
       "      <td>Support Vector Regression</td>\n",
       "      <td>sklearn.svm._classes.SVR</td>\n",
       "      <td>False</td>\n",
       "    </tr>\n",
       "    <tr>\n",
       "      <th>knn</th>\n",
       "      <td>K Neighbors Regressor</td>\n",
       "      <td>sklearn.neighbors._regression.KNeighborsRegressor</td>\n",
       "      <td>True</td>\n",
       "    </tr>\n",
       "    <tr>\n",
       "      <th>dt</th>\n",
       "      <td>Decision Tree Regressor</td>\n",
       "      <td>sklearn.tree._classes.DecisionTreeRegressor</td>\n",
       "      <td>True</td>\n",
       "    </tr>\n",
       "    <tr>\n",
       "      <th>rf</th>\n",
       "      <td>Random Forest Regressor</td>\n",
       "      <td>sklearn.ensemble._forest.RandomForestRegressor</td>\n",
       "      <td>True</td>\n",
       "    </tr>\n",
       "    <tr>\n",
       "      <th>et</th>\n",
       "      <td>Extra Trees Regressor</td>\n",
       "      <td>sklearn.ensemble._forest.ExtraTreesRegressor</td>\n",
       "      <td>True</td>\n",
       "    </tr>\n",
       "    <tr>\n",
       "      <th>ada</th>\n",
       "      <td>AdaBoost Regressor</td>\n",
       "      <td>sklearn.ensemble._weight_boosting.AdaBoostRegr...</td>\n",
       "      <td>True</td>\n",
       "    </tr>\n",
       "    <tr>\n",
       "      <th>gbr</th>\n",
       "      <td>Gradient Boosting Regressor</td>\n",
       "      <td>sklearn.ensemble._gb.GradientBoostingRegressor</td>\n",
       "      <td>True</td>\n",
       "    </tr>\n",
       "    <tr>\n",
       "      <th>mlp</th>\n",
       "      <td>MLP Regressor</td>\n",
       "      <td>sklearn.neural_network._multilayer_perceptron....</td>\n",
       "      <td>False</td>\n",
       "    </tr>\n",
       "    <tr>\n",
       "      <th>xgboost</th>\n",
       "      <td>Extreme Gradient Boosting</td>\n",
       "      <td>xgboost.sklearn.XGBRegressor</td>\n",
       "      <td>True</td>\n",
       "    </tr>\n",
       "    <tr>\n",
       "      <th>lightgbm</th>\n",
       "      <td>Light Gradient Boosting Machine</td>\n",
       "      <td>lightgbm.sklearn.LGBMRegressor</td>\n",
       "      <td>True</td>\n",
       "    </tr>\n",
       "    <tr>\n",
       "      <th>catboost</th>\n",
       "      <td>CatBoost Regressor</td>\n",
       "      <td>catboost.core.CatBoostRegressor</td>\n",
       "      <td>True</td>\n",
       "    </tr>\n",
       "    <tr>\n",
       "      <th>dummy</th>\n",
       "      <td>Dummy Regressor</td>\n",
       "      <td>sklearn.dummy.DummyRegressor</td>\n",
       "      <td>True</td>\n",
       "    </tr>\n",
       "  </tbody>\n",
       "</table>\n",
       "</div>"
      ],
      "text/plain": [
       "                                       Name  \\\n",
       "ID                                            \n",
       "lr                        Linear Regression   \n",
       "lasso                      Lasso Regression   \n",
       "ridge                      Ridge Regression   \n",
       "en                              Elastic Net   \n",
       "lar                  Least Angle Regression   \n",
       "llar           Lasso Least Angle Regression   \n",
       "omp             Orthogonal Matching Pursuit   \n",
       "br                           Bayesian Ridge   \n",
       "ard       Automatic Relevance Determination   \n",
       "par            Passive Aggressive Regressor   \n",
       "ransac              Random Sample Consensus   \n",
       "tr                       TheilSen Regressor   \n",
       "huber                       Huber Regressor   \n",
       "kr                             Kernel Ridge   \n",
       "svm               Support Vector Regression   \n",
       "knn                   K Neighbors Regressor   \n",
       "dt                  Decision Tree Regressor   \n",
       "rf                  Random Forest Regressor   \n",
       "et                    Extra Trees Regressor   \n",
       "ada                      AdaBoost Regressor   \n",
       "gbr             Gradient Boosting Regressor   \n",
       "mlp                           MLP Regressor   \n",
       "xgboost           Extreme Gradient Boosting   \n",
       "lightgbm    Light Gradient Boosting Machine   \n",
       "catboost                 CatBoost Regressor   \n",
       "dummy                       Dummy Regressor   \n",
       "\n",
       "                                                  Reference  Turbo  \n",
       "ID                                                                  \n",
       "lr              sklearn.linear_model._base.LinearRegression   True  \n",
       "lasso        sklearn.linear_model._coordinate_descent.Lasso   True  \n",
       "ridge                     sklearn.linear_model._ridge.Ridge   True  \n",
       "en        sklearn.linear_model._coordinate_descent.Elast...   True  \n",
       "lar                  sklearn.linear_model._least_angle.Lars   True  \n",
       "llar            sklearn.linear_model._least_angle.LassoLars   True  \n",
       "omp       sklearn.linear_model._omp.OrthogonalMatchingPu...   True  \n",
       "br                sklearn.linear_model._bayes.BayesianRidge   True  \n",
       "ard               sklearn.linear_model._bayes.ARDRegression  False  \n",
       "par       sklearn.linear_model._passive_aggressive.Passi...   True  \n",
       "ransac         sklearn.linear_model._ransac.RANSACRegressor  False  \n",
       "tr        sklearn.linear_model._theil_sen.TheilSenRegressor  False  \n",
       "huber            sklearn.linear_model._huber.HuberRegressor   True  \n",
       "kr                         sklearn.kernel_ridge.KernelRidge  False  \n",
       "svm                                sklearn.svm._classes.SVR  False  \n",
       "knn       sklearn.neighbors._regression.KNeighborsRegressor   True  \n",
       "dt              sklearn.tree._classes.DecisionTreeRegressor   True  \n",
       "rf           sklearn.ensemble._forest.RandomForestRegressor   True  \n",
       "et             sklearn.ensemble._forest.ExtraTreesRegressor   True  \n",
       "ada       sklearn.ensemble._weight_boosting.AdaBoostRegr...   True  \n",
       "gbr          sklearn.ensemble._gb.GradientBoostingRegressor   True  \n",
       "mlp       sklearn.neural_network._multilayer_perceptron....  False  \n",
       "xgboost                        xgboost.sklearn.XGBRegressor   True  \n",
       "lightgbm                     lightgbm.sklearn.LGBMRegressor   True  \n",
       "catboost                    catboost.core.CatBoostRegressor   True  \n",
       "dummy                          sklearn.dummy.DummyRegressor   True  "
      ]
     },
     "execution_count": 74,
     "metadata": {},
     "output_type": "execute_result"
    }
   ],
   "source": [
    "models()"
   ]
  },
  {
   "cell_type": "markdown",
   "metadata": {},
   "source": [
    "## Create and tune model"
   ]
  },
  {
   "cell_type": "code",
   "execution_count": 75,
   "metadata": {},
   "outputs": [
    {
     "data": {
      "text/html": [
       "<div>\n",
       "<style scoped>\n",
       "    .dataframe tbody tr th:only-of-type {\n",
       "        vertical-align: middle;\n",
       "    }\n",
       "\n",
       "    .dataframe tbody tr th {\n",
       "        vertical-align: top;\n",
       "    }\n",
       "\n",
       "    .dataframe thead th {\n",
       "        text-align: right;\n",
       "    }\n",
       "</style>\n",
       "<table border=\"1\" class=\"dataframe\">\n",
       "  <thead>\n",
       "    <tr style=\"text-align: right;\">\n",
       "      <th></th>\n",
       "      <th></th>\n",
       "      <th></th>\n",
       "    </tr>\n",
       "    <tr>\n",
       "      <th></th>\n",
       "      <th></th>\n",
       "      <th></th>\n",
       "    </tr>\n",
       "  </thead>\n",
       "  <tbody>\n",
       "    <tr>\n",
       "      <th>Initiated</th>\n",
       "      <td>. . . . . . . . . . . . . . . . . .</td>\n",
       "      <td>10:53:44</td>\n",
       "    </tr>\n",
       "    <tr>\n",
       "      <th>Status</th>\n",
       "      <td>. . . . . . . . . . . . . . . . . .</td>\n",
       "      <td>Loading Dependencies</td>\n",
       "    </tr>\n",
       "    <tr>\n",
       "      <th>Estimator</th>\n",
       "      <td>. . . . . . . . . . . . . . . . . .</td>\n",
       "      <td>Compiling Library</td>\n",
       "    </tr>\n",
       "  </tbody>\n",
       "</table>\n",
       "</div>"
      ],
      "text/plain": [
       "                                                                    \n",
       "                                                                    \n",
       "Initiated  . . . . . . . . . . . . . . . . . .              10:53:44\n",
       "Status     . . . . . . . . . . . . . . . . . .  Loading Dependencies\n",
       "Estimator  . . . . . . . . . . . . . . . . . .     Compiling Library"
      ]
     },
     "metadata": {},
     "output_type": "display_data"
    },
    {
     "data": {
      "text/html": [
       "<style type=\"text/css\">\n",
       "#T_c1ee9_row10_col0, #T_c1ee9_row10_col1, #T_c1ee9_row10_col2, #T_c1ee9_row10_col3, #T_c1ee9_row10_col4, #T_c1ee9_row10_col5 {\n",
       "  background: yellow;\n",
       "}\n",
       "</style>\n",
       "<table id=\"T_c1ee9\">\n",
       "  <thead>\n",
       "    <tr>\n",
       "      <th class=\"blank level0\" >&nbsp;</th>\n",
       "      <th id=\"T_c1ee9_level0_col0\" class=\"col_heading level0 col0\" >MAE</th>\n",
       "      <th id=\"T_c1ee9_level0_col1\" class=\"col_heading level0 col1\" >MSE</th>\n",
       "      <th id=\"T_c1ee9_level0_col2\" class=\"col_heading level0 col2\" >RMSE</th>\n",
       "      <th id=\"T_c1ee9_level0_col3\" class=\"col_heading level0 col3\" >R2</th>\n",
       "      <th id=\"T_c1ee9_level0_col4\" class=\"col_heading level0 col4\" >RMSLE</th>\n",
       "      <th id=\"T_c1ee9_level0_col5\" class=\"col_heading level0 col5\" >MAPE</th>\n",
       "    </tr>\n",
       "    <tr>\n",
       "      <th class=\"index_name level0\" >Fold</th>\n",
       "      <th class=\"blank col0\" >&nbsp;</th>\n",
       "      <th class=\"blank col1\" >&nbsp;</th>\n",
       "      <th class=\"blank col2\" >&nbsp;</th>\n",
       "      <th class=\"blank col3\" >&nbsp;</th>\n",
       "      <th class=\"blank col4\" >&nbsp;</th>\n",
       "      <th class=\"blank col5\" >&nbsp;</th>\n",
       "    </tr>\n",
       "  </thead>\n",
       "  <tbody>\n",
       "    <tr>\n",
       "      <th id=\"T_c1ee9_level0_row0\" class=\"row_heading level0 row0\" >0</th>\n",
       "      <td id=\"T_c1ee9_row0_col0\" class=\"data row0 col0\" >23406.2201</td>\n",
       "      <td id=\"T_c1ee9_row0_col1\" class=\"data row0 col1\" >1497281282.9856</td>\n",
       "      <td id=\"T_c1ee9_row0_col2\" class=\"data row0 col2\" >38694.7191</td>\n",
       "      <td id=\"T_c1ee9_row0_col3\" class=\"data row0 col3\" >0.8885</td>\n",
       "      <td id=\"T_c1ee9_row0_col4\" class=\"data row0 col4\" >0.1169</td>\n",
       "      <td id=\"T_c1ee9_row0_col5\" class=\"data row0 col5\" >0.0820</td>\n",
       "    </tr>\n",
       "    <tr>\n",
       "      <th id=\"T_c1ee9_level0_row1\" class=\"row_heading level0 row1\" >1</th>\n",
       "      <td id=\"T_c1ee9_row1_col0\" class=\"data row1 col0\" >26510.9889</td>\n",
       "      <td id=\"T_c1ee9_row1_col1\" class=\"data row1 col1\" >2025652655.4197</td>\n",
       "      <td id=\"T_c1ee9_row1_col2\" class=\"data row1 col2\" >45007.2511</td>\n",
       "      <td id=\"T_c1ee9_row1_col3\" class=\"data row1 col3\" >0.8447</td>\n",
       "      <td id=\"T_c1ee9_row1_col4\" class=\"data row1 col4\" >0.1391</td>\n",
       "      <td id=\"T_c1ee9_row1_col5\" class=\"data row1 col5\" >0.0937</td>\n",
       "    </tr>\n",
       "    <tr>\n",
       "      <th id=\"T_c1ee9_level0_row2\" class=\"row_heading level0 row2\" >2</th>\n",
       "      <td id=\"T_c1ee9_row2_col0\" class=\"data row2 col0\" >23899.5653</td>\n",
       "      <td id=\"T_c1ee9_row2_col1\" class=\"data row2 col1\" >1366082811.5285</td>\n",
       "      <td id=\"T_c1ee9_row2_col2\" class=\"data row2 col2\" >36960.5575</td>\n",
       "      <td id=\"T_c1ee9_row2_col3\" class=\"data row2 col3\" >0.8791</td>\n",
       "      <td id=\"T_c1ee9_row2_col4\" class=\"data row2 col4\" >0.1500</td>\n",
       "      <td id=\"T_c1ee9_row2_col5\" class=\"data row2 col5\" >0.0969</td>\n",
       "    </tr>\n",
       "    <tr>\n",
       "      <th id=\"T_c1ee9_level0_row3\" class=\"row_heading level0 row3\" >3</th>\n",
       "      <td id=\"T_c1ee9_row3_col0\" class=\"data row3 col0\" >28216.2701</td>\n",
       "      <td id=\"T_c1ee9_row3_col1\" class=\"data row3 col1\" >2435998201.0144</td>\n",
       "      <td id=\"T_c1ee9_row3_col2\" class=\"data row3 col2\" >49355.8325</td>\n",
       "      <td id=\"T_c1ee9_row3_col3\" class=\"data row3 col3\" >0.8227</td>\n",
       "      <td id=\"T_c1ee9_row3_col4\" class=\"data row3 col4\" >0.1620</td>\n",
       "      <td id=\"T_c1ee9_row3_col5\" class=\"data row3 col5\" >0.1036</td>\n",
       "    </tr>\n",
       "    <tr>\n",
       "      <th id=\"T_c1ee9_level0_row4\" class=\"row_heading level0 row4\" >4</th>\n",
       "      <td id=\"T_c1ee9_row4_col0\" class=\"data row4 col0\" >24820.2307</td>\n",
       "      <td id=\"T_c1ee9_row4_col1\" class=\"data row4 col1\" >1787998495.1510</td>\n",
       "      <td id=\"T_c1ee9_row4_col2\" class=\"data row4 col2\" >42284.7312</td>\n",
       "      <td id=\"T_c1ee9_row4_col3\" class=\"data row4 col3\" >0.8729</td>\n",
       "      <td id=\"T_c1ee9_row4_col4\" class=\"data row4 col4\" >0.1346</td>\n",
       "      <td id=\"T_c1ee9_row4_col5\" class=\"data row4 col5\" >0.0887</td>\n",
       "    </tr>\n",
       "    <tr>\n",
       "      <th id=\"T_c1ee9_level0_row5\" class=\"row_heading level0 row5\" >5</th>\n",
       "      <td id=\"T_c1ee9_row5_col0\" class=\"data row5 col0\" >24234.8619</td>\n",
       "      <td id=\"T_c1ee9_row5_col1\" class=\"data row5 col1\" >1361002144.4417</td>\n",
       "      <td id=\"T_c1ee9_row5_col2\" class=\"data row5 col2\" >36891.7626</td>\n",
       "      <td id=\"T_c1ee9_row5_col3\" class=\"data row5 col3\" >0.8579</td>\n",
       "      <td id=\"T_c1ee9_row5_col4\" class=\"data row5 col4\" >0.1453</td>\n",
       "      <td id=\"T_c1ee9_row5_col5\" class=\"data row5 col5\" >0.0970</td>\n",
       "    </tr>\n",
       "    <tr>\n",
       "      <th id=\"T_c1ee9_level0_row6\" class=\"row_heading level0 row6\" >6</th>\n",
       "      <td id=\"T_c1ee9_row6_col0\" class=\"data row6 col0\" >25390.3504</td>\n",
       "      <td id=\"T_c1ee9_row6_col1\" class=\"data row6 col1\" >2334873071.2576</td>\n",
       "      <td id=\"T_c1ee9_row6_col2\" class=\"data row6 col2\" >48320.5243</td>\n",
       "      <td id=\"T_c1ee9_row6_col3\" class=\"data row6 col3\" >0.8277</td>\n",
       "      <td id=\"T_c1ee9_row6_col4\" class=\"data row6 col4\" >0.1283</td>\n",
       "      <td id=\"T_c1ee9_row6_col5\" class=\"data row6 col5\" >0.0838</td>\n",
       "    </tr>\n",
       "    <tr>\n",
       "      <th id=\"T_c1ee9_level0_row7\" class=\"row_heading level0 row7\" >7</th>\n",
       "      <td id=\"T_c1ee9_row7_col0\" class=\"data row7 col0\" >21352.3364</td>\n",
       "      <td id=\"T_c1ee9_row7_col1\" class=\"data row7 col1\" >1136005992.8622</td>\n",
       "      <td id=\"T_c1ee9_row7_col2\" class=\"data row7 col2\" >33704.6880</td>\n",
       "      <td id=\"T_c1ee9_row7_col3\" class=\"data row7 col3\" >0.8748</td>\n",
       "      <td id=\"T_c1ee9_row7_col4\" class=\"data row7 col4\" >0.1113</td>\n",
       "      <td id=\"T_c1ee9_row7_col5\" class=\"data row7 col5\" >0.0785</td>\n",
       "    </tr>\n",
       "    <tr>\n",
       "      <th id=\"T_c1ee9_level0_row8\" class=\"row_heading level0 row8\" >8</th>\n",
       "      <td id=\"T_c1ee9_row8_col0\" class=\"data row8 col0\" >25315.3678</td>\n",
       "      <td id=\"T_c1ee9_row8_col1\" class=\"data row8 col1\" >1697260403.5501</td>\n",
       "      <td id=\"T_c1ee9_row8_col2\" class=\"data row8 col2\" >41197.8204</td>\n",
       "      <td id=\"T_c1ee9_row8_col3\" class=\"data row8 col3\" >0.8565</td>\n",
       "      <td id=\"T_c1ee9_row8_col4\" class=\"data row8 col4\" >0.1439</td>\n",
       "      <td id=\"T_c1ee9_row8_col5\" class=\"data row8 col5\" >0.0974</td>\n",
       "    </tr>\n",
       "    <tr>\n",
       "      <th id=\"T_c1ee9_level0_row9\" class=\"row_heading level0 row9\" >9</th>\n",
       "      <td id=\"T_c1ee9_row9_col0\" class=\"data row9 col0\" >27894.6651</td>\n",
       "      <td id=\"T_c1ee9_row9_col1\" class=\"data row9 col1\" >3313261029.4155</td>\n",
       "      <td id=\"T_c1ee9_row9_col2\" class=\"data row9 col2\" >57560.9332</td>\n",
       "      <td id=\"T_c1ee9_row9_col3\" class=\"data row9 col3\" >0.8258</td>\n",
       "      <td id=\"T_c1ee9_row9_col4\" class=\"data row9 col4\" >0.1295</td>\n",
       "      <td id=\"T_c1ee9_row9_col5\" class=\"data row9 col5\" >0.0920</td>\n",
       "    </tr>\n",
       "    <tr>\n",
       "      <th id=\"T_c1ee9_level0_row10\" class=\"row_heading level0 row10\" >Mean</th>\n",
       "      <td id=\"T_c1ee9_row10_col0\" class=\"data row10 col0\" >25104.0857</td>\n",
       "      <td id=\"T_c1ee9_row10_col1\" class=\"data row10 col1\" >1895541608.7626</td>\n",
       "      <td id=\"T_c1ee9_row10_col2\" class=\"data row10 col2\" >42997.8820</td>\n",
       "      <td id=\"T_c1ee9_row10_col3\" class=\"data row10 col3\" >0.8550</td>\n",
       "      <td id=\"T_c1ee9_row10_col4\" class=\"data row10 col4\" >0.1361</td>\n",
       "      <td id=\"T_c1ee9_row10_col5\" class=\"data row10 col5\" >0.0914</td>\n",
       "    </tr>\n",
       "    <tr>\n",
       "      <th id=\"T_c1ee9_level0_row11\" class=\"row_heading level0 row11\" >Std</th>\n",
       "      <td id=\"T_c1ee9_row11_col0\" class=\"data row11 col0\" >1970.3896</td>\n",
       "      <td id=\"T_c1ee9_row11_col1\" class=\"data row11 col1\" >621643656.4162</td>\n",
       "      <td id=\"T_c1ee9_row11_col2\" class=\"data row11 col2\" >6835.4776</td>\n",
       "      <td id=\"T_c1ee9_row11_col3\" class=\"data row11 col3\" >0.0227</td>\n",
       "      <td id=\"T_c1ee9_row11_col4\" class=\"data row11 col4\" >0.0145</td>\n",
       "      <td id=\"T_c1ee9_row11_col5\" class=\"data row11 col5\" >0.0076</td>\n",
       "    </tr>\n",
       "  </tbody>\n",
       "</table>\n"
      ],
      "text/plain": [
       "<pandas.io.formats.style.Styler at 0x241450da2f0>"
      ]
     },
     "metadata": {},
     "output_type": "display_data"
    }
   ],
   "source": [
    "rf_reg = create_model(estimator='rf') "
   ]
  },
  {
   "cell_type": "code",
   "execution_count": 76,
   "metadata": {},
   "outputs": [
    {
     "data": {
      "text/html": [
       "<div>\n",
       "<style scoped>\n",
       "    .dataframe tbody tr th:only-of-type {\n",
       "        vertical-align: middle;\n",
       "    }\n",
       "\n",
       "    .dataframe tbody tr th {\n",
       "        vertical-align: top;\n",
       "    }\n",
       "\n",
       "    .dataframe thead th {\n",
       "        text-align: right;\n",
       "    }\n",
       "</style>\n",
       "<table border=\"1\" class=\"dataframe\">\n",
       "  <thead>\n",
       "    <tr style=\"text-align: right;\">\n",
       "      <th></th>\n",
       "      <th></th>\n",
       "      <th></th>\n",
       "    </tr>\n",
       "    <tr>\n",
       "      <th></th>\n",
       "      <th></th>\n",
       "      <th></th>\n",
       "    </tr>\n",
       "  </thead>\n",
       "  <tbody>\n",
       "    <tr>\n",
       "      <th>Initiated</th>\n",
       "      <td>. . . . . . . . . . . . . . . . . .</td>\n",
       "      <td>10:55:27</td>\n",
       "    </tr>\n",
       "    <tr>\n",
       "      <th>Status</th>\n",
       "      <td>. . . . . . . . . . . . . . . . . .</td>\n",
       "      <td>Loading Dependencies</td>\n",
       "    </tr>\n",
       "    <tr>\n",
       "      <th>Estimator</th>\n",
       "      <td>. . . . . . . . . . . . . . . . . .</td>\n",
       "      <td>Compiling Library</td>\n",
       "    </tr>\n",
       "  </tbody>\n",
       "</table>\n",
       "</div>"
      ],
      "text/plain": [
       "                                                                    \n",
       "                                                                    \n",
       "Initiated  . . . . . . . . . . . . . . . . . .              10:55:27\n",
       "Status     . . . . . . . . . . . . . . . . . .  Loading Dependencies\n",
       "Estimator  . . . . . . . . . . . . . . . . . .     Compiling Library"
      ]
     },
     "metadata": {},
     "output_type": "display_data"
    },
    {
     "data": {
      "text/html": [
       "<style type=\"text/css\">\n",
       "#T_6959f_row10_col0, #T_6959f_row10_col1, #T_6959f_row10_col2, #T_6959f_row10_col3, #T_6959f_row10_col4, #T_6959f_row10_col5 {\n",
       "  background: yellow;\n",
       "}\n",
       "</style>\n",
       "<table id=\"T_6959f\">\n",
       "  <thead>\n",
       "    <tr>\n",
       "      <th class=\"blank level0\" >&nbsp;</th>\n",
       "      <th id=\"T_6959f_level0_col0\" class=\"col_heading level0 col0\" >MAE</th>\n",
       "      <th id=\"T_6959f_level0_col1\" class=\"col_heading level0 col1\" >MSE</th>\n",
       "      <th id=\"T_6959f_level0_col2\" class=\"col_heading level0 col2\" >RMSE</th>\n",
       "      <th id=\"T_6959f_level0_col3\" class=\"col_heading level0 col3\" >R2</th>\n",
       "      <th id=\"T_6959f_level0_col4\" class=\"col_heading level0 col4\" >RMSLE</th>\n",
       "      <th id=\"T_6959f_level0_col5\" class=\"col_heading level0 col5\" >MAPE</th>\n",
       "    </tr>\n",
       "    <tr>\n",
       "      <th class=\"index_name level0\" >Fold</th>\n",
       "      <th class=\"blank col0\" >&nbsp;</th>\n",
       "      <th class=\"blank col1\" >&nbsp;</th>\n",
       "      <th class=\"blank col2\" >&nbsp;</th>\n",
       "      <th class=\"blank col3\" >&nbsp;</th>\n",
       "      <th class=\"blank col4\" >&nbsp;</th>\n",
       "      <th class=\"blank col5\" >&nbsp;</th>\n",
       "    </tr>\n",
       "  </thead>\n",
       "  <tbody>\n",
       "    <tr>\n",
       "      <th id=\"T_6959f_level0_row0\" class=\"row_heading level0 row0\" >0</th>\n",
       "      <td id=\"T_6959f_row0_col0\" class=\"data row0 col0\" >25677.5007</td>\n",
       "      <td id=\"T_6959f_row0_col1\" class=\"data row0 col1\" >1649435949.6488</td>\n",
       "      <td id=\"T_6959f_row0_col2\" class=\"data row0 col2\" >40613.2484</td>\n",
       "      <td id=\"T_6959f_row0_col3\" class=\"data row0 col3\" >0.8771</td>\n",
       "      <td id=\"T_6959f_row0_col4\" class=\"data row0 col4\" >0.1331</td>\n",
       "      <td id=\"T_6959f_row0_col5\" class=\"data row0 col5\" >0.0936</td>\n",
       "    </tr>\n",
       "    <tr>\n",
       "      <th id=\"T_6959f_level0_row1\" class=\"row_heading level0 row1\" >1</th>\n",
       "      <td id=\"T_6959f_row1_col0\" class=\"data row1 col0\" >27666.8085</td>\n",
       "      <td id=\"T_6959f_row1_col1\" class=\"data row1 col1\" >2142642219.6175</td>\n",
       "      <td id=\"T_6959f_row1_col2\" class=\"data row1 col2\" >46288.6835</td>\n",
       "      <td id=\"T_6959f_row1_col3\" class=\"data row1 col3\" >0.8357</td>\n",
       "      <td id=\"T_6959f_row1_col4\" class=\"data row1 col4\" >0.1391</td>\n",
       "      <td id=\"T_6959f_row1_col5\" class=\"data row1 col5\" >0.0972</td>\n",
       "    </tr>\n",
       "    <tr>\n",
       "      <th id=\"T_6959f_level0_row2\" class=\"row_heading level0 row2\" >2</th>\n",
       "      <td id=\"T_6959f_row2_col0\" class=\"data row2 col0\" >25048.4104</td>\n",
       "      <td id=\"T_6959f_row2_col1\" class=\"data row2 col1\" >1480954680.2228</td>\n",
       "      <td id=\"T_6959f_row2_col2\" class=\"data row2 col2\" >38483.1740</td>\n",
       "      <td id=\"T_6959f_row2_col3\" class=\"data row2 col3\" >0.8690</td>\n",
       "      <td id=\"T_6959f_row2_col4\" class=\"data row2 col4\" >0.1554</td>\n",
       "      <td id=\"T_6959f_row2_col5\" class=\"data row2 col5\" >0.1022</td>\n",
       "    </tr>\n",
       "    <tr>\n",
       "      <th id=\"T_6959f_level0_row3\" class=\"row_heading level0 row3\" >3</th>\n",
       "      <td id=\"T_6959f_row3_col0\" class=\"data row3 col0\" >30416.4022</td>\n",
       "      <td id=\"T_6959f_row3_col1\" class=\"data row3 col1\" >2617956262.0543</td>\n",
       "      <td id=\"T_6959f_row3_col2\" class=\"data row3 col2\" >51165.9678</td>\n",
       "      <td id=\"T_6959f_row3_col3\" class=\"data row3 col3\" >0.8095</td>\n",
       "      <td id=\"T_6959f_row3_col4\" class=\"data row3 col4\" >0.1690</td>\n",
       "      <td id=\"T_6959f_row3_col5\" class=\"data row3 col5\" >0.1131</td>\n",
       "    </tr>\n",
       "    <tr>\n",
       "      <th id=\"T_6959f_level0_row4\" class=\"row_heading level0 row4\" >4</th>\n",
       "      <td id=\"T_6959f_row4_col0\" class=\"data row4 col0\" >27555.0154</td>\n",
       "      <td id=\"T_6959f_row4_col1\" class=\"data row4 col1\" >1988546992.5836</td>\n",
       "      <td id=\"T_6959f_row4_col2\" class=\"data row4 col2\" >44593.1272</td>\n",
       "      <td id=\"T_6959f_row4_col3\" class=\"data row4 col3\" >0.8586</td>\n",
       "      <td id=\"T_6959f_row4_col4\" class=\"data row4 col4\" >0.1431</td>\n",
       "      <td id=\"T_6959f_row4_col5\" class=\"data row4 col5\" >0.0997</td>\n",
       "    </tr>\n",
       "    <tr>\n",
       "      <th id=\"T_6959f_level0_row5\" class=\"row_heading level0 row5\" >5</th>\n",
       "      <td id=\"T_6959f_row5_col0\" class=\"data row5 col0\" >24719.5532</td>\n",
       "      <td id=\"T_6959f_row5_col1\" class=\"data row5 col1\" >1533062264.4470</td>\n",
       "      <td id=\"T_6959f_row5_col2\" class=\"data row5 col2\" >39154.3390</td>\n",
       "      <td id=\"T_6959f_row5_col3\" class=\"data row5 col3\" >0.8399</td>\n",
       "      <td id=\"T_6959f_row5_col4\" class=\"data row5 col4\" >0.1478</td>\n",
       "      <td id=\"T_6959f_row5_col5\" class=\"data row5 col5\" >0.0989</td>\n",
       "    </tr>\n",
       "    <tr>\n",
       "      <th id=\"T_6959f_level0_row6\" class=\"row_heading level0 row6\" >6</th>\n",
       "      <td id=\"T_6959f_row6_col0\" class=\"data row6 col0\" >27471.2370</td>\n",
       "      <td id=\"T_6959f_row6_col1\" class=\"data row6 col1\" >2551278121.8564</td>\n",
       "      <td id=\"T_6959f_row6_col2\" class=\"data row6 col2\" >50510.1784</td>\n",
       "      <td id=\"T_6959f_row6_col3\" class=\"data row6 col3\" >0.8117</td>\n",
       "      <td id=\"T_6959f_row6_col4\" class=\"data row6 col4\" >0.1359</td>\n",
       "      <td id=\"T_6959f_row6_col5\" class=\"data row6 col5\" >0.0907</td>\n",
       "    </tr>\n",
       "    <tr>\n",
       "      <th id=\"T_6959f_level0_row7\" class=\"row_heading level0 row7\" >7</th>\n",
       "      <td id=\"T_6959f_row7_col0\" class=\"data row7 col0\" >25114.8003</td>\n",
       "      <td id=\"T_6959f_row7_col1\" class=\"data row7 col1\" >1384868724.2939</td>\n",
       "      <td id=\"T_6959f_row7_col2\" class=\"data row7 col2\" >37213.8244</td>\n",
       "      <td id=\"T_6959f_row7_col3\" class=\"data row7 col3\" >0.8473</td>\n",
       "      <td id=\"T_6959f_row7_col4\" class=\"data row7 col4\" >0.1219</td>\n",
       "      <td id=\"T_6959f_row7_col5\" class=\"data row7 col5\" >0.0904</td>\n",
       "    </tr>\n",
       "    <tr>\n",
       "      <th id=\"T_6959f_level0_row8\" class=\"row_heading level0 row8\" >8</th>\n",
       "      <td id=\"T_6959f_row8_col0\" class=\"data row8 col0\" >26712.8452</td>\n",
       "      <td id=\"T_6959f_row8_col1\" class=\"data row8 col1\" >1771217424.0094</td>\n",
       "      <td id=\"T_6959f_row8_col2\" class=\"data row8 col2\" >42085.8340</td>\n",
       "      <td id=\"T_6959f_row8_col3\" class=\"data row8 col3\" >0.8503</td>\n",
       "      <td id=\"T_6959f_row8_col4\" class=\"data row8 col4\" >0.1482</td>\n",
       "      <td id=\"T_6959f_row8_col5\" class=\"data row8 col5\" >0.1038</td>\n",
       "    </tr>\n",
       "    <tr>\n",
       "      <th id=\"T_6959f_level0_row9\" class=\"row_heading level0 row9\" >9</th>\n",
       "      <td id=\"T_6959f_row9_col0\" class=\"data row9 col0\" >29832.5455</td>\n",
       "      <td id=\"T_6959f_row9_col1\" class=\"data row9 col1\" >3530811958.4023</td>\n",
       "      <td id=\"T_6959f_row9_col2\" class=\"data row9 col2\" >59420.6358</td>\n",
       "      <td id=\"T_6959f_row9_col3\" class=\"data row9 col3\" >0.8143</td>\n",
       "      <td id=\"T_6959f_row9_col4\" class=\"data row9 col4\" >0.1317</td>\n",
       "      <td id=\"T_6959f_row9_col5\" class=\"data row9 col5\" >0.0976</td>\n",
       "    </tr>\n",
       "    <tr>\n",
       "      <th id=\"T_6959f_level0_row10\" class=\"row_heading level0 row10\" >Mean</th>\n",
       "      <td id=\"T_6959f_row10_col0\" class=\"data row10 col0\" >27021.5118</td>\n",
       "      <td id=\"T_6959f_row10_col1\" class=\"data row10 col1\" >2065077459.7136</td>\n",
       "      <td id=\"T_6959f_row10_col2\" class=\"data row10 col2\" >44952.9013</td>\n",
       "      <td id=\"T_6959f_row10_col3\" class=\"data row10 col3\" >0.8413</td>\n",
       "      <td id=\"T_6959f_row10_col4\" class=\"data row10 col4\" >0.1425</td>\n",
       "      <td id=\"T_6959f_row10_col5\" class=\"data row10 col5\" >0.0987</td>\n",
       "    </tr>\n",
       "    <tr>\n",
       "      <th id=\"T_6959f_level0_row11\" class=\"row_heading level0 row11\" >Std</th>\n",
       "      <td id=\"T_6959f_row11_col0\" class=\"data row11 col0\" >1872.4265</td>\n",
       "      <td id=\"T_6959f_row11_col1\" class=\"data row11 col1\" >636266609.0326</td>\n",
       "      <td id=\"T_6959f_row11_col2\" class=\"data row11 col2\" >6656.8858</td>\n",
       "      <td id=\"T_6959f_row11_col3\" class=\"data row11 col3\" >0.0226</td>\n",
       "      <td id=\"T_6959f_row11_col4\" class=\"data row11 col4\" >0.0127</td>\n",
       "      <td id=\"T_6959f_row11_col5\" class=\"data row11 col5\" >0.0064</td>\n",
       "    </tr>\n",
       "  </tbody>\n",
       "</table>\n"
      ],
      "text/plain": [
       "<pandas.io.formats.style.Styler at 0x2415501b8e0>"
      ]
     },
     "metadata": {},
     "output_type": "display_data"
    },
    {
     "name": "stdout",
     "output_type": "stream",
     "text": [
      "Fitting 10 folds for each of 10 candidates, totalling 100 fits\n"
     ]
    }
   ],
   "source": [
    "tuned_rf_reg = tune_model(rf_reg)"
   ]
  },
  {
   "cell_type": "markdown",
   "metadata": {},
   "source": [
    "## Plot Model\n"
   ]
  },
  {
   "cell_type": "code",
   "execution_count": 77,
   "metadata": {},
   "outputs": [
    {
     "data": {
      "text/html": [],
      "text/plain": [
       "<IPython.core.display.HTML object>"
      ]
     },
     "metadata": {},
     "output_type": "display_data"
    },
    {
     "data": {
      "text/html": [
       "<div>\n",
       "<style scoped>\n",
       "    .dataframe tbody tr th:only-of-type {\n",
       "        vertical-align: middle;\n",
       "    }\n",
       "\n",
       "    .dataframe tbody tr th {\n",
       "        vertical-align: top;\n",
       "    }\n",
       "\n",
       "    .dataframe thead th {\n",
       "        text-align: right;\n",
       "    }\n",
       "</style>\n",
       "<table border=\"1\" class=\"dataframe\">\n",
       "  <thead>\n",
       "    <tr style=\"text-align: right;\">\n",
       "      <th></th>\n",
       "      <th>Parameters</th>\n",
       "    </tr>\n",
       "  </thead>\n",
       "  <tbody>\n",
       "    <tr>\n",
       "      <th>bootstrap</th>\n",
       "      <td>True</td>\n",
       "    </tr>\n",
       "    <tr>\n",
       "      <th>ccp_alpha</th>\n",
       "      <td>0.0</td>\n",
       "    </tr>\n",
       "    <tr>\n",
       "      <th>criterion</th>\n",
       "      <td>squared_error</td>\n",
       "    </tr>\n",
       "    <tr>\n",
       "      <th>max_depth</th>\n",
       "      <td>None</td>\n",
       "    </tr>\n",
       "    <tr>\n",
       "      <th>max_features</th>\n",
       "      <td>1.0</td>\n",
       "    </tr>\n",
       "    <tr>\n",
       "      <th>max_leaf_nodes</th>\n",
       "      <td>None</td>\n",
       "    </tr>\n",
       "    <tr>\n",
       "      <th>max_samples</th>\n",
       "      <td>None</td>\n",
       "    </tr>\n",
       "    <tr>\n",
       "      <th>min_impurity_decrease</th>\n",
       "      <td>0.0</td>\n",
       "    </tr>\n",
       "    <tr>\n",
       "      <th>min_samples_leaf</th>\n",
       "      <td>1</td>\n",
       "    </tr>\n",
       "    <tr>\n",
       "      <th>min_samples_split</th>\n",
       "      <td>2</td>\n",
       "    </tr>\n",
       "    <tr>\n",
       "      <th>min_weight_fraction_leaf</th>\n",
       "      <td>0.0</td>\n",
       "    </tr>\n",
       "    <tr>\n",
       "      <th>n_estimators</th>\n",
       "      <td>100</td>\n",
       "    </tr>\n",
       "    <tr>\n",
       "      <th>n_jobs</th>\n",
       "      <td>-1</td>\n",
       "    </tr>\n",
       "    <tr>\n",
       "      <th>oob_score</th>\n",
       "      <td>False</td>\n",
       "    </tr>\n",
       "    <tr>\n",
       "      <th>random_state</th>\n",
       "      <td>555</td>\n",
       "    </tr>\n",
       "    <tr>\n",
       "      <th>verbose</th>\n",
       "      <td>0</td>\n",
       "    </tr>\n",
       "    <tr>\n",
       "      <th>warm_start</th>\n",
       "      <td>False</td>\n",
       "    </tr>\n",
       "  </tbody>\n",
       "</table>\n",
       "</div>"
      ],
      "text/plain": [
       "                             Parameters\n",
       "bootstrap                          True\n",
       "ccp_alpha                           0.0\n",
       "criterion                 squared_error\n",
       "max_depth                          None\n",
       "max_features                        1.0\n",
       "max_leaf_nodes                     None\n",
       "max_samples                        None\n",
       "min_impurity_decrease               0.0\n",
       "min_samples_leaf                      1\n",
       "min_samples_split                     2\n",
       "min_weight_fraction_leaf            0.0\n",
       "n_estimators                        100\n",
       "n_jobs                               -1\n",
       "oob_score                         False\n",
       "random_state                        555\n",
       "verbose                               0\n",
       "warm_start                        False"
      ]
     },
     "metadata": {},
     "output_type": "display_data"
    }
   ],
   "source": [
    "plot_model(tuned_rf_reg, plot = 'parameter')"
   ]
  },
  {
   "cell_type": "code",
   "execution_count": 78,
   "metadata": {},
   "outputs": [
    {
     "data": {
      "text/html": [],
      "text/plain": [
       "<IPython.core.display.HTML object>"
      ]
     },
     "metadata": {},
     "output_type": "display_data"
    },
    {
     "data": {
      "image/png": "[encoded data removed]",
      "text/plain": [
       "<Figure size 800x550 with 2 Axes>"
      ]
     },
     "metadata": {},
     "output_type": "display_data"
    }
   ],
   "source": [
    "plot_model(tuned_rf_reg, plot = 'residuals')"
   ]
  },
  {
   "cell_type": "code",
   "execution_count": 79,
   "metadata": {},
   "outputs": [
    {
     "data": {
      "text/html": [],
      "text/plain": [
       "<IPython.core.display.HTML object>"
      ]
     },
     "metadata": {},
     "output_type": "display_data"
    },
    {
     "data": {
      "image/png": "[encoded data removed]",
      "text/plain": [
       "<Figure size 800x550 with 1 Axes>"
      ]
     },
     "metadata": {},
     "output_type": "display_data"
    }
   ],
   "source": [
    "plot_model(tuned_rf_reg, plot = 'learning')"
   ]
  },
  {
   "cell_type": "code",
   "execution_count": 80,
   "metadata": {},
   "outputs": [
    {
     "data": {
      "text/html": [],
      "text/plain": [
       "<IPython.core.display.HTML object>"
      ]
     },
     "metadata": {},
     "output_type": "display_data"
    },
    {
     "data": {
      "image/png": "[encoded data removed]",
      "text/plain": [
       "<Figure size 800x500 with 1 Axes>"
      ]
     },
     "metadata": {},
     "output_type": "display_data"
    }
   ],
   "source": [
    "plot_model(tuned_rf_reg, plot = 'feature')"
   ]
  },
  {
   "cell_type": "markdown",
   "metadata": {},
   "source": [
    "----\n",
    "Done!"
   ]
  },
  {
   "cell_type": "markdown",
   "metadata": {},
   "source": [
    "###  Additional links:\n"
   ]
  },
  {
   "cell_type": "markdown",
   "metadata": {},
   "source": [
    "1. Decision Trees with sklearn: https://scikit-learn.org/stable/modules/tree.html\n",
    "2. Ensemble learning with sklearn: https://scikit-learn.org/stable/modules/ensemble.html\n",
    "3. graphviz: this is used for Tree visualization: http://graphviz.org/\n",
    "4. Out of Bag errors for random forest: https://scikit-learn.org/stable/auto_examples/ensemble/plot_ensemble_oob.html#sphx-glr-auto-examples-ensemble-plot-ensemble-oob-py"
   ]
  }
 ],
 "metadata": {
  "kernelspec": {
   "display_name": "pycaret3",
   "language": "python",
   "name": "python3"
  },
  "language_info": {
   "codemirror_mode": {
    "name": "ipython",
    "version": 3
   },
   "file_extension": ".py",
   "mimetype": "text/x-python",
   "name": "python",
   "nbconvert_exporter": "python",
   "pygments_lexer": "ipython3",
   "version": "3.8.18"
  }
 },
 "nbformat": 4,
 "nbformat_minor": 4
}
