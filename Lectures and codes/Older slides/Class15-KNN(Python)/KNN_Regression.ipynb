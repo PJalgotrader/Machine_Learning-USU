{
  "cells": [
    {
      "cell_type": "markdown",
      "metadata": {
        "id": "YDdWyBxu-kTj"
      },
      "source": [
        "You need to make a copy to your own Google drive if you want to edit the original notebook! Start by opening this notebook on Colab 👇\n",
        "\n",
        "<a href=\"https://colab.research.google.com/github/PJalgotrader/Machine_Learning-USU/blob/fall22/Lectures/Class15-KNN(Python)/KNN_Regression.ipynb\" target=\"_parent\"><img src=\"https://colab.research.google.com/assets/colab-badge.svg\" alt=\"Open In Colab\"/></a> \n",
        "\n",
        "\n",
        "\n",
        "![logo](https://upload.wikimedia.org/wikipedia/commons/4/44/Huntsman-Wordmark-with-USU-Blue.gif#center) \n",
        "\n",
        "\n",
        "\n",
        "## 🔗 Links\n",
        "[![Youtube](https://img.shields.io/badge/youtube_channel-1DA1F2?style=for-the-badge&logo=youtube&logoColor=white&color=red)](https://www.youtube.com/channel/UCNDElcuuyX-2pSatVBDpJJQ)\n",
        "[![Profile](https://img.shields.io/badge/profiole-000?style=for-the-badge&logo=ko-fi&logoColor=white)](https://huntsman.usu.edu/directory/jahangiry-pedram)\n",
        "[![linkedin](https://img.shields.io/badge/linkedin-0A66C2?style=for-the-badge&logo=linkedin&logoColor=white)](https://www.linkedin.com/in/pedram-jahangiry-cfa-5778015a)\n",
        "\n",
        "---"
      ]
    },
    {
      "cell_type": "markdown",
      "metadata": {
        "id": "JqmzRnZl-kTl"
      },
      "source": [
        "# K Nearest Neigbors (KNN) - Regression"
      ]
    },
    {
      "cell_type": "code",
      "execution_count": 9,
      "metadata": {
        "id": "4y5xIJx9-kTm"
      },
      "outputs": [],
      "source": [
        "import numpy as np\n",
        "import pandas as pd\n",
        "import matplotlib.pyplot as plt\n",
        "import seaborn as sns\n",
        "sns.set()  #if you want to use seaborn themes with matplotlib functions\n",
        "import warnings\n",
        "warnings.filterwarnings('ignore')"
      ]
    },
    {
      "cell_type": "code",
      "execution_count": 10,
      "metadata": {
        "id": "3Wvlhw8O-kTm"
      },
      "outputs": [],
      "source": [
        "rand_state = 1000"
      ]
    },
    {
      "cell_type": "code",
      "execution_count": 11,
      "metadata": {
        "colab": {
          "base_uri": "https://localhost:8080/"
        },
        "id": "uz0Xuhl4-kTn",
        "outputId": "367b1d4d-7177-45c9-cfbe-63296760a551"
      },
      "outputs": [
        {
          "name": "stdout",
          "output_type": "stream",
          "text": [
            "File ‘wage.csv’ already there; not retrieving.\n",
            "\n"
          ]
        }
      ],
      "source": [
        "!wget -nc https://raw.githubusercontent.com/PJalgotrader/Machine_Learning-USU/fall22/data/wage.csv\n",
        "df = pd.read_csv(\"wage.csv\")"
      ]
    },
    {
      "cell_type": "code",
      "execution_count": 12,
      "metadata": {
        "colab": {
          "base_uri": "https://localhost:8080/",
          "height": 206
        },
        "id": "KYZeiUz9-kTn",
        "outputId": "7955507f-546d-4f1e-a553-18d57f93e1e4"
      },
      "outputs": [
        {
          "data": {
            "text/html": [
              "\n",
              "  <div id=\"df-7a3464ce-49a1-49b4-90a2-e8e637fcd060\">\n",
              "    <div class=\"colab-df-container\">\n",
              "      <div>\n",
              "<style scoped>\n",
              "    .dataframe tbody tr th:only-of-type {\n",
              "        vertical-align: middle;\n",
              "    }\n",
              "\n",
              "    .dataframe tbody tr th {\n",
              "        vertical-align: top;\n",
              "    }\n",
              "\n",
              "    .dataframe thead th {\n",
              "        text-align: right;\n",
              "    }\n",
              "</style>\n",
              "<table border=\"1\" class=\"dataframe\">\n",
              "  <thead>\n",
              "    <tr style=\"text-align: right;\">\n",
              "      <th></th>\n",
              "      <th>wage</th>\n",
              "      <th>hours</th>\n",
              "      <th>IQ</th>\n",
              "      <th>educ</th>\n",
              "      <th>exper</th>\n",
              "      <th>tenure</th>\n",
              "      <th>age</th>\n",
              "      <th>married</th>\n",
              "      <th>black</th>\n",
              "      <th>meduc</th>\n",
              "      <th>feduc</th>\n",
              "    </tr>\n",
              "  </thead>\n",
              "  <tbody>\n",
              "    <tr>\n",
              "      <th>0</th>\n",
              "      <td>769000.0</td>\n",
              "      <td>40</td>\n",
              "      <td>93</td>\n",
              "      <td>12</td>\n",
              "      <td>11</td>\n",
              "      <td>2</td>\n",
              "      <td>31</td>\n",
              "      <td>1</td>\n",
              "      <td>0</td>\n",
              "      <td>8.0</td>\n",
              "      <td>8.0</td>\n",
              "    </tr>\n",
              "    <tr>\n",
              "      <th>1</th>\n",
              "      <td>808000.0</td>\n",
              "      <td>50</td>\n",
              "      <td>119</td>\n",
              "      <td>18</td>\n",
              "      <td>11</td>\n",
              "      <td>16</td>\n",
              "      <td>37</td>\n",
              "      <td>1</td>\n",
              "      <td>0</td>\n",
              "      <td>14.0</td>\n",
              "      <td>14.0</td>\n",
              "    </tr>\n",
              "    <tr>\n",
              "      <th>2</th>\n",
              "      <td>825000.0</td>\n",
              "      <td>40</td>\n",
              "      <td>108</td>\n",
              "      <td>14</td>\n",
              "      <td>11</td>\n",
              "      <td>9</td>\n",
              "      <td>33</td>\n",
              "      <td>1</td>\n",
              "      <td>0</td>\n",
              "      <td>14.0</td>\n",
              "      <td>14.0</td>\n",
              "    </tr>\n",
              "    <tr>\n",
              "      <th>3</th>\n",
              "      <td>650000.0</td>\n",
              "      <td>40</td>\n",
              "      <td>96</td>\n",
              "      <td>12</td>\n",
              "      <td>13</td>\n",
              "      <td>7</td>\n",
              "      <td>32</td>\n",
              "      <td>1</td>\n",
              "      <td>0</td>\n",
              "      <td>12.0</td>\n",
              "      <td>12.0</td>\n",
              "    </tr>\n",
              "    <tr>\n",
              "      <th>4</th>\n",
              "      <td>562000.0</td>\n",
              "      <td>40</td>\n",
              "      <td>74</td>\n",
              "      <td>11</td>\n",
              "      <td>14</td>\n",
              "      <td>5</td>\n",
              "      <td>34</td>\n",
              "      <td>1</td>\n",
              "      <td>0</td>\n",
              "      <td>6.0</td>\n",
              "      <td>11.0</td>\n",
              "    </tr>\n",
              "  </tbody>\n",
              "</table>\n",
              "</div>\n",
              "      <button class=\"colab-df-convert\" onclick=\"convertToInteractive('df-7a3464ce-49a1-49b4-90a2-e8e637fcd060')\"\n",
              "              title=\"Convert this dataframe to an interactive table.\"\n",
              "              style=\"display:none;\">\n",
              "        \n",
              "  <svg xmlns=\"http://www.w3.org/2000/svg\" height=\"24px\"viewBox=\"0 0 24 24\"\n",
              "       width=\"24px\">\n",
              "    <path d=\"M0 0h24v24H0V0z\" fill=\"none\"/>\n",
              "    <path d=\"M18.56 5.44l.94 2.06.94-2.06 2.06-.94-2.06-.94-.94-2.06-.94 2.06-2.06.94zm-11 1L8.5 8.5l.94-2.06 2.06-.94-2.06-.94L8.5 2.5l-.94 2.06-2.06.94zm10 10l.94 2.06.94-2.06 2.06-.94-2.06-.94-.94-2.06-.94 2.06-2.06.94z\"/><path d=\"M17.41 7.96l-1.37-1.37c-.4-.4-.92-.59-1.43-.59-.52 0-1.04.2-1.43.59L10.3 9.45l-7.72 7.72c-.78.78-.78 2.05 0 2.83L4 21.41c.39.39.9.59 1.41.59.51 0 1.02-.2 1.41-.59l7.78-7.78 2.81-2.81c.8-.78.8-2.07 0-2.86zM5.41 20L4 18.59l7.72-7.72 1.47 1.35L5.41 20z\"/>\n",
              "  </svg>\n",
              "      </button>\n",
              "      \n",
              "  <style>\n",
              "    .colab-df-container {\n",
              "      display:flex;\n",
              "      flex-wrap:wrap;\n",
              "      gap: 12px;\n",
              "    }\n",
              "\n",
              "    .colab-df-convert {\n",
              "      background-color: #E8F0FE;\n",
              "      border: none;\n",
              "      border-radius: 50%;\n",
              "      cursor: pointer;\n",
              "      display: none;\n",
              "      fill: #1967D2;\n",
              "      height: 32px;\n",
              "      padding: 0 0 0 0;\n",
              "      width: 32px;\n",
              "    }\n",
              "\n",
              "    .colab-df-convert:hover {\n",
              "      background-color: #E2EBFA;\n",
              "      box-shadow: 0px 1px 2px rgba(60, 64, 67, 0.3), 0px 1px 3px 1px rgba(60, 64, 67, 0.15);\n",
              "      fill: #174EA6;\n",
              "    }\n",
              "\n",
              "    [theme=dark] .colab-df-convert {\n",
              "      background-color: #3B4455;\n",
              "      fill: #D2E3FC;\n",
              "    }\n",
              "\n",
              "    [theme=dark] .colab-df-convert:hover {\n",
              "      background-color: #434B5C;\n",
              "      box-shadow: 0px 1px 3px 1px rgba(0, 0, 0, 0.15);\n",
              "      filter: drop-shadow(0px 1px 2px rgba(0, 0, 0, 0.3));\n",
              "      fill: #FFFFFF;\n",
              "    }\n",
              "  </style>\n",
              "\n",
              "      <script>\n",
              "        const buttonEl =\n",
              "          document.querySelector('#df-7a3464ce-49a1-49b4-90a2-e8e637fcd060 button.colab-df-convert');\n",
              "        buttonEl.style.display =\n",
              "          google.colab.kernel.accessAllowed ? 'block' : 'none';\n",
              "\n",
              "        async function convertToInteractive(key) {\n",
              "          const element = document.querySelector('#df-7a3464ce-49a1-49b4-90a2-e8e637fcd060');\n",
              "          const dataTable =\n",
              "            await google.colab.kernel.invokeFunction('convertToInteractive',\n",
              "                                                     [key], {});\n",
              "          if (!dataTable) return;\n",
              "\n",
              "          const docLinkHtml = 'Like what you see? Visit the ' +\n",
              "            '<a target=\"_blank\" href=https://colab.research.google.com/notebooks/data_table.ipynb>data table notebook</a>'\n",
              "            + ' to learn more about interactive tables.';\n",
              "          element.innerHTML = '';\n",
              "          dataTable['output_type'] = 'display_data';\n",
              "          await google.colab.output.renderOutput(dataTable, element);\n",
              "          const docLink = document.createElement('div');\n",
              "          docLink.innerHTML = docLinkHtml;\n",
              "          element.appendChild(docLink);\n",
              "        }\n",
              "      </script>\n",
              "    </div>\n",
              "  </div>\n",
              "  "
            ],
            "text/plain": [
              "       wage  hours   IQ  educ  exper  tenure  age  married  black  meduc  \\\n",
              "0  769000.0     40   93    12     11       2   31        1      0    8.0   \n",
              "1  808000.0     50  119    18     11      16   37        1      0   14.0   \n",
              "2  825000.0     40  108    14     11       9   33        1      0   14.0   \n",
              "3  650000.0     40   96    12     13       7   32        1      0   12.0   \n",
              "4  562000.0     40   74    11     14       5   34        1      0    6.0   \n",
              "\n",
              "   feduc  \n",
              "0    8.0  \n",
              "1   14.0  \n",
              "2   14.0  \n",
              "3   12.0  \n",
              "4   11.0  "
            ]
          },
          "execution_count": 12,
          "metadata": {},
          "output_type": "execute_result"
        }
      ],
      "source": [
        "df.head()"
      ]
    },
    {
      "cell_type": "code",
      "execution_count": 13,
      "metadata": {
        "colab": {
          "base_uri": "https://localhost:8080/"
        },
        "id": "5P1AXSZU-kTn",
        "outputId": "bdfeee1c-2102-4a5a-8458-48f10b0796bd"
      },
      "outputs": [
        {
          "name": "stdout",
          "output_type": "stream",
          "text": [
            "<class 'pandas.core.frame.DataFrame'>\n",
            "RangeIndex: 935 entries, 0 to 934\n",
            "Data columns (total 11 columns):\n",
            " #   Column   Non-Null Count  Dtype  \n",
            "---  ------   --------------  -----  \n",
            " 0   wage     935 non-null    float64\n",
            " 1   hours    935 non-null    int64  \n",
            " 2   IQ       935 non-null    int64  \n",
            " 3   educ     935 non-null    int64  \n",
            " 4   exper    935 non-null    int64  \n",
            " 5   tenure   935 non-null    int64  \n",
            " 6   age      935 non-null    int64  \n",
            " 7   married  935 non-null    int64  \n",
            " 8   black    935 non-null    int64  \n",
            " 9   meduc    857 non-null    float64\n",
            " 10  feduc    741 non-null    float64\n",
            "dtypes: float64(3), int64(8)\n",
            "memory usage: 80.5 KB\n"
          ]
        }
      ],
      "source": [
        "df.info()"
      ]
    },
    {
      "cell_type": "markdown",
      "metadata": {
        "id": "jHl3GT8I-kTo"
      },
      "source": [
        "## Data preprocessing "
      ]
    },
    {
      "cell_type": "code",
      "execution_count": 15,
      "metadata": {
        "colab": {
          "base_uri": "https://localhost:8080/"
        },
        "id": "pyY12nb0-kTo",
        "outputId": "ce7249c9-2fa5-4dcf-aef9-55951078af2c"
      },
      "outputs": [
        {
          "data": {
            "text/plain": [
              "wage       0.000000\n",
              "hours      0.000000\n",
              "IQ         0.000000\n",
              "educ       0.000000\n",
              "exper      0.000000\n",
              "tenure     0.000000\n",
              "age        0.000000\n",
              "married    0.000000\n",
              "black      0.000000\n",
              "meduc      0.083422\n",
              "feduc      0.207487\n",
              "dtype: float64"
            ]
          },
          "execution_count": 15,
          "metadata": {},
          "output_type": "execute_result"
        }
      ],
      "source": [
        "df.isna().sum() /len(df) "
      ]
    },
    {
      "cell_type": "markdown",
      "metadata": {
        "id": "yuU3pqAz-Hv5"
      },
      "source": [
        "There is 20% missing values in feduc and 8.3% in meduc. We are going to impute feduc using linear regression. For meduc we will be using median meduc just for learning purposes. "
      ]
    },
    {
      "cell_type": "code",
      "execution_count": 40,
      "metadata": {
        "colab": {
          "base_uri": "https://localhost:8080/"
        },
        "id": "UlRp9MgD-kTo",
        "outputId": "b668e643-8f05-4700-bf32-790835fb3577"
      },
      "outputs": [
        {
          "name": "stdout",
          "output_type": "stream",
          "text": [
            "<class 'pandas.core.frame.DataFrame'>\n",
            "RangeIndex: 935 entries, 0 to 934\n",
            "Data columns (total 11 columns):\n",
            " #   Column   Non-Null Count  Dtype  \n",
            "---  ------   --------------  -----  \n",
            " 0   wage     935 non-null    float64\n",
            " 1   hours    935 non-null    int64  \n",
            " 2   IQ       935 non-null    int64  \n",
            " 3   educ     935 non-null    int64  \n",
            " 4   exper    935 non-null    int64  \n",
            " 5   tenure   935 non-null    int64  \n",
            " 6   age      935 non-null    int64  \n",
            " 7   married  935 non-null    int64  \n",
            " 8   black    935 non-null    int64  \n",
            " 9   meduc    935 non-null    float64\n",
            " 10  feduc    741 non-null    float64\n",
            "dtypes: float64(3), int64(8)\n",
            "memory usage: 80.5 KB\n"
          ]
        }
      ],
      "source": [
        "df['meduc'].fillna(df['meduc'].median(),axis=0, inplace=True )\n",
        "df.info()"
      ]
    },
    {
      "cell_type": "markdown",
      "metadata": {
        "id": "ZNshASZE_pxC"
      },
      "source": [
        "Fitting models using R-style formulas: https://www.statsmodels.org/dev/example_formulas.html"
      ]
    },
    {
      "cell_type": "code",
      "execution_count": 41,
      "metadata": {
        "id": "RNcj0ZtC-c0j"
      },
      "outputs": [],
      "source": [
        "import statsmodels.formula.api as smf # this is very similar to R programming language. "
      ]
    },
    {
      "cell_type": "code",
      "execution_count": 42,
      "metadata": {
        "colab": {
          "base_uri": "https://localhost:8080/",
          "height": 494
        },
        "id": "EEVnBSEH-1qa",
        "outputId": "bebd9ef2-8e6a-4189-ee9f-90824fb65079"
      },
      "outputs": [
        {
          "data": {
            "text/html": [
              "<table class=\"simpletable\">\n",
              "<caption>OLS Regression Results</caption>\n",
              "<tr>\n",
              "  <th>Dep. Variable:</th>          <td>feduc</td>      <th>  R-squared:         </th> <td>   0.380</td>\n",
              "</tr>\n",
              "<tr>\n",
              "  <th>Model:</th>                   <td>OLS</td>       <th>  Adj. R-squared:    </th> <td>   0.378</td>\n",
              "</tr>\n",
              "<tr>\n",
              "  <th>Method:</th>             <td>Least Squares</td>  <th>  F-statistic:       </th> <td>   150.7</td>\n",
              "</tr>\n",
              "<tr>\n",
              "  <th>Date:</th>             <td>Mon, 17 Oct 2022</td> <th>  Prob (F-statistic):</th> <td>3.62e-76</td>\n",
              "</tr>\n",
              "<tr>\n",
              "  <th>Time:</th>                 <td>22:18:23</td>     <th>  Log-Likelihood:    </th> <td> -1758.5</td>\n",
              "</tr>\n",
              "<tr>\n",
              "  <th>No. Observations:</th>      <td>   741</td>      <th>  AIC:               </th> <td>   3525.</td>\n",
              "</tr>\n",
              "<tr>\n",
              "  <th>Df Residuals:</th>          <td>   737</td>      <th>  BIC:               </th> <td>   3543.</td>\n",
              "</tr>\n",
              "<tr>\n",
              "  <th>Df Model:</th>              <td>     3</td>      <th>                     </th>     <td> </td>   \n",
              "</tr>\n",
              "<tr>\n",
              "  <th>Covariance Type:</th>      <td>nonrobust</td>    <th>                     </th>     <td> </td>   \n",
              "</tr>\n",
              "</table>\n",
              "<table class=\"simpletable\">\n",
              "<tr>\n",
              "      <td></td>         <th>coef</th>     <th>std err</th>      <th>t</th>      <th>P>|t|</th>  <th>[0.025</th>    <th>0.975]</th>  \n",
              "</tr>\n",
              "<tr>\n",
              "  <th>Intercept</th> <td>   -1.8165</td> <td>    0.727</td> <td>   -2.497</td> <td> 0.013</td> <td>   -3.245</td> <td>   -0.388</td>\n",
              "</tr>\n",
              "<tr>\n",
              "  <th>IQ</th>        <td>    0.0164</td> <td>    0.008</td> <td>    2.093</td> <td> 0.037</td> <td>    0.001</td> <td>    0.032</td>\n",
              "</tr>\n",
              "<tr>\n",
              "  <th>educ</th>      <td>    0.3291</td> <td>    0.052</td> <td>    6.329</td> <td> 0.000</td> <td>    0.227</td> <td>    0.431</td>\n",
              "</tr>\n",
              "<tr>\n",
              "  <th>meduc</th>     <td>    0.5430</td> <td>    0.037</td> <td>   14.619</td> <td> 0.000</td> <td>    0.470</td> <td>    0.616</td>\n",
              "</tr>\n",
              "</table>\n",
              "<table class=\"simpletable\">\n",
              "<tr>\n",
              "  <th>Omnibus:</th>       <td> 8.269</td> <th>  Durbin-Watson:     </th> <td>   1.890</td>\n",
              "</tr>\n",
              "<tr>\n",
              "  <th>Prob(Omnibus):</th> <td> 0.016</td> <th>  Jarque-Bera (JB):  </th> <td>   9.005</td>\n",
              "</tr>\n",
              "<tr>\n",
              "  <th>Skew:</th>          <td>-0.187</td> <th>  Prob(JB):          </th> <td>  0.0111</td>\n",
              "</tr>\n",
              "<tr>\n",
              "  <th>Kurtosis:</th>      <td> 3.390</td> <th>  Cond. No.          </th> <td>    795.</td>\n",
              "</tr>\n",
              "</table><br/><br/>Notes:<br/>[1] Standard Errors assume that the covariance matrix of the errors is correctly specified."
            ],
            "text/plain": [
              "<class 'statsmodels.iolib.summary.Summary'>\n",
              "\"\"\"\n",
              "                            OLS Regression Results                            \n",
              "==============================================================================\n",
              "Dep. Variable:                  feduc   R-squared:                       0.380\n",
              "Model:                            OLS   Adj. R-squared:                  0.378\n",
              "Method:                 Least Squares   F-statistic:                     150.7\n",
              "Date:                Mon, 17 Oct 2022   Prob (F-statistic):           3.62e-76\n",
              "Time:                        22:18:23   Log-Likelihood:                -1758.5\n",
              "No. Observations:                 741   AIC:                             3525.\n",
              "Df Residuals:                     737   BIC:                             3543.\n",
              "Df Model:                           3                                         \n",
              "Covariance Type:            nonrobust                                         \n",
              "==============================================================================\n",
              "                 coef    std err          t      P>|t|      [0.025      0.975]\n",
              "------------------------------------------------------------------------------\n",
              "Intercept     -1.8165      0.727     -2.497      0.013      -3.245      -0.388\n",
              "IQ             0.0164      0.008      2.093      0.037       0.001       0.032\n",
              "educ           0.3291      0.052      6.329      0.000       0.227       0.431\n",
              "meduc          0.5430      0.037     14.619      0.000       0.470       0.616\n",
              "==============================================================================\n",
              "Omnibus:                        8.269   Durbin-Watson:                   1.890\n",
              "Prob(Omnibus):                  0.016   Jarque-Bera (JB):                9.005\n",
              "Skew:                          -0.187   Prob(JB):                       0.0111\n",
              "Kurtosis:                       3.390   Cond. No.                         795.\n",
              "==============================================================================\n",
              "\n",
              "Notes:\n",
              "[1] Standard Errors assume that the covariance matrix of the errors is correctly specified.\n",
              "\"\"\""
            ]
          },
          "execution_count": 42,
          "metadata": {},
          "output_type": "execute_result"
        }
      ],
      "source": [
        "reg = smf.ols('feduc ~    IQ + educ +meduc  ', data=df).fit()\n",
        "reg.summary()"
      ]
    },
    {
      "cell_type": "code",
      "execution_count": 49,
      "metadata": {
        "colab": {
          "base_uri": "https://localhost:8080/"
        },
        "id": "snIBw0cB-u0x",
        "outputId": "b4480004-8471-4e77-de82-74bd44054f2d"
      },
      "outputs": [
        {
          "data": {
            "text/plain": [
              "5       9.691238\n",
              "7      10.316720\n",
              "11     13.148295\n",
              "18     11.025223\n",
              "19      8.129423\n",
              "         ...    \n",
              "926     8.327000\n",
              "927    10.301577\n",
              "930    10.715012\n",
              "932     7.193731\n",
              "934    10.399741\n",
              "Length: 194, dtype: float64"
            ]
          },
          "execution_count": 49,
          "metadata": {},
          "output_type": "execute_result"
        }
      ],
      "source": [
        "missing_predictions = reg.predict(df[['IQ','educ','meduc']])[df['feduc'].isna()]\n",
        "missing_predictions"
      ]
    },
    {
      "cell_type": "code",
      "execution_count": 51,
      "metadata": {
        "colab": {
          "base_uri": "https://localhost:8080/",
          "height": 363
        },
        "id": "XDZ8LwnnDv3Z",
        "outputId": "0d37b9be-ee1e-4e67-fabf-b1f2878c89ee"
      },
      "outputs": [
        {
          "data": {
            "text/html": [
              "\n",
              "  <div id=\"df-390f06f0-b672-4dc0-a9f9-21076745eb9a\">\n",
              "    <div class=\"colab-df-container\">\n",
              "      <div>\n",
              "<style scoped>\n",
              "    .dataframe tbody tr th:only-of-type {\n",
              "        vertical-align: middle;\n",
              "    }\n",
              "\n",
              "    .dataframe tbody tr th {\n",
              "        vertical-align: top;\n",
              "    }\n",
              "\n",
              "    .dataframe thead th {\n",
              "        text-align: right;\n",
              "    }\n",
              "</style>\n",
              "<table border=\"1\" class=\"dataframe\">\n",
              "  <thead>\n",
              "    <tr style=\"text-align: right;\">\n",
              "      <th></th>\n",
              "      <th>wage</th>\n",
              "      <th>hours</th>\n",
              "      <th>IQ</th>\n",
              "      <th>educ</th>\n",
              "      <th>exper</th>\n",
              "      <th>tenure</th>\n",
              "      <th>age</th>\n",
              "      <th>married</th>\n",
              "      <th>black</th>\n",
              "      <th>meduc</th>\n",
              "      <th>feduc</th>\n",
              "    </tr>\n",
              "  </thead>\n",
              "  <tbody>\n",
              "    <tr>\n",
              "      <th>0</th>\n",
              "      <td>769000.0</td>\n",
              "      <td>40</td>\n",
              "      <td>93</td>\n",
              "      <td>12</td>\n",
              "      <td>11</td>\n",
              "      <td>2</td>\n",
              "      <td>31</td>\n",
              "      <td>1</td>\n",
              "      <td>0</td>\n",
              "      <td>8.0</td>\n",
              "      <td>8.0</td>\n",
              "    </tr>\n",
              "    <tr>\n",
              "      <th>1</th>\n",
              "      <td>808000.0</td>\n",
              "      <td>50</td>\n",
              "      <td>119</td>\n",
              "      <td>18</td>\n",
              "      <td>11</td>\n",
              "      <td>16</td>\n",
              "      <td>37</td>\n",
              "      <td>1</td>\n",
              "      <td>0</td>\n",
              "      <td>14.0</td>\n",
              "      <td>14.0</td>\n",
              "    </tr>\n",
              "    <tr>\n",
              "      <th>2</th>\n",
              "      <td>825000.0</td>\n",
              "      <td>40</td>\n",
              "      <td>108</td>\n",
              "      <td>14</td>\n",
              "      <td>11</td>\n",
              "      <td>9</td>\n",
              "      <td>33</td>\n",
              "      <td>1</td>\n",
              "      <td>0</td>\n",
              "      <td>14.0</td>\n",
              "      <td>14.0</td>\n",
              "    </tr>\n",
              "    <tr>\n",
              "      <th>3</th>\n",
              "      <td>650000.0</td>\n",
              "      <td>40</td>\n",
              "      <td>96</td>\n",
              "      <td>12</td>\n",
              "      <td>13</td>\n",
              "      <td>7</td>\n",
              "      <td>32</td>\n",
              "      <td>1</td>\n",
              "      <td>0</td>\n",
              "      <td>12.0</td>\n",
              "      <td>12.0</td>\n",
              "    </tr>\n",
              "    <tr>\n",
              "      <th>4</th>\n",
              "      <td>562000.0</td>\n",
              "      <td>40</td>\n",
              "      <td>74</td>\n",
              "      <td>11</td>\n",
              "      <td>14</td>\n",
              "      <td>5</td>\n",
              "      <td>34</td>\n",
              "      <td>1</td>\n",
              "      <td>0</td>\n",
              "      <td>6.0</td>\n",
              "      <td>11.0</td>\n",
              "    </tr>\n",
              "    <tr>\n",
              "      <th>5</th>\n",
              "      <td>1400000.0</td>\n",
              "      <td>40</td>\n",
              "      <td>116</td>\n",
              "      <td>16</td>\n",
              "      <td>14</td>\n",
              "      <td>2</td>\n",
              "      <td>35</td>\n",
              "      <td>1</td>\n",
              "      <td>1</td>\n",
              "      <td>8.0</td>\n",
              "      <td>NaN</td>\n",
              "    </tr>\n",
              "    <tr>\n",
              "      <th>6</th>\n",
              "      <td>600000.0</td>\n",
              "      <td>40</td>\n",
              "      <td>91</td>\n",
              "      <td>10</td>\n",
              "      <td>13</td>\n",
              "      <td>0</td>\n",
              "      <td>30</td>\n",
              "      <td>0</td>\n",
              "      <td>0</td>\n",
              "      <td>8.0</td>\n",
              "      <td>8.0</td>\n",
              "    </tr>\n",
              "    <tr>\n",
              "      <th>7</th>\n",
              "      <td>1081000.0</td>\n",
              "      <td>40</td>\n",
              "      <td>114</td>\n",
              "      <td>18</td>\n",
              "      <td>8</td>\n",
              "      <td>14</td>\n",
              "      <td>38</td>\n",
              "      <td>1</td>\n",
              "      <td>0</td>\n",
              "      <td>8.0</td>\n",
              "      <td>NaN</td>\n",
              "    </tr>\n",
              "    <tr>\n",
              "      <th>8</th>\n",
              "      <td>1154000.0</td>\n",
              "      <td>45</td>\n",
              "      <td>111</td>\n",
              "      <td>15</td>\n",
              "      <td>13</td>\n",
              "      <td>1</td>\n",
              "      <td>36</td>\n",
              "      <td>1</td>\n",
              "      <td>0</td>\n",
              "      <td>14.0</td>\n",
              "      <td>5.0</td>\n",
              "    </tr>\n",
              "    <tr>\n",
              "      <th>9</th>\n",
              "      <td>1000000.0</td>\n",
              "      <td>40</td>\n",
              "      <td>95</td>\n",
              "      <td>12</td>\n",
              "      <td>16</td>\n",
              "      <td>16</td>\n",
              "      <td>36</td>\n",
              "      <td>1</td>\n",
              "      <td>0</td>\n",
              "      <td>12.0</td>\n",
              "      <td>11.0</td>\n",
              "    </tr>\n",
              "  </tbody>\n",
              "</table>\n",
              "</div>\n",
              "      <button class=\"colab-df-convert\" onclick=\"convertToInteractive('df-390f06f0-b672-4dc0-a9f9-21076745eb9a')\"\n",
              "              title=\"Convert this dataframe to an interactive table.\"\n",
              "              style=\"display:none;\">\n",
              "        \n",
              "  <svg xmlns=\"http://www.w3.org/2000/svg\" height=\"24px\"viewBox=\"0 0 24 24\"\n",
              "       width=\"24px\">\n",
              "    <path d=\"M0 0h24v24H0V0z\" fill=\"none\"/>\n",
              "    <path d=\"M18.56 5.44l.94 2.06.94-2.06 2.06-.94-2.06-.94-.94-2.06-.94 2.06-2.06.94zm-11 1L8.5 8.5l.94-2.06 2.06-.94-2.06-.94L8.5 2.5l-.94 2.06-2.06.94zm10 10l.94 2.06.94-2.06 2.06-.94-2.06-.94-.94-2.06-.94 2.06-2.06.94z\"/><path d=\"M17.41 7.96l-1.37-1.37c-.4-.4-.92-.59-1.43-.59-.52 0-1.04.2-1.43.59L10.3 9.45l-7.72 7.72c-.78.78-.78 2.05 0 2.83L4 21.41c.39.39.9.59 1.41.59.51 0 1.02-.2 1.41-.59l7.78-7.78 2.81-2.81c.8-.78.8-2.07 0-2.86zM5.41 20L4 18.59l7.72-7.72 1.47 1.35L5.41 20z\"/>\n",
              "  </svg>\n",
              "      </button>\n",
              "      \n",
              "  <style>\n",
              "    .colab-df-container {\n",
              "      display:flex;\n",
              "      flex-wrap:wrap;\n",
              "      gap: 12px;\n",
              "    }\n",
              "\n",
              "    .colab-df-convert {\n",
              "      background-color: #E8F0FE;\n",
              "      border: none;\n",
              "      border-radius: 50%;\n",
              "      cursor: pointer;\n",
              "      display: none;\n",
              "      fill: #1967D2;\n",
              "      height: 32px;\n",
              "      padding: 0 0 0 0;\n",
              "      width: 32px;\n",
              "    }\n",
              "\n",
              "    .colab-df-convert:hover {\n",
              "      background-color: #E2EBFA;\n",
              "      box-shadow: 0px 1px 2px rgba(60, 64, 67, 0.3), 0px 1px 3px 1px rgba(60, 64, 67, 0.15);\n",
              "      fill: #174EA6;\n",
              "    }\n",
              "\n",
              "    [theme=dark] .colab-df-convert {\n",
              "      background-color: #3B4455;\n",
              "      fill: #D2E3FC;\n",
              "    }\n",
              "\n",
              "    [theme=dark] .colab-df-convert:hover {\n",
              "      background-color: #434B5C;\n",
              "      box-shadow: 0px 1px 3px 1px rgba(0, 0, 0, 0.15);\n",
              "      filter: drop-shadow(0px 1px 2px rgba(0, 0, 0, 0.3));\n",
              "      fill: #FFFFFF;\n",
              "    }\n",
              "  </style>\n",
              "\n",
              "      <script>\n",
              "        const buttonEl =\n",
              "          document.querySelector('#df-390f06f0-b672-4dc0-a9f9-21076745eb9a button.colab-df-convert');\n",
              "        buttonEl.style.display =\n",
              "          google.colab.kernel.accessAllowed ? 'block' : 'none';\n",
              "\n",
              "        async function convertToInteractive(key) {\n",
              "          const element = document.querySelector('#df-390f06f0-b672-4dc0-a9f9-21076745eb9a');\n",
              "          const dataTable =\n",
              "            await google.colab.kernel.invokeFunction('convertToInteractive',\n",
              "                                                     [key], {});\n",
              "          if (!dataTable) return;\n",
              "\n",
              "          const docLinkHtml = 'Like what you see? Visit the ' +\n",
              "            '<a target=\"_blank\" href=https://colab.research.google.com/notebooks/data_table.ipynb>data table notebook</a>'\n",
              "            + ' to learn more about interactive tables.';\n",
              "          element.innerHTML = '';\n",
              "          dataTable['output_type'] = 'display_data';\n",
              "          await google.colab.output.renderOutput(dataTable, element);\n",
              "          const docLink = document.createElement('div');\n",
              "          docLink.innerHTML = docLinkHtml;\n",
              "          element.appendChild(docLink);\n",
              "        }\n",
              "      </script>\n",
              "    </div>\n",
              "  </div>\n",
              "  "
            ],
            "text/plain": [
              "        wage  hours   IQ  educ  exper  tenure  age  married  black  meduc  \\\n",
              "0   769000.0     40   93    12     11       2   31        1      0    8.0   \n",
              "1   808000.0     50  119    18     11      16   37        1      0   14.0   \n",
              "2   825000.0     40  108    14     11       9   33        1      0   14.0   \n",
              "3   650000.0     40   96    12     13       7   32        1      0   12.0   \n",
              "4   562000.0     40   74    11     14       5   34        1      0    6.0   \n",
              "5  1400000.0     40  116    16     14       2   35        1      1    8.0   \n",
              "6   600000.0     40   91    10     13       0   30        0      0    8.0   \n",
              "7  1081000.0     40  114    18      8      14   38        1      0    8.0   \n",
              "8  1154000.0     45  111    15     13       1   36        1      0   14.0   \n",
              "9  1000000.0     40   95    12     16      16   36        1      0   12.0   \n",
              "\n",
              "   feduc  \n",
              "0    8.0  \n",
              "1   14.0  \n",
              "2   14.0  \n",
              "3   12.0  \n",
              "4   11.0  \n",
              "5    NaN  \n",
              "6    8.0  \n",
              "7    NaN  \n",
              "8    5.0  \n",
              "9   11.0  "
            ]
          },
          "execution_count": 51,
          "metadata": {},
          "output_type": "execute_result"
        }
      ],
      "source": [
        "df.head(10)"
      ]
    },
    {
      "cell_type": "code",
      "execution_count": 52,
      "metadata": {
        "colab": {
          "base_uri": "https://localhost:8080/"
        },
        "id": "2lbCnaekD0iB",
        "outputId": "fc611af6-0d91-4d37-9c07-71d39c21f8ff"
      },
      "outputs": [
        {
          "data": {
            "text/plain": [
              "9.6955"
            ]
          },
          "execution_count": 52,
          "metadata": {},
          "output_type": "execute_result"
        }
      ],
      "source": [
        "# prediction for 6th observation:\n",
        "-1.8165 + 0.0164 * 116 + 0.3291 * 16 + 0.5430 * 8"
      ]
    },
    {
      "cell_type": "code",
      "execution_count": 53,
      "metadata": {
        "id": "QhBKAFzCBzC6"
      },
      "outputs": [],
      "source": [
        "df['feduc'].fillna(missing_predictions,axis=0, inplace=True )\n"
      ]
    },
    {
      "cell_type": "code",
      "execution_count": 54,
      "metadata": {
        "colab": {
          "base_uri": "https://localhost:8080/",
          "height": 363
        },
        "id": "nI-BlGo1-kTo",
        "outputId": "4da44dbc-7d5f-4f16-e402-8072c59e076d"
      },
      "outputs": [
        {
          "data": {
            "text/html": [
              "\n",
              "  <div id=\"df-632d0d88-6c24-4062-ae54-38440246bc51\">\n",
              "    <div class=\"colab-df-container\">\n",
              "      <div>\n",
              "<style scoped>\n",
              "    .dataframe tbody tr th:only-of-type {\n",
              "        vertical-align: middle;\n",
              "    }\n",
              "\n",
              "    .dataframe tbody tr th {\n",
              "        vertical-align: top;\n",
              "    }\n",
              "\n",
              "    .dataframe thead th {\n",
              "        text-align: right;\n",
              "    }\n",
              "</style>\n",
              "<table border=\"1\" class=\"dataframe\">\n",
              "  <thead>\n",
              "    <tr style=\"text-align: right;\">\n",
              "      <th></th>\n",
              "      <th>wage</th>\n",
              "      <th>hours</th>\n",
              "      <th>IQ</th>\n",
              "      <th>educ</th>\n",
              "      <th>exper</th>\n",
              "      <th>tenure</th>\n",
              "      <th>age</th>\n",
              "      <th>married</th>\n",
              "      <th>black</th>\n",
              "      <th>meduc</th>\n",
              "      <th>feduc</th>\n",
              "    </tr>\n",
              "  </thead>\n",
              "  <tbody>\n",
              "    <tr>\n",
              "      <th>0</th>\n",
              "      <td>769000.0</td>\n",
              "      <td>40</td>\n",
              "      <td>93</td>\n",
              "      <td>12</td>\n",
              "      <td>11</td>\n",
              "      <td>2</td>\n",
              "      <td>31</td>\n",
              "      <td>1</td>\n",
              "      <td>0</td>\n",
              "      <td>8.0</td>\n",
              "      <td>8.000000</td>\n",
              "    </tr>\n",
              "    <tr>\n",
              "      <th>1</th>\n",
              "      <td>808000.0</td>\n",
              "      <td>50</td>\n",
              "      <td>119</td>\n",
              "      <td>18</td>\n",
              "      <td>11</td>\n",
              "      <td>16</td>\n",
              "      <td>37</td>\n",
              "      <td>1</td>\n",
              "      <td>0</td>\n",
              "      <td>14.0</td>\n",
              "      <td>14.000000</td>\n",
              "    </tr>\n",
              "    <tr>\n",
              "      <th>2</th>\n",
              "      <td>825000.0</td>\n",
              "      <td>40</td>\n",
              "      <td>108</td>\n",
              "      <td>14</td>\n",
              "      <td>11</td>\n",
              "      <td>9</td>\n",
              "      <td>33</td>\n",
              "      <td>1</td>\n",
              "      <td>0</td>\n",
              "      <td>14.0</td>\n",
              "      <td>14.000000</td>\n",
              "    </tr>\n",
              "    <tr>\n",
              "      <th>3</th>\n",
              "      <td>650000.0</td>\n",
              "      <td>40</td>\n",
              "      <td>96</td>\n",
              "      <td>12</td>\n",
              "      <td>13</td>\n",
              "      <td>7</td>\n",
              "      <td>32</td>\n",
              "      <td>1</td>\n",
              "      <td>0</td>\n",
              "      <td>12.0</td>\n",
              "      <td>12.000000</td>\n",
              "    </tr>\n",
              "    <tr>\n",
              "      <th>4</th>\n",
              "      <td>562000.0</td>\n",
              "      <td>40</td>\n",
              "      <td>74</td>\n",
              "      <td>11</td>\n",
              "      <td>14</td>\n",
              "      <td>5</td>\n",
              "      <td>34</td>\n",
              "      <td>1</td>\n",
              "      <td>0</td>\n",
              "      <td>6.0</td>\n",
              "      <td>11.000000</td>\n",
              "    </tr>\n",
              "    <tr>\n",
              "      <th>5</th>\n",
              "      <td>1400000.0</td>\n",
              "      <td>40</td>\n",
              "      <td>116</td>\n",
              "      <td>16</td>\n",
              "      <td>14</td>\n",
              "      <td>2</td>\n",
              "      <td>35</td>\n",
              "      <td>1</td>\n",
              "      <td>1</td>\n",
              "      <td>8.0</td>\n",
              "      <td>9.691238</td>\n",
              "    </tr>\n",
              "    <tr>\n",
              "      <th>6</th>\n",
              "      <td>600000.0</td>\n",
              "      <td>40</td>\n",
              "      <td>91</td>\n",
              "      <td>10</td>\n",
              "      <td>13</td>\n",
              "      <td>0</td>\n",
              "      <td>30</td>\n",
              "      <td>0</td>\n",
              "      <td>0</td>\n",
              "      <td>8.0</td>\n",
              "      <td>8.000000</td>\n",
              "    </tr>\n",
              "    <tr>\n",
              "      <th>7</th>\n",
              "      <td>1081000.0</td>\n",
              "      <td>40</td>\n",
              "      <td>114</td>\n",
              "      <td>18</td>\n",
              "      <td>8</td>\n",
              "      <td>14</td>\n",
              "      <td>38</td>\n",
              "      <td>1</td>\n",
              "      <td>0</td>\n",
              "      <td>8.0</td>\n",
              "      <td>10.316720</td>\n",
              "    </tr>\n",
              "    <tr>\n",
              "      <th>8</th>\n",
              "      <td>1154000.0</td>\n",
              "      <td>45</td>\n",
              "      <td>111</td>\n",
              "      <td>15</td>\n",
              "      <td>13</td>\n",
              "      <td>1</td>\n",
              "      <td>36</td>\n",
              "      <td>1</td>\n",
              "      <td>0</td>\n",
              "      <td>14.0</td>\n",
              "      <td>5.000000</td>\n",
              "    </tr>\n",
              "    <tr>\n",
              "      <th>9</th>\n",
              "      <td>1000000.0</td>\n",
              "      <td>40</td>\n",
              "      <td>95</td>\n",
              "      <td>12</td>\n",
              "      <td>16</td>\n",
              "      <td>16</td>\n",
              "      <td>36</td>\n",
              "      <td>1</td>\n",
              "      <td>0</td>\n",
              "      <td>12.0</td>\n",
              "      <td>11.000000</td>\n",
              "    </tr>\n",
              "  </tbody>\n",
              "</table>\n",
              "</div>\n",
              "      <button class=\"colab-df-convert\" onclick=\"convertToInteractive('df-632d0d88-6c24-4062-ae54-38440246bc51')\"\n",
              "              title=\"Convert this dataframe to an interactive table.\"\n",
              "              style=\"display:none;\">\n",
              "        \n",
              "  <svg xmlns=\"http://www.w3.org/2000/svg\" height=\"24px\"viewBox=\"0 0 24 24\"\n",
              "       width=\"24px\">\n",
              "    <path d=\"M0 0h24v24H0V0z\" fill=\"none\"/>\n",
              "    <path d=\"M18.56 5.44l.94 2.06.94-2.06 2.06-.94-2.06-.94-.94-2.06-.94 2.06-2.06.94zm-11 1L8.5 8.5l.94-2.06 2.06-.94-2.06-.94L8.5 2.5l-.94 2.06-2.06.94zm10 10l.94 2.06.94-2.06 2.06-.94-2.06-.94-.94-2.06-.94 2.06-2.06.94z\"/><path d=\"M17.41 7.96l-1.37-1.37c-.4-.4-.92-.59-1.43-.59-.52 0-1.04.2-1.43.59L10.3 9.45l-7.72 7.72c-.78.78-.78 2.05 0 2.83L4 21.41c.39.39.9.59 1.41.59.51 0 1.02-.2 1.41-.59l7.78-7.78 2.81-2.81c.8-.78.8-2.07 0-2.86zM5.41 20L4 18.59l7.72-7.72 1.47 1.35L5.41 20z\"/>\n",
              "  </svg>\n",
              "      </button>\n",
              "      \n",
              "  <style>\n",
              "    .colab-df-container {\n",
              "      display:flex;\n",
              "      flex-wrap:wrap;\n",
              "      gap: 12px;\n",
              "    }\n",
              "\n",
              "    .colab-df-convert {\n",
              "      background-color: #E8F0FE;\n",
              "      border: none;\n",
              "      border-radius: 50%;\n",
              "      cursor: pointer;\n",
              "      display: none;\n",
              "      fill: #1967D2;\n",
              "      height: 32px;\n",
              "      padding: 0 0 0 0;\n",
              "      width: 32px;\n",
              "    }\n",
              "\n",
              "    .colab-df-convert:hover {\n",
              "      background-color: #E2EBFA;\n",
              "      box-shadow: 0px 1px 2px rgba(60, 64, 67, 0.3), 0px 1px 3px 1px rgba(60, 64, 67, 0.15);\n",
              "      fill: #174EA6;\n",
              "    }\n",
              "\n",
              "    [theme=dark] .colab-df-convert {\n",
              "      background-color: #3B4455;\n",
              "      fill: #D2E3FC;\n",
              "    }\n",
              "\n",
              "    [theme=dark] .colab-df-convert:hover {\n",
              "      background-color: #434B5C;\n",
              "      box-shadow: 0px 1px 3px 1px rgba(0, 0, 0, 0.15);\n",
              "      filter: drop-shadow(0px 1px 2px rgba(0, 0, 0, 0.3));\n",
              "      fill: #FFFFFF;\n",
              "    }\n",
              "  </style>\n",
              "\n",
              "      <script>\n",
              "        const buttonEl =\n",
              "          document.querySelector('#df-632d0d88-6c24-4062-ae54-38440246bc51 button.colab-df-convert');\n",
              "        buttonEl.style.display =\n",
              "          google.colab.kernel.accessAllowed ? 'block' : 'none';\n",
              "\n",
              "        async function convertToInteractive(key) {\n",
              "          const element = document.querySelector('#df-632d0d88-6c24-4062-ae54-38440246bc51');\n",
              "          const dataTable =\n",
              "            await google.colab.kernel.invokeFunction('convertToInteractive',\n",
              "                                                     [key], {});\n",
              "          if (!dataTable) return;\n",
              "\n",
              "          const docLinkHtml = 'Like what you see? Visit the ' +\n",
              "            '<a target=\"_blank\" href=https://colab.research.google.com/notebooks/data_table.ipynb>data table notebook</a>'\n",
              "            + ' to learn more about interactive tables.';\n",
              "          element.innerHTML = '';\n",
              "          dataTable['output_type'] = 'display_data';\n",
              "          await google.colab.output.renderOutput(dataTable, element);\n",
              "          const docLink = document.createElement('div');\n",
              "          docLink.innerHTML = docLinkHtml;\n",
              "          element.appendChild(docLink);\n",
              "        }\n",
              "      </script>\n",
              "    </div>\n",
              "  </div>\n",
              "  "
            ],
            "text/plain": [
              "        wage  hours   IQ  educ  exper  tenure  age  married  black  meduc  \\\n",
              "0   769000.0     40   93    12     11       2   31        1      0    8.0   \n",
              "1   808000.0     50  119    18     11      16   37        1      0   14.0   \n",
              "2   825000.0     40  108    14     11       9   33        1      0   14.0   \n",
              "3   650000.0     40   96    12     13       7   32        1      0   12.0   \n",
              "4   562000.0     40   74    11     14       5   34        1      0    6.0   \n",
              "5  1400000.0     40  116    16     14       2   35        1      1    8.0   \n",
              "6   600000.0     40   91    10     13       0   30        0      0    8.0   \n",
              "7  1081000.0     40  114    18      8      14   38        1      0    8.0   \n",
              "8  1154000.0     45  111    15     13       1   36        1      0   14.0   \n",
              "9  1000000.0     40   95    12     16      16   36        1      0   12.0   \n",
              "\n",
              "       feduc  \n",
              "0   8.000000  \n",
              "1  14.000000  \n",
              "2  14.000000  \n",
              "3  12.000000  \n",
              "4  11.000000  \n",
              "5   9.691238  \n",
              "6   8.000000  \n",
              "7  10.316720  \n",
              "8   5.000000  \n",
              "9  11.000000  "
            ]
          },
          "execution_count": 54,
          "metadata": {},
          "output_type": "execute_result"
        }
      ],
      "source": [
        "df.head(10)"
      ]
    },
    {
      "cell_type": "markdown",
      "metadata": {
        "id": "ExhcLP4x-kTp"
      },
      "source": [
        "## Data visualization "
      ]
    },
    {
      "cell_type": "code",
      "execution_count": 55,
      "metadata": {
        "colab": {
          "base_uri": "https://localhost:8080/",
          "height": 381
        },
        "id": "yY92hDkg-kTp",
        "outputId": "3e9c5df3-9b8d-4083-a215-8549bbf3678f"
      },
      "outputs": [
        {
          "data": {
            "image/png": "[encoded data removed]",
            "text/plain": [
              "<Figure size 720x432 with 2 Axes>"
            ]
          },
          "metadata": {},
          "output_type": "display_data"
        }
      ],
      "source": [
        "plt.figure(figsize=(10,6))\n",
        "sns.heatmap(df.corr(), cmap='coolwarm',annot=True)\n",
        "plt.show()"
      ]
    },
    {
      "cell_type": "markdown",
      "metadata": {
        "id": "UcjBNmag-kTp"
      },
      "source": [
        "## Scaling the features: \n",
        "\n",
        "The following step is very important for **KNN regression**. Because any variable on the larger scale, has a larger effect on the distance between observations. \n",
        "\n",
        "In this data set, because married and black are dummy variables, we don't need to standardize them! "
      ]
    },
    {
      "cell_type": "code",
      "execution_count": 56,
      "metadata": {
        "id": "6Pu4F8Fh-kTp"
      },
      "outputs": [],
      "source": [
        "from sklearn.preprocessing import StandardScaler\n",
        "scaler=StandardScaler()\n",
        "df_sc= scaler.fit_transform(df)"
      ]
    },
    {
      "cell_type": "code",
      "execution_count": 57,
      "metadata": {
        "colab": {
          "base_uri": "https://localhost:8080/",
          "height": 206
        },
        "id": "UqnSuSl8-kTp",
        "outputId": "1926a8cc-64f2-447a-aa86-b90ff75569a6"
      },
      "outputs": [
        {
          "data": {
            "text/html": [
              "\n",
              "  <div id=\"df-54609b85-857c-4177-a1fd-7e03ae9fd667\">\n",
              "    <div class=\"colab-df-container\">\n",
              "      <div>\n",
              "<style scoped>\n",
              "    .dataframe tbody tr th:only-of-type {\n",
              "        vertical-align: middle;\n",
              "    }\n",
              "\n",
              "    .dataframe tbody tr th {\n",
              "        vertical-align: top;\n",
              "    }\n",
              "\n",
              "    .dataframe thead th {\n",
              "        text-align: right;\n",
              "    }\n",
              "</style>\n",
              "<table border=\"1\" class=\"dataframe\">\n",
              "  <thead>\n",
              "    <tr style=\"text-align: right;\">\n",
              "      <th></th>\n",
              "      <th>wage</th>\n",
              "      <th>hours</th>\n",
              "      <th>IQ</th>\n",
              "      <th>educ</th>\n",
              "      <th>exper</th>\n",
              "      <th>tenure</th>\n",
              "      <th>age</th>\n",
              "      <th>married</th>\n",
              "      <th>black</th>\n",
              "      <th>meduc</th>\n",
              "      <th>feduc</th>\n",
              "    </tr>\n",
              "  </thead>\n",
              "  <tbody>\n",
              "    <tr>\n",
              "      <th>0</th>\n",
              "      <td>-0.467520</td>\n",
              "      <td>-0.544210</td>\n",
              "      <td>-0.550521</td>\n",
              "      <td>-0.668851</td>\n",
              "      <td>-0.128912</td>\n",
              "      <td>-1.031884</td>\n",
              "      <td>-0.669710</td>\n",
              "      <td>0.346064</td>\n",
              "      <td>-0.383718</td>\n",
              "      <td>-1.015114</td>\n",
              "      <td>-0.701140</td>\n",
              "    </tr>\n",
              "    <tr>\n",
              "      <th>1</th>\n",
              "      <td>-0.371019</td>\n",
              "      <td>0.840756</td>\n",
              "      <td>1.177676</td>\n",
              "      <td>2.064038</td>\n",
              "      <td>-0.128912</td>\n",
              "      <td>1.728101</td>\n",
              "      <td>1.261947</td>\n",
              "      <td>0.346064</td>\n",
              "      <td>-0.383718</td>\n",
              "      <td>1.165962</td>\n",
              "      <td>1.270427</td>\n",
              "    </tr>\n",
              "    <tr>\n",
              "      <th>2</th>\n",
              "      <td>-0.328955</td>\n",
              "      <td>-0.544210</td>\n",
              "      <td>0.446516</td>\n",
              "      <td>0.242112</td>\n",
              "      <td>-0.128912</td>\n",
              "      <td>0.348108</td>\n",
              "      <td>-0.025824</td>\n",
              "      <td>0.346064</td>\n",
              "      <td>-0.383718</td>\n",
              "      <td>1.165962</td>\n",
              "      <td>1.270427</td>\n",
              "    </tr>\n",
              "    <tr>\n",
              "      <th>3</th>\n",
              "      <td>-0.761969</td>\n",
              "      <td>-0.544210</td>\n",
              "      <td>-0.351113</td>\n",
              "      <td>-0.668851</td>\n",
              "      <td>0.328518</td>\n",
              "      <td>-0.046175</td>\n",
              "      <td>-0.347767</td>\n",
              "      <td>0.346064</td>\n",
              "      <td>-0.383718</td>\n",
              "      <td>0.438937</td>\n",
              "      <td>0.613238</td>\n",
              "    </tr>\n",
              "    <tr>\n",
              "      <th>4</th>\n",
              "      <td>-0.979713</td>\n",
              "      <td>-0.544210</td>\n",
              "      <td>-1.813433</td>\n",
              "      <td>-1.124333</td>\n",
              "      <td>0.557234</td>\n",
              "      <td>-0.440459</td>\n",
              "      <td>0.296119</td>\n",
              "      <td>0.346064</td>\n",
              "      <td>-0.383718</td>\n",
              "      <td>-1.742140</td>\n",
              "      <td>0.284644</td>\n",
              "    </tr>\n",
              "  </tbody>\n",
              "</table>\n",
              "</div>\n",
              "      <button class=\"colab-df-convert\" onclick=\"convertToInteractive('df-54609b85-857c-4177-a1fd-7e03ae9fd667')\"\n",
              "              title=\"Convert this dataframe to an interactive table.\"\n",
              "              style=\"display:none;\">\n",
              "        \n",
              "  <svg xmlns=\"http://www.w3.org/2000/svg\" height=\"24px\"viewBox=\"0 0 24 24\"\n",
              "       width=\"24px\">\n",
              "    <path d=\"M0 0h24v24H0V0z\" fill=\"none\"/>\n",
              "    <path d=\"M18.56 5.44l.94 2.06.94-2.06 2.06-.94-2.06-.94-.94-2.06-.94 2.06-2.06.94zm-11 1L8.5 8.5l.94-2.06 2.06-.94-2.06-.94L8.5 2.5l-.94 2.06-2.06.94zm10 10l.94 2.06.94-2.06 2.06-.94-2.06-.94-.94-2.06-.94 2.06-2.06.94z\"/><path d=\"M17.41 7.96l-1.37-1.37c-.4-.4-.92-.59-1.43-.59-.52 0-1.04.2-1.43.59L10.3 9.45l-7.72 7.72c-.78.78-.78 2.05 0 2.83L4 21.41c.39.39.9.59 1.41.59.51 0 1.02-.2 1.41-.59l7.78-7.78 2.81-2.81c.8-.78.8-2.07 0-2.86zM5.41 20L4 18.59l7.72-7.72 1.47 1.35L5.41 20z\"/>\n",
              "  </svg>\n",
              "      </button>\n",
              "      \n",
              "  <style>\n",
              "    .colab-df-container {\n",
              "      display:flex;\n",
              "      flex-wrap:wrap;\n",
              "      gap: 12px;\n",
              "    }\n",
              "\n",
              "    .colab-df-convert {\n",
              "      background-color: #E8F0FE;\n",
              "      border: none;\n",
              "      border-radius: 50%;\n",
              "      cursor: pointer;\n",
              "      display: none;\n",
              "      fill: #1967D2;\n",
              "      height: 32px;\n",
              "      padding: 0 0 0 0;\n",
              "      width: 32px;\n",
              "    }\n",
              "\n",
              "    .colab-df-convert:hover {\n",
              "      background-color: #E2EBFA;\n",
              "      box-shadow: 0px 1px 2px rgba(60, 64, 67, 0.3), 0px 1px 3px 1px rgba(60, 64, 67, 0.15);\n",
              "      fill: #174EA6;\n",
              "    }\n",
              "\n",
              "    [theme=dark] .colab-df-convert {\n",
              "      background-color: #3B4455;\n",
              "      fill: #D2E3FC;\n",
              "    }\n",
              "\n",
              "    [theme=dark] .colab-df-convert:hover {\n",
              "      background-color: #434B5C;\n",
              "      box-shadow: 0px 1px 3px 1px rgba(0, 0, 0, 0.15);\n",
              "      filter: drop-shadow(0px 1px 2px rgba(0, 0, 0, 0.3));\n",
              "      fill: #FFFFFF;\n",
              "    }\n",
              "  </style>\n",
              "\n",
              "      <script>\n",
              "        const buttonEl =\n",
              "          document.querySelector('#df-54609b85-857c-4177-a1fd-7e03ae9fd667 button.colab-df-convert');\n",
              "        buttonEl.style.display =\n",
              "          google.colab.kernel.accessAllowed ? 'block' : 'none';\n",
              "\n",
              "        async function convertToInteractive(key) {\n",
              "          const element = document.querySelector('#df-54609b85-857c-4177-a1fd-7e03ae9fd667');\n",
              "          const dataTable =\n",
              "            await google.colab.kernel.invokeFunction('convertToInteractive',\n",
              "                                                     [key], {});\n",
              "          if (!dataTable) return;\n",
              "\n",
              "          const docLinkHtml = 'Like what you see? Visit the ' +\n",
              "            '<a target=\"_blank\" href=https://colab.research.google.com/notebooks/data_table.ipynb>data table notebook</a>'\n",
              "            + ' to learn more about interactive tables.';\n",
              "          element.innerHTML = '';\n",
              "          dataTable['output_type'] = 'display_data';\n",
              "          await google.colab.output.renderOutput(dataTable, element);\n",
              "          const docLink = document.createElement('div');\n",
              "          docLink.innerHTML = docLinkHtml;\n",
              "          element.appendChild(docLink);\n",
              "        }\n",
              "      </script>\n",
              "    </div>\n",
              "  </div>\n",
              "  "
            ],
            "text/plain": [
              "       wage     hours        IQ      educ     exper    tenure       age  \\\n",
              "0 -0.467520 -0.544210 -0.550521 -0.668851 -0.128912 -1.031884 -0.669710   \n",
              "1 -0.371019  0.840756  1.177676  2.064038 -0.128912  1.728101  1.261947   \n",
              "2 -0.328955 -0.544210  0.446516  0.242112 -0.128912  0.348108 -0.025824   \n",
              "3 -0.761969 -0.544210 -0.351113 -0.668851  0.328518 -0.046175 -0.347767   \n",
              "4 -0.979713 -0.544210 -1.813433 -1.124333  0.557234 -0.440459  0.296119   \n",
              "\n",
              "    married     black     meduc     feduc  \n",
              "0  0.346064 -0.383718 -1.015114 -0.701140  \n",
              "1  0.346064 -0.383718  1.165962  1.270427  \n",
              "2  0.346064 -0.383718  1.165962  1.270427  \n",
              "3  0.346064 -0.383718  0.438937  0.613238  \n",
              "4  0.346064 -0.383718 -1.742140  0.284644  "
            ]
          },
          "execution_count": 57,
          "metadata": {},
          "output_type": "execute_result"
        }
      ],
      "source": [
        "df_sc = pd.DataFrame(df_sc, columns=df.columns)\n",
        "df_sc.head()"
      ]
    },
    {
      "cell_type": "code",
      "execution_count": 58,
      "metadata": {
        "colab": {
          "base_uri": "https://localhost:8080/",
          "height": 143
        },
        "id": "HrWSqMSC-kTq",
        "outputId": "0c46f58e-d2ba-40f9-ebcb-94200ac49f9c"
      },
      "outputs": [
        {
          "data": {
            "text/html": [
              "\n",
              "  <div id=\"df-fb62dfd7-38d7-40ec-a620-2f4e40f75b0b\">\n",
              "    <div class=\"colab-df-container\">\n",
              "      <div>\n",
              "<style scoped>\n",
              "    .dataframe tbody tr th:only-of-type {\n",
              "        vertical-align: middle;\n",
              "    }\n",
              "\n",
              "    .dataframe tbody tr th {\n",
              "        vertical-align: top;\n",
              "    }\n",
              "\n",
              "    .dataframe thead th {\n",
              "        text-align: right;\n",
              "    }\n",
              "</style>\n",
              "<table border=\"1\" class=\"dataframe\">\n",
              "  <thead>\n",
              "    <tr style=\"text-align: right;\">\n",
              "      <th></th>\n",
              "      <th>wage</th>\n",
              "      <th>hours</th>\n",
              "      <th>IQ</th>\n",
              "      <th>educ</th>\n",
              "      <th>exper</th>\n",
              "      <th>tenure</th>\n",
              "      <th>age</th>\n",
              "      <th>married</th>\n",
              "      <th>black</th>\n",
              "      <th>meduc</th>\n",
              "      <th>feduc</th>\n",
              "    </tr>\n",
              "  </thead>\n",
              "  <tbody>\n",
              "    <tr>\n",
              "      <th>0</th>\n",
              "      <td>-0.467520</td>\n",
              "      <td>-0.544210</td>\n",
              "      <td>-0.550521</td>\n",
              "      <td>-0.668851</td>\n",
              "      <td>-0.128912</td>\n",
              "      <td>-1.031884</td>\n",
              "      <td>-0.669710</td>\n",
              "      <td>1</td>\n",
              "      <td>0</td>\n",
              "      <td>-1.015114</td>\n",
              "      <td>-0.701140</td>\n",
              "    </tr>\n",
              "    <tr>\n",
              "      <th>1</th>\n",
              "      <td>-0.371019</td>\n",
              "      <td>0.840756</td>\n",
              "      <td>1.177676</td>\n",
              "      <td>2.064038</td>\n",
              "      <td>-0.128912</td>\n",
              "      <td>1.728101</td>\n",
              "      <td>1.261947</td>\n",
              "      <td>1</td>\n",
              "      <td>0</td>\n",
              "      <td>1.165962</td>\n",
              "      <td>1.270427</td>\n",
              "    </tr>\n",
              "    <tr>\n",
              "      <th>2</th>\n",
              "      <td>-0.328955</td>\n",
              "      <td>-0.544210</td>\n",
              "      <td>0.446516</td>\n",
              "      <td>0.242112</td>\n",
              "      <td>-0.128912</td>\n",
              "      <td>0.348108</td>\n",
              "      <td>-0.025824</td>\n",
              "      <td>1</td>\n",
              "      <td>0</td>\n",
              "      <td>1.165962</td>\n",
              "      <td>1.270427</td>\n",
              "    </tr>\n",
              "  </tbody>\n",
              "</table>\n",
              "</div>\n",
              "      <button class=\"colab-df-convert\" onclick=\"convertToInteractive('df-fb62dfd7-38d7-40ec-a620-2f4e40f75b0b')\"\n",
              "              title=\"Convert this dataframe to an interactive table.\"\n",
              "              style=\"display:none;\">\n",
              "        \n",
              "  <svg xmlns=\"http://www.w3.org/2000/svg\" height=\"24px\"viewBox=\"0 0 24 24\"\n",
              "       width=\"24px\">\n",
              "    <path d=\"M0 0h24v24H0V0z\" fill=\"none\"/>\n",
              "    <path d=\"M18.56 5.44l.94 2.06.94-2.06 2.06-.94-2.06-.94-.94-2.06-.94 2.06-2.06.94zm-11 1L8.5 8.5l.94-2.06 2.06-.94-2.06-.94L8.5 2.5l-.94 2.06-2.06.94zm10 10l.94 2.06.94-2.06 2.06-.94-2.06-.94-.94-2.06-.94 2.06-2.06.94z\"/><path d=\"M17.41 7.96l-1.37-1.37c-.4-.4-.92-.59-1.43-.59-.52 0-1.04.2-1.43.59L10.3 9.45l-7.72 7.72c-.78.78-.78 2.05 0 2.83L4 21.41c.39.39.9.59 1.41.59.51 0 1.02-.2 1.41-.59l7.78-7.78 2.81-2.81c.8-.78.8-2.07 0-2.86zM5.41 20L4 18.59l7.72-7.72 1.47 1.35L5.41 20z\"/>\n",
              "  </svg>\n",
              "      </button>\n",
              "      \n",
              "  <style>\n",
              "    .colab-df-container {\n",
              "      display:flex;\n",
              "      flex-wrap:wrap;\n",
              "      gap: 12px;\n",
              "    }\n",
              "\n",
              "    .colab-df-convert {\n",
              "      background-color: #E8F0FE;\n",
              "      border: none;\n",
              "      border-radius: 50%;\n",
              "      cursor: pointer;\n",
              "      display: none;\n",
              "      fill: #1967D2;\n",
              "      height: 32px;\n",
              "      padding: 0 0 0 0;\n",
              "      width: 32px;\n",
              "    }\n",
              "\n",
              "    .colab-df-convert:hover {\n",
              "      background-color: #E2EBFA;\n",
              "      box-shadow: 0px 1px 2px rgba(60, 64, 67, 0.3), 0px 1px 3px 1px rgba(60, 64, 67, 0.15);\n",
              "      fill: #174EA6;\n",
              "    }\n",
              "\n",
              "    [theme=dark] .colab-df-convert {\n",
              "      background-color: #3B4455;\n",
              "      fill: #D2E3FC;\n",
              "    }\n",
              "\n",
              "    [theme=dark] .colab-df-convert:hover {\n",
              "      background-color: #434B5C;\n",
              "      box-shadow: 0px 1px 3px 1px rgba(0, 0, 0, 0.15);\n",
              "      filter: drop-shadow(0px 1px 2px rgba(0, 0, 0, 0.3));\n",
              "      fill: #FFFFFF;\n",
              "    }\n",
              "  </style>\n",
              "\n",
              "      <script>\n",
              "        const buttonEl =\n",
              "          document.querySelector('#df-fb62dfd7-38d7-40ec-a620-2f4e40f75b0b button.colab-df-convert');\n",
              "        buttonEl.style.display =\n",
              "          google.colab.kernel.accessAllowed ? 'block' : 'none';\n",
              "\n",
              "        async function convertToInteractive(key) {\n",
              "          const element = document.querySelector('#df-fb62dfd7-38d7-40ec-a620-2f4e40f75b0b');\n",
              "          const dataTable =\n",
              "            await google.colab.kernel.invokeFunction('convertToInteractive',\n",
              "                                                     [key], {});\n",
              "          if (!dataTable) return;\n",
              "\n",
              "          const docLinkHtml = 'Like what you see? Visit the ' +\n",
              "            '<a target=\"_blank\" href=https://colab.research.google.com/notebooks/data_table.ipynb>data table notebook</a>'\n",
              "            + ' to learn more about interactive tables.';\n",
              "          element.innerHTML = '';\n",
              "          dataTable['output_type'] = 'display_data';\n",
              "          await google.colab.output.renderOutput(dataTable, element);\n",
              "          const docLink = document.createElement('div');\n",
              "          docLink.innerHTML = docLinkHtml;\n",
              "          element.appendChild(docLink);\n",
              "        }\n",
              "      </script>\n",
              "    </div>\n",
              "  </div>\n",
              "  "
            ],
            "text/plain": [
              "       wage     hours        IQ      educ     exper    tenure       age  \\\n",
              "0 -0.467520 -0.544210 -0.550521 -0.668851 -0.128912 -1.031884 -0.669710   \n",
              "1 -0.371019  0.840756  1.177676  2.064038 -0.128912  1.728101  1.261947   \n",
              "2 -0.328955 -0.544210  0.446516  0.242112 -0.128912  0.348108 -0.025824   \n",
              "\n",
              "   married  black     meduc     feduc  \n",
              "0        1      0 -1.015114 -0.701140  \n",
              "1        1      0  1.165962  1.270427  \n",
              "2        1      0  1.165962  1.270427  "
            ]
          },
          "execution_count": 58,
          "metadata": {},
          "output_type": "execute_result"
        }
      ],
      "source": [
        "df_sc['married']=df['married']\n",
        "df_sc['black']=df['black']\n",
        "df_sc.head(3)"
      ]
    },
    {
      "cell_type": "markdown",
      "metadata": {
        "id": "pjCcD1w3-kTq"
      },
      "source": [
        "### Defining the variables and splitting the data"
      ]
    },
    {
      "cell_type": "code",
      "execution_count": 59,
      "metadata": {
        "id": "SgwjqoTe-kTq"
      },
      "outputs": [],
      "source": [
        "y = df_sc['wage']\n",
        "X = df_sc.drop('wage', axis=1) # becareful inplace= False\n",
        "\n",
        "from sklearn.model_selection import train_test_split\n",
        "X_train, X_test, y_train, y_test = train_test_split(X, y, test_size=0.2, random_state=rand_state)"
      ]
    },
    {
      "cell_type": "code",
      "execution_count": 60,
      "metadata": {
        "colab": {
          "base_uri": "https://localhost:8080/",
          "height": 206
        },
        "id": "dCRklEKp-kTs",
        "outputId": "c19f483e-b8ea-4bd8-ac8d-c18dc10e237c"
      },
      "outputs": [
        {
          "data": {
            "text/html": [
              "\n",
              "  <div id=\"df-d4e77426-3572-4ebe-a33f-0c4ef288b5a8\">\n",
              "    <div class=\"colab-df-container\">\n",
              "      <div>\n",
              "<style scoped>\n",
              "    .dataframe tbody tr th:only-of-type {\n",
              "        vertical-align: middle;\n",
              "    }\n",
              "\n",
              "    .dataframe tbody tr th {\n",
              "        vertical-align: top;\n",
              "    }\n",
              "\n",
              "    .dataframe thead th {\n",
              "        text-align: right;\n",
              "    }\n",
              "</style>\n",
              "<table border=\"1\" class=\"dataframe\">\n",
              "  <thead>\n",
              "    <tr style=\"text-align: right;\">\n",
              "      <th></th>\n",
              "      <th>hours</th>\n",
              "      <th>IQ</th>\n",
              "      <th>educ</th>\n",
              "      <th>exper</th>\n",
              "      <th>tenure</th>\n",
              "      <th>age</th>\n",
              "      <th>married</th>\n",
              "      <th>black</th>\n",
              "      <th>meduc</th>\n",
              "      <th>feduc</th>\n",
              "    </tr>\n",
              "  </thead>\n",
              "  <tbody>\n",
              "    <tr>\n",
              "      <th>932</th>\n",
              "      <td>0.148273</td>\n",
              "      <td>-1.614026</td>\n",
              "      <td>-0.668851</td>\n",
              "      <td>0.099803</td>\n",
              "      <td>0.545250</td>\n",
              "      <td>-1.635539</td>\n",
              "      <td>1</td>\n",
              "      <td>1</td>\n",
              "      <td>-1.378627</td>\n",
              "      <td>-0.966075</td>\n",
              "    </tr>\n",
              "    <tr>\n",
              "      <th>82</th>\n",
              "      <td>-0.544210</td>\n",
              "      <td>-0.351113</td>\n",
              "      <td>-1.124333</td>\n",
              "      <td>0.785949</td>\n",
              "      <td>-0.834743</td>\n",
              "      <td>1.261947</td>\n",
              "      <td>1</td>\n",
              "      <td>0</td>\n",
              "      <td>-1.015114</td>\n",
              "      <td>-0.701140</td>\n",
              "    </tr>\n",
              "    <tr>\n",
              "      <th>370</th>\n",
              "      <td>-0.544210</td>\n",
              "      <td>1.443552</td>\n",
              "      <td>1.608556</td>\n",
              "      <td>0.557234</td>\n",
              "      <td>-0.046175</td>\n",
              "      <td>1.583890</td>\n",
              "      <td>1</td>\n",
              "      <td>0</td>\n",
              "      <td>0.438937</td>\n",
              "      <td>-1.358328</td>\n",
              "    </tr>\n",
              "    <tr>\n",
              "      <th>452</th>\n",
              "      <td>-0.544210</td>\n",
              "      <td>0.512985</td>\n",
              "      <td>-0.668851</td>\n",
              "      <td>0.557234</td>\n",
              "      <td>-1.229026</td>\n",
              "      <td>0.940004</td>\n",
              "      <td>1</td>\n",
              "      <td>0</td>\n",
              "      <td>-0.651601</td>\n",
              "      <td>-1.029734</td>\n",
              "    </tr>\n",
              "    <tr>\n",
              "      <th>132</th>\n",
              "      <td>-0.544210</td>\n",
              "      <td>-0.284644</td>\n",
              "      <td>-0.668851</td>\n",
              "      <td>-0.357628</td>\n",
              "      <td>-0.637601</td>\n",
              "      <td>-0.669710</td>\n",
              "      <td>1</td>\n",
              "      <td>0</td>\n",
              "      <td>0.438937</td>\n",
              "      <td>0.613238</td>\n",
              "    </tr>\n",
              "  </tbody>\n",
              "</table>\n",
              "</div>\n",
              "      <button class=\"colab-df-convert\" onclick=\"convertToInteractive('df-d4e77426-3572-4ebe-a33f-0c4ef288b5a8')\"\n",
              "              title=\"Convert this dataframe to an interactive table.\"\n",
              "              style=\"display:none;\">\n",
              "        \n",
              "  <svg xmlns=\"http://www.w3.org/2000/svg\" height=\"24px\"viewBox=\"0 0 24 24\"\n",
              "       width=\"24px\">\n",
              "    <path d=\"M0 0h24v24H0V0z\" fill=\"none\"/>\n",
              "    <path d=\"M18.56 5.44l.94 2.06.94-2.06 2.06-.94-2.06-.94-.94-2.06-.94 2.06-2.06.94zm-11 1L8.5 8.5l.94-2.06 2.06-.94-2.06-.94L8.5 2.5l-.94 2.06-2.06.94zm10 10l.94 2.06.94-2.06 2.06-.94-2.06-.94-.94-2.06-.94 2.06-2.06.94z\"/><path d=\"M17.41 7.96l-1.37-1.37c-.4-.4-.92-.59-1.43-.59-.52 0-1.04.2-1.43.59L10.3 9.45l-7.72 7.72c-.78.78-.78 2.05 0 2.83L4 21.41c.39.39.9.59 1.41.59.51 0 1.02-.2 1.41-.59l7.78-7.78 2.81-2.81c.8-.78.8-2.07 0-2.86zM5.41 20L4 18.59l7.72-7.72 1.47 1.35L5.41 20z\"/>\n",
              "  </svg>\n",
              "      </button>\n",
              "      \n",
              "  <style>\n",
              "    .colab-df-container {\n",
              "      display:flex;\n",
              "      flex-wrap:wrap;\n",
              "      gap: 12px;\n",
              "    }\n",
              "\n",
              "    .colab-df-convert {\n",
              "      background-color: #E8F0FE;\n",
              "      border: none;\n",
              "      border-radius: 50%;\n",
              "      cursor: pointer;\n",
              "      display: none;\n",
              "      fill: #1967D2;\n",
              "      height: 32px;\n",
              "      padding: 0 0 0 0;\n",
              "      width: 32px;\n",
              "    }\n",
              "\n",
              "    .colab-df-convert:hover {\n",
              "      background-color: #E2EBFA;\n",
              "      box-shadow: 0px 1px 2px rgba(60, 64, 67, 0.3), 0px 1px 3px 1px rgba(60, 64, 67, 0.15);\n",
              "      fill: #174EA6;\n",
              "    }\n",
              "\n",
              "    [theme=dark] .colab-df-convert {\n",
              "      background-color: #3B4455;\n",
              "      fill: #D2E3FC;\n",
              "    }\n",
              "\n",
              "    [theme=dark] .colab-df-convert:hover {\n",
              "      background-color: #434B5C;\n",
              "      box-shadow: 0px 1px 3px 1px rgba(0, 0, 0, 0.15);\n",
              "      filter: drop-shadow(0px 1px 2px rgba(0, 0, 0, 0.3));\n",
              "      fill: #FFFFFF;\n",
              "    }\n",
              "  </style>\n",
              "\n",
              "      <script>\n",
              "        const buttonEl =\n",
              "          document.querySelector('#df-d4e77426-3572-4ebe-a33f-0c4ef288b5a8 button.colab-df-convert');\n",
              "        buttonEl.style.display =\n",
              "          google.colab.kernel.accessAllowed ? 'block' : 'none';\n",
              "\n",
              "        async function convertToInteractive(key) {\n",
              "          const element = document.querySelector('#df-d4e77426-3572-4ebe-a33f-0c4ef288b5a8');\n",
              "          const dataTable =\n",
              "            await google.colab.kernel.invokeFunction('convertToInteractive',\n",
              "                                                     [key], {});\n",
              "          if (!dataTable) return;\n",
              "\n",
              "          const docLinkHtml = 'Like what you see? Visit the ' +\n",
              "            '<a target=\"_blank\" href=https://colab.research.google.com/notebooks/data_table.ipynb>data table notebook</a>'\n",
              "            + ' to learn more about interactive tables.';\n",
              "          element.innerHTML = '';\n",
              "          dataTable['output_type'] = 'display_data';\n",
              "          await google.colab.output.renderOutput(dataTable, element);\n",
              "          const docLink = document.createElement('div');\n",
              "          docLink.innerHTML = docLinkHtml;\n",
              "          element.appendChild(docLink);\n",
              "        }\n",
              "      </script>\n",
              "    </div>\n",
              "  </div>\n",
              "  "
            ],
            "text/plain": [
              "        hours        IQ      educ     exper    tenure       age  married  \\\n",
              "932  0.148273 -1.614026 -0.668851  0.099803  0.545250 -1.635539        1   \n",
              "82  -0.544210 -0.351113 -1.124333  0.785949 -0.834743  1.261947        1   \n",
              "370 -0.544210  1.443552  1.608556  0.557234 -0.046175  1.583890        1   \n",
              "452 -0.544210  0.512985 -0.668851  0.557234 -1.229026  0.940004        1   \n",
              "132 -0.544210 -0.284644 -0.668851 -0.357628 -0.637601 -0.669710        1   \n",
              "\n",
              "     black     meduc     feduc  \n",
              "932      1 -1.378627 -0.966075  \n",
              "82       0 -1.015114 -0.701140  \n",
              "370      0  0.438937 -1.358328  \n",
              "452      0 -0.651601 -1.029734  \n",
              "132      0  0.438937  0.613238  "
            ]
          },
          "execution_count": 60,
          "metadata": {},
          "output_type": "execute_result"
        }
      ],
      "source": [
        "X_train.head()"
      ]
    },
    {
      "cell_type": "markdown",
      "metadata": {
        "id": "uB3WP33J-kTs"
      },
      "source": [
        "###  KNN Regression with Sklearn"
      ]
    },
    {
      "cell_type": "code",
      "execution_count": 61,
      "metadata": {
        "id": "5IsWorwf-kTs"
      },
      "outputs": [],
      "source": [
        "from sklearn.neighbors import KNeighborsRegressor"
      ]
    },
    {
      "cell_type": "code",
      "execution_count": 111,
      "metadata": {
        "colab": {
          "base_uri": "https://localhost:8080/"
        },
        "id": "TDUT9xvt-kTs",
        "outputId": "ed33032e-ccfd-42d7-f52b-a0ac82e472e1"
      },
      "outputs": [
        {
          "data": {
            "text/plain": [
              "KNeighborsRegressor()"
            ]
          },
          "execution_count": 111,
          "metadata": {},
          "output_type": "execute_result"
        }
      ],
      "source": [
        "# Fitting KNN regression to the Training set\n",
        "\n",
        "KNN_regression = KNeighborsRegressor(n_neighbors=5)\n",
        "KNN_regression.fit(X_train, y_train)"
      ]
    },
    {
      "cell_type": "markdown",
      "metadata": {
        "id": "_TrJreJy-kTt"
      },
      "source": [
        "Minkowski distance: https://en.wikipedia.org/wiki/Minkowski_distance"
      ]
    },
    {
      "cell_type": "code",
      "execution_count": 112,
      "metadata": {
        "id": "J-f5HpCc-kTt"
      },
      "outputs": [],
      "source": [
        "# Predicting the Test set results\n",
        "y_hat = KNN_regression.predict(X_test)"
      ]
    },
    {
      "cell_type": "code",
      "execution_count": 113,
      "metadata": {
        "colab": {
          "base_uri": "https://localhost:8080/",
          "height": 206
        },
        "id": "tJIt_8tL-kTt",
        "outputId": "75a58629-859b-4e61-c7c3-7fe17f4b8419"
      },
      "outputs": [
        {
          "data": {
            "text/html": [
              "\n",
              "  <div id=\"df-9b5c759c-9370-40e5-9d37-03aec72c24a9\">\n",
              "    <div class=\"colab-df-container\">\n",
              "      <div>\n",
              "<style scoped>\n",
              "    .dataframe tbody tr th:only-of-type {\n",
              "        vertical-align: middle;\n",
              "    }\n",
              "\n",
              "    .dataframe tbody tr th {\n",
              "        vertical-align: top;\n",
              "    }\n",
              "\n",
              "    .dataframe thead th {\n",
              "        text-align: right;\n",
              "    }\n",
              "</style>\n",
              "<table border=\"1\" class=\"dataframe\">\n",
              "  <thead>\n",
              "    <tr style=\"text-align: right;\">\n",
              "      <th></th>\n",
              "      <th>y_test</th>\n",
              "      <th>y_hat</th>\n",
              "    </tr>\n",
              "  </thead>\n",
              "  <tbody>\n",
              "    <tr>\n",
              "      <th>434</th>\n",
              "      <td>0.042199</td>\n",
              "      <td>-0.606084</td>\n",
              "    </tr>\n",
              "    <tr>\n",
              "      <th>238</th>\n",
              "      <td>1.910343</td>\n",
              "      <td>1.566901</td>\n",
              "    </tr>\n",
              "    <tr>\n",
              "      <th>531</th>\n",
              "      <td>-0.700110</td>\n",
              "      <td>-0.831251</td>\n",
              "    </tr>\n",
              "    <tr>\n",
              "      <th>157</th>\n",
              "      <td>2.328510</td>\n",
              "      <td>0.906246</td>\n",
              "    </tr>\n",
              "    <tr>\n",
              "      <th>601</th>\n",
              "      <td>1.341239</td>\n",
              "      <td>0.591508</td>\n",
              "    </tr>\n",
              "  </tbody>\n",
              "</table>\n",
              "</div>\n",
              "      <button class=\"colab-df-convert\" onclick=\"convertToInteractive('df-9b5c759c-9370-40e5-9d37-03aec72c24a9')\"\n",
              "              title=\"Convert this dataframe to an interactive table.\"\n",
              "              style=\"display:none;\">\n",
              "        \n",
              "  <svg xmlns=\"http://www.w3.org/2000/svg\" height=\"24px\"viewBox=\"0 0 24 24\"\n",
              "       width=\"24px\">\n",
              "    <path d=\"M0 0h24v24H0V0z\" fill=\"none\"/>\n",
              "    <path d=\"M18.56 5.44l.94 2.06.94-2.06 2.06-.94-2.06-.94-.94-2.06-.94 2.06-2.06.94zm-11 1L8.5 8.5l.94-2.06 2.06-.94-2.06-.94L8.5 2.5l-.94 2.06-2.06.94zm10 10l.94 2.06.94-2.06 2.06-.94-2.06-.94-.94-2.06-.94 2.06-2.06.94z\"/><path d=\"M17.41 7.96l-1.37-1.37c-.4-.4-.92-.59-1.43-.59-.52 0-1.04.2-1.43.59L10.3 9.45l-7.72 7.72c-.78.78-.78 2.05 0 2.83L4 21.41c.39.39.9.59 1.41.59.51 0 1.02-.2 1.41-.59l7.78-7.78 2.81-2.81c.8-.78.8-2.07 0-2.86zM5.41 20L4 18.59l7.72-7.72 1.47 1.35L5.41 20z\"/>\n",
              "  </svg>\n",
              "      </button>\n",
              "      \n",
              "  <style>\n",
              "    .colab-df-container {\n",
              "      display:flex;\n",
              "      flex-wrap:wrap;\n",
              "      gap: 12px;\n",
              "    }\n",
              "\n",
              "    .colab-df-convert {\n",
              "      background-color: #E8F0FE;\n",
              "      border: none;\n",
              "      border-radius: 50%;\n",
              "      cursor: pointer;\n",
              "      display: none;\n",
              "      fill: #1967D2;\n",
              "      height: 32px;\n",
              "      padding: 0 0 0 0;\n",
              "      width: 32px;\n",
              "    }\n",
              "\n",
              "    .colab-df-convert:hover {\n",
              "      background-color: #E2EBFA;\n",
              "      box-shadow: 0px 1px 2px rgba(60, 64, 67, 0.3), 0px 1px 3px 1px rgba(60, 64, 67, 0.15);\n",
              "      fill: #174EA6;\n",
              "    }\n",
              "\n",
              "    [theme=dark] .colab-df-convert {\n",
              "      background-color: #3B4455;\n",
              "      fill: #D2E3FC;\n",
              "    }\n",
              "\n",
              "    [theme=dark] .colab-df-convert:hover {\n",
              "      background-color: #434B5C;\n",
              "      box-shadow: 0px 1px 3px 1px rgba(0, 0, 0, 0.15);\n",
              "      filter: drop-shadow(0px 1px 2px rgba(0, 0, 0, 0.3));\n",
              "      fill: #FFFFFF;\n",
              "    }\n",
              "  </style>\n",
              "\n",
              "      <script>\n",
              "        const buttonEl =\n",
              "          document.querySelector('#df-9b5c759c-9370-40e5-9d37-03aec72c24a9 button.colab-df-convert');\n",
              "        buttonEl.style.display =\n",
              "          google.colab.kernel.accessAllowed ? 'block' : 'none';\n",
              "\n",
              "        async function convertToInteractive(key) {\n",
              "          const element = document.querySelector('#df-9b5c759c-9370-40e5-9d37-03aec72c24a9');\n",
              "          const dataTable =\n",
              "            await google.colab.kernel.invokeFunction('convertToInteractive',\n",
              "                                                     [key], {});\n",
              "          if (!dataTable) return;\n",
              "\n",
              "          const docLinkHtml = 'Like what you see? Visit the ' +\n",
              "            '<a target=\"_blank\" href=https://colab.research.google.com/notebooks/data_table.ipynb>data table notebook</a>'\n",
              "            + ' to learn more about interactive tables.';\n",
              "          element.innerHTML = '';\n",
              "          dataTable['output_type'] = 'display_data';\n",
              "          await google.colab.output.renderOutput(dataTable, element);\n",
              "          const docLink = document.createElement('div');\n",
              "          docLink.innerHTML = docLinkHtml;\n",
              "          element.appendChild(docLink);\n",
              "        }\n",
              "      </script>\n",
              "    </div>\n",
              "  </div>\n",
              "  "
            ],
            "text/plain": [
              "       y_test     y_hat\n",
              "434  0.042199 -0.606084\n",
              "238  1.910343  1.566901\n",
              "531 -0.700110 -0.831251\n",
              "157  2.328510  0.906246\n",
              "601  1.341239  0.591508"
            ]
          },
          "execution_count": 113,
          "metadata": {},
          "output_type": "execute_result"
        }
      ],
      "source": [
        "predictions = pd.DataFrame({ 'y_test':y_test,'y_hat':y_hat})\n",
        "predictions.head()"
      ]
    },
    {
      "cell_type": "code",
      "execution_count": 114,
      "metadata": {
        "colab": {
          "base_uri": "https://localhost:8080/",
          "height": 306
        },
        "id": "78OsNjVx-kTt",
        "outputId": "1630f31f-6606-42ae-a787-f3b5462c2ddd"
      },
      "outputs": [
        {
          "data": {
            "image/png": "[encoded data removed]",
            "text/plain": [
              "<Figure size 432x288 with 1 Axes>"
            ]
          },
          "metadata": {},
          "output_type": "display_data"
        }
      ],
      "source": [
        "sns.scatterplot(x=y_test, y=y_hat, alpha=0.6)\n",
        "sns.lineplot(y_test, y_test)\n",
        "\n",
        "plt.xlabel('Actual wage', fontsize=14)\n",
        "plt.ylabel('Prediced  wage', fontsize=14)\n",
        "plt.title('Actual vs Predicted  wage (test set)', fontsize=17)\n",
        "plt.show()"
      ]
    },
    {
      "cell_type": "code",
      "execution_count": 115,
      "metadata": {
        "colab": {
          "base_uri": "https://localhost:8080/"
        },
        "id": "58iXvpCt-kTt",
        "outputId": "7080db77-f68e-430b-b150-6da88b08e8fb"
      },
      "outputs": [
        {
          "data": {
            "text/plain": [
              "0.36109845395074536"
            ]
          },
          "execution_count": 115,
          "metadata": {},
          "output_type": "execute_result"
        }
      ],
      "source": [
        "KNN_regression.score(X_train, y_train)"
      ]
    },
    {
      "cell_type": "code",
      "execution_count": 116,
      "metadata": {
        "colab": {
          "base_uri": "https://localhost:8080/"
        },
        "id": "veHoyLsQ-kTu",
        "outputId": "4e4be0d3-4916-466b-9a49-409713051741"
      },
      "outputs": [
        {
          "data": {
            "text/plain": [
              "0.0544536351627124"
            ]
          },
          "execution_count": 116,
          "metadata": {},
          "output_type": "execute_result"
        }
      ],
      "source": [
        "KNN_regression.score(X_test, y_test)"
      ]
    },
    {
      "cell_type": "markdown",
      "metadata": {
        "id": "XrWooVg5-kTu"
      },
      "source": [
        "**Exercise**: \n",
        "* Now try k=748. What do you expect to see in the actual vs predicted plot?\n",
        "* How about when k=1? can you plot the actual vs predictions in the train set?"
      ]
    },
    {
      "cell_type": "markdown",
      "metadata": {
        "id": "--qUZSS4-kTu"
      },
      "source": [
        "----"
      ]
    },
    {
      "cell_type": "markdown",
      "metadata": {
        "id": "hGri2Kgy-kTu"
      },
      "source": [
        "## Performance metrics:"
      ]
    },
    {
      "cell_type": "code",
      "execution_count": 117,
      "metadata": {
        "colab": {
          "base_uri": "https://localhost:8080/"
        },
        "id": "X0rZjBDV-kTu",
        "outputId": "6fa6b320-0ec9-43ac-de91-143f20baa175"
      },
      "outputs": [
        {
          "data": {
            "text/plain": [
              "0.88"
            ]
          },
          "execution_count": 117,
          "metadata": {},
          "output_type": "execute_result"
        }
      ],
      "source": [
        "MSE_test = round(np.mean(np.square(y_test - y_hat)),2)\n",
        "MSE_test"
      ]
    },
    {
      "cell_type": "code",
      "execution_count": 118,
      "metadata": {
        "colab": {
          "base_uri": "https://localhost:8080/"
        },
        "id": "CakYU0Zd-kTu",
        "outputId": "69368851-4d2d-4b9c-f20e-52709c667205"
      },
      "outputs": [
        {
          "data": {
            "text/plain": [
              "0.94"
            ]
          },
          "execution_count": 118,
          "metadata": {},
          "output_type": "execute_result"
        }
      ],
      "source": [
        "RMSE_test = round(np.sqrt(MSE_test),2)\n",
        "RMSE_test"
      ]
    },
    {
      "cell_type": "markdown",
      "metadata": {
        "id": "7mGvGFwq-kTv"
      },
      "source": [
        "---"
      ]
    },
    {
      "cell_type": "markdown",
      "metadata": {
        "id": "mxukYNKd-kTv"
      },
      "source": [
        "##  Cross validation\n",
        "\n",
        "In KNN, we use cross validation to find the optimal value of K. "
      ]
    },
    {
      "cell_type": "code",
      "execution_count": 94,
      "metadata": {
        "id": "kDeNbPts-kTv"
      },
      "outputs": [],
      "source": [
        "from sklearn.model_selection import cross_val_score"
      ]
    },
    {
      "cell_type": "code",
      "execution_count": 95,
      "metadata": {
        "id": "qOPYPy_g-kTv"
      },
      "outputs": [],
      "source": [
        "NMSE = cross_val_score(estimator = KNN_regression, X = X_train, y = y_train, cv = 5 , scoring=\"neg_mean_squared_error\" )"
      ]
    },
    {
      "cell_type": "code",
      "execution_count": 96,
      "metadata": {
        "colab": {
          "base_uri": "https://localhost:8080/"
        },
        "id": "XYzdMs4d-kTv",
        "outputId": "16438cc2-7f36-4c92-fd70-357de2a5929a"
      },
      "outputs": [
        {
          "data": {
            "text/plain": [
              "0.9973"
            ]
          },
          "execution_count": 96,
          "metadata": {},
          "output_type": "execute_result"
        }
      ],
      "source": [
        "MSE_CV = round(np.mean(-NMSE),4)\n",
        "MSE_CV"
      ]
    },
    {
      "cell_type": "code",
      "execution_count": 97,
      "metadata": {
        "colab": {
          "base_uri": "https://localhost:8080/"
        },
        "id": "bF0ilAIZ-kTv",
        "outputId": "4a3b2180-b38a-4853-8cc8-36ce72d9128b"
      },
      "outputs": [
        {
          "data": {
            "text/plain": [
              "0.9986"
            ]
          },
          "execution_count": 97,
          "metadata": {},
          "output_type": "execute_result"
        }
      ],
      "source": [
        "RMSE_CV = round(np.sqrt(MSE_CV), 4)\n",
        "RMSE_CV"
      ]
    },
    {
      "cell_type": "markdown",
      "metadata": {
        "id": "YXLgOc47-kTv"
      },
      "source": [
        "----------------"
      ]
    },
    {
      "cell_type": "markdown",
      "metadata": {
        "id": "_tn8c-eq-kTw"
      },
      "source": [
        "## Choosing K\n",
        " \n",
        "Let's plot the RMSE_CV and RMSE_test vs K. "
      ]
    },
    {
      "cell_type": "code",
      "execution_count": 98,
      "metadata": {
        "id": "IW_i4jTg-kTw"
      },
      "outputs": [],
      "source": [
        "RMSE_CV=[]\n",
        "RMSE_test = []\n",
        "\n",
        "k=40\n",
        "\n",
        "for i in range(1,k):\n",
        "    KNN_i = KNeighborsRegressor(n_neighbors=i)\n",
        "    KNN_i.fit(X_train, y_train)\n",
        "    RMSE_i = np.sqrt(np.mean(-1*cross_val_score(estimator = KNN_i, X = X_train, y = y_train, cv = 10 , scoring=\"neg_mean_squared_error\" )))\n",
        "    RMSE_CV.append(RMSE_i)\n",
        "    \n",
        "    RMSE_test.append(np.sqrt(np.mean(np.square(y_test - KNN_i.predict(X_test)))))\n",
        "    \n",
        "optimal_k = pd.DataFrame({'RMSE_CV': np.round(RMSE_CV,2), 'RMSE_test':np.round(RMSE_test,2), 'K':range(1,k)})"
      ]
    },
    {
      "cell_type": "code",
      "execution_count": 99,
      "metadata": {
        "colab": {
          "base_uri": "https://localhost:8080/",
          "height": 363
        },
        "id": "ThL3aqMV-kTw",
        "outputId": "7d68ae86-4cb3-47d0-9934-ec3abf0f7985"
      },
      "outputs": [
        {
          "data": {
            "text/html": [
              "\n",
              "  <div id=\"df-6b6a4501-e8c5-4da4-b5f1-29bd4b2b6745\">\n",
              "    <div class=\"colab-df-container\">\n",
              "      <div>\n",
              "<style scoped>\n",
              "    .dataframe tbody tr th:only-of-type {\n",
              "        vertical-align: middle;\n",
              "    }\n",
              "\n",
              "    .dataframe tbody tr th {\n",
              "        vertical-align: top;\n",
              "    }\n",
              "\n",
              "    .dataframe thead th {\n",
              "        text-align: right;\n",
              "    }\n",
              "</style>\n",
              "<table border=\"1\" class=\"dataframe\">\n",
              "  <thead>\n",
              "    <tr style=\"text-align: right;\">\n",
              "      <th></th>\n",
              "      <th>RMSE_CV</th>\n",
              "      <th>RMSE_test</th>\n",
              "      <th>K</th>\n",
              "    </tr>\n",
              "  </thead>\n",
              "  <tbody>\n",
              "    <tr>\n",
              "      <th>0</th>\n",
              "      <td>1.19</td>\n",
              "      <td>1.27</td>\n",
              "      <td>1</td>\n",
              "    </tr>\n",
              "    <tr>\n",
              "      <th>1</th>\n",
              "      <td>1.10</td>\n",
              "      <td>1.10</td>\n",
              "      <td>2</td>\n",
              "    </tr>\n",
              "    <tr>\n",
              "      <th>2</th>\n",
              "      <td>1.04</td>\n",
              "      <td>1.00</td>\n",
              "      <td>3</td>\n",
              "    </tr>\n",
              "    <tr>\n",
              "      <th>3</th>\n",
              "      <td>1.01</td>\n",
              "      <td>0.96</td>\n",
              "      <td>4</td>\n",
              "    </tr>\n",
              "    <tr>\n",
              "      <th>4</th>\n",
              "      <td>0.99</td>\n",
              "      <td>0.94</td>\n",
              "      <td>5</td>\n",
              "    </tr>\n",
              "    <tr>\n",
              "      <th>5</th>\n",
              "      <td>0.99</td>\n",
              "      <td>0.92</td>\n",
              "      <td>6</td>\n",
              "    </tr>\n",
              "    <tr>\n",
              "      <th>6</th>\n",
              "      <td>0.98</td>\n",
              "      <td>0.90</td>\n",
              "      <td>7</td>\n",
              "    </tr>\n",
              "    <tr>\n",
              "      <th>7</th>\n",
              "      <td>0.97</td>\n",
              "      <td>0.89</td>\n",
              "      <td>8</td>\n",
              "    </tr>\n",
              "    <tr>\n",
              "      <th>8</th>\n",
              "      <td>0.96</td>\n",
              "      <td>0.89</td>\n",
              "      <td>9</td>\n",
              "    </tr>\n",
              "    <tr>\n",
              "      <th>9</th>\n",
              "      <td>0.96</td>\n",
              "      <td>0.89</td>\n",
              "      <td>10</td>\n",
              "    </tr>\n",
              "  </tbody>\n",
              "</table>\n",
              "</div>\n",
              "      <button class=\"colab-df-convert\" onclick=\"convertToInteractive('df-6b6a4501-e8c5-4da4-b5f1-29bd4b2b6745')\"\n",
              "              title=\"Convert this dataframe to an interactive table.\"\n",
              "              style=\"display:none;\">\n",
              "        \n",
              "  <svg xmlns=\"http://www.w3.org/2000/svg\" height=\"24px\"viewBox=\"0 0 24 24\"\n",
              "       width=\"24px\">\n",
              "    <path d=\"M0 0h24v24H0V0z\" fill=\"none\"/>\n",
              "    <path d=\"M18.56 5.44l.94 2.06.94-2.06 2.06-.94-2.06-.94-.94-2.06-.94 2.06-2.06.94zm-11 1L8.5 8.5l.94-2.06 2.06-.94-2.06-.94L8.5 2.5l-.94 2.06-2.06.94zm10 10l.94 2.06.94-2.06 2.06-.94-2.06-.94-.94-2.06-.94 2.06-2.06.94z\"/><path d=\"M17.41 7.96l-1.37-1.37c-.4-.4-.92-.59-1.43-.59-.52 0-1.04.2-1.43.59L10.3 9.45l-7.72 7.72c-.78.78-.78 2.05 0 2.83L4 21.41c.39.39.9.59 1.41.59.51 0 1.02-.2 1.41-.59l7.78-7.78 2.81-2.81c.8-.78.8-2.07 0-2.86zM5.41 20L4 18.59l7.72-7.72 1.47 1.35L5.41 20z\"/>\n",
              "  </svg>\n",
              "      </button>\n",
              "      \n",
              "  <style>\n",
              "    .colab-df-container {\n",
              "      display:flex;\n",
              "      flex-wrap:wrap;\n",
              "      gap: 12px;\n",
              "    }\n",
              "\n",
              "    .colab-df-convert {\n",
              "      background-color: #E8F0FE;\n",
              "      border: none;\n",
              "      border-radius: 50%;\n",
              "      cursor: pointer;\n",
              "      display: none;\n",
              "      fill: #1967D2;\n",
              "      height: 32px;\n",
              "      padding: 0 0 0 0;\n",
              "      width: 32px;\n",
              "    }\n",
              "\n",
              "    .colab-df-convert:hover {\n",
              "      background-color: #E2EBFA;\n",
              "      box-shadow: 0px 1px 2px rgba(60, 64, 67, 0.3), 0px 1px 3px 1px rgba(60, 64, 67, 0.15);\n",
              "      fill: #174EA6;\n",
              "    }\n",
              "\n",
              "    [theme=dark] .colab-df-convert {\n",
              "      background-color: #3B4455;\n",
              "      fill: #D2E3FC;\n",
              "    }\n",
              "\n",
              "    [theme=dark] .colab-df-convert:hover {\n",
              "      background-color: #434B5C;\n",
              "      box-shadow: 0px 1px 3px 1px rgba(0, 0, 0, 0.15);\n",
              "      filter: drop-shadow(0px 1px 2px rgba(0, 0, 0, 0.3));\n",
              "      fill: #FFFFFF;\n",
              "    }\n",
              "  </style>\n",
              "\n",
              "      <script>\n",
              "        const buttonEl =\n",
              "          document.querySelector('#df-6b6a4501-e8c5-4da4-b5f1-29bd4b2b6745 button.colab-df-convert');\n",
              "        buttonEl.style.display =\n",
              "          google.colab.kernel.accessAllowed ? 'block' : 'none';\n",
              "\n",
              "        async function convertToInteractive(key) {\n",
              "          const element = document.querySelector('#df-6b6a4501-e8c5-4da4-b5f1-29bd4b2b6745');\n",
              "          const dataTable =\n",
              "            await google.colab.kernel.invokeFunction('convertToInteractive',\n",
              "                                                     [key], {});\n",
              "          if (!dataTable) return;\n",
              "\n",
              "          const docLinkHtml = 'Like what you see? Visit the ' +\n",
              "            '<a target=\"_blank\" href=https://colab.research.google.com/notebooks/data_table.ipynb>data table notebook</a>'\n",
              "            + ' to learn more about interactive tables.';\n",
              "          element.innerHTML = '';\n",
              "          dataTable['output_type'] = 'display_data';\n",
              "          await google.colab.output.renderOutput(dataTable, element);\n",
              "          const docLink = document.createElement('div');\n",
              "          docLink.innerHTML = docLinkHtml;\n",
              "          element.appendChild(docLink);\n",
              "        }\n",
              "      </script>\n",
              "    </div>\n",
              "  </div>\n",
              "  "
            ],
            "text/plain": [
              "   RMSE_CV  RMSE_test   K\n",
              "0     1.19       1.27   1\n",
              "1     1.10       1.10   2\n",
              "2     1.04       1.00   3\n",
              "3     1.01       0.96   4\n",
              "4     0.99       0.94   5\n",
              "5     0.99       0.92   6\n",
              "6     0.98       0.90   7\n",
              "7     0.97       0.89   8\n",
              "8     0.96       0.89   9\n",
              "9     0.96       0.89  10"
            ]
          },
          "execution_count": 99,
          "metadata": {},
          "output_type": "execute_result"
        }
      ],
      "source": [
        "optimal_k.head(10)"
      ]
    },
    {
      "cell_type": "code",
      "execution_count": 100,
      "metadata": {
        "colab": {
          "base_uri": "https://localhost:8080/"
        },
        "id": "8oEz7Cke-kTw",
        "outputId": "81ec8092-9d3b-47c4-a542-bda49130831d"
      },
      "outputs": [
        {
          "data": {
            "text/plain": [
              "20"
            ]
          },
          "execution_count": 100,
          "metadata": {},
          "output_type": "execute_result"
        }
      ],
      "source": [
        "np.argmin(optimal_k['RMSE_CV'])"
      ]
    },
    {
      "cell_type": "code",
      "execution_count": 101,
      "metadata": {
        "colab": {
          "base_uri": "https://localhost:8080/"
        },
        "id": "px8F3gDG-kTw",
        "outputId": "eec10fe1-3925-4bd5-cdad-1ab7c326f9ad"
      },
      "outputs": [
        {
          "data": {
            "text/plain": [
              "21"
            ]
          },
          "execution_count": 101,
          "metadata": {},
          "output_type": "execute_result"
        }
      ],
      "source": [
        "optimal_k.loc[np.argmin(optimal_k['RMSE_CV']), 'K']"
      ]
    },
    {
      "cell_type": "code",
      "execution_count": 102,
      "metadata": {
        "colab": {
          "base_uri": "https://localhost:8080/",
          "height": 355
        },
        "id": "u-eUyTra-kTw",
        "outputId": "05fb2083-8e92-49ae-a883-4e8042da8e73"
      },
      "outputs": [
        {
          "data": {
            "image/png": "[encoded data removed]",
            "text/plain": [
              "<Figure size 720x360 with 1 Axes>"
            ]
          },
          "metadata": {},
          "output_type": "display_data"
        }
      ],
      "source": [
        "plt.figure(figsize=(10,5))\n",
        "sns.lineplot(data=optimal_k.drop('K', axis=1))\n",
        "plt.title('Cross Validated RMSE VS K')\n",
        "plt.xlabel('K')\n",
        "plt.ylabel('RMSE')\n",
        "plt.show()"
      ]
    },
    {
      "cell_type": "markdown",
      "metadata": {
        "id": "xkqvnCh5-kTx"
      },
      "source": [
        "**Exercise**:\n",
        "\n",
        "* By looking at this graph, What is the optimal K?\n",
        "* Can you compare the optimal KNN model with multiple regression model? what do you learn?"
      ]
    },
    {
      "cell_type": "markdown",
      "metadata": {
        "id": "0D4IpBl2-kTx"
      },
      "source": [
        "###  Additional links:\n",
        "1. Minkowski distance: https://en.wikipedia.org/wiki/Minkowski_distance\n",
        "2. Behind the scenes of Nearest Neigbor search: https://www.analyticsvidhya.com/blog/2017/11/information-retrieval-using-kdtree/\n",
        "3. BallTree vs KDTree vs Brute force KNN: https://towardsdatascience.com/tree-algorithms-explained-ball-tree-algorithm-vs-kd-tree-vs-brute-force-9746debcd940"
      ]
    }
  ],
  "metadata": {
    "colab": {
      "collapsed_sections": [],
      "provenance": []
    },
    "kernelspec": {
      "display_name": "Python 3.9.7 ('base')",
      "language": "python",
      "name": "python3"
    },
    "language_info": {
      "codemirror_mode": {
        "name": "ipython",
        "version": 3
      },
      "file_extension": ".py",
      "mimetype": "text/x-python",
      "name": "python",
      "nbconvert_exporter": "python",
      "pygments_lexer": "ipython3",
      "version": "3.9.7"
    },
    "vscode": {
      "interpreter": {
        "hash": "49cb93f377a7abe7414b7b0f21fb3017538004a126cf690fb524202736b7fb92"
      }
    }
  },
  "nbformat": 4,
  "nbformat_minor": 0
}
