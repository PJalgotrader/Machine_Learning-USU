{
 "cells": [
  {
   "cell_type": "markdown",
   "metadata": {},
   "source": [
    "# Prof. Pedram Jahangiry\n",
    "\n",
    "You need to make a copy to your own Google drive if you want to edit the original notebook! Start by opening this notebook on Colab 👇\n",
    "\n",
    "<a href=\"https://colab.research.google.com/github/PJalgotrader/Machine_Learning-USU/blob/main/Lectures%20and%20codes/Module%2012-%20Clustering/python/Kmode_kprototypes.ipynb\" target=\"_parent\"><img src=\"https://colab.research.google.com/assets/colab-badge.svg\" alt=\"Open In Colab\"/></a> \n",
    "\n",
    "\n",
    "\n",
    "![logo](https://upload.wikimedia.org/wikipedia/commons/4/44/Huntsman-Wordmark-with-USU-Blue.gif#center) \n",
    "\n",
    "\n",
    "## 🔗 Links\n",
    "\n",
    "[![linkedin](https://img.shields.io/badge/LinkedIn-0A66C2?style=for-the-badge&logo=linkedin&logoColor=white)](https://www.linkedin.com/in/pedram-jahangiry-cfa-5778015a)\n",
    "\n",
    "[![Youtube](https://img.shields.io/badge/youtube_channel-1DA1F2?style=for-the-badge&logo=youtube&logoColor=white&color=FF0000)](https://www.youtube.com/channel/UCNDElcuuyX-2pSatVBDpJJQ)\n",
    "\n",
    "[![Twitter URL](https://img.shields.io/twitter/url/https/twitter.com/PedramJahangiry.svg?style=social&label=Follow%20%40PedramJahangiry)](https://twitter.com/PedramJahangiry)\n",
    "\n",
    "\n",
    "---"
   ]
  },
  {
   "cell_type": "markdown",
   "metadata": {},
   "source": [
    "## Installation \n",
    "First, you need to install the kmodes package. You can do this by running the following command in your terminal: !pip install kmodes.\n",
    "\n",
    "note: if you have PyCaret installed, the kmodes package is already there."
   ]
  },
  {
   "cell_type": "markdown",
   "metadata": {},
   "source": [
    "# Kmode\n",
    "\n",
    "1. Initialization: K-Modes starts by initializing k centroids. The centroids in K-Modes are actual data points from the dataset, rather than the mean of the points in a cluster, as in K-Means. The initialization can be random, or it can be done by various smarter methods, such as the Huang or Cao methods, to improve the clustering process's convergence and quality.\n",
    "\n",
    "2. Assignment Step: Each data point is assigned to the nearest centroid. The distance here is not Euclidean, as with K-Means, but instead, it is typically based on the Hamming distance, which is the number of matching categories between two data points. A data point is assigned to the cluster of the centroid it has the least number of category mismatches with.\n",
    "\n",
    "3. Update Step: After all points have been assigned to clusters, the centroids are recalculated. In K-Modes, the centroids are updated to be the mode of the clusters - the most frequent category level for each categorical attribute within the cluster. This is different from K-Means, where the centroid is the mean value of the points in the cluster.\n",
    "\n",
    "4. Iteration: The assignment and update steps are repeated iteratively until the centroids stabilize and no more changes occur in the clusters (or until some other stopping criterion is met, such as a maximum number of iterations).\n",
    "\n",
    "5. Cost Function: The cost function in K-Modes is based on the dissimilarities within clusters, often using a simple matching dissimilarity measure. The goal is to minimize the total dissimilarity within all clusters.\n",
    "\n",
    "6. Handling of Different Categories: K-Modes can handle different numbers of categories across attributes by considering the frequency of each category within a cluster when updating the centroids.\n",
    "\n",
    "K-Modes is particularly powerful for categorical data because it does not rely on mean or median, which are not defined for categorical variables. The mode is a suitable central tendency measure for categorical data, and the use of a matching dissimilarity measure makes the algorithm appropriate for non-numeric data types. It is also computationally efficient, which makes it a good choice for large datasets."
   ]
  },
  {
   "cell_type": "code",
   "execution_count": 36,
   "metadata": {},
   "outputs": [
    {
     "name": "stdout",
     "output_type": "stream",
     "text": [
      "Init: initializing centroids\n",
      "Init: initializing clusters\n",
      "Starting iterations...\n",
      "Run 1, iteration: 1/100, moves: 1, cost: 8.0\n",
      "Init: initializing centroids\n",
      "Init: initializing clusters\n",
      "Starting iterations...\n",
      "Run 2, iteration: 1/100, moves: 0, cost: 7.0\n",
      "Init: initializing centroids\n",
      "Init: initializing clusters\n",
      "Starting iterations...\n",
      "Run 3, iteration: 1/100, moves: 0, cost: 8.0\n",
      "Init: initializing centroids\n",
      "Init: initializing clusters\n",
      "Starting iterations...\n",
      "Run 4, iteration: 1/100, moves: 1, cost: 6.0\n",
      "Init: initializing centroids\n",
      "Init: initializing clusters\n",
      "Starting iterations...\n",
      "Run 5, iteration: 1/100, moves: 1, cost: 6.0\n",
      "Best run was number 4\n"
     ]
    }
   ],
   "source": [
    "from kmodes.kmodes import KModes\n",
    "import pandas as pd\n",
    "\n",
    "# Example dataset with categorical features\n",
    "data = {\n",
    "    'Investment Type': ['Stocks', 'Bonds', 'Mutual Funds', 'ETFs', 'Stocks', 'Bonds'],\n",
    "    'Risk Tolerance': ['High', 'Low', 'Medium', 'High', 'Medium', 'Low'],\n",
    "    'Investment Duration': ['Long-term', 'Short-term', 'Medium-term', 'Long-term', 'Short-term', 'Medium-term']\n",
    "}\n",
    "df = pd.DataFrame(data)\n",
    "\n",
    "# Initialize the K-Modes model\n",
    "km = KModes(n_clusters=2, init='Huang', n_init=5, random_state=100, verbose=2)\n",
    "\n",
    "# Fit the model on the dataset\n",
    "clusters = km.fit_predict(df)\n",
    "\n",
    "# Show the cluster centroids (mode of each cluster)\n",
    "centroids = km.cluster_centroids_\n",
    "\n",
    "# Create a DataFrame for the centroids\n",
    "centroids_df = pd.DataFrame(centroids, columns=df.columns)"
   ]
  },
  {
   "cell_type": "code",
   "execution_count": 37,
   "metadata": {},
   "outputs": [
    {
     "data": {
      "text/html": [
       "<div>\n",
       "<style scoped>\n",
       "    .dataframe tbody tr th:only-of-type {\n",
       "        vertical-align: middle;\n",
       "    }\n",
       "\n",
       "    .dataframe tbody tr th {\n",
       "        vertical-align: top;\n",
       "    }\n",
       "\n",
       "    .dataframe thead th {\n",
       "        text-align: right;\n",
       "    }\n",
       "</style>\n",
       "<table border=\"1\" class=\"dataframe\">\n",
       "  <thead>\n",
       "    <tr style=\"text-align: right;\">\n",
       "      <th></th>\n",
       "      <th>Investment Type</th>\n",
       "      <th>Risk Tolerance</th>\n",
       "      <th>Investment Duration</th>\n",
       "    </tr>\n",
       "  </thead>\n",
       "  <tbody>\n",
       "    <tr>\n",
       "      <th>0</th>\n",
       "      <td>Bonds</td>\n",
       "      <td>Low</td>\n",
       "      <td>Medium-term</td>\n",
       "    </tr>\n",
       "    <tr>\n",
       "      <th>1</th>\n",
       "      <td>Stocks</td>\n",
       "      <td>High</td>\n",
       "      <td>Long-term</td>\n",
       "    </tr>\n",
       "  </tbody>\n",
       "</table>\n",
       "</div>"
      ],
      "text/plain": [
       "  Investment Type Risk Tolerance Investment Duration\n",
       "0           Bonds            Low         Medium-term\n",
       "1          Stocks           High           Long-term"
      ]
     },
     "execution_count": 37,
     "metadata": {},
     "output_type": "execute_result"
    }
   ],
   "source": [
    "centroids_df"
   ]
  },
  {
   "cell_type": "code",
   "execution_count": 38,
   "metadata": {},
   "outputs": [
    {
     "data": {
      "text/html": [
       "<div>\n",
       "<style scoped>\n",
       "    .dataframe tbody tr th:only-of-type {\n",
       "        vertical-align: middle;\n",
       "    }\n",
       "\n",
       "    .dataframe tbody tr th {\n",
       "        vertical-align: top;\n",
       "    }\n",
       "\n",
       "    .dataframe thead th {\n",
       "        text-align: right;\n",
       "    }\n",
       "</style>\n",
       "<table border=\"1\" class=\"dataframe\">\n",
       "  <thead>\n",
       "    <tr style=\"text-align: right;\">\n",
       "      <th></th>\n",
       "      <th>Investment Type</th>\n",
       "      <th>Risk Tolerance</th>\n",
       "      <th>Investment Duration</th>\n",
       "      <th>cluster</th>\n",
       "    </tr>\n",
       "  </thead>\n",
       "  <tbody>\n",
       "    <tr>\n",
       "      <th>0</th>\n",
       "      <td>Stocks</td>\n",
       "      <td>High</td>\n",
       "      <td>Long-term</td>\n",
       "      <td>1</td>\n",
       "    </tr>\n",
       "    <tr>\n",
       "      <th>1</th>\n",
       "      <td>Bonds</td>\n",
       "      <td>Low</td>\n",
       "      <td>Short-term</td>\n",
       "      <td>0</td>\n",
       "    </tr>\n",
       "    <tr>\n",
       "      <th>2</th>\n",
       "      <td>Mutual Funds</td>\n",
       "      <td>Medium</td>\n",
       "      <td>Medium-term</td>\n",
       "      <td>0</td>\n",
       "    </tr>\n",
       "    <tr>\n",
       "      <th>3</th>\n",
       "      <td>ETFs</td>\n",
       "      <td>High</td>\n",
       "      <td>Long-term</td>\n",
       "      <td>1</td>\n",
       "    </tr>\n",
       "    <tr>\n",
       "      <th>4</th>\n",
       "      <td>Stocks</td>\n",
       "      <td>Medium</td>\n",
       "      <td>Short-term</td>\n",
       "      <td>1</td>\n",
       "    </tr>\n",
       "    <tr>\n",
       "      <th>5</th>\n",
       "      <td>Bonds</td>\n",
       "      <td>Low</td>\n",
       "      <td>Medium-term</td>\n",
       "      <td>0</td>\n",
       "    </tr>\n",
       "  </tbody>\n",
       "</table>\n",
       "</div>"
      ],
      "text/plain": [
       "  Investment Type Risk Tolerance Investment Duration  cluster\n",
       "0          Stocks           High           Long-term        1\n",
       "1           Bonds            Low          Short-term        0\n",
       "2    Mutual Funds         Medium         Medium-term        0\n",
       "3            ETFs           High           Long-term        1\n",
       "4          Stocks         Medium          Short-term        1\n",
       "5           Bonds            Low         Medium-term        0"
      ]
     },
     "execution_count": 38,
     "metadata": {},
     "output_type": "execute_result"
    }
   ],
   "source": [
    "data_df = pd.DataFrame(data)\n",
    "data_df['cluster']=clusters\n",
    "data_df"
   ]
  },
  {
   "cell_type": "markdown",
   "metadata": {},
   "source": [
    "Can you show how cost=6 is calculated? try cluster=6?"
   ]
  },
  {
   "cell_type": "markdown",
   "metadata": {},
   "source": [
    "# Kprototypes\n",
    "\n",
    "K-Prototypes clustering is an extension of the K-Means algorithm that is specifically designed to handle datasets with mixed numeric and categorical features. It combines the features of K-Means and K-Modes, making it well-suited for clustering datasets with continuous and categorical features\n",
    "\n",
    "\n"
   ]
  },
  {
   "cell_type": "code",
   "execution_count": 39,
   "metadata": {},
   "outputs": [],
   "source": [
    "import numpy as np\n",
    "import pandas as pd\n",
    "import matplotlib.pyplot as plt\n",
    "import seaborn as sns\n",
    "sns.set()  #if you want to use seaborn themes with matplotlib functions"
   ]
  },
  {
   "cell_type": "code",
   "execution_count": 40,
   "metadata": {},
   "outputs": [],
   "source": [
    "df = pd.read_csv('https://raw.githubusercontent.com/PJalgotrader/Machine_Learning-USU/main/data/Mall_Customers.csv')"
   ]
  },
  {
   "cell_type": "code",
   "execution_count": 41,
   "metadata": {},
   "outputs": [
    {
     "data": {
      "text/html": [
       "<div>\n",
       "<style scoped>\n",
       "    .dataframe tbody tr th:only-of-type {\n",
       "        vertical-align: middle;\n",
       "    }\n",
       "\n",
       "    .dataframe tbody tr th {\n",
       "        vertical-align: top;\n",
       "    }\n",
       "\n",
       "    .dataframe thead th {\n",
       "        text-align: right;\n",
       "    }\n",
       "</style>\n",
       "<table border=\"1\" class=\"dataframe\">\n",
       "  <thead>\n",
       "    <tr style=\"text-align: right;\">\n",
       "      <th></th>\n",
       "      <th>CustomerID</th>\n",
       "      <th>Gender</th>\n",
       "      <th>Age</th>\n",
       "      <th>Annual Income (k$)</th>\n",
       "      <th>Spending Score (1-100)</th>\n",
       "    </tr>\n",
       "  </thead>\n",
       "  <tbody>\n",
       "    <tr>\n",
       "      <th>0</th>\n",
       "      <td>1</td>\n",
       "      <td>Male</td>\n",
       "      <td>19</td>\n",
       "      <td>15</td>\n",
       "      <td>39</td>\n",
       "    </tr>\n",
       "    <tr>\n",
       "      <th>1</th>\n",
       "      <td>2</td>\n",
       "      <td>Male</td>\n",
       "      <td>21</td>\n",
       "      <td>15</td>\n",
       "      <td>81</td>\n",
       "    </tr>\n",
       "    <tr>\n",
       "      <th>2</th>\n",
       "      <td>3</td>\n",
       "      <td>Female</td>\n",
       "      <td>20</td>\n",
       "      <td>16</td>\n",
       "      <td>6</td>\n",
       "    </tr>\n",
       "    <tr>\n",
       "      <th>3</th>\n",
       "      <td>4</td>\n",
       "      <td>Female</td>\n",
       "      <td>23</td>\n",
       "      <td>16</td>\n",
       "      <td>77</td>\n",
       "    </tr>\n",
       "    <tr>\n",
       "      <th>4</th>\n",
       "      <td>5</td>\n",
       "      <td>Female</td>\n",
       "      <td>31</td>\n",
       "      <td>17</td>\n",
       "      <td>40</td>\n",
       "    </tr>\n",
       "  </tbody>\n",
       "</table>\n",
       "</div>"
      ],
      "text/plain": [
       "   CustomerID  Gender  Age  Annual Income (k$)  Spending Score (1-100)\n",
       "0           1    Male   19                  15                      39\n",
       "1           2    Male   21                  15                      81\n",
       "2           3  Female   20                  16                       6\n",
       "3           4  Female   23                  16                      77\n",
       "4           5  Female   31                  17                      40"
      ]
     },
     "execution_count": 41,
     "metadata": {},
     "output_type": "execute_result"
    }
   ],
   "source": [
    "df.head()"
   ]
  },
  {
   "cell_type": "code",
   "execution_count": 42,
   "metadata": {},
   "outputs": [],
   "source": [
    "df.drop('CustomerID', axis=1, inplace=True)"
   ]
  },
  {
   "cell_type": "code",
   "execution_count": 43,
   "metadata": {},
   "outputs": [
    {
     "data": {
      "text/html": [
       "<div>\n",
       "<style scoped>\n",
       "    .dataframe tbody tr th:only-of-type {\n",
       "        vertical-align: middle;\n",
       "    }\n",
       "\n",
       "    .dataframe tbody tr th {\n",
       "        vertical-align: top;\n",
       "    }\n",
       "\n",
       "    .dataframe thead th {\n",
       "        text-align: right;\n",
       "    }\n",
       "</style>\n",
       "<table border=\"1\" class=\"dataframe\">\n",
       "  <thead>\n",
       "    <tr style=\"text-align: right;\">\n",
       "      <th></th>\n",
       "      <th>Gender</th>\n",
       "      <th>Age</th>\n",
       "      <th>Annual Income (k$)</th>\n",
       "      <th>Spending Score (1-100)</th>\n",
       "    </tr>\n",
       "  </thead>\n",
       "  <tbody>\n",
       "    <tr>\n",
       "      <th>0</th>\n",
       "      <td>Male</td>\n",
       "      <td>19</td>\n",
       "      <td>15</td>\n",
       "      <td>39</td>\n",
       "    </tr>\n",
       "    <tr>\n",
       "      <th>1</th>\n",
       "      <td>Male</td>\n",
       "      <td>21</td>\n",
       "      <td>15</td>\n",
       "      <td>81</td>\n",
       "    </tr>\n",
       "    <tr>\n",
       "      <th>2</th>\n",
       "      <td>Female</td>\n",
       "      <td>20</td>\n",
       "      <td>16</td>\n",
       "      <td>6</td>\n",
       "    </tr>\n",
       "    <tr>\n",
       "      <th>3</th>\n",
       "      <td>Female</td>\n",
       "      <td>23</td>\n",
       "      <td>16</td>\n",
       "      <td>77</td>\n",
       "    </tr>\n",
       "    <tr>\n",
       "      <th>4</th>\n",
       "      <td>Female</td>\n",
       "      <td>31</td>\n",
       "      <td>17</td>\n",
       "      <td>40</td>\n",
       "    </tr>\n",
       "  </tbody>\n",
       "</table>\n",
       "</div>"
      ],
      "text/plain": [
       "   Gender  Age  Annual Income (k$)  Spending Score (1-100)\n",
       "0    Male   19                  15                      39\n",
       "1    Male   21                  15                      81\n",
       "2  Female   20                  16                       6\n",
       "3  Female   23                  16                      77\n",
       "4  Female   31                  17                      40"
      ]
     },
     "execution_count": 43,
     "metadata": {},
     "output_type": "execute_result"
    }
   ],
   "source": [
    "df.head()"
   ]
  },
  {
   "cell_type": "markdown",
   "metadata": {},
   "source": [
    "* **Beyond K-Means algorithm**: \n",
    "    * K-mode github: https://github.com/nicodv/kmodes/tree/master\n",
    "    * K-prototype clustering: https://towardsdatascience.com/the-k-prototype-as-clustering-algorithm-for-mixed-data-type-categorical-and-numerical-fe7c50538ebb"
   ]
  },
  {
   "cell_type": "code",
   "execution_count": 44,
   "metadata": {},
   "outputs": [],
   "source": [
    "from kmodes.kprototypes import KPrototypes"
   ]
  },
  {
   "cell_type": "code",
   "execution_count": 45,
   "metadata": {},
   "outputs": [
    {
     "name": "stdout",
     "output_type": "stream",
     "text": [
      "<class 'pandas.core.frame.DataFrame'>\n",
      "RangeIndex: 200 entries, 0 to 199\n",
      "Data columns (total 4 columns):\n",
      " #   Column                  Non-Null Count  Dtype \n",
      "---  ------                  --------------  ----- \n",
      " 0   Gender                  200 non-null    object\n",
      " 1   Age                     200 non-null    int64 \n",
      " 2   Annual Income (k$)      200 non-null    int64 \n",
      " 3   Spending Score (1-100)  200 non-null    int64 \n",
      "dtypes: int64(3), object(1)\n",
      "memory usage: 6.4+ KB\n"
     ]
    }
   ],
   "source": [
    "df.info()"
   ]
  },
  {
   "cell_type": "code",
   "execution_count": 46,
   "metadata": {},
   "outputs": [
    {
     "name": "stdout",
     "output_type": "stream",
     "text": [
      "<class 'pandas.core.frame.DataFrame'>\n",
      "RangeIndex: 200 entries, 0 to 199\n",
      "Data columns (total 4 columns):\n",
      " #   Column                  Non-Null Count  Dtype   \n",
      "---  ------                  --------------  -----   \n",
      " 0   Gender                  200 non-null    category\n",
      " 1   Age                     200 non-null    int64   \n",
      " 2   Annual Income (k$)      200 non-null    int64   \n",
      " 3   Spending Score (1-100)  200 non-null    int64   \n",
      "dtypes: category(1), int64(3)\n",
      "memory usage: 5.1 KB\n"
     ]
    }
   ],
   "source": [
    "# Convert categorical columns to category data type\n",
    "df['Gender'] = df['Gender'].astype('category')\n",
    "df.info()\n"
   ]
  },
  {
   "cell_type": "code",
   "execution_count": 47,
   "metadata": {},
   "outputs": [],
   "source": [
    "# Initialize the KPrototypes model\n",
    "kproto = KPrototypes(n_clusters=6 , random_state=100)"
   ]
  },
  {
   "cell_type": "markdown",
   "metadata": {},
   "source": [
    "In the context of clustering, particularly with the K-Prototypes and K-Modes algorithms, the Huang and Cao initialization methods are techniques used to set the initial positions of the centroids. Here's a brief explanation of each:\n",
    "\n",
    "The **Huang** method initializes centroids based on the frequencies of the categorical attributes. The first centroid is randomly selected from the data points. For the subsequent centroids, the method chooses data points that differ from the already chosen centroids by at least a specified threshold in terms of their attribute frequencies.\n",
    "The idea is to select diverse centroids that represent different patterns in the categorical data.\n",
    "This method can be particularly useful when the categorical features have many possible categories, and you want to ensure a diverse starting point for the algorithm.\n",
    "Cao Initialization:\n",
    "\n",
    "The **Cao** method is more sophisticated and aims to select initial centroids that are well separated from each other. It does so by considering the overall distribution of the data.\n",
    "It calculates a density measure for each point that takes into account both the number of points that are close to it (in terms of a defined distance) and the categorical attributes.\n",
    "Points with higher density measures are more likely to be selected as initial centroids. This method tries to find centroids that are representative of the data's density structure.\n",
    "Both methods are designed to improve the convergence of the K-Modes and K-Prototypes algorithms by providing a good starting point that reflects the underlying distribution of the data. The Cao method tends to be more robust and can lead to better clustering results because it considers the data distribution more carefully, while Huang is often faster but may require more iterations to converge.\n",
    "\n",
    "When dealing with a dataset that has a mix of numerical and categorical features, as with K-Prototypes, the choice between Huang and Cao initialization methods could influence the quality of the final clustering. The Cao method is generally preferred for its robustness, but the best choice might depend on the specific characteristics of the data and sometimes empirical testing is required to determine which method performs better in a given scenario."
   ]
  },
  {
   "cell_type": "code",
   "execution_count": 48,
   "metadata": {},
   "outputs": [
    {
     "data": {
      "text/plain": [
       "array([2, 3, 2, 3, 2, 3, 2, 3, 2, 3, 2, 3, 2, 3, 2, 3, 2, 3, 2, 3, 2, 3,\n",
       "       2, 3, 2, 3, 2, 3, 2, 3, 2, 3, 2, 3, 2, 3, 2, 3, 2, 3, 1, 3, 1, 4,\n",
       "       2, 3, 1, 4, 4, 4, 1, 4, 4, 1, 1, 1, 1, 1, 4, 1, 1, 4, 1, 1, 1, 4,\n",
       "       1, 1, 4, 4, 1, 1, 1, 1, 1, 4, 1, 4, 4, 1, 1, 4, 1, 1, 4, 1, 1, 4,\n",
       "       4, 1, 1, 4, 1, 4, 4, 4, 1, 4, 1, 4, 4, 1, 1, 4, 1, 4, 1, 1, 1, 1,\n",
       "       1, 4, 4, 4, 4, 4, 1, 1, 1, 1, 4, 4, 4, 5, 4, 5, 0, 5, 0, 5, 0, 5,\n",
       "       4, 5, 0, 5, 0, 5, 0, 5, 0, 5, 4, 5, 0, 5, 0, 5, 0, 5, 0, 5, 0, 5,\n",
       "       0, 5, 0, 5, 0, 5, 0, 5, 0, 5, 0, 5, 0, 5, 0, 5, 0, 5, 0, 5, 0, 5,\n",
       "       0, 5, 0, 5, 0, 5, 0, 5, 0, 5, 0, 5, 0, 5, 0, 5, 0, 5, 0, 5, 0, 5,\n",
       "       0, 5], dtype=uint16)"
      ]
     },
     "execution_count": 48,
     "metadata": {},
     "output_type": "execute_result"
    }
   ],
   "source": [
    "# Fit the model\n",
    "clusters = kproto.fit_predict(df , categorical=[0])  # Index 0 is 'Gender'\n",
    "clusters"
   ]
  },
  {
   "cell_type": "code",
   "execution_count": 49,
   "metadata": {},
   "outputs": [
    {
     "data": {
      "text/plain": [
       "{'cat_dissim': <function kmodes.util.dissim.matching_dissim(a, b, **_)>,\n",
       " 'gamma': 10.98198334886498,\n",
       " 'init': 'Cao',\n",
       " 'max_iter': 100,\n",
       " 'n_clusters': 6,\n",
       " 'n_init': 10,\n",
       " 'n_jobs': 1,\n",
       " 'num_dissim': <function kmodes.util.dissim.euclidean_dissim(a, b, **_)>,\n",
       " 'random_state': 100,\n",
       " 'verbose': 0}"
      ]
     },
     "execution_count": 49,
     "metadata": {},
     "output_type": "execute_result"
    }
   ],
   "source": [
    "kproto.get_params()"
   ]
  },
  {
   "cell_type": "markdown",
   "metadata": {},
   "source": [
    "# Kprototype cost \n",
    "\n",
    "kproto.cost_  is computed as the sum of dissimilarities between each point in the dataset and the centroid of the cluster it belongs to.\n",
    "\n",
    "The dissimilarity measure used in K-Prototypes combines the cost of numerical features, typically calculated using a distance metric like the Euclidean distance, with the cost of categorical features, which is calculated using a matching dissimilarity measure (for example, the simple matching dissimilarity where the cost increases when the categories do not match).\n",
    "\n",
    "Here's what the cost represents:\n",
    "\n",
    "* For numerical attributes: The cost is the sum of squared distances between the data points and the centroid of their respective clusters.\n",
    "* For categorical attributes: The cost is typically the number of mismatches between the data points and the modes of the categorical attributes in their respective clusters."
   ]
  },
  {
   "cell_type": "code",
   "execution_count": 50,
   "metadata": {},
   "outputs": [
    {
     "data": {
      "text/plain": [
       "59211.94793954648"
      ]
     },
     "execution_count": 50,
     "metadata": {},
     "output_type": "execute_result"
    }
   ],
   "source": [
    "kproto.cost_"
   ]
  },
  {
   "cell_type": "code",
   "execution_count": 51,
   "metadata": {},
   "outputs": [
    {
     "name": "stdout",
     "output_type": "stream",
     "text": [
      "[['41.68571428571428' '88.22857142857143' '17.285714285714285' 'Male']\n",
      " ['56.15555555555556' '53.37777777777778' '49.08888888888889' 'Female']\n",
      " ['44.142857142857146' '25.142857142857142' '19.523809523809526' 'Female']\n",
      " ['25.272727272727273' '25.727272727272727' '79.36363636363636' 'Female']\n",
      " ['27.0' '56.6578947368421' '49.13157894736842' 'Female']\n",
      " ['32.69230769230769' '86.53846153846153' '82.12820512820512' 'Female']]\n"
     ]
    }
   ],
   "source": [
    "# Output the cluster centroids\n",
    "print(kproto.cluster_centroids_)\n"
   ]
  },
  {
   "cell_type": "code",
   "execution_count": 52,
   "metadata": {},
   "outputs": [
    {
     "name": "stdout",
     "output_type": "stream",
     "text": [
      "     Gender  Age  Annual Income (k$)  Spending Score (1-100)  Cluster\n",
      "0      Male   19                  15                      39        2\n",
      "1      Male   21                  15                      81        3\n",
      "2    Female   20                  16                       6        2\n",
      "3    Female   23                  16                      77        3\n",
      "4    Female   31                  17                      40        2\n",
      "..      ...  ...                 ...                     ...      ...\n",
      "195  Female   35                 120                      79        5\n",
      "196  Female   45                 126                      28        0\n",
      "197    Male   32                 126                      74        5\n",
      "198    Male   32                 137                      18        0\n",
      "199    Male   30                 137                      83        5\n",
      "\n",
      "[200 rows x 5 columns]\n"
     ]
    }
   ],
   "source": [
    "# Attach the cluster labels to your original dataframe\n",
    "df['Cluster'] = clusters\n",
    "print(df)"
   ]
  },
  {
   "cell_type": "markdown",
   "metadata": {},
   "source": [
    "# optimal K (elbow method)"
   ]
  },
  {
   "cell_type": "code",
   "execution_count": 53,
   "metadata": {},
   "outputs": [
    {
     "data": {
      "text/html": [
       "<div>\n",
       "<style scoped>\n",
       "    .dataframe tbody tr th:only-of-type {\n",
       "        vertical-align: middle;\n",
       "    }\n",
       "\n",
       "    .dataframe tbody tr th {\n",
       "        vertical-align: top;\n",
       "    }\n",
       "\n",
       "    .dataframe thead th {\n",
       "        text-align: right;\n",
       "    }\n",
       "</style>\n",
       "<table border=\"1\" class=\"dataframe\">\n",
       "  <thead>\n",
       "    <tr style=\"text-align: right;\">\n",
       "      <th></th>\n",
       "      <th>num_clusters</th>\n",
       "      <th>cost</th>\n",
       "    </tr>\n",
       "  </thead>\n",
       "  <tbody>\n",
       "    <tr>\n",
       "      <th>0</th>\n",
       "      <td>1</td>\n",
       "      <td>310217.573393</td>\n",
       "    </tr>\n",
       "    <tr>\n",
       "      <th>1</th>\n",
       "      <td>2</td>\n",
       "      <td>213835.300810</td>\n",
       "    </tr>\n",
       "    <tr>\n",
       "      <th>2</th>\n",
       "      <td>3</td>\n",
       "      <td>144303.869019</td>\n",
       "    </tr>\n",
       "    <tr>\n",
       "      <th>3</th>\n",
       "      <td>4</td>\n",
       "      <td>105306.288403</td>\n",
       "    </tr>\n",
       "    <tr>\n",
       "      <th>4</th>\n",
       "      <td>5</td>\n",
       "      <td>76305.550432</td>\n",
       "    </tr>\n",
       "    <tr>\n",
       "      <th>5</th>\n",
       "      <td>6</td>\n",
       "      <td>59002.918909</td>\n",
       "    </tr>\n",
       "    <tr>\n",
       "      <th>6</th>\n",
       "      <td>7</td>\n",
       "      <td>51785.018555</td>\n",
       "    </tr>\n",
       "    <tr>\n",
       "      <th>7</th>\n",
       "      <td>8</td>\n",
       "      <td>45936.397118</td>\n",
       "    </tr>\n",
       "    <tr>\n",
       "      <th>8</th>\n",
       "      <td>9</td>\n",
       "      <td>41481.976961</td>\n",
       "    </tr>\n",
       "  </tbody>\n",
       "</table>\n",
       "</div>"
      ],
      "text/plain": [
       "   num_clusters           cost\n",
       "0             1  310217.573393\n",
       "1             2  213835.300810\n",
       "2             3  144303.869019\n",
       "3             4  105306.288403\n",
       "4             5   76305.550432\n",
       "5             6   59002.918909\n",
       "6             7   51785.018555\n",
       "7             8   45936.397118\n",
       "8             9   41481.976961"
      ]
     },
     "execution_count": 53,
     "metadata": {},
     "output_type": "execute_result"
    }
   ],
   "source": [
    "# let's use the elbow method to find the optimal number of clusters\n",
    "cost = []\n",
    "for num_clusters in list(range(1,10)):\n",
    "    kproto = KPrototypes(n_clusters=num_clusters, random_state=100)\n",
    "    kproto.fit_predict(df, categorical=[0])\n",
    "    cost.append(kproto.cost_)\n",
    "\n",
    "optimal_k = pd.DataFrame({'num_clusters': list(range(1,10)), 'cost': cost})  \n",
    "optimal_k  "
   ]
  },
  {
   "cell_type": "code",
   "execution_count": 54,
   "metadata": {},
   "outputs": [
    {
     "data": {
      "image/png": "[encoded data removed]",
      "text/plain": [
       "<Figure size 640x480 with 1 Axes>"
      ]
     },
     "metadata": {},
     "output_type": "display_data"
    }
   ],
   "source": [
    "# Plot the elbow curve\n",
    "plt.plot(optimal_k['num_clusters'], optimal_k['cost'])\n",
    "plt.xlabel('Number of Clusters')\n",
    "plt.ylabel('Cost')\n",
    "plt.title('Elbow Method')\n",
    "plt.show()"
   ]
  },
  {
   "cell_type": "markdown",
   "metadata": {},
   "source": [
    "# Done!"
   ]
  }
 ],
 "metadata": {
  "kernelspec": {
   "display_name": "Python 3.8.13 ('ml4t')",
   "language": "python",
   "name": "python3"
  },
  "language_info": {
   "codemirror_mode": {
    "name": "ipython",
    "version": 3
   },
   "file_extension": ".py",
   "mimetype": "text/x-python",
   "name": "python",
   "nbconvert_exporter": "python",
   "pygments_lexer": "ipython3",
   "version": "3.10.13"
  },
  "vscode": {
   "interpreter": {
    "hash": "751367f4a4be47dba96b123444f07dbab6d0d45b5c4bf3ba3ec00b4507bd079c"
   }
  }
 },
 "nbformat": 4,
 "nbformat_minor": 4
}
