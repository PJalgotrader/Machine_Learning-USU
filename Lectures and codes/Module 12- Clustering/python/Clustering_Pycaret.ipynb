{
 "cells": [
  {
   "cell_type": "markdown",
   "metadata": {},
   "source": [
    "# Prof. Pedram Jahangiry\n",
    "\n",
    "You need to make a copy to your own Google drive if you want to edit the original notebook! Start by opening this notebook on Colab 👇\n",
    "\n",
    "<a href=\"https://colab.research.google.com/github/PJalgotrader/Machine_Learning-USU/blob/main/Lectures%20and%20codes/Module%2012-%20Clustering/python/Clustering_Pycaret.ipynb\" target=\"_parent\"><img src=\"https://colab.research.google.com/assets/colab-badge.svg\" alt=\"Open In Colab\"/></a> \n",
    "\n",
    "\n",
    "\n",
    "![logo](https://upload.wikimedia.org/wikipedia/commons/4/44/Huntsman-Wordmark-with-USU-Blue.gif#center) \n",
    "\n",
    "\n",
    "## 🔗 Links\n",
    "\n",
    "[![linkedin](https://img.shields.io/badge/LinkedIn-0A66C2?style=for-the-badge&logo=linkedin&logoColor=white)](https://www.linkedin.com/in/pedram-jahangiry-cfa-5778015a)\n",
    "\n",
    "[![Youtube](https://img.shields.io/badge/youtube_channel-1DA1F2?style=for-the-badge&logo=youtube&logoColor=white&color=FF0000)](https://www.youtube.com/channel/UCNDElcuuyX-2pSatVBDpJJQ)\n",
    "\n",
    "[![Twitter URL](https://img.shields.io/twitter/url/https/twitter.com/PedramJahangiry.svg?style=social&label=Follow%20%40PedramJahangiry)](https://twitter.com/PedramJahangiry)\n",
    "\n",
    "\n",
    "---"
   ]
  },
  {
   "cell_type": "markdown",
   "metadata": {},
   "source": [
    "# Unsupervised Learning: Clustering with PyCaret\n",
    "\n",
    "Clustering (Unsupervised) is similar to classification (Supervised), but the basis is different. In Clustering you don’t know what you are looking for, and you are trying to identify some segments or clusters in your data. When you use clustering algorithms on your dataset, unexpected things can suddenly pop up like structures, clusters and groupings you would have never thought of otherwise.\n",
    "\n",
    "PyCaret provides several pre-processing features that prepare the data for modeling through the setup function. It has over 10 ready-to-use algorithms and several plots to analyze the performance of trained models."
   ]
  },
  {
   "cell_type": "code",
   "execution_count": 1,
   "metadata": {},
   "outputs": [
    {
     "data": {
      "text/plain": [
       "'3.2.0'"
      ]
     },
     "execution_count": 1,
     "metadata": {},
     "output_type": "execute_result"
    }
   ],
   "source": [
    "# checking PyCaret version\n",
    "from pycaret.utils import version\n",
    "version()"
   ]
  },
  {
   "cell_type": "code",
   "execution_count": 2,
   "metadata": {},
   "outputs": [
    {
     "data": {
      "text/html": [
       "<div>\n",
       "<style scoped>\n",
       "    .dataframe tbody tr th:only-of-type {\n",
       "        vertical-align: middle;\n",
       "    }\n",
       "\n",
       "    .dataframe tbody tr th {\n",
       "        vertical-align: top;\n",
       "    }\n",
       "\n",
       "    .dataframe thead th {\n",
       "        text-align: right;\n",
       "    }\n",
       "</style>\n",
       "<table border=\"1\" class=\"dataframe\">\n",
       "  <thead>\n",
       "    <tr style=\"text-align: right;\">\n",
       "      <th></th>\n",
       "      <th>CustomerID</th>\n",
       "      <th>Gender</th>\n",
       "      <th>Age</th>\n",
       "      <th>Annual Income (k$)</th>\n",
       "      <th>Spending Score (1-100)</th>\n",
       "    </tr>\n",
       "  </thead>\n",
       "  <tbody>\n",
       "    <tr>\n",
       "      <th>0</th>\n",
       "      <td>1</td>\n",
       "      <td>Male</td>\n",
       "      <td>19</td>\n",
       "      <td>15</td>\n",
       "      <td>39</td>\n",
       "    </tr>\n",
       "    <tr>\n",
       "      <th>1</th>\n",
       "      <td>2</td>\n",
       "      <td>Male</td>\n",
       "      <td>21</td>\n",
       "      <td>15</td>\n",
       "      <td>81</td>\n",
       "    </tr>\n",
       "    <tr>\n",
       "      <th>2</th>\n",
       "      <td>3</td>\n",
       "      <td>Female</td>\n",
       "      <td>20</td>\n",
       "      <td>16</td>\n",
       "      <td>6</td>\n",
       "    </tr>\n",
       "    <tr>\n",
       "      <th>3</th>\n",
       "      <td>4</td>\n",
       "      <td>Female</td>\n",
       "      <td>23</td>\n",
       "      <td>16</td>\n",
       "      <td>77</td>\n",
       "    </tr>\n",
       "    <tr>\n",
       "      <th>4</th>\n",
       "      <td>5</td>\n",
       "      <td>Female</td>\n",
       "      <td>31</td>\n",
       "      <td>17</td>\n",
       "      <td>40</td>\n",
       "    </tr>\n",
       "  </tbody>\n",
       "</table>\n",
       "</div>"
      ],
      "text/plain": [
       "   CustomerID  Gender  Age  Annual Income (k$)  Spending Score (1-100)\n",
       "0           1    Male   19                  15                      39\n",
       "1           2    Male   21                  15                      81\n",
       "2           3  Female   20                  16                       6\n",
       "3           4  Female   23                  16                      77\n",
       "4           5  Female   31                  17                      40"
      ]
     },
     "execution_count": 2,
     "metadata": {},
     "output_type": "execute_result"
    }
   ],
   "source": [
    "# Importing dataset\n",
    "import pandas as pd\n",
    "df = pd.read_csv('https://raw.githubusercontent.com/PJalgotrader/Machine_Learning-USU/main/data/Mall_Customers.csv')\n",
    "df.head()"
   ]
  },
  {
   "cell_type": "code",
   "execution_count": 3,
   "metadata": {},
   "outputs": [],
   "source": [
    "df.drop('CustomerID', axis=1, inplace=True)"
   ]
  },
  {
   "cell_type": "code",
   "execution_count": 4,
   "metadata": {},
   "outputs": [
    {
     "data": {
      "text/html": [
       "<div>\n",
       "<style scoped>\n",
       "    .dataframe tbody tr th:only-of-type {\n",
       "        vertical-align: middle;\n",
       "    }\n",
       "\n",
       "    .dataframe tbody tr th {\n",
       "        vertical-align: top;\n",
       "    }\n",
       "\n",
       "    .dataframe thead th {\n",
       "        text-align: right;\n",
       "    }\n",
       "</style>\n",
       "<table border=\"1\" class=\"dataframe\">\n",
       "  <thead>\n",
       "    <tr style=\"text-align: right;\">\n",
       "      <th></th>\n",
       "      <th>Gender</th>\n",
       "      <th>Age</th>\n",
       "      <th>Annual Income (k$)</th>\n",
       "      <th>Spending Score (1-100)</th>\n",
       "    </tr>\n",
       "  </thead>\n",
       "  <tbody>\n",
       "    <tr>\n",
       "      <th>0</th>\n",
       "      <td>Male</td>\n",
       "      <td>19</td>\n",
       "      <td>15</td>\n",
       "      <td>39</td>\n",
       "    </tr>\n",
       "    <tr>\n",
       "      <th>1</th>\n",
       "      <td>Male</td>\n",
       "      <td>21</td>\n",
       "      <td>15</td>\n",
       "      <td>81</td>\n",
       "    </tr>\n",
       "    <tr>\n",
       "      <th>2</th>\n",
       "      <td>Female</td>\n",
       "      <td>20</td>\n",
       "      <td>16</td>\n",
       "      <td>6</td>\n",
       "    </tr>\n",
       "    <tr>\n",
       "      <th>3</th>\n",
       "      <td>Female</td>\n",
       "      <td>23</td>\n",
       "      <td>16</td>\n",
       "      <td>77</td>\n",
       "    </tr>\n",
       "    <tr>\n",
       "      <th>4</th>\n",
       "      <td>Female</td>\n",
       "      <td>31</td>\n",
       "      <td>17</td>\n",
       "      <td>40</td>\n",
       "    </tr>\n",
       "  </tbody>\n",
       "</table>\n",
       "</div>"
      ],
      "text/plain": [
       "   Gender  Age  Annual Income (k$)  Spending Score (1-100)\n",
       "0    Male   19                  15                      39\n",
       "1    Male   21                  15                      81\n",
       "2  Female   20                  16                       6\n",
       "3  Female   23                  16                      77\n",
       "4  Female   31                  17                      40"
      ]
     },
     "execution_count": 4,
     "metadata": {},
     "output_type": "execute_result"
    }
   ],
   "source": [
    "df.head()"
   ]
  },
  {
   "cell_type": "code",
   "execution_count": 5,
   "metadata": {},
   "outputs": [
    {
     "name": "stdout",
     "output_type": "stream",
     "text": [
      "<class 'pandas.core.frame.DataFrame'>\n",
      "RangeIndex: 200 entries, 0 to 199\n",
      "Data columns (total 4 columns):\n",
      " #   Column                  Non-Null Count  Dtype \n",
      "---  ------                  --------------  ----- \n",
      " 0   Gender                  200 non-null    object\n",
      " 1   Age                     200 non-null    int64 \n",
      " 2   Annual Income (k$)      200 non-null    int64 \n",
      " 3   Spending Score (1-100)  200 non-null    int64 \n",
      "dtypes: int64(3), object(1)\n",
      "memory usage: 6.4+ KB\n"
     ]
    }
   ],
   "source": [
    "df.info()"
   ]
  },
  {
   "cell_type": "markdown",
   "metadata": {},
   "source": [
    "## PyCaret \n",
    "\n",
    "Here is the PyCaret documentation for clustering: https://pycaret.readthedocs.io/en/stable/api/clustering.html#\n",
    "\n",
    "check model functionalities here: https://github.com/pycaret/pycaret/blob/master/pycaret/clustering/functional.py"
   ]
  },
  {
   "cell_type": "code",
   "execution_count": 6,
   "metadata": {},
   "outputs": [],
   "source": [
    "from pycaret.clustering import *"
   ]
  },
  {
   "cell_type": "code",
   "execution_count": 7,
   "metadata": {},
   "outputs": [
    {
     "data": {
      "text/html": [
       "<div>\n",
       "<style scoped>\n",
       "    .dataframe tbody tr th:only-of-type {\n",
       "        vertical-align: middle;\n",
       "    }\n",
       "\n",
       "    .dataframe tbody tr th {\n",
       "        vertical-align: top;\n",
       "    }\n",
       "\n",
       "    .dataframe thead th {\n",
       "        text-align: right;\n",
       "    }\n",
       "</style>\n",
       "<table border=\"1\" class=\"dataframe\">\n",
       "  <thead>\n",
       "    <tr style=\"text-align: right;\">\n",
       "      <th></th>\n",
       "      <th>Age</th>\n",
       "      <th>Annual Income (k$)</th>\n",
       "      <th>Spending Score (1-100)</th>\n",
       "    </tr>\n",
       "  </thead>\n",
       "  <tbody>\n",
       "    <tr>\n",
       "      <th>0</th>\n",
       "      <td>19</td>\n",
       "      <td>15</td>\n",
       "      <td>39</td>\n",
       "    </tr>\n",
       "    <tr>\n",
       "      <th>1</th>\n",
       "      <td>21</td>\n",
       "      <td>15</td>\n",
       "      <td>81</td>\n",
       "    </tr>\n",
       "    <tr>\n",
       "      <th>2</th>\n",
       "      <td>20</td>\n",
       "      <td>16</td>\n",
       "      <td>6</td>\n",
       "    </tr>\n",
       "    <tr>\n",
       "      <th>3</th>\n",
       "      <td>23</td>\n",
       "      <td>16</td>\n",
       "      <td>77</td>\n",
       "    </tr>\n",
       "    <tr>\n",
       "      <th>4</th>\n",
       "      <td>31</td>\n",
       "      <td>17</td>\n",
       "      <td>40</td>\n",
       "    </tr>\n",
       "  </tbody>\n",
       "</table>\n",
       "</div>"
      ],
      "text/plain": [
       "   Age  Annual Income (k$)  Spending Score (1-100)\n",
       "0   19                  15                      39\n",
       "1   21                  15                      81\n",
       "2   20                  16                       6\n",
       "3   23                  16                      77\n",
       "4   31                  17                      40"
      ]
     },
     "execution_count": 7,
     "metadata": {},
     "output_type": "execute_result"
    }
   ],
   "source": [
    "df_no_gender = df.drop(\"Gender\", axis=1)\n",
    "df_no_gender.head()"
   ]
  },
  {
   "cell_type": "code",
   "execution_count": 8,
   "metadata": {},
   "outputs": [
    {
     "data": {
      "text/html": [
       "<style type=\"text/css\">\n",
       "#T_0826b_row4_col1, #T_0826b_row8_col1 {\n",
       "  background-color: lightgreen;\n",
       "}\n",
       "</style>\n",
       "<table id=\"T_0826b\">\n",
       "  <thead>\n",
       "    <tr>\n",
       "      <th class=\"blank level0\" >&nbsp;</th>\n",
       "      <th id=\"T_0826b_level0_col0\" class=\"col_heading level0 col0\" >Description</th>\n",
       "      <th id=\"T_0826b_level0_col1\" class=\"col_heading level0 col1\" >Value</th>\n",
       "    </tr>\n",
       "  </thead>\n",
       "  <tbody>\n",
       "    <tr>\n",
       "      <th id=\"T_0826b_level0_row0\" class=\"row_heading level0 row0\" >0</th>\n",
       "      <td id=\"T_0826b_row0_col0\" class=\"data row0 col0\" >Session id</td>\n",
       "      <td id=\"T_0826b_row0_col1\" class=\"data row0 col1\" >123</td>\n",
       "    </tr>\n",
       "    <tr>\n",
       "      <th id=\"T_0826b_level0_row1\" class=\"row_heading level0 row1\" >1</th>\n",
       "      <td id=\"T_0826b_row1_col0\" class=\"data row1 col0\" >Original data shape</td>\n",
       "      <td id=\"T_0826b_row1_col1\" class=\"data row1 col1\" >(200, 3)</td>\n",
       "    </tr>\n",
       "    <tr>\n",
       "      <th id=\"T_0826b_level0_row2\" class=\"row_heading level0 row2\" >2</th>\n",
       "      <td id=\"T_0826b_row2_col0\" class=\"data row2 col0\" >Transformed data shape</td>\n",
       "      <td id=\"T_0826b_row2_col1\" class=\"data row2 col1\" >(200, 3)</td>\n",
       "    </tr>\n",
       "    <tr>\n",
       "      <th id=\"T_0826b_level0_row3\" class=\"row_heading level0 row3\" >3</th>\n",
       "      <td id=\"T_0826b_row3_col0\" class=\"data row3 col0\" >Numeric features</td>\n",
       "      <td id=\"T_0826b_row3_col1\" class=\"data row3 col1\" >3</td>\n",
       "    </tr>\n",
       "    <tr>\n",
       "      <th id=\"T_0826b_level0_row4\" class=\"row_heading level0 row4\" >4</th>\n",
       "      <td id=\"T_0826b_row4_col0\" class=\"data row4 col0\" >Preprocess</td>\n",
       "      <td id=\"T_0826b_row4_col1\" class=\"data row4 col1\" >True</td>\n",
       "    </tr>\n",
       "    <tr>\n",
       "      <th id=\"T_0826b_level0_row5\" class=\"row_heading level0 row5\" >5</th>\n",
       "      <td id=\"T_0826b_row5_col0\" class=\"data row5 col0\" >Imputation type</td>\n",
       "      <td id=\"T_0826b_row5_col1\" class=\"data row5 col1\" >simple</td>\n",
       "    </tr>\n",
       "    <tr>\n",
       "      <th id=\"T_0826b_level0_row6\" class=\"row_heading level0 row6\" >6</th>\n",
       "      <td id=\"T_0826b_row6_col0\" class=\"data row6 col0\" >Numeric imputation</td>\n",
       "      <td id=\"T_0826b_row6_col1\" class=\"data row6 col1\" >mean</td>\n",
       "    </tr>\n",
       "    <tr>\n",
       "      <th id=\"T_0826b_level0_row7\" class=\"row_heading level0 row7\" >7</th>\n",
       "      <td id=\"T_0826b_row7_col0\" class=\"data row7 col0\" >Categorical imputation</td>\n",
       "      <td id=\"T_0826b_row7_col1\" class=\"data row7 col1\" >mode</td>\n",
       "    </tr>\n",
       "    <tr>\n",
       "      <th id=\"T_0826b_level0_row8\" class=\"row_heading level0 row8\" >8</th>\n",
       "      <td id=\"T_0826b_row8_col0\" class=\"data row8 col0\" >Normalize</td>\n",
       "      <td id=\"T_0826b_row8_col1\" class=\"data row8 col1\" >True</td>\n",
       "    </tr>\n",
       "    <tr>\n",
       "      <th id=\"T_0826b_level0_row9\" class=\"row_heading level0 row9\" >9</th>\n",
       "      <td id=\"T_0826b_row9_col0\" class=\"data row9 col0\" >Normalize method</td>\n",
       "      <td id=\"T_0826b_row9_col1\" class=\"data row9 col1\" >zscore</td>\n",
       "    </tr>\n",
       "    <tr>\n",
       "      <th id=\"T_0826b_level0_row10\" class=\"row_heading level0 row10\" >10</th>\n",
       "      <td id=\"T_0826b_row10_col0\" class=\"data row10 col0\" >CPU Jobs</td>\n",
       "      <td id=\"T_0826b_row10_col1\" class=\"data row10 col1\" >-1</td>\n",
       "    </tr>\n",
       "    <tr>\n",
       "      <th id=\"T_0826b_level0_row11\" class=\"row_heading level0 row11\" >11</th>\n",
       "      <td id=\"T_0826b_row11_col0\" class=\"data row11 col0\" >Use GPU</td>\n",
       "      <td id=\"T_0826b_row11_col1\" class=\"data row11 col1\" >False</td>\n",
       "    </tr>\n",
       "    <tr>\n",
       "      <th id=\"T_0826b_level0_row12\" class=\"row_heading level0 row12\" >12</th>\n",
       "      <td id=\"T_0826b_row12_col0\" class=\"data row12 col0\" >Log Experiment</td>\n",
       "      <td id=\"T_0826b_row12_col1\" class=\"data row12 col1\" >False</td>\n",
       "    </tr>\n",
       "    <tr>\n",
       "      <th id=\"T_0826b_level0_row13\" class=\"row_heading level0 row13\" >13</th>\n",
       "      <td id=\"T_0826b_row13_col0\" class=\"data row13 col0\" >Experiment Name</td>\n",
       "      <td id=\"T_0826b_row13_col1\" class=\"data row13 col1\" >cluster-default-name</td>\n",
       "    </tr>\n",
       "    <tr>\n",
       "      <th id=\"T_0826b_level0_row14\" class=\"row_heading level0 row14\" >14</th>\n",
       "      <td id=\"T_0826b_row14_col0\" class=\"data row14 col0\" >USI</td>\n",
       "      <td id=\"T_0826b_row14_col1\" class=\"data row14 col1\" >7c5a</td>\n",
       "    </tr>\n",
       "  </tbody>\n",
       "</table>\n"
      ],
      "text/plain": [
       "<pandas.io.formats.style.Styler at 0x15f5dade0e0>"
      ]
     },
     "metadata": {},
     "output_type": "display_data"
    }
   ],
   "source": [
    "exp = setup(df_no_gender, session_id=123, normalize_method='zscore', normalize=True)"
   ]
  },
  {
   "cell_type": "code",
   "execution_count": 9,
   "metadata": {},
   "outputs": [
    {
     "data": {
      "text/plain": [
       "{'USI',\n",
       " 'X',\n",
       " 'X_train',\n",
       " 'X_train_transformed',\n",
       " 'X_transformed',\n",
       " '_available_plots',\n",
       " '_ml_usecase',\n",
       " 'data',\n",
       " 'dataset',\n",
       " 'dataset_transformed',\n",
       " 'exp_id',\n",
       " 'exp_name_log',\n",
       " 'gpu_n_jobs_param',\n",
       " 'gpu_param',\n",
       " 'html_param',\n",
       " 'idx',\n",
       " 'is_multiclass',\n",
       " 'log_plots_param',\n",
       " 'logging_param',\n",
       " 'memory',\n",
       " 'n_jobs_param',\n",
       " 'pipeline',\n",
       " 'seed',\n",
       " 'train',\n",
       " 'train_transformed',\n",
       " 'variable_and_property_keys',\n",
       " 'variables'}"
      ]
     },
     "execution_count": 9,
     "metadata": {},
     "output_type": "execute_result"
    }
   ],
   "source": [
    "# check all available config\n",
    "exp.get_config()"
   ]
  },
  {
   "cell_type": "code",
   "execution_count": 10,
   "metadata": {},
   "outputs": [
    {
     "data": {
      "text/html": [
       "<div>\n",
       "<style scoped>\n",
       "    .dataframe tbody tr th:only-of-type {\n",
       "        vertical-align: middle;\n",
       "    }\n",
       "\n",
       "    .dataframe tbody tr th {\n",
       "        vertical-align: top;\n",
       "    }\n",
       "\n",
       "    .dataframe thead th {\n",
       "        text-align: right;\n",
       "    }\n",
       "</style>\n",
       "<table border=\"1\" class=\"dataframe\">\n",
       "  <thead>\n",
       "    <tr style=\"text-align: right;\">\n",
       "      <th></th>\n",
       "      <th>Age</th>\n",
       "      <th>Annual Income (k$)</th>\n",
       "      <th>Spending Score (1-100)</th>\n",
       "    </tr>\n",
       "  </thead>\n",
       "  <tbody>\n",
       "    <tr>\n",
       "      <th>0</th>\n",
       "      <td>19</td>\n",
       "      <td>15</td>\n",
       "      <td>39</td>\n",
       "    </tr>\n",
       "    <tr>\n",
       "      <th>1</th>\n",
       "      <td>21</td>\n",
       "      <td>15</td>\n",
       "      <td>81</td>\n",
       "    </tr>\n",
       "    <tr>\n",
       "      <th>2</th>\n",
       "      <td>20</td>\n",
       "      <td>16</td>\n",
       "      <td>6</td>\n",
       "    </tr>\n",
       "    <tr>\n",
       "      <th>3</th>\n",
       "      <td>23</td>\n",
       "      <td>16</td>\n",
       "      <td>77</td>\n",
       "    </tr>\n",
       "    <tr>\n",
       "      <th>4</th>\n",
       "      <td>31</td>\n",
       "      <td>17</td>\n",
       "      <td>40</td>\n",
       "    </tr>\n",
       "    <tr>\n",
       "      <th>...</th>\n",
       "      <td>...</td>\n",
       "      <td>...</td>\n",
       "      <td>...</td>\n",
       "    </tr>\n",
       "    <tr>\n",
       "      <th>195</th>\n",
       "      <td>35</td>\n",
       "      <td>120</td>\n",
       "      <td>79</td>\n",
       "    </tr>\n",
       "    <tr>\n",
       "      <th>196</th>\n",
       "      <td>45</td>\n",
       "      <td>126</td>\n",
       "      <td>28</td>\n",
       "    </tr>\n",
       "    <tr>\n",
       "      <th>197</th>\n",
       "      <td>32</td>\n",
       "      <td>126</td>\n",
       "      <td>74</td>\n",
       "    </tr>\n",
       "    <tr>\n",
       "      <th>198</th>\n",
       "      <td>32</td>\n",
       "      <td>137</td>\n",
       "      <td>18</td>\n",
       "    </tr>\n",
       "    <tr>\n",
       "      <th>199</th>\n",
       "      <td>30</td>\n",
       "      <td>137</td>\n",
       "      <td>83</td>\n",
       "    </tr>\n",
       "  </tbody>\n",
       "</table>\n",
       "<p>200 rows × 3 columns</p>\n",
       "</div>"
      ],
      "text/plain": [
       "     Age  Annual Income (k$)  Spending Score (1-100)\n",
       "0     19                  15                      39\n",
       "1     21                  15                      81\n",
       "2     20                  16                       6\n",
       "3     23                  16                      77\n",
       "4     31                  17                      40\n",
       "..   ...                 ...                     ...\n",
       "195   35                 120                      79\n",
       "196   45                 126                      28\n",
       "197   32                 126                      74\n",
       "198   32                 137                      18\n",
       "199   30                 137                      83\n",
       "\n",
       "[200 rows x 3 columns]"
      ]
     },
     "execution_count": 10,
     "metadata": {},
     "output_type": "execute_result"
    }
   ],
   "source": [
    "get_config('X_train')\n"
   ]
  },
  {
   "cell_type": "code",
   "execution_count": 11,
   "metadata": {},
   "outputs": [
    {
     "data": {
      "text/html": [
       "<div>\n",
       "<style scoped>\n",
       "    .dataframe tbody tr th:only-of-type {\n",
       "        vertical-align: middle;\n",
       "    }\n",
       "\n",
       "    .dataframe tbody tr th {\n",
       "        vertical-align: top;\n",
       "    }\n",
       "\n",
       "    .dataframe thead th {\n",
       "        text-align: right;\n",
       "    }\n",
       "</style>\n",
       "<table border=\"1\" class=\"dataframe\">\n",
       "  <thead>\n",
       "    <tr style=\"text-align: right;\">\n",
       "      <th></th>\n",
       "      <th>Age</th>\n",
       "      <th>Annual Income (k$)</th>\n",
       "      <th>Spending Score (1-100)</th>\n",
       "    </tr>\n",
       "  </thead>\n",
       "  <tbody>\n",
       "    <tr>\n",
       "      <th>0</th>\n",
       "      <td>-1.424569</td>\n",
       "      <td>-1.738999</td>\n",
       "      <td>-0.434801</td>\n",
       "    </tr>\n",
       "    <tr>\n",
       "      <th>1</th>\n",
       "      <td>-1.281035</td>\n",
       "      <td>-1.738999</td>\n",
       "      <td>1.195704</td>\n",
       "    </tr>\n",
       "    <tr>\n",
       "      <th>2</th>\n",
       "      <td>-1.352802</td>\n",
       "      <td>-1.700830</td>\n",
       "      <td>-1.715913</td>\n",
       "    </tr>\n",
       "    <tr>\n",
       "      <th>3</th>\n",
       "      <td>-1.137502</td>\n",
       "      <td>-1.700830</td>\n",
       "      <td>1.040418</td>\n",
       "    </tr>\n",
       "    <tr>\n",
       "      <th>4</th>\n",
       "      <td>-0.563369</td>\n",
       "      <td>-1.662660</td>\n",
       "      <td>-0.395980</td>\n",
       "    </tr>\n",
       "    <tr>\n",
       "      <th>...</th>\n",
       "      <td>...</td>\n",
       "      <td>...</td>\n",
       "      <td>...</td>\n",
       "    </tr>\n",
       "    <tr>\n",
       "      <th>195</th>\n",
       "      <td>-0.276302</td>\n",
       "      <td>2.268791</td>\n",
       "      <td>1.118061</td>\n",
       "    </tr>\n",
       "    <tr>\n",
       "      <th>196</th>\n",
       "      <td>0.441365</td>\n",
       "      <td>2.497807</td>\n",
       "      <td>-0.861839</td>\n",
       "    </tr>\n",
       "    <tr>\n",
       "      <th>197</th>\n",
       "      <td>-0.491602</td>\n",
       "      <td>2.497807</td>\n",
       "      <td>0.923953</td>\n",
       "    </tr>\n",
       "    <tr>\n",
       "      <th>198</th>\n",
       "      <td>-0.491602</td>\n",
       "      <td>2.917671</td>\n",
       "      <td>-1.250054</td>\n",
       "    </tr>\n",
       "    <tr>\n",
       "      <th>199</th>\n",
       "      <td>-0.635135</td>\n",
       "      <td>2.917671</td>\n",
       "      <td>1.273347</td>\n",
       "    </tr>\n",
       "  </tbody>\n",
       "</table>\n",
       "<p>200 rows × 3 columns</p>\n",
       "</div>"
      ],
      "text/plain": [
       "          Age  Annual Income (k$)  Spending Score (1-100)\n",
       "0   -1.424569           -1.738999               -0.434801\n",
       "1   -1.281035           -1.738999                1.195704\n",
       "2   -1.352802           -1.700830               -1.715913\n",
       "3   -1.137502           -1.700830                1.040418\n",
       "4   -0.563369           -1.662660               -0.395980\n",
       "..        ...                 ...                     ...\n",
       "195 -0.276302            2.268791                1.118061\n",
       "196  0.441365            2.497807               -0.861839\n",
       "197 -0.491602            2.497807                0.923953\n",
       "198 -0.491602            2.917671               -1.250054\n",
       "199 -0.635135            2.917671                1.273347\n",
       "\n",
       "[200 rows x 3 columns]"
      ]
     },
     "execution_count": 11,
     "metadata": {},
     "output_type": "execute_result"
    }
   ],
   "source": [
    "get_config('X_transformed')\n"
   ]
  },
  {
   "cell_type": "code",
   "execution_count": 12,
   "metadata": {},
   "outputs": [
    {
     "data": {
      "text/html": [
       "<div>\n",
       "<style scoped>\n",
       "    .dataframe tbody tr th:only-of-type {\n",
       "        vertical-align: middle;\n",
       "    }\n",
       "\n",
       "    .dataframe tbody tr th {\n",
       "        vertical-align: top;\n",
       "    }\n",
       "\n",
       "    .dataframe thead th {\n",
       "        text-align: right;\n",
       "    }\n",
       "</style>\n",
       "<table border=\"1\" class=\"dataframe\">\n",
       "  <thead>\n",
       "    <tr style=\"text-align: right;\">\n",
       "      <th></th>\n",
       "      <th>Name</th>\n",
       "      <th>Reference</th>\n",
       "    </tr>\n",
       "    <tr>\n",
       "      <th>ID</th>\n",
       "      <th></th>\n",
       "      <th></th>\n",
       "    </tr>\n",
       "  </thead>\n",
       "  <tbody>\n",
       "    <tr>\n",
       "      <th>kmeans</th>\n",
       "      <td>K-Means Clustering</td>\n",
       "      <td>sklearn.cluster._kmeans.KMeans</td>\n",
       "    </tr>\n",
       "    <tr>\n",
       "      <th>ap</th>\n",
       "      <td>Affinity Propagation</td>\n",
       "      <td>sklearn.cluster._affinity_propagation.Affinity...</td>\n",
       "    </tr>\n",
       "    <tr>\n",
       "      <th>meanshift</th>\n",
       "      <td>Mean Shift Clustering</td>\n",
       "      <td>sklearn.cluster._mean_shift.MeanShift</td>\n",
       "    </tr>\n",
       "    <tr>\n",
       "      <th>sc</th>\n",
       "      <td>Spectral Clustering</td>\n",
       "      <td>sklearn.cluster._spectral.SpectralClustering</td>\n",
       "    </tr>\n",
       "    <tr>\n",
       "      <th>hclust</th>\n",
       "      <td>Agglomerative Clustering</td>\n",
       "      <td>sklearn.cluster._agglomerative.AgglomerativeCl...</td>\n",
       "    </tr>\n",
       "    <tr>\n",
       "      <th>dbscan</th>\n",
       "      <td>Density-Based Spatial Clustering</td>\n",
       "      <td>sklearn.cluster._dbscan.DBSCAN</td>\n",
       "    </tr>\n",
       "    <tr>\n",
       "      <th>optics</th>\n",
       "      <td>OPTICS Clustering</td>\n",
       "      <td>sklearn.cluster._optics.OPTICS</td>\n",
       "    </tr>\n",
       "    <tr>\n",
       "      <th>birch</th>\n",
       "      <td>Birch Clustering</td>\n",
       "      <td>sklearn.cluster._birch.Birch</td>\n",
       "    </tr>\n",
       "    <tr>\n",
       "      <th>kmodes</th>\n",
       "      <td>K-Modes Clustering</td>\n",
       "      <td>kmodes.kmodes.KModes</td>\n",
       "    </tr>\n",
       "  </tbody>\n",
       "</table>\n",
       "</div>"
      ],
      "text/plain": [
       "                                       Name  \\\n",
       "ID                                            \n",
       "kmeans                   K-Means Clustering   \n",
       "ap                     Affinity Propagation   \n",
       "meanshift             Mean Shift Clustering   \n",
       "sc                      Spectral Clustering   \n",
       "hclust             Agglomerative Clustering   \n",
       "dbscan     Density-Based Spatial Clustering   \n",
       "optics                    OPTICS Clustering   \n",
       "birch                      Birch Clustering   \n",
       "kmodes                   K-Modes Clustering   \n",
       "\n",
       "                                                   Reference  \n",
       "ID                                                            \n",
       "kmeans                        sklearn.cluster._kmeans.KMeans  \n",
       "ap         sklearn.cluster._affinity_propagation.Affinity...  \n",
       "meanshift              sklearn.cluster._mean_shift.MeanShift  \n",
       "sc              sklearn.cluster._spectral.SpectralClustering  \n",
       "hclust     sklearn.cluster._agglomerative.AgglomerativeCl...  \n",
       "dbscan                        sklearn.cluster._dbscan.DBSCAN  \n",
       "optics                        sklearn.cluster._optics.OPTICS  \n",
       "birch                           sklearn.cluster._birch.Birch  \n",
       "kmodes                                  kmodes.kmodes.KModes  "
      ]
     },
     "execution_count": 12,
     "metadata": {},
     "output_type": "execute_result"
    }
   ],
   "source": [
    "exp.models()"
   ]
  },
  {
   "cell_type": "markdown",
   "metadata": {},
   "source": [
    "* K-Means Clustering (kmeans): This is a widely used clustering method that partitions data into K clusters, where each data point belongs to the cluster with the nearest mean. It works best with numerical datasets and is less effective for categorical data or mixed types without proper preprocessing.\n",
    "\n",
    "* Affinity Propagation (ap): This method uses message passing between data points to create clusters. Unlike K-means, it doesn't require the number of clusters to be specified in advance. It can work with any similarity matrix and is thus more flexible with different data types, but it might not be as efficient with large datasets.\n",
    "\n",
    "* Mean Shift Clustering (meanshift): This algorithm finds clusters without specifying the number of clusters in advance. It works by updating candidates for centroids to be the mean of the points within a certain region. It's better suited for continuous data and might not perform well with high-dimensional categorical data.\n",
    "\n",
    "* Spectral Clustering (sc): Spectral clustering uses eigenvalues of a similarity matrix to reduce dimensions, then applies a clustering method like K-means. It's good for identifying clusters that are not necessarily globular and can handle mixed data types if the similarity matrix is defined appropriately.\n",
    "\n",
    "* Agglomerative Clustering (hclust): This is a type of hierarchical clustering that merges data points or clusters based on their distance. It's versatile and can work with different distance metrics, making it suitable for mixed data types, though interpretation can become complex.\n",
    "\n",
    "* Density-Based Spatial Clustering (dbscan): DBSCAN forms clusters based on dense areas of data points. It's good at separating high density clusters from low density areas and can handle outliers well. It's primarily suited for continuous data but can be adapted for mixed types with appropriate distance metrics.\n",
    "\n",
    "* OPTICS Clustering (optics): Similar to DBSCAN but handles varying densities better. OPTICS is good for spatial data and can identify a range of clustering structures. Like DBSCAN, it's more suited for continuous data.\n",
    "\n",
    "* Birch Clustering (birch): Designed for very large datasets, Birch incrementally builds a tree-like structure for clustering. It works well with numerical data but is not ideal for categorical data.\n",
    "\n",
    "* K-Modes Clustering (kmodes): This is specifically designed for categorical data. It uses modes instead of means for clustering and is a good choice if your dataset is predominantly categorical."
   ]
  },
  {
   "cell_type": "code",
   "execution_count": 13,
   "metadata": {},
   "outputs": [
    {
     "data": {
      "text/html": [],
      "text/plain": [
       "<IPython.core.display.HTML object>"
      ]
     },
     "metadata": {},
     "output_type": "display_data"
    },
    {
     "data": {
      "text/html": [
       "<style type=\"text/css\">\n",
       "</style>\n",
       "<table id=\"T_68d5b\">\n",
       "  <thead>\n",
       "    <tr>\n",
       "      <th class=\"blank level0\" >&nbsp;</th>\n",
       "      <th id=\"T_68d5b_level0_col0\" class=\"col_heading level0 col0\" >Silhouette</th>\n",
       "      <th id=\"T_68d5b_level0_col1\" class=\"col_heading level0 col1\" >Calinski-Harabasz</th>\n",
       "      <th id=\"T_68d5b_level0_col2\" class=\"col_heading level0 col2\" >Davies-Bouldin</th>\n",
       "      <th id=\"T_68d5b_level0_col3\" class=\"col_heading level0 col3\" >Homogeneity</th>\n",
       "      <th id=\"T_68d5b_level0_col4\" class=\"col_heading level0 col4\" >Rand Index</th>\n",
       "      <th id=\"T_68d5b_level0_col5\" class=\"col_heading level0 col5\" >Completeness</th>\n",
       "    </tr>\n",
       "  </thead>\n",
       "  <tbody>\n",
       "    <tr>\n",
       "      <th id=\"T_68d5b_level0_row0\" class=\"row_heading level0 row0\" >0</th>\n",
       "      <td id=\"T_68d5b_row0_col0\" class=\"data row0 col0\" >0.4269</td>\n",
       "      <td id=\"T_68d5b_row0_col1\" class=\"data row0 col1\" >135.0755</td>\n",
       "      <td id=\"T_68d5b_row0_col2\" class=\"data row0 col2\" >0.8239</td>\n",
       "      <td id=\"T_68d5b_row0_col3\" class=\"data row0 col3\" >0</td>\n",
       "      <td id=\"T_68d5b_row0_col4\" class=\"data row0 col4\" >0</td>\n",
       "      <td id=\"T_68d5b_row0_col5\" class=\"data row0 col5\" >0</td>\n",
       "    </tr>\n",
       "  </tbody>\n",
       "</table>\n"
      ],
      "text/plain": [
       "<pandas.io.formats.style.Styler at 0x15f59910790>"
      ]
     },
     "metadata": {},
     "output_type": "display_data"
    },
    {
     "data": {
      "text/html": [],
      "text/plain": [
       "<IPython.core.display.HTML object>"
      ]
     },
     "metadata": {},
     "output_type": "display_data"
    }
   ],
   "source": [
    "kmeans = create_model('kmeans', num_clusters=6)"
   ]
  },
  {
   "cell_type": "code",
   "execution_count": 14,
   "metadata": {},
   "outputs": [
    {
     "data": {
      "text/plain": [
       "{'algorithm': 'lloyd',\n",
       " 'copy_x': True,\n",
       " 'init': 'k-means++',\n",
       " 'max_iter': 300,\n",
       " 'n_clusters': 6,\n",
       " 'n_init': 'warn',\n",
       " 'random_state': 123,\n",
       " 'tol': 0.0001,\n",
       " 'verbose': 0}"
      ]
     },
     "execution_count": 14,
     "metadata": {},
     "output_type": "execute_result"
    }
   ],
   "source": [
    "kmeans.get_params()"
   ]
  },
  {
   "cell_type": "code",
   "execution_count": 15,
   "metadata": {},
   "outputs": [
    {
     "data": {
      "text/plain": [
       "133.88887021131026"
      ]
     },
     "execution_count": 15,
     "metadata": {},
     "output_type": "execute_result"
    }
   ],
   "source": [
    "kmeans.inertia_"
   ]
  },
  {
   "cell_type": "markdown",
   "metadata": {},
   "source": [
    "## Assigning the labels to the original dataset\n",
    "This function assigns cluster labels to the dataset for a given model.\n",
    "\n"
   ]
  },
  {
   "cell_type": "code",
   "execution_count": 16,
   "metadata": {},
   "outputs": [
    {
     "data": {
      "text/html": [
       "<div>\n",
       "<style scoped>\n",
       "    .dataframe tbody tr th:only-of-type {\n",
       "        vertical-align: middle;\n",
       "    }\n",
       "\n",
       "    .dataframe tbody tr th {\n",
       "        vertical-align: top;\n",
       "    }\n",
       "\n",
       "    .dataframe thead th {\n",
       "        text-align: right;\n",
       "    }\n",
       "</style>\n",
       "<table border=\"1\" class=\"dataframe\">\n",
       "  <thead>\n",
       "    <tr style=\"text-align: right;\">\n",
       "      <th></th>\n",
       "      <th>Age</th>\n",
       "      <th>Annual Income (k$)</th>\n",
       "      <th>Spending Score (1-100)</th>\n",
       "      <th>Cluster</th>\n",
       "    </tr>\n",
       "  </thead>\n",
       "  <tbody>\n",
       "    <tr>\n",
       "      <th>0</th>\n",
       "      <td>19</td>\n",
       "      <td>15</td>\n",
       "      <td>39</td>\n",
       "      <td>Cluster 2</td>\n",
       "    </tr>\n",
       "    <tr>\n",
       "      <th>1</th>\n",
       "      <td>21</td>\n",
       "      <td>15</td>\n",
       "      <td>81</td>\n",
       "      <td>Cluster 2</td>\n",
       "    </tr>\n",
       "    <tr>\n",
       "      <th>2</th>\n",
       "      <td>20</td>\n",
       "      <td>16</td>\n",
       "      <td>6</td>\n",
       "      <td>Cluster 5</td>\n",
       "    </tr>\n",
       "    <tr>\n",
       "      <th>3</th>\n",
       "      <td>23</td>\n",
       "      <td>16</td>\n",
       "      <td>77</td>\n",
       "      <td>Cluster 2</td>\n",
       "    </tr>\n",
       "    <tr>\n",
       "      <th>4</th>\n",
       "      <td>31</td>\n",
       "      <td>17</td>\n",
       "      <td>40</td>\n",
       "      <td>Cluster 5</td>\n",
       "    </tr>\n",
       "    <tr>\n",
       "      <th>...</th>\n",
       "      <td>...</td>\n",
       "      <td>...</td>\n",
       "      <td>...</td>\n",
       "      <td>...</td>\n",
       "    </tr>\n",
       "    <tr>\n",
       "      <th>195</th>\n",
       "      <td>35</td>\n",
       "      <td>120</td>\n",
       "      <td>79</td>\n",
       "      <td>Cluster 1</td>\n",
       "    </tr>\n",
       "    <tr>\n",
       "      <th>196</th>\n",
       "      <td>45</td>\n",
       "      <td>126</td>\n",
       "      <td>28</td>\n",
       "      <td>Cluster 4</td>\n",
       "    </tr>\n",
       "    <tr>\n",
       "      <th>197</th>\n",
       "      <td>32</td>\n",
       "      <td>126</td>\n",
       "      <td>74</td>\n",
       "      <td>Cluster 1</td>\n",
       "    </tr>\n",
       "    <tr>\n",
       "      <th>198</th>\n",
       "      <td>32</td>\n",
       "      <td>137</td>\n",
       "      <td>18</td>\n",
       "      <td>Cluster 4</td>\n",
       "    </tr>\n",
       "    <tr>\n",
       "      <th>199</th>\n",
       "      <td>30</td>\n",
       "      <td>137</td>\n",
       "      <td>83</td>\n",
       "      <td>Cluster 1</td>\n",
       "    </tr>\n",
       "  </tbody>\n",
       "</table>\n",
       "<p>200 rows × 4 columns</p>\n",
       "</div>"
      ],
      "text/plain": [
       "     Age  Annual Income (k$)  Spending Score (1-100)    Cluster\n",
       "0     19                  15                      39  Cluster 2\n",
       "1     21                  15                      81  Cluster 2\n",
       "2     20                  16                       6  Cluster 5\n",
       "3     23                  16                      77  Cluster 2\n",
       "4     31                  17                      40  Cluster 5\n",
       "..   ...                 ...                     ...        ...\n",
       "195   35                 120                      79  Cluster 1\n",
       "196   45                 126                      28  Cluster 4\n",
       "197   32                 126                      74  Cluster 1\n",
       "198   32                 137                      18  Cluster 4\n",
       "199   30                 137                      83  Cluster 1\n",
       "\n",
       "[200 rows x 4 columns]"
      ]
     },
     "execution_count": 16,
     "metadata": {},
     "output_type": "execute_result"
    }
   ],
   "source": [
    "kmeans_clusters = assign_model(kmeans)\n",
    "kmeans_clusters"
   ]
  },
  {
   "cell_type": "markdown",
   "metadata": {},
   "source": [
    "## Plot model\n",
    "This function analyzes the performance of a trained model."
   ]
  },
  {
   "cell_type": "code",
   "execution_count": 17,
   "metadata": {},
   "outputs": [
    {
     "data": {
      "text/html": [],
      "text/plain": [
       "<IPython.core.display.HTML object>"
      ]
     },
     "metadata": {},
     "output_type": "display_data"
    },
    {
     "data": {
      "application/vnd.plotly.v1+json": {
       "config": {
        "plotlyServerURL": "https://plot.ly"
       },
       "data": [
        {
         "customdata": [
          [
           50
          ],
          [
           70
          ],
          [
           53
          ],
          [
           67
          ],
          [
           69
          ],
          [
           51
          ],
          [
           47
          ],
          [
           50
          ],
          [
           59
          ],
          [
           49
          ],
          [
           66
          ],
          [
           49
          ],
          [
           54
          ],
          [
           68
          ],
          [
           66
          ],
          [
           50
          ],
          [
           65
          ],
          [
           63
          ],
          [
           49
          ],
          [
           49
          ],
          [
           67
          ],
          [
           63
          ],
          [
           48
          ],
          [
           57
          ],
          [
           49
          ],
          [
           55
          ],
          [
           50
          ],
          [
           45
          ],
          [
           68
          ],
          [
           59
          ],
          [
           60
          ],
          [
           60
          ],
          [
           47
          ],
          [
           70
          ],
          [
           48
          ],
          [
           47
          ],
          [
           68
          ],
          [
           43
          ],
          [
           48
          ],
          [
           54
          ],
          [
           51
          ],
          [
           46
          ],
          [
           65
          ],
          [
           67
          ],
          [
           56
          ]
         ],
         "hovertemplate": "Cluster=Cluster 0<br>PCA1=%{x}<br>PCA2=%{y}<br>Feature=%{customdata[0]}<extra></extra>",
         "legendgroup": "Cluster 0",
         "marker": {
          "color": "#636efa",
          "opacity": 0.5,
          "symbol": "circle"
         },
         "mode": "markers",
         "name": "Cluster 0",
         "orientation": "v",
         "showlegend": true,
         "textposition": "top center",
         "type": "scatter",
         "x": [
          0.36701412666662797,
          1.4468183478582068,
          0.859165714859779,
          1.1831581202431958,
          1.6739473729980554,
          0.6517793040933944,
          0.6975753482600485,
          0.7399964553305761,
          0.7850124808477119,
          0.352900407958909,
          1.3773722369157924,
          0.49922442378997356,
          0.8786986258558983,
          1.6706720388671368,
          1.4322037673787564,
          0.47133794625152636,
          1.2718459837873426,
          1.4135323300491973,
          0.5722265298107653,
          0.26515396902869254,
          1.4025641930424224,
          1.2253680198667072,
          0.5910277195702986,
          0.910201397402255,
          0.7513855031617119,
          0.6114024522151397,
          0.6850849739202417,
          0.24703319495346893,
          1.3490150470703794,
          1.1212539036591531,
          0.9325389302223277,
          1.1244492868427018,
          0.6591612965570256,
          1.4687349698539185,
          0.49778213740431154,
          0.5019189452017904,
          1.5610889288885788,
          0.23888933178848565,
          0.6878594462794289,
          0.5516224417707408,
          0.8015295625728616,
          0.5444698047022922,
          1.7837401863539577,
          1.691306276371927,
          1.2523327248090614
         ],
         "xaxis": "x",
         "y": [
          0.2596707407127491,
          -0.4962216165250897,
          -0.5183300092586817,
          0.10288684728592078,
          -0.5599695700205969,
          -0.604771872688721,
          -0.6383508727713163,
          -0.6377274151574736,
          -0.6402564948500599,
          0.0683499338640637,
          0.15204690536321064,
          -0.688280767762684,
          0.1319552647713822,
          0.16663855749347442,
          0.1549798737192869,
          -0.7667667526886902,
          0.14695080556513593,
          0.23207256411737237,
          0.0800818072883688,
          0.17832497708078432,
          -0.45872024222198743,
          -0.427781451894998,
          -0.22414701113311342,
          -0.21201124904531835,
          -0.2161179429789625,
          -0.11222840542474716,
          -0.0673214205813366,
          -0.24090179470537568,
          -0.0034585803107632794,
          -0.201819049449169,
          -0.3653536032772938,
          -0.35508821403102686,
          -0.41106836544768427,
          -0.3803806365962166,
          0.0002025278344422183,
          0.0009723647485200845,
          -0.4125663421508915,
          -0.46957759655692816,
          0.0485927489976542,
          -0.4971063402142339,
          0.28236465064728133,
          -0.22554030566103403,
          -0.7812397613318409,
          -0.17571509284495282,
          0.7624101642849188
         ],
         "yaxis": "y"
        },
        {
         "customdata": [
          [
           40
          ],
          [
           33
          ],
          [
           32
          ],
          [
           28
          ],
          [
           36
          ],
          [
           30
          ],
          [
           27
          ],
          [
           35
          ],
          [
           36
          ],
          [
           32
          ],
          [
           30
          ],
          [
           28
          ],
          [
           36
          ],
          [
           32
          ],
          [
           38
          ],
          [
           35
          ],
          [
           32
          ],
          [
           29
          ],
          [
           31
          ],
          [
           31
          ],
          [
           39
          ],
          [
           38
          ],
          [
           39
          ],
          [
           31
          ],
          [
           29
          ],
          [
           32
          ],
          [
           35
          ],
          [
           32
          ],
          [
           29
          ],
          [
           32
          ],
          [
           32
          ],
          [
           34
          ],
          [
           39
          ],
          [
           38
          ],
          [
           27
          ],
          [
           30
          ],
          [
           30
          ],
          [
           28
          ],
          [
           30
          ]
         ],
         "hovertemplate": "Cluster=Cluster 1<br>PCA1=%{x}<br>PCA2=%{y}<br>Feature=%{customdata[0]}<extra></extra>",
         "legendgroup": "Cluster 1",
         "marker": {
          "color": "#EF553B",
          "opacity": 0.5,
          "symbol": "circle"
         },
         "mode": "markers",
         "name": "Cluster 1",
         "orientation": "v",
         "showlegend": true,
         "textposition": "top center",
         "type": "scatter",
         "x": [
          -1.1890643697655683,
          -1.5714231446028168,
          -0.7466464276061339,
          -1.278414501045859,
          -1.3389247286571722,
          -1.480431521006448,
          -1.1664476800677088,
          -1.3457862073312343,
          -0.8691906242314639,
          -1.3955395053827888,
          -1.802168463750575,
          -1.1121668128590803,
          -1.176343135960907,
          -0.9404697829191353,
          -1.2577787594713972,
          -1.0937050789068663,
          -1.1197087072174523,
          -1.6042882515874657,
          -1.1500000518430016,
          -1.608815820744539,
          -1.1264299360146117,
          -0.742138510466898,
          -0.6914437878014128,
          -0.9891715559446228,
          -1.5584620579560449,
          -0.9951414114873586,
          -0.8174745260046778,
          -1.5471228116075126,
          -1.4323815182701758,
          -1.3844612679638773,
          -1.029889367699868,
          -1.3689852138178669,
          -1.060680070027477,
          -0.7823856099151779,
          -1.6964325072447815,
          -1.2427749217020232,
          -1.1056960955446131,
          -1.8632308586858952,
          -1.4880035648295864
         ],
         "xaxis": "x",
         "y": [
          0.33481235519509567,
          0.8915429138552818,
          0.9744321080274488,
          0.9481817721229976,
          0.9405565926323368,
          0.9745015409655201,
          0.9929423776661728,
          1.1700754210480846,
          0.8892371598250952,
          1.3219512911020221,
          1.3777433660934957,
          1.4921948082064949,
          1.5608192925497242,
          1.5756305136303403,
          1.9375949695349421,
          2.215577208764018,
          2.4451692268298846,
          1.3506537603368955,
          0.3036160555048514,
          0.6995254597426362,
          0.2622654966313598,
          0.35981577587186153,
          0.36197890731386,
          0.3886646244069702,
          0.3975329624132701,
          0.4260196194098375,
          0.4721003298308159,
          0.47293959968296473,
          0.6336143748051309,
          0.5198633366681386,
          0.5770524628995793,
          0.5960398108519109,
          0.6097884364179793,
          0.6252231151124387,
          0.58236437493596,
          0.604985095220375,
          0.6123175161105657,
          0.5346708010367083,
          2.84701775742994
         ],
         "yaxis": "y"
        },
        {
         "customdata": [
          [
           19
          ],
          [
           35
          ],
          [
           30
          ],
          [
           21
          ],
          [
           18
          ],
          [
           21
          ],
          [
           23
          ],
          [
           24
          ],
          [
           29
          ],
          [
           31
          ],
          [
           24
          ],
          [
           25
          ],
          [
           20
          ],
          [
           22
          ],
          [
           24
          ],
          [
           35
          ],
          [
           30
          ],
          [
           23
          ],
          [
           22
          ],
          [
           23
          ],
          [
           21
          ],
          [
           35
          ],
          [
           20
          ]
         ],
         "hovertemplate": "Cluster=Cluster 2<br>PCA1=%{x}<br>PCA2=%{y}<br>Feature=%{customdata[0]}<extra></extra>",
         "legendgroup": "Cluster 2",
         "marker": {
          "color": "#00cc96",
          "opacity": 0.5,
          "symbol": "circle"
         },
         "mode": "markers",
         "name": "Cluster 2",
         "orientation": "v",
         "showlegend": true,
         "textposition": "top center",
         "type": "scatter",
         "x": [
          -0.615720019043383,
          -0.4315809121765617,
          -1.0250419947533127,
          -1.6987875728492792,
          -2.152445158392037,
          -1.4739623077616522,
          -1.7545605279261733,
          -1.8574420611254097,
          -1.3114803180305958,
          -0.9578498423805162,
          -1.1190494476206518,
          -1.2601851306281702,
          -1.3162492440994515,
          -1.5694316990324908,
          -1.4132107232385562,
          -1.4568825612655676,
          -0.9701305133429786,
          -1.9263073593487223,
          -1.481685260102274,
          -1.4565732549230146,
          -1.6657927134346566,
          -1.436798987015113,
          -1.592319895106899
         ],
         "xaxis": "x",
         "y": [
          -1.7634808784656566,
          -1.265510612390235,
          -1.065175088235015,
          -1.1344999765542507,
          -1.1571206968386656,
          -1.2371425988807807,
          -1.2914719464062634,
          -0.9535177486019504,
          -1.3092855687810265,
          -1.406135444045522,
          -0.8757978438779754,
          -1.4572390646144573,
          -1.5721638283290176,
          -1.6250266916764615,
          -1.6177674604363883,
          -1.6643604984081901,
          -1.635581082811152,
          -1.7211104867389255,
          -1.735001734893182,
          -1.7724299195461672,
          -1.8207469510592622,
          -1.5103946865623716,
          -0.9753648752602407
         ],
         "yaxis": "y"
        },
        {
         "customdata": [
          [
           27
          ],
          [
           38
          ],
          [
           38
          ],
          [
           23
          ],
          [
           25
          ],
          [
           21
          ],
          [
           40
          ],
          [
           31
          ],
          [
           28
          ],
          [
           20
          ],
          [
           27
          ],
          [
           34
          ],
          [
           24
          ],
          [
           18
          ],
          [
           26
          ],
          [
           32
          ],
          [
           23
          ],
          [
           19
          ],
          [
           40
          ],
          [
           27
          ],
          [
           40
          ],
          [
           22
          ],
          [
           19
          ],
          [
           26
          ],
          [
           32
          ],
          [
           19
          ],
          [
           21
          ],
          [
           18
          ],
          [
           18
          ],
          [
           33
          ],
          [
           23
          ],
          [
           19
          ],
          [
           38
          ],
          [
           31
          ],
          [
           29
          ],
          [
           31
          ],
          [
           19
          ],
          [
           27
          ]
         ],
         "hovertemplate": "Cluster=Cluster 3<br>PCA1=%{x}<br>PCA2=%{y}<br>Feature=%{customdata[0]}<extra></extra>",
         "legendgroup": "Cluster 3",
         "marker": {
          "color": "#ab63fa",
          "opacity": 0.5,
          "symbol": "circle"
         },
         "mode": "markers",
         "name": "Cluster 3",
         "orientation": "v",
         "showlegend": true,
         "textposition": "top center",
         "type": "scatter",
         "x": [
          -0.7715487294080492,
          0.22474546361600034,
          -0.16266139416789138,
          -0.2396011020557455,
          -0.2789565783726988,
          -1.0793032099441036,
          -0.17101496071021954,
          -0.6545233280363274,
          -0.29869919274616297,
          -0.9235031449745301,
          -0.5942228038023593,
          -0.5098513019682696,
          -0.8011385022617786,
          -1.2752206219319824,
          -0.7435823009222315,
          -0.12142306862307689,
          -0.5539259028714751,
          -1.1111967428500553,
          0.33896624316376844,
          -0.5959759006002459,
          0.13063840778345315,
          -0.9792761000514245,
          -1.2245258992664971,
          -0.7856624481157681,
          -0.23650532183740525,
          -1.0089458238525248,
          -0.6827311134339278,
          -1.0048090160550458,
          -0.8019003729631309,
          -0.5312172607096457,
          -0.840834938455723,
          -0.89744971518134,
          0.17541307638880674,
          -0.13545683638342565,
          -0.23684628171439623,
          -0.4699451623969805,
          -1.1149427892879396,
          -0.47531455320277666
         ],
         "xaxis": "x",
         "y": [
          0.21138520172482353,
          0.2586433944354164,
          -0.25897668315544087,
          0.35670224451469484,
          0.42994575034239085,
          -0.2986828860254903,
          0.3128226059486167,
          -0.854789987071834,
          0.5801355672679374,
          -0.022240320624568467,
          -0.04668971662556271,
          -0.1224623021458452,
          -0.05611207930763425,
          -0.5368542402092319,
          -0.28346777628138375,
          -0.024142185991265504,
          0.03410577904267692,
          -0.6050748358889709,
          -0.0039041660992018765,
          -0.5819038476408309,
          -0.24438503102517714,
          -0.17921229047658055,
          -0.5346911087672335,
          0.020064394876138186,
          -0.48897258988479636,
          0.12662939142317503,
          0.02831303198064189,
          0.1273992283372529,
          -0.09108437391815023,
          -0.7346227442589639,
          -0.2870242022513027,
          0.09437049621838255,
          0.14133593032850508,
          -0.7888019557721643,
          -0.7931282186561611,
          -0.6920252701577868,
          0.04451379087713242,
          -0.8047869024303484
         ],
         "yaxis": "y"
        },
        {
         "customdata": [
          [
           52
          ],
          [
           41
          ],
          [
           19
          ],
          [
           54
          ],
          [
           42
          ],
          [
           36
          ],
          [
           37
          ],
          [
           40
          ],
          [
           59
          ],
          [
           58
          ],
          [
           41
          ],
          [
           50
          ],
          [
           36
          ],
          [
           34
          ],
          [
           37
          ],
          [
           45
          ],
          [
           43
          ],
          [
           59
          ],
          [
           47
          ],
          [
           47
          ],
          [
           20
          ],
          [
           44
          ],
          [
           19
          ],
          [
           34
          ],
          [
           57
          ],
          [
           25
          ],
          [
           48
          ],
          [
           32
          ],
          [
           34
          ],
          [
           43
          ],
          [
           44
          ],
          [
           47
          ],
          [
           33
          ],
          [
           46
          ]
         ],
         "hovertemplate": "Cluster=Cluster 4<br>PCA1=%{x}<br>PCA2=%{y}<br>Feature=%{customdata[0]}<extra></extra>",
         "legendgroup": "Cluster 4",
         "marker": {
          "color": "#FFA15A",
          "opacity": 0.5,
          "symbol": "circle"
         },
         "mode": "markers",
         "name": "Cluster 4",
         "orientation": "v",
         "showlegend": true,
         "textposition": "top center",
         "type": "scatter",
         "x": [
          1.636203239532414,
          0.9414025131072967,
          0.19543484764005736,
          1.4121896466287436,
          0.9410117517477018,
          0.44310001138915966,
          0.3383854304446667,
          1.0296996152918487,
          1.9544852942330437,
          1.885540045062361,
          0.3455878689957194,
          1.183907989427948,
          0.9091680203243541,
          0.4220448630600083,
          1.2231020597804894,
          0.8004478880820283,
          0.6079657121198092,
          2.0770596403231405,
          1.5235544988002825,
          1.2418248026623238,
          0.26079395226759733,
          1.4226357657762776,
          0.07118735569944498,
          1.0710178917840334,
          2.132832595400035,
          0.3150250179936218,
          0.823025273744212,
          0.39541062054771614,
          0.49528682192291085,
          1.0886181520696878,
          1.057065579040727,
          1.3188128079631105,
          0.7642561414141853,
          1.2588728956239708
         ],
         "xaxis": "x",
         "y": [
          1.1291437776862694,
          1.6713558738663092,
          0.8026184901060114,
          1.6129615295321318,
          1.020997410186128,
          1.0358780642048158,
          1.4119570939260737,
          1.0650613684653434,
          1.333443373186945,
          1.1391895979821836,
          1.4865938942816903,
          0.9913787247369417,
          1.0608082952314644,
          1.6474150487040915,
          0.7330462970233007,
          2.5407482077656187,
          0.42929080020337923,
          0.4990965235482693,
          0.4760719146003645,
          2.333923289284403,
          0.49978296621244994,
          0.5487651524643355,
          0.5284122457972058,
          0.7265569026973053,
          0.6560684934002814,
          0.652832561843955,
          0.6673889647370034,
          2.946665491886416,
          0.6957607349585044,
          0.7225613388266809,
          0.7203250177345649,
          0.7326803487727126,
          2.0484974991021154,
          1.4944803398476527
         ],
         "yaxis": "y"
        },
        {
         "customdata": [
          [
           31
          ],
          [
           35
          ],
          [
           20
          ],
          [
           64
          ],
          [
           49
          ],
          [
           58
          ],
          [
           37
          ],
          [
           35
          ],
          [
           52
          ],
          [
           35
          ],
          [
           54
          ],
          [
           45
          ],
          [
           40
          ],
          [
           60
          ],
          [
           53
          ],
          [
           49
          ],
          [
           42
          ],
          [
           36
          ],
          [
           48
          ],
          [
           67
          ],
          [
           46
          ]
         ],
         "hovertemplate": "Cluster=Cluster 5<br>PCA1=%{x}<br>PCA2=%{y}<br>Feature=%{customdata[0]}<extra></extra>",
         "legendgroup": "Cluster 5",
         "marker": {
          "color": "#19d3f3",
          "opacity": 0.5,
          "symbol": "circle"
         },
         "mode": "markers",
         "name": "Cluster 5",
         "orientation": "v",
         "showlegend": true,
         "textposition": "top center",
         "type": "scatter",
         "x": [
          -0.038465207779554686,
          1.0946166530075179,
          0.33786190851575393,
          2.6451778582557774,
          1.1627019325813128,
          2.010187291739825,
          1.0004296462276003,
          0.2940603180587688,
          1.316699099270395,
          0.2885611748229984,
          1.820159784347312,
          0.8704235061912688,
          0.6425326103500683,
          2.3948196771645294,
          2.034457475270363,
          1.5575209322936021,
          1.118577530195503,
          0.562168163883483,
          0.8926810880639712,
          2.495688608705931,
          1.6668430333425392
         ],
         "xaxis": "x",
         "y": [
          -1.6627401215058237,
          -1.5661023017675877,
          -1.674798937231454,
          -1.4608472054985744,
          -0.7674596432406039,
          -1.4532989723700773,
          -1.495791764295968,
          -1.4942558471798586,
          -1.3724340437637665,
          -1.379881351429024,
          -1.155486358624473,
          -1.201351256807145,
          -1.1725755979221542,
          -1.051593064358211,
          -0.952360488701365,
          -0.9756778562497398,
          -0.9570943969608984,
          -0.8688970474643971,
          -0.7813546481069072,
          -1.4704891371309985,
          -1.2739675483089519
         ],
         "yaxis": "y"
        }
       ],
       "layout": {
        "height": 600,
        "legend": {
         "title": {
          "text": "Cluster"
         },
         "tracegroupgap": 0
        },
        "margin": {
         "t": 60
        },
        "plot_bgcolor": "rgb(240,240,240)",
        "template": {
         "data": {
          "bar": [
           {
            "error_x": {
             "color": "#2a3f5f"
            },
            "error_y": {
             "color": "#2a3f5f"
            },
            "marker": {
             "line": {
              "color": "#E5ECF6",
              "width": 0.5
             },
             "pattern": {
              "fillmode": "overlay",
              "size": 10,
              "solidity": 0.2
             }
            },
            "type": "bar"
           }
          ],
          "barpolar": [
           {
            "marker": {
             "line": {
              "color": "#E5ECF6",
              "width": 0.5
             },
             "pattern": {
              "fillmode": "overlay",
              "size": 10,
              "solidity": 0.2
             }
            },
            "type": "barpolar"
           }
          ],
          "carpet": [
           {
            "aaxis": {
             "endlinecolor": "#2a3f5f",
             "gridcolor": "white",
             "linecolor": "white",
             "minorgridcolor": "white",
             "startlinecolor": "#2a3f5f"
            },
            "baxis": {
             "endlinecolor": "#2a3f5f",
             "gridcolor": "white",
             "linecolor": "white",
             "minorgridcolor": "white",
             "startlinecolor": "#2a3f5f"
            },
            "type": "carpet"
           }
          ],
          "choropleth": [
           {
            "colorbar": {
             "outlinewidth": 0,
             "ticks": ""
            },
            "type": "choropleth"
           }
          ],
          "contour": [
           {
            "colorbar": {
             "outlinewidth": 0,
             "ticks": ""
            },
            "colorscale": [
             [
              0,
              "#0d0887"
             ],
             [
              0.1111111111111111,
              "#46039f"
             ],
             [
              0.2222222222222222,
              "#7201a8"
             ],
             [
              0.3333333333333333,
              "#9c179e"
             ],
             [
              0.4444444444444444,
              "#bd3786"
             ],
             [
              0.5555555555555556,
              "#d8576b"
             ],
             [
              0.6666666666666666,
              "#ed7953"
             ],
             [
              0.7777777777777778,
              "#fb9f3a"
             ],
             [
              0.8888888888888888,
              "#fdca26"
             ],
             [
              1,
              "#f0f921"
             ]
            ],
            "type": "contour"
           }
          ],
          "contourcarpet": [
           {
            "colorbar": {
             "outlinewidth": 0,
             "ticks": ""
            },
            "type": "contourcarpet"
           }
          ],
          "heatmap": [
           {
            "colorbar": {
             "outlinewidth": 0,
             "ticks": ""
            },
            "colorscale": [
             [
              0,
              "#0d0887"
             ],
             [
              0.1111111111111111,
              "#46039f"
             ],
             [
              0.2222222222222222,
              "#7201a8"
             ],
             [
              0.3333333333333333,
              "#9c179e"
             ],
             [
              0.4444444444444444,
              "#bd3786"
             ],
             [
              0.5555555555555556,
              "#d8576b"
             ],
             [
              0.6666666666666666,
              "#ed7953"
             ],
             [
              0.7777777777777778,
              "#fb9f3a"
             ],
             [
              0.8888888888888888,
              "#fdca26"
             ],
             [
              1,
              "#f0f921"
             ]
            ],
            "type": "heatmap"
           }
          ],
          "heatmapgl": [
           {
            "colorbar": {
             "outlinewidth": 0,
             "ticks": ""
            },
            "colorscale": [
             [
              0,
              "#0d0887"
             ],
             [
              0.1111111111111111,
              "#46039f"
             ],
             [
              0.2222222222222222,
              "#7201a8"
             ],
             [
              0.3333333333333333,
              "#9c179e"
             ],
             [
              0.4444444444444444,
              "#bd3786"
             ],
             [
              0.5555555555555556,
              "#d8576b"
             ],
             [
              0.6666666666666666,
              "#ed7953"
             ],
             [
              0.7777777777777778,
              "#fb9f3a"
             ],
             [
              0.8888888888888888,
              "#fdca26"
             ],
             [
              1,
              "#f0f921"
             ]
            ],
            "type": "heatmapgl"
           }
          ],
          "histogram": [
           {
            "marker": {
             "pattern": {
              "fillmode": "overlay",
              "size": 10,
              "solidity": 0.2
             }
            },
            "type": "histogram"
           }
          ],
          "histogram2d": [
           {
            "colorbar": {
             "outlinewidth": 0,
             "ticks": ""
            },
            "colorscale": [
             [
              0,
              "#0d0887"
             ],
             [
              0.1111111111111111,
              "#46039f"
             ],
             [
              0.2222222222222222,
              "#7201a8"
             ],
             [
              0.3333333333333333,
              "#9c179e"
             ],
             [
              0.4444444444444444,
              "#bd3786"
             ],
             [
              0.5555555555555556,
              "#d8576b"
             ],
             [
              0.6666666666666666,
              "#ed7953"
             ],
             [
              0.7777777777777778,
              "#fb9f3a"
             ],
             [
              0.8888888888888888,
              "#fdca26"
             ],
             [
              1,
              "#f0f921"
             ]
            ],
            "type": "histogram2d"
           }
          ],
          "histogram2dcontour": [
           {
            "colorbar": {
             "outlinewidth": 0,
             "ticks": ""
            },
            "colorscale": [
             [
              0,
              "#0d0887"
             ],
             [
              0.1111111111111111,
              "#46039f"
             ],
             [
              0.2222222222222222,
              "#7201a8"
             ],
             [
              0.3333333333333333,
              "#9c179e"
             ],
             [
              0.4444444444444444,
              "#bd3786"
             ],
             [
              0.5555555555555556,
              "#d8576b"
             ],
             [
              0.6666666666666666,
              "#ed7953"
             ],
             [
              0.7777777777777778,
              "#fb9f3a"
             ],
             [
              0.8888888888888888,
              "#fdca26"
             ],
             [
              1,
              "#f0f921"
             ]
            ],
            "type": "histogram2dcontour"
           }
          ],
          "mesh3d": [
           {
            "colorbar": {
             "outlinewidth": 0,
             "ticks": ""
            },
            "type": "mesh3d"
           }
          ],
          "parcoords": [
           {
            "line": {
             "colorbar": {
              "outlinewidth": 0,
              "ticks": ""
             }
            },
            "type": "parcoords"
           }
          ],
          "pie": [
           {
            "automargin": true,
            "type": "pie"
           }
          ],
          "scatter": [
           {
            "fillpattern": {
             "fillmode": "overlay",
             "size": 10,
             "solidity": 0.2
            },
            "type": "scatter"
           }
          ],
          "scatter3d": [
           {
            "line": {
             "colorbar": {
              "outlinewidth": 0,
              "ticks": ""
             }
            },
            "marker": {
             "colorbar": {
              "outlinewidth": 0,
              "ticks": ""
             }
            },
            "type": "scatter3d"
           }
          ],
          "scattercarpet": [
           {
            "marker": {
             "colorbar": {
              "outlinewidth": 0,
              "ticks": ""
             }
            },
            "type": "scattercarpet"
           }
          ],
          "scattergeo": [
           {
            "marker": {
             "colorbar": {
              "outlinewidth": 0,
              "ticks": ""
             }
            },
            "type": "scattergeo"
           }
          ],
          "scattergl": [
           {
            "marker": {
             "colorbar": {
              "outlinewidth": 0,
              "ticks": ""
             }
            },
            "type": "scattergl"
           }
          ],
          "scattermapbox": [
           {
            "marker": {
             "colorbar": {
              "outlinewidth": 0,
              "ticks": ""
             }
            },
            "type": "scattermapbox"
           }
          ],
          "scatterpolar": [
           {
            "marker": {
             "colorbar": {
              "outlinewidth": 0,
              "ticks": ""
             }
            },
            "type": "scatterpolar"
           }
          ],
          "scatterpolargl": [
           {
            "marker": {
             "colorbar": {
              "outlinewidth": 0,
              "ticks": ""
             }
            },
            "type": "scatterpolargl"
           }
          ],
          "scatterternary": [
           {
            "marker": {
             "colorbar": {
              "outlinewidth": 0,
              "ticks": ""
             }
            },
            "type": "scatterternary"
           }
          ],
          "surface": [
           {
            "colorbar": {
             "outlinewidth": 0,
             "ticks": ""
            },
            "colorscale": [
             [
              0,
              "#0d0887"
             ],
             [
              0.1111111111111111,
              "#46039f"
             ],
             [
              0.2222222222222222,
              "#7201a8"
             ],
             [
              0.3333333333333333,
              "#9c179e"
             ],
             [
              0.4444444444444444,
              "#bd3786"
             ],
             [
              0.5555555555555556,
              "#d8576b"
             ],
             [
              0.6666666666666666,
              "#ed7953"
             ],
             [
              0.7777777777777778,
              "#fb9f3a"
             ],
             [
              0.8888888888888888,
              "#fdca26"
             ],
             [
              1,
              "#f0f921"
             ]
            ],
            "type": "surface"
           }
          ],
          "table": [
           {
            "cells": {
             "fill": {
              "color": "#EBF0F8"
             },
             "line": {
              "color": "white"
             }
            },
            "header": {
             "fill": {
              "color": "#C8D4E3"
             },
             "line": {
              "color": "white"
             }
            },
            "type": "table"
           }
          ]
         },
         "layout": {
          "annotationdefaults": {
           "arrowcolor": "#2a3f5f",
           "arrowhead": 0,
           "arrowwidth": 1
          },
          "autotypenumbers": "strict",
          "coloraxis": {
           "colorbar": {
            "outlinewidth": 0,
            "ticks": ""
           }
          },
          "colorscale": {
           "diverging": [
            [
             0,
             "#8e0152"
            ],
            [
             0.1,
             "#c51b7d"
            ],
            [
             0.2,
             "#de77ae"
            ],
            [
             0.3,
             "#f1b6da"
            ],
            [
             0.4,
             "#fde0ef"
            ],
            [
             0.5,
             "#f7f7f7"
            ],
            [
             0.6,
             "#e6f5d0"
            ],
            [
             0.7,
             "#b8e186"
            ],
            [
             0.8,
             "#7fbc41"
            ],
            [
             0.9,
             "#4d9221"
            ],
            [
             1,
             "#276419"
            ]
           ],
           "sequential": [
            [
             0,
             "#0d0887"
            ],
            [
             0.1111111111111111,
             "#46039f"
            ],
            [
             0.2222222222222222,
             "#7201a8"
            ],
            [
             0.3333333333333333,
             "#9c179e"
            ],
            [
             0.4444444444444444,
             "#bd3786"
            ],
            [
             0.5555555555555556,
             "#d8576b"
            ],
            [
             0.6666666666666666,
             "#ed7953"
            ],
            [
             0.7777777777777778,
             "#fb9f3a"
            ],
            [
             0.8888888888888888,
             "#fdca26"
            ],
            [
             1,
             "#f0f921"
            ]
           ],
           "sequentialminus": [
            [
             0,
             "#0d0887"
            ],
            [
             0.1111111111111111,
             "#46039f"
            ],
            [
             0.2222222222222222,
             "#7201a8"
            ],
            [
             0.3333333333333333,
             "#9c179e"
            ],
            [
             0.4444444444444444,
             "#bd3786"
            ],
            [
             0.5555555555555556,
             "#d8576b"
            ],
            [
             0.6666666666666666,
             "#ed7953"
            ],
            [
             0.7777777777777778,
             "#fb9f3a"
            ],
            [
             0.8888888888888888,
             "#fdca26"
            ],
            [
             1,
             "#f0f921"
            ]
           ]
          },
          "colorway": [
           "#636efa",
           "#EF553B",
           "#00cc96",
           "#ab63fa",
           "#FFA15A",
           "#19d3f3",
           "#FF6692",
           "#B6E880",
           "#FF97FF",
           "#FECB52"
          ],
          "font": {
           "color": "#2a3f5f"
          },
          "geo": {
           "bgcolor": "white",
           "lakecolor": "white",
           "landcolor": "#E5ECF6",
           "showlakes": true,
           "showland": true,
           "subunitcolor": "white"
          },
          "hoverlabel": {
           "align": "left"
          },
          "hovermode": "closest",
          "mapbox": {
           "style": "light"
          },
          "paper_bgcolor": "white",
          "plot_bgcolor": "#E5ECF6",
          "polar": {
           "angularaxis": {
            "gridcolor": "white",
            "linecolor": "white",
            "ticks": ""
           },
           "bgcolor": "#E5ECF6",
           "radialaxis": {
            "gridcolor": "white",
            "linecolor": "white",
            "ticks": ""
           }
          },
          "scene": {
           "xaxis": {
            "backgroundcolor": "#E5ECF6",
            "gridcolor": "white",
            "gridwidth": 2,
            "linecolor": "white",
            "showbackground": true,
            "ticks": "",
            "zerolinecolor": "white"
           },
           "yaxis": {
            "backgroundcolor": "#E5ECF6",
            "gridcolor": "white",
            "gridwidth": 2,
            "linecolor": "white",
            "showbackground": true,
            "ticks": "",
            "zerolinecolor": "white"
           },
           "zaxis": {
            "backgroundcolor": "#E5ECF6",
            "gridcolor": "white",
            "gridwidth": 2,
            "linecolor": "white",
            "showbackground": true,
            "ticks": "",
            "zerolinecolor": "white"
           }
          },
          "shapedefaults": {
           "line": {
            "color": "#2a3f5f"
           }
          },
          "ternary": {
           "aaxis": {
            "gridcolor": "white",
            "linecolor": "white",
            "ticks": ""
           },
           "baxis": {
            "gridcolor": "white",
            "linecolor": "white",
            "ticks": ""
           },
           "bgcolor": "#E5ECF6",
           "caxis": {
            "gridcolor": "white",
            "linecolor": "white",
            "ticks": ""
           }
          },
          "title": {
           "x": 0.05
          },
          "xaxis": {
           "automargin": true,
           "gridcolor": "white",
           "linecolor": "white",
           "ticks": "",
           "title": {
            "standoff": 15
           },
           "zerolinecolor": "white",
           "zerolinewidth": 2
          },
          "yaxis": {
           "automargin": true,
           "gridcolor": "white",
           "linecolor": "white",
           "ticks": "",
           "title": {
            "standoff": 15
           },
           "zerolinecolor": "white",
           "zerolinewidth": 2
          }
         }
        },
        "title": {
         "text": "2D Cluster PCA Plot"
        },
        "xaxis": {
         "anchor": "y",
         "domain": [
          0,
          1
         ],
         "title": {
          "text": "PCA1"
         }
        },
        "yaxis": {
         "anchor": "x",
         "domain": [
          0,
          1
         ],
         "title": {
          "text": "PCA2"
         }
        }
       }
      }
     },
     "metadata": {},
     "output_type": "display_data"
    }
   ],
   "source": [
    "exp.plot_model(kmeans, plot='cluster')"
   ]
  },
  {
   "cell_type": "code",
   "execution_count": 18,
   "metadata": {},
   "outputs": [
    {
     "data": {
      "text/html": [],
      "text/plain": [
       "<IPython.core.display.HTML object>"
      ]
     },
     "metadata": {},
     "output_type": "display_data"
    },
    {
     "data": {
      "image/png": "[encoded data removed]",
      "text/plain": [
       "<Figure size 800x550 with 1 Axes>"
      ]
     },
     "metadata": {},
     "output_type": "display_data"
    }
   ],
   "source": [
    "exp.plot_model(kmeans, plot='elbow')"
   ]
  },
  {
   "cell_type": "markdown",
   "metadata": {},
   "source": [
    "The score referred to here is the \"distortion score,\" which is a measure of the sum of the squared distances between each observation and the centroid of its assigned cluster. In other words, it's a measure of how far away the data points are from the centroids of their clusters.\n",
    "\n",
    "The Elbow Method involves plotting the number of clusters on the x-axis (k) against the distortion score on the y-axis. As the number of clusters increases, the distortion score will typically decrease because the clusters are smaller and the centroids are closer to the observations.\n",
    "\n",
    "The \"elbow\" of the plot is the point where the rate of decrease sharply changes, indicating that additional clusters beyond this point do not contribute significantly to the improvement of the fit. This point is a good balance between the number of clusters and the sum of the distances within the clusters, providing a reasonable partitioning of the data.\n",
    "\n",
    "In this plot, the \"elbow\" appears to be at k=4 with a score of approximately 205.225. This suggests that increasing the number of clusters beyond four will not result in significant gains in terms of reducing the distortion score, and thus k=4 is likely a good choice for the number of clusters to use for your K-Means model."
   ]
  },
  {
   "cell_type": "code",
   "execution_count": 19,
   "metadata": {},
   "outputs": [
    {
     "data": {
      "text/html": [],
      "text/plain": [
       "<IPython.core.display.HTML object>"
      ]
     },
     "metadata": {},
     "output_type": "display_data"
    },
    {
     "data": {
      "image/png": "[encoded data removed]",
      "text/plain": [
       "<Figure size 800x550 with 1 Axes>"
      ]
     },
     "metadata": {},
     "output_type": "display_data"
    }
   ],
   "source": [
    "exp.plot_model(kmeans, plot='silhouette')"
   ]
  },
  {
   "cell_type": "code",
   "execution_count": 20,
   "metadata": {},
   "outputs": [
    {
     "data": {
      "text/html": [],
      "text/plain": [
       "<IPython.core.display.HTML object>"
      ]
     },
     "metadata": {},
     "output_type": "display_data"
    },
    {
     "data": {
      "application/vnd.plotly.v1+json": {
       "config": {
        "plotlyServerURL": "https://plot.ly"
       },
       "data": [
        {
         "alignmentgroup": "True",
         "bingroup": "x",
         "hovertemplate": "Cluster=%{x}<br>count=%{y}<extra></extra>",
         "legendgroup": "Cluster 0",
         "marker": {
          "color": "#636efa",
          "opacity": 0.7,
          "pattern": {
           "shape": ""
          }
         },
         "name": "Cluster 0",
         "offsetgroup": "Cluster 0",
         "orientation": "v",
         "showlegend": true,
         "type": "histogram",
         "x": [
          "Cluster 0",
          "Cluster 0",
          "Cluster 0",
          "Cluster 0",
          "Cluster 0",
          "Cluster 0",
          "Cluster 0",
          "Cluster 0",
          "Cluster 0",
          "Cluster 0",
          "Cluster 0",
          "Cluster 0",
          "Cluster 0",
          "Cluster 0",
          "Cluster 0",
          "Cluster 0",
          "Cluster 0",
          "Cluster 0",
          "Cluster 0",
          "Cluster 0",
          "Cluster 0",
          "Cluster 0",
          "Cluster 0",
          "Cluster 0",
          "Cluster 0",
          "Cluster 0",
          "Cluster 0",
          "Cluster 0",
          "Cluster 0",
          "Cluster 0",
          "Cluster 0",
          "Cluster 0",
          "Cluster 0",
          "Cluster 0",
          "Cluster 0",
          "Cluster 0",
          "Cluster 0",
          "Cluster 0",
          "Cluster 0",
          "Cluster 0",
          "Cluster 0",
          "Cluster 0",
          "Cluster 0",
          "Cluster 0",
          "Cluster 0"
         ],
         "xaxis": "x",
         "yaxis": "y"
        },
        {
         "alignmentgroup": "True",
         "customdata": [
          [
           50,
           67,
           57
          ],
          [
           70,
           46,
           56
          ],
          [
           53,
           46,
           46
          ],
          [
           67,
           62,
           59
          ],
          [
           69,
           44,
           46
          ],
          [
           51,
           44,
           50
          ],
          [
           47,
           43,
           41
          ],
          [
           50,
           43,
           45
          ],
          [
           59,
           43,
           60
          ],
          [
           49,
           62,
           56
          ],
          [
           66,
           63,
           50
          ],
          [
           49,
           42,
           52
          ],
          [
           54,
           63,
           46
          ],
          [
           68,
           63,
           43
          ],
          [
           66,
           63,
           48
          ],
          [
           50,
           40,
           55
          ],
          [
           65,
           63,
           52
          ],
          [
           63,
           65,
           43
          ],
          [
           49,
           62,
           48
          ],
          [
           49,
           65,
           59
          ],
          [
           67,
           47,
           52
          ],
          [
           63,
           48,
           51
          ],
          [
           48,
           54,
           46
          ],
          [
           57,
           54,
           51
          ],
          [
           49,
           54,
           42
          ],
          [
           55,
           57,
           58
          ],
          [
           50,
           58,
           46
          ],
          [
           45,
           54,
           53
          ],
          [
           68,
           59,
           55
          ],
          [
           59,
           54,
           47
          ],
          [
           60,
           50,
           56
          ],
          [
           60,
           50,
           49
          ],
          [
           47,
           49,
           42
          ],
          [
           70,
           49,
           55
          ],
          [
           48,
           60,
           49
          ],
          [
           47,
           60,
           47
          ],
          [
           68,
           48,
           48
          ],
          [
           43,
           48,
           50
          ],
          [
           48,
           61,
           42
          ],
          [
           54,
           47,
           59
          ],
          [
           51,
           67,
           43
          ],
          [
           46,
           54,
           44
          ],
          [
           65,
           38,
           35
          ],
          [
           67,
           54,
           41
          ],
          [
           56,
           79,
           35
          ]
         ],
         "hovertemplate": "Cluster=%{x}<br>Age=%{customdata[0]}<br>Annual Income (k$)=%{customdata[1]}<br>Spending Score (1-100)=%{customdata[2]}<extra></extra>",
         "legendgroup": "Cluster 0",
         "marker": {
          "color": "#636efa"
         },
         "name": "Cluster 0",
         "notched": true,
         "offsetgroup": "Cluster 0",
         "showlegend": false,
         "type": "box",
         "x": [
          "Cluster 0",
          "Cluster 0",
          "Cluster 0",
          "Cluster 0",
          "Cluster 0",
          "Cluster 0",
          "Cluster 0",
          "Cluster 0",
          "Cluster 0",
          "Cluster 0",
          "Cluster 0",
          "Cluster 0",
          "Cluster 0",
          "Cluster 0",
          "Cluster 0",
          "Cluster 0",
          "Cluster 0",
          "Cluster 0",
          "Cluster 0",
          "Cluster 0",
          "Cluster 0",
          "Cluster 0",
          "Cluster 0",
          "Cluster 0",
          "Cluster 0",
          "Cluster 0",
          "Cluster 0",
          "Cluster 0",
          "Cluster 0",
          "Cluster 0",
          "Cluster 0",
          "Cluster 0",
          "Cluster 0",
          "Cluster 0",
          "Cluster 0",
          "Cluster 0",
          "Cluster 0",
          "Cluster 0",
          "Cluster 0",
          "Cluster 0",
          "Cluster 0",
          "Cluster 0",
          "Cluster 0",
          "Cluster 0",
          "Cluster 0"
         ],
         "xaxis": "x2",
         "yaxis": "y2"
        },
        {
         "alignmentgroup": "True",
         "bingroup": "x",
         "hovertemplate": "Cluster=%{x}<br>count=%{y}<extra></extra>",
         "legendgroup": "Cluster 1",
         "marker": {
          "color": "#EF553B",
          "opacity": 0.7,
          "pattern": {
           "shape": ""
          }
         },
         "name": "Cluster 1",
         "offsetgroup": "Cluster 1",
         "orientation": "v",
         "showlegend": true,
         "type": "histogram",
         "x": [
          "Cluster 1",
          "Cluster 1",
          "Cluster 1",
          "Cluster 1",
          "Cluster 1",
          "Cluster 1",
          "Cluster 1",
          "Cluster 1",
          "Cluster 1",
          "Cluster 1",
          "Cluster 1",
          "Cluster 1",
          "Cluster 1",
          "Cluster 1",
          "Cluster 1",
          "Cluster 1",
          "Cluster 1",
          "Cluster 1",
          "Cluster 1",
          "Cluster 1",
          "Cluster 1",
          "Cluster 1",
          "Cluster 1",
          "Cluster 1",
          "Cluster 1",
          "Cluster 1",
          "Cluster 1",
          "Cluster 1",
          "Cluster 1",
          "Cluster 1",
          "Cluster 1",
          "Cluster 1",
          "Cluster 1",
          "Cluster 1",
          "Cluster 1",
          "Cluster 1",
          "Cluster 1",
          "Cluster 1",
          "Cluster 1"
         ],
         "xaxis": "x",
         "yaxis": "y"
        },
        {
         "alignmentgroup": "True",
         "customdata": [
          [
           40,
           71,
           95
          ],
          [
           33,
           86,
           95
          ],
          [
           32,
           87,
           63
          ],
          [
           28,
           87,
           75
          ],
          [
           36,
           87,
           92
          ],
          [
           30,
           88,
           86
          ],
          [
           27,
           88,
           69
          ],
          [
           35,
           93,
           90
          ],
          [
           36,
           85,
           75
          ],
          [
           32,
           97,
           86
          ],
          [
           30,
           99,
           97
          ],
          [
           28,
           101,
           68
          ],
          [
           36,
           103,
           85
          ],
          [
           32,
           103,
           69
          ],
          [
           38,
           113,
           91
          ],
          [
           35,
           120,
           79
          ],
          [
           32,
           126,
           74
          ],
          [
           29,
           98,
           88
          ],
          [
           31,
           70,
           77
          ],
          [
           31,
           81,
           93
          ],
          [
           39,
           69,
           91
          ],
          [
           38,
           71,
           75
          ],
          [
           39,
           71,
           75
          ],
          [
           31,
           72,
           71
          ],
          [
           29,
           73,
           88
          ],
          [
           32,
           73,
           73
          ],
          [
           35,
           74,
           72
          ],
          [
           32,
           75,
           93
          ],
          [
           29,
           79,
           83
          ],
          [
           32,
           76,
           87
          ],
          [
           32,
           77,
           74
          ],
          [
           34,
           78,
           90
          ],
          [
           39,
           78,
           88
          ],
          [
           38,
           78,
           76
          ],
          [
           27,
           78,
           89
          ],
          [
           30,
           78,
           78
          ],
          [
           30,
           78,
           73
          ],
          [
           28,
           77,
           97
          ],
          [
           30,
           137,
           83
          ]
         ],
         "hovertemplate": "Cluster=%{x}<br>Age=%{customdata[0]}<br>Annual Income (k$)=%{customdata[1]}<br>Spending Score (1-100)=%{customdata[2]}<extra></extra>",
         "legendgroup": "Cluster 1",
         "marker": {
          "color": "#EF553B"
         },
         "name": "Cluster 1",
         "notched": true,
         "offsetgroup": "Cluster 1",
         "showlegend": false,
         "type": "box",
         "x": [
          "Cluster 1",
          "Cluster 1",
          "Cluster 1",
          "Cluster 1",
          "Cluster 1",
          "Cluster 1",
          "Cluster 1",
          "Cluster 1",
          "Cluster 1",
          "Cluster 1",
          "Cluster 1",
          "Cluster 1",
          "Cluster 1",
          "Cluster 1",
          "Cluster 1",
          "Cluster 1",
          "Cluster 1",
          "Cluster 1",
          "Cluster 1",
          "Cluster 1",
          "Cluster 1",
          "Cluster 1",
          "Cluster 1",
          "Cluster 1",
          "Cluster 1",
          "Cluster 1",
          "Cluster 1",
          "Cluster 1",
          "Cluster 1",
          "Cluster 1",
          "Cluster 1",
          "Cluster 1",
          "Cluster 1",
          "Cluster 1",
          "Cluster 1",
          "Cluster 1",
          "Cluster 1",
          "Cluster 1",
          "Cluster 1"
         ],
         "xaxis": "x2",
         "yaxis": "y2"
        },
        {
         "alignmentgroup": "True",
         "bingroup": "x",
         "hovertemplate": "Cluster=%{x}<br>count=%{y}<extra></extra>",
         "legendgroup": "Cluster 2",
         "marker": {
          "color": "#00cc96",
          "opacity": 0.7,
          "pattern": {
           "shape": ""
          }
         },
         "name": "Cluster 2",
         "offsetgroup": "Cluster 2",
         "orientation": "v",
         "showlegend": true,
         "type": "histogram",
         "x": [
          "Cluster 2",
          "Cluster 2",
          "Cluster 2",
          "Cluster 2",
          "Cluster 2",
          "Cluster 2",
          "Cluster 2",
          "Cluster 2",
          "Cluster 2",
          "Cluster 2",
          "Cluster 2",
          "Cluster 2",
          "Cluster 2",
          "Cluster 2",
          "Cluster 2",
          "Cluster 2",
          "Cluster 2",
          "Cluster 2",
          "Cluster 2",
          "Cluster 2",
          "Cluster 2",
          "Cluster 2",
          "Cluster 2"
         ],
         "xaxis": "x",
         "yaxis": "y"
        },
        {
         "alignmentgroup": "True",
         "customdata": [
          [
           19,
           15,
           39
          ],
          [
           35,
           28,
           61
          ],
          [
           30,
           34,
           73
          ],
          [
           21,
           33,
           81
          ],
          [
           18,
           33,
           92
          ],
          [
           21,
           30,
           73
          ],
          [
           23,
           29,
           87
          ],
          [
           24,
           38,
           92
          ],
          [
           29,
           28,
           82
          ],
          [
           31,
           25,
           73
          ],
          [
           24,
           39,
           65
          ],
          [
           25,
           24,
           73
          ],
          [
           20,
           21,
           66
          ],
          [
           22,
           20,
           79
          ],
          [
           24,
           20,
           77
          ],
          [
           35,
           19,
           99
          ],
          [
           30,
           19,
           72
          ],
          [
           23,
           18,
           94
          ],
          [
           22,
           17,
           76
          ],
          [
           23,
           16,
           77
          ],
          [
           21,
           15,
           81
          ],
          [
           35,
           23,
           98
          ],
          [
           20,
           37,
           75
          ]
         ],
         "hovertemplate": "Cluster=%{x}<br>Age=%{customdata[0]}<br>Annual Income (k$)=%{customdata[1]}<br>Spending Score (1-100)=%{customdata[2]}<extra></extra>",
         "legendgroup": "Cluster 2",
         "marker": {
          "color": "#00cc96"
         },
         "name": "Cluster 2",
         "notched": true,
         "offsetgroup": "Cluster 2",
         "showlegend": false,
         "type": "box",
         "x": [
          "Cluster 2",
          "Cluster 2",
          "Cluster 2",
          "Cluster 2",
          "Cluster 2",
          "Cluster 2",
          "Cluster 2",
          "Cluster 2",
          "Cluster 2",
          "Cluster 2",
          "Cluster 2",
          "Cluster 2",
          "Cluster 2",
          "Cluster 2",
          "Cluster 2",
          "Cluster 2",
          "Cluster 2",
          "Cluster 2",
          "Cluster 2",
          "Cluster 2",
          "Cluster 2",
          "Cluster 2",
          "Cluster 2"
         ],
         "xaxis": "x2",
         "yaxis": "y2"
        },
        {
         "alignmentgroup": "True",
         "bingroup": "x",
         "hovertemplate": "Cluster=%{x}<br>count=%{y}<extra></extra>",
         "legendgroup": "Cluster 3",
         "marker": {
          "color": "#ab63fa",
          "opacity": 0.7,
          "pattern": {
           "shape": ""
          }
         },
         "name": "Cluster 3",
         "offsetgroup": "Cluster 3",
         "orientation": "v",
         "showlegend": true,
         "type": "histogram",
         "x": [
          "Cluster 3",
          "Cluster 3",
          "Cluster 3",
          "Cluster 3",
          "Cluster 3",
          "Cluster 3",
          "Cluster 3",
          "Cluster 3",
          "Cluster 3",
          "Cluster 3",
          "Cluster 3",
          "Cluster 3",
          "Cluster 3",
          "Cluster 3",
          "Cluster 3",
          "Cluster 3",
          "Cluster 3",
          "Cluster 3",
          "Cluster 3",
          "Cluster 3",
          "Cluster 3",
          "Cluster 3",
          "Cluster 3",
          "Cluster 3",
          "Cluster 3",
          "Cluster 3",
          "Cluster 3",
          "Cluster 3",
          "Cluster 3",
          "Cluster 3",
          "Cluster 3",
          "Cluster 3",
          "Cluster 3",
          "Cluster 3",
          "Cluster 3",
          "Cluster 3",
          "Cluster 3",
          "Cluster 3"
         ],
         "xaxis": "x",
         "yaxis": "y"
        },
        {
         "alignmentgroup": "True",
         "customdata": [
          [
           27,
           67,
           56
          ],
          [
           38,
           67,
           40
          ],
          [
           38,
           54,
           55
          ],
          [
           23,
           70,
           29
          ],
          [
           25,
           72,
           34
          ],
          [
           21,
           54,
           57
          ],
          [
           40,
           69,
           58
          ],
          [
           31,
           39,
           61
          ],
          [
           28,
           76,
           40
          ],
          [
           20,
           61,
           49
          ],
          [
           27,
           60,
           50
          ],
          [
           34,
           58,
           60
          ],
          [
           24,
           60,
           52
          ],
          [
           18,
           48,
           59
          ],
          [
           26,
           54,
           54
          ],
          [
           32,
           60,
           42
          ],
          [
           23,
           62,
           41
          ],
          [
           19,
           46,
           55
          ],
          [
           40,
           60,
           40
          ],
          [
           27,
           46,
           51
          ],
          [
           40,
           54,
           48
          ],
          [
           22,
           57,
           55
          ],
          [
           19,
           48,
           59
          ],
          [
           26,
           62,
           55
          ],
          [
           32,
           48,
           47
          ],
          [
           19,
           65,
           50
          ],
          [
           21,
           62,
           42
          ],
          [
           18,
           65,
           48
          ],
          [
           18,
           59,
           41
          ],
          [
           33,
           42,
           60
          ],
          [
           23,
           54,
           52
          ],
          [
           19,
           64,
           46
          ],
          [
           38,
           64,
           42
          ],
          [
           31,
           40,
           42
          ],
          [
           29,
           40,
           42
          ],
          [
           31,
           43,
           54
          ],
          [
           19,
           63,
           54
          ],
          [
           27,
           40,
           47
          ]
         ],
         "hovertemplate": "Cluster=%{x}<br>Age=%{customdata[0]}<br>Annual Income (k$)=%{customdata[1]}<br>Spending Score (1-100)=%{customdata[2]}<extra></extra>",
         "legendgroup": "Cluster 3",
         "marker": {
          "color": "#ab63fa"
         },
         "name": "Cluster 3",
         "notched": true,
         "offsetgroup": "Cluster 3",
         "showlegend": false,
         "type": "box",
         "x": [
          "Cluster 3",
          "Cluster 3",
          "Cluster 3",
          "Cluster 3",
          "Cluster 3",
          "Cluster 3",
          "Cluster 3",
          "Cluster 3",
          "Cluster 3",
          "Cluster 3",
          "Cluster 3",
          "Cluster 3",
          "Cluster 3",
          "Cluster 3",
          "Cluster 3",
          "Cluster 3",
          "Cluster 3",
          "Cluster 3",
          "Cluster 3",
          "Cluster 3",
          "Cluster 3",
          "Cluster 3",
          "Cluster 3",
          "Cluster 3",
          "Cluster 3",
          "Cluster 3",
          "Cluster 3",
          "Cluster 3",
          "Cluster 3",
          "Cluster 3",
          "Cluster 3",
          "Cluster 3",
          "Cluster 3",
          "Cluster 3",
          "Cluster 3",
          "Cluster 3",
          "Cluster 3",
          "Cluster 3"
         ],
         "xaxis": "x2",
         "yaxis": "y2"
        },
        {
         "alignmentgroup": "True",
         "bingroup": "x",
         "hovertemplate": "Cluster=%{x}<br>count=%{y}<extra></extra>",
         "legendgroup": "Cluster 4",
         "marker": {
          "color": "#FFA15A",
          "opacity": 0.7,
          "pattern": {
           "shape": ""
          }
         },
         "name": "Cluster 4",
         "offsetgroup": "Cluster 4",
         "orientation": "v",
         "showlegend": true,
         "type": "histogram",
         "x": [
          "Cluster 4",
          "Cluster 4",
          "Cluster 4",
          "Cluster 4",
          "Cluster 4",
          "Cluster 4",
          "Cluster 4",
          "Cluster 4",
          "Cluster 4",
          "Cluster 4",
          "Cluster 4",
          "Cluster 4",
          "Cluster 4",
          "Cluster 4",
          "Cluster 4",
          "Cluster 4",
          "Cluster 4",
          "Cluster 4",
          "Cluster 4",
          "Cluster 4",
          "Cluster 4",
          "Cluster 4",
          "Cluster 4",
          "Cluster 4",
          "Cluster 4",
          "Cluster 4",
          "Cluster 4",
          "Cluster 4",
          "Cluster 4",
          "Cluster 4",
          "Cluster 4",
          "Cluster 4",
          "Cluster 4",
          "Cluster 4"
         ],
         "xaxis": "x",
         "yaxis": "y"
        },
        {
         "alignmentgroup": "True",
         "customdata": [
          [
           52,
           88,
           13
          ],
          [
           41,
           103,
           17
          ],
          [
           19,
           81,
           5
          ],
          [
           54,
           101,
           24
          ],
          [
           42,
           86,
           20
          ],
          [
           36,
           87,
           27
          ],
          [
           37,
           97,
           32
          ],
          [
           40,
           87,
           13
          ],
          [
           59,
           93,
           14
          ],
          [
           58,
           88,
           15
          ],
          [
           41,
           99,
           39
          ],
          [
           50,
           85,
           26
          ],
          [
           36,
           87,
           10
          ],
          [
           34,
           103,
           23
          ],
          [
           37,
           78,
           1
          ],
          [
           45,
           126,
           28
          ],
          [
           43,
           71,
           35
          ],
          [
           59,
           71,
           11
          ],
          [
           47,
           71,
           9
          ],
          [
           47,
           120,
           16
          ],
          [
           20,
           73,
           5
          ],
          [
           44,
           73,
           7
          ],
          [
           19,
           74,
           10
          ],
          [
           34,
           78,
           1
          ],
          [
           57,
           75,
           5
          ],
          [
           25,
           77,
           12
          ],
          [
           48,
           77,
           36
          ],
          [
           32,
           137,
           18
          ],
          [
           34,
           78,
           22
          ],
          [
           43,
           78,
           17
          ],
          [
           44,
           78,
           20
          ],
          [
           47,
           78,
           16
          ],
          [
           33,
           113,
           8
          ],
          [
           46,
           98,
           15
          ]
         ],
         "hovertemplate": "Cluster=%{x}<br>Age=%{customdata[0]}<br>Annual Income (k$)=%{customdata[1]}<br>Spending Score (1-100)=%{customdata[2]}<extra></extra>",
         "legendgroup": "Cluster 4",
         "marker": {
          "color": "#FFA15A"
         },
         "name": "Cluster 4",
         "notched": true,
         "offsetgroup": "Cluster 4",
         "showlegend": false,
         "type": "box",
         "x": [
          "Cluster 4",
          "Cluster 4",
          "Cluster 4",
          "Cluster 4",
          "Cluster 4",
          "Cluster 4",
          "Cluster 4",
          "Cluster 4",
          "Cluster 4",
          "Cluster 4",
          "Cluster 4",
          "Cluster 4",
          "Cluster 4",
          "Cluster 4",
          "Cluster 4",
          "Cluster 4",
          "Cluster 4",
          "Cluster 4",
          "Cluster 4",
          "Cluster 4",
          "Cluster 4",
          "Cluster 4",
          "Cluster 4",
          "Cluster 4",
          "Cluster 4",
          "Cluster 4",
          "Cluster 4",
          "Cluster 4",
          "Cluster 4",
          "Cluster 4",
          "Cluster 4",
          "Cluster 4",
          "Cluster 4",
          "Cluster 4"
         ],
         "xaxis": "x2",
         "yaxis": "y2"
        },
        {
         "alignmentgroup": "True",
         "bingroup": "x",
         "hovertemplate": "Cluster=%{x}<br>count=%{y}<extra></extra>",
         "legendgroup": "Cluster 5",
         "marker": {
          "color": "#19d3f3",
          "opacity": 0.7,
          "pattern": {
           "shape": ""
          }
         },
         "name": "Cluster 5",
         "offsetgroup": "Cluster 5",
         "orientation": "v",
         "showlegend": true,
         "type": "histogram",
         "x": [
          "Cluster 5",
          "Cluster 5",
          "Cluster 5",
          "Cluster 5",
          "Cluster 5",
          "Cluster 5",
          "Cluster 5",
          "Cluster 5",
          "Cluster 5",
          "Cluster 5",
          "Cluster 5",
          "Cluster 5",
          "Cluster 5",
          "Cluster 5",
          "Cluster 5",
          "Cluster 5",
          "Cluster 5",
          "Cluster 5",
          "Cluster 5",
          "Cluster 5",
          "Cluster 5"
         ],
         "xaxis": "x",
         "yaxis": "y"
        },
        {
         "alignmentgroup": "True",
         "customdata": [
          [
           31,
           17,
           40
          ],
          [
           35,
           18,
           6
          ],
          [
           20,
           16,
           6
          ],
          [
           64,
           19,
           3
          ],
          [
           49,
           39,
           28
          ],
          [
           58,
           20,
           15
          ],
          [
           37,
           20,
           13
          ],
          [
           35,
           21,
           35
          ],
          [
           52,
           23,
           29
          ],
          [
           35,
           24,
           35
          ],
          [
           54,
           28,
           14
          ],
          [
           45,
           28,
           32
          ],
          [
           40,
           29,
           31
          ],
          [
           60,
           30,
           4
          ],
          [
           53,
           33,
           4
          ],
          [
           49,
           33,
           14
          ],
          [
           42,
           34,
           17
          ],
          [
           36,
           37,
           26
          ],
          [
           48,
           39,
           36
          ],
          [
           67,
           19,
           14
          ],
          [
           46,
           25,
           5
          ]
         ],
         "hovertemplate": "Cluster=%{x}<br>Age=%{customdata[0]}<br>Annual Income (k$)=%{customdata[1]}<br>Spending Score (1-100)=%{customdata[2]}<extra></extra>",
         "legendgroup": "Cluster 5",
         "marker": {
          "color": "#19d3f3"
         },
         "name": "Cluster 5",
         "notched": true,
         "offsetgroup": "Cluster 5",
         "showlegend": false,
         "type": "box",
         "x": [
          "Cluster 5",
          "Cluster 5",
          "Cluster 5",
          "Cluster 5",
          "Cluster 5",
          "Cluster 5",
          "Cluster 5",
          "Cluster 5",
          "Cluster 5",
          "Cluster 5",
          "Cluster 5",
          "Cluster 5",
          "Cluster 5",
          "Cluster 5",
          "Cluster 5",
          "Cluster 5",
          "Cluster 5",
          "Cluster 5",
          "Cluster 5",
          "Cluster 5",
          "Cluster 5"
         ],
         "xaxis": "x2",
         "yaxis": "y2"
        }
       ],
       "layout": {
        "barmode": "relative",
        "height": 600,
        "legend": {
         "title": {
          "text": "Cluster"
         },
         "tracegroupgap": 0
        },
        "margin": {
         "t": 60
        },
        "template": {
         "data": {
          "bar": [
           {
            "error_x": {
             "color": "#2a3f5f"
            },
            "error_y": {
             "color": "#2a3f5f"
            },
            "marker": {
             "line": {
              "color": "#E5ECF6",
              "width": 0.5
             },
             "pattern": {
              "fillmode": "overlay",
              "size": 10,
              "solidity": 0.2
             }
            },
            "type": "bar"
           }
          ],
          "barpolar": [
           {
            "marker": {
             "line": {
              "color": "#E5ECF6",
              "width": 0.5
             },
             "pattern": {
              "fillmode": "overlay",
              "size": 10,
              "solidity": 0.2
             }
            },
            "type": "barpolar"
           }
          ],
          "carpet": [
           {
            "aaxis": {
             "endlinecolor": "#2a3f5f",
             "gridcolor": "white",
             "linecolor": "white",
             "minorgridcolor": "white",
             "startlinecolor": "#2a3f5f"
            },
            "baxis": {
             "endlinecolor": "#2a3f5f",
             "gridcolor": "white",
             "linecolor": "white",
             "minorgridcolor": "white",
             "startlinecolor": "#2a3f5f"
            },
            "type": "carpet"
           }
          ],
          "choropleth": [
           {
            "colorbar": {
             "outlinewidth": 0,
             "ticks": ""
            },
            "type": "choropleth"
           }
          ],
          "contour": [
           {
            "colorbar": {
             "outlinewidth": 0,
             "ticks": ""
            },
            "colorscale": [
             [
              0,
              "#0d0887"
             ],
             [
              0.1111111111111111,
              "#46039f"
             ],
             [
              0.2222222222222222,
              "#7201a8"
             ],
             [
              0.3333333333333333,
              "#9c179e"
             ],
             [
              0.4444444444444444,
              "#bd3786"
             ],
             [
              0.5555555555555556,
              "#d8576b"
             ],
             [
              0.6666666666666666,
              "#ed7953"
             ],
             [
              0.7777777777777778,
              "#fb9f3a"
             ],
             [
              0.8888888888888888,
              "#fdca26"
             ],
             [
              1,
              "#f0f921"
             ]
            ],
            "type": "contour"
           }
          ],
          "contourcarpet": [
           {
            "colorbar": {
             "outlinewidth": 0,
             "ticks": ""
            },
            "type": "contourcarpet"
           }
          ],
          "heatmap": [
           {
            "colorbar": {
             "outlinewidth": 0,
             "ticks": ""
            },
            "colorscale": [
             [
              0,
              "#0d0887"
             ],
             [
              0.1111111111111111,
              "#46039f"
             ],
             [
              0.2222222222222222,
              "#7201a8"
             ],
             [
              0.3333333333333333,
              "#9c179e"
             ],
             [
              0.4444444444444444,
              "#bd3786"
             ],
             [
              0.5555555555555556,
              "#d8576b"
             ],
             [
              0.6666666666666666,
              "#ed7953"
             ],
             [
              0.7777777777777778,
              "#fb9f3a"
             ],
             [
              0.8888888888888888,
              "#fdca26"
             ],
             [
              1,
              "#f0f921"
             ]
            ],
            "type": "heatmap"
           }
          ],
          "heatmapgl": [
           {
            "colorbar": {
             "outlinewidth": 0,
             "ticks": ""
            },
            "colorscale": [
             [
              0,
              "#0d0887"
             ],
             [
              0.1111111111111111,
              "#46039f"
             ],
             [
              0.2222222222222222,
              "#7201a8"
             ],
             [
              0.3333333333333333,
              "#9c179e"
             ],
             [
              0.4444444444444444,
              "#bd3786"
             ],
             [
              0.5555555555555556,
              "#d8576b"
             ],
             [
              0.6666666666666666,
              "#ed7953"
             ],
             [
              0.7777777777777778,
              "#fb9f3a"
             ],
             [
              0.8888888888888888,
              "#fdca26"
             ],
             [
              1,
              "#f0f921"
             ]
            ],
            "type": "heatmapgl"
           }
          ],
          "histogram": [
           {
            "marker": {
             "pattern": {
              "fillmode": "overlay",
              "size": 10,
              "solidity": 0.2
             }
            },
            "type": "histogram"
           }
          ],
          "histogram2d": [
           {
            "colorbar": {
             "outlinewidth": 0,
             "ticks": ""
            },
            "colorscale": [
             [
              0,
              "#0d0887"
             ],
             [
              0.1111111111111111,
              "#46039f"
             ],
             [
              0.2222222222222222,
              "#7201a8"
             ],
             [
              0.3333333333333333,
              "#9c179e"
             ],
             [
              0.4444444444444444,
              "#bd3786"
             ],
             [
              0.5555555555555556,
              "#d8576b"
             ],
             [
              0.6666666666666666,
              "#ed7953"
             ],
             [
              0.7777777777777778,
              "#fb9f3a"
             ],
             [
              0.8888888888888888,
              "#fdca26"
             ],
             [
              1,
              "#f0f921"
             ]
            ],
            "type": "histogram2d"
           }
          ],
          "histogram2dcontour": [
           {
            "colorbar": {
             "outlinewidth": 0,
             "ticks": ""
            },
            "colorscale": [
             [
              0,
              "#0d0887"
             ],
             [
              0.1111111111111111,
              "#46039f"
             ],
             [
              0.2222222222222222,
              "#7201a8"
             ],
             [
              0.3333333333333333,
              "#9c179e"
             ],
             [
              0.4444444444444444,
              "#bd3786"
             ],
             [
              0.5555555555555556,
              "#d8576b"
             ],
             [
              0.6666666666666666,
              "#ed7953"
             ],
             [
              0.7777777777777778,
              "#fb9f3a"
             ],
             [
              0.8888888888888888,
              "#fdca26"
             ],
             [
              1,
              "#f0f921"
             ]
            ],
            "type": "histogram2dcontour"
           }
          ],
          "mesh3d": [
           {
            "colorbar": {
             "outlinewidth": 0,
             "ticks": ""
            },
            "type": "mesh3d"
           }
          ],
          "parcoords": [
           {
            "line": {
             "colorbar": {
              "outlinewidth": 0,
              "ticks": ""
             }
            },
            "type": "parcoords"
           }
          ],
          "pie": [
           {
            "automargin": true,
            "type": "pie"
           }
          ],
          "scatter": [
           {
            "fillpattern": {
             "fillmode": "overlay",
             "size": 10,
             "solidity": 0.2
            },
            "type": "scatter"
           }
          ],
          "scatter3d": [
           {
            "line": {
             "colorbar": {
              "outlinewidth": 0,
              "ticks": ""
             }
            },
            "marker": {
             "colorbar": {
              "outlinewidth": 0,
              "ticks": ""
             }
            },
            "type": "scatter3d"
           }
          ],
          "scattercarpet": [
           {
            "marker": {
             "colorbar": {
              "outlinewidth": 0,
              "ticks": ""
             }
            },
            "type": "scattercarpet"
           }
          ],
          "scattergeo": [
           {
            "marker": {
             "colorbar": {
              "outlinewidth": 0,
              "ticks": ""
             }
            },
            "type": "scattergeo"
           }
          ],
          "scattergl": [
           {
            "marker": {
             "colorbar": {
              "outlinewidth": 0,
              "ticks": ""
             }
            },
            "type": "scattergl"
           }
          ],
          "scattermapbox": [
           {
            "marker": {
             "colorbar": {
              "outlinewidth": 0,
              "ticks": ""
             }
            },
            "type": "scattermapbox"
           }
          ],
          "scatterpolar": [
           {
            "marker": {
             "colorbar": {
              "outlinewidth": 0,
              "ticks": ""
             }
            },
            "type": "scatterpolar"
           }
          ],
          "scatterpolargl": [
           {
            "marker": {
             "colorbar": {
              "outlinewidth": 0,
              "ticks": ""
             }
            },
            "type": "scatterpolargl"
           }
          ],
          "scatterternary": [
           {
            "marker": {
             "colorbar": {
              "outlinewidth": 0,
              "ticks": ""
             }
            },
            "type": "scatterternary"
           }
          ],
          "surface": [
           {
            "colorbar": {
             "outlinewidth": 0,
             "ticks": ""
            },
            "colorscale": [
             [
              0,
              "#0d0887"
             ],
             [
              0.1111111111111111,
              "#46039f"
             ],
             [
              0.2222222222222222,
              "#7201a8"
             ],
             [
              0.3333333333333333,
              "#9c179e"
             ],
             [
              0.4444444444444444,
              "#bd3786"
             ],
             [
              0.5555555555555556,
              "#d8576b"
             ],
             [
              0.6666666666666666,
              "#ed7953"
             ],
             [
              0.7777777777777778,
              "#fb9f3a"
             ],
             [
              0.8888888888888888,
              "#fdca26"
             ],
             [
              1,
              "#f0f921"
             ]
            ],
            "type": "surface"
           }
          ],
          "table": [
           {
            "cells": {
             "fill": {
              "color": "#EBF0F8"
             },
             "line": {
              "color": "white"
             }
            },
            "header": {
             "fill": {
              "color": "#C8D4E3"
             },
             "line": {
              "color": "white"
             }
            },
            "type": "table"
           }
          ]
         },
         "layout": {
          "annotationdefaults": {
           "arrowcolor": "#2a3f5f",
           "arrowhead": 0,
           "arrowwidth": 1
          },
          "autotypenumbers": "strict",
          "coloraxis": {
           "colorbar": {
            "outlinewidth": 0,
            "ticks": ""
           }
          },
          "colorscale": {
           "diverging": [
            [
             0,
             "#8e0152"
            ],
            [
             0.1,
             "#c51b7d"
            ],
            [
             0.2,
             "#de77ae"
            ],
            [
             0.3,
             "#f1b6da"
            ],
            [
             0.4,
             "#fde0ef"
            ],
            [
             0.5,
             "#f7f7f7"
            ],
            [
             0.6,
             "#e6f5d0"
            ],
            [
             0.7,
             "#b8e186"
            ],
            [
             0.8,
             "#7fbc41"
            ],
            [
             0.9,
             "#4d9221"
            ],
            [
             1,
             "#276419"
            ]
           ],
           "sequential": [
            [
             0,
             "#0d0887"
            ],
            [
             0.1111111111111111,
             "#46039f"
            ],
            [
             0.2222222222222222,
             "#7201a8"
            ],
            [
             0.3333333333333333,
             "#9c179e"
            ],
            [
             0.4444444444444444,
             "#bd3786"
            ],
            [
             0.5555555555555556,
             "#d8576b"
            ],
            [
             0.6666666666666666,
             "#ed7953"
            ],
            [
             0.7777777777777778,
             "#fb9f3a"
            ],
            [
             0.8888888888888888,
             "#fdca26"
            ],
            [
             1,
             "#f0f921"
            ]
           ],
           "sequentialminus": [
            [
             0,
             "#0d0887"
            ],
            [
             0.1111111111111111,
             "#46039f"
            ],
            [
             0.2222222222222222,
             "#7201a8"
            ],
            [
             0.3333333333333333,
             "#9c179e"
            ],
            [
             0.4444444444444444,
             "#bd3786"
            ],
            [
             0.5555555555555556,
             "#d8576b"
            ],
            [
             0.6666666666666666,
             "#ed7953"
            ],
            [
             0.7777777777777778,
             "#fb9f3a"
            ],
            [
             0.8888888888888888,
             "#fdca26"
            ],
            [
             1,
             "#f0f921"
            ]
           ]
          },
          "colorway": [
           "#636efa",
           "#EF553B",
           "#00cc96",
           "#ab63fa",
           "#FFA15A",
           "#19d3f3",
           "#FF6692",
           "#B6E880",
           "#FF97FF",
           "#FECB52"
          ],
          "font": {
           "color": "#2a3f5f"
          },
          "geo": {
           "bgcolor": "white",
           "lakecolor": "white",
           "landcolor": "#E5ECF6",
           "showlakes": true,
           "showland": true,
           "subunitcolor": "white"
          },
          "hoverlabel": {
           "align": "left"
          },
          "hovermode": "closest",
          "mapbox": {
           "style": "light"
          },
          "paper_bgcolor": "white",
          "plot_bgcolor": "#E5ECF6",
          "polar": {
           "angularaxis": {
            "gridcolor": "white",
            "linecolor": "white",
            "ticks": ""
           },
           "bgcolor": "#E5ECF6",
           "radialaxis": {
            "gridcolor": "white",
            "linecolor": "white",
            "ticks": ""
           }
          },
          "scene": {
           "xaxis": {
            "backgroundcolor": "#E5ECF6",
            "gridcolor": "white",
            "gridwidth": 2,
            "linecolor": "white",
            "showbackground": true,
            "ticks": "",
            "zerolinecolor": "white"
           },
           "yaxis": {
            "backgroundcolor": "#E5ECF6",
            "gridcolor": "white",
            "gridwidth": 2,
            "linecolor": "white",
            "showbackground": true,
            "ticks": "",
            "zerolinecolor": "white"
           },
           "zaxis": {
            "backgroundcolor": "#E5ECF6",
            "gridcolor": "white",
            "gridwidth": 2,
            "linecolor": "white",
            "showbackground": true,
            "ticks": "",
            "zerolinecolor": "white"
           }
          },
          "shapedefaults": {
           "line": {
            "color": "#2a3f5f"
           }
          },
          "ternary": {
           "aaxis": {
            "gridcolor": "white",
            "linecolor": "white",
            "ticks": ""
           },
           "baxis": {
            "gridcolor": "white",
            "linecolor": "white",
            "ticks": ""
           },
           "bgcolor": "#E5ECF6",
           "caxis": {
            "gridcolor": "white",
            "linecolor": "white",
            "ticks": ""
           }
          },
          "title": {
           "x": 0.05
          },
          "xaxis": {
           "automargin": true,
           "gridcolor": "white",
           "linecolor": "white",
           "ticks": "",
           "title": {
            "standoff": 15
           },
           "zerolinecolor": "white",
           "zerolinewidth": 2
          },
          "yaxis": {
           "automargin": true,
           "gridcolor": "white",
           "linecolor": "white",
           "ticks": "",
           "title": {
            "standoff": 15
           },
           "zerolinecolor": "white",
           "zerolinewidth": 2
          }
         }
        },
        "xaxis": {
         "anchor": "y",
         "categoryarray": [
          "Cluster 0",
          "Cluster 1",
          "Cluster 2",
          "Cluster 3",
          "Cluster 4",
          "Cluster 5"
         ],
         "categoryorder": "array",
         "domain": [
          0,
          1
         ],
         "title": {
          "text": "Cluster"
         }
        },
        "xaxis2": {
         "anchor": "y2",
         "domain": [
          0,
          1
         ],
         "matches": "x",
         "showgrid": true,
         "showticklabels": false
        },
        "yaxis": {
         "anchor": "x",
         "domain": [
          0,
          0.7326
         ],
         "title": {
          "text": "count"
         }
        },
        "yaxis2": {
         "anchor": "x2",
         "domain": [
          0.7426,
          1
         ],
         "matches": "y2",
         "showgrid": false,
         "showline": false,
         "showticklabels": false,
         "ticks": ""
        }
       }
      }
     },
     "metadata": {},
     "output_type": "display_data"
    }
   ],
   "source": [
    "exp.plot_model(kmeans, plot='distribution')"
   ]
  },
  {
   "cell_type": "markdown",
   "metadata": {},
   "source": [
    "## Evaluate model\n",
    "This function displays a user interface for analyzing performance of a trained model. It calls the plot_model function internally."
   ]
  },
  {
   "cell_type": "code",
   "execution_count": 21,
   "metadata": {},
   "outputs": [
    {
     "data": {
      "application/vnd.jupyter.widget-view+json": {
       "model_id": "bf4f45fdf9eb435cb8dbde2bb51ef14f",
       "version_major": 2,
       "version_minor": 0
      },
      "text/plain": [
       "interactive(children=(ToggleButtons(description='Plot Type:', icons=('',), options=(('Pipeline Plot', 'pipelin…"
      ]
     },
     "metadata": {},
     "output_type": "display_data"
    }
   ],
   "source": [
    "exp.evaluate_model(kmeans)"
   ]
  },
  {
   "cell_type": "markdown",
   "metadata": {},
   "source": [
    "## Predict model\n",
    "\n",
    "predict_model is only useful when you want to obtain cluster labels on unseen data (i.e. data that was not used during training the model)."
   ]
  },
  {
   "cell_type": "code",
   "execution_count": 22,
   "metadata": {},
   "outputs": [
    {
     "data": {
      "text/html": [
       "<div>\n",
       "<style scoped>\n",
       "    .dataframe tbody tr th:only-of-type {\n",
       "        vertical-align: middle;\n",
       "    }\n",
       "\n",
       "    .dataframe tbody tr th {\n",
       "        vertical-align: top;\n",
       "    }\n",
       "\n",
       "    .dataframe thead th {\n",
       "        text-align: right;\n",
       "    }\n",
       "</style>\n",
       "<table border=\"1\" class=\"dataframe\">\n",
       "  <thead>\n",
       "    <tr style=\"text-align: right;\">\n",
       "      <th></th>\n",
       "      <th>Age</th>\n",
       "      <th>Annual Income (k$)</th>\n",
       "      <th>Spending Score (1-100)</th>\n",
       "      <th>Cluster</th>\n",
       "    </tr>\n",
       "  </thead>\n",
       "  <tbody>\n",
       "    <tr>\n",
       "      <th>0</th>\n",
       "      <td>-1.424569</td>\n",
       "      <td>-1.738999</td>\n",
       "      <td>-0.434801</td>\n",
       "      <td>Cluster 2</td>\n",
       "    </tr>\n",
       "    <tr>\n",
       "      <th>1</th>\n",
       "      <td>-1.281035</td>\n",
       "      <td>-1.738999</td>\n",
       "      <td>1.195704</td>\n",
       "      <td>Cluster 2</td>\n",
       "    </tr>\n",
       "    <tr>\n",
       "      <th>2</th>\n",
       "      <td>-1.352802</td>\n",
       "      <td>-1.700830</td>\n",
       "      <td>-1.715913</td>\n",
       "      <td>Cluster 5</td>\n",
       "    </tr>\n",
       "    <tr>\n",
       "      <th>3</th>\n",
       "      <td>-1.137502</td>\n",
       "      <td>-1.700830</td>\n",
       "      <td>1.040418</td>\n",
       "      <td>Cluster 2</td>\n",
       "    </tr>\n",
       "    <tr>\n",
       "      <th>4</th>\n",
       "      <td>-0.563369</td>\n",
       "      <td>-1.662660</td>\n",
       "      <td>-0.395980</td>\n",
       "      <td>Cluster 5</td>\n",
       "    </tr>\n",
       "    <tr>\n",
       "      <th>...</th>\n",
       "      <td>...</td>\n",
       "      <td>...</td>\n",
       "      <td>...</td>\n",
       "      <td>...</td>\n",
       "    </tr>\n",
       "    <tr>\n",
       "      <th>195</th>\n",
       "      <td>-0.276302</td>\n",
       "      <td>2.268791</td>\n",
       "      <td>1.118061</td>\n",
       "      <td>Cluster 1</td>\n",
       "    </tr>\n",
       "    <tr>\n",
       "      <th>196</th>\n",
       "      <td>0.441365</td>\n",
       "      <td>2.497807</td>\n",
       "      <td>-0.861839</td>\n",
       "      <td>Cluster 4</td>\n",
       "    </tr>\n",
       "    <tr>\n",
       "      <th>197</th>\n",
       "      <td>-0.491602</td>\n",
       "      <td>2.497807</td>\n",
       "      <td>0.923953</td>\n",
       "      <td>Cluster 1</td>\n",
       "    </tr>\n",
       "    <tr>\n",
       "      <th>198</th>\n",
       "      <td>-0.491602</td>\n",
       "      <td>2.917671</td>\n",
       "      <td>-1.250054</td>\n",
       "      <td>Cluster 4</td>\n",
       "    </tr>\n",
       "    <tr>\n",
       "      <th>199</th>\n",
       "      <td>-0.635135</td>\n",
       "      <td>2.917671</td>\n",
       "      <td>1.273347</td>\n",
       "      <td>Cluster 1</td>\n",
       "    </tr>\n",
       "  </tbody>\n",
       "</table>\n",
       "<p>200 rows × 4 columns</p>\n",
       "</div>"
      ],
      "text/plain": [
       "          Age  Annual Income (k$)  Spending Score (1-100)    Cluster\n",
       "0   -1.424569           -1.738999               -0.434801  Cluster 2\n",
       "1   -1.281035           -1.738999                1.195704  Cluster 2\n",
       "2   -1.352802           -1.700830               -1.715913  Cluster 5\n",
       "3   -1.137502           -1.700830                1.040418  Cluster 2\n",
       "4   -0.563369           -1.662660               -0.395980  Cluster 5\n",
       "..        ...                 ...                     ...        ...\n",
       "195 -0.276302            2.268791                1.118061  Cluster 1\n",
       "196  0.441365            2.497807               -0.861839  Cluster 4\n",
       "197 -0.491602            2.497807                0.923953  Cluster 1\n",
       "198 -0.491602            2.917671               -1.250054  Cluster 4\n",
       "199 -0.635135            2.917671                1.273347  Cluster 1\n",
       "\n",
       "[200 rows x 4 columns]"
      ]
     },
     "execution_count": 22,
     "metadata": {},
     "output_type": "execute_result"
    }
   ],
   "source": [
    "kmeans_predictions = predict_model(kmeans, data=df_no_gender)\n",
    "kmeans_predictions"
   ]
  },
  {
   "cell_type": "code",
   "execution_count": 23,
   "metadata": {},
   "outputs": [
    {
     "data": {
      "text/html": [
       "<div>\n",
       "<style scoped>\n",
       "    .dataframe tbody tr th:only-of-type {\n",
       "        vertical-align: middle;\n",
       "    }\n",
       "\n",
       "    .dataframe tbody tr th {\n",
       "        vertical-align: top;\n",
       "    }\n",
       "\n",
       "    .dataframe thead th {\n",
       "        text-align: right;\n",
       "    }\n",
       "</style>\n",
       "<table border=\"1\" class=\"dataframe\">\n",
       "  <thead>\n",
       "    <tr style=\"text-align: right;\">\n",
       "      <th></th>\n",
       "      <th>Age</th>\n",
       "      <th>Annual Income (k$)</th>\n",
       "      <th>Spending Score (1-100)</th>\n",
       "      <th>Cluster</th>\n",
       "    </tr>\n",
       "  </thead>\n",
       "  <tbody>\n",
       "    <tr>\n",
       "      <th>0</th>\n",
       "      <td>19</td>\n",
       "      <td>15</td>\n",
       "      <td>39</td>\n",
       "      <td>Cluster 2</td>\n",
       "    </tr>\n",
       "    <tr>\n",
       "      <th>1</th>\n",
       "      <td>21</td>\n",
       "      <td>15</td>\n",
       "      <td>81</td>\n",
       "      <td>Cluster 2</td>\n",
       "    </tr>\n",
       "    <tr>\n",
       "      <th>2</th>\n",
       "      <td>20</td>\n",
       "      <td>16</td>\n",
       "      <td>6</td>\n",
       "      <td>Cluster 5</td>\n",
       "    </tr>\n",
       "    <tr>\n",
       "      <th>3</th>\n",
       "      <td>23</td>\n",
       "      <td>16</td>\n",
       "      <td>77</td>\n",
       "      <td>Cluster 2</td>\n",
       "    </tr>\n",
       "    <tr>\n",
       "      <th>4</th>\n",
       "      <td>31</td>\n",
       "      <td>17</td>\n",
       "      <td>40</td>\n",
       "      <td>Cluster 5</td>\n",
       "    </tr>\n",
       "    <tr>\n",
       "      <th>...</th>\n",
       "      <td>...</td>\n",
       "      <td>...</td>\n",
       "      <td>...</td>\n",
       "      <td>...</td>\n",
       "    </tr>\n",
       "    <tr>\n",
       "      <th>195</th>\n",
       "      <td>35</td>\n",
       "      <td>120</td>\n",
       "      <td>79</td>\n",
       "      <td>Cluster 1</td>\n",
       "    </tr>\n",
       "    <tr>\n",
       "      <th>196</th>\n",
       "      <td>45</td>\n",
       "      <td>126</td>\n",
       "      <td>28</td>\n",
       "      <td>Cluster 4</td>\n",
       "    </tr>\n",
       "    <tr>\n",
       "      <th>197</th>\n",
       "      <td>32</td>\n",
       "      <td>126</td>\n",
       "      <td>74</td>\n",
       "      <td>Cluster 1</td>\n",
       "    </tr>\n",
       "    <tr>\n",
       "      <th>198</th>\n",
       "      <td>32</td>\n",
       "      <td>137</td>\n",
       "      <td>18</td>\n",
       "      <td>Cluster 4</td>\n",
       "    </tr>\n",
       "    <tr>\n",
       "      <th>199</th>\n",
       "      <td>30</td>\n",
       "      <td>137</td>\n",
       "      <td>83</td>\n",
       "      <td>Cluster 1</td>\n",
       "    </tr>\n",
       "  </tbody>\n",
       "</table>\n",
       "<p>200 rows × 4 columns</p>\n",
       "</div>"
      ],
      "text/plain": [
       "     Age  Annual Income (k$)  Spending Score (1-100)    Cluster\n",
       "0     19                  15                      39  Cluster 2\n",
       "1     21                  15                      81  Cluster 2\n",
       "2     20                  16                       6  Cluster 5\n",
       "3     23                  16                      77  Cluster 2\n",
       "4     31                  17                      40  Cluster 5\n",
       "..   ...                 ...                     ...        ...\n",
       "195   35                 120                      79  Cluster 1\n",
       "196   45                 126                      28  Cluster 4\n",
       "197   32                 126                      74  Cluster 1\n",
       "198   32                 137                      18  Cluster 4\n",
       "199   30                 137                      83  Cluster 1\n",
       "\n",
       "[200 rows x 4 columns]"
      ]
     },
     "execution_count": 23,
     "metadata": {},
     "output_type": "execute_result"
    }
   ],
   "source": [
    "kmeans_clusters"
   ]
  },
  {
   "cell_type": "code",
   "execution_count": 24,
   "metadata": {},
   "outputs": [
    {
     "name": "stdout",
     "output_type": "stream",
     "text": [
      "Transformation Pipeline and Model Successfully Saved\n"
     ]
    },
    {
     "data": {
      "text/plain": [
       "(Pipeline(memory=Memory(location=None),\n",
       "          steps=[('numerical_imputer',\n",
       "                  TransformerWrapper(include=['Age', 'Annual Income (k$)',\n",
       "                                              'Spending Score (1-100)'],\n",
       "                                     transformer=SimpleImputer())),\n",
       "                 ('categorical_imputer',\n",
       "                  TransformerWrapper(include=[],\n",
       "                                     transformer=SimpleImputer(strategy='most_frequent'))),\n",
       "                 ('normalize', TransformerWrapper(transformer=StandardScaler())),\n",
       "                 ('trained_model', KMeans(n_clusters=6, random_state=123))]),\n",
       " 'kmeans_pipeline.pkl')"
      ]
     },
     "execution_count": 24,
     "metadata": {},
     "output_type": "execute_result"
    }
   ],
   "source": [
    "# save pipeline\n",
    "save_model(kmeans, 'kmeans_pipeline')"
   ]
  },
  {
   "cell_type": "code",
   "execution_count": 25,
   "metadata": {},
   "outputs": [
    {
     "name": "stdout",
     "output_type": "stream",
     "text": [
      "Transformation Pipeline and Model Successfully Loaded\n"
     ]
    },
    {
     "data": {
      "text/html": [
       "<style>#sk-container-id-1 {color: black;background-color: white;}#sk-container-id-1 pre{padding: 0;}#sk-container-id-1 div.sk-toggleable {background-color: white;}#sk-container-id-1 label.sk-toggleable__label {cursor: pointer;display: block;width: 100%;margin-bottom: 0;padding: 0.3em;box-sizing: border-box;text-align: center;}#sk-container-id-1 label.sk-toggleable__label-arrow:before {content: \"▸\";float: left;margin-right: 0.25em;color: #696969;}#sk-container-id-1 label.sk-toggleable__label-arrow:hover:before {color: black;}#sk-container-id-1 div.sk-estimator:hover label.sk-toggleable__label-arrow:before {color: black;}#sk-container-id-1 div.sk-toggleable__content {max-height: 0;max-width: 0;overflow: hidden;text-align: left;background-color: #f0f8ff;}#sk-container-id-1 div.sk-toggleable__content pre {margin: 0.2em;color: black;border-radius: 0.25em;background-color: #f0f8ff;}#sk-container-id-1 input.sk-toggleable__control:checked~div.sk-toggleable__content {max-height: 200px;max-width: 100%;overflow: auto;}#sk-container-id-1 input.sk-toggleable__control:checked~label.sk-toggleable__label-arrow:before {content: \"▾\";}#sk-container-id-1 div.sk-estimator input.sk-toggleable__control:checked~label.sk-toggleable__label {background-color: #d4ebff;}#sk-container-id-1 div.sk-label input.sk-toggleable__control:checked~label.sk-toggleable__label {background-color: #d4ebff;}#sk-container-id-1 input.sk-hidden--visually {border: 0;clip: rect(1px 1px 1px 1px);clip: rect(1px, 1px, 1px, 1px);height: 1px;margin: -1px;overflow: hidden;padding: 0;position: absolute;width: 1px;}#sk-container-id-1 div.sk-estimator {font-family: monospace;background-color: #f0f8ff;border: 1px dotted black;border-radius: 0.25em;box-sizing: border-box;margin-bottom: 0.5em;}#sk-container-id-1 div.sk-estimator:hover {background-color: #d4ebff;}#sk-container-id-1 div.sk-parallel-item::after {content: \"\";width: 100%;border-bottom: 1px solid gray;flex-grow: 1;}#sk-container-id-1 div.sk-label:hover label.sk-toggleable__label {background-color: #d4ebff;}#sk-container-id-1 div.sk-serial::before {content: \"\";position: absolute;border-left: 1px solid gray;box-sizing: border-box;top: 0;bottom: 0;left: 50%;z-index: 0;}#sk-container-id-1 div.sk-serial {display: flex;flex-direction: column;align-items: center;background-color: white;padding-right: 0.2em;padding-left: 0.2em;position: relative;}#sk-container-id-1 div.sk-item {position: relative;z-index: 1;}#sk-container-id-1 div.sk-parallel {display: flex;align-items: stretch;justify-content: center;background-color: white;position: relative;}#sk-container-id-1 div.sk-item::before, #sk-container-id-1 div.sk-parallel-item::before {content: \"\";position: absolute;border-left: 1px solid gray;box-sizing: border-box;top: 0;bottom: 0;left: 50%;z-index: -1;}#sk-container-id-1 div.sk-parallel-item {display: flex;flex-direction: column;z-index: 1;position: relative;background-color: white;}#sk-container-id-1 div.sk-parallel-item:first-child::after {align-self: flex-end;width: 50%;}#sk-container-id-1 div.sk-parallel-item:last-child::after {align-self: flex-start;width: 50%;}#sk-container-id-1 div.sk-parallel-item:only-child::after {width: 0;}#sk-container-id-1 div.sk-dashed-wrapped {border: 1px dashed gray;margin: 0 0.4em 0.5em 0.4em;box-sizing: border-box;padding-bottom: 0.4em;background-color: white;}#sk-container-id-1 div.sk-label label {font-family: monospace;font-weight: bold;display: inline-block;line-height: 1.2em;}#sk-container-id-1 div.sk-label-container {text-align: center;}#sk-container-id-1 div.sk-container {/* jupyter's `normalize.less` sets `[hidden] { display: none; }` but bootstrap.min.css set `[hidden] { display: none !important; }` so we also need the `!important` here to be able to override the default hidden behavior on the sphinx rendered scikit-learn.org. See: https://github.com/scikit-learn/scikit-learn/issues/21755 */display: inline-block !important;position: relative;}#sk-container-id-1 div.sk-text-repr-fallback {display: none;}</style><div id=\"sk-container-id-1\" class=\"sk-top-container\"><div class=\"sk-text-repr-fallback\"><pre>Pipeline(memory=FastMemory(location=C:\\Users\\pedram\\AppData\\Local\\Temp\\joblib),\n",
       "         steps=[(&#x27;numerical_imputer&#x27;,\n",
       "                 TransformerWrapper(include=[&#x27;Age&#x27;, &#x27;Annual Income (k$)&#x27;,\n",
       "                                             &#x27;Spending Score (1-100)&#x27;],\n",
       "                                    transformer=SimpleImputer())),\n",
       "                (&#x27;categorical_imputer&#x27;,\n",
       "                 TransformerWrapper(include=[],\n",
       "                                    transformer=SimpleImputer(strategy=&#x27;most_frequent&#x27;))),\n",
       "                (&#x27;normalize&#x27;, TransformerWrapper(transformer=StandardScaler())),\n",
       "                (&#x27;trained_model&#x27;, KMeans(n_clusters=6, random_state=123))])</pre><b>In a Jupyter environment, please rerun this cell to show the HTML representation or trust the notebook. <br />On GitHub, the HTML representation is unable to render, please try loading this page with nbviewer.org.</b></div><div class=\"sk-container\" hidden><div class=\"sk-item sk-dashed-wrapped\"><div class=\"sk-label-container\"><div class=\"sk-label sk-toggleable\"><input class=\"sk-toggleable__control sk-hidden--visually\" id=\"sk-estimator-id-1\" type=\"checkbox\" ><label for=\"sk-estimator-id-1\" class=\"sk-toggleable__label sk-toggleable__label-arrow\">Pipeline</label><div class=\"sk-toggleable__content\"><pre>Pipeline(memory=FastMemory(location=C:\\Users\\pedram\\AppData\\Local\\Temp\\joblib),\n",
       "         steps=[(&#x27;numerical_imputer&#x27;,\n",
       "                 TransformerWrapper(include=[&#x27;Age&#x27;, &#x27;Annual Income (k$)&#x27;,\n",
       "                                             &#x27;Spending Score (1-100)&#x27;],\n",
       "                                    transformer=SimpleImputer())),\n",
       "                (&#x27;categorical_imputer&#x27;,\n",
       "                 TransformerWrapper(include=[],\n",
       "                                    transformer=SimpleImputer(strategy=&#x27;most_frequent&#x27;))),\n",
       "                (&#x27;normalize&#x27;, TransformerWrapper(transformer=StandardScaler())),\n",
       "                (&#x27;trained_model&#x27;, KMeans(n_clusters=6, random_state=123))])</pre></div></div></div><div class=\"sk-serial\"><div class=\"sk-item sk-dashed-wrapped\"><div class=\"sk-label-container\"><div class=\"sk-label sk-toggleable\"><input class=\"sk-toggleable__control sk-hidden--visually\" id=\"sk-estimator-id-2\" type=\"checkbox\" ><label for=\"sk-estimator-id-2\" class=\"sk-toggleable__label sk-toggleable__label-arrow\">numerical_imputer: TransformerWrapper</label><div class=\"sk-toggleable__content\"><pre>TransformerWrapper(include=[&#x27;Age&#x27;, &#x27;Annual Income (k$)&#x27;,\n",
       "                            &#x27;Spending Score (1-100)&#x27;],\n",
       "                   transformer=SimpleImputer())</pre></div></div></div><div class=\"sk-parallel\"><div class=\"sk-parallel-item\"><div class=\"sk-item\"><div class=\"sk-label-container\"><div class=\"sk-label sk-toggleable\"><input class=\"sk-toggleable__control sk-hidden--visually\" id=\"sk-estimator-id-3\" type=\"checkbox\" ><label for=\"sk-estimator-id-3\" class=\"sk-toggleable__label sk-toggleable__label-arrow\">transformer: SimpleImputer</label><div class=\"sk-toggleable__content\"><pre>SimpleImputer()</pre></div></div></div><div class=\"sk-serial\"><div class=\"sk-item\"><div class=\"sk-estimator sk-toggleable\"><input class=\"sk-toggleable__control sk-hidden--visually\" id=\"sk-estimator-id-4\" type=\"checkbox\" ><label for=\"sk-estimator-id-4\" class=\"sk-toggleable__label sk-toggleable__label-arrow\">SimpleImputer</label><div class=\"sk-toggleable__content\"><pre>SimpleImputer()</pre></div></div></div></div></div></div></div></div><div class=\"sk-item sk-dashed-wrapped\"><div class=\"sk-label-container\"><div class=\"sk-label sk-toggleable\"><input class=\"sk-toggleable__control sk-hidden--visually\" id=\"sk-estimator-id-5\" type=\"checkbox\" ><label for=\"sk-estimator-id-5\" class=\"sk-toggleable__label sk-toggleable__label-arrow\">categorical_imputer: TransformerWrapper</label><div class=\"sk-toggleable__content\"><pre>TransformerWrapper(include=[],\n",
       "                   transformer=SimpleImputer(strategy=&#x27;most_frequent&#x27;))</pre></div></div></div><div class=\"sk-parallel\"><div class=\"sk-parallel-item\"><div class=\"sk-item\"><div class=\"sk-label-container\"><div class=\"sk-label sk-toggleable\"><input class=\"sk-toggleable__control sk-hidden--visually\" id=\"sk-estimator-id-6\" type=\"checkbox\" ><label for=\"sk-estimator-id-6\" class=\"sk-toggleable__label sk-toggleable__label-arrow\">transformer: SimpleImputer</label><div class=\"sk-toggleable__content\"><pre>SimpleImputer(strategy=&#x27;most_frequent&#x27;)</pre></div></div></div><div class=\"sk-serial\"><div class=\"sk-item\"><div class=\"sk-estimator sk-toggleable\"><input class=\"sk-toggleable__control sk-hidden--visually\" id=\"sk-estimator-id-7\" type=\"checkbox\" ><label for=\"sk-estimator-id-7\" class=\"sk-toggleable__label sk-toggleable__label-arrow\">SimpleImputer</label><div class=\"sk-toggleable__content\"><pre>SimpleImputer(strategy=&#x27;most_frequent&#x27;)</pre></div></div></div></div></div></div></div></div><div class=\"sk-item sk-dashed-wrapped\"><div class=\"sk-label-container\"><div class=\"sk-label sk-toggleable\"><input class=\"sk-toggleable__control sk-hidden--visually\" id=\"sk-estimator-id-8\" type=\"checkbox\" ><label for=\"sk-estimator-id-8\" class=\"sk-toggleable__label sk-toggleable__label-arrow\">normalize: TransformerWrapper</label><div class=\"sk-toggleable__content\"><pre>TransformerWrapper(transformer=StandardScaler())</pre></div></div></div><div class=\"sk-parallel\"><div class=\"sk-parallel-item\"><div class=\"sk-item\"><div class=\"sk-label-container\"><div class=\"sk-label sk-toggleable\"><input class=\"sk-toggleable__control sk-hidden--visually\" id=\"sk-estimator-id-9\" type=\"checkbox\" ><label for=\"sk-estimator-id-9\" class=\"sk-toggleable__label sk-toggleable__label-arrow\">transformer: StandardScaler</label><div class=\"sk-toggleable__content\"><pre>StandardScaler()</pre></div></div></div><div class=\"sk-serial\"><div class=\"sk-item\"><div class=\"sk-estimator sk-toggleable\"><input class=\"sk-toggleable__control sk-hidden--visually\" id=\"sk-estimator-id-10\" type=\"checkbox\" ><label for=\"sk-estimator-id-10\" class=\"sk-toggleable__label sk-toggleable__label-arrow\">StandardScaler</label><div class=\"sk-toggleable__content\"><pre>StandardScaler()</pre></div></div></div></div></div></div></div></div><div class=\"sk-item\"><div class=\"sk-estimator sk-toggleable\"><input class=\"sk-toggleable__control sk-hidden--visually\" id=\"sk-estimator-id-11\" type=\"checkbox\" ><label for=\"sk-estimator-id-11\" class=\"sk-toggleable__label sk-toggleable__label-arrow\">KMeans</label><div class=\"sk-toggleable__content\"><pre>KMeans(n_clusters=6, random_state=123)</pre></div></div></div></div></div></div></div>"
      ],
      "text/plain": [
       "Pipeline(memory=FastMemory(location=C:\\Users\\pedram\\AppData\\Local\\Temp\\joblib),\n",
       "         steps=[('numerical_imputer',\n",
       "                 TransformerWrapper(include=['Age', 'Annual Income (k$)',\n",
       "                                             'Spending Score (1-100)'],\n",
       "                                    transformer=SimpleImputer())),\n",
       "                ('categorical_imputer',\n",
       "                 TransformerWrapper(include=[],\n",
       "                                    transformer=SimpleImputer(strategy='most_frequent'))),\n",
       "                ('normalize', TransformerWrapper(transformer=StandardScaler())),\n",
       "                ('trained_model', KMeans(n_clusters=6, random_state=123))])"
      ]
     },
     "execution_count": 25,
     "metadata": {},
     "output_type": "execute_result"
    }
   ],
   "source": [
    "# load pipeline\n",
    "kmeans_pipeline = load_model('kmeans_pipeline')\n",
    "kmeans_pipeline"
   ]
  },
  {
   "cell_type": "markdown",
   "metadata": {},
   "source": [
    "## Hierarchical clustering\n"
   ]
  },
  {
   "cell_type": "code",
   "execution_count": 37,
   "metadata": {},
   "outputs": [
    {
     "data": {
      "text/html": [],
      "text/plain": [
       "<IPython.core.display.HTML object>"
      ]
     },
     "metadata": {},
     "output_type": "display_data"
    },
    {
     "data": {
      "text/html": [
       "<style type=\"text/css\">\n",
       "</style>\n",
       "<table id=\"T_62df2\">\n",
       "  <thead>\n",
       "    <tr>\n",
       "      <th class=\"blank level0\" >&nbsp;</th>\n",
       "      <th id=\"T_62df2_level0_col0\" class=\"col_heading level0 col0\" >Silhouette</th>\n",
       "      <th id=\"T_62df2_level0_col1\" class=\"col_heading level0 col1\" >Calinski-Harabasz</th>\n",
       "      <th id=\"T_62df2_level0_col2\" class=\"col_heading level0 col2\" >Davies-Bouldin</th>\n",
       "      <th id=\"T_62df2_level0_col3\" class=\"col_heading level0 col3\" >Homogeneity</th>\n",
       "      <th id=\"T_62df2_level0_col4\" class=\"col_heading level0 col4\" >Rand Index</th>\n",
       "      <th id=\"T_62df2_level0_col5\" class=\"col_heading level0 col5\" >Completeness</th>\n",
       "    </tr>\n",
       "  </thead>\n",
       "  <tbody>\n",
       "    <tr>\n",
       "      <th id=\"T_62df2_level0_row0\" class=\"row_heading level0 row0\" >0</th>\n",
       "      <td id=\"T_62df2_row0_col0\" class=\"data row0 col0\" >0.4201</td>\n",
       "      <td id=\"T_62df2_row0_col1\" class=\"data row0 col1\" >127.9865</td>\n",
       "      <td id=\"T_62df2_row0_col2\" class=\"data row0 col2\" >0.8521</td>\n",
       "      <td id=\"T_62df2_row0_col3\" class=\"data row0 col3\" >0</td>\n",
       "      <td id=\"T_62df2_row0_col4\" class=\"data row0 col4\" >0</td>\n",
       "      <td id=\"T_62df2_row0_col5\" class=\"data row0 col5\" >0</td>\n",
       "    </tr>\n",
       "  </tbody>\n",
       "</table>\n"
      ],
      "text/plain": [
       "<pandas.io.formats.style.Styler at 0x15f63d9c460>"
      ]
     },
     "metadata": {},
     "output_type": "display_data"
    },
    {
     "data": {
      "text/html": [],
      "text/plain": [
       "<IPython.core.display.HTML object>"
      ]
     },
     "metadata": {},
     "output_type": "display_data"
    }
   ],
   "source": [
    "hclust = create_model('hclust', num_clusters=6)"
   ]
  },
  {
   "cell_type": "code",
   "execution_count": 38,
   "metadata": {},
   "outputs": [
    {
     "data": {
      "text/plain": [
       "{'affinity': 'deprecated',\n",
       " 'compute_distances': False,\n",
       " 'compute_full_tree': 'auto',\n",
       " 'connectivity': None,\n",
       " 'distance_threshold': None,\n",
       " 'linkage': 'ward',\n",
       " 'memory': None,\n",
       " 'metric': None,\n",
       " 'n_clusters': 6}"
      ]
     },
     "execution_count": 38,
     "metadata": {},
     "output_type": "execute_result"
    }
   ],
   "source": [
    "hclust.get_params()"
   ]
  },
  {
   "cell_type": "code",
   "execution_count": 39,
   "metadata": {},
   "outputs": [
    {
     "data": {
      "text/html": [
       "<div>\n",
       "<style scoped>\n",
       "    .dataframe tbody tr th:only-of-type {\n",
       "        vertical-align: middle;\n",
       "    }\n",
       "\n",
       "    .dataframe tbody tr th {\n",
       "        vertical-align: top;\n",
       "    }\n",
       "\n",
       "    .dataframe thead th {\n",
       "        text-align: right;\n",
       "    }\n",
       "</style>\n",
       "<table border=\"1\" class=\"dataframe\">\n",
       "  <thead>\n",
       "    <tr style=\"text-align: right;\">\n",
       "      <th></th>\n",
       "      <th>Age</th>\n",
       "      <th>Annual Income (k$)</th>\n",
       "      <th>Spending Score (1-100)</th>\n",
       "      <th>Cluster</th>\n",
       "    </tr>\n",
       "  </thead>\n",
       "  <tbody>\n",
       "    <tr>\n",
       "      <th>0</th>\n",
       "      <td>19</td>\n",
       "      <td>15</td>\n",
       "      <td>39</td>\n",
       "      <td>Cluster 4</td>\n",
       "    </tr>\n",
       "    <tr>\n",
       "      <th>1</th>\n",
       "      <td>21</td>\n",
       "      <td>15</td>\n",
       "      <td>81</td>\n",
       "      <td>Cluster 5</td>\n",
       "    </tr>\n",
       "    <tr>\n",
       "      <th>2</th>\n",
       "      <td>20</td>\n",
       "      <td>16</td>\n",
       "      <td>6</td>\n",
       "      <td>Cluster 4</td>\n",
       "    </tr>\n",
       "    <tr>\n",
       "      <th>3</th>\n",
       "      <td>23</td>\n",
       "      <td>16</td>\n",
       "      <td>77</td>\n",
       "      <td>Cluster 5</td>\n",
       "    </tr>\n",
       "    <tr>\n",
       "      <th>4</th>\n",
       "      <td>31</td>\n",
       "      <td>17</td>\n",
       "      <td>40</td>\n",
       "      <td>Cluster 4</td>\n",
       "    </tr>\n",
       "    <tr>\n",
       "      <th>...</th>\n",
       "      <td>...</td>\n",
       "      <td>...</td>\n",
       "      <td>...</td>\n",
       "      <td>...</td>\n",
       "    </tr>\n",
       "    <tr>\n",
       "      <th>195</th>\n",
       "      <td>35</td>\n",
       "      <td>120</td>\n",
       "      <td>79</td>\n",
       "      <td>Cluster 2</td>\n",
       "    </tr>\n",
       "    <tr>\n",
       "      <th>196</th>\n",
       "      <td>45</td>\n",
       "      <td>126</td>\n",
       "      <td>28</td>\n",
       "      <td>Cluster 3</td>\n",
       "    </tr>\n",
       "    <tr>\n",
       "      <th>197</th>\n",
       "      <td>32</td>\n",
       "      <td>126</td>\n",
       "      <td>74</td>\n",
       "      <td>Cluster 2</td>\n",
       "    </tr>\n",
       "    <tr>\n",
       "      <th>198</th>\n",
       "      <td>32</td>\n",
       "      <td>137</td>\n",
       "      <td>18</td>\n",
       "      <td>Cluster 3</td>\n",
       "    </tr>\n",
       "    <tr>\n",
       "      <th>199</th>\n",
       "      <td>30</td>\n",
       "      <td>137</td>\n",
       "      <td>83</td>\n",
       "      <td>Cluster 2</td>\n",
       "    </tr>\n",
       "  </tbody>\n",
       "</table>\n",
       "<p>200 rows × 4 columns</p>\n",
       "</div>"
      ],
      "text/plain": [
       "     Age  Annual Income (k$)  Spending Score (1-100)    Cluster\n",
       "0     19                  15                      39  Cluster 4\n",
       "1     21                  15                      81  Cluster 5\n",
       "2     20                  16                       6  Cluster 4\n",
       "3     23                  16                      77  Cluster 5\n",
       "4     31                  17                      40  Cluster 4\n",
       "..   ...                 ...                     ...        ...\n",
       "195   35                 120                      79  Cluster 2\n",
       "196   45                 126                      28  Cluster 3\n",
       "197   32                 126                      74  Cluster 2\n",
       "198   32                 137                      18  Cluster 3\n",
       "199   30                 137                      83  Cluster 2\n",
       "\n",
       "[200 rows x 4 columns]"
      ]
     },
     "execution_count": 39,
     "metadata": {},
     "output_type": "execute_result"
    }
   ],
   "source": [
    "hclust_clusters = assign_model(hclust)\n",
    "hclust_clusters"
   ]
  },
  {
   "cell_type": "code",
   "execution_count": 40,
   "metadata": {},
   "outputs": [
    {
     "data": {
      "text/html": [],
      "text/plain": [
       "<IPython.core.display.HTML object>"
      ]
     },
     "metadata": {},
     "output_type": "display_data"
    },
    {
     "data": {
      "application/vnd.plotly.v1+json": {
       "config": {
        "plotlyServerURL": "https://plot.ly"
       },
       "data": [
        {
         "customdata": [
          [
           20
          ],
          [
           25
          ],
          [
           28
          ],
          [
           32
          ],
          [
           19
          ],
          [
           34
          ],
          [
           22
          ],
          [
           20
          ],
          [
           31
          ],
          [
           25
          ],
          [
           21
          ],
          [
           27
          ],
          [
           29
          ],
          [
           40
          ],
          [
           31
          ],
          [
           31
          ],
          [
           38
          ],
          [
           23
          ],
          [
           27
          ],
          [
           40
          ],
          [
           45
          ],
          [
           19
          ],
          [
           23
          ],
          [
           26
          ],
          [
           18
          ],
          [
           43
          ],
          [
           19
          ],
          [
           33
          ],
          [
           32
          ],
          [
           18
          ],
          [
           38
          ],
          [
           21
          ],
          [
           19
          ],
          [
           19
          ],
          [
           19
          ],
          [
           26
          ],
          [
           18
          ],
          [
           24
          ],
          [
           38
          ],
          [
           23
          ],
          [
           40
          ],
          [
           27
          ],
          [
           35
          ],
          [
           27
          ],
          [
           19
          ]
         ],
         "hovertemplate": "Cluster=Cluster 0<br>PCA1=%{x}<br>PCA2=%{y}<br>Feature=%{customdata[0]}<extra></extra>",
         "legendgroup": "Cluster 0",
         "marker": {
          "color": "#636efa",
          "opacity": 0.5,
          "symbol": "circle"
         },
         "mode": "markers",
         "name": "Cluster 0",
         "orientation": "v",
         "showlegend": true,
         "textposition": "top center",
         "type": "scatter",
         "x": [
          -0.9235031449745301,
          0.3150250179936218,
          -0.29869919274616297,
          -0.23650532183740525,
          0.07118735569944498,
          -0.5098513019682696,
          -0.9792761000514245,
          0.26079395226759733,
          -0.6545233280363274,
          -0.2789565783726988,
          -1.0793032099441036,
          -0.47531455320277666,
          -0.23684628171439623,
          0.33896624316376844,
          -0.13545683638342565,
          -0.4699451623969805,
          -0.16266139416789138,
          -0.840834938455723,
          -0.5959759006002459,
          0.13063840778345315,
          0.24703319495346893,
          -1.1111967428500553,
          -0.2396011020557455,
          -0.7435823009222315,
          -1.2752206219319824,
          0.23888933178848565,
          -1.2245258992664971,
          -0.5312172607096457,
          -0.12142306862307689,
          -0.8019003729631309,
          0.17541307638880674,
          -0.6827311134339278,
          0.19543484764005736,
          -0.89744971518134,
          -1.1149427892879396,
          -0.7856624481157681,
          -1.0048090160550458,
          -0.8011385022617786,
          0.22474546361600034,
          -0.5539259028714751,
          -0.17101496071021954,
          -0.5942228038023593,
          -0.4315809121765617,
          -0.7715487294080492,
          -1.0089458238525248
         ],
         "xaxis": "x",
         "y": [
          -0.022240320624568467,
          0.652832561843955,
          0.5801355672679374,
          -0.48897258988479636,
          0.5284122457972058,
          -0.1224623021458452,
          -0.17921229047658055,
          0.49978296621244994,
          -0.854789987071834,
          0.42994575034239085,
          -0.2986828860254903,
          -0.8047869024303484,
          -0.7931282186561611,
          -0.0039041660992018765,
          -0.7888019557721643,
          -0.6920252701577868,
          -0.25897668315544087,
          -0.2870242022513027,
          -0.5819038476408309,
          -0.24438503102517714,
          -0.24090179470537568,
          -0.6050748358889709,
          0.35670224451469484,
          -0.28346777628138375,
          -0.5368542402092319,
          -0.46957759655692816,
          -0.5346911087672335,
          -0.7346227442589639,
          -0.024142185991265504,
          -0.09108437391815023,
          0.14133593032850508,
          0.02831303198064189,
          0.8026184901060114,
          0.09437049621838255,
          0.04451379087713242,
          0.020064394876138186,
          0.1273992283372529,
          -0.05611207930763425,
          0.2586433944354164,
          0.03410577904267692,
          0.3128226059486167,
          -0.04668971662556271,
          -1.265510612390235,
          0.21138520172482353,
          0.12662939142317503
         ],
         "yaxis": "y"
        },
        {
         "customdata": [
          [
           49
          ],
          [
           57
          ],
          [
           47
          ],
          [
           49
          ],
          [
           50
          ],
          [
           59
          ],
          [
           60
          ],
          [
           63
          ],
          [
           51
          ],
          [
           46
          ],
          [
           65
          ],
          [
           66
          ],
          [
           68
          ],
          [
           54
          ],
          [
           66
          ],
          [
           48
          ],
          [
           55
          ],
          [
           49
          ],
          [
           67
          ],
          [
           50
          ],
          [
           49
          ],
          [
           68
          ],
          [
           48
          ],
          [
           48
          ],
          [
           67
          ],
          [
           60
          ],
          [
           67
          ],
          [
           70
          ],
          [
           56
          ],
          [
           47
          ],
          [
           48
          ],
          [
           65
          ],
          [
           50
          ],
          [
           49
          ],
          [
           59
          ],
          [
           50
          ],
          [
           43
          ],
          [
           51
          ],
          [
           47
          ],
          [
           63
          ],
          [
           54
          ],
          [
           70
          ],
          [
           68
          ],
          [
           69
          ],
          [
           53
          ]
         ],
         "hovertemplate": "Cluster=Cluster 1<br>PCA1=%{x}<br>PCA2=%{y}<br>Feature=%{customdata[0]}<extra></extra>",
         "legendgroup": "Cluster 1",
         "marker": {
          "color": "#EF553B",
          "opacity": 0.5,
          "symbol": "circle"
         },
         "mode": "markers",
         "name": "Cluster 1",
         "orientation": "v",
         "showlegend": true,
         "textposition": "top center",
         "type": "scatter",
         "x": [
          0.7513855031617119,
          0.910201397402255,
          0.5019189452017904,
          0.26515396902869254,
          0.36701412666662797,
          1.1212539036591531,
          0.9325389302223277,
          1.4135323300491973,
          0.8015295625728616,
          0.5444698047022922,
          1.2718459837873426,
          1.4322037673787564,
          1.6706720388671368,
          0.8786986258558983,
          1.3773722369157924,
          0.5910277195702986,
          0.6114024522151397,
          0.352900407958909,
          1.1831581202431958,
          0.6850849739202417,
          0.5722265298107653,
          1.3490150470703794,
          0.6878594462794289,
          0.49778213740431154,
          1.691306276371927,
          1.1244492868427018,
          1.4025641930424224,
          1.4687349698539185,
          1.2523327248090614,
          0.6591612965570256,
          0.823025273744212,
          1.7837401863539577,
          0.47133794625152636,
          0.49922442378997356,
          0.7850124808477119,
          0.7399964553305761,
          0.6079657121198092,
          0.6517793040933944,
          0.6975753482600485,
          1.2253680198667072,
          0.5516224417707408,
          1.4468183478582068,
          1.5610889288885788,
          1.6739473729980554,
          0.859165714859779
         ],
         "xaxis": "x",
         "y": [
          -0.2161179429789625,
          -0.21201124904531835,
          0.0009723647485200845,
          0.17832497708078432,
          0.2596707407127491,
          -0.201819049449169,
          -0.3653536032772938,
          0.23207256411737237,
          0.28236465064728133,
          -0.22554030566103403,
          0.14695080556513593,
          0.1549798737192869,
          0.16663855749347442,
          0.1319552647713822,
          0.15204690536321064,
          -0.22414701113311342,
          -0.11222840542474716,
          0.0683499338640637,
          0.10288684728592078,
          -0.0673214205813366,
          0.0800818072883688,
          -0.0034585803107632794,
          0.0485927489976542,
          0.0002025278344422183,
          -0.17571509284495282,
          -0.35508821403102686,
          -0.45872024222198743,
          -0.3803806365962166,
          0.7624101642849188,
          -0.41106836544768427,
          0.6673889647370034,
          -0.7812397613318409,
          -0.7667667526886902,
          -0.688280767762684,
          -0.6402564948500599,
          -0.6377274151574736,
          0.42929080020337923,
          -0.604771872688721,
          -0.6383508727713163,
          -0.427781451894998,
          -0.4971063402142339,
          -0.4962216165250897,
          -0.4125663421508915,
          -0.5599695700205969,
          -0.5183300092586817
         ],
         "yaxis": "y"
        },
        {
         "customdata": [
          [
           29
          ],
          [
           36
          ],
          [
           30
          ],
          [
           27
          ],
          [
           35
          ],
          [
           32
          ],
          [
           28
          ],
          [
           29
          ],
          [
           28
          ],
          [
           36
          ],
          [
           32
          ],
          [
           38
          ],
          [
           35
          ],
          [
           32
          ],
          [
           40
          ],
          [
           30
          ],
          [
           32
          ],
          [
           36
          ],
          [
           31
          ],
          [
           32
          ],
          [
           35
          ],
          [
           32
          ],
          [
           32
          ],
          [
           28
          ],
          [
           39
          ],
          [
           32
          ],
          [
           34
          ],
          [
           39
          ],
          [
           38
          ],
          [
           27
          ],
          [
           30
          ],
          [
           30
          ],
          [
           29
          ],
          [
           31
          ],
          [
           33
          ],
          [
           38
          ],
          [
           30
          ],
          [
           39
          ],
          [
           31
          ]
         ],
         "hovertemplate": "Cluster=Cluster 2<br>PCA1=%{x}<br>PCA2=%{y}<br>Feature=%{customdata[0]}<extra></extra>",
         "legendgroup": "Cluster 2",
         "marker": {
          "color": "#00cc96",
          "opacity": 0.5,
          "symbol": "circle"
         },
         "mode": "markers",
         "name": "Cluster 2",
         "orientation": "v",
         "showlegend": true,
         "textposition": "top center",
         "type": "scatter",
         "x": [
          -1.5584620579560449,
          -1.3389247286571722,
          -1.480431521006448,
          -1.1664476800677088,
          -1.3457862073312343,
          -1.3955395053827888,
          -1.278414501045859,
          -1.6042882515874657,
          -1.1121668128590803,
          -1.176343135960907,
          -0.9404697829191353,
          -1.2577787594713972,
          -1.0937050789068663,
          -1.1197087072174523,
          -1.1890643697655683,
          -1.802168463750575,
          -0.7466464276061339,
          -0.8691906242314639,
          -0.9891715559446228,
          -0.9951414114873586,
          -0.8174745260046778,
          -1.5471228116075126,
          -1.3844612679638773,
          -1.8632308586858952,
          -0.6914437878014128,
          -1.029889367699868,
          -1.3689852138178669,
          -1.060680070027477,
          -0.742138510466898,
          -1.6964325072447815,
          -1.2427749217020232,
          -1.1056960955446131,
          -1.4323815182701758,
          -1.608815820744539,
          -1.5714231446028168,
          -0.7823856099151779,
          -1.4880035648295864,
          -1.1264299360146117,
          -1.1500000518430016
         ],
         "xaxis": "x",
         "y": [
          0.3975329624132701,
          0.9405565926323368,
          0.9745015409655201,
          0.9929423776661728,
          1.1700754210480846,
          1.3219512911020221,
          0.9481817721229976,
          1.3506537603368955,
          1.4921948082064949,
          1.5608192925497242,
          1.5756305136303403,
          1.9375949695349421,
          2.215577208764018,
          2.4451692268298846,
          0.33481235519509567,
          1.3777433660934957,
          0.9744321080274488,
          0.8892371598250952,
          0.3886646244069702,
          0.4260196194098375,
          0.4721003298308159,
          0.47293959968296473,
          0.5198633366681386,
          0.5346708010367083,
          0.36197890731386,
          0.5770524628995793,
          0.5960398108519109,
          0.6097884364179793,
          0.35981577587186153,
          0.58236437493596,
          0.604985095220375,
          0.6123175161105657,
          0.6336143748051309,
          0.6995254597426362,
          0.8915429138552818,
          0.6252231151124387,
          2.84701775742994,
          0.2622654966313598,
          0.3036160555048514
         ],
         "yaxis": "y"
        },
        {
         "customdata": [
          [
           42
          ],
          [
           36
          ],
          [
           40
          ],
          [
           34
          ],
          [
           37
          ],
          [
           36
          ],
          [
           47
          ],
          [
           52
          ],
          [
           44
          ],
          [
           43
          ],
          [
           58
          ],
          [
           34
          ],
          [
           59
          ],
          [
           46
          ],
          [
           37
          ],
          [
           41
          ],
          [
           59
          ],
          [
           32
          ],
          [
           47
          ],
          [
           45
          ],
          [
           47
          ],
          [
           44
          ],
          [
           33
          ],
          [
           34
          ],
          [
           41
          ],
          [
           57
          ],
          [
           54
          ],
          [
           50
          ]
         ],
         "hovertemplate": "Cluster=Cluster 3<br>PCA1=%{x}<br>PCA2=%{y}<br>Feature=%{customdata[0]}<extra></extra>",
         "legendgroup": "Cluster 3",
         "marker": {
          "color": "#ab63fa",
          "opacity": 0.5,
          "symbol": "circle"
         },
         "mode": "markers",
         "name": "Cluster 3",
         "orientation": "v",
         "showlegend": true,
         "textposition": "top center",
         "type": "scatter",
         "x": [
          0.9410117517477018,
          0.44310001138915966,
          1.0296996152918487,
          1.0710178917840334,
          1.2231020597804894,
          0.9091680203243541,
          1.3188128079631105,
          1.636203239532414,
          1.057065579040727,
          1.0886181520696878,
          1.885540045062361,
          0.49528682192291085,
          1.9544852942330437,
          1.2588728956239708,
          0.3383854304446667,
          0.3455878689957194,
          2.0770596403231405,
          0.39541062054771614,
          1.5235544988002825,
          0.8004478880820283,
          1.2418248026623238,
          1.4226357657762776,
          0.7642561414141853,
          0.4220448630600083,
          0.9414025131072967,
          2.132832595400035,
          1.4121896466287436,
          1.183907989427948
         ],
         "xaxis": "x",
         "y": [
          1.020997410186128,
          1.0358780642048158,
          1.0650613684653434,
          0.7265569026973053,
          0.7330462970233007,
          1.0608082952314644,
          0.7326803487727126,
          1.1291437776862694,
          0.7203250177345649,
          0.7225613388266809,
          1.1391895979821836,
          0.6957607349585044,
          1.333443373186945,
          1.4944803398476527,
          1.4119570939260737,
          1.4865938942816903,
          0.4990965235482693,
          2.946665491886416,
          0.4760719146003645,
          2.5407482077656187,
          2.333923289284403,
          0.5487651524643355,
          2.0484974991021154,
          1.6474150487040915,
          1.6713558738663092,
          0.6560684934002814,
          1.6129615295321318,
          0.9913787247369417
         ],
         "yaxis": "y"
        },
        {
         "customdata": [
          [
           31
          ],
          [
           64
          ],
          [
           20
          ],
          [
           37
          ],
          [
           35
          ],
          [
           67
          ],
          [
           35
          ],
          [
           58
          ],
          [
           52
          ],
          [
           53
          ],
          [
           49
          ],
          [
           48
          ],
          [
           36
          ],
          [
           42
          ],
          [
           49
          ],
          [
           60
          ],
          [
           40
          ],
          [
           45
          ],
          [
           19
          ],
          [
           46
          ],
          [
           54
          ],
          [
           35
          ]
         ],
         "hovertemplate": "Cluster=Cluster 4<br>PCA1=%{x}<br>PCA2=%{y}<br>Feature=%{customdata[0]}<extra></extra>",
         "legendgroup": "Cluster 4",
         "marker": {
          "color": "#FFA15A",
          "opacity": 0.5,
          "symbol": "circle"
         },
         "mode": "markers",
         "name": "Cluster 4",
         "orientation": "v",
         "showlegend": true,
         "textposition": "top center",
         "type": "scatter",
         "x": [
          -0.038465207779554686,
          2.6451778582557774,
          0.33786190851575393,
          1.0004296462276003,
          1.0946166530075179,
          2.495688608705931,
          0.2940603180587688,
          2.010187291739825,
          1.316699099270395,
          2.034457475270363,
          1.1627019325813128,
          0.8926810880639712,
          0.562168163883483,
          1.118577530195503,
          1.5575209322936021,
          2.3948196771645294,
          0.6425326103500683,
          0.8704235061912688,
          -0.615720019043383,
          1.6668430333425392,
          1.820159784347312,
          0.2885611748229984
         ],
         "xaxis": "x",
         "y": [
          -1.6627401215058237,
          -1.4608472054985744,
          -1.674798937231454,
          -1.495791764295968,
          -1.5661023017675877,
          -1.4704891371309985,
          -1.4942558471798586,
          -1.4532989723700773,
          -1.3724340437637665,
          -0.952360488701365,
          -0.7674596432406039,
          -0.7813546481069072,
          -0.8688970474643971,
          -0.9570943969608984,
          -0.9756778562497398,
          -1.051593064358211,
          -1.1725755979221542,
          -1.201351256807145,
          -1.7634808784656566,
          -1.2739675483089519,
          -1.155486358624473,
          -1.379881351429024
         ],
         "yaxis": "y"
        },
        {
         "customdata": [
          [
           21
          ],
          [
           24
          ],
          [
           25
          ],
          [
           23
          ],
          [
           24
          ],
          [
           20
          ],
          [
           22
          ],
          [
           22
          ],
          [
           30
          ],
          [
           24
          ],
          [
           21
          ],
          [
           23
          ],
          [
           31
          ],
          [
           18
          ],
          [
           20
          ],
          [
           30
          ],
          [
           21
          ],
          [
           23
          ],
          [
           35
          ],
          [
           29
          ],
          [
           35
          ]
         ],
         "hovertemplate": "Cluster=Cluster 5<br>PCA1=%{x}<br>PCA2=%{y}<br>Feature=%{customdata[0]}<extra></extra>",
         "legendgroup": "Cluster 5",
         "marker": {
          "color": "#19d3f3",
          "opacity": 0.5,
          "symbol": "circle"
         },
         "mode": "markers",
         "name": "Cluster 5",
         "orientation": "v",
         "showlegend": true,
         "textposition": "top center",
         "type": "scatter",
         "x": [
          -1.6657927134346566,
          -1.1190494476206518,
          -1.2601851306281702,
          -1.4565732549230146,
          -1.8574420611254097,
          -1.592319895106899,
          -1.5694316990324908,
          -1.481685260102274,
          -1.0250419947533127,
          -1.4132107232385562,
          -1.6987875728492792,
          -1.9263073593487223,
          -0.9578498423805162,
          -2.152445158392037,
          -1.3162492440994515,
          -0.9701305133429786,
          -1.4739623077616522,
          -1.7545605279261733,
          -1.4568825612655676,
          -1.3114803180305958,
          -1.436798987015113
         ],
         "xaxis": "x",
         "y": [
          -1.8207469510592622,
          -0.8757978438779754,
          -1.4572390646144573,
          -1.7724299195461672,
          -0.9535177486019504,
          -0.9753648752602407,
          -1.6250266916764615,
          -1.735001734893182,
          -1.065175088235015,
          -1.6177674604363883,
          -1.1344999765542507,
          -1.7211104867389255,
          -1.406135444045522,
          -1.1571206968386656,
          -1.5721638283290176,
          -1.635581082811152,
          -1.2371425988807807,
          -1.2914719464062634,
          -1.6643604984081901,
          -1.3092855687810265,
          -1.5103946865623716
         ],
         "yaxis": "y"
        }
       ],
       "layout": {
        "height": 600,
        "legend": {
         "title": {
          "text": "Cluster"
         },
         "tracegroupgap": 0
        },
        "margin": {
         "t": 60
        },
        "plot_bgcolor": "rgb(240,240,240)",
        "template": {
         "data": {
          "bar": [
           {
            "error_x": {
             "color": "#2a3f5f"
            },
            "error_y": {
             "color": "#2a3f5f"
            },
            "marker": {
             "line": {
              "color": "#E5ECF6",
              "width": 0.5
             },
             "pattern": {
              "fillmode": "overlay",
              "size": 10,
              "solidity": 0.2
             }
            },
            "type": "bar"
           }
          ],
          "barpolar": [
           {
            "marker": {
             "line": {
              "color": "#E5ECF6",
              "width": 0.5
             },
             "pattern": {
              "fillmode": "overlay",
              "size": 10,
              "solidity": 0.2
             }
            },
            "type": "barpolar"
           }
          ],
          "carpet": [
           {
            "aaxis": {
             "endlinecolor": "#2a3f5f",
             "gridcolor": "white",
             "linecolor": "white",
             "minorgridcolor": "white",
             "startlinecolor": "#2a3f5f"
            },
            "baxis": {
             "endlinecolor": "#2a3f5f",
             "gridcolor": "white",
             "linecolor": "white",
             "minorgridcolor": "white",
             "startlinecolor": "#2a3f5f"
            },
            "type": "carpet"
           }
          ],
          "choropleth": [
           {
            "colorbar": {
             "outlinewidth": 0,
             "ticks": ""
            },
            "type": "choropleth"
           }
          ],
          "contour": [
           {
            "colorbar": {
             "outlinewidth": 0,
             "ticks": ""
            },
            "colorscale": [
             [
              0,
              "#0d0887"
             ],
             [
              0.1111111111111111,
              "#46039f"
             ],
             [
              0.2222222222222222,
              "#7201a8"
             ],
             [
              0.3333333333333333,
              "#9c179e"
             ],
             [
              0.4444444444444444,
              "#bd3786"
             ],
             [
              0.5555555555555556,
              "#d8576b"
             ],
             [
              0.6666666666666666,
              "#ed7953"
             ],
             [
              0.7777777777777778,
              "#fb9f3a"
             ],
             [
              0.8888888888888888,
              "#fdca26"
             ],
             [
              1,
              "#f0f921"
             ]
            ],
            "type": "contour"
           }
          ],
          "contourcarpet": [
           {
            "colorbar": {
             "outlinewidth": 0,
             "ticks": ""
            },
            "type": "contourcarpet"
           }
          ],
          "heatmap": [
           {
            "colorbar": {
             "outlinewidth": 0,
             "ticks": ""
            },
            "colorscale": [
             [
              0,
              "#0d0887"
             ],
             [
              0.1111111111111111,
              "#46039f"
             ],
             [
              0.2222222222222222,
              "#7201a8"
             ],
             [
              0.3333333333333333,
              "#9c179e"
             ],
             [
              0.4444444444444444,
              "#bd3786"
             ],
             [
              0.5555555555555556,
              "#d8576b"
             ],
             [
              0.6666666666666666,
              "#ed7953"
             ],
             [
              0.7777777777777778,
              "#fb9f3a"
             ],
             [
              0.8888888888888888,
              "#fdca26"
             ],
             [
              1,
              "#f0f921"
             ]
            ],
            "type": "heatmap"
           }
          ],
          "heatmapgl": [
           {
            "colorbar": {
             "outlinewidth": 0,
             "ticks": ""
            },
            "colorscale": [
             [
              0,
              "#0d0887"
             ],
             [
              0.1111111111111111,
              "#46039f"
             ],
             [
              0.2222222222222222,
              "#7201a8"
             ],
             [
              0.3333333333333333,
              "#9c179e"
             ],
             [
              0.4444444444444444,
              "#bd3786"
             ],
             [
              0.5555555555555556,
              "#d8576b"
             ],
             [
              0.6666666666666666,
              "#ed7953"
             ],
             [
              0.7777777777777778,
              "#fb9f3a"
             ],
             [
              0.8888888888888888,
              "#fdca26"
             ],
             [
              1,
              "#f0f921"
             ]
            ],
            "type": "heatmapgl"
           }
          ],
          "histogram": [
           {
            "marker": {
             "pattern": {
              "fillmode": "overlay",
              "size": 10,
              "solidity": 0.2
             }
            },
            "type": "histogram"
           }
          ],
          "histogram2d": [
           {
            "colorbar": {
             "outlinewidth": 0,
             "ticks": ""
            },
            "colorscale": [
             [
              0,
              "#0d0887"
             ],
             [
              0.1111111111111111,
              "#46039f"
             ],
             [
              0.2222222222222222,
              "#7201a8"
             ],
             [
              0.3333333333333333,
              "#9c179e"
             ],
             [
              0.4444444444444444,
              "#bd3786"
             ],
             [
              0.5555555555555556,
              "#d8576b"
             ],
             [
              0.6666666666666666,
              "#ed7953"
             ],
             [
              0.7777777777777778,
              "#fb9f3a"
             ],
             [
              0.8888888888888888,
              "#fdca26"
             ],
             [
              1,
              "#f0f921"
             ]
            ],
            "type": "histogram2d"
           }
          ],
          "histogram2dcontour": [
           {
            "colorbar": {
             "outlinewidth": 0,
             "ticks": ""
            },
            "colorscale": [
             [
              0,
              "#0d0887"
             ],
             [
              0.1111111111111111,
              "#46039f"
             ],
             [
              0.2222222222222222,
              "#7201a8"
             ],
             [
              0.3333333333333333,
              "#9c179e"
             ],
             [
              0.4444444444444444,
              "#bd3786"
             ],
             [
              0.5555555555555556,
              "#d8576b"
             ],
             [
              0.6666666666666666,
              "#ed7953"
             ],
             [
              0.7777777777777778,
              "#fb9f3a"
             ],
             [
              0.8888888888888888,
              "#fdca26"
             ],
             [
              1,
              "#f0f921"
             ]
            ],
            "type": "histogram2dcontour"
           }
          ],
          "mesh3d": [
           {
            "colorbar": {
             "outlinewidth": 0,
             "ticks": ""
            },
            "type": "mesh3d"
           }
          ],
          "parcoords": [
           {
            "line": {
             "colorbar": {
              "outlinewidth": 0,
              "ticks": ""
             }
            },
            "type": "parcoords"
           }
          ],
          "pie": [
           {
            "automargin": true,
            "type": "pie"
           }
          ],
          "scatter": [
           {
            "fillpattern": {
             "fillmode": "overlay",
             "size": 10,
             "solidity": 0.2
            },
            "type": "scatter"
           }
          ],
          "scatter3d": [
           {
            "line": {
             "colorbar": {
              "outlinewidth": 0,
              "ticks": ""
             }
            },
            "marker": {
             "colorbar": {
              "outlinewidth": 0,
              "ticks": ""
             }
            },
            "type": "scatter3d"
           }
          ],
          "scattercarpet": [
           {
            "marker": {
             "colorbar": {
              "outlinewidth": 0,
              "ticks": ""
             }
            },
            "type": "scattercarpet"
           }
          ],
          "scattergeo": [
           {
            "marker": {
             "colorbar": {
              "outlinewidth": 0,
              "ticks": ""
             }
            },
            "type": "scattergeo"
           }
          ],
          "scattergl": [
           {
            "marker": {
             "colorbar": {
              "outlinewidth": 0,
              "ticks": ""
             }
            },
            "type": "scattergl"
           }
          ],
          "scattermapbox": [
           {
            "marker": {
             "colorbar": {
              "outlinewidth": 0,
              "ticks": ""
             }
            },
            "type": "scattermapbox"
           }
          ],
          "scatterpolar": [
           {
            "marker": {
             "colorbar": {
              "outlinewidth": 0,
              "ticks": ""
             }
            },
            "type": "scatterpolar"
           }
          ],
          "scatterpolargl": [
           {
            "marker": {
             "colorbar": {
              "outlinewidth": 0,
              "ticks": ""
             }
            },
            "type": "scatterpolargl"
           }
          ],
          "scatterternary": [
           {
            "marker": {
             "colorbar": {
              "outlinewidth": 0,
              "ticks": ""
             }
            },
            "type": "scatterternary"
           }
          ],
          "surface": [
           {
            "colorbar": {
             "outlinewidth": 0,
             "ticks": ""
            },
            "colorscale": [
             [
              0,
              "#0d0887"
             ],
             [
              0.1111111111111111,
              "#46039f"
             ],
             [
              0.2222222222222222,
              "#7201a8"
             ],
             [
              0.3333333333333333,
              "#9c179e"
             ],
             [
              0.4444444444444444,
              "#bd3786"
             ],
             [
              0.5555555555555556,
              "#d8576b"
             ],
             [
              0.6666666666666666,
              "#ed7953"
             ],
             [
              0.7777777777777778,
              "#fb9f3a"
             ],
             [
              0.8888888888888888,
              "#fdca26"
             ],
             [
              1,
              "#f0f921"
             ]
            ],
            "type": "surface"
           }
          ],
          "table": [
           {
            "cells": {
             "fill": {
              "color": "#EBF0F8"
             },
             "line": {
              "color": "white"
             }
            },
            "header": {
             "fill": {
              "color": "#C8D4E3"
             },
             "line": {
              "color": "white"
             }
            },
            "type": "table"
           }
          ]
         },
         "layout": {
          "annotationdefaults": {
           "arrowcolor": "#2a3f5f",
           "arrowhead": 0,
           "arrowwidth": 1
          },
          "autotypenumbers": "strict",
          "coloraxis": {
           "colorbar": {
            "outlinewidth": 0,
            "ticks": ""
           }
          },
          "colorscale": {
           "diverging": [
            [
             0,
             "#8e0152"
            ],
            [
             0.1,
             "#c51b7d"
            ],
            [
             0.2,
             "#de77ae"
            ],
            [
             0.3,
             "#f1b6da"
            ],
            [
             0.4,
             "#fde0ef"
            ],
            [
             0.5,
             "#f7f7f7"
            ],
            [
             0.6,
             "#e6f5d0"
            ],
            [
             0.7,
             "#b8e186"
            ],
            [
             0.8,
             "#7fbc41"
            ],
            [
             0.9,
             "#4d9221"
            ],
            [
             1,
             "#276419"
            ]
           ],
           "sequential": [
            [
             0,
             "#0d0887"
            ],
            [
             0.1111111111111111,
             "#46039f"
            ],
            [
             0.2222222222222222,
             "#7201a8"
            ],
            [
             0.3333333333333333,
             "#9c179e"
            ],
            [
             0.4444444444444444,
             "#bd3786"
            ],
            [
             0.5555555555555556,
             "#d8576b"
            ],
            [
             0.6666666666666666,
             "#ed7953"
            ],
            [
             0.7777777777777778,
             "#fb9f3a"
            ],
            [
             0.8888888888888888,
             "#fdca26"
            ],
            [
             1,
             "#f0f921"
            ]
           ],
           "sequentialminus": [
            [
             0,
             "#0d0887"
            ],
            [
             0.1111111111111111,
             "#46039f"
            ],
            [
             0.2222222222222222,
             "#7201a8"
            ],
            [
             0.3333333333333333,
             "#9c179e"
            ],
            [
             0.4444444444444444,
             "#bd3786"
            ],
            [
             0.5555555555555556,
             "#d8576b"
            ],
            [
             0.6666666666666666,
             "#ed7953"
            ],
            [
             0.7777777777777778,
             "#fb9f3a"
            ],
            [
             0.8888888888888888,
             "#fdca26"
            ],
            [
             1,
             "#f0f921"
            ]
           ]
          },
          "colorway": [
           "#636efa",
           "#EF553B",
           "#00cc96",
           "#ab63fa",
           "#FFA15A",
           "#19d3f3",
           "#FF6692",
           "#B6E880",
           "#FF97FF",
           "#FECB52"
          ],
          "font": {
           "color": "#2a3f5f"
          },
          "geo": {
           "bgcolor": "white",
           "lakecolor": "white",
           "landcolor": "#E5ECF6",
           "showlakes": true,
           "showland": true,
           "subunitcolor": "white"
          },
          "hoverlabel": {
           "align": "left"
          },
          "hovermode": "closest",
          "mapbox": {
           "style": "light"
          },
          "paper_bgcolor": "white",
          "plot_bgcolor": "#E5ECF6",
          "polar": {
           "angularaxis": {
            "gridcolor": "white",
            "linecolor": "white",
            "ticks": ""
           },
           "bgcolor": "#E5ECF6",
           "radialaxis": {
            "gridcolor": "white",
            "linecolor": "white",
            "ticks": ""
           }
          },
          "scene": {
           "xaxis": {
            "backgroundcolor": "#E5ECF6",
            "gridcolor": "white",
            "gridwidth": 2,
            "linecolor": "white",
            "showbackground": true,
            "ticks": "",
            "zerolinecolor": "white"
           },
           "yaxis": {
            "backgroundcolor": "#E5ECF6",
            "gridcolor": "white",
            "gridwidth": 2,
            "linecolor": "white",
            "showbackground": true,
            "ticks": "",
            "zerolinecolor": "white"
           },
           "zaxis": {
            "backgroundcolor": "#E5ECF6",
            "gridcolor": "white",
            "gridwidth": 2,
            "linecolor": "white",
            "showbackground": true,
            "ticks": "",
            "zerolinecolor": "white"
           }
          },
          "shapedefaults": {
           "line": {
            "color": "#2a3f5f"
           }
          },
          "ternary": {
           "aaxis": {
            "gridcolor": "white",
            "linecolor": "white",
            "ticks": ""
           },
           "baxis": {
            "gridcolor": "white",
            "linecolor": "white",
            "ticks": ""
           },
           "bgcolor": "#E5ECF6",
           "caxis": {
            "gridcolor": "white",
            "linecolor": "white",
            "ticks": ""
           }
          },
          "title": {
           "x": 0.05
          },
          "xaxis": {
           "automargin": true,
           "gridcolor": "white",
           "linecolor": "white",
           "ticks": "",
           "title": {
            "standoff": 15
           },
           "zerolinecolor": "white",
           "zerolinewidth": 2
          },
          "yaxis": {
           "automargin": true,
           "gridcolor": "white",
           "linecolor": "white",
           "ticks": "",
           "title": {
            "standoff": 15
           },
           "zerolinecolor": "white",
           "zerolinewidth": 2
          }
         }
        },
        "title": {
         "text": "2D Cluster PCA Plot"
        },
        "xaxis": {
         "anchor": "y",
         "domain": [
          0,
          1
         ],
         "title": {
          "text": "PCA1"
         }
        },
        "yaxis": {
         "anchor": "x",
         "domain": [
          0,
          1
         ],
         "title": {
          "text": "PCA2"
         }
        }
       }
      }
     },
     "metadata": {},
     "output_type": "display_data"
    }
   ],
   "source": [
    "exp.plot_model(hclust, plot='cluster')"
   ]
  },
  {
   "cell_type": "code",
   "execution_count": 41,
   "metadata": {},
   "outputs": [
    {
     "data": {
      "text/html": [],
      "text/plain": [
       "<IPython.core.display.HTML object>"
      ]
     },
     "metadata": {},
     "output_type": "display_data"
    },
    {
     "data": {
      "image/png": "[encoded data removed]",
      "text/plain": [
       "<Figure size 800x550 with 1 Axes>"
      ]
     },
     "metadata": {},
     "output_type": "display_data"
    }
   ],
   "source": [
    "exp.plot_model(hclust, plot='elbow')"
   ]
  },
  {
   "cell_type": "code",
   "execution_count": 42,
   "metadata": {},
   "outputs": [
    {
     "data": {
      "text/html": [],
      "text/plain": [
       "<IPython.core.display.HTML object>"
      ]
     },
     "metadata": {},
     "output_type": "display_data"
    },
    {
     "data": {
      "application/vnd.plotly.v1+json": {
       "config": {
        "plotlyServerURL": "https://plot.ly"
       },
       "data": [
        {
         "alignmentgroup": "True",
         "bingroup": "x",
         "hovertemplate": "Cluster=%{x}<br>count=%{y}<extra></extra>",
         "legendgroup": "Cluster 0",
         "marker": {
          "color": "#636efa",
          "opacity": 0.7,
          "pattern": {
           "shape": ""
          }
         },
         "name": "Cluster 0",
         "offsetgroup": "Cluster 0",
         "orientation": "v",
         "showlegend": true,
         "type": "histogram",
         "x": [
          "Cluster 0",
          "Cluster 0",
          "Cluster 0",
          "Cluster 0",
          "Cluster 0",
          "Cluster 0",
          "Cluster 0",
          "Cluster 0",
          "Cluster 0",
          "Cluster 0",
          "Cluster 0",
          "Cluster 0",
          "Cluster 0",
          "Cluster 0",
          "Cluster 0",
          "Cluster 0",
          "Cluster 0",
          "Cluster 0",
          "Cluster 0",
          "Cluster 0",
          "Cluster 0",
          "Cluster 0",
          "Cluster 0",
          "Cluster 0",
          "Cluster 0",
          "Cluster 0",
          "Cluster 0",
          "Cluster 0",
          "Cluster 0",
          "Cluster 0",
          "Cluster 0",
          "Cluster 0",
          "Cluster 0",
          "Cluster 0",
          "Cluster 0",
          "Cluster 0",
          "Cluster 0",
          "Cluster 0",
          "Cluster 0",
          "Cluster 0",
          "Cluster 0",
          "Cluster 0",
          "Cluster 0",
          "Cluster 0",
          "Cluster 0"
         ],
         "xaxis": "x",
         "yaxis": "y"
        },
        {
         "alignmentgroup": "True",
         "customdata": [
          [
           20,
           61,
           49
          ],
          [
           25,
           77,
           12
          ],
          [
           28,
           76,
           40
          ],
          [
           32,
           48,
           47
          ],
          [
           19,
           74,
           10
          ],
          [
           34,
           58,
           60
          ],
          [
           22,
           57,
           55
          ],
          [
           20,
           73,
           5
          ],
          [
           31,
           39,
           61
          ],
          [
           25,
           72,
           34
          ],
          [
           21,
           54,
           57
          ],
          [
           27,
           40,
           47
          ],
          [
           29,
           40,
           42
          ],
          [
           40,
           60,
           40
          ],
          [
           31,
           40,
           42
          ],
          [
           31,
           43,
           54
          ],
          [
           38,
           54,
           55
          ],
          [
           23,
           54,
           52
          ],
          [
           27,
           46,
           51
          ],
          [
           40,
           54,
           48
          ],
          [
           45,
           54,
           53
          ],
          [
           19,
           46,
           55
          ],
          [
           23,
           70,
           29
          ],
          [
           26,
           54,
           54
          ],
          [
           18,
           48,
           59
          ],
          [
           43,
           48,
           50
          ],
          [
           19,
           48,
           59
          ],
          [
           33,
           42,
           60
          ],
          [
           32,
           60,
           42
          ],
          [
           18,
           59,
           41
          ],
          [
           38,
           64,
           42
          ],
          [
           21,
           62,
           42
          ],
          [
           19,
           81,
           5
          ],
          [
           19,
           64,
           46
          ],
          [
           19,
           63,
           54
          ],
          [
           26,
           62,
           55
          ],
          [
           18,
           65,
           48
          ],
          [
           24,
           60,
           52
          ],
          [
           38,
           67,
           40
          ],
          [
           23,
           62,
           41
          ],
          [
           40,
           69,
           58
          ],
          [
           27,
           60,
           50
          ],
          [
           35,
           28,
           61
          ],
          [
           27,
           67,
           56
          ],
          [
           19,
           65,
           50
          ]
         ],
         "hovertemplate": "Cluster=%{x}<br>Age=%{customdata[0]}<br>Annual Income (k$)=%{customdata[1]}<br>Spending Score (1-100)=%{customdata[2]}<extra></extra>",
         "legendgroup": "Cluster 0",
         "marker": {
          "color": "#636efa"
         },
         "name": "Cluster 0",
         "notched": true,
         "offsetgroup": "Cluster 0",
         "showlegend": false,
         "type": "box",
         "x": [
          "Cluster 0",
          "Cluster 0",
          "Cluster 0",
          "Cluster 0",
          "Cluster 0",
          "Cluster 0",
          "Cluster 0",
          "Cluster 0",
          "Cluster 0",
          "Cluster 0",
          "Cluster 0",
          "Cluster 0",
          "Cluster 0",
          "Cluster 0",
          "Cluster 0",
          "Cluster 0",
          "Cluster 0",
          "Cluster 0",
          "Cluster 0",
          "Cluster 0",
          "Cluster 0",
          "Cluster 0",
          "Cluster 0",
          "Cluster 0",
          "Cluster 0",
          "Cluster 0",
          "Cluster 0",
          "Cluster 0",
          "Cluster 0",
          "Cluster 0",
          "Cluster 0",
          "Cluster 0",
          "Cluster 0",
          "Cluster 0",
          "Cluster 0",
          "Cluster 0",
          "Cluster 0",
          "Cluster 0",
          "Cluster 0",
          "Cluster 0",
          "Cluster 0",
          "Cluster 0",
          "Cluster 0",
          "Cluster 0",
          "Cluster 0"
         ],
         "xaxis": "x2",
         "yaxis": "y2"
        },
        {
         "alignmentgroup": "True",
         "bingroup": "x",
         "hovertemplate": "Cluster=%{x}<br>count=%{y}<extra></extra>",
         "legendgroup": "Cluster 1",
         "marker": {
          "color": "#EF553B",
          "opacity": 0.7,
          "pattern": {
           "shape": ""
          }
         },
         "name": "Cluster 1",
         "offsetgroup": "Cluster 1",
         "orientation": "v",
         "showlegend": true,
         "type": "histogram",
         "x": [
          "Cluster 1",
          "Cluster 1",
          "Cluster 1",
          "Cluster 1",
          "Cluster 1",
          "Cluster 1",
          "Cluster 1",
          "Cluster 1",
          "Cluster 1",
          "Cluster 1",
          "Cluster 1",
          "Cluster 1",
          "Cluster 1",
          "Cluster 1",
          "Cluster 1",
          "Cluster 1",
          "Cluster 1",
          "Cluster 1",
          "Cluster 1",
          "Cluster 1",
          "Cluster 1",
          "Cluster 1",
          "Cluster 1",
          "Cluster 1",
          "Cluster 1",
          "Cluster 1",
          "Cluster 1",
          "Cluster 1",
          "Cluster 1",
          "Cluster 1",
          "Cluster 1",
          "Cluster 1",
          "Cluster 1",
          "Cluster 1",
          "Cluster 1",
          "Cluster 1",
          "Cluster 1",
          "Cluster 1",
          "Cluster 1",
          "Cluster 1",
          "Cluster 1",
          "Cluster 1",
          "Cluster 1",
          "Cluster 1",
          "Cluster 1"
         ],
         "xaxis": "x",
         "yaxis": "y"
        },
        {
         "alignmentgroup": "True",
         "customdata": [
          [
           49,
           54,
           42
          ],
          [
           57,
           54,
           51
          ],
          [
           47,
           60,
           47
          ],
          [
           49,
           65,
           59
          ],
          [
           50,
           67,
           57
          ],
          [
           59,
           54,
           47
          ],
          [
           60,
           50,
           56
          ],
          [
           63,
           65,
           43
          ],
          [
           51,
           67,
           43
          ],
          [
           46,
           54,
           44
          ],
          [
           65,
           63,
           52
          ],
          [
           66,
           63,
           48
          ],
          [
           68,
           63,
           43
          ],
          [
           54,
           63,
           46
          ],
          [
           66,
           63,
           50
          ],
          [
           48,
           54,
           46
          ],
          [
           55,
           57,
           58
          ],
          [
           49,
           62,
           56
          ],
          [
           67,
           62,
           59
          ],
          [
           50,
           58,
           46
          ],
          [
           49,
           62,
           48
          ],
          [
           68,
           59,
           55
          ],
          [
           48,
           61,
           42
          ],
          [
           48,
           60,
           49
          ],
          [
           67,
           54,
           41
          ],
          [
           60,
           50,
           49
          ],
          [
           67,
           47,
           52
          ],
          [
           70,
           49,
           55
          ],
          [
           56,
           79,
           35
          ],
          [
           47,
           49,
           42
          ],
          [
           48,
           77,
           36
          ],
          [
           65,
           38,
           35
          ],
          [
           50,
           40,
           55
          ],
          [
           49,
           42,
           52
          ],
          [
           59,
           43,
           60
          ],
          [
           50,
           43,
           45
          ],
          [
           43,
           71,
           35
          ],
          [
           51,
           44,
           50
          ],
          [
           47,
           43,
           41
          ],
          [
           63,
           48,
           51
          ],
          [
           54,
           47,
           59
          ],
          [
           70,
           46,
           56
          ],
          [
           68,
           48,
           48
          ],
          [
           69,
           44,
           46
          ],
          [
           53,
           46,
           46
          ]
         ],
         "hovertemplate": "Cluster=%{x}<br>Age=%{customdata[0]}<br>Annual Income (k$)=%{customdata[1]}<br>Spending Score (1-100)=%{customdata[2]}<extra></extra>",
         "legendgroup": "Cluster 1",
         "marker": {
          "color": "#EF553B"
         },
         "name": "Cluster 1",
         "notched": true,
         "offsetgroup": "Cluster 1",
         "showlegend": false,
         "type": "box",
         "x": [
          "Cluster 1",
          "Cluster 1",
          "Cluster 1",
          "Cluster 1",
          "Cluster 1",
          "Cluster 1",
          "Cluster 1",
          "Cluster 1",
          "Cluster 1",
          "Cluster 1",
          "Cluster 1",
          "Cluster 1",
          "Cluster 1",
          "Cluster 1",
          "Cluster 1",
          "Cluster 1",
          "Cluster 1",
          "Cluster 1",
          "Cluster 1",
          "Cluster 1",
          "Cluster 1",
          "Cluster 1",
          "Cluster 1",
          "Cluster 1",
          "Cluster 1",
          "Cluster 1",
          "Cluster 1",
          "Cluster 1",
          "Cluster 1",
          "Cluster 1",
          "Cluster 1",
          "Cluster 1",
          "Cluster 1",
          "Cluster 1",
          "Cluster 1",
          "Cluster 1",
          "Cluster 1",
          "Cluster 1",
          "Cluster 1",
          "Cluster 1",
          "Cluster 1",
          "Cluster 1",
          "Cluster 1",
          "Cluster 1",
          "Cluster 1"
         ],
         "xaxis": "x2",
         "yaxis": "y2"
        },
        {
         "alignmentgroup": "True",
         "bingroup": "x",
         "hovertemplate": "Cluster=%{x}<br>count=%{y}<extra></extra>",
         "legendgroup": "Cluster 2",
         "marker": {
          "color": "#00cc96",
          "opacity": 0.7,
          "pattern": {
           "shape": ""
          }
         },
         "name": "Cluster 2",
         "offsetgroup": "Cluster 2",
         "orientation": "v",
         "showlegend": true,
         "type": "histogram",
         "x": [
          "Cluster 2",
          "Cluster 2",
          "Cluster 2",
          "Cluster 2",
          "Cluster 2",
          "Cluster 2",
          "Cluster 2",
          "Cluster 2",
          "Cluster 2",
          "Cluster 2",
          "Cluster 2",
          "Cluster 2",
          "Cluster 2",
          "Cluster 2",
          "Cluster 2",
          "Cluster 2",
          "Cluster 2",
          "Cluster 2",
          "Cluster 2",
          "Cluster 2",
          "Cluster 2",
          "Cluster 2",
          "Cluster 2",
          "Cluster 2",
          "Cluster 2",
          "Cluster 2",
          "Cluster 2",
          "Cluster 2",
          "Cluster 2",
          "Cluster 2",
          "Cluster 2",
          "Cluster 2",
          "Cluster 2",
          "Cluster 2",
          "Cluster 2",
          "Cluster 2",
          "Cluster 2",
          "Cluster 2",
          "Cluster 2"
         ],
         "xaxis": "x",
         "yaxis": "y"
        },
        {
         "alignmentgroup": "True",
         "customdata": [
          [
           29,
           73,
           88
          ],
          [
           36,
           87,
           92
          ],
          [
           30,
           88,
           86
          ],
          [
           27,
           88,
           69
          ],
          [
           35,
           93,
           90
          ],
          [
           32,
           97,
           86
          ],
          [
           28,
           87,
           75
          ],
          [
           29,
           98,
           88
          ],
          [
           28,
           101,
           68
          ],
          [
           36,
           103,
           85
          ],
          [
           32,
           103,
           69
          ],
          [
           38,
           113,
           91
          ],
          [
           35,
           120,
           79
          ],
          [
           32,
           126,
           74
          ],
          [
           40,
           71,
           95
          ],
          [
           30,
           99,
           97
          ],
          [
           32,
           87,
           63
          ],
          [
           36,
           85,
           75
          ],
          [
           31,
           72,
           71
          ],
          [
           32,
           73,
           73
          ],
          [
           35,
           74,
           72
          ],
          [
           32,
           75,
           93
          ],
          [
           32,
           76,
           87
          ],
          [
           28,
           77,
           97
          ],
          [
           39,
           71,
           75
          ],
          [
           32,
           77,
           74
          ],
          [
           34,
           78,
           90
          ],
          [
           39,
           78,
           88
          ],
          [
           38,
           71,
           75
          ],
          [
           27,
           78,
           89
          ],
          [
           30,
           78,
           78
          ],
          [
           30,
           78,
           73
          ],
          [
           29,
           79,
           83
          ],
          [
           31,
           81,
           93
          ],
          [
           33,
           86,
           95
          ],
          [
           38,
           78,
           76
          ],
          [
           30,
           137,
           83
          ],
          [
           39,
           69,
           91
          ],
          [
           31,
           70,
           77
          ]
         ],
         "hovertemplate": "Cluster=%{x}<br>Age=%{customdata[0]}<br>Annual Income (k$)=%{customdata[1]}<br>Spending Score (1-100)=%{customdata[2]}<extra></extra>",
         "legendgroup": "Cluster 2",
         "marker": {
          "color": "#00cc96"
         },
         "name": "Cluster 2",
         "notched": true,
         "offsetgroup": "Cluster 2",
         "showlegend": false,
         "type": "box",
         "x": [
          "Cluster 2",
          "Cluster 2",
          "Cluster 2",
          "Cluster 2",
          "Cluster 2",
          "Cluster 2",
          "Cluster 2",
          "Cluster 2",
          "Cluster 2",
          "Cluster 2",
          "Cluster 2",
          "Cluster 2",
          "Cluster 2",
          "Cluster 2",
          "Cluster 2",
          "Cluster 2",
          "Cluster 2",
          "Cluster 2",
          "Cluster 2",
          "Cluster 2",
          "Cluster 2",
          "Cluster 2",
          "Cluster 2",
          "Cluster 2",
          "Cluster 2",
          "Cluster 2",
          "Cluster 2",
          "Cluster 2",
          "Cluster 2",
          "Cluster 2",
          "Cluster 2",
          "Cluster 2",
          "Cluster 2",
          "Cluster 2",
          "Cluster 2",
          "Cluster 2",
          "Cluster 2",
          "Cluster 2",
          "Cluster 2"
         ],
         "xaxis": "x2",
         "yaxis": "y2"
        },
        {
         "alignmentgroup": "True",
         "bingroup": "x",
         "hovertemplate": "Cluster=%{x}<br>count=%{y}<extra></extra>",
         "legendgroup": "Cluster 3",
         "marker": {
          "color": "#ab63fa",
          "opacity": 0.7,
          "pattern": {
           "shape": ""
          }
         },
         "name": "Cluster 3",
         "offsetgroup": "Cluster 3",
         "orientation": "v",
         "showlegend": true,
         "type": "histogram",
         "x": [
          "Cluster 3",
          "Cluster 3",
          "Cluster 3",
          "Cluster 3",
          "Cluster 3",
          "Cluster 3",
          "Cluster 3",
          "Cluster 3",
          "Cluster 3",
          "Cluster 3",
          "Cluster 3",
          "Cluster 3",
          "Cluster 3",
          "Cluster 3",
          "Cluster 3",
          "Cluster 3",
          "Cluster 3",
          "Cluster 3",
          "Cluster 3",
          "Cluster 3",
          "Cluster 3",
          "Cluster 3",
          "Cluster 3",
          "Cluster 3",
          "Cluster 3",
          "Cluster 3",
          "Cluster 3",
          "Cluster 3"
         ],
         "xaxis": "x",
         "yaxis": "y"
        },
        {
         "alignmentgroup": "True",
         "customdata": [
          [
           42,
           86,
           20
          ],
          [
           36,
           87,
           27
          ],
          [
           40,
           87,
           13
          ],
          [
           34,
           78,
           1
          ],
          [
           37,
           78,
           1
          ],
          [
           36,
           87,
           10
          ],
          [
           47,
           78,
           16
          ],
          [
           52,
           88,
           13
          ],
          [
           44,
           78,
           20
          ],
          [
           43,
           78,
           17
          ],
          [
           58,
           88,
           15
          ],
          [
           34,
           78,
           22
          ],
          [
           59,
           93,
           14
          ],
          [
           46,
           98,
           15
          ],
          [
           37,
           97,
           32
          ],
          [
           41,
           99,
           39
          ],
          [
           59,
           71,
           11
          ],
          [
           32,
           137,
           18
          ],
          [
           47,
           71,
           9
          ],
          [
           45,
           126,
           28
          ],
          [
           47,
           120,
           16
          ],
          [
           44,
           73,
           7
          ],
          [
           33,
           113,
           8
          ],
          [
           34,
           103,
           23
          ],
          [
           41,
           103,
           17
          ],
          [
           57,
           75,
           5
          ],
          [
           54,
           101,
           24
          ],
          [
           50,
           85,
           26
          ]
         ],
         "hovertemplate": "Cluster=%{x}<br>Age=%{customdata[0]}<br>Annual Income (k$)=%{customdata[1]}<br>Spending Score (1-100)=%{customdata[2]}<extra></extra>",
         "legendgroup": "Cluster 3",
         "marker": {
          "color": "#ab63fa"
         },
         "name": "Cluster 3",
         "notched": true,
         "offsetgroup": "Cluster 3",
         "showlegend": false,
         "type": "box",
         "x": [
          "Cluster 3",
          "Cluster 3",
          "Cluster 3",
          "Cluster 3",
          "Cluster 3",
          "Cluster 3",
          "Cluster 3",
          "Cluster 3",
          "Cluster 3",
          "Cluster 3",
          "Cluster 3",
          "Cluster 3",
          "Cluster 3",
          "Cluster 3",
          "Cluster 3",
          "Cluster 3",
          "Cluster 3",
          "Cluster 3",
          "Cluster 3",
          "Cluster 3",
          "Cluster 3",
          "Cluster 3",
          "Cluster 3",
          "Cluster 3",
          "Cluster 3",
          "Cluster 3",
          "Cluster 3",
          "Cluster 3"
         ],
         "xaxis": "x2",
         "yaxis": "y2"
        },
        {
         "alignmentgroup": "True",
         "bingroup": "x",
         "hovertemplate": "Cluster=%{x}<br>count=%{y}<extra></extra>",
         "legendgroup": "Cluster 4",
         "marker": {
          "color": "#FFA15A",
          "opacity": 0.7,
          "pattern": {
           "shape": ""
          }
         },
         "name": "Cluster 4",
         "offsetgroup": "Cluster 4",
         "orientation": "v",
         "showlegend": true,
         "type": "histogram",
         "x": [
          "Cluster 4",
          "Cluster 4",
          "Cluster 4",
          "Cluster 4",
          "Cluster 4",
          "Cluster 4",
          "Cluster 4",
          "Cluster 4",
          "Cluster 4",
          "Cluster 4",
          "Cluster 4",
          "Cluster 4",
          "Cluster 4",
          "Cluster 4",
          "Cluster 4",
          "Cluster 4",
          "Cluster 4",
          "Cluster 4",
          "Cluster 4",
          "Cluster 4",
          "Cluster 4",
          "Cluster 4"
         ],
         "xaxis": "x",
         "yaxis": "y"
        },
        {
         "alignmentgroup": "True",
         "customdata": [
          [
           31,
           17,
           40
          ],
          [
           64,
           19,
           3
          ],
          [
           20,
           16,
           6
          ],
          [
           37,
           20,
           13
          ],
          [
           35,
           18,
           6
          ],
          [
           67,
           19,
           14
          ],
          [
           35,
           21,
           35
          ],
          [
           58,
           20,
           15
          ],
          [
           52,
           23,
           29
          ],
          [
           53,
           33,
           4
          ],
          [
           49,
           39,
           28
          ],
          [
           48,
           39,
           36
          ],
          [
           36,
           37,
           26
          ],
          [
           42,
           34,
           17
          ],
          [
           49,
           33,
           14
          ],
          [
           60,
           30,
           4
          ],
          [
           40,
           29,
           31
          ],
          [
           45,
           28,
           32
          ],
          [
           19,
           15,
           39
          ],
          [
           46,
           25,
           5
          ],
          [
           54,
           28,
           14
          ],
          [
           35,
           24,
           35
          ]
         ],
         "hovertemplate": "Cluster=%{x}<br>Age=%{customdata[0]}<br>Annual Income (k$)=%{customdata[1]}<br>Spending Score (1-100)=%{customdata[2]}<extra></extra>",
         "legendgroup": "Cluster 4",
         "marker": {
          "color": "#FFA15A"
         },
         "name": "Cluster 4",
         "notched": true,
         "offsetgroup": "Cluster 4",
         "showlegend": false,
         "type": "box",
         "x": [
          "Cluster 4",
          "Cluster 4",
          "Cluster 4",
          "Cluster 4",
          "Cluster 4",
          "Cluster 4",
          "Cluster 4",
          "Cluster 4",
          "Cluster 4",
          "Cluster 4",
          "Cluster 4",
          "Cluster 4",
          "Cluster 4",
          "Cluster 4",
          "Cluster 4",
          "Cluster 4",
          "Cluster 4",
          "Cluster 4",
          "Cluster 4",
          "Cluster 4",
          "Cluster 4",
          "Cluster 4"
         ],
         "xaxis": "x2",
         "yaxis": "y2"
        },
        {
         "alignmentgroup": "True",
         "bingroup": "x",
         "hovertemplate": "Cluster=%{x}<br>count=%{y}<extra></extra>",
         "legendgroup": "Cluster 5",
         "marker": {
          "color": "#19d3f3",
          "opacity": 0.7,
          "pattern": {
           "shape": ""
          }
         },
         "name": "Cluster 5",
         "offsetgroup": "Cluster 5",
         "orientation": "v",
         "showlegend": true,
         "type": "histogram",
         "x": [
          "Cluster 5",
          "Cluster 5",
          "Cluster 5",
          "Cluster 5",
          "Cluster 5",
          "Cluster 5",
          "Cluster 5",
          "Cluster 5",
          "Cluster 5",
          "Cluster 5",
          "Cluster 5",
          "Cluster 5",
          "Cluster 5",
          "Cluster 5",
          "Cluster 5",
          "Cluster 5",
          "Cluster 5",
          "Cluster 5",
          "Cluster 5",
          "Cluster 5",
          "Cluster 5"
         ],
         "xaxis": "x",
         "yaxis": "y"
        },
        {
         "alignmentgroup": "True",
         "customdata": [
          [
           21,
           15,
           81
          ],
          [
           24,
           39,
           65
          ],
          [
           25,
           24,
           73
          ],
          [
           23,
           16,
           77
          ],
          [
           24,
           38,
           92
          ],
          [
           20,
           37,
           75
          ],
          [
           22,
           20,
           79
          ],
          [
           22,
           17,
           76
          ],
          [
           30,
           34,
           73
          ],
          [
           24,
           20,
           77
          ],
          [
           21,
           33,
           81
          ],
          [
           23,
           18,
           94
          ],
          [
           31,
           25,
           73
          ],
          [
           18,
           33,
           92
          ],
          [
           20,
           21,
           66
          ],
          [
           30,
           19,
           72
          ],
          [
           21,
           30,
           73
          ],
          [
           23,
           29,
           87
          ],
          [
           35,
           19,
           99
          ],
          [
           29,
           28,
           82
          ],
          [
           35,
           23,
           98
          ]
         ],
         "hovertemplate": "Cluster=%{x}<br>Age=%{customdata[0]}<br>Annual Income (k$)=%{customdata[1]}<br>Spending Score (1-100)=%{customdata[2]}<extra></extra>",
         "legendgroup": "Cluster 5",
         "marker": {
          "color": "#19d3f3"
         },
         "name": "Cluster 5",
         "notched": true,
         "offsetgroup": "Cluster 5",
         "showlegend": false,
         "type": "box",
         "x": [
          "Cluster 5",
          "Cluster 5",
          "Cluster 5",
          "Cluster 5",
          "Cluster 5",
          "Cluster 5",
          "Cluster 5",
          "Cluster 5",
          "Cluster 5",
          "Cluster 5",
          "Cluster 5",
          "Cluster 5",
          "Cluster 5",
          "Cluster 5",
          "Cluster 5",
          "Cluster 5",
          "Cluster 5",
          "Cluster 5",
          "Cluster 5",
          "Cluster 5",
          "Cluster 5"
         ],
         "xaxis": "x2",
         "yaxis": "y2"
        }
       ],
       "layout": {
        "barmode": "relative",
        "height": 600,
        "legend": {
         "title": {
          "text": "Cluster"
         },
         "tracegroupgap": 0
        },
        "margin": {
         "t": 60
        },
        "template": {
         "data": {
          "bar": [
           {
            "error_x": {
             "color": "#2a3f5f"
            },
            "error_y": {
             "color": "#2a3f5f"
            },
            "marker": {
             "line": {
              "color": "#E5ECF6",
              "width": 0.5
             },
             "pattern": {
              "fillmode": "overlay",
              "size": 10,
              "solidity": 0.2
             }
            },
            "type": "bar"
           }
          ],
          "barpolar": [
           {
            "marker": {
             "line": {
              "color": "#E5ECF6",
              "width": 0.5
             },
             "pattern": {
              "fillmode": "overlay",
              "size": 10,
              "solidity": 0.2
             }
            },
            "type": "barpolar"
           }
          ],
          "carpet": [
           {
            "aaxis": {
             "endlinecolor": "#2a3f5f",
             "gridcolor": "white",
             "linecolor": "white",
             "minorgridcolor": "white",
             "startlinecolor": "#2a3f5f"
            },
            "baxis": {
             "endlinecolor": "#2a3f5f",
             "gridcolor": "white",
             "linecolor": "white",
             "minorgridcolor": "white",
             "startlinecolor": "#2a3f5f"
            },
            "type": "carpet"
           }
          ],
          "choropleth": [
           {
            "colorbar": {
             "outlinewidth": 0,
             "ticks": ""
            },
            "type": "choropleth"
           }
          ],
          "contour": [
           {
            "colorbar": {
             "outlinewidth": 0,
             "ticks": ""
            },
            "colorscale": [
             [
              0,
              "#0d0887"
             ],
             [
              0.1111111111111111,
              "#46039f"
             ],
             [
              0.2222222222222222,
              "#7201a8"
             ],
             [
              0.3333333333333333,
              "#9c179e"
             ],
             [
              0.4444444444444444,
              "#bd3786"
             ],
             [
              0.5555555555555556,
              "#d8576b"
             ],
             [
              0.6666666666666666,
              "#ed7953"
             ],
             [
              0.7777777777777778,
              "#fb9f3a"
             ],
             [
              0.8888888888888888,
              "#fdca26"
             ],
             [
              1,
              "#f0f921"
             ]
            ],
            "type": "contour"
           }
          ],
          "contourcarpet": [
           {
            "colorbar": {
             "outlinewidth": 0,
             "ticks": ""
            },
            "type": "contourcarpet"
           }
          ],
          "heatmap": [
           {
            "colorbar": {
             "outlinewidth": 0,
             "ticks": ""
            },
            "colorscale": [
             [
              0,
              "#0d0887"
             ],
             [
              0.1111111111111111,
              "#46039f"
             ],
             [
              0.2222222222222222,
              "#7201a8"
             ],
             [
              0.3333333333333333,
              "#9c179e"
             ],
             [
              0.4444444444444444,
              "#bd3786"
             ],
             [
              0.5555555555555556,
              "#d8576b"
             ],
             [
              0.6666666666666666,
              "#ed7953"
             ],
             [
              0.7777777777777778,
              "#fb9f3a"
             ],
             [
              0.8888888888888888,
              "#fdca26"
             ],
             [
              1,
              "#f0f921"
             ]
            ],
            "type": "heatmap"
           }
          ],
          "heatmapgl": [
           {
            "colorbar": {
             "outlinewidth": 0,
             "ticks": ""
            },
            "colorscale": [
             [
              0,
              "#0d0887"
             ],
             [
              0.1111111111111111,
              "#46039f"
             ],
             [
              0.2222222222222222,
              "#7201a8"
             ],
             [
              0.3333333333333333,
              "#9c179e"
             ],
             [
              0.4444444444444444,
              "#bd3786"
             ],
             [
              0.5555555555555556,
              "#d8576b"
             ],
             [
              0.6666666666666666,
              "#ed7953"
             ],
             [
              0.7777777777777778,
              "#fb9f3a"
             ],
             [
              0.8888888888888888,
              "#fdca26"
             ],
             [
              1,
              "#f0f921"
             ]
            ],
            "type": "heatmapgl"
           }
          ],
          "histogram": [
           {
            "marker": {
             "pattern": {
              "fillmode": "overlay",
              "size": 10,
              "solidity": 0.2
             }
            },
            "type": "histogram"
           }
          ],
          "histogram2d": [
           {
            "colorbar": {
             "outlinewidth": 0,
             "ticks": ""
            },
            "colorscale": [
             [
              0,
              "#0d0887"
             ],
             [
              0.1111111111111111,
              "#46039f"
             ],
             [
              0.2222222222222222,
              "#7201a8"
             ],
             [
              0.3333333333333333,
              "#9c179e"
             ],
             [
              0.4444444444444444,
              "#bd3786"
             ],
             [
              0.5555555555555556,
              "#d8576b"
             ],
             [
              0.6666666666666666,
              "#ed7953"
             ],
             [
              0.7777777777777778,
              "#fb9f3a"
             ],
             [
              0.8888888888888888,
              "#fdca26"
             ],
             [
              1,
              "#f0f921"
             ]
            ],
            "type": "histogram2d"
           }
          ],
          "histogram2dcontour": [
           {
            "colorbar": {
             "outlinewidth": 0,
             "ticks": ""
            },
            "colorscale": [
             [
              0,
              "#0d0887"
             ],
             [
              0.1111111111111111,
              "#46039f"
             ],
             [
              0.2222222222222222,
              "#7201a8"
             ],
             [
              0.3333333333333333,
              "#9c179e"
             ],
             [
              0.4444444444444444,
              "#bd3786"
             ],
             [
              0.5555555555555556,
              "#d8576b"
             ],
             [
              0.6666666666666666,
              "#ed7953"
             ],
             [
              0.7777777777777778,
              "#fb9f3a"
             ],
             [
              0.8888888888888888,
              "#fdca26"
             ],
             [
              1,
              "#f0f921"
             ]
            ],
            "type": "histogram2dcontour"
           }
          ],
          "mesh3d": [
           {
            "colorbar": {
             "outlinewidth": 0,
             "ticks": ""
            },
            "type": "mesh3d"
           }
          ],
          "parcoords": [
           {
            "line": {
             "colorbar": {
              "outlinewidth": 0,
              "ticks": ""
             }
            },
            "type": "parcoords"
           }
          ],
          "pie": [
           {
            "automargin": true,
            "type": "pie"
           }
          ],
          "scatter": [
           {
            "fillpattern": {
             "fillmode": "overlay",
             "size": 10,
             "solidity": 0.2
            },
            "type": "scatter"
           }
          ],
          "scatter3d": [
           {
            "line": {
             "colorbar": {
              "outlinewidth": 0,
              "ticks": ""
             }
            },
            "marker": {
             "colorbar": {
              "outlinewidth": 0,
              "ticks": ""
             }
            },
            "type": "scatter3d"
           }
          ],
          "scattercarpet": [
           {
            "marker": {
             "colorbar": {
              "outlinewidth": 0,
              "ticks": ""
             }
            },
            "type": "scattercarpet"
           }
          ],
          "scattergeo": [
           {
            "marker": {
             "colorbar": {
              "outlinewidth": 0,
              "ticks": ""
             }
            },
            "type": "scattergeo"
           }
          ],
          "scattergl": [
           {
            "marker": {
             "colorbar": {
              "outlinewidth": 0,
              "ticks": ""
             }
            },
            "type": "scattergl"
           }
          ],
          "scattermapbox": [
           {
            "marker": {
             "colorbar": {
              "outlinewidth": 0,
              "ticks": ""
             }
            },
            "type": "scattermapbox"
           }
          ],
          "scatterpolar": [
           {
            "marker": {
             "colorbar": {
              "outlinewidth": 0,
              "ticks": ""
             }
            },
            "type": "scatterpolar"
           }
          ],
          "scatterpolargl": [
           {
            "marker": {
             "colorbar": {
              "outlinewidth": 0,
              "ticks": ""
             }
            },
            "type": "scatterpolargl"
           }
          ],
          "scatterternary": [
           {
            "marker": {
             "colorbar": {
              "outlinewidth": 0,
              "ticks": ""
             }
            },
            "type": "scatterternary"
           }
          ],
          "surface": [
           {
            "colorbar": {
             "outlinewidth": 0,
             "ticks": ""
            },
            "colorscale": [
             [
              0,
              "#0d0887"
             ],
             [
              0.1111111111111111,
              "#46039f"
             ],
             [
              0.2222222222222222,
              "#7201a8"
             ],
             [
              0.3333333333333333,
              "#9c179e"
             ],
             [
              0.4444444444444444,
              "#bd3786"
             ],
             [
              0.5555555555555556,
              "#d8576b"
             ],
             [
              0.6666666666666666,
              "#ed7953"
             ],
             [
              0.7777777777777778,
              "#fb9f3a"
             ],
             [
              0.8888888888888888,
              "#fdca26"
             ],
             [
              1,
              "#f0f921"
             ]
            ],
            "type": "surface"
           }
          ],
          "table": [
           {
            "cells": {
             "fill": {
              "color": "#EBF0F8"
             },
             "line": {
              "color": "white"
             }
            },
            "header": {
             "fill": {
              "color": "#C8D4E3"
             },
             "line": {
              "color": "white"
             }
            },
            "type": "table"
           }
          ]
         },
         "layout": {
          "annotationdefaults": {
           "arrowcolor": "#2a3f5f",
           "arrowhead": 0,
           "arrowwidth": 1
          },
          "autotypenumbers": "strict",
          "coloraxis": {
           "colorbar": {
            "outlinewidth": 0,
            "ticks": ""
           }
          },
          "colorscale": {
           "diverging": [
            [
             0,
             "#8e0152"
            ],
            [
             0.1,
             "#c51b7d"
            ],
            [
             0.2,
             "#de77ae"
            ],
            [
             0.3,
             "#f1b6da"
            ],
            [
             0.4,
             "#fde0ef"
            ],
            [
             0.5,
             "#f7f7f7"
            ],
            [
             0.6,
             "#e6f5d0"
            ],
            [
             0.7,
             "#b8e186"
            ],
            [
             0.8,
             "#7fbc41"
            ],
            [
             0.9,
             "#4d9221"
            ],
            [
             1,
             "#276419"
            ]
           ],
           "sequential": [
            [
             0,
             "#0d0887"
            ],
            [
             0.1111111111111111,
             "#46039f"
            ],
            [
             0.2222222222222222,
             "#7201a8"
            ],
            [
             0.3333333333333333,
             "#9c179e"
            ],
            [
             0.4444444444444444,
             "#bd3786"
            ],
            [
             0.5555555555555556,
             "#d8576b"
            ],
            [
             0.6666666666666666,
             "#ed7953"
            ],
            [
             0.7777777777777778,
             "#fb9f3a"
            ],
            [
             0.8888888888888888,
             "#fdca26"
            ],
            [
             1,
             "#f0f921"
            ]
           ],
           "sequentialminus": [
            [
             0,
             "#0d0887"
            ],
            [
             0.1111111111111111,
             "#46039f"
            ],
            [
             0.2222222222222222,
             "#7201a8"
            ],
            [
             0.3333333333333333,
             "#9c179e"
            ],
            [
             0.4444444444444444,
             "#bd3786"
            ],
            [
             0.5555555555555556,
             "#d8576b"
            ],
            [
             0.6666666666666666,
             "#ed7953"
            ],
            [
             0.7777777777777778,
             "#fb9f3a"
            ],
            [
             0.8888888888888888,
             "#fdca26"
            ],
            [
             1,
             "#f0f921"
            ]
           ]
          },
          "colorway": [
           "#636efa",
           "#EF553B",
           "#00cc96",
           "#ab63fa",
           "#FFA15A",
           "#19d3f3",
           "#FF6692",
           "#B6E880",
           "#FF97FF",
           "#FECB52"
          ],
          "font": {
           "color": "#2a3f5f"
          },
          "geo": {
           "bgcolor": "white",
           "lakecolor": "white",
           "landcolor": "#E5ECF6",
           "showlakes": true,
           "showland": true,
           "subunitcolor": "white"
          },
          "hoverlabel": {
           "align": "left"
          },
          "hovermode": "closest",
          "mapbox": {
           "style": "light"
          },
          "paper_bgcolor": "white",
          "plot_bgcolor": "#E5ECF6",
          "polar": {
           "angularaxis": {
            "gridcolor": "white",
            "linecolor": "white",
            "ticks": ""
           },
           "bgcolor": "#E5ECF6",
           "radialaxis": {
            "gridcolor": "white",
            "linecolor": "white",
            "ticks": ""
           }
          },
          "scene": {
           "xaxis": {
            "backgroundcolor": "#E5ECF6",
            "gridcolor": "white",
            "gridwidth": 2,
            "linecolor": "white",
            "showbackground": true,
            "ticks": "",
            "zerolinecolor": "white"
           },
           "yaxis": {
            "backgroundcolor": "#E5ECF6",
            "gridcolor": "white",
            "gridwidth": 2,
            "linecolor": "white",
            "showbackground": true,
            "ticks": "",
            "zerolinecolor": "white"
           },
           "zaxis": {
            "backgroundcolor": "#E5ECF6",
            "gridcolor": "white",
            "gridwidth": 2,
            "linecolor": "white",
            "showbackground": true,
            "ticks": "",
            "zerolinecolor": "white"
           }
          },
          "shapedefaults": {
           "line": {
            "color": "#2a3f5f"
           }
          },
          "ternary": {
           "aaxis": {
            "gridcolor": "white",
            "linecolor": "white",
            "ticks": ""
           },
           "baxis": {
            "gridcolor": "white",
            "linecolor": "white",
            "ticks": ""
           },
           "bgcolor": "#E5ECF6",
           "caxis": {
            "gridcolor": "white",
            "linecolor": "white",
            "ticks": ""
           }
          },
          "title": {
           "x": 0.05
          },
          "xaxis": {
           "automargin": true,
           "gridcolor": "white",
           "linecolor": "white",
           "ticks": "",
           "title": {
            "standoff": 15
           },
           "zerolinecolor": "white",
           "zerolinewidth": 2
          },
          "yaxis": {
           "automargin": true,
           "gridcolor": "white",
           "linecolor": "white",
           "ticks": "",
           "title": {
            "standoff": 15
           },
           "zerolinecolor": "white",
           "zerolinewidth": 2
          }
         }
        },
        "xaxis": {
         "anchor": "y",
         "categoryarray": [
          "Cluster 0",
          "Cluster 1",
          "Cluster 2",
          "Cluster 3",
          "Cluster 4",
          "Cluster 5"
         ],
         "categoryorder": "array",
         "domain": [
          0,
          1
         ],
         "title": {
          "text": "Cluster"
         }
        },
        "xaxis2": {
         "anchor": "y2",
         "domain": [
          0,
          1
         ],
         "matches": "x",
         "showgrid": true,
         "showticklabels": false
        },
        "yaxis": {
         "anchor": "x",
         "domain": [
          0,
          0.7326
         ],
         "title": {
          "text": "count"
         }
        },
        "yaxis2": {
         "anchor": "x2",
         "domain": [
          0.7426,
          1
         ],
         "matches": "y2",
         "showgrid": false,
         "showline": false,
         "showticklabels": false,
         "ticks": ""
        }
       }
      }
     },
     "metadata": {},
     "output_type": "display_data"
    }
   ],
   "source": [
    "exp.plot_model(hclust, plot='distribution')"
   ]
  },
  {
   "cell_type": "markdown",
   "metadata": {},
   "source": [
    "# Done"
   ]
  }
 ],
 "metadata": {
  "kernelspec": {
   "display_name": "Python 3.8.13 ('ml4t')",
   "language": "python",
   "name": "python3"
  },
  "language_info": {
   "codemirror_mode": {
    "name": "ipython",
    "version": 3
   },
   "file_extension": ".py",
   "mimetype": "text/x-python",
   "name": "python",
   "nbconvert_exporter": "python",
   "pygments_lexer": "ipython3",
   "version": "3.10.13"
  },
  "vscode": {
   "interpreter": {
    "hash": "751367f4a4be47dba96b123444f07dbab6d0d45b5c4bf3ba3ec00b4507bd079c"
   }
  }
 },
 "nbformat": 4,
 "nbformat_minor": 4
}
