{
 "cells": [
  {
   "attachments": {},
   "cell_type": "markdown",
   "metadata": {},
   "source": [
    "You need to make a copy to your own Google drive if you want to edit the original notebook! Start by opening this notebook on Colab 👇\n",
    "\n",
    "<a href=\"https://colab.research.google.com/github/PJalgotrader/platforms-and-tools/blob/main/Python_Crash_course_2020/7-Timeseries.ipynb\" target=\"_parent\"><img src=\"https://colab.research.google.com/assets/colab-badge.svg\" alt=\"Open In Colab\"/></a> \n",
    "\n",
    "\n",
    "\n",
    "![logo](https://upload.wikimedia.org/wikipedia/commons/4/44/Huntsman-Wordmark-with-USU-Blue.gif#center) \n",
    "\n",
    "\n",
    "\n",
    "## 🔗 Links\n",
    "\n",
    "[![linkedin](https://img.shields.io/badge/LinkedIn-0A66C2?style=for-the-badge&logo=linkedin&logoColor=white)](https://www.linkedin.com/in/pedram-jahangiry-cfa-5778015a)\n",
    "\n",
    "[![Youtube](https://img.shields.io/badge/youtube_channel-1DA1F2?style=for-the-badge&logo=youtube&logoColor=white&color=FF0000)](https://www.youtube.com/channel/UCNDElcuuyX-2pSatVBDpJJQ)\n",
    "\n",
    "[![Twitter URL](https://img.shields.io/twitter/url/https/twitter.com/PedramJahangiry.svg?style=social&label=Follow%20%40PedramJahangiry)](https://twitter.com/PedramJahangiry)\n",
    "\n",
    "\n",
    "---"
   ]
  },
  {
   "cell_type": "markdown",
   "metadata": {},
   "source": [
    "# Time series with Pandas in Python\n",
    "\n",
    "In this section we are going to learn how to handle time series data in Python:\n",
    "\n",
    "Basic topics to be covered:\n",
    "\n",
    "* datetime module\n",
    "* numpy datetime arrays\n",
    "* pandas datetime\n",
    "* pandas datareader\n",
    "    1. Resampling\n",
    "    2. Time shifting (leads and lags)\n",
    "    3. Rolling windows and Expanding windows\n",
    "   "
   ]
  },
  {
   "cell_type": "markdown",
   "metadata": {},
   "source": [
    "#### datetime module"
   ]
  },
  {
   "cell_type": "code",
   "execution_count": 1,
   "metadata": {},
   "outputs": [],
   "source": [
    "from datetime import datetime"
   ]
  },
  {
   "cell_type": "code",
   "execution_count": 2,
   "metadata": {},
   "outputs": [],
   "source": [
    "year =2021\n",
    "month= 1\n",
    "day =1"
   ]
  },
  {
   "cell_type": "code",
   "execution_count": 3,
   "metadata": {},
   "outputs": [
    {
     "data": {
      "text/plain": [
       "datetime.datetime(2021, 1, 1, 0, 0)"
      ]
     },
     "execution_count": 3,
     "metadata": {},
     "output_type": "execute_result"
    }
   ],
   "source": [
    "my_date = datetime(year, month, day)\n",
    "my_date"
   ]
  },
  {
   "cell_type": "code",
   "execution_count": 4,
   "metadata": {},
   "outputs": [
    {
     "data": {
      "text/plain": [
       "1"
      ]
     },
     "execution_count": 4,
     "metadata": {},
     "output_type": "execute_result"
    }
   ],
   "source": [
    "# we can extract any information from our datetime object. \n",
    "my_date.month"
   ]
  },
  {
   "cell_type": "code",
   "execution_count": 5,
   "metadata": {},
   "outputs": [
    {
     "data": {
      "text/plain": [
       "5"
      ]
     },
     "execution_count": 5,
     "metadata": {},
     "output_type": "execute_result"
    }
   ],
   "source": [
    "my_date.isoweekday()\n",
    "# Monday == 1 ... Sunday == 7 so 5 means Friday"
   ]
  },
  {
   "cell_type": "code",
   "execution_count": 6,
   "metadata": {},
   "outputs": [
    {
     "data": {
      "text/plain": [
       "datetime.datetime(2024, 9, 11, 15, 25, 11, 519411)"
      ]
     },
     "execution_count": 6,
     "metadata": {},
     "output_type": "execute_result"
    }
   ],
   "source": [
    "datetime.today()"
   ]
  },
  {
   "cell_type": "markdown",
   "metadata": {},
   "source": [
    "#### Numpy datetime arrays\n",
    "NumPy handles dates more efficiently than Python's datetime format.\n",
    "The NumPy data type is called datetime64 to distinguish it from Python's datetime.\n"
   ]
  },
  {
   "cell_type": "code",
   "execution_count": 8,
   "metadata": {},
   "outputs": [],
   "source": [
    "import numpy as np"
   ]
  },
  {
   "cell_type": "code",
   "execution_count": 9,
   "metadata": {},
   "outputs": [
    {
     "data": {
      "text/plain": [
       "array(['2020-01-20', '2021-01-20'], dtype='datetime64[D]')"
      ]
     },
     "execution_count": 9,
     "metadata": {},
     "output_type": "execute_result"
    }
   ],
   "source": [
    "# creating datetime array\n",
    "np.array(['2020-01-20', '2021-01-20'], dtype='datetime64')"
   ]
  },
  {
   "cell_type": "code",
   "execution_count": 10,
   "metadata": {},
   "outputs": [
    {
     "data": {
      "text/plain": [
       "array(['2020', '2021'], dtype='datetime64[Y]')"
      ]
     },
     "execution_count": 10,
     "metadata": {},
     "output_type": "execute_result"
    }
   ],
   "source": [
    "np.array(['2020-01-20', '2021-01-20'], dtype='datetime64[Y]')"
   ]
  },
  {
   "cell_type": "code",
   "execution_count": 11,
   "metadata": {},
   "outputs": [
    {
     "data": {
      "text/plain": [
       "array(['2021-01-01', '2021-01-02', '2021-01-03', '2021-01-04',\n",
       "       '2021-01-05', '2021-01-06', '2021-01-07', '2021-01-08',\n",
       "       '2021-01-09'], dtype='datetime64[D]')"
      ]
     },
     "execution_count": 11,
     "metadata": {},
     "output_type": "execute_result"
    }
   ],
   "source": [
    "# np.arange(start, stop, step)\n",
    "np.arange('2021-01-01', '2021-01-10', dtype='datetime64[D]')"
   ]
  },
  {
   "cell_type": "code",
   "execution_count": 12,
   "metadata": {},
   "outputs": [
    {
     "data": {
      "text/plain": [
       "array(['2023-01-10', '2023-01-11', '2023-01-12', '2023-01-13',\n",
       "       '2023-01-14', '2023-01-15', '2023-01-16', '2023-01-17',\n",
       "       '2023-01-18', '2023-01-19', '2023-01-20', '2023-01-21',\n",
       "       '2023-01-22', '2023-01-23', '2023-01-24', '2023-01-25',\n",
       "       '2023-01-26', '2023-01-27', '2023-01-28', '2023-01-29',\n",
       "       '2023-01-30', '2023-01-31', '2023-02-01', '2023-02-02',\n",
       "       '2023-02-03', '2023-02-04', '2023-02-05', '2023-02-06',\n",
       "       '2023-02-07', '2023-02-08', '2023-02-09', '2023-02-10',\n",
       "       '2023-02-11', '2023-02-12', '2023-02-13', '2023-02-14',\n",
       "       '2023-02-15', '2023-02-16', '2023-02-17', '2023-02-18',\n",
       "       '2023-02-19', '2023-02-20', '2023-02-21', '2023-02-22',\n",
       "       '2023-02-23', '2023-02-24', '2023-02-25', '2023-02-26',\n",
       "       '2023-02-27', '2023-02-28', '2023-03-01', '2023-03-02',\n",
       "       '2023-03-03', '2023-03-04', '2023-03-05', '2023-03-06',\n",
       "       '2023-03-07', '2023-03-08', '2023-03-09', '2023-03-10',\n",
       "       '2023-03-11', '2023-03-12', '2023-03-13', '2023-03-14',\n",
       "       '2023-03-15', '2023-03-16', '2023-03-17', '2023-03-18',\n",
       "       '2023-03-19', '2023-03-20', '2023-03-21', '2023-03-22',\n",
       "       '2023-03-23', '2023-03-24', '2023-03-25', '2023-03-26',\n",
       "       '2023-03-27', '2023-03-28', '2023-03-29', '2023-03-30',\n",
       "       '2023-03-31', '2023-04-01', '2023-04-02', '2023-04-03',\n",
       "       '2023-04-04', '2023-04-05', '2023-04-06', '2023-04-07',\n",
       "       '2023-04-08', '2023-04-09', '2023-04-10', '2023-04-11',\n",
       "       '2023-04-12', '2023-04-13', '2023-04-14', '2023-04-15',\n",
       "       '2023-04-16', '2023-04-17', '2023-04-18', '2023-04-19',\n",
       "       '2023-04-20', '2023-04-21', '2023-04-22', '2023-04-23',\n",
       "       '2023-04-24', '2023-04-25', '2023-04-26', '2023-04-27',\n",
       "       '2023-04-28', '2023-04-29', '2023-04-30', '2023-05-01',\n",
       "       '2023-05-02', '2023-05-03', '2023-05-04', '2023-05-05',\n",
       "       '2023-05-06', '2023-05-07', '2023-05-08', '2023-05-09',\n",
       "       '2023-05-10', '2023-05-11', '2023-05-12', '2023-05-13',\n",
       "       '2023-05-14', '2023-05-15', '2023-05-16', '2023-05-17',\n",
       "       '2023-05-18', '2023-05-19', '2023-05-20', '2023-05-21',\n",
       "       '2023-05-22', '2023-05-23', '2023-05-24', '2023-05-25',\n",
       "       '2023-05-26', '2023-05-27', '2023-05-28', '2023-05-29',\n",
       "       '2023-05-30', '2023-05-31', '2023-06-01', '2023-06-02',\n",
       "       '2023-06-03', '2023-06-04', '2023-06-05', '2023-06-06',\n",
       "       '2023-06-07', '2023-06-08', '2023-06-09', '2023-06-10',\n",
       "       '2023-06-11', '2023-06-12', '2023-06-13', '2023-06-14',\n",
       "       '2023-06-15', '2023-06-16', '2023-06-17', '2023-06-18',\n",
       "       '2023-06-19', '2023-06-20', '2023-06-21', '2023-06-22',\n",
       "       '2023-06-23', '2023-06-24', '2023-06-25', '2023-06-26',\n",
       "       '2023-06-27', '2023-06-28', '2023-06-29', '2023-06-30',\n",
       "       '2023-07-01', '2023-07-02', '2023-07-03', '2023-07-04',\n",
       "       '2023-07-05', '2023-07-06', '2023-07-07', '2023-07-08',\n",
       "       '2023-07-09', '2023-07-10', '2023-07-11', '2023-07-12',\n",
       "       '2023-07-13', '2023-07-14', '2023-07-15', '2023-07-16',\n",
       "       '2023-07-17', '2023-07-18', '2023-07-19', '2023-07-20',\n",
       "       '2023-07-21', '2023-07-22', '2023-07-23', '2023-07-24',\n",
       "       '2023-07-25', '2023-07-26', '2023-07-27', '2023-07-28',\n",
       "       '2023-07-29', '2023-07-30', '2023-07-31', '2023-08-01',\n",
       "       '2023-08-02', '2023-08-03', '2023-08-04', '2023-08-05',\n",
       "       '2023-08-06', '2023-08-07', '2023-08-08', '2023-08-09',\n",
       "       '2023-08-10', '2023-08-11', '2023-08-12', '2023-08-13',\n",
       "       '2023-08-14', '2023-08-15', '2023-08-16', '2023-08-17',\n",
       "       '2023-08-18', '2023-08-19', '2023-08-20', '2023-08-21',\n",
       "       '2023-08-22', '2023-08-23', '2023-08-24', '2023-08-25',\n",
       "       '2023-08-26', '2023-08-27', '2023-08-28', '2023-08-29',\n",
       "       '2023-08-30', '2023-08-31', '2023-09-01', '2023-09-02',\n",
       "       '2023-09-03', '2023-09-04', '2023-09-05', '2023-09-06',\n",
       "       '2023-09-07', '2023-09-08', '2023-09-09', '2023-09-10',\n",
       "       '2023-09-11', '2023-09-12', '2023-09-13', '2023-09-14',\n",
       "       '2023-09-15', '2023-09-16', '2023-09-17', '2023-09-18',\n",
       "       '2023-09-19', '2023-09-20', '2023-09-21', '2023-09-22',\n",
       "       '2023-09-23', '2023-09-24', '2023-09-25', '2023-09-26',\n",
       "       '2023-09-27', '2023-09-28', '2023-09-29', '2023-09-30',\n",
       "       '2023-10-01', '2023-10-02', '2023-10-03', '2023-10-04',\n",
       "       '2023-10-05', '2023-10-06', '2023-10-07', '2023-10-08',\n",
       "       '2023-10-09', '2023-10-10', '2023-10-11', '2023-10-12',\n",
       "       '2023-10-13', '2023-10-14', '2023-10-15', '2023-10-16',\n",
       "       '2023-10-17', '2023-10-18', '2023-10-19', '2023-10-20',\n",
       "       '2023-10-21', '2023-10-22', '2023-10-23', '2023-10-24',\n",
       "       '2023-10-25', '2023-10-26', '2023-10-27', '2023-10-28',\n",
       "       '2023-10-29', '2023-10-30', '2023-10-31', '2023-11-01',\n",
       "       '2023-11-02', '2023-11-03', '2023-11-04', '2023-11-05',\n",
       "       '2023-11-06', '2023-11-07', '2023-11-08', '2023-11-09',\n",
       "       '2023-11-10', '2023-11-11', '2023-11-12', '2023-11-13',\n",
       "       '2023-11-14', '2023-11-15', '2023-11-16', '2023-11-17',\n",
       "       '2023-11-18', '2023-11-19', '2023-11-20', '2023-11-21',\n",
       "       '2023-11-22', '2023-11-23', '2023-11-24', '2023-11-25',\n",
       "       '2023-11-26', '2023-11-27', '2023-11-28', '2023-11-29',\n",
       "       '2023-11-30', '2023-12-01', '2023-12-02', '2023-12-03',\n",
       "       '2023-12-04', '2023-12-05', '2023-12-06', '2023-12-07',\n",
       "       '2023-12-08', '2023-12-09', '2023-12-10', '2023-12-11',\n",
       "       '2023-12-12', '2023-12-13', '2023-12-14', '2023-12-15',\n",
       "       '2023-12-16', '2023-12-17', '2023-12-18', '2023-12-19',\n",
       "       '2023-12-20', '2023-12-21', '2023-12-22', '2023-12-23',\n",
       "       '2023-12-24', '2023-12-25', '2023-12-26', '2023-12-27',\n",
       "       '2023-12-28', '2023-12-29', '2023-12-30', '2023-12-31',\n",
       "       '2024-01-01', '2024-01-02', '2024-01-03', '2024-01-04',\n",
       "       '2024-01-05', '2024-01-06', '2024-01-07', '2024-01-08',\n",
       "       '2024-01-09', '2024-01-10', '2024-01-11', '2024-01-12',\n",
       "       '2024-01-13', '2024-01-14', '2024-01-15', '2024-01-16',\n",
       "       '2024-01-17', '2024-01-18', '2024-01-19', '2024-01-20',\n",
       "       '2024-01-21', '2024-01-22', '2024-01-23', '2024-01-24',\n",
       "       '2024-01-25', '2024-01-26', '2024-01-27', '2024-01-28',\n",
       "       '2024-01-29', '2024-01-30', '2024-01-31', '2024-02-01',\n",
       "       '2024-02-02', '2024-02-03', '2024-02-04', '2024-02-05',\n",
       "       '2024-02-06', '2024-02-07', '2024-02-08', '2024-02-09',\n",
       "       '2024-02-10', '2024-02-11', '2024-02-12', '2024-02-13',\n",
       "       '2024-02-14', '2024-02-15', '2024-02-16', '2024-02-17',\n",
       "       '2024-02-18', '2024-02-19', '2024-02-20', '2024-02-21',\n",
       "       '2024-02-22', '2024-02-23', '2024-02-24', '2024-02-25',\n",
       "       '2024-02-26', '2024-02-27', '2024-02-28', '2024-02-29',\n",
       "       '2024-03-01', '2024-03-02', '2024-03-03', '2024-03-04',\n",
       "       '2024-03-05', '2024-03-06', '2024-03-07', '2024-03-08',\n",
       "       '2024-03-09', '2024-03-10', '2024-03-11', '2024-03-12',\n",
       "       '2024-03-13', '2024-03-14', '2024-03-15', '2024-03-16',\n",
       "       '2024-03-17', '2024-03-18', '2024-03-19', '2024-03-20',\n",
       "       '2024-03-21', '2024-03-22', '2024-03-23', '2024-03-24',\n",
       "       '2024-03-25', '2024-03-26', '2024-03-27', '2024-03-28',\n",
       "       '2024-03-29', '2024-03-30', '2024-03-31', '2024-04-01',\n",
       "       '2024-04-02', '2024-04-03', '2024-04-04', '2024-04-05',\n",
       "       '2024-04-06', '2024-04-07', '2024-04-08', '2024-04-09',\n",
       "       '2024-04-10', '2024-04-11', '2024-04-12', '2024-04-13',\n",
       "       '2024-04-14', '2024-04-15', '2024-04-16', '2024-04-17',\n",
       "       '2024-04-18', '2024-04-19', '2024-04-20', '2024-04-21',\n",
       "       '2024-04-22', '2024-04-23', '2024-04-24', '2024-04-25',\n",
       "       '2024-04-26', '2024-04-27', '2024-04-28', '2024-04-29',\n",
       "       '2024-04-30', '2024-05-01', '2024-05-02', '2024-05-03',\n",
       "       '2024-05-04', '2024-05-05', '2024-05-06', '2024-05-07',\n",
       "       '2024-05-08', '2024-05-09', '2024-05-10', '2024-05-11',\n",
       "       '2024-05-12', '2024-05-13', '2024-05-14', '2024-05-15',\n",
       "       '2024-05-16', '2024-05-17', '2024-05-18', '2024-05-19',\n",
       "       '2024-05-20', '2024-05-21', '2024-05-22', '2024-05-23',\n",
       "       '2024-05-24', '2024-05-25', '2024-05-26', '2024-05-27',\n",
       "       '2024-05-28', '2024-05-29', '2024-05-30', '2024-05-31',\n",
       "       '2024-06-01', '2024-06-02', '2024-06-03', '2024-06-04',\n",
       "       '2024-06-05', '2024-06-06', '2024-06-07', '2024-06-08',\n",
       "       '2024-06-09', '2024-06-10', '2024-06-11', '2024-06-12',\n",
       "       '2024-06-13', '2024-06-14', '2024-06-15', '2024-06-16',\n",
       "       '2024-06-17', '2024-06-18', '2024-06-19', '2024-06-20',\n",
       "       '2024-06-21', '2024-06-22', '2024-06-23', '2024-06-24',\n",
       "       '2024-06-25', '2024-06-26', '2024-06-27', '2024-06-28',\n",
       "       '2024-06-29', '2024-06-30', '2024-07-01', '2024-07-02',\n",
       "       '2024-07-03', '2024-07-04', '2024-07-05', '2024-07-06',\n",
       "       '2024-07-07', '2024-07-08', '2024-07-09', '2024-07-10',\n",
       "       '2024-07-11', '2024-07-12', '2024-07-13', '2024-07-14',\n",
       "       '2024-07-15', '2024-07-16', '2024-07-17', '2024-07-18',\n",
       "       '2024-07-19', '2024-07-20', '2024-07-21', '2024-07-22',\n",
       "       '2024-07-23', '2024-07-24', '2024-07-25', '2024-07-26',\n",
       "       '2024-07-27', '2024-07-28', '2024-07-29', '2024-07-30',\n",
       "       '2024-07-31', '2024-08-01', '2024-08-02', '2024-08-03',\n",
       "       '2024-08-04', '2024-08-05', '2024-08-06', '2024-08-07',\n",
       "       '2024-08-08', '2024-08-09', '2024-08-10', '2024-08-11',\n",
       "       '2024-08-12', '2024-08-13', '2024-08-14', '2024-08-15',\n",
       "       '2024-08-16', '2024-08-17', '2024-08-18', '2024-08-19',\n",
       "       '2024-08-20', '2024-08-21', '2024-08-22', '2024-08-23',\n",
       "       '2024-08-24', '2024-08-25', '2024-08-26', '2024-08-27',\n",
       "       '2024-08-28', '2024-08-29', '2024-08-30', '2024-08-31',\n",
       "       '2024-09-01', '2024-09-02', '2024-09-03', '2024-09-04',\n",
       "       '2024-09-05', '2024-09-06', '2024-09-07', '2024-09-08',\n",
       "       '2024-09-09', '2024-09-10'], dtype='datetime64[D]')"
      ]
     },
     "execution_count": 12,
     "metadata": {},
     "output_type": "execute_result"
    }
   ],
   "source": [
    "# available dtypes are: D, h, m, s, ms, W, M, Y and etc. \n",
    "np.arange('2023-01-10', datetime.today(), dtype='datetime64[D]')"
   ]
  },
  {
   "cell_type": "markdown",
   "metadata": {},
   "source": [
    "#### Pandas datetime\n",
    "Usually we will work with time series as a datetime index in pandas dataframes. pandas has a lot of built in functions and methods to work with time series!"
   ]
  },
  {
   "cell_type": "code",
   "execution_count": 13,
   "metadata": {},
   "outputs": [],
   "source": [
    "import pandas as pd"
   ]
  },
  {
   "cell_type": "code",
   "execution_count": 14,
   "metadata": {},
   "outputs": [
    {
     "data": {
      "text/plain": [
       "DatetimeIndex(['2023-01-01', '2023-01-02', '2023-01-03', '2023-01-04',\n",
       "               '2023-01-05', '2023-01-06', '2023-01-07', '2023-01-08',\n",
       "               '2023-01-09', '2023-01-10', '2023-01-11', '2023-01-12',\n",
       "               '2023-01-13', '2023-01-14', '2023-01-15', '2023-01-16',\n",
       "               '2023-01-17', '2023-01-18', '2023-01-19', '2023-01-20'],\n",
       "              dtype='datetime64[ns]', freq='D')"
      ]
     },
     "execution_count": 14,
     "metadata": {},
     "output_type": "execute_result"
    }
   ],
   "source": [
    "pd.date_range(start='2023-01-01', end='2023-01-20', freq='D')"
   ]
  },
  {
   "cell_type": "code",
   "execution_count": 15,
   "metadata": {},
   "outputs": [
    {
     "data": {
      "text/plain": [
       "DatetimeIndex(['2023-01-02', '2023-01-03', '2023-01-04', '2023-01-05',\n",
       "               '2023-01-06', '2023-01-09', '2023-01-10'],\n",
       "              dtype='datetime64[ns]', freq='B')"
      ]
     },
     "execution_count": 15,
     "metadata": {},
     "output_type": "execute_result"
    }
   ],
   "source": [
    "# let's creat an index first. For example the first week of 2021\n",
    "index = pd.date_range('2023-01-01', periods=7, freq='B')\n",
    "index"
   ]
  },
  {
   "cell_type": "markdown",
   "metadata": {},
   "source": [
    "here is a list of frequency parameters: https://pandas.pydata.org/pandas-docs/stable/user_guide/timeseries.html#offset-aliases"
   ]
  },
  {
   "cell_type": "code",
   "execution_count": 16,
   "metadata": {},
   "outputs": [
    {
     "data": {
      "text/plain": [
       "DatetimeIndex(['2021-01-06', '2021-01-21'], dtype='datetime64[ns]', freq=None)"
      ]
     },
     "execution_count": 16,
     "metadata": {},
     "output_type": "execute_result"
    }
   ],
   "source": [
    "# if you want to create an index for specific days, there are two ways to do that:\n",
    "custom_index = pd.to_datetime(['2021-01-06', '2021-01-21'])\n",
    "custom_index"
   ]
  },
  {
   "cell_type": "code",
   "execution_count": 17,
   "metadata": {},
   "outputs": [
    {
     "data": {
      "text/plain": [
       "DatetimeIndex(['2021-01-01', '2021-01-19'], dtype='datetime64[ns]', freq=None)"
      ]
     },
     "execution_count": 17,
     "metadata": {},
     "output_type": "execute_result"
    }
   ],
   "source": [
    "# or alternatively, we could pass a numpy array to pd.DatetimeIndex()\n",
    "custom_index = pd.DatetimeIndex(np.array(['2021-01-01', '2021-01-19']))\n",
    "custom_index "
   ]
  },
  {
   "cell_type": "markdown",
   "metadata": {},
   "source": [
    "Now let's explore some of pandas datetime functions:"
   ]
  },
  {
   "cell_type": "code",
   "execution_count": 18,
   "metadata": {},
   "outputs": [
    {
     "data": {
      "text/html": [
       "<div>\n",
       "<style scoped>\n",
       "    .dataframe tbody tr th:only-of-type {\n",
       "        vertical-align: middle;\n",
       "    }\n",
       "\n",
       "    .dataframe tbody tr th {\n",
       "        vertical-align: top;\n",
       "    }\n",
       "\n",
       "    .dataframe thead th {\n",
       "        text-align: right;\n",
       "    }\n",
       "</style>\n",
       "<table border=\"1\" class=\"dataframe\">\n",
       "  <thead>\n",
       "    <tr style=\"text-align: right;\">\n",
       "      <th></th>\n",
       "      <th>Event</th>\n",
       "    </tr>\n",
       "  </thead>\n",
       "  <tbody>\n",
       "    <tr>\n",
       "      <th>2021-01-01</th>\n",
       "      <td>first day of the year</td>\n",
       "    </tr>\n",
       "    <tr>\n",
       "      <th>2021-01-19</th>\n",
       "      <td>first day of school</td>\n",
       "    </tr>\n",
       "  </tbody>\n",
       "</table>\n",
       "</div>"
      ],
      "text/plain": [
       "                            Event\n",
       "2021-01-01  first day of the year\n",
       "2021-01-19    first day of school"
      ]
     },
     "execution_count": 18,
     "metadata": {},
     "output_type": "execute_result"
    }
   ],
   "source": [
    "# creating a time series data frame\n",
    "# pd.DateFrame( data, index, column names)\n",
    "df = pd.DataFrame(data=['first day of the year', 'first day of school'],index= custom_index, columns= ['Event'])\n",
    "df"
   ]
  },
  {
   "cell_type": "code",
   "execution_count": 19,
   "metadata": {},
   "outputs": [
    {
     "data": {
      "text/plain": [
       "Index(['Event'], dtype='object')"
      ]
     },
     "execution_count": 19,
     "metadata": {},
     "output_type": "execute_result"
    }
   ],
   "source": [
    "df.columns"
   ]
  },
  {
   "cell_type": "code",
   "execution_count": 20,
   "metadata": {},
   "outputs": [
    {
     "data": {
      "text/plain": [
       "DatetimeIndex(['2021-01-01', '2021-01-19'], dtype='datetime64[ns]', freq=None)"
      ]
     },
     "execution_count": 20,
     "metadata": {},
     "output_type": "execute_result"
    }
   ],
   "source": [
    "df.index"
   ]
  },
  {
   "cell_type": "code",
   "execution_count": 21,
   "metadata": {},
   "outputs": [
    {
     "data": {
      "text/plain": [
       "Timestamp('2021-01-19 00:00:00')"
      ]
     },
     "execution_count": 21,
     "metadata": {},
     "output_type": "execute_result"
    }
   ],
   "source": [
    "df.index.max()"
   ]
  },
  {
   "cell_type": "code",
   "execution_count": 22,
   "metadata": {},
   "outputs": [
    {
     "data": {
      "text/plain": [
       "1"
      ]
     },
     "execution_count": 22,
     "metadata": {},
     "output_type": "execute_result"
    }
   ],
   "source": [
    "df.index.argmax()"
   ]
  },
  {
   "cell_type": "markdown",
   "metadata": {},
   "source": [
    "#### Pandas datareader"
   ]
  },
  {
   "cell_type": "code",
   "execution_count": 24,
   "metadata": {},
   "outputs": [],
   "source": [
    "#import pandas_datareader.data as web"
   ]
  },
  {
   "cell_type": "code",
   "execution_count": 38,
   "metadata": {},
   "outputs": [
    {
     "data": {
      "text/plain": [
       "Timestamp('2024-09-11 15:28:12.586724')"
      ]
     },
     "execution_count": 38,
     "metadata": {},
     "output_type": "execute_result"
    }
   ],
   "source": [
    "start = pd.to_datetime('2021-01-01')\n",
    "end   = pd.to_datetime('today')\n",
    "end"
   ]
  },
  {
   "cell_type": "code",
   "execution_count": 34,
   "metadata": {},
   "outputs": [
    {
     "data": {
      "text/plain": [
       "['TSLA', 'AAPL']"
      ]
     },
     "execution_count": 34,
     "metadata": {},
     "output_type": "execute_result"
    }
   ],
   "source": [
    "Ticker =  \"TSLA AAPL\".split(\" \")\n",
    "Ticker"
   ]
  },
  {
   "cell_type": "code",
   "execution_count": 27,
   "metadata": {},
   "outputs": [],
   "source": [
    "#Stocks = web.DataReader(name= Ticker, data_source= 'yahoo', start=start, end= end)\n",
    "#Stocks.tail()"
   ]
  },
  {
   "cell_type": "code",
   "execution_count": 280,
   "metadata": {},
   "outputs": [],
   "source": [
    "# if pandas_datareader didn't work, try yfinance. On Google colab, run the following:\n",
    "# !pip install yfinance\n",
    "\n",
    "# On your local computer, simply install yfinance package using pip install yfinance. "
   ]
  },
  {
   "cell_type": "markdown",
   "metadata": {},
   "source": [
    "#### Yahoo Finance"
   ]
  },
  {
   "cell_type": "code",
   "execution_count": 35,
   "metadata": {},
   "outputs": [],
   "source": [
    "import yfinance as yf"
   ]
  },
  {
   "cell_type": "code",
   "execution_count": 36,
   "metadata": {},
   "outputs": [
    {
     "data": {
      "text/plain": [
       "Timestamp('2021-01-01 00:00:00')"
      ]
     },
     "execution_count": 36,
     "metadata": {},
     "output_type": "execute_result"
    }
   ],
   "source": [
    "start"
   ]
  },
  {
   "cell_type": "code",
   "execution_count": 39,
   "metadata": {},
   "outputs": [
    {
     "data": {
      "text/plain": [
       "Timestamp('2024-09-11 15:28:12.586724')"
      ]
     },
     "execution_count": 39,
     "metadata": {},
     "output_type": "execute_result"
    }
   ],
   "source": [
    "end"
   ]
  },
  {
   "cell_type": "code",
   "execution_count": 40,
   "metadata": {},
   "outputs": [
    {
     "name": "stderr",
     "output_type": "stream",
     "text": [
      "[*********************100%%**********************]  2 of 2 completed\n"
     ]
    },
    {
     "data": {
      "text/html": [
       "<div>\n",
       "<style scoped>\n",
       "    .dataframe tbody tr th:only-of-type {\n",
       "        vertical-align: middle;\n",
       "    }\n",
       "\n",
       "    .dataframe tbody tr th {\n",
       "        vertical-align: top;\n",
       "    }\n",
       "\n",
       "    .dataframe thead tr th {\n",
       "        text-align: left;\n",
       "    }\n",
       "\n",
       "    .dataframe thead tr:last-of-type th {\n",
       "        text-align: right;\n",
       "    }\n",
       "</style>\n",
       "<table border=\"1\" class=\"dataframe\">\n",
       "  <thead>\n",
       "    <tr>\n",
       "      <th>Price</th>\n",
       "      <th colspan=\"2\" halign=\"left\">Adj Close</th>\n",
       "      <th colspan=\"2\" halign=\"left\">Close</th>\n",
       "      <th colspan=\"2\" halign=\"left\">High</th>\n",
       "      <th colspan=\"2\" halign=\"left\">Low</th>\n",
       "      <th colspan=\"2\" halign=\"left\">Open</th>\n",
       "      <th colspan=\"2\" halign=\"left\">Volume</th>\n",
       "    </tr>\n",
       "    <tr>\n",
       "      <th>Ticker</th>\n",
       "      <th>AAPL</th>\n",
       "      <th>TSLA</th>\n",
       "      <th>AAPL</th>\n",
       "      <th>TSLA</th>\n",
       "      <th>AAPL</th>\n",
       "      <th>TSLA</th>\n",
       "      <th>AAPL</th>\n",
       "      <th>TSLA</th>\n",
       "      <th>AAPL</th>\n",
       "      <th>TSLA</th>\n",
       "      <th>AAPL</th>\n",
       "      <th>TSLA</th>\n",
       "    </tr>\n",
       "    <tr>\n",
       "      <th>Date</th>\n",
       "      <th></th>\n",
       "      <th></th>\n",
       "      <th></th>\n",
       "      <th></th>\n",
       "      <th></th>\n",
       "      <th></th>\n",
       "      <th></th>\n",
       "      <th></th>\n",
       "      <th></th>\n",
       "      <th></th>\n",
       "      <th></th>\n",
       "      <th></th>\n",
       "    </tr>\n",
       "  </thead>\n",
       "  <tbody>\n",
       "    <tr>\n",
       "      <th>2024-09-04</th>\n",
       "      <td>220.850006</td>\n",
       "      <td>219.410004</td>\n",
       "      <td>220.850006</td>\n",
       "      <td>219.410004</td>\n",
       "      <td>221.779999</td>\n",
       "      <td>222.220001</td>\n",
       "      <td>217.479996</td>\n",
       "      <td>210.570007</td>\n",
       "      <td>221.660004</td>\n",
       "      <td>210.589996</td>\n",
       "      <td>43840200</td>\n",
       "      <td>80651800</td>\n",
       "    </tr>\n",
       "    <tr>\n",
       "      <th>2024-09-05</th>\n",
       "      <td>222.380005</td>\n",
       "      <td>230.169998</td>\n",
       "      <td>222.380005</td>\n",
       "      <td>230.169998</td>\n",
       "      <td>225.479996</td>\n",
       "      <td>235.000000</td>\n",
       "      <td>221.520004</td>\n",
       "      <td>222.250000</td>\n",
       "      <td>221.630005</td>\n",
       "      <td>223.490005</td>\n",
       "      <td>36615400</td>\n",
       "      <td>119355000</td>\n",
       "    </tr>\n",
       "    <tr>\n",
       "      <th>2024-09-06</th>\n",
       "      <td>220.820007</td>\n",
       "      <td>210.729996</td>\n",
       "      <td>220.820007</td>\n",
       "      <td>210.729996</td>\n",
       "      <td>225.240005</td>\n",
       "      <td>233.600006</td>\n",
       "      <td>219.770004</td>\n",
       "      <td>210.509995</td>\n",
       "      <td>223.949997</td>\n",
       "      <td>232.600006</td>\n",
       "      <td>48423000</td>\n",
       "      <td>112177000</td>\n",
       "    </tr>\n",
       "    <tr>\n",
       "      <th>2024-09-09</th>\n",
       "      <td>220.910004</td>\n",
       "      <td>216.270004</td>\n",
       "      <td>220.910004</td>\n",
       "      <td>216.270004</td>\n",
       "      <td>221.270004</td>\n",
       "      <td>219.869995</td>\n",
       "      <td>216.710007</td>\n",
       "      <td>213.669998</td>\n",
       "      <td>220.820007</td>\n",
       "      <td>216.199997</td>\n",
       "      <td>67180000</td>\n",
       "      <td>67443500</td>\n",
       "    </tr>\n",
       "    <tr>\n",
       "      <th>2024-09-10</th>\n",
       "      <td>220.110001</td>\n",
       "      <td>226.169998</td>\n",
       "      <td>220.110001</td>\n",
       "      <td>226.169998</td>\n",
       "      <td>221.479996</td>\n",
       "      <td>226.399994</td>\n",
       "      <td>216.729996</td>\n",
       "      <td>218.639999</td>\n",
       "      <td>218.919998</td>\n",
       "      <td>220.070007</td>\n",
       "      <td>51591000</td>\n",
       "      <td>78891100</td>\n",
       "    </tr>\n",
       "  </tbody>\n",
       "</table>\n",
       "</div>"
      ],
      "text/plain": [
       "Price        Adj Close                   Close                    High  \\\n",
       "Ticker            AAPL        TSLA        AAPL        TSLA        AAPL   \n",
       "Date                                                                     \n",
       "2024-09-04  220.850006  219.410004  220.850006  219.410004  221.779999   \n",
       "2024-09-05  222.380005  230.169998  222.380005  230.169998  225.479996   \n",
       "2024-09-06  220.820007  210.729996  220.820007  210.729996  225.240005   \n",
       "2024-09-09  220.910004  216.270004  220.910004  216.270004  221.270004   \n",
       "2024-09-10  220.110001  226.169998  220.110001  226.169998  221.479996   \n",
       "\n",
       "Price                          Low                    Open              \\\n",
       "Ticker            TSLA        AAPL        TSLA        AAPL        TSLA   \n",
       "Date                                                                     \n",
       "2024-09-04  222.220001  217.479996  210.570007  221.660004  210.589996   \n",
       "2024-09-05  235.000000  221.520004  222.250000  221.630005  223.490005   \n",
       "2024-09-06  233.600006  219.770004  210.509995  223.949997  232.600006   \n",
       "2024-09-09  219.869995  216.710007  213.669998  220.820007  216.199997   \n",
       "2024-09-10  226.399994  216.729996  218.639999  218.919998  220.070007   \n",
       "\n",
       "Price         Volume             \n",
       "Ticker          AAPL       TSLA  \n",
       "Date                             \n",
       "2024-09-04  43840200   80651800  \n",
       "2024-09-05  36615400  119355000  \n",
       "2024-09-06  48423000  112177000  \n",
       "2024-09-09  67180000   67443500  \n",
       "2024-09-10  51591000   78891100  "
      ]
     },
     "execution_count": 40,
     "metadata": {},
     "output_type": "execute_result"
    }
   ],
   "source": [
    "Stocks = yf.download(Ticker, start, end)\n",
    "Stocks.tail()"
   ]
  },
  {
   "cell_type": "code",
   "execution_count": 41,
   "metadata": {},
   "outputs": [
    {
     "data": {
      "text/html": [
       "<div>\n",
       "<style scoped>\n",
       "    .dataframe tbody tr th:only-of-type {\n",
       "        vertical-align: middle;\n",
       "    }\n",
       "\n",
       "    .dataframe tbody tr th {\n",
       "        vertical-align: top;\n",
       "    }\n",
       "\n",
       "    .dataframe thead th {\n",
       "        text-align: right;\n",
       "    }\n",
       "</style>\n",
       "<table border=\"1\" class=\"dataframe\">\n",
       "  <thead>\n",
       "    <tr style=\"text-align: right;\">\n",
       "      <th>Ticker</th>\n",
       "      <th>AAPL</th>\n",
       "      <th>TSLA</th>\n",
       "    </tr>\n",
       "    <tr>\n",
       "      <th>Date</th>\n",
       "      <th></th>\n",
       "      <th></th>\n",
       "    </tr>\n",
       "  </thead>\n",
       "  <tbody>\n",
       "    <tr>\n",
       "      <th>2024-09-04</th>\n",
       "      <td>220.85</td>\n",
       "      <td>219.41</td>\n",
       "    </tr>\n",
       "    <tr>\n",
       "      <th>2024-09-05</th>\n",
       "      <td>222.38</td>\n",
       "      <td>230.17</td>\n",
       "    </tr>\n",
       "    <tr>\n",
       "      <th>2024-09-06</th>\n",
       "      <td>220.82</td>\n",
       "      <td>210.73</td>\n",
       "    </tr>\n",
       "    <tr>\n",
       "      <th>2024-09-09</th>\n",
       "      <td>220.91</td>\n",
       "      <td>216.27</td>\n",
       "    </tr>\n",
       "    <tr>\n",
       "      <th>2024-09-10</th>\n",
       "      <td>220.11</td>\n",
       "      <td>226.17</td>\n",
       "    </tr>\n",
       "  </tbody>\n",
       "</table>\n",
       "</div>"
      ],
      "text/plain": [
       "Ticker        AAPL    TSLA\n",
       "Date                      \n",
       "2024-09-04  220.85  219.41\n",
       "2024-09-05  222.38  230.17\n",
       "2024-09-06  220.82  210.73\n",
       "2024-09-09  220.91  216.27\n",
       "2024-09-10  220.11  226.17"
      ]
     },
     "execution_count": 41,
     "metadata": {},
     "output_type": "execute_result"
    }
   ],
   "source": [
    "df= round(Stocks['Adj Close'],2)\n",
    "df.tail()"
   ]
  },
  {
   "cell_type": "code",
   "execution_count": 42,
   "metadata": {},
   "outputs": [
    {
     "data": {
      "text/plain": [
       "DatetimeIndex(['2021-01-04', '2021-01-05', '2021-01-06', '2021-01-07',\n",
       "               '2021-01-08', '2021-01-11', '2021-01-12', '2021-01-13',\n",
       "               '2021-01-14', '2021-01-15',\n",
       "               ...\n",
       "               '2024-08-27', '2024-08-28', '2024-08-29', '2024-08-30',\n",
       "               '2024-09-03', '2024-09-04', '2024-09-05', '2024-09-06',\n",
       "               '2024-09-09', '2024-09-10'],\n",
       "              dtype='datetime64[ns]', name='Date', length=927, freq=None)"
      ]
     },
     "execution_count": 42,
     "metadata": {},
     "output_type": "execute_result"
    }
   ],
   "source": [
    "df.index"
   ]
  },
  {
   "cell_type": "code",
   "execution_count": 43,
   "metadata": {},
   "outputs": [],
   "source": [
    "import matplotlib.pyplot as plt"
   ]
  },
  {
   "cell_type": "code",
   "execution_count": 44,
   "metadata": {},
   "outputs": [
    {
     "data": {
      "image/png": "[encoded data removed]",
      "text/plain": [
       "<Figure size 1200x1000 with 2 Axes>"
      ]
     },
     "metadata": {},
     "output_type": "display_data"
    }
   ],
   "source": [
    "df.plot(subplots=True, figsize=(12,10))\n",
    "plt.show()"
   ]
  },
  {
   "cell_type": "code",
   "execution_count": 45,
   "metadata": {},
   "outputs": [
    {
     "data": {
      "text/plain": [
       "DatetimeIndex(['2021-01-04', '2021-01-05', '2021-01-06', '2021-01-07',\n",
       "               '2021-01-08', '2021-01-11', '2021-01-12', '2021-01-13',\n",
       "               '2021-01-14', '2021-01-15',\n",
       "               ...\n",
       "               '2024-08-27', '2024-08-28', '2024-08-29', '2024-08-30',\n",
       "               '2024-09-03', '2024-09-04', '2024-09-05', '2024-09-06',\n",
       "               '2024-09-09', '2024-09-10'],\n",
       "              dtype='datetime64[ns]', name='Date', length=927, freq=None)"
      ]
     },
     "execution_count": 45,
     "metadata": {},
     "output_type": "execute_result"
    }
   ],
   "source": [
    "df.index"
   ]
  },
  {
   "cell_type": "markdown",
   "metadata": {},
   "source": [
    "#### 1.Resampling\n",
    "Resampling data by different rules (frequencies). Here is the list of frequencies: https://pandas.pydata.org/pandas-docs/stable/user_guide/timeseries.html#offset-aliases"
   ]
  },
  {
   "cell_type": "code",
   "execution_count": 46,
   "metadata": {},
   "outputs": [
    {
     "data": {
      "text/html": [
       "<div>\n",
       "<style scoped>\n",
       "    .dataframe tbody tr th:only-of-type {\n",
       "        vertical-align: middle;\n",
       "    }\n",
       "\n",
       "    .dataframe tbody tr th {\n",
       "        vertical-align: top;\n",
       "    }\n",
       "\n",
       "    .dataframe thead th {\n",
       "        text-align: right;\n",
       "    }\n",
       "</style>\n",
       "<table border=\"1\" class=\"dataframe\">\n",
       "  <thead>\n",
       "    <tr style=\"text-align: right;\">\n",
       "      <th>Ticker</th>\n",
       "      <th>AAPL</th>\n",
       "      <th>TSLA</th>\n",
       "    </tr>\n",
       "    <tr>\n",
       "      <th>Date</th>\n",
       "      <th></th>\n",
       "      <th></th>\n",
       "    </tr>\n",
       "  </thead>\n",
       "  <tbody>\n",
       "    <tr>\n",
       "      <th>2021-01-31</th>\n",
       "      <td>130.233684</td>\n",
       "      <td>276.258947</td>\n",
       "    </tr>\n",
       "    <tr>\n",
       "      <th>2021-02-28</th>\n",
       "      <td>128.911579</td>\n",
       "      <td>264.757368</td>\n",
       "    </tr>\n",
       "    <tr>\n",
       "      <th>2021-03-31</th>\n",
       "      <td>119.483043</td>\n",
       "      <td>218.934348</td>\n",
       "    </tr>\n",
       "    <tr>\n",
       "      <th>2021-04-30</th>\n",
       "      <td>129.228095</td>\n",
       "      <td>236.539048</td>\n",
       "    </tr>\n",
       "    <tr>\n",
       "      <th>2021-05-31</th>\n",
       "      <td>124.465000</td>\n",
       "      <td>205.584000</td>\n",
       "    </tr>\n",
       "    <tr>\n",
       "      <th>2021-06-30</th>\n",
       "      <td>127.627273</td>\n",
       "      <td>208.973636</td>\n",
       "    </tr>\n",
       "    <tr>\n",
       "      <th>2021-07-31</th>\n",
       "      <td>142.536190</td>\n",
       "      <td>219.711905</td>\n",
       "    </tr>\n",
       "    <tr>\n",
       "      <th>2021-08-31</th>\n",
       "      <td>145.697727</td>\n",
       "      <td>235.080455</td>\n",
       "    </tr>\n",
       "    <tr>\n",
       "      <th>2021-09-30</th>\n",
       "      <td>145.864762</td>\n",
       "      <td>251.317143</td>\n",
       "    </tr>\n",
       "    <tr>\n",
       "      <th>2021-10-31</th>\n",
       "      <td>143.166667</td>\n",
       "      <td>292.783333</td>\n",
       "    </tr>\n",
       "    <tr>\n",
       "      <th>2021-11-30</th>\n",
       "      <td>151.896190</td>\n",
       "      <td>373.554286</td>\n",
       "    </tr>\n",
       "    <tr>\n",
       "      <th>2021-12-31</th>\n",
       "      <td>170.943636</td>\n",
       "      <td>339.629545</td>\n",
       "    </tr>\n",
       "    <tr>\n",
       "      <th>2022-01-31</th>\n",
       "      <td>167.308000</td>\n",
       "      <td>336.723000</td>\n",
       "    </tr>\n",
       "    <tr>\n",
       "      <th>2022-02-28</th>\n",
       "      <td>167.454211</td>\n",
       "      <td>292.962632</td>\n",
       "    </tr>\n",
       "    <tr>\n",
       "      <th>2022-03-31</th>\n",
       "      <td>163.030870</td>\n",
       "      <td>304.793043</td>\n",
       "    </tr>\n",
       "    <tr>\n",
       "      <th>2022-04-30</th>\n",
       "      <td>164.523500</td>\n",
       "      <td>332.462000</td>\n",
       "    </tr>\n",
       "    <tr>\n",
       "      <th>2022-05-31</th>\n",
       "      <td>146.555714</td>\n",
       "      <td>255.223333</td>\n",
       "    </tr>\n",
       "    <tr>\n",
       "      <th>2022-06-30</th>\n",
       "      <td>138.075238</td>\n",
       "      <td>234.026667</td>\n",
       "    </tr>\n",
       "    <tr>\n",
       "      <th>2022-07-31</th>\n",
       "      <td>147.825500</td>\n",
       "      <td>251.394000</td>\n",
       "    </tr>\n",
       "    <tr>\n",
       "      <th>2022-08-31</th>\n",
       "      <td>165.017391</td>\n",
       "      <td>294.870000</td>\n",
       "    </tr>\n",
       "    <tr>\n",
       "      <th>2022-09-30</th>\n",
       "      <td>151.327619</td>\n",
       "      <td>288.734762</td>\n",
       "    </tr>\n",
       "    <tr>\n",
       "      <th>2022-10-31</th>\n",
       "      <td>143.423333</td>\n",
       "      <td>223.810476</td>\n",
       "    </tr>\n",
       "    <tr>\n",
       "      <th>2022-11-30</th>\n",
       "      <td>144.450476</td>\n",
       "      <td>191.246667</td>\n",
       "    </tr>\n",
       "    <tr>\n",
       "      <th>2022-12-31</th>\n",
       "      <td>136.592857</td>\n",
       "      <td>152.970476</td>\n",
       "    </tr>\n",
       "    <tr>\n",
       "      <th>2023-01-31</th>\n",
       "      <td>134.514500</td>\n",
       "      <td>134.196000</td>\n",
       "    </tr>\n",
       "    <tr>\n",
       "      <th>2023-02-28</th>\n",
       "      <td>149.704737</td>\n",
       "      <td>199.775263</td>\n",
       "    </tr>\n",
       "    <tr>\n",
       "      <th>2023-03-31</th>\n",
       "      <td>153.755652</td>\n",
       "      <td>188.522609</td>\n",
       "    </tr>\n",
       "    <tr>\n",
       "      <th>2023-04-30</th>\n",
       "      <td>163.757368</td>\n",
       "      <td>176.955263</td>\n",
       "    </tr>\n",
       "    <tr>\n",
       "      <th>2023-05-31</th>\n",
       "      <td>171.416364</td>\n",
       "      <td>175.799091</td>\n",
       "    </tr>\n",
       "    <tr>\n",
       "      <th>2023-06-30</th>\n",
       "      <td>183.098571</td>\n",
       "      <td>246.090476</td>\n",
       "    </tr>\n",
       "    <tr>\n",
       "      <th>2023-07-31</th>\n",
       "      <td>191.173500</td>\n",
       "      <td>273.505500</td>\n",
       "    </tr>\n",
       "    <tr>\n",
       "      <th>2023-08-31</th>\n",
       "      <td>180.074783</td>\n",
       "      <td>242.333043</td>\n",
       "    </tr>\n",
       "    <tr>\n",
       "      <th>2023-09-30</th>\n",
       "      <td>176.101000</td>\n",
       "      <td>256.968000</td>\n",
       "    </tr>\n",
       "    <tr>\n",
       "      <th>2023-10-31</th>\n",
       "      <td>173.779545</td>\n",
       "      <td>236.907727</td>\n",
       "    </tr>\n",
       "    <tr>\n",
       "      <th>2023-11-30</th>\n",
       "      <td>185.098095</td>\n",
       "      <td>229.411905</td>\n",
       "    </tr>\n",
       "    <tr>\n",
       "      <th>2023-12-31</th>\n",
       "      <td>193.573500</td>\n",
       "      <td>247.138000</td>\n",
       "    </tr>\n",
       "    <tr>\n",
       "      <th>2024-01-31</th>\n",
       "      <td>187.015714</td>\n",
       "      <td>216.130476</td>\n",
       "    </tr>\n",
       "    <tr>\n",
       "      <th>2024-02-29</th>\n",
       "      <td>184.240000</td>\n",
       "      <td>192.793000</td>\n",
       "    </tr>\n",
       "    <tr>\n",
       "      <th>2024-03-31</th>\n",
       "      <td>172.264000</td>\n",
       "      <td>176.163000</td>\n",
       "    </tr>\n",
       "    <tr>\n",
       "      <th>2024-04-30</th>\n",
       "      <td>169.179091</td>\n",
       "      <td>165.872273</td>\n",
       "    </tr>\n",
       "    <tr>\n",
       "      <th>2024-05-31</th>\n",
       "      <td>185.993182</td>\n",
       "      <td>177.231818</td>\n",
       "    </tr>\n",
       "    <tr>\n",
       "      <th>2024-06-30</th>\n",
       "      <td>206.024737</td>\n",
       "      <td>182.220000</td>\n",
       "    </tr>\n",
       "    <tr>\n",
       "      <th>2024-07-31</th>\n",
       "      <td>224.340000</td>\n",
       "      <td>240.621364</td>\n",
       "    </tr>\n",
       "    <tr>\n",
       "      <th>2024-08-31</th>\n",
       "      <td>221.560000</td>\n",
       "      <td>209.010909</td>\n",
       "    </tr>\n",
       "    <tr>\n",
       "      <th>2024-09-30</th>\n",
       "      <td>221.306667</td>\n",
       "      <td>218.891667</td>\n",
       "    </tr>\n",
       "  </tbody>\n",
       "</table>\n",
       "</div>"
      ],
      "text/plain": [
       "Ticker            AAPL        TSLA\n",
       "Date                              \n",
       "2021-01-31  130.233684  276.258947\n",
       "2021-02-28  128.911579  264.757368\n",
       "2021-03-31  119.483043  218.934348\n",
       "2021-04-30  129.228095  236.539048\n",
       "2021-05-31  124.465000  205.584000\n",
       "2021-06-30  127.627273  208.973636\n",
       "2021-07-31  142.536190  219.711905\n",
       "2021-08-31  145.697727  235.080455\n",
       "2021-09-30  145.864762  251.317143\n",
       "2021-10-31  143.166667  292.783333\n",
       "2021-11-30  151.896190  373.554286\n",
       "2021-12-31  170.943636  339.629545\n",
       "2022-01-31  167.308000  336.723000\n",
       "2022-02-28  167.454211  292.962632\n",
       "2022-03-31  163.030870  304.793043\n",
       "2022-04-30  164.523500  332.462000\n",
       "2022-05-31  146.555714  255.223333\n",
       "2022-06-30  138.075238  234.026667\n",
       "2022-07-31  147.825500  251.394000\n",
       "2022-08-31  165.017391  294.870000\n",
       "2022-09-30  151.327619  288.734762\n",
       "2022-10-31  143.423333  223.810476\n",
       "2022-11-30  144.450476  191.246667\n",
       "2022-12-31  136.592857  152.970476\n",
       "2023-01-31  134.514500  134.196000\n",
       "2023-02-28  149.704737  199.775263\n",
       "2023-03-31  153.755652  188.522609\n",
       "2023-04-30  163.757368  176.955263\n",
       "2023-05-31  171.416364  175.799091\n",
       "2023-06-30  183.098571  246.090476\n",
       "2023-07-31  191.173500  273.505500\n",
       "2023-08-31  180.074783  242.333043\n",
       "2023-09-30  176.101000  256.968000\n",
       "2023-10-31  173.779545  236.907727\n",
       "2023-11-30  185.098095  229.411905\n",
       "2023-12-31  193.573500  247.138000\n",
       "2024-01-31  187.015714  216.130476\n",
       "2024-02-29  184.240000  192.793000\n",
       "2024-03-31  172.264000  176.163000\n",
       "2024-04-30  169.179091  165.872273\n",
       "2024-05-31  185.993182  177.231818\n",
       "2024-06-30  206.024737  182.220000\n",
       "2024-07-31  224.340000  240.621364\n",
       "2024-08-31  221.560000  209.010909\n",
       "2024-09-30  221.306667  218.891667"
      ]
     },
     "execution_count": 46,
     "metadata": {},
     "output_type": "execute_result"
    }
   ],
   "source": [
    "# example: resampling data by month end frequency\n",
    "df.resample(rule='M').mean()"
   ]
  },
  {
   "cell_type": "markdown",
   "metadata": {},
   "source": [
    "you can resample based on custom resampling functions as well\n",
    "\n",
    "**example 1: plot the normalized monthly average price.**"
   ]
  },
  {
   "cell_type": "code",
   "execution_count": 49,
   "metadata": {},
   "outputs": [
    {
     "data": {
      "text/html": [
       "<div>\n",
       "<style scoped>\n",
       "    .dataframe tbody tr th:only-of-type {\n",
       "        vertical-align: middle;\n",
       "    }\n",
       "\n",
       "    .dataframe tbody tr th {\n",
       "        vertical-align: top;\n",
       "    }\n",
       "\n",
       "    .dataframe thead th {\n",
       "        text-align: right;\n",
       "    }\n",
       "</style>\n",
       "<table border=\"1\" class=\"dataframe\">\n",
       "  <thead>\n",
       "    <tr style=\"text-align: right;\">\n",
       "      <th>Ticker</th>\n",
       "      <th>AAPL</th>\n",
       "      <th>TSLA</th>\n",
       "    </tr>\n",
       "    <tr>\n",
       "      <th>Date</th>\n",
       "      <th></th>\n",
       "      <th></th>\n",
       "    </tr>\n",
       "  </thead>\n",
       "  <tbody>\n",
       "    <tr>\n",
       "      <th>2021-01-31</th>\n",
       "      <td>1.000000</td>\n",
       "      <td>1.000000</td>\n",
       "    </tr>\n",
       "    <tr>\n",
       "      <th>2021-02-28</th>\n",
       "      <td>0.989848</td>\n",
       "      <td>0.958367</td>\n",
       "    </tr>\n",
       "    <tr>\n",
       "      <th>2021-03-31</th>\n",
       "      <td>0.917451</td>\n",
       "      <td>0.792497</td>\n",
       "    </tr>\n",
       "    <tr>\n",
       "      <th>2021-04-30</th>\n",
       "      <td>0.992279</td>\n",
       "      <td>0.856222</td>\n",
       "    </tr>\n",
       "    <tr>\n",
       "      <th>2021-05-31</th>\n",
       "      <td>0.955705</td>\n",
       "      <td>0.744171</td>\n",
       "    </tr>\n",
       "    <tr>\n",
       "      <th>2021-06-30</th>\n",
       "      <td>0.979987</td>\n",
       "      <td>0.756441</td>\n",
       "    </tr>\n",
       "    <tr>\n",
       "      <th>2021-07-31</th>\n",
       "      <td>1.094465</td>\n",
       "      <td>0.795311</td>\n",
       "    </tr>\n",
       "    <tr>\n",
       "      <th>2021-08-31</th>\n",
       "      <td>1.118741</td>\n",
       "      <td>0.850942</td>\n",
       "    </tr>\n",
       "    <tr>\n",
       "      <th>2021-09-30</th>\n",
       "      <td>1.120023</td>\n",
       "      <td>0.909716</td>\n",
       "    </tr>\n",
       "    <tr>\n",
       "      <th>2021-10-31</th>\n",
       "      <td>1.099306</td>\n",
       "      <td>1.059815</td>\n",
       "    </tr>\n",
       "    <tr>\n",
       "      <th>2021-11-30</th>\n",
       "      <td>1.166336</td>\n",
       "      <td>1.352189</td>\n",
       "    </tr>\n",
       "    <tr>\n",
       "      <th>2021-12-31</th>\n",
       "      <td>1.312592</td>\n",
       "      <td>1.229388</td>\n",
       "    </tr>\n",
       "    <tr>\n",
       "      <th>2022-01-31</th>\n",
       "      <td>1.284675</td>\n",
       "      <td>1.218867</td>\n",
       "    </tr>\n",
       "    <tr>\n",
       "      <th>2022-02-28</th>\n",
       "      <td>1.285798</td>\n",
       "      <td>1.060464</td>\n",
       "    </tr>\n",
       "    <tr>\n",
       "      <th>2022-03-31</th>\n",
       "      <td>1.251833</td>\n",
       "      <td>1.103288</td>\n",
       "    </tr>\n",
       "    <tr>\n",
       "      <th>2022-04-30</th>\n",
       "      <td>1.263295</td>\n",
       "      <td>1.203443</td>\n",
       "    </tr>\n",
       "    <tr>\n",
       "      <th>2022-05-31</th>\n",
       "      <td>1.125329</td>\n",
       "      <td>0.923855</td>\n",
       "    </tr>\n",
       "    <tr>\n",
       "      <th>2022-06-30</th>\n",
       "      <td>1.060211</td>\n",
       "      <td>0.847128</td>\n",
       "    </tr>\n",
       "    <tr>\n",
       "      <th>2022-07-31</th>\n",
       "      <td>1.135079</td>\n",
       "      <td>0.909994</td>\n",
       "    </tr>\n",
       "    <tr>\n",
       "      <th>2022-08-31</th>\n",
       "      <td>1.267087</td>\n",
       "      <td>1.067368</td>\n",
       "    </tr>\n",
       "    <tr>\n",
       "      <th>2022-09-30</th>\n",
       "      <td>1.161970</td>\n",
       "      <td>1.045160</td>\n",
       "    </tr>\n",
       "    <tr>\n",
       "      <th>2022-10-31</th>\n",
       "      <td>1.101277</td>\n",
       "      <td>0.810147</td>\n",
       "    </tr>\n",
       "    <tr>\n",
       "      <th>2022-11-30</th>\n",
       "      <td>1.109164</td>\n",
       "      <td>0.692273</td>\n",
       "    </tr>\n",
       "    <tr>\n",
       "      <th>2022-12-31</th>\n",
       "      <td>1.048829</td>\n",
       "      <td>0.553721</td>\n",
       "    </tr>\n",
       "    <tr>\n",
       "      <th>2023-01-31</th>\n",
       "      <td>1.032870</td>\n",
       "      <td>0.485762</td>\n",
       "    </tr>\n",
       "    <tr>\n",
       "      <th>2023-02-28</th>\n",
       "      <td>1.149509</td>\n",
       "      <td>0.723145</td>\n",
       "    </tr>\n",
       "    <tr>\n",
       "      <th>2023-03-31</th>\n",
       "      <td>1.180614</td>\n",
       "      <td>0.682413</td>\n",
       "    </tr>\n",
       "    <tr>\n",
       "      <th>2023-04-30</th>\n",
       "      <td>1.257412</td>\n",
       "      <td>0.640541</td>\n",
       "    </tr>\n",
       "    <tr>\n",
       "      <th>2023-05-31</th>\n",
       "      <td>1.316221</td>\n",
       "      <td>0.636356</td>\n",
       "    </tr>\n",
       "    <tr>\n",
       "      <th>2023-06-30</th>\n",
       "      <td>1.405923</td>\n",
       "      <td>0.890796</td>\n",
       "    </tr>\n",
       "    <tr>\n",
       "      <th>2023-07-31</th>\n",
       "      <td>1.467927</td>\n",
       "      <td>0.990033</td>\n",
       "    </tr>\n",
       "    <tr>\n",
       "      <th>2023-08-31</th>\n",
       "      <td>1.382705</td>\n",
       "      <td>0.877195</td>\n",
       "    </tr>\n",
       "    <tr>\n",
       "      <th>2023-09-30</th>\n",
       "      <td>1.352192</td>\n",
       "      <td>0.930171</td>\n",
       "    </tr>\n",
       "    <tr>\n",
       "      <th>2023-10-31</th>\n",
       "      <td>1.334367</td>\n",
       "      <td>0.857557</td>\n",
       "    </tr>\n",
       "    <tr>\n",
       "      <th>2023-11-30</th>\n",
       "      <td>1.421277</td>\n",
       "      <td>0.830423</td>\n",
       "    </tr>\n",
       "    <tr>\n",
       "      <th>2023-12-31</th>\n",
       "      <td>1.486355</td>\n",
       "      <td>0.894588</td>\n",
       "    </tr>\n",
       "    <tr>\n",
       "      <th>2024-01-31</th>\n",
       "      <td>1.436001</td>\n",
       "      <td>0.782347</td>\n",
       "    </tr>\n",
       "    <tr>\n",
       "      <th>2024-02-29</th>\n",
       "      <td>1.414688</td>\n",
       "      <td>0.697871</td>\n",
       "    </tr>\n",
       "    <tr>\n",
       "      <th>2024-03-31</th>\n",
       "      <td>1.322730</td>\n",
       "      <td>0.637673</td>\n",
       "    </tr>\n",
       "    <tr>\n",
       "      <th>2024-04-30</th>\n",
       "      <td>1.299043</td>\n",
       "      <td>0.600423</td>\n",
       "    </tr>\n",
       "    <tr>\n",
       "      <th>2024-05-31</th>\n",
       "      <td>1.428150</td>\n",
       "      <td>0.641542</td>\n",
       "    </tr>\n",
       "    <tr>\n",
       "      <th>2024-06-30</th>\n",
       "      <td>1.581962</td>\n",
       "      <td>0.659599</td>\n",
       "    </tr>\n",
       "    <tr>\n",
       "      <th>2024-07-31</th>\n",
       "      <td>1.722596</td>\n",
       "      <td>0.870999</td>\n",
       "    </tr>\n",
       "    <tr>\n",
       "      <th>2024-08-31</th>\n",
       "      <td>1.701250</td>\n",
       "      <td>0.756576</td>\n",
       "    </tr>\n",
       "    <tr>\n",
       "      <th>2024-09-30</th>\n",
       "      <td>1.699304</td>\n",
       "      <td>0.792342</td>\n",
       "    </tr>\n",
       "  </tbody>\n",
       "</table>\n",
       "</div>"
      ],
      "text/plain": [
       "Ticker          AAPL      TSLA\n",
       "Date                          \n",
       "2021-01-31  1.000000  1.000000\n",
       "2021-02-28  0.989848  0.958367\n",
       "2021-03-31  0.917451  0.792497\n",
       "2021-04-30  0.992279  0.856222\n",
       "2021-05-31  0.955705  0.744171\n",
       "2021-06-30  0.979987  0.756441\n",
       "2021-07-31  1.094465  0.795311\n",
       "2021-08-31  1.118741  0.850942\n",
       "2021-09-30  1.120023  0.909716\n",
       "2021-10-31  1.099306  1.059815\n",
       "2021-11-30  1.166336  1.352189\n",
       "2021-12-31  1.312592  1.229388\n",
       "2022-01-31  1.284675  1.218867\n",
       "2022-02-28  1.285798  1.060464\n",
       "2022-03-31  1.251833  1.103288\n",
       "2022-04-30  1.263295  1.203443\n",
       "2022-05-31  1.125329  0.923855\n",
       "2022-06-30  1.060211  0.847128\n",
       "2022-07-31  1.135079  0.909994\n",
       "2022-08-31  1.267087  1.067368\n",
       "2022-09-30  1.161970  1.045160\n",
       "2022-10-31  1.101277  0.810147\n",
       "2022-11-30  1.109164  0.692273\n",
       "2022-12-31  1.048829  0.553721\n",
       "2023-01-31  1.032870  0.485762\n",
       "2023-02-28  1.149509  0.723145\n",
       "2023-03-31  1.180614  0.682413\n",
       "2023-04-30  1.257412  0.640541\n",
       "2023-05-31  1.316221  0.636356\n",
       "2023-06-30  1.405923  0.890796\n",
       "2023-07-31  1.467927  0.990033\n",
       "2023-08-31  1.382705  0.877195\n",
       "2023-09-30  1.352192  0.930171\n",
       "2023-10-31  1.334367  0.857557\n",
       "2023-11-30  1.421277  0.830423\n",
       "2023-12-31  1.486355  0.894588\n",
       "2024-01-31  1.436001  0.782347\n",
       "2024-02-29  1.414688  0.697871\n",
       "2024-03-31  1.322730  0.637673\n",
       "2024-04-30  1.299043  0.600423\n",
       "2024-05-31  1.428150  0.641542\n",
       "2024-06-30  1.581962  0.659599\n",
       "2024-07-31  1.722596  0.870999\n",
       "2024-08-31  1.701250  0.756576\n",
       "2024-09-30  1.699304  0.792342"
      ]
     },
     "execution_count": 49,
     "metadata": {},
     "output_type": "execute_result"
    }
   ],
   "source": [
    "df.resample(rule='M').mean().apply(lambda x: x/x[0])"
   ]
  },
  {
   "cell_type": "code",
   "execution_count": 50,
   "metadata": {},
   "outputs": [
    {
     "data": {
      "image/png": "[encoded data removed]",
      "text/plain": [
       "<Figure size 1200x600 with 1 Axes>"
      ]
     },
     "metadata": {},
     "output_type": "display_data"
    }
   ],
   "source": [
    "df.resample(rule='M').mean().apply(lambda x: x/x[0]).plot(figsize=(12,6))\n",
    "plt.show()"
   ]
  },
  {
   "cell_type": "code",
   "execution_count": 51,
   "metadata": {},
   "outputs": [
    {
     "data": {
      "text/html": [
       "<div>\n",
       "<style scoped>\n",
       "    .dataframe tbody tr th:only-of-type {\n",
       "        vertical-align: middle;\n",
       "    }\n",
       "\n",
       "    .dataframe tbody tr th {\n",
       "        vertical-align: top;\n",
       "    }\n",
       "\n",
       "    .dataframe thead th {\n",
       "        text-align: right;\n",
       "    }\n",
       "</style>\n",
       "<table border=\"1\" class=\"dataframe\">\n",
       "  <thead>\n",
       "    <tr style=\"text-align: right;\">\n",
       "      <th>Ticker</th>\n",
       "      <th>AAPL</th>\n",
       "      <th>TSLA</th>\n",
       "    </tr>\n",
       "    <tr>\n",
       "      <th>Date</th>\n",
       "      <th></th>\n",
       "      <th></th>\n",
       "    </tr>\n",
       "  </thead>\n",
       "  <tbody>\n",
       "    <tr>\n",
       "      <th>2021-01-31</th>\n",
       "      <td>0.019735</td>\n",
       "      <td>0.087355</td>\n",
       "    </tr>\n",
       "    <tr>\n",
       "      <th>2021-02-28</th>\n",
       "      <td>-0.094661</td>\n",
       "      <td>-0.195649</td>\n",
       "    </tr>\n",
       "    <tr>\n",
       "      <th>2021-03-31</th>\n",
       "      <td>-0.044061</td>\n",
       "      <td>-0.070319</td>\n",
       "    </tr>\n",
       "    <tr>\n",
       "      <th>2021-04-30</th>\n",
       "      <td>0.068745</td>\n",
       "      <td>0.072083</td>\n",
       "    </tr>\n",
       "    <tr>\n",
       "      <th>2021-05-31</th>\n",
       "      <td>-0.058258</td>\n",
       "      <td>-0.087122</td>\n",
       "    </tr>\n",
       "    <tr>\n",
       "      <th>2021-06-30</th>\n",
       "      <td>0.102007</td>\n",
       "      <td>0.089436</td>\n",
       "    </tr>\n",
       "    <tr>\n",
       "      <th>2021-07-31</th>\n",
       "      <td>0.062532</td>\n",
       "      <td>0.013719</td>\n",
       "    </tr>\n",
       "    <tr>\n",
       "      <th>2021-08-31</th>\n",
       "      <td>0.044923</td>\n",
       "      <td>0.036693</td>\n",
       "    </tr>\n",
       "    <tr>\n",
       "      <th>2021-09-30</th>\n",
       "      <td>-0.072200</td>\n",
       "      <td>0.056355</td>\n",
       "    </tr>\n",
       "    <tr>\n",
       "      <th>2021-10-31</th>\n",
       "      <td>0.050107</td>\n",
       "      <td>0.436980</td>\n",
       "    </tr>\n",
       "    <tr>\n",
       "      <th>2021-11-30</th>\n",
       "      <td>0.111255</td>\n",
       "      <td>-0.052797</td>\n",
       "    </tr>\n",
       "    <tr>\n",
       "      <th>2021-12-31</th>\n",
       "      <td>0.077700</td>\n",
       "      <td>-0.034904</td>\n",
       "    </tr>\n",
       "    <tr>\n",
       "      <th>2022-01-31</th>\n",
       "      <td>-0.039717</td>\n",
       "      <td>-0.219263</td>\n",
       "    </tr>\n",
       "    <tr>\n",
       "      <th>2022-02-28</th>\n",
       "      <td>-0.053146</td>\n",
       "      <td>-0.065331</td>\n",
       "    </tr>\n",
       "    <tr>\n",
       "      <th>2022-03-31</th>\n",
       "      <td>0.069897</td>\n",
       "      <td>0.246703</td>\n",
       "    </tr>\n",
       "    <tr>\n",
       "      <th>2022-04-30</th>\n",
       "      <td>-0.095573</td>\n",
       "      <td>-0.197162</td>\n",
       "    </tr>\n",
       "    <tr>\n",
       "      <th>2022-05-31</th>\n",
       "      <td>-0.056362</td>\n",
       "      <td>-0.160243</td>\n",
       "    </tr>\n",
       "    <tr>\n",
       "      <th>2022-06-30</th>\n",
       "      <td>-0.080678</td>\n",
       "      <td>-0.090441</td>\n",
       "    </tr>\n",
       "    <tr>\n",
       "      <th>2022-07-31</th>\n",
       "      <td>0.169727</td>\n",
       "      <td>0.307533</td>\n",
       "    </tr>\n",
       "    <tr>\n",
       "      <th>2022-08-31</th>\n",
       "      <td>-0.025201</td>\n",
       "      <td>-0.072894</td>\n",
       "    </tr>\n",
       "    <tr>\n",
       "      <th>2022-09-30</th>\n",
       "      <td>-0.125072</td>\n",
       "      <td>-0.042972</td>\n",
       "    </tr>\n",
       "    <tr>\n",
       "      <th>2022-10-31</th>\n",
       "      <td>0.076443</td>\n",
       "      <td>-0.061304</td>\n",
       "    </tr>\n",
       "    <tr>\n",
       "      <th>2022-11-30</th>\n",
       "      <td>-0.015772</td>\n",
       "      <td>-0.145378</td>\n",
       "    </tr>\n",
       "    <tr>\n",
       "      <th>2022-12-31</th>\n",
       "      <td>-0.123937</td>\n",
       "      <td>-0.367334</td>\n",
       "    </tr>\n",
       "    <tr>\n",
       "      <th>2023-01-31</th>\n",
       "      <td>0.153753</td>\n",
       "      <td>0.602405</td>\n",
       "    </tr>\n",
       "    <tr>\n",
       "      <th>2023-02-28</th>\n",
       "      <td>0.015201</td>\n",
       "      <td>0.133951</td>\n",
       "    </tr>\n",
       "    <tr>\n",
       "      <th>2023-03-31</th>\n",
       "      <td>0.134762</td>\n",
       "      <td>0.023130</td>\n",
       "    </tr>\n",
       "    <tr>\n",
       "      <th>2023-04-30</th>\n",
       "      <td>0.021168</td>\n",
       "      <td>-0.156390</td>\n",
       "    </tr>\n",
       "    <tr>\n",
       "      <th>2023-05-31</th>\n",
       "      <td>0.046592</td>\n",
       "      <td>0.260150</td>\n",
       "    </tr>\n",
       "    <tr>\n",
       "      <th>2023-06-30</th>\n",
       "      <td>0.077069</td>\n",
       "      <td>0.261421</td>\n",
       "    </tr>\n",
       "    <tr>\n",
       "      <th>2023-07-31</th>\n",
       "      <td>0.020761</td>\n",
       "      <td>-0.044278</td>\n",
       "    </tr>\n",
       "    <tr>\n",
       "      <th>2023-08-31</th>\n",
       "      <td>-0.038281</td>\n",
       "      <td>-0.011453</td>\n",
       "    </tr>\n",
       "    <tr>\n",
       "      <th>2023-09-30</th>\n",
       "      <td>-0.096340</td>\n",
       "      <td>0.021264</td>\n",
       "    </tr>\n",
       "    <tr>\n",
       "      <th>2023-10-31</th>\n",
       "      <td>-0.017181</td>\n",
       "      <td>-0.201749</td>\n",
       "    </tr>\n",
       "    <tr>\n",
       "      <th>2023-11-30</th>\n",
       "      <td>0.093309</td>\n",
       "      <td>0.167364</td>\n",
       "    </tr>\n",
       "    <tr>\n",
       "      <th>2023-12-31</th>\n",
       "      <td>0.006718</td>\n",
       "      <td>0.040405</td>\n",
       "    </tr>\n",
       "    <tr>\n",
       "      <th>2024-01-31</th>\n",
       "      <td>-0.006705</td>\n",
       "      <td>-0.246075</td>\n",
       "    </tr>\n",
       "    <tr>\n",
       "      <th>2024-02-29</th>\n",
       "      <td>-0.031426</td>\n",
       "      <td>0.068940</td>\n",
       "    </tr>\n",
       "    <tr>\n",
       "      <th>2024-03-31</th>\n",
       "      <td>-0.045533</td>\n",
       "      <td>-0.132501</td>\n",
       "    </tr>\n",
       "    <tr>\n",
       "      <th>2024-04-30</th>\n",
       "      <td>0.001769</td>\n",
       "      <td>0.045999</td>\n",
       "    </tr>\n",
       "    <tr>\n",
       "      <th>2024-05-31</th>\n",
       "      <td>0.137080</td>\n",
       "      <td>-0.010612</td>\n",
       "    </tr>\n",
       "    <tr>\n",
       "      <th>2024-06-30</th>\n",
       "      <td>0.085496</td>\n",
       "      <td>0.122469</td>\n",
       "    </tr>\n",
       "    <tr>\n",
       "      <th>2024-07-31</th>\n",
       "      <td>0.024573</td>\n",
       "      <td>0.105832</td>\n",
       "    </tr>\n",
       "    <tr>\n",
       "      <th>2024-08-31</th>\n",
       "      <td>0.049929</td>\n",
       "      <td>-0.012681</td>\n",
       "    </tr>\n",
       "    <tr>\n",
       "      <th>2024-09-30</th>\n",
       "      <td>-0.011941</td>\n",
       "      <td>0.073932</td>\n",
       "    </tr>\n",
       "  </tbody>\n",
       "</table>\n",
       "</div>"
      ],
      "text/plain": [
       "Ticker          AAPL      TSLA\n",
       "Date                          \n",
       "2021-01-31  0.019735  0.087355\n",
       "2021-02-28 -0.094661 -0.195649\n",
       "2021-03-31 -0.044061 -0.070319\n",
       "2021-04-30  0.068745  0.072083\n",
       "2021-05-31 -0.058258 -0.087122\n",
       "2021-06-30  0.102007  0.089436\n",
       "2021-07-31  0.062532  0.013719\n",
       "2021-08-31  0.044923  0.036693\n",
       "2021-09-30 -0.072200  0.056355\n",
       "2021-10-31  0.050107  0.436980\n",
       "2021-11-30  0.111255 -0.052797\n",
       "2021-12-31  0.077700 -0.034904\n",
       "2022-01-31 -0.039717 -0.219263\n",
       "2022-02-28 -0.053146 -0.065331\n",
       "2022-03-31  0.069897  0.246703\n",
       "2022-04-30 -0.095573 -0.197162\n",
       "2022-05-31 -0.056362 -0.160243\n",
       "2022-06-30 -0.080678 -0.090441\n",
       "2022-07-31  0.169727  0.307533\n",
       "2022-08-31 -0.025201 -0.072894\n",
       "2022-09-30 -0.125072 -0.042972\n",
       "2022-10-31  0.076443 -0.061304\n",
       "2022-11-30 -0.015772 -0.145378\n",
       "2022-12-31 -0.123937 -0.367334\n",
       "2023-01-31  0.153753  0.602405\n",
       "2023-02-28  0.015201  0.133951\n",
       "2023-03-31  0.134762  0.023130\n",
       "2023-04-30  0.021168 -0.156390\n",
       "2023-05-31  0.046592  0.260150\n",
       "2023-06-30  0.077069  0.261421\n",
       "2023-07-31  0.020761 -0.044278\n",
       "2023-08-31 -0.038281 -0.011453\n",
       "2023-09-30 -0.096340  0.021264\n",
       "2023-10-31 -0.017181 -0.201749\n",
       "2023-11-30  0.093309  0.167364\n",
       "2023-12-31  0.006718  0.040405\n",
       "2024-01-31 -0.006705 -0.246075\n",
       "2024-02-29 -0.031426  0.068940\n",
       "2024-03-31 -0.045533 -0.132501\n",
       "2024-04-30  0.001769  0.045999\n",
       "2024-05-31  0.137080 -0.010612\n",
       "2024-06-30  0.085496  0.122469\n",
       "2024-07-31  0.024573  0.105832\n",
       "2024-08-31  0.049929 -0.012681\n",
       "2024-09-30 -0.011941  0.073932"
      ]
     },
     "execution_count": 51,
     "metadata": {},
     "output_type": "execute_result"
    }
   ],
   "source": [
    "# example 2: draw a barplot comparing monthly returns between Tesla and Apple\n",
    "\n",
    "df.resample(rule='M').apply(lambda x : x[-1]/x[0]-1)"
   ]
  },
  {
   "cell_type": "code",
   "execution_count": 52,
   "metadata": {},
   "outputs": [
    {
     "data": {
      "image/png": "[encoded data removed]",
      "text/plain": [
       "<Figure size 1200x600 with 1 Axes>"
      ]
     },
     "metadata": {},
     "output_type": "display_data"
    }
   ],
   "source": [
    "df.resample(rule='M').apply(lambda x : x[-1]/x[0]-1).plot.bar(figsize=(12,6))\n",
    "plt.show()"
   ]
  },
  {
   "cell_type": "markdown",
   "metadata": {},
   "source": [
    "#### 2. Time shifting (leads and lags)\n"
   ]
  },
  {
   "cell_type": "code",
   "execution_count": 53,
   "metadata": {},
   "outputs": [
    {
     "data": {
      "text/html": [
       "<div>\n",
       "<style scoped>\n",
       "    .dataframe tbody tr th:only-of-type {\n",
       "        vertical-align: middle;\n",
       "    }\n",
       "\n",
       "    .dataframe tbody tr th {\n",
       "        vertical-align: top;\n",
       "    }\n",
       "\n",
       "    .dataframe thead th {\n",
       "        text-align: right;\n",
       "    }\n",
       "</style>\n",
       "<table border=\"1\" class=\"dataframe\">\n",
       "  <thead>\n",
       "    <tr style=\"text-align: right;\">\n",
       "      <th></th>\n",
       "      <th>AAPL</th>\n",
       "    </tr>\n",
       "    <tr>\n",
       "      <th>Date</th>\n",
       "      <th></th>\n",
       "    </tr>\n",
       "  </thead>\n",
       "  <tbody>\n",
       "    <tr>\n",
       "      <th>2021-01-04</th>\n",
       "      <td>126.68</td>\n",
       "    </tr>\n",
       "    <tr>\n",
       "      <th>2021-01-05</th>\n",
       "      <td>128.25</td>\n",
       "    </tr>\n",
       "    <tr>\n",
       "      <th>2021-01-06</th>\n",
       "      <td>123.93</td>\n",
       "    </tr>\n",
       "    <tr>\n",
       "      <th>2021-01-07</th>\n",
       "      <td>128.16</td>\n",
       "    </tr>\n",
       "    <tr>\n",
       "      <th>2021-01-08</th>\n",
       "      <td>129.27</td>\n",
       "    </tr>\n",
       "  </tbody>\n",
       "</table>\n",
       "</div>"
      ],
      "text/plain": [
       "              AAPL\n",
       "Date              \n",
       "2021-01-04  126.68\n",
       "2021-01-05  128.25\n",
       "2021-01-06  123.93\n",
       "2021-01-07  128.16\n",
       "2021-01-08  129.27"
      ]
     },
     "execution_count": 53,
     "metadata": {},
     "output_type": "execute_result"
    }
   ],
   "source": [
    "# shift forward\n",
    "df_apple= pd.DataFrame(df['AAPL'])\n",
    "df_apple.head()"
   ]
  },
  {
   "cell_type": "code",
   "execution_count": 54,
   "metadata": {},
   "outputs": [
    {
     "data": {
      "text/html": [
       "<div>\n",
       "<style scoped>\n",
       "    .dataframe tbody tr th:only-of-type {\n",
       "        vertical-align: middle;\n",
       "    }\n",
       "\n",
       "    .dataframe tbody tr th {\n",
       "        vertical-align: top;\n",
       "    }\n",
       "\n",
       "    .dataframe thead th {\n",
       "        text-align: right;\n",
       "    }\n",
       "</style>\n",
       "<table border=\"1\" class=\"dataframe\">\n",
       "  <thead>\n",
       "    <tr style=\"text-align: right;\">\n",
       "      <th></th>\n",
       "      <th>AAPL</th>\n",
       "      <th>lag(t-1)</th>\n",
       "      <th>lead(t+1)</th>\n",
       "    </tr>\n",
       "    <tr>\n",
       "      <th>Date</th>\n",
       "      <th></th>\n",
       "      <th></th>\n",
       "      <th></th>\n",
       "    </tr>\n",
       "  </thead>\n",
       "  <tbody>\n",
       "    <tr>\n",
       "      <th>2021-01-04</th>\n",
       "      <td>126.68</td>\n",
       "      <td>NaN</td>\n",
       "      <td>128.25</td>\n",
       "    </tr>\n",
       "    <tr>\n",
       "      <th>2021-01-05</th>\n",
       "      <td>128.25</td>\n",
       "      <td>126.68</td>\n",
       "      <td>123.93</td>\n",
       "    </tr>\n",
       "    <tr>\n",
       "      <th>2021-01-06</th>\n",
       "      <td>123.93</td>\n",
       "      <td>128.25</td>\n",
       "      <td>128.16</td>\n",
       "    </tr>\n",
       "    <tr>\n",
       "      <th>2021-01-07</th>\n",
       "      <td>128.16</td>\n",
       "      <td>123.93</td>\n",
       "      <td>129.27</td>\n",
       "    </tr>\n",
       "    <tr>\n",
       "      <th>2021-01-08</th>\n",
       "      <td>129.27</td>\n",
       "      <td>128.16</td>\n",
       "      <td>126.26</td>\n",
       "    </tr>\n",
       "  </tbody>\n",
       "</table>\n",
       "</div>"
      ],
      "text/plain": [
       "              AAPL  lag(t-1)  lead(t+1)\n",
       "Date                                   \n",
       "2021-01-04  126.68       NaN     128.25\n",
       "2021-01-05  128.25    126.68     123.93\n",
       "2021-01-06  123.93    128.25     128.16\n",
       "2021-01-07  128.16    123.93     129.27\n",
       "2021-01-08  129.27    128.16     126.26"
      ]
     },
     "execution_count": 54,
     "metadata": {},
     "output_type": "execute_result"
    }
   ],
   "source": [
    "df_apple['lag(t-1)']= df_apple['AAPL'].shift(1)\n",
    "df_apple['lead(t+1)']= df_apple['AAPL'].shift(-1)\n",
    "\n",
    "df_apple.head()"
   ]
  },
  {
   "cell_type": "markdown",
   "metadata": {},
   "source": [
    "#### 3. Rolling windows and Expanding windows"
   ]
  },
  {
   "cell_type": "markdown",
   "metadata": {},
   "source": [
    "Let's construct a 30 day simple moving averages for Tesla!"
   ]
  },
  {
   "cell_type": "code",
   "execution_count": 55,
   "metadata": {},
   "outputs": [
    {
     "data": {
      "text/html": [
       "<div>\n",
       "<style scoped>\n",
       "    .dataframe tbody tr th:only-of-type {\n",
       "        vertical-align: middle;\n",
       "    }\n",
       "\n",
       "    .dataframe tbody tr th {\n",
       "        vertical-align: top;\n",
       "    }\n",
       "\n",
       "    .dataframe thead th {\n",
       "        text-align: right;\n",
       "    }\n",
       "</style>\n",
       "<table border=\"1\" class=\"dataframe\">\n",
       "  <thead>\n",
       "    <tr style=\"text-align: right;\">\n",
       "      <th>Ticker</th>\n",
       "      <th>AAPL</th>\n",
       "      <th>TSLA</th>\n",
       "    </tr>\n",
       "    <tr>\n",
       "      <th>Date</th>\n",
       "      <th></th>\n",
       "      <th></th>\n",
       "    </tr>\n",
       "  </thead>\n",
       "  <tbody>\n",
       "    <tr>\n",
       "      <th>2021-01-04</th>\n",
       "      <td>126.68</td>\n",
       "      <td>243.26</td>\n",
       "    </tr>\n",
       "    <tr>\n",
       "      <th>2021-01-05</th>\n",
       "      <td>128.25</td>\n",
       "      <td>245.04</td>\n",
       "    </tr>\n",
       "    <tr>\n",
       "      <th>2021-01-06</th>\n",
       "      <td>123.93</td>\n",
       "      <td>251.99</td>\n",
       "    </tr>\n",
       "    <tr>\n",
       "      <th>2021-01-07</th>\n",
       "      <td>128.16</td>\n",
       "      <td>272.01</td>\n",
       "    </tr>\n",
       "    <tr>\n",
       "      <th>2021-01-08</th>\n",
       "      <td>129.27</td>\n",
       "      <td>293.34</td>\n",
       "    </tr>\n",
       "  </tbody>\n",
       "</table>\n",
       "</div>"
      ],
      "text/plain": [
       "Ticker        AAPL    TSLA\n",
       "Date                      \n",
       "2021-01-04  126.68  243.26\n",
       "2021-01-05  128.25  245.04\n",
       "2021-01-06  123.93  251.99\n",
       "2021-01-07  128.16  272.01\n",
       "2021-01-08  129.27  293.34"
      ]
     },
     "execution_count": 55,
     "metadata": {},
     "output_type": "execute_result"
    }
   ],
   "source": [
    "df.head()"
   ]
  },
  {
   "cell_type": "code",
   "execution_count": 56,
   "metadata": {},
   "outputs": [
    {
     "data": {
      "text/html": [
       "<div>\n",
       "<style scoped>\n",
       "    .dataframe tbody tr th:only-of-type {\n",
       "        vertical-align: middle;\n",
       "    }\n",
       "\n",
       "    .dataframe tbody tr th {\n",
       "        vertical-align: top;\n",
       "    }\n",
       "\n",
       "    .dataframe thead th {\n",
       "        text-align: right;\n",
       "    }\n",
       "</style>\n",
       "<table border=\"1\" class=\"dataframe\">\n",
       "  <thead>\n",
       "    <tr style=\"text-align: right;\">\n",
       "      <th>Ticker</th>\n",
       "      <th>AAPL</th>\n",
       "      <th>TSLA</th>\n",
       "    </tr>\n",
       "    <tr>\n",
       "      <th>Date</th>\n",
       "      <th></th>\n",
       "      <th></th>\n",
       "    </tr>\n",
       "  </thead>\n",
       "  <tbody>\n",
       "    <tr>\n",
       "      <th>2021-01-04</th>\n",
       "      <td>NaN</td>\n",
       "      <td>NaN</td>\n",
       "    </tr>\n",
       "    <tr>\n",
       "      <th>2021-01-05</th>\n",
       "      <td>NaN</td>\n",
       "      <td>NaN</td>\n",
       "    </tr>\n",
       "    <tr>\n",
       "      <th>2021-01-06</th>\n",
       "      <td>NaN</td>\n",
       "      <td>NaN</td>\n",
       "    </tr>\n",
       "    <tr>\n",
       "      <th>2021-01-07</th>\n",
       "      <td>NaN</td>\n",
       "      <td>NaN</td>\n",
       "    </tr>\n",
       "    <tr>\n",
       "      <th>2021-01-08</th>\n",
       "      <td>127.258</td>\n",
       "      <td>261.128</td>\n",
       "    </tr>\n",
       "  </tbody>\n",
       "</table>\n",
       "</div>"
      ],
      "text/plain": [
       "Ticker         AAPL     TSLA\n",
       "Date                        \n",
       "2021-01-04      NaN      NaN\n",
       "2021-01-05      NaN      NaN\n",
       "2021-01-06      NaN      NaN\n",
       "2021-01-07      NaN      NaN\n",
       "2021-01-08  127.258  261.128"
      ]
     },
     "execution_count": 56,
     "metadata": {},
     "output_type": "execute_result"
    }
   ],
   "source": [
    "df.rolling(window=5).mean().head()"
   ]
  },
  {
   "cell_type": "code",
   "execution_count": 57,
   "metadata": {},
   "outputs": [],
   "source": [
    "df['TSLA_MA(30)']=df['TSLA'].rolling(30).mean()"
   ]
  },
  {
   "cell_type": "code",
   "execution_count": 58,
   "metadata": {},
   "outputs": [
    {
     "data": {
      "text/html": [
       "<div>\n",
       "<style scoped>\n",
       "    .dataframe tbody tr th:only-of-type {\n",
       "        vertical-align: middle;\n",
       "    }\n",
       "\n",
       "    .dataframe tbody tr th {\n",
       "        vertical-align: top;\n",
       "    }\n",
       "\n",
       "    .dataframe thead th {\n",
       "        text-align: right;\n",
       "    }\n",
       "</style>\n",
       "<table border=\"1\" class=\"dataframe\">\n",
       "  <thead>\n",
       "    <tr style=\"text-align: right;\">\n",
       "      <th>Ticker</th>\n",
       "      <th>AAPL</th>\n",
       "      <th>TSLA</th>\n",
       "      <th>TSLA_MA(30)</th>\n",
       "    </tr>\n",
       "    <tr>\n",
       "      <th>Date</th>\n",
       "      <th></th>\n",
       "      <th></th>\n",
       "      <th></th>\n",
       "    </tr>\n",
       "  </thead>\n",
       "  <tbody>\n",
       "    <tr>\n",
       "      <th>2021-01-04</th>\n",
       "      <td>126.68</td>\n",
       "      <td>243.26</td>\n",
       "      <td>NaN</td>\n",
       "    </tr>\n",
       "    <tr>\n",
       "      <th>2021-01-05</th>\n",
       "      <td>128.25</td>\n",
       "      <td>245.04</td>\n",
       "      <td>NaN</td>\n",
       "    </tr>\n",
       "    <tr>\n",
       "      <th>2021-01-06</th>\n",
       "      <td>123.93</td>\n",
       "      <td>251.99</td>\n",
       "      <td>NaN</td>\n",
       "    </tr>\n",
       "    <tr>\n",
       "      <th>2021-01-07</th>\n",
       "      <td>128.16</td>\n",
       "      <td>272.01</td>\n",
       "      <td>NaN</td>\n",
       "    </tr>\n",
       "    <tr>\n",
       "      <th>2021-01-08</th>\n",
       "      <td>129.27</td>\n",
       "      <td>293.34</td>\n",
       "      <td>NaN</td>\n",
       "    </tr>\n",
       "  </tbody>\n",
       "</table>\n",
       "</div>"
      ],
      "text/plain": [
       "Ticker        AAPL    TSLA  TSLA_MA(30)\n",
       "Date                                   \n",
       "2021-01-04  126.68  243.26          NaN\n",
       "2021-01-05  128.25  245.04          NaN\n",
       "2021-01-06  123.93  251.99          NaN\n",
       "2021-01-07  128.16  272.01          NaN\n",
       "2021-01-08  129.27  293.34          NaN"
      ]
     },
     "execution_count": 58,
     "metadata": {},
     "output_type": "execute_result"
    }
   ],
   "source": [
    "df.head()"
   ]
  },
  {
   "cell_type": "code",
   "execution_count": 59,
   "metadata": {},
   "outputs": [
    {
     "data": {
      "image/png": "[encoded data removed]",
      "text/plain": [
       "<Figure size 1600x600 with 1 Axes>"
      ]
     },
     "metadata": {},
     "output_type": "display_data"
    }
   ],
   "source": [
    "df[['TSLA', 'TSLA_MA(30)']].plot(figsize=(16,6))\n",
    "\n",
    "plt.show()"
   ]
  },
  {
   "cell_type": "markdown",
   "metadata": {},
   "source": [
    "Let's construct an expanding averages for AAPL!"
   ]
  },
  {
   "cell_type": "code",
   "execution_count": 60,
   "metadata": {},
   "outputs": [
    {
     "data": {
      "text/plain": [
       "Date\n",
       "2021-01-04    126.68\n",
       "2021-01-05    128.25\n",
       "2021-01-06    123.93\n",
       "2021-01-07    128.16\n",
       "2021-01-08    129.27\n",
       "Name: AAPL, dtype: float64"
      ]
     },
     "execution_count": 60,
     "metadata": {},
     "output_type": "execute_result"
    }
   ],
   "source": [
    "df['AAPL'].head()"
   ]
  },
  {
   "cell_type": "code",
   "execution_count": 61,
   "metadata": {},
   "outputs": [
    {
     "data": {
      "text/plain": [
       "Date\n",
       "2021-01-04    126.680000\n",
       "2021-01-05    127.465000\n",
       "2021-01-06    126.286667\n",
       "2021-01-07    126.755000\n",
       "2021-01-08    127.258000\n",
       "Name: AAPL, dtype: float64"
      ]
     },
     "execution_count": 61,
     "metadata": {},
     "output_type": "execute_result"
    }
   ],
   "source": [
    "df['AAPL'].expanding().mean().head()"
   ]
  },
  {
   "cell_type": "code",
   "execution_count": 62,
   "metadata": {},
   "outputs": [
    {
     "data": {
      "image/png": "[encoded data removed]",
      "text/plain": [
       "<Figure size 1200x600 with 1 Axes>"
      ]
     },
     "metadata": {},
     "output_type": "display_data"
    }
   ],
   "source": [
    "df['expanding average']=df['AAPL'].expanding().mean()\n",
    "df[['AAPL','expanding average']].plot(figsize=(12,6))\n",
    "\n",
    "plt.show()"
   ]
  }
 ],
 "metadata": {
  "kernelspec": {
   "display_name": "pycaret3",
   "language": "python",
   "name": "python3"
  },
  "language_info": {
   "codemirror_mode": {
    "name": "ipython",
    "version": 3
   },
   "file_extension": ".py",
   "mimetype": "text/x-python",
   "name": "python",
   "nbconvert_exporter": "python",
   "pygments_lexer": "ipython3",
   "version": "3.10.13"
  },
  "vscode": {
   "interpreter": {
    "hash": "70a17a938d28cb9f3ce6e7fd8b769c73b98c32c83f1620bd3323eb94cf46c0b9"
   }
  }
 },
 "nbformat": 4,
 "nbformat_minor": 4
}
