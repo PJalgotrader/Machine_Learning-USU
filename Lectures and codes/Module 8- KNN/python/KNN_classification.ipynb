{
  "cells": [
    {
      "attachments": {},
      "cell_type": "markdown",
      "metadata": {
        "id": "vEKL8DcQ-ffS"
      },
      "source": [
        "# Prof. Pedram Jahangiry\n",
        "\n",
        "You need to make a copy to your own Google drive if you want to edit the original notebook! Start by opening this notebook on Colab 👇\n",
        "\n",
        "<a href=\"https://colab.research.google.com/github/PJalgotrader/Machine_Learning-USU/blob/main/Lectures%20and%20codes/Module%208-%20KNN/python/KNN_classification.ipynb\" target=\"_parent\"><img src=\"https://colab.research.google.com/assets/colab-badge.svg\" alt=\"Open In Colab\"/></a> \n",
        "\n",
        "\n",
        "\n",
        "![logo](https://upload.wikimedia.org/wikipedia/commons/4/44/Huntsman-Wordmark-with-USU-Blue.gif#center) \n",
        "\n",
        "\n",
        "## 🔗 Links\n",
        "\n",
        "[![linkedin](https://img.shields.io/badge/LinkedIn-0A66C2?style=for-the-badge&logo=linkedin&logoColor=white)](https://www.linkedin.com/in/pedram-jahangiry-cfa-5778015a)\n",
        "\n",
        "[![Youtube](https://img.shields.io/badge/youtube_channel-1DA1F2?style=for-the-badge&logo=youtube&logoColor=white&color=FF0000)](https://www.youtube.com/channel/UCNDElcuuyX-2pSatVBDpJJQ)\n",
        "\n",
        "[![Twitter URL](https://img.shields.io/twitter/url/https/twitter.com/PedramJahangiry.svg?style=social&label=Follow%20%40PedramJahangiry)](https://twitter.com/PedramJahangiry)\n",
        "\n",
        "\n",
        "---"
      ]
    },
    {
      "cell_type": "markdown",
      "metadata": {
        "id": "3fcpUAHD-ffW"
      },
      "source": [
        "# K-Nearest Neigbors (KNN) - Classification"
      ]
    },
    {
      "cell_type": "code",
      "execution_count": 1,
      "metadata": {
        "id": "P-itFUfX-ffW"
      },
      "outputs": [],
      "source": [
        "import numpy as np\n",
        "import pandas as pd\n",
        "import matplotlib.pyplot as plt\n",
        "import seaborn as sns\n",
        "sns.set()  #if you want to use seaborn themes with matplotlib functions\n",
        "import warnings\n",
        "warnings.filterwarnings('ignore')"
      ]
    },
    {
      "cell_type": "code",
      "execution_count": 2,
      "metadata": {
        "id": "7AxqeKMy-ffY"
      },
      "outputs": [],
      "source": [
        "rand_state = 1000"
      ]
    },
    {
      "cell_type": "code",
      "execution_count": 3,
      "metadata": {
        "colab": {
          "base_uri": "https://localhost:8080/"
        },
        "id": "-1ib8UND-ffY",
        "outputId": "daf92dce-a6af-458e-f7bb-4985a11beba2"
      },
      "outputs": [],
      "source": [
        "df = pd.read_csv('https://raw.githubusercontent.com/PJalgotrader/Machine_Learning-USU/main/data/Social_Network_Ads.csv')"
      ]
    },
    {
      "cell_type": "code",
      "execution_count": 4,
      "metadata": {
        "colab": {
          "base_uri": "https://localhost:8080/",
          "height": 206
        },
        "id": "awBc2uvl-ffY",
        "outputId": "0e58a563-49b6-4cf4-9f80-44815dfb5c35"
      },
      "outputs": [
        {
          "data": {
            "text/html": [
              "<div>\n",
              "<style scoped>\n",
              "    .dataframe tbody tr th:only-of-type {\n",
              "        vertical-align: middle;\n",
              "    }\n",
              "\n",
              "    .dataframe tbody tr th {\n",
              "        vertical-align: top;\n",
              "    }\n",
              "\n",
              "    .dataframe thead th {\n",
              "        text-align: right;\n",
              "    }\n",
              "</style>\n",
              "<table border=\"1\" class=\"dataframe\">\n",
              "  <thead>\n",
              "    <tr style=\"text-align: right;\">\n",
              "      <th></th>\n",
              "      <th>User ID</th>\n",
              "      <th>Gender</th>\n",
              "      <th>Age</th>\n",
              "      <th>EstimatedSalary</th>\n",
              "      <th>Purchased</th>\n",
              "    </tr>\n",
              "  </thead>\n",
              "  <tbody>\n",
              "    <tr>\n",
              "      <th>0</th>\n",
              "      <td>15624510</td>\n",
              "      <td>Male</td>\n",
              "      <td>19</td>\n",
              "      <td>19000</td>\n",
              "      <td>0</td>\n",
              "    </tr>\n",
              "    <tr>\n",
              "      <th>1</th>\n",
              "      <td>15810944</td>\n",
              "      <td>Male</td>\n",
              "      <td>35</td>\n",
              "      <td>20000</td>\n",
              "      <td>0</td>\n",
              "    </tr>\n",
              "    <tr>\n",
              "      <th>2</th>\n",
              "      <td>15668575</td>\n",
              "      <td>Female</td>\n",
              "      <td>26</td>\n",
              "      <td>43000</td>\n",
              "      <td>0</td>\n",
              "    </tr>\n",
              "    <tr>\n",
              "      <th>3</th>\n",
              "      <td>15603246</td>\n",
              "      <td>Female</td>\n",
              "      <td>27</td>\n",
              "      <td>57000</td>\n",
              "      <td>0</td>\n",
              "    </tr>\n",
              "    <tr>\n",
              "      <th>4</th>\n",
              "      <td>15804002</td>\n",
              "      <td>Male</td>\n",
              "      <td>19</td>\n",
              "      <td>76000</td>\n",
              "      <td>0</td>\n",
              "    </tr>\n",
              "  </tbody>\n",
              "</table>\n",
              "</div>"
            ],
            "text/plain": [
              "    User ID  Gender  Age  EstimatedSalary  Purchased\n",
              "0  15624510    Male   19            19000          0\n",
              "1  15810944    Male   35            20000          0\n",
              "2  15668575  Female   26            43000          0\n",
              "3  15603246  Female   27            57000          0\n",
              "4  15804002    Male   19            76000          0"
            ]
          },
          "execution_count": 4,
          "metadata": {},
          "output_type": "execute_result"
        }
      ],
      "source": [
        "df.head()"
      ]
    },
    {
      "cell_type": "code",
      "execution_count": 5,
      "metadata": {
        "colab": {
          "base_uri": "https://localhost:8080/"
        },
        "id": "ZGgA66Bm-ffZ",
        "outputId": "b70fb380-5154-431b-9752-6f47ac7dd444"
      },
      "outputs": [
        {
          "name": "stdout",
          "output_type": "stream",
          "text": [
            "<class 'pandas.core.frame.DataFrame'>\n",
            "RangeIndex: 400 entries, 0 to 399\n",
            "Data columns (total 5 columns):\n",
            " #   Column           Non-Null Count  Dtype \n",
            "---  ------           --------------  ----- \n",
            " 0   User ID          400 non-null    int64 \n",
            " 1   Gender           400 non-null    object\n",
            " 2   Age              400 non-null    int64 \n",
            " 3   EstimatedSalary  400 non-null    int64 \n",
            " 4   Purchased        400 non-null    int64 \n",
            "dtypes: int64(4), object(1)\n",
            "memory usage: 15.8+ KB\n"
          ]
        }
      ],
      "source": [
        "df.info()"
      ]
    },
    {
      "cell_type": "code",
      "execution_count": 6,
      "metadata": {
        "colab": {
          "base_uri": "https://localhost:8080/",
          "height": 143
        },
        "id": "HcbttzdE-ffa",
        "outputId": "ee9f5ede-2932-4668-f091-912c74712308"
      },
      "outputs": [
        {
          "data": {
            "text/html": [
              "<div>\n",
              "<style scoped>\n",
              "    .dataframe tbody tr th:only-of-type {\n",
              "        vertical-align: middle;\n",
              "    }\n",
              "\n",
              "    .dataframe tbody tr th {\n",
              "        vertical-align: top;\n",
              "    }\n",
              "\n",
              "    .dataframe thead th {\n",
              "        text-align: right;\n",
              "    }\n",
              "</style>\n",
              "<table border=\"1\" class=\"dataframe\">\n",
              "  <thead>\n",
              "    <tr style=\"text-align: right;\">\n",
              "      <th>Purchased</th>\n",
              "      <th>0</th>\n",
              "      <th>1</th>\n",
              "    </tr>\n",
              "    <tr>\n",
              "      <th>Purchased</th>\n",
              "      <th></th>\n",
              "      <th></th>\n",
              "    </tr>\n",
              "  </thead>\n",
              "  <tbody>\n",
              "    <tr>\n",
              "      <th>0</th>\n",
              "      <td>64.25</td>\n",
              "      <td>0.00</td>\n",
              "    </tr>\n",
              "    <tr>\n",
              "      <th>1</th>\n",
              "      <td>0.00</td>\n",
              "      <td>35.75</td>\n",
              "    </tr>\n",
              "  </tbody>\n",
              "</table>\n",
              "</div>"
            ],
            "text/plain": [
              "Purchased      0      1\n",
              "Purchased              \n",
              "0          64.25   0.00\n",
              "1           0.00  35.75"
            ]
          },
          "execution_count": 6,
          "metadata": {},
          "output_type": "execute_result"
        }
      ],
      "source": [
        "# first we look at target variable proportions:\n",
        "pd.crosstab(df['Purchased'],df['Purchased'], normalize='all')*100"
      ]
    },
    {
      "cell_type": "markdown",
      "metadata": {
        "id": "_fSkVFYf-ffb"
      },
      "source": [
        "It seems that the target variable is relatively balanced! this is good news for our performance metrics specially the accuracy and ROC!"
      ]
    },
    {
      "cell_type": "markdown",
      "metadata": {
        "id": "PYb4SC-9-ffb"
      },
      "source": [
        "## Data preprocessing "
      ]
    },
    {
      "cell_type": "code",
      "execution_count": 7,
      "metadata": {
        "colab": {
          "base_uri": "https://localhost:8080/"
        },
        "id": "Qv7sNu-2-ffc",
        "outputId": "43836714-7e47-4ec4-9379-46ae79b83083"
      },
      "outputs": [
        {
          "data": {
            "text/plain": [
              "User ID            0\n",
              "Gender             0\n",
              "Age                0\n",
              "EstimatedSalary    0\n",
              "Purchased          0\n",
              "dtype: int64"
            ]
          },
          "execution_count": 7,
          "metadata": {},
          "output_type": "execute_result"
        }
      ],
      "source": [
        "df.isna().sum()  "
      ]
    },
    {
      "cell_type": "code",
      "execution_count": 8,
      "metadata": {
        "id": "zV_yhK7e-ffc"
      },
      "outputs": [],
      "source": [
        "df.drop('User ID',axis=1, inplace=True)"
      ]
    },
    {
      "cell_type": "code",
      "execution_count": 9,
      "metadata": {
        "id": "M86kG5jk-ffc"
      },
      "outputs": [],
      "source": [
        "df = pd.get_dummies(df, drop_first=True)"
      ]
    },
    {
      "cell_type": "code",
      "execution_count": 10,
      "metadata": {
        "colab": {
          "base_uri": "https://localhost:8080/"
        },
        "id": "gQV0RMFy-ffd",
        "outputId": "10a82bc9-75ab-4777-fa82-191db8cb14bc"
      },
      "outputs": [
        {
          "data": {
            "text/plain": [
              "Index(['Age', 'EstimatedSalary', 'Purchased', 'Gender_Male'], dtype='object')"
            ]
          },
          "execution_count": 10,
          "metadata": {},
          "output_type": "execute_result"
        }
      ],
      "source": [
        "df.columns"
      ]
    },
    {
      "cell_type": "code",
      "execution_count": 11,
      "metadata": {
        "id": "hN11Yjy7-ffd"
      },
      "outputs": [],
      "source": [
        "df = df[['Purchased','Age', 'EstimatedSalary', 'Gender_Male']]\n",
        "df.rename(columns={'Gender_Male':'Male'}, inplace=True)"
      ]
    },
    {
      "cell_type": "code",
      "execution_count": 12,
      "metadata": {
        "colab": {
          "base_uri": "https://localhost:8080/",
          "height": 206
        },
        "id": "MK2mIBW4-ffd",
        "outputId": "fb30891e-8574-40dd-c429-03ab22b959ae"
      },
      "outputs": [
        {
          "data": {
            "text/html": [
              "<div>\n",
              "<style scoped>\n",
              "    .dataframe tbody tr th:only-of-type {\n",
              "        vertical-align: middle;\n",
              "    }\n",
              "\n",
              "    .dataframe tbody tr th {\n",
              "        vertical-align: top;\n",
              "    }\n",
              "\n",
              "    .dataframe thead th {\n",
              "        text-align: right;\n",
              "    }\n",
              "</style>\n",
              "<table border=\"1\" class=\"dataframe\">\n",
              "  <thead>\n",
              "    <tr style=\"text-align: right;\">\n",
              "      <th></th>\n",
              "      <th>Purchased</th>\n",
              "      <th>Age</th>\n",
              "      <th>EstimatedSalary</th>\n",
              "      <th>Male</th>\n",
              "    </tr>\n",
              "  </thead>\n",
              "  <tbody>\n",
              "    <tr>\n",
              "      <th>0</th>\n",
              "      <td>0</td>\n",
              "      <td>19</td>\n",
              "      <td>19000</td>\n",
              "      <td>1</td>\n",
              "    </tr>\n",
              "    <tr>\n",
              "      <th>1</th>\n",
              "      <td>0</td>\n",
              "      <td>35</td>\n",
              "      <td>20000</td>\n",
              "      <td>1</td>\n",
              "    </tr>\n",
              "    <tr>\n",
              "      <th>2</th>\n",
              "      <td>0</td>\n",
              "      <td>26</td>\n",
              "      <td>43000</td>\n",
              "      <td>0</td>\n",
              "    </tr>\n",
              "    <tr>\n",
              "      <th>3</th>\n",
              "      <td>0</td>\n",
              "      <td>27</td>\n",
              "      <td>57000</td>\n",
              "      <td>0</td>\n",
              "    </tr>\n",
              "    <tr>\n",
              "      <th>4</th>\n",
              "      <td>0</td>\n",
              "      <td>19</td>\n",
              "      <td>76000</td>\n",
              "      <td>1</td>\n",
              "    </tr>\n",
              "  </tbody>\n",
              "</table>\n",
              "</div>"
            ],
            "text/plain": [
              "   Purchased  Age  EstimatedSalary  Male\n",
              "0          0   19            19000     1\n",
              "1          0   35            20000     1\n",
              "2          0   26            43000     0\n",
              "3          0   27            57000     0\n",
              "4          0   19            76000     1"
            ]
          },
          "execution_count": 12,
          "metadata": {},
          "output_type": "execute_result"
        }
      ],
      "source": [
        "df.head()"
      ]
    },
    {
      "cell_type": "code",
      "execution_count": 13,
      "metadata": {
        "colab": {
          "base_uri": "https://localhost:8080/",
          "height": 300
        },
        "id": "ZljJJQF8-ffd",
        "outputId": "4cb95771-b2e9-48c6-918b-c2417a9efa72"
      },
      "outputs": [
        {
          "data": {
            "text/html": [
              "<div>\n",
              "<style scoped>\n",
              "    .dataframe tbody tr th:only-of-type {\n",
              "        vertical-align: middle;\n",
              "    }\n",
              "\n",
              "    .dataframe tbody tr th {\n",
              "        vertical-align: top;\n",
              "    }\n",
              "\n",
              "    .dataframe thead th {\n",
              "        text-align: right;\n",
              "    }\n",
              "</style>\n",
              "<table border=\"1\" class=\"dataframe\">\n",
              "  <thead>\n",
              "    <tr style=\"text-align: right;\">\n",
              "      <th></th>\n",
              "      <th>Purchased</th>\n",
              "      <th>Age</th>\n",
              "      <th>EstimatedSalary</th>\n",
              "      <th>Male</th>\n",
              "    </tr>\n",
              "  </thead>\n",
              "  <tbody>\n",
              "    <tr>\n",
              "      <th>count</th>\n",
              "      <td>400.000000</td>\n",
              "      <td>400.000000</td>\n",
              "      <td>400.000000</td>\n",
              "      <td>400.000000</td>\n",
              "    </tr>\n",
              "    <tr>\n",
              "      <th>mean</th>\n",
              "      <td>0.357500</td>\n",
              "      <td>37.655000</td>\n",
              "      <td>69742.500000</td>\n",
              "      <td>0.490000</td>\n",
              "    </tr>\n",
              "    <tr>\n",
              "      <th>std</th>\n",
              "      <td>0.479864</td>\n",
              "      <td>10.482877</td>\n",
              "      <td>34096.960282</td>\n",
              "      <td>0.500526</td>\n",
              "    </tr>\n",
              "    <tr>\n",
              "      <th>min</th>\n",
              "      <td>0.000000</td>\n",
              "      <td>18.000000</td>\n",
              "      <td>15000.000000</td>\n",
              "      <td>0.000000</td>\n",
              "    </tr>\n",
              "    <tr>\n",
              "      <th>25%</th>\n",
              "      <td>0.000000</td>\n",
              "      <td>29.750000</td>\n",
              "      <td>43000.000000</td>\n",
              "      <td>0.000000</td>\n",
              "    </tr>\n",
              "    <tr>\n",
              "      <th>50%</th>\n",
              "      <td>0.000000</td>\n",
              "      <td>37.000000</td>\n",
              "      <td>70000.000000</td>\n",
              "      <td>0.000000</td>\n",
              "    </tr>\n",
              "    <tr>\n",
              "      <th>75%</th>\n",
              "      <td>1.000000</td>\n",
              "      <td>46.000000</td>\n",
              "      <td>88000.000000</td>\n",
              "      <td>1.000000</td>\n",
              "    </tr>\n",
              "    <tr>\n",
              "      <th>max</th>\n",
              "      <td>1.000000</td>\n",
              "      <td>60.000000</td>\n",
              "      <td>150000.000000</td>\n",
              "      <td>1.000000</td>\n",
              "    </tr>\n",
              "  </tbody>\n",
              "</table>\n",
              "</div>"
            ],
            "text/plain": [
              "        Purchased         Age  EstimatedSalary        Male\n",
              "count  400.000000  400.000000       400.000000  400.000000\n",
              "mean     0.357500   37.655000     69742.500000    0.490000\n",
              "std      0.479864   10.482877     34096.960282    0.500526\n",
              "min      0.000000   18.000000     15000.000000    0.000000\n",
              "25%      0.000000   29.750000     43000.000000    0.000000\n",
              "50%      0.000000   37.000000     70000.000000    0.000000\n",
              "75%      1.000000   46.000000     88000.000000    1.000000\n",
              "max      1.000000   60.000000    150000.000000    1.000000"
            ]
          },
          "execution_count": 13,
          "metadata": {},
          "output_type": "execute_result"
        }
      ],
      "source": [
        "df.describe()"
      ]
    },
    {
      "cell_type": "markdown",
      "metadata": {
        "id": "VdilyyI6-ffe"
      },
      "source": [
        "## Data visualization "
      ]
    },
    {
      "cell_type": "code",
      "execution_count": 14,
      "metadata": {
        "colab": {
          "base_uri": "https://localhost:8080/",
          "height": 272
        },
        "id": "FH0uayyL-ffe",
        "outputId": "65c773db-aac6-43d6-d03e-b3642b122795"
      },
      "outputs": [
        {
          "data": {
            "image/png": "[encoded data removed]",
            "text/plain": [
              "<Figure size 432x288 with 2 Axes>"
            ]
          },
          "metadata": {
            "needs_background": "light"
          },
          "output_type": "display_data"
        }
      ],
      "source": [
        "plt.figure(figsize=(6,4))\n",
        "sns.heatmap(df.corr(), cmap='coolwarm',annot=True, yticklabels=True)\n",
        "plt.show()"
      ]
    },
    {
      "cell_type": "code",
      "execution_count": 15,
      "metadata": {
        "colab": {
          "base_uri": "https://localhost:8080/",
          "height": 565
        },
        "id": "ktwic7nI-ffe",
        "outputId": "af80589d-1bb4-4494-dec3-27897ea94eff"
      },
      "outputs": [
        {
          "data": {
            "text/plain": [
              "<seaborn.axisgrid.PairGrid at 0x25c180ed190>"
            ]
          },
          "execution_count": 15,
          "metadata": {},
          "output_type": "execute_result"
        },
        {
          "data": {
            "image/png": "[encoded data removed]",
            "text/plain": [
              "<Figure size 606.05x540 with 12 Axes>"
            ]
          },
          "metadata": {},
          "output_type": "display_data"
        }
      ],
      "source": [
        "sns.set_style('whitegrid')\n",
        "sns.pairplot(df, hue='Purchased')"
      ]
    },
    {
      "attachments": {},
      "cell_type": "markdown",
      "metadata": {
        "id": "zPLUorFS-fff"
      },
      "source": [
        "## Scaling the features: \n",
        "\n",
        "The following step is very important for **Classification** specially for KNN. Because any variable on the larger scale, has a larger effect on the distance between observations. \n",
        "\n",
        "In general we need to rescale our variables. If we don't rescale the salary in this example, then the model may always return T or F. \n",
        "\n",
        "In this data set, because Male and Purchased are dummy variables, we don't need to standardize it! \n",
        "\n",
        "To keep things simple, we are going to rescale the entire dataset at once. "
      ]
    },
    {
      "cell_type": "code",
      "execution_count": 16,
      "metadata": {
        "id": "P-PPwols-fff"
      },
      "outputs": [],
      "source": [
        "from sklearn.preprocessing import StandardScaler\n",
        "scaler=StandardScaler()\n",
        "df_sc= scaler.fit_transform(df)"
      ]
    },
    {
      "cell_type": "code",
      "execution_count": 17,
      "metadata": {
        "colab": {
          "base_uri": "https://localhost:8080/",
          "height": 206
        },
        "id": "tEff4Fie-fff",
        "outputId": "01d1e703-a0ae-4c8e-eda2-078db999bf49"
      },
      "outputs": [
        {
          "data": {
            "text/html": [
              "<div>\n",
              "<style scoped>\n",
              "    .dataframe tbody tr th:only-of-type {\n",
              "        vertical-align: middle;\n",
              "    }\n",
              "\n",
              "    .dataframe tbody tr th {\n",
              "        vertical-align: top;\n",
              "    }\n",
              "\n",
              "    .dataframe thead th {\n",
              "        text-align: right;\n",
              "    }\n",
              "</style>\n",
              "<table border=\"1\" class=\"dataframe\">\n",
              "  <thead>\n",
              "    <tr style=\"text-align: right;\">\n",
              "      <th></th>\n",
              "      <th>Purchased</th>\n",
              "      <th>Age</th>\n",
              "      <th>EstimatedSalary</th>\n",
              "      <th>Male</th>\n",
              "    </tr>\n",
              "  </thead>\n",
              "  <tbody>\n",
              "    <tr>\n",
              "      <th>0</th>\n",
              "      <td>-0.745936</td>\n",
              "      <td>-1.781797</td>\n",
              "      <td>-1.490046</td>\n",
              "      <td>1.020204</td>\n",
              "    </tr>\n",
              "    <tr>\n",
              "      <th>1</th>\n",
              "      <td>-0.745936</td>\n",
              "      <td>-0.253587</td>\n",
              "      <td>-1.460681</td>\n",
              "      <td>1.020204</td>\n",
              "    </tr>\n",
              "    <tr>\n",
              "      <th>2</th>\n",
              "      <td>-0.745936</td>\n",
              "      <td>-1.113206</td>\n",
              "      <td>-0.785290</td>\n",
              "      <td>-0.980196</td>\n",
              "    </tr>\n",
              "    <tr>\n",
              "      <th>3</th>\n",
              "      <td>-0.745936</td>\n",
              "      <td>-1.017692</td>\n",
              "      <td>-0.374182</td>\n",
              "      <td>-0.980196</td>\n",
              "    </tr>\n",
              "    <tr>\n",
              "      <th>4</th>\n",
              "      <td>-0.745936</td>\n",
              "      <td>-1.781797</td>\n",
              "      <td>0.183751</td>\n",
              "      <td>1.020204</td>\n",
              "    </tr>\n",
              "  </tbody>\n",
              "</table>\n",
              "</div>"
            ],
            "text/plain": [
              "   Purchased       Age  EstimatedSalary      Male\n",
              "0  -0.745936 -1.781797        -1.490046  1.020204\n",
              "1  -0.745936 -0.253587        -1.460681  1.020204\n",
              "2  -0.745936 -1.113206        -0.785290 -0.980196\n",
              "3  -0.745936 -1.017692        -0.374182 -0.980196\n",
              "4  -0.745936 -1.781797         0.183751  1.020204"
            ]
          },
          "execution_count": 17,
          "metadata": {},
          "output_type": "execute_result"
        }
      ],
      "source": [
        "df_sc = pd.DataFrame(df_sc, columns=df.columns)\n",
        "df_sc.head()"
      ]
    },
    {
      "cell_type": "code",
      "execution_count": 18,
      "metadata": {
        "colab": {
          "base_uri": "https://localhost:8080/",
          "height": 143
        },
        "id": "mFxcNArh-ffg",
        "outputId": "a4ee5108-2f80-4d91-fa64-27f6e76ae7c3"
      },
      "outputs": [
        {
          "data": {
            "text/html": [
              "<div>\n",
              "<style scoped>\n",
              "    .dataframe tbody tr th:only-of-type {\n",
              "        vertical-align: middle;\n",
              "    }\n",
              "\n",
              "    .dataframe tbody tr th {\n",
              "        vertical-align: top;\n",
              "    }\n",
              "\n",
              "    .dataframe thead th {\n",
              "        text-align: right;\n",
              "    }\n",
              "</style>\n",
              "<table border=\"1\" class=\"dataframe\">\n",
              "  <thead>\n",
              "    <tr style=\"text-align: right;\">\n",
              "      <th></th>\n",
              "      <th>Purchased</th>\n",
              "      <th>Age</th>\n",
              "      <th>EstimatedSalary</th>\n",
              "      <th>Male</th>\n",
              "    </tr>\n",
              "  </thead>\n",
              "  <tbody>\n",
              "    <tr>\n",
              "      <th>0</th>\n",
              "      <td>0</td>\n",
              "      <td>-1.781797</td>\n",
              "      <td>-1.490046</td>\n",
              "      <td>1</td>\n",
              "    </tr>\n",
              "    <tr>\n",
              "      <th>1</th>\n",
              "      <td>0</td>\n",
              "      <td>-0.253587</td>\n",
              "      <td>-1.460681</td>\n",
              "      <td>1</td>\n",
              "    </tr>\n",
              "    <tr>\n",
              "      <th>2</th>\n",
              "      <td>0</td>\n",
              "      <td>-1.113206</td>\n",
              "      <td>-0.785290</td>\n",
              "      <td>0</td>\n",
              "    </tr>\n",
              "  </tbody>\n",
              "</table>\n",
              "</div>"
            ],
            "text/plain": [
              "   Purchased       Age  EstimatedSalary  Male\n",
              "0          0 -1.781797        -1.490046     1\n",
              "1          0 -0.253587        -1.460681     1\n",
              "2          0 -1.113206        -0.785290     0"
            ]
          },
          "execution_count": 18,
          "metadata": {},
          "output_type": "execute_result"
        }
      ],
      "source": [
        "df_sc['Male']=df['Male']\n",
        "df_sc['Purchased']=df['Purchased']\n",
        "df_sc.head(3)"
      ]
    },
    {
      "cell_type": "markdown",
      "metadata": {
        "id": "wuoGRqZM-ffg"
      },
      "source": [
        "### Defining the variables and splitting the data"
      ]
    },
    {
      "cell_type": "code",
      "execution_count": 19,
      "metadata": {
        "id": "etqAjqwu-ffg"
      },
      "outputs": [],
      "source": [
        "y = df_sc['Purchased']\n",
        "X = df_sc.drop('Purchased', axis=1) # becareful inplace= False\n",
        "\n",
        "from sklearn.model_selection import train_test_split\n",
        "X_train, X_test, y_train, y_test = train_test_split(X, y, test_size=0.2, random_state=rand_state)"
      ]
    },
    {
      "cell_type": "code",
      "execution_count": 20,
      "metadata": {
        "colab": {
          "base_uri": "https://localhost:8080/",
          "height": 206
        },
        "id": "1IKvDGOD-ffg",
        "outputId": "a524a475-f9f4-4008-e067-857aa2e177b0"
      },
      "outputs": [
        {
          "data": {
            "text/html": [
              "<div>\n",
              "<style scoped>\n",
              "    .dataframe tbody tr th:only-of-type {\n",
              "        vertical-align: middle;\n",
              "    }\n",
              "\n",
              "    .dataframe tbody tr th {\n",
              "        vertical-align: top;\n",
              "    }\n",
              "\n",
              "    .dataframe thead th {\n",
              "        text-align: right;\n",
              "    }\n",
              "</style>\n",
              "<table border=\"1\" class=\"dataframe\">\n",
              "  <thead>\n",
              "    <tr style=\"text-align: right;\">\n",
              "      <th></th>\n",
              "      <th>Age</th>\n",
              "      <th>EstimatedSalary</th>\n",
              "      <th>Male</th>\n",
              "    </tr>\n",
              "  </thead>\n",
              "  <tbody>\n",
              "    <tr>\n",
              "      <th>269</th>\n",
              "      <td>0.223978</td>\n",
              "      <td>-0.256722</td>\n",
              "      <td>1</td>\n",
              "    </tr>\n",
              "    <tr>\n",
              "      <th>389</th>\n",
              "      <td>0.988083</td>\n",
              "      <td>-1.020209</td>\n",
              "      <td>0</td>\n",
              "    </tr>\n",
              "    <tr>\n",
              "      <th>232</th>\n",
              "      <td>0.223978</td>\n",
              "      <td>1.094061</td>\n",
              "      <td>1</td>\n",
              "    </tr>\n",
              "    <tr>\n",
              "      <th>89</th>\n",
              "      <td>-0.253587</td>\n",
              "      <td>-0.579736</td>\n",
              "      <td>1</td>\n",
              "    </tr>\n",
              "    <tr>\n",
              "      <th>236</th>\n",
              "      <td>0.223978</td>\n",
              "      <td>-0.374182</td>\n",
              "      <td>1</td>\n",
              "    </tr>\n",
              "  </tbody>\n",
              "</table>\n",
              "</div>"
            ],
            "text/plain": [
              "          Age  EstimatedSalary  Male\n",
              "269  0.223978        -0.256722     1\n",
              "389  0.988083        -1.020209     0\n",
              "232  0.223978         1.094061     1\n",
              "89  -0.253587        -0.579736     1\n",
              "236  0.223978        -0.374182     1"
            ]
          },
          "execution_count": 20,
          "metadata": {},
          "output_type": "execute_result"
        }
      ],
      "source": [
        "X_train.head()"
      ]
    },
    {
      "cell_type": "markdown",
      "metadata": {
        "id": "1YoSCJ_c-ffg"
      },
      "source": [
        "##  KNN Classification with Sklearn"
      ]
    },
    {
      "cell_type": "code",
      "execution_count": 21,
      "metadata": {
        "id": "7_PVTFA8-ffh"
      },
      "outputs": [],
      "source": [
        "from sklearn.neighbors import KNeighborsClassifier"
      ]
    },
    {
      "cell_type": "code",
      "execution_count": 22,
      "metadata": {
        "colab": {
          "base_uri": "https://localhost:8080/"
        },
        "id": "e2jsfpT7-ffh",
        "outputId": "747e73da-ece0-43b1-a6ce-90ea5d311b92"
      },
      "outputs": [
        {
          "data": {
            "text/html": [
              "<style>#sk-container-id-1 {color: black;background-color: white;}#sk-container-id-1 pre{padding: 0;}#sk-container-id-1 div.sk-toggleable {background-color: white;}#sk-container-id-1 label.sk-toggleable__label {cursor: pointer;display: block;width: 100%;margin-bottom: 0;padding: 0.3em;box-sizing: border-box;text-align: center;}#sk-container-id-1 label.sk-toggleable__label-arrow:before {content: \"▸\";float: left;margin-right: 0.25em;color: #696969;}#sk-container-id-1 label.sk-toggleable__label-arrow:hover:before {color: black;}#sk-container-id-1 div.sk-estimator:hover label.sk-toggleable__label-arrow:before {color: black;}#sk-container-id-1 div.sk-toggleable__content {max-height: 0;max-width: 0;overflow: hidden;text-align: left;background-color: #f0f8ff;}#sk-container-id-1 div.sk-toggleable__content pre {margin: 0.2em;color: black;border-radius: 0.25em;background-color: #f0f8ff;}#sk-container-id-1 input.sk-toggleable__control:checked~div.sk-toggleable__content {max-height: 200px;max-width: 100%;overflow: auto;}#sk-container-id-1 input.sk-toggleable__control:checked~label.sk-toggleable__label-arrow:before {content: \"▾\";}#sk-container-id-1 div.sk-estimator input.sk-toggleable__control:checked~label.sk-toggleable__label {background-color: #d4ebff;}#sk-container-id-1 div.sk-label input.sk-toggleable__control:checked~label.sk-toggleable__label {background-color: #d4ebff;}#sk-container-id-1 input.sk-hidden--visually {border: 0;clip: rect(1px 1px 1px 1px);clip: rect(1px, 1px, 1px, 1px);height: 1px;margin: -1px;overflow: hidden;padding: 0;position: absolute;width: 1px;}#sk-container-id-1 div.sk-estimator {font-family: monospace;background-color: #f0f8ff;border: 1px dotted black;border-radius: 0.25em;box-sizing: border-box;margin-bottom: 0.5em;}#sk-container-id-1 div.sk-estimator:hover {background-color: #d4ebff;}#sk-container-id-1 div.sk-parallel-item::after {content: \"\";width: 100%;border-bottom: 1px solid gray;flex-grow: 1;}#sk-container-id-1 div.sk-label:hover label.sk-toggleable__label {background-color: #d4ebff;}#sk-container-id-1 div.sk-serial::before {content: \"\";position: absolute;border-left: 1px solid gray;box-sizing: border-box;top: 0;bottom: 0;left: 50%;z-index: 0;}#sk-container-id-1 div.sk-serial {display: flex;flex-direction: column;align-items: center;background-color: white;padding-right: 0.2em;padding-left: 0.2em;position: relative;}#sk-container-id-1 div.sk-item {position: relative;z-index: 1;}#sk-container-id-1 div.sk-parallel {display: flex;align-items: stretch;justify-content: center;background-color: white;position: relative;}#sk-container-id-1 div.sk-item::before, #sk-container-id-1 div.sk-parallel-item::before {content: \"\";position: absolute;border-left: 1px solid gray;box-sizing: border-box;top: 0;bottom: 0;left: 50%;z-index: -1;}#sk-container-id-1 div.sk-parallel-item {display: flex;flex-direction: column;z-index: 1;position: relative;background-color: white;}#sk-container-id-1 div.sk-parallel-item:first-child::after {align-self: flex-end;width: 50%;}#sk-container-id-1 div.sk-parallel-item:last-child::after {align-self: flex-start;width: 50%;}#sk-container-id-1 div.sk-parallel-item:only-child::after {width: 0;}#sk-container-id-1 div.sk-dashed-wrapped {border: 1px dashed gray;margin: 0 0.4em 0.5em 0.4em;box-sizing: border-box;padding-bottom: 0.4em;background-color: white;}#sk-container-id-1 div.sk-label label {font-family: monospace;font-weight: bold;display: inline-block;line-height: 1.2em;}#sk-container-id-1 div.sk-label-container {text-align: center;}#sk-container-id-1 div.sk-container {/* jupyter's `normalize.less` sets `[hidden] { display: none; }` but bootstrap.min.css set `[hidden] { display: none !important; }` so we also need the `!important` here to be able to override the default hidden behavior on the sphinx rendered scikit-learn.org. See: https://github.com/scikit-learn/scikit-learn/issues/21755 */display: inline-block !important;position: relative;}#sk-container-id-1 div.sk-text-repr-fallback {display: none;}</style><div id=\"sk-container-id-1\" class=\"sk-top-container\"><div class=\"sk-text-repr-fallback\"><pre>KNeighborsClassifier(n_neighbors=20)</pre><b>In a Jupyter environment, please rerun this cell to show the HTML representation or trust the notebook. <br />On GitHub, the HTML representation is unable to render, please try loading this page with nbviewer.org.</b></div><div class=\"sk-container\" hidden><div class=\"sk-item\"><div class=\"sk-estimator sk-toggleable\"><input class=\"sk-toggleable__control sk-hidden--visually\" id=\"sk-estimator-id-1\" type=\"checkbox\" checked><label for=\"sk-estimator-id-1\" class=\"sk-toggleable__label sk-toggleable__label-arrow\">KNeighborsClassifier</label><div class=\"sk-toggleable__content\"><pre>KNeighborsClassifier(n_neighbors=20)</pre></div></div></div></div></div>"
            ],
            "text/plain": [
              "KNeighborsClassifier(n_neighbors=20)"
            ]
          },
          "execution_count": 22,
          "metadata": {},
          "output_type": "execute_result"
        }
      ],
      "source": [
        "# Fitting KNN classifier to the Training set\n",
        "\n",
        "KNN_classifier = KNeighborsClassifier(n_neighbors=20)\n",
        "KNN_classifier.fit(X_train, y_train)"
      ]
    },
    {
      "cell_type": "markdown",
      "metadata": {
        "id": "sc7Cxa6W-ffh"
      },
      "source": [
        "Minkowski distance: https://en.wikipedia.org/wiki/Minkowski_distance"
      ]
    },
    {
      "cell_type": "code",
      "execution_count": 23,
      "metadata": {
        "id": "mceWoylU-ffh"
      },
      "outputs": [],
      "source": [
        "# Predicting the Test set probabilities and classes\n",
        "y_hat      = KNN_classifier.predict(X_test)\n",
        "y_hat_probs = KNN_classifier.predict_proba(X_test)[:,1] \n",
        "# predicted probabilities are reported for both classes. we saved the prob of purchased!"
      ]
    },
    {
      "cell_type": "code",
      "execution_count": 24,
      "metadata": {
        "colab": {
          "base_uri": "https://localhost:8080/"
        },
        "id": "b9Km_FMW-ffh",
        "outputId": "9e327168-b3ab-49ca-9791-d030949cadf2"
      },
      "outputs": [
        {
          "data": {
            "text/plain": [
              "array([[0.85, 0.15],\n",
              "       [1.  , 0.  ],\n",
              "       [0.2 , 0.8 ],\n",
              "       [1.  , 0.  ],\n",
              "       [1.  , 0.  ]])"
            ]
          },
          "execution_count": 24,
          "metadata": {},
          "output_type": "execute_result"
        }
      ],
      "source": [
        "np.round(KNN_classifier.predict_proba(X_test),3)[:5]"
      ]
    },
    {
      "cell_type": "markdown",
      "metadata": {
        "id": "aPi4j_7c-ffh"
      },
      "source": [
        "Let's look at the histogram of probabilities of default:"
      ]
    },
    {
      "cell_type": "code",
      "execution_count": 25,
      "metadata": {
        "colab": {
          "base_uri": "https://localhost:8080/"
        },
        "id": "L9-QLeow-ffi",
        "outputId": "6f94cd8f-a8ac-4e19-fffd-fc0ec5b0d3f3"
      },
      "outputs": [
        {
          "data": {
            "text/plain": [
              "0.95"
            ]
          },
          "execution_count": 25,
          "metadata": {},
          "output_type": "execute_result"
        }
      ],
      "source": [
        "np.max(y_hat_probs)"
      ]
    },
    {
      "cell_type": "code",
      "execution_count": 26,
      "metadata": {
        "colab": {
          "base_uri": "https://localhost:8080/",
          "height": 268
        },
        "id": "U5VllsQX-ffi",
        "outputId": "d9d4e307-769f-475b-cd03-53f74c5bd842"
      },
      "outputs": [
        {
          "data": {
            "image/png": "[encoded data removed]",
            "text/plain": [
              "<Figure size 432x288 with 1 Axes>"
            ]
          },
          "metadata": {},
          "output_type": "display_data"
        }
      ],
      "source": [
        "plt.hist(y_hat_probs)\n",
        "plt.show()"
      ]
    },
    {
      "cell_type": "markdown",
      "metadata": {
        "id": "TPk1ghdG-ffi"
      },
      "source": [
        "As we saw earlier, the data set is relatively balanced and it seems that a probability threshold of 0.5 is a fair number to work with. However, we are going to construct predictions for threshold =0.3 (to avoid too many false negatives) and 0.7 (to avoid too many false positives) as well. \n",
        "\n",
        "**Exercise:** For this social network ads data set, which threshold would make more sense? "
      ]
    },
    {
      "cell_type": "code",
      "execution_count": 27,
      "metadata": {
        "id": "tPQDQaCm-ffi"
      },
      "outputs": [],
      "source": [
        "y_hat_30 = np.where(y_hat_probs>0.3,1,0)\n",
        "y_hat_70 = np.where(y_hat_probs>0.7,1,0)"
      ]
    },
    {
      "cell_type": "code",
      "execution_count": 28,
      "metadata": {
        "colab": {
          "base_uri": "https://localhost:8080/",
          "height": 206
        },
        "id": "difknPNV-ffi",
        "outputId": "399850c2-c441-4c11-efc6-d115d8885ba8"
      },
      "outputs": [
        {
          "data": {
            "text/html": [
              "<div>\n",
              "<style scoped>\n",
              "    .dataframe tbody tr th:only-of-type {\n",
              "        vertical-align: middle;\n",
              "    }\n",
              "\n",
              "    .dataframe tbody tr th {\n",
              "        vertical-align: top;\n",
              "    }\n",
              "\n",
              "    .dataframe thead th {\n",
              "        text-align: right;\n",
              "    }\n",
              "</style>\n",
              "<table border=\"1\" class=\"dataframe\">\n",
              "  <thead>\n",
              "    <tr style=\"text-align: right;\">\n",
              "      <th></th>\n",
              "      <th>y_test</th>\n",
              "      <th>y_hat_probs</th>\n",
              "      <th>y_hat_30</th>\n",
              "      <th>y_hat_70</th>\n",
              "    </tr>\n",
              "  </thead>\n",
              "  <tbody>\n",
              "    <tr>\n",
              "      <th>220</th>\n",
              "      <td>0</td>\n",
              "      <td>0.15</td>\n",
              "      <td>0</td>\n",
              "      <td>0</td>\n",
              "    </tr>\n",
              "    <tr>\n",
              "      <th>4</th>\n",
              "      <td>0</td>\n",
              "      <td>0.00</td>\n",
              "      <td>0</td>\n",
              "      <td>0</td>\n",
              "    </tr>\n",
              "    <tr>\n",
              "      <th>230</th>\n",
              "      <td>1</td>\n",
              "      <td>0.80</td>\n",
              "      <td>1</td>\n",
              "      <td>1</td>\n",
              "    </tr>\n",
              "    <tr>\n",
              "      <th>55</th>\n",
              "      <td>0</td>\n",
              "      <td>0.00</td>\n",
              "      <td>0</td>\n",
              "      <td>0</td>\n",
              "    </tr>\n",
              "    <tr>\n",
              "      <th>312</th>\n",
              "      <td>0</td>\n",
              "      <td>0.00</td>\n",
              "      <td>0</td>\n",
              "      <td>0</td>\n",
              "    </tr>\n",
              "  </tbody>\n",
              "</table>\n",
              "</div>"
            ],
            "text/plain": [
              "     y_test  y_hat_probs  y_hat_30  y_hat_70\n",
              "220       0         0.15         0         0\n",
              "4         0         0.00         0         0\n",
              "230       1         0.80         1         1\n",
              "55        0         0.00         0         0\n",
              "312       0         0.00         0         0"
            ]
          },
          "execution_count": 28,
          "metadata": {},
          "output_type": "execute_result"
        }
      ],
      "source": [
        "# let's put all the predictions together in a data frame.\n",
        "df_predictions = pd.DataFrame({'y_test':y_test, 'y_hat_probs':y_hat_probs,\n",
        "                               'y_hat_30':y_hat_30, 'y_hat_70':y_hat_70})\n",
        "df_predictions.head()"
      ]
    },
    {
      "cell_type": "markdown",
      "metadata": {
        "id": "lOhkjPCP-ffi"
      },
      "source": [
        "----"
      ]
    },
    {
      "cell_type": "markdown",
      "metadata": {
        "id": "shcPWDZS-ffj"
      },
      "source": [
        "## Performance metrics:"
      ]
    },
    {
      "cell_type": "code",
      "execution_count": 29,
      "metadata": {
        "id": "j5KFZz2C-ffj"
      },
      "outputs": [],
      "source": [
        "from sklearn.metrics import accuracy_score, recall_score, precision_score, f1_score\n",
        "from sklearn.metrics import confusion_matrix, classification_report, roc_curve, roc_auc_score"
      ]
    },
    {
      "cell_type": "markdown",
      "metadata": {
        "id": "H6FRz-4r-ffj"
      },
      "source": [
        "#### Confusion matrix"
      ]
    },
    {
      "cell_type": "code",
      "execution_count": 30,
      "metadata": {
        "colab": {
          "base_uri": "https://localhost:8080/"
        },
        "id": "9NrotRrX-ffj",
        "outputId": "57b27230-584b-46fb-821f-d1bbb60c1643"
      },
      "outputs": [
        {
          "name": "stdout",
          "output_type": "stream",
          "text": [
            "[[44  4]\n",
            " [ 9 23]]\n"
          ]
        }
      ],
      "source": [
        "print(confusion_matrix(y_test, y_hat))"
      ]
    },
    {
      "cell_type": "markdown",
      "metadata": {
        "id": "22SepXXd-ffj"
      },
      "source": [
        "#### Built-in classification report"
      ]
    },
    {
      "cell_type": "code",
      "execution_count": 31,
      "metadata": {
        "colab": {
          "base_uri": "https://localhost:8080/"
        },
        "id": "6NMtdPxv-ffj",
        "outputId": "52f24127-e2a6-4273-9e49-0e8d26f4e236"
      },
      "outputs": [
        {
          "name": "stdout",
          "output_type": "stream",
          "text": [
            "              precision    recall  f1-score   support\n",
            "\n",
            "           0       0.83      0.92      0.87        48\n",
            "           1       0.85      0.72      0.78        32\n",
            "\n",
            "    accuracy                           0.84        80\n",
            "   macro avg       0.84      0.82      0.83        80\n",
            "weighted avg       0.84      0.84      0.83        80\n",
            "\n"
          ]
        }
      ],
      "source": [
        "print(classification_report(y_test, y_hat))"
      ]
    },
    {
      "cell_type": "markdown",
      "metadata": {
        "id": "U5QVmPFw-ffj"
      },
      "source": [
        "### Defining my own KNN report:"
      ]
    },
    {
      "cell_type": "code",
      "execution_count": 32,
      "metadata": {
        "id": "Fht-UWrJ-ffj"
      },
      "outputs": [],
      "source": [
        "from sklearn.metrics import confusion_matrix\n",
        "from sklearn.metrics import accuracy_score, recall_score, precision_score, f1_score, matthews_corrcoef\n",
        "\n",
        "\n",
        "\n",
        "def my_KNN_report(X_train, y_train, X_test,y_test, K=5, threshold=0.5, weights='uniform'):\n",
        "    knn= KNeighborsClassifier(n_neighbors=K, weights=weights)\n",
        "    knn.fit(X_train, y_train)\n",
        "    probs = knn.predict_proba(X_test)[:,1]\n",
        "    y_hat = np.where(probs>=threshold,1,0)\n",
        "    \n",
        "    cm = confusion_matrix(y_test, y_hat)\n",
        "    accuracy = round(accuracy_score(y_test,y_hat) ,4)\n",
        "    error_rate = round(1-accuracy,4)\n",
        "    precision = round(precision_score(y_test,y_hat),2)\n",
        "    recall = round(recall_score(y_test,y_hat),2)\n",
        "    f1score = round(f1_score(y_test,y_hat),2)\n",
        "    MCC = round(matthews_corrcoef(y_test,y_hat),2)\n",
        "    cm_labled = pd.DataFrame(cm, index=['Actual : negative ','Actual : positive'], columns=['Predict : negative','Predict :positive '])\n",
        "    \n",
        "    print(\"-----------------------------------------\")\n",
        "    print('Accuracy  = {}'.format(accuracy))\n",
        "    print('Error_rate  = {}'.format(error_rate))\n",
        "    print('Precision = {}'.format(precision))\n",
        "    print('Recall    = {}'.format(recall))\n",
        "    print('f1_score  = {}'.format(f1score))\n",
        "    print('MCC       = {}'.format(MCC))\n",
        "    print(\"-----------------------------------------\")\n",
        "    return cm_labled\n",
        " "
      ]
    },
    {
      "cell_type": "code",
      "execution_count": 33,
      "metadata": {
        "colab": {
          "base_uri": "https://localhost:8080/",
          "height": 251
        },
        "id": "wXP4UedR-ffk",
        "outputId": "af60c1da-71cc-4f45-fe0a-b9b844f9957b"
      },
      "outputs": [
        {
          "name": "stdout",
          "output_type": "stream",
          "text": [
            "-----------------------------------------\n",
            "Accuracy  = 0.9\n",
            "Error_rate  = 0.1\n",
            "Precision = 0.88\n",
            "Recall    = 0.88\n",
            "f1_score  = 0.88\n",
            "MCC       = 0.79\n",
            "-----------------------------------------\n"
          ]
        },
        {
          "data": {
            "text/html": [
              "<div>\n",
              "<style scoped>\n",
              "    .dataframe tbody tr th:only-of-type {\n",
              "        vertical-align: middle;\n",
              "    }\n",
              "\n",
              "    .dataframe tbody tr th {\n",
              "        vertical-align: top;\n",
              "    }\n",
              "\n",
              "    .dataframe thead th {\n",
              "        text-align: right;\n",
              "    }\n",
              "</style>\n",
              "<table border=\"1\" class=\"dataframe\">\n",
              "  <thead>\n",
              "    <tr style=\"text-align: right;\">\n",
              "      <th></th>\n",
              "      <th>Predict : negative</th>\n",
              "      <th>Predict :positive</th>\n",
              "    </tr>\n",
              "  </thead>\n",
              "  <tbody>\n",
              "    <tr>\n",
              "      <th>Actual : negative</th>\n",
              "      <td>44</td>\n",
              "      <td>4</td>\n",
              "    </tr>\n",
              "    <tr>\n",
              "      <th>Actual : positive</th>\n",
              "      <td>4</td>\n",
              "      <td>28</td>\n",
              "    </tr>\n",
              "  </tbody>\n",
              "</table>\n",
              "</div>"
            ],
            "text/plain": [
              "                    Predict : negative  Predict :positive \n",
              "Actual : negative                   44                   4\n",
              "Actual : positive                    4                  28"
            ]
          },
          "execution_count": 33,
          "metadata": {},
          "output_type": "execute_result"
        }
      ],
      "source": [
        "my_KNN_report(X_train, y_train, X_test,y_test, K=3, threshold=0.5, weights='uniform')"
      ]
    },
    {
      "cell_type": "markdown",
      "metadata": {
        "id": "KWqGYDdE-ffk"
      },
      "source": [
        "**Exercise**: \n",
        "* What will happen to my_KNN_report outputs if threshold=0.3? What about 0.7? \n",
        "* Now try weights='distance'. What do you conclude?"
      ]
    },
    {
      "cell_type": "code",
      "execution_count": 34,
      "metadata": {
        "colab": {
          "base_uri": "https://localhost:8080/"
        },
        "id": "ktnOhoTe-ffk",
        "outputId": "64980dae-ce63-402e-cca5-1a3458a618e0"
      },
      "outputs": [
        {
          "data": {
            "text/plain": [
              "(320, 3)"
            ]
          },
          "execution_count": 34,
          "metadata": {},
          "output_type": "execute_result"
        }
      ],
      "source": [
        "X_train.shape"
      ]
    },
    {
      "cell_type": "markdown",
      "metadata": {
        "id": "fFM-Klvr-ffk"
      },
      "source": [
        "**Exercise**: Now try K=320 (train size). Why all the predictions are negative?"
      ]
    },
    {
      "cell_type": "markdown",
      "metadata": {
        "id": "QMQZyAVO-ffk"
      },
      "source": [
        "### ROC and AUC "
      ]
    },
    {
      "cell_type": "code",
      "execution_count": 35,
      "metadata": {
        "colab": {
          "base_uri": "https://localhost:8080/",
          "height": 320
        },
        "id": "0YESRqm4-ffk",
        "outputId": "40f8cf60-aea6-43fc-d282-9bebb12bc901"
      },
      "outputs": [
        {
          "name": "stdout",
          "output_type": "stream",
          "text": [
            "No Skill: ROC AUC=0.500\n",
            "KNN: ROC AUC=0.942\n"
          ]
        },
        {
          "data": {
            "image/png": "[encoded data removed]",
            "text/plain": [
              "<Figure size 432x288 with 1 Axes>"
            ]
          },
          "metadata": {},
          "output_type": "display_data"
        }
      ],
      "source": [
        "# generate a no skill (ns) prediction and KNN  (lr) predictions.\n",
        "ns_probs = [0 for i in range(len(y_test))]\n",
        "lr_probs = KNN_classifier.predict_proba(X_test)[:,1]\n",
        "# calculating scores for no skill and KNN \n",
        "ns_auc = roc_auc_score(y_test, ns_probs)\n",
        "lr_auc = roc_auc_score(y_test, lr_probs)\n",
        "print('No Skill: ROC AUC=%.3f' % (ns_auc))\n",
        "print('KNN: ROC AUC=%.3f' % (lr_auc))\n",
        "\n",
        "# calculate roc curves\n",
        "ns_fpr, ns_tpr, _ = roc_curve(y_test, ns_probs)\n",
        "lr_fpr, lr_tpr, _ = roc_curve(y_test, lr_probs)\n",
        "# plot the roc curve for the model\n",
        "plt.plot(ns_fpr, ns_tpr, linestyle='--', label='No Skill')\n",
        "plt.plot(lr_fpr, lr_tpr, marker='.', label='KNN')\n",
        "# axis labels\n",
        "plt.xlabel('False Positive Rate')\n",
        "plt.ylabel('True Positive Rate')\n",
        "# show the legend\n",
        "plt.legend()\n",
        "# show the plot\n",
        "plt.show()"
      ]
    },
    {
      "cell_type": "markdown",
      "metadata": {
        "id": "NlbbhecD-ffl"
      },
      "source": [
        "**Exercise**: Are you excited about the high AUC? why?"
      ]
    },
    {
      "cell_type": "markdown",
      "metadata": {
        "id": "Y8bjBTvN-ffl"
      },
      "source": [
        "---"
      ]
    },
    {
      "cell_type": "markdown",
      "metadata": {
        "id": "T819PFI2-ffl"
      },
      "source": [
        "##  Cross validation\n",
        "\n",
        "In KNN, we use cross validation to find the optimal value of K. "
      ]
    },
    {
      "cell_type": "code",
      "execution_count": 36,
      "metadata": {
        "id": "u7IZLfoc-ffl"
      },
      "outputs": [],
      "source": [
        "from sklearn.model_selection import cross_val_score\n",
        "import sklearn.metrics\n",
        "#sorted(sklearn.metrics.SCORERS.keys())"
      ]
    },
    {
      "cell_type": "code",
      "execution_count": 37,
      "metadata": {
        "id": "TfYuFXLU-ffl"
      },
      "outputs": [],
      "source": [
        "# remember we saved our model in an object called \"KNN_classifier\"\n",
        "accuracy = cross_val_score(estimator = KNN_classifier, X = X_train, y = y_train, cv = 5 , scoring=\"accuracy\" )"
      ]
    },
    {
      "cell_type": "code",
      "execution_count": 38,
      "metadata": {
        "colab": {
          "base_uri": "https://localhost:8080/"
        },
        "id": "wDkyPELZ-ffl",
        "outputId": "418aebeb-bbf5-4cf6-d2f6-20ef8d42c8c7"
      },
      "outputs": [
        {
          "data": {
            "text/plain": [
              "array([0.125   , 0.125   , 0.046875, 0.109375, 0.09375 ])"
            ]
          },
          "execution_count": 38,
          "metadata": {},
          "output_type": "execute_result"
        }
      ],
      "source": [
        "1-accuracy"
      ]
    },
    {
      "cell_type": "code",
      "execution_count": 39,
      "metadata": {
        "colab": {
          "base_uri": "https://localhost:8080/"
        },
        "id": "yh0nySry-ffl",
        "outputId": "4b1c37f4-07fa-4ab2-a9de-bea9015c9124"
      },
      "outputs": [
        {
          "data": {
            "text/plain": [
              "0.1"
            ]
          },
          "execution_count": 39,
          "metadata": {},
          "output_type": "execute_result"
        }
      ],
      "source": [
        "error_rate=round((1-accuracy).mean(),4)\n",
        "error_rate"
      ]
    },
    {
      "cell_type": "markdown",
      "metadata": {
        "id": "O4qJMa17-ffl"
      },
      "source": [
        "----------------"
      ]
    },
    {
      "cell_type": "markdown",
      "metadata": {
        "id": "oQc26VbF-ffm"
      },
      "source": [
        "## Choosing K\n",
        " \n",
        "Let's start with a simple error rate approach in the test set."
      ]
    },
    {
      "cell_type": "code",
      "execution_count": 40,
      "metadata": {
        "id": "R6AEYI5y-ffm"
      },
      "outputs": [],
      "source": [
        "error_rate = []\n",
        "k=50\n",
        "\n",
        "for i in range(1,k):\n",
        "    KNN_i = KNeighborsClassifier(n_neighbors=i)\n",
        "    KNN_i.fit(X_train, y_train)\n",
        "    error_rate.append( np.mean(y_test != KNN_i.predict(X_test))) # alternatively we could use, 1- KNN_i.score(X_test, y_test)\n"
      ]
    },
    {
      "cell_type": "code",
      "execution_count": 41,
      "metadata": {
        "colab": {
          "base_uri": "https://localhost:8080/",
          "height": 355
        },
        "id": "ma5aiBNq-ffm",
        "outputId": "cfaf4b4e-8bec-4443-835c-270e7b32d295"
      },
      "outputs": [
        {
          "data": {
            "image/png": "[encoded data removed]",
            "text/plain": [
              "<Figure size 720x360 with 1 Axes>"
            ]
          },
          "metadata": {},
          "output_type": "display_data"
        }
      ],
      "source": [
        "plt.figure(figsize=(10,5))\n",
        "sns.lineplot(y=error_rate, x=range(1,k))\n",
        "plt.title('Test Error Rate VS K')\n",
        "plt.xlabel('K')\n",
        "plt.ylabel('Error rate')\n",
        "plt.show()"
      ]
    },
    {
      "cell_type": "markdown",
      "metadata": {
        "id": "nSDnZS3g-ffm"
      },
      "source": [
        "**exercise**: \n",
        "* What is wrong if we rely on the error rate in the test set and choose k=5 or 15? cheating?\n",
        "* What is wrong if we plot Error rate vs K and using the train set? Can you plot that? cheating?\n",
        "* What is the solution?"
      ]
    },
    {
      "cell_type": "code",
      "execution_count": 42,
      "metadata": {
        "id": "-oHkfstx-ffm"
      },
      "outputs": [],
      "source": [
        "error_rate_test = []\n",
        "error_rate_CV=[]\n",
        "k=50\n",
        "\n",
        "for i in range(1,k):\n",
        "    KNN_i = KNeighborsClassifier(n_neighbors=i)\n",
        "    KNN_i.fit(X_train, y_train)\n",
        "    accuracy =  cross_val_score(estimator = KNN_i, X = X_train, y = y_train, cv = 5 , scoring=\"accuracy\")\n",
        "    error_rate_CV.append(np.mean(1-accuracy))\n",
        "    error_rate_test.append(np.mean(y_test != KNN_i.predict(X_test)) )\n",
        "    \n",
        "optimal_k = pd.DataFrame({'error_rate_CV': error_rate_CV, 'error_rate_test':error_rate_test}, index=range(1,k))"
      ]
    },
    {
      "cell_type": "code",
      "execution_count": 43,
      "metadata": {
        "colab": {
          "base_uri": "https://localhost:8080/",
          "height": 363
        },
        "id": "X7cWSNIw-ffm",
        "outputId": "3254bf62-2cd0-4166-a9bc-6c354d1e8c76"
      },
      "outputs": [
        {
          "data": {
            "text/html": [
              "<div>\n",
              "<style scoped>\n",
              "    .dataframe tbody tr th:only-of-type {\n",
              "        vertical-align: middle;\n",
              "    }\n",
              "\n",
              "    .dataframe tbody tr th {\n",
              "        vertical-align: top;\n",
              "    }\n",
              "\n",
              "    .dataframe thead th {\n",
              "        text-align: right;\n",
              "    }\n",
              "</style>\n",
              "<table border=\"1\" class=\"dataframe\">\n",
              "  <thead>\n",
              "    <tr style=\"text-align: right;\">\n",
              "      <th></th>\n",
              "      <th>error_rate_CV</th>\n",
              "      <th>error_rate_test</th>\n",
              "    </tr>\n",
              "  </thead>\n",
              "  <tbody>\n",
              "    <tr>\n",
              "      <th>1</th>\n",
              "      <td>0.121875</td>\n",
              "      <td>0.1500</td>\n",
              "    </tr>\n",
              "    <tr>\n",
              "      <th>2</th>\n",
              "      <td>0.125000</td>\n",
              "      <td>0.2000</td>\n",
              "    </tr>\n",
              "    <tr>\n",
              "      <th>3</th>\n",
              "      <td>0.106250</td>\n",
              "      <td>0.1000</td>\n",
              "    </tr>\n",
              "    <tr>\n",
              "      <th>4</th>\n",
              "      <td>0.106250</td>\n",
              "      <td>0.1125</td>\n",
              "    </tr>\n",
              "    <tr>\n",
              "      <th>5</th>\n",
              "      <td>0.090625</td>\n",
              "      <td>0.0875</td>\n",
              "    </tr>\n",
              "    <tr>\n",
              "      <th>6</th>\n",
              "      <td>0.090625</td>\n",
              "      <td>0.0875</td>\n",
              "    </tr>\n",
              "    <tr>\n",
              "      <th>7</th>\n",
              "      <td>0.090625</td>\n",
              "      <td>0.0875</td>\n",
              "    </tr>\n",
              "    <tr>\n",
              "      <th>8</th>\n",
              "      <td>0.087500</td>\n",
              "      <td>0.0875</td>\n",
              "    </tr>\n",
              "    <tr>\n",
              "      <th>9</th>\n",
              "      <td>0.084375</td>\n",
              "      <td>0.0875</td>\n",
              "    </tr>\n",
              "    <tr>\n",
              "      <th>10</th>\n",
              "      <td>0.093750</td>\n",
              "      <td>0.0875</td>\n",
              "    </tr>\n",
              "  </tbody>\n",
              "</table>\n",
              "</div>"
            ],
            "text/plain": [
              "    error_rate_CV  error_rate_test\n",
              "1        0.121875           0.1500\n",
              "2        0.125000           0.2000\n",
              "3        0.106250           0.1000\n",
              "4        0.106250           0.1125\n",
              "5        0.090625           0.0875\n",
              "6        0.090625           0.0875\n",
              "7        0.090625           0.0875\n",
              "8        0.087500           0.0875\n",
              "9        0.084375           0.0875\n",
              "10       0.093750           0.0875"
            ]
          },
          "execution_count": 43,
          "metadata": {},
          "output_type": "execute_result"
        }
      ],
      "source": [
        "optimal_k.head(10)"
      ]
    },
    {
      "cell_type": "code",
      "execution_count": 44,
      "metadata": {
        "colab": {
          "base_uri": "https://localhost:8080/",
          "height": 355
        },
        "id": "XrULXMDd-ffm",
        "outputId": "ab7c21d6-bd18-4c73-faa8-2a44cd88e68c"
      },
      "outputs": [
        {
          "data": {
            "image/png": "[encoded data removed]",
            "text/plain": [
              "<Figure size 720x360 with 1 Axes>"
            ]
          },
          "metadata": {},
          "output_type": "display_data"
        }
      ],
      "source": [
        "plt.figure(figsize=(10,5))\n",
        "sns.lineplot(data=optimal_k)\n",
        "plt.title('Cross Validated Test Errors Rates VS K')\n",
        "plt.xlabel('K')\n",
        "plt.ylabel('Error rate')\n",
        "plt.show()"
      ]
    },
    {
      "cell_type": "markdown",
      "metadata": {
        "id": "MeuqZeWj-ffn"
      },
      "source": [
        "**exercise:** By looking at this graph, What is the optimal value for K now?\n",
        "\n",
        "Refit the model using the optimal K. "
      ]
    },
    {
      "cell_type": "code",
      "execution_count": 45,
      "metadata": {
        "colab": {
          "base_uri": "https://localhost:8080/",
          "height": 251
        },
        "id": "IfRn3WZu-ffn",
        "outputId": "ec86a8c5-32a6-4338-ceb8-186d9d04112f"
      },
      "outputs": [
        {
          "name": "stdout",
          "output_type": "stream",
          "text": [
            "-----------------------------------------\n",
            "Accuracy  = 0.9125\n",
            "Error_rate  = 0.0875\n",
            "Precision = 0.88\n",
            "Recall    = 0.91\n",
            "f1_score  = 0.89\n",
            "MCC       = 0.82\n",
            "-----------------------------------------\n"
          ]
        },
        {
          "data": {
            "text/html": [
              "<div>\n",
              "<style scoped>\n",
              "    .dataframe tbody tr th:only-of-type {\n",
              "        vertical-align: middle;\n",
              "    }\n",
              "\n",
              "    .dataframe tbody tr th {\n",
              "        vertical-align: top;\n",
              "    }\n",
              "\n",
              "    .dataframe thead th {\n",
              "        text-align: right;\n",
              "    }\n",
              "</style>\n",
              "<table border=\"1\" class=\"dataframe\">\n",
              "  <thead>\n",
              "    <tr style=\"text-align: right;\">\n",
              "      <th></th>\n",
              "      <th>Predict : negative</th>\n",
              "      <th>Predict :positive</th>\n",
              "    </tr>\n",
              "  </thead>\n",
              "  <tbody>\n",
              "    <tr>\n",
              "      <th>Actual : negative</th>\n",
              "      <td>44</td>\n",
              "      <td>4</td>\n",
              "    </tr>\n",
              "    <tr>\n",
              "      <th>Actual : positive</th>\n",
              "      <td>3</td>\n",
              "      <td>29</td>\n",
              "    </tr>\n",
              "  </tbody>\n",
              "</table>\n",
              "</div>"
            ],
            "text/plain": [
              "                    Predict : negative  Predict :positive \n",
              "Actual : negative                   44                   4\n",
              "Actual : positive                    3                  29"
            ]
          },
          "execution_count": 45,
          "metadata": {},
          "output_type": "execute_result"
        }
      ],
      "source": [
        "my_KNN_report(X_train, y_train, X_test,y_test, K=9, threshold=0.5)"
      ]
    },
    {
      "cell_type": "markdown",
      "metadata": {
        "id": "63Rcn6g4-ffn"
      },
      "source": [
        "---\n",
        "### Advance Visualization (this part is optional) \n",
        "\n",
        "Visualising the Training set results (in 2D of course!). We have to rerun the whole model with 2 explanatory variables"
      ]
    },
    {
      "cell_type": "code",
      "execution_count": 46,
      "metadata": {
        "id": "-6tq6o9n-ffn"
      },
      "outputs": [],
      "source": [
        "X= df[['Age', 'EstimatedSalary']]\n",
        "y= df[['Purchased']]\n",
        "\n",
        "X_train, X_test, y_train, y_test = train_test_split(X, y, test_size = 0.2, random_state = 101)"
      ]
    },
    {
      "cell_type": "code",
      "execution_count": 47,
      "metadata": {
        "id": "3YWXrlgd-ffn"
      },
      "outputs": [],
      "source": [
        "# Feature Scaling\n",
        "from sklearn.preprocessing import StandardScaler\n",
        "sc = StandardScaler()\n",
        "X_train = sc.fit_transform(X_train)\n",
        "X_test = sc.transform(X_test) "
      ]
    },
    {
      "cell_type": "markdown",
      "metadata": {
        "id": "JR3gy55U-ffn"
      },
      "source": [
        "## Fitting KNN classifier to the Training set"
      ]
    },
    {
      "cell_type": "code",
      "execution_count": 48,
      "metadata": {
        "colab": {
          "base_uri": "https://localhost:8080/"
        },
        "id": "xW_zeIKQ-ffn",
        "outputId": "f1cc4ca5-a17a-48bc-bd9e-647475ec57de"
      },
      "outputs": [
        {
          "data": {
            "text/html": [
              "<style>#sk-container-id-2 {color: black;background-color: white;}#sk-container-id-2 pre{padding: 0;}#sk-container-id-2 div.sk-toggleable {background-color: white;}#sk-container-id-2 label.sk-toggleable__label {cursor: pointer;display: block;width: 100%;margin-bottom: 0;padding: 0.3em;box-sizing: border-box;text-align: center;}#sk-container-id-2 label.sk-toggleable__label-arrow:before {content: \"▸\";float: left;margin-right: 0.25em;color: #696969;}#sk-container-id-2 label.sk-toggleable__label-arrow:hover:before {color: black;}#sk-container-id-2 div.sk-estimator:hover label.sk-toggleable__label-arrow:before {color: black;}#sk-container-id-2 div.sk-toggleable__content {max-height: 0;max-width: 0;overflow: hidden;text-align: left;background-color: #f0f8ff;}#sk-container-id-2 div.sk-toggleable__content pre {margin: 0.2em;color: black;border-radius: 0.25em;background-color: #f0f8ff;}#sk-container-id-2 input.sk-toggleable__control:checked~div.sk-toggleable__content {max-height: 200px;max-width: 100%;overflow: auto;}#sk-container-id-2 input.sk-toggleable__control:checked~label.sk-toggleable__label-arrow:before {content: \"▾\";}#sk-container-id-2 div.sk-estimator input.sk-toggleable__control:checked~label.sk-toggleable__label {background-color: #d4ebff;}#sk-container-id-2 div.sk-label input.sk-toggleable__control:checked~label.sk-toggleable__label {background-color: #d4ebff;}#sk-container-id-2 input.sk-hidden--visually {border: 0;clip: rect(1px 1px 1px 1px);clip: rect(1px, 1px, 1px, 1px);height: 1px;margin: -1px;overflow: hidden;padding: 0;position: absolute;width: 1px;}#sk-container-id-2 div.sk-estimator {font-family: monospace;background-color: #f0f8ff;border: 1px dotted black;border-radius: 0.25em;box-sizing: border-box;margin-bottom: 0.5em;}#sk-container-id-2 div.sk-estimator:hover {background-color: #d4ebff;}#sk-container-id-2 div.sk-parallel-item::after {content: \"\";width: 100%;border-bottom: 1px solid gray;flex-grow: 1;}#sk-container-id-2 div.sk-label:hover label.sk-toggleable__label {background-color: #d4ebff;}#sk-container-id-2 div.sk-serial::before {content: \"\";position: absolute;border-left: 1px solid gray;box-sizing: border-box;top: 0;bottom: 0;left: 50%;z-index: 0;}#sk-container-id-2 div.sk-serial {display: flex;flex-direction: column;align-items: center;background-color: white;padding-right: 0.2em;padding-left: 0.2em;position: relative;}#sk-container-id-2 div.sk-item {position: relative;z-index: 1;}#sk-container-id-2 div.sk-parallel {display: flex;align-items: stretch;justify-content: center;background-color: white;position: relative;}#sk-container-id-2 div.sk-item::before, #sk-container-id-2 div.sk-parallel-item::before {content: \"\";position: absolute;border-left: 1px solid gray;box-sizing: border-box;top: 0;bottom: 0;left: 50%;z-index: -1;}#sk-container-id-2 div.sk-parallel-item {display: flex;flex-direction: column;z-index: 1;position: relative;background-color: white;}#sk-container-id-2 div.sk-parallel-item:first-child::after {align-self: flex-end;width: 50%;}#sk-container-id-2 div.sk-parallel-item:last-child::after {align-self: flex-start;width: 50%;}#sk-container-id-2 div.sk-parallel-item:only-child::after {width: 0;}#sk-container-id-2 div.sk-dashed-wrapped {border: 1px dashed gray;margin: 0 0.4em 0.5em 0.4em;box-sizing: border-box;padding-bottom: 0.4em;background-color: white;}#sk-container-id-2 div.sk-label label {font-family: monospace;font-weight: bold;display: inline-block;line-height: 1.2em;}#sk-container-id-2 div.sk-label-container {text-align: center;}#sk-container-id-2 div.sk-container {/* jupyter's `normalize.less` sets `[hidden] { display: none; }` but bootstrap.min.css set `[hidden] { display: none !important; }` so we also need the `!important` here to be able to override the default hidden behavior on the sphinx rendered scikit-learn.org. See: https://github.com/scikit-learn/scikit-learn/issues/21755 */display: inline-block !important;position: relative;}#sk-container-id-2 div.sk-text-repr-fallback {display: none;}</style><div id=\"sk-container-id-2\" class=\"sk-top-container\"><div class=\"sk-text-repr-fallback\"><pre>KNeighborsClassifier(n_neighbors=9)</pre><b>In a Jupyter environment, please rerun this cell to show the HTML representation or trust the notebook. <br />On GitHub, the HTML representation is unable to render, please try loading this page with nbviewer.org.</b></div><div class=\"sk-container\" hidden><div class=\"sk-item\"><div class=\"sk-estimator sk-toggleable\"><input class=\"sk-toggleable__control sk-hidden--visually\" id=\"sk-estimator-id-2\" type=\"checkbox\" checked><label for=\"sk-estimator-id-2\" class=\"sk-toggleable__label sk-toggleable__label-arrow\">KNeighborsClassifier</label><div class=\"sk-toggleable__content\"><pre>KNeighborsClassifier(n_neighbors=9)</pre></div></div></div></div></div>"
            ],
            "text/plain": [
              "KNeighborsClassifier(n_neighbors=9)"
            ]
          },
          "execution_count": 48,
          "metadata": {},
          "output_type": "execute_result"
        }
      ],
      "source": [
        "\n",
        "KNN_classifier = KNeighborsClassifier(n_neighbors=9)\n",
        "KNN_classifier.fit(X_train, y_train.values.reshape(-1,))"
      ]
    },
    {
      "cell_type": "code",
      "execution_count": 49,
      "metadata": {
        "id": "hQSJUIpS-ffo"
      },
      "outputs": [],
      "source": [
        "# Predicting the Test set results\n",
        "y_pred = KNN_classifier.predict(X_test)"
      ]
    },
    {
      "cell_type": "code",
      "execution_count": 50,
      "metadata": {
        "colab": {
          "base_uri": "https://localhost:8080/",
          "height": 573
        },
        "id": "Mqi1JVQo-ffo",
        "outputId": "59acf5b5-d09f-40a1-cdf0-124760a632e3"
      },
      "outputs": [
        {
          "name": "stderr",
          "output_type": "stream",
          "text": [
            "*c* argument looks like a single numeric RGB or RGBA sequence, which should be avoided as value-mapping will have precedence in case its length matches with *x* & *y*.  Please use the *color* keyword-argument or provide a 2D array with a single row if you intend to specify the same RGB or RGBA value for all points.\n",
            "*c* argument looks like a single numeric RGB or RGBA sequence, which should be avoided as value-mapping will have precedence in case its length matches with *x* & *y*.  Please use the *color* keyword-argument or provide a 2D array with a single row if you intend to specify the same RGB or RGBA value for all points.\n"
          ]
        },
        {
          "data": {
            "image/png": "[encoded data removed]",
            "text/plain": [
              "<Figure size 864x576 with 1 Axes>"
            ]
          },
          "metadata": {},
          "output_type": "display_data"
        }
      ],
      "source": [
        "# visualization\n",
        "plt.figure(figsize=(12,8))\n",
        "\n",
        "X_set, y_set = X_train, y_train.iloc[:,0].values\n",
        "X1, X2 = np.meshgrid(np.arange(start = X_set[:, 0].min() - 1, stop = X_set[:, 0].max() + 1, step = 0.01),\n",
        "                     np.arange(start = X_set[:, 1].min() - 1, stop = X_set[:, 1].max() + 1, step = 0.01))\n",
        "\n",
        "\n",
        "from matplotlib.colors import ListedColormap\n",
        "plt.contourf( X1, X2 , KNN_classifier.predict(np.array([X1.ravel(), X2.ravel()]).T).reshape(X1.shape),\n",
        "             alpha = 0.75, cmap = ListedColormap(('#FF6347', '#90EE90')))\n",
        "\n",
        "plt.xlim(X1.min(), X1.max())\n",
        "plt.ylim(X2.min(), X2.max())\n",
        "\n",
        "for i, j in enumerate(np.unique(y_set)):\n",
        "    plt.scatter(X_set[y_set == j, 0], X_set[y_set == j, 1],\n",
        "                c = ListedColormap(('red', 'green'))(i), label = j)\n",
        "plt.title('KNN classification (Training set)')\n",
        "plt.xlabel('Age')\n",
        "plt.ylabel('Estimated Salary')\n",
        "plt.legend()\n",
        "plt.show()"
      ]
    },
    {
      "cell_type": "markdown",
      "metadata": {
        "id": "hk7ip0cu-ffo"
      },
      "source": [
        "### Visualising the Test set results"
      ]
    },
    {
      "cell_type": "code",
      "execution_count": 51,
      "metadata": {
        "colab": {
          "base_uri": "https://localhost:8080/",
          "height": 573
        },
        "id": "heCukDb4-ffo",
        "outputId": "a101dd64-1d20-4877-b4ea-1978af41bc18"
      },
      "outputs": [
        {
          "name": "stderr",
          "output_type": "stream",
          "text": [
            "*c* argument looks like a single numeric RGB or RGBA sequence, which should be avoided as value-mapping will have precedence in case its length matches with *x* & *y*.  Please use the *color* keyword-argument or provide a 2D array with a single row if you intend to specify the same RGB or RGBA value for all points.\n",
            "*c* argument looks like a single numeric RGB or RGBA sequence, which should be avoided as value-mapping will have precedence in case its length matches with *x* & *y*.  Please use the *color* keyword-argument or provide a 2D array with a single row if you intend to specify the same RGB or RGBA value for all points.\n"
          ]
        },
        {
          "data": {
            "image/png": "[encoded data removed]",
            "text/plain": [
              "<Figure size 864x576 with 1 Axes>"
            ]
          },
          "metadata": {},
          "output_type": "display_data"
        }
      ],
      "source": [
        "plt.figure(figsize=(12,8))\n",
        "\n",
        "from matplotlib.colors import ListedColormap\n",
        "X_set, y_set = X_test, y_test.iloc[:,0].values\n",
        "X1, X2 = np.meshgrid(np.arange(start = X_set[:, 0].min() - 1, stop = X_set[:, 0].max() + 1, step = 0.01),\n",
        "                     np.arange(start = X_set[:, 1].min() - 1, stop = X_set[:, 1].max() + 1, step = 0.01))\n",
        "plt.contourf(X1, X2, KNN_classifier.predict(np.array([X1.ravel(), X2.ravel()]).T).reshape(X1.shape),\n",
        "             alpha = 0.75, cmap = ListedColormap(('#FF6347', '#90EE90')))\n",
        "plt.xlim(X1.min(), X1.max())\n",
        "plt.ylim(X2.min(), X2.max())\n",
        "for i, j in enumerate(np.unique(y_set)):\n",
        "    plt.scatter(X_set[y_set == j, 0], X_set[y_set == j, 1],\n",
        "                c = ListedColormap(('red', 'green'))(i), label = j)\n",
        "plt.title('KNN Classification (Test set)')\n",
        "plt.xlabel('Age')\n",
        "plt.ylabel('Estimated Salary')\n",
        "plt.legend()\n",
        "plt.show()"
      ]
    },
    {
      "cell_type": "code",
      "execution_count": 52,
      "metadata": {
        "colab": {
          "base_uri": "https://localhost:8080/"
        },
        "id": "lVB-fRkr-ffo",
        "outputId": "9d20c57b-7f17-4651-d4de-ed9e8eb9b77b"
      },
      "outputs": [
        {
          "name": "stdout",
          "output_type": "stream",
          "text": [
            "[[49  5]\n",
            " [ 0 26]]\n"
          ]
        }
      ],
      "source": [
        "print(confusion_matrix(y_test, y_pred))"
      ]
    },
    {
      "cell_type": "markdown",
      "metadata": {
        "id": "n9qRaHek-ffo"
      },
      "source": [
        "**FUN exercise**: now try k=1 and k=300 in the visualization part. Interpret what you observe!\n",
        "\n",
        "For K=1, what is the accuracy in the train set?"
      ]
    },
    {
      "cell_type": "markdown",
      "metadata": {},
      "source": [
        "---\n",
        "---\n",
        "# PyCaret\n",
        "\n",
        "1. **PyCaret**: https://pycaret.readthedocs.io/en/latest/index.html PyCaret3.0\n",
        "2. **scikit-learn**: https://scikit-learn.org/stable/index.html\n",
        "3. **PyCaret model containers** : https://github.com/pycaret/pycaret/tree/master/pycaret/containers/models"
      ]
    },
    {
      "cell_type": "markdown",
      "metadata": {},
      "source": [
        "# Installation"
      ]
    },
    {
      "cell_type": "markdown",
      "metadata": {},
      "source": [
        "Follow the steps here: https://pycaret.gitbook.io/docs/get-started/installation\n"
      ]
    },
    {
      "cell_type": "code",
      "execution_count": null,
      "metadata": {},
      "outputs": [],
      "source": [
        "#only if you want to run it in Google Colab: \n",
        "# for this chapter, we can install the light version of PyCaret as below. \n",
        "\n",
        "# !pip install --pre pycaret"
      ]
    },
    {
      "cell_type": "code",
      "execution_count": 53,
      "metadata": {},
      "outputs": [
        {
          "data": {
            "text/plain": [
              "'3.0.0.rc4'"
            ]
          },
          "execution_count": 53,
          "metadata": {},
          "output_type": "execute_result"
        }
      ],
      "source": [
        "# if you got a warning that you need to \"RESTART RUNTIME\", go ahead and press that button. \n",
        "\n",
        "# let's double ckeck the Pycaret version: \n",
        "from pycaret.utils import version\n",
        "version()"
      ]
    },
    {
      "cell_type": "code",
      "execution_count": 54,
      "metadata": {},
      "outputs": [],
      "source": [
        "df_py = pd.read_csv('https://raw.githubusercontent.com/PJalgotrader/Machine_Learning-USU/main/data/Social_Network_Ads.csv')"
      ]
    },
    {
      "cell_type": "code",
      "execution_count": 55,
      "metadata": {},
      "outputs": [
        {
          "data": {
            "text/html": [
              "<div>\n",
              "<style scoped>\n",
              "    .dataframe tbody tr th:only-of-type {\n",
              "        vertical-align: middle;\n",
              "    }\n",
              "\n",
              "    .dataframe tbody tr th {\n",
              "        vertical-align: top;\n",
              "    }\n",
              "\n",
              "    .dataframe thead th {\n",
              "        text-align: right;\n",
              "    }\n",
              "</style>\n",
              "<table border=\"1\" class=\"dataframe\">\n",
              "  <thead>\n",
              "    <tr style=\"text-align: right;\">\n",
              "      <th></th>\n",
              "      <th>User ID</th>\n",
              "      <th>Gender</th>\n",
              "      <th>Age</th>\n",
              "      <th>EstimatedSalary</th>\n",
              "      <th>Purchased</th>\n",
              "    </tr>\n",
              "  </thead>\n",
              "  <tbody>\n",
              "    <tr>\n",
              "      <th>0</th>\n",
              "      <td>15624510</td>\n",
              "      <td>Male</td>\n",
              "      <td>19</td>\n",
              "      <td>19000</td>\n",
              "      <td>0</td>\n",
              "    </tr>\n",
              "    <tr>\n",
              "      <th>1</th>\n",
              "      <td>15810944</td>\n",
              "      <td>Male</td>\n",
              "      <td>35</td>\n",
              "      <td>20000</td>\n",
              "      <td>0</td>\n",
              "    </tr>\n",
              "    <tr>\n",
              "      <th>2</th>\n",
              "      <td>15668575</td>\n",
              "      <td>Female</td>\n",
              "      <td>26</td>\n",
              "      <td>43000</td>\n",
              "      <td>0</td>\n",
              "    </tr>\n",
              "    <tr>\n",
              "      <th>3</th>\n",
              "      <td>15603246</td>\n",
              "      <td>Female</td>\n",
              "      <td>27</td>\n",
              "      <td>57000</td>\n",
              "      <td>0</td>\n",
              "    </tr>\n",
              "    <tr>\n",
              "      <th>4</th>\n",
              "      <td>15804002</td>\n",
              "      <td>Male</td>\n",
              "      <td>19</td>\n",
              "      <td>76000</td>\n",
              "      <td>0</td>\n",
              "    </tr>\n",
              "  </tbody>\n",
              "</table>\n",
              "</div>"
            ],
            "text/plain": [
              "    User ID  Gender  Age  EstimatedSalary  Purchased\n",
              "0  15624510    Male   19            19000          0\n",
              "1  15810944    Male   35            20000          0\n",
              "2  15668575  Female   26            43000          0\n",
              "3  15603246  Female   27            57000          0\n",
              "4  15804002    Male   19            76000          0"
            ]
          },
          "execution_count": 55,
          "metadata": {},
          "output_type": "execute_result"
        }
      ],
      "source": [
        "df_py.head()"
      ]
    },
    {
      "cell_type": "code",
      "execution_count": 56,
      "metadata": {},
      "outputs": [],
      "source": [
        "from pycaret.classification import *\n"
      ]
    },
    {
      "cell_type": "code",
      "execution_count": 59,
      "metadata": {},
      "outputs": [
        {
          "data": {
            "text/html": [
              "<style type=\"text/css\">\n",
              "#T_12b9c_row11_col1 {\n",
              "  background-color: lightgreen;\n",
              "}\n",
              "</style>\n",
              "<table id=\"T_12b9c\">\n",
              "  <thead>\n",
              "    <tr>\n",
              "      <th class=\"blank level0\" >&nbsp;</th>\n",
              "      <th id=\"T_12b9c_level0_col0\" class=\"col_heading level0 col0\" >Description</th>\n",
              "      <th id=\"T_12b9c_level0_col1\" class=\"col_heading level0 col1\" >Value</th>\n",
              "    </tr>\n",
              "  </thead>\n",
              "  <tbody>\n",
              "    <tr>\n",
              "      <th id=\"T_12b9c_level0_row0\" class=\"row_heading level0 row0\" >0</th>\n",
              "      <td id=\"T_12b9c_row0_col0\" class=\"data row0 col0\" >Session id</td>\n",
              "      <td id=\"T_12b9c_row0_col1\" class=\"data row0 col1\" >555</td>\n",
              "    </tr>\n",
              "    <tr>\n",
              "      <th id=\"T_12b9c_level0_row1\" class=\"row_heading level0 row1\" >1</th>\n",
              "      <td id=\"T_12b9c_row1_col0\" class=\"data row1 col0\" >Target</td>\n",
              "      <td id=\"T_12b9c_row1_col1\" class=\"data row1 col1\" >Purchased</td>\n",
              "    </tr>\n",
              "    <tr>\n",
              "      <th id=\"T_12b9c_level0_row2\" class=\"row_heading level0 row2\" >2</th>\n",
              "      <td id=\"T_12b9c_row2_col0\" class=\"data row2 col0\" >Target type</td>\n",
              "      <td id=\"T_12b9c_row2_col1\" class=\"data row2 col1\" >Binary</td>\n",
              "    </tr>\n",
              "    <tr>\n",
              "      <th id=\"T_12b9c_level0_row3\" class=\"row_heading level0 row3\" >3</th>\n",
              "      <td id=\"T_12b9c_row3_col0\" class=\"data row3 col0\" >Original data shape</td>\n",
              "      <td id=\"T_12b9c_row3_col1\" class=\"data row3 col1\" >(400, 4)</td>\n",
              "    </tr>\n",
              "    <tr>\n",
              "      <th id=\"T_12b9c_level0_row4\" class=\"row_heading level0 row4\" >4</th>\n",
              "      <td id=\"T_12b9c_row4_col0\" class=\"data row4 col0\" >Transformed data shape</td>\n",
              "      <td id=\"T_12b9c_row4_col1\" class=\"data row4 col1\" >(400, 4)</td>\n",
              "    </tr>\n",
              "    <tr>\n",
              "      <th id=\"T_12b9c_level0_row5\" class=\"row_heading level0 row5\" >5</th>\n",
              "      <td id=\"T_12b9c_row5_col0\" class=\"data row5 col0\" >Transformed train set shape</td>\n",
              "      <td id=\"T_12b9c_row5_col1\" class=\"data row5 col1\" >(279, 4)</td>\n",
              "    </tr>\n",
              "    <tr>\n",
              "      <th id=\"T_12b9c_level0_row6\" class=\"row_heading level0 row6\" >6</th>\n",
              "      <td id=\"T_12b9c_row6_col0\" class=\"data row6 col0\" >Transformed test set shape</td>\n",
              "      <td id=\"T_12b9c_row6_col1\" class=\"data row6 col1\" >(121, 4)</td>\n",
              "    </tr>\n",
              "    <tr>\n",
              "      <th id=\"T_12b9c_level0_row7\" class=\"row_heading level0 row7\" >7</th>\n",
              "      <td id=\"T_12b9c_row7_col0\" class=\"data row7 col0\" >Ignore features</td>\n",
              "      <td id=\"T_12b9c_row7_col1\" class=\"data row7 col1\" >1</td>\n",
              "    </tr>\n",
              "    <tr>\n",
              "      <th id=\"T_12b9c_level0_row8\" class=\"row_heading level0 row8\" >8</th>\n",
              "      <td id=\"T_12b9c_row8_col0\" class=\"data row8 col0\" >Ordinal features</td>\n",
              "      <td id=\"T_12b9c_row8_col1\" class=\"data row8 col1\" >1</td>\n",
              "    </tr>\n",
              "    <tr>\n",
              "      <th id=\"T_12b9c_level0_row9\" class=\"row_heading level0 row9\" >9</th>\n",
              "      <td id=\"T_12b9c_row9_col0\" class=\"data row9 col0\" >Numeric features</td>\n",
              "      <td id=\"T_12b9c_row9_col1\" class=\"data row9 col1\" >2</td>\n",
              "    </tr>\n",
              "    <tr>\n",
              "      <th id=\"T_12b9c_level0_row10\" class=\"row_heading level0 row10\" >10</th>\n",
              "      <td id=\"T_12b9c_row10_col0\" class=\"data row10 col0\" >Categorical features</td>\n",
              "      <td id=\"T_12b9c_row10_col1\" class=\"data row10 col1\" >1</td>\n",
              "    </tr>\n",
              "    <tr>\n",
              "      <th id=\"T_12b9c_level0_row11\" class=\"row_heading level0 row11\" >11</th>\n",
              "      <td id=\"T_12b9c_row11_col0\" class=\"data row11 col0\" >Preprocess</td>\n",
              "      <td id=\"T_12b9c_row11_col1\" class=\"data row11 col1\" >True</td>\n",
              "    </tr>\n",
              "    <tr>\n",
              "      <th id=\"T_12b9c_level0_row12\" class=\"row_heading level0 row12\" >12</th>\n",
              "      <td id=\"T_12b9c_row12_col0\" class=\"data row12 col0\" >Imputation type</td>\n",
              "      <td id=\"T_12b9c_row12_col1\" class=\"data row12 col1\" >simple</td>\n",
              "    </tr>\n",
              "    <tr>\n",
              "      <th id=\"T_12b9c_level0_row13\" class=\"row_heading level0 row13\" >13</th>\n",
              "      <td id=\"T_12b9c_row13_col0\" class=\"data row13 col0\" >Numeric imputation</td>\n",
              "      <td id=\"T_12b9c_row13_col1\" class=\"data row13 col1\" >mean</td>\n",
              "    </tr>\n",
              "    <tr>\n",
              "      <th id=\"T_12b9c_level0_row14\" class=\"row_heading level0 row14\" >14</th>\n",
              "      <td id=\"T_12b9c_row14_col0\" class=\"data row14 col0\" >Categorical imputation</td>\n",
              "      <td id=\"T_12b9c_row14_col1\" class=\"data row14 col1\" >constant</td>\n",
              "    </tr>\n",
              "    <tr>\n",
              "      <th id=\"T_12b9c_level0_row15\" class=\"row_heading level0 row15\" >15</th>\n",
              "      <td id=\"T_12b9c_row15_col0\" class=\"data row15 col0\" >Maximum one-hot encoding</td>\n",
              "      <td id=\"T_12b9c_row15_col1\" class=\"data row15 col1\" >5</td>\n",
              "    </tr>\n",
              "    <tr>\n",
              "      <th id=\"T_12b9c_level0_row16\" class=\"row_heading level0 row16\" >16</th>\n",
              "      <td id=\"T_12b9c_row16_col0\" class=\"data row16 col0\" >Encoding method</td>\n",
              "      <td id=\"T_12b9c_row16_col1\" class=\"data row16 col1\" >None</td>\n",
              "    </tr>\n",
              "    <tr>\n",
              "      <th id=\"T_12b9c_level0_row17\" class=\"row_heading level0 row17\" >17</th>\n",
              "      <td id=\"T_12b9c_row17_col0\" class=\"data row17 col0\" >Low variance threshold</td>\n",
              "      <td id=\"T_12b9c_row17_col1\" class=\"data row17 col1\" >0</td>\n",
              "    </tr>\n",
              "    <tr>\n",
              "      <th id=\"T_12b9c_level0_row18\" class=\"row_heading level0 row18\" >18</th>\n",
              "      <td id=\"T_12b9c_row18_col0\" class=\"data row18 col0\" >Fold Generator</td>\n",
              "      <td id=\"T_12b9c_row18_col1\" class=\"data row18 col1\" >StratifiedKFold</td>\n",
              "    </tr>\n",
              "    <tr>\n",
              "      <th id=\"T_12b9c_level0_row19\" class=\"row_heading level0 row19\" >19</th>\n",
              "      <td id=\"T_12b9c_row19_col0\" class=\"data row19 col0\" >Fold Number</td>\n",
              "      <td id=\"T_12b9c_row19_col1\" class=\"data row19 col1\" >10</td>\n",
              "    </tr>\n",
              "    <tr>\n",
              "      <th id=\"T_12b9c_level0_row20\" class=\"row_heading level0 row20\" >20</th>\n",
              "      <td id=\"T_12b9c_row20_col0\" class=\"data row20 col0\" >CPU Jobs</td>\n",
              "      <td id=\"T_12b9c_row20_col1\" class=\"data row20 col1\" >-1</td>\n",
              "    </tr>\n",
              "    <tr>\n",
              "      <th id=\"T_12b9c_level0_row21\" class=\"row_heading level0 row21\" >21</th>\n",
              "      <td id=\"T_12b9c_row21_col0\" class=\"data row21 col0\" >Use GPU</td>\n",
              "      <td id=\"T_12b9c_row21_col1\" class=\"data row21 col1\" >False</td>\n",
              "    </tr>\n",
              "    <tr>\n",
              "      <th id=\"T_12b9c_level0_row22\" class=\"row_heading level0 row22\" >22</th>\n",
              "      <td id=\"T_12b9c_row22_col0\" class=\"data row22 col0\" >Log Experiment</td>\n",
              "      <td id=\"T_12b9c_row22_col1\" class=\"data row22 col1\" >False</td>\n",
              "    </tr>\n",
              "    <tr>\n",
              "      <th id=\"T_12b9c_level0_row23\" class=\"row_heading level0 row23\" >23</th>\n",
              "      <td id=\"T_12b9c_row23_col0\" class=\"data row23 col0\" >Experiment Name</td>\n",
              "      <td id=\"T_12b9c_row23_col1\" class=\"data row23 col1\" >clf-default-name</td>\n",
              "    </tr>\n",
              "    <tr>\n",
              "      <th id=\"T_12b9c_level0_row24\" class=\"row_heading level0 row24\" >24</th>\n",
              "      <td id=\"T_12b9c_row24_col0\" class=\"data row24 col0\" >USI</td>\n",
              "      <td id=\"T_12b9c_row24_col1\" class=\"data row24 col1\" >b22f</td>\n",
              "    </tr>\n",
              "  </tbody>\n",
              "</table>\n"
            ],
            "text/plain": [
              "<pandas.io.formats.style.Styler at 0x25c224dd3d0>"
            ]
          },
          "metadata": {},
          "output_type": "display_data"
        },
        {
          "data": {
            "text/plain": [
              "<pycaret.classification.oop.ClassificationExperiment at 0x25c266e1790>"
            ]
          },
          "execution_count": 59,
          "metadata": {},
          "output_type": "execute_result"
        }
      ],
      "source": [
        "setup(data=df_py,  target='Purchased',ignore_features=['User ID'] , session_id=555, train_size=0.7, preprocess=True, categorical_features= ['Gender'])\n"
      ]
    },
    {
      "cell_type": "code",
      "execution_count": 60,
      "metadata": {},
      "outputs": [
        {
          "data": {
            "text/html": [
              "<div>\n",
              "<style scoped>\n",
              "    .dataframe tbody tr th:only-of-type {\n",
              "        vertical-align: middle;\n",
              "    }\n",
              "\n",
              "    .dataframe tbody tr th {\n",
              "        vertical-align: top;\n",
              "    }\n",
              "\n",
              "    .dataframe thead th {\n",
              "        text-align: right;\n",
              "    }\n",
              "</style>\n",
              "<table border=\"1\" class=\"dataframe\">\n",
              "  <thead>\n",
              "    <tr style=\"text-align: right;\">\n",
              "      <th></th>\n",
              "      <th>Name</th>\n",
              "      <th>Reference</th>\n",
              "      <th>Turbo</th>\n",
              "    </tr>\n",
              "    <tr>\n",
              "      <th>ID</th>\n",
              "      <th></th>\n",
              "      <th></th>\n",
              "      <th></th>\n",
              "    </tr>\n",
              "  </thead>\n",
              "  <tbody>\n",
              "    <tr>\n",
              "      <th>lr</th>\n",
              "      <td>Logistic Regression</td>\n",
              "      <td>sklearn.linear_model._logistic.LogisticRegression</td>\n",
              "      <td>True</td>\n",
              "    </tr>\n",
              "    <tr>\n",
              "      <th>knn</th>\n",
              "      <td>K Neighbors Classifier</td>\n",
              "      <td>sklearn.neighbors._classification.KNeighborsCl...</td>\n",
              "      <td>True</td>\n",
              "    </tr>\n",
              "    <tr>\n",
              "      <th>nb</th>\n",
              "      <td>Naive Bayes</td>\n",
              "      <td>sklearn.naive_bayes.GaussianNB</td>\n",
              "      <td>True</td>\n",
              "    </tr>\n",
              "    <tr>\n",
              "      <th>dt</th>\n",
              "      <td>Decision Tree Classifier</td>\n",
              "      <td>sklearn.tree._classes.DecisionTreeClassifier</td>\n",
              "      <td>True</td>\n",
              "    </tr>\n",
              "    <tr>\n",
              "      <th>svm</th>\n",
              "      <td>SVM - Linear Kernel</td>\n",
              "      <td>sklearn.linear_model._stochastic_gradient.SGDC...</td>\n",
              "      <td>True</td>\n",
              "    </tr>\n",
              "    <tr>\n",
              "      <th>rbfsvm</th>\n",
              "      <td>SVM - Radial Kernel</td>\n",
              "      <td>sklearn.svm._classes.SVC</td>\n",
              "      <td>False</td>\n",
              "    </tr>\n",
              "    <tr>\n",
              "      <th>gpc</th>\n",
              "      <td>Gaussian Process Classifier</td>\n",
              "      <td>sklearn.gaussian_process._gpc.GaussianProcessC...</td>\n",
              "      <td>False</td>\n",
              "    </tr>\n",
              "    <tr>\n",
              "      <th>mlp</th>\n",
              "      <td>MLP Classifier</td>\n",
              "      <td>sklearn.neural_network._multilayer_perceptron....</td>\n",
              "      <td>False</td>\n",
              "    </tr>\n",
              "    <tr>\n",
              "      <th>ridge</th>\n",
              "      <td>Ridge Classifier</td>\n",
              "      <td>sklearn.linear_model._ridge.RidgeClassifier</td>\n",
              "      <td>True</td>\n",
              "    </tr>\n",
              "    <tr>\n",
              "      <th>rf</th>\n",
              "      <td>Random Forest Classifier</td>\n",
              "      <td>sklearn.ensemble._forest.RandomForestClassifier</td>\n",
              "      <td>True</td>\n",
              "    </tr>\n",
              "    <tr>\n",
              "      <th>qda</th>\n",
              "      <td>Quadratic Discriminant Analysis</td>\n",
              "      <td>sklearn.discriminant_analysis.QuadraticDiscrim...</td>\n",
              "      <td>True</td>\n",
              "    </tr>\n",
              "    <tr>\n",
              "      <th>ada</th>\n",
              "      <td>Ada Boost Classifier</td>\n",
              "      <td>sklearn.ensemble._weight_boosting.AdaBoostClas...</td>\n",
              "      <td>True</td>\n",
              "    </tr>\n",
              "    <tr>\n",
              "      <th>gbc</th>\n",
              "      <td>Gradient Boosting Classifier</td>\n",
              "      <td>sklearn.ensemble._gb.GradientBoostingClassifier</td>\n",
              "      <td>True</td>\n",
              "    </tr>\n",
              "    <tr>\n",
              "      <th>lda</th>\n",
              "      <td>Linear Discriminant Analysis</td>\n",
              "      <td>sklearn.discriminant_analysis.LinearDiscrimina...</td>\n",
              "      <td>True</td>\n",
              "    </tr>\n",
              "    <tr>\n",
              "      <th>et</th>\n",
              "      <td>Extra Trees Classifier</td>\n",
              "      <td>sklearn.ensemble._forest.ExtraTreesClassifier</td>\n",
              "      <td>True</td>\n",
              "    </tr>\n",
              "    <tr>\n",
              "      <th>xgboost</th>\n",
              "      <td>Extreme Gradient Boosting</td>\n",
              "      <td>xgboost.sklearn.XGBClassifier</td>\n",
              "      <td>True</td>\n",
              "    </tr>\n",
              "    <tr>\n",
              "      <th>lightgbm</th>\n",
              "      <td>Light Gradient Boosting Machine</td>\n",
              "      <td>lightgbm.sklearn.LGBMClassifier</td>\n",
              "      <td>True</td>\n",
              "    </tr>\n",
              "    <tr>\n",
              "      <th>catboost</th>\n",
              "      <td>CatBoost Classifier</td>\n",
              "      <td>catboost.core.CatBoostClassifier</td>\n",
              "      <td>True</td>\n",
              "    </tr>\n",
              "    <tr>\n",
              "      <th>dummy</th>\n",
              "      <td>Dummy Classifier</td>\n",
              "      <td>sklearn.dummy.DummyClassifier</td>\n",
              "      <td>True</td>\n",
              "    </tr>\n",
              "  </tbody>\n",
              "</table>\n",
              "</div>"
            ],
            "text/plain": [
              "                                     Name  \\\n",
              "ID                                          \n",
              "lr                    Logistic Regression   \n",
              "knn                K Neighbors Classifier   \n",
              "nb                            Naive Bayes   \n",
              "dt               Decision Tree Classifier   \n",
              "svm                   SVM - Linear Kernel   \n",
              "rbfsvm                SVM - Radial Kernel   \n",
              "gpc           Gaussian Process Classifier   \n",
              "mlp                        MLP Classifier   \n",
              "ridge                    Ridge Classifier   \n",
              "rf               Random Forest Classifier   \n",
              "qda       Quadratic Discriminant Analysis   \n",
              "ada                  Ada Boost Classifier   \n",
              "gbc          Gradient Boosting Classifier   \n",
              "lda          Linear Discriminant Analysis   \n",
              "et                 Extra Trees Classifier   \n",
              "xgboost         Extreme Gradient Boosting   \n",
              "lightgbm  Light Gradient Boosting Machine   \n",
              "catboost              CatBoost Classifier   \n",
              "dummy                    Dummy Classifier   \n",
              "\n",
              "                                                  Reference  Turbo  \n",
              "ID                                                                  \n",
              "lr        sklearn.linear_model._logistic.LogisticRegression   True  \n",
              "knn       sklearn.neighbors._classification.KNeighborsCl...   True  \n",
              "nb                           sklearn.naive_bayes.GaussianNB   True  \n",
              "dt             sklearn.tree._classes.DecisionTreeClassifier   True  \n",
              "svm       sklearn.linear_model._stochastic_gradient.SGDC...   True  \n",
              "rbfsvm                             sklearn.svm._classes.SVC  False  \n",
              "gpc       sklearn.gaussian_process._gpc.GaussianProcessC...  False  \n",
              "mlp       sklearn.neural_network._multilayer_perceptron....  False  \n",
              "ridge           sklearn.linear_model._ridge.RidgeClassifier   True  \n",
              "rf          sklearn.ensemble._forest.RandomForestClassifier   True  \n",
              "qda       sklearn.discriminant_analysis.QuadraticDiscrim...   True  \n",
              "ada       sklearn.ensemble._weight_boosting.AdaBoostClas...   True  \n",
              "gbc         sklearn.ensemble._gb.GradientBoostingClassifier   True  \n",
              "lda       sklearn.discriminant_analysis.LinearDiscrimina...   True  \n",
              "et            sklearn.ensemble._forest.ExtraTreesClassifier   True  \n",
              "xgboost                       xgboost.sklearn.XGBClassifier   True  \n",
              "lightgbm                    lightgbm.sklearn.LGBMClassifier   True  \n",
              "catboost                   catboost.core.CatBoostClassifier   True  \n",
              "dummy                         sklearn.dummy.DummyClassifier   True  "
            ]
          },
          "execution_count": 60,
          "metadata": {},
          "output_type": "execute_result"
        }
      ],
      "source": [
        "models()"
      ]
    },
    {
      "cell_type": "markdown",
      "metadata": {},
      "source": [
        "## Create and tune model"
      ]
    },
    {
      "cell_type": "code",
      "execution_count": 61,
      "metadata": {},
      "outputs": [
        {
          "data": {
            "text/html": [
              "<div>\n",
              "<style scoped>\n",
              "    .dataframe tbody tr th:only-of-type {\n",
              "        vertical-align: middle;\n",
              "    }\n",
              "\n",
              "    .dataframe tbody tr th {\n",
              "        vertical-align: top;\n",
              "    }\n",
              "\n",
              "    .dataframe thead th {\n",
              "        text-align: right;\n",
              "    }\n",
              "</style>\n",
              "<table border=\"1\" class=\"dataframe\">\n",
              "  <thead>\n",
              "    <tr style=\"text-align: right;\">\n",
              "      <th></th>\n",
              "      <th></th>\n",
              "      <th></th>\n",
              "    </tr>\n",
              "    <tr>\n",
              "      <th></th>\n",
              "      <th></th>\n",
              "      <th></th>\n",
              "    </tr>\n",
              "  </thead>\n",
              "  <tbody>\n",
              "    <tr>\n",
              "      <th>Initiated</th>\n",
              "      <td>. . . . . . . . . . . . . . . . . .</td>\n",
              "      <td>16:37:24</td>\n",
              "    </tr>\n",
              "    <tr>\n",
              "      <th>Status</th>\n",
              "      <td>. . . . . . . . . . . . . . . . . .</td>\n",
              "      <td>Fitting 10 Folds</td>\n",
              "    </tr>\n",
              "    <tr>\n",
              "      <th>Estimator</th>\n",
              "      <td>. . . . . . . . . . . . . . . . . .</td>\n",
              "      <td>K Neighbors Classifier</td>\n",
              "    </tr>\n",
              "  </tbody>\n",
              "</table>\n",
              "</div>"
            ],
            "text/plain": [
              "                                                                      \n",
              "                                                                      \n",
              "Initiated  . . . . . . . . . . . . . . . . . .                16:37:24\n",
              "Status     . . . . . . . . . . . . . . . . . .        Fitting 10 Folds\n",
              "Estimator  . . . . . . . . . . . . . . . . . .  K Neighbors Classifier"
            ]
          },
          "metadata": {},
          "output_type": "display_data"
        },
        {
          "data": {
            "text/html": [
              "<style type=\"text/css\">\n",
              "#T_d62bd_row10_col0, #T_d62bd_row10_col1, #T_d62bd_row10_col2, #T_d62bd_row10_col3, #T_d62bd_row10_col4, #T_d62bd_row10_col5, #T_d62bd_row10_col6 {\n",
              "  background: yellow;\n",
              "}\n",
              "</style>\n",
              "<table id=\"T_d62bd\">\n",
              "  <thead>\n",
              "    <tr>\n",
              "      <th class=\"blank level0\" >&nbsp;</th>\n",
              "      <th id=\"T_d62bd_level0_col0\" class=\"col_heading level0 col0\" >Accuracy</th>\n",
              "      <th id=\"T_d62bd_level0_col1\" class=\"col_heading level0 col1\" >AUC</th>\n",
              "      <th id=\"T_d62bd_level0_col2\" class=\"col_heading level0 col2\" >Recall</th>\n",
              "      <th id=\"T_d62bd_level0_col3\" class=\"col_heading level0 col3\" >Prec.</th>\n",
              "      <th id=\"T_d62bd_level0_col4\" class=\"col_heading level0 col4\" >F1</th>\n",
              "      <th id=\"T_d62bd_level0_col5\" class=\"col_heading level0 col5\" >Kappa</th>\n",
              "      <th id=\"T_d62bd_level0_col6\" class=\"col_heading level0 col6\" >MCC</th>\n",
              "    </tr>\n",
              "    <tr>\n",
              "      <th class=\"index_name level0\" >Fold</th>\n",
              "      <th class=\"blank col0\" >&nbsp;</th>\n",
              "      <th class=\"blank col1\" >&nbsp;</th>\n",
              "      <th class=\"blank col2\" >&nbsp;</th>\n",
              "      <th class=\"blank col3\" >&nbsp;</th>\n",
              "      <th class=\"blank col4\" >&nbsp;</th>\n",
              "      <th class=\"blank col5\" >&nbsp;</th>\n",
              "      <th class=\"blank col6\" >&nbsp;</th>\n",
              "    </tr>\n",
              "  </thead>\n",
              "  <tbody>\n",
              "    <tr>\n",
              "      <th id=\"T_d62bd_level0_row0\" class=\"row_heading level0 row0\" >0</th>\n",
              "      <td id=\"T_d62bd_row0_col0\" class=\"data row0 col0\" >0.7500</td>\n",
              "      <td id=\"T_d62bd_row0_col1\" class=\"data row0 col1\" >0.8528</td>\n",
              "      <td id=\"T_d62bd_row0_col2\" class=\"data row0 col2\" >0.5000</td>\n",
              "      <td id=\"T_d62bd_row0_col3\" class=\"data row0 col3\" >0.7143</td>\n",
              "      <td id=\"T_d62bd_row0_col4\" class=\"data row0 col4\" >0.5882</td>\n",
              "      <td id=\"T_d62bd_row0_col5\" class=\"data row0 col5\" >0.4167</td>\n",
              "      <td id=\"T_d62bd_row0_col6\" class=\"data row0 col6\" >0.4303</td>\n",
              "    </tr>\n",
              "    <tr>\n",
              "      <th id=\"T_d62bd_level0_row1\" class=\"row_heading level0 row1\" >1</th>\n",
              "      <td id=\"T_d62bd_row1_col0\" class=\"data row1 col0\" >0.9286</td>\n",
              "      <td id=\"T_d62bd_row1_col1\" class=\"data row1 col1\" >0.9333</td>\n",
              "      <td id=\"T_d62bd_row1_col2\" class=\"data row1 col2\" >0.9000</td>\n",
              "      <td id=\"T_d62bd_row1_col3\" class=\"data row1 col3\" >0.9000</td>\n",
              "      <td id=\"T_d62bd_row1_col4\" class=\"data row1 col4\" >0.9000</td>\n",
              "      <td id=\"T_d62bd_row1_col5\" class=\"data row1 col5\" >0.8444</td>\n",
              "      <td id=\"T_d62bd_row1_col6\" class=\"data row1 col6\" >0.8444</td>\n",
              "    </tr>\n",
              "    <tr>\n",
              "      <th id=\"T_d62bd_level0_row2\" class=\"row_heading level0 row2\" >2</th>\n",
              "      <td id=\"T_d62bd_row2_col0\" class=\"data row2 col0\" >0.8571</td>\n",
              "      <td id=\"T_d62bd_row2_col1\" class=\"data row2 col1\" >0.8500</td>\n",
              "      <td id=\"T_d62bd_row2_col2\" class=\"data row2 col2\" >0.6000</td>\n",
              "      <td id=\"T_d62bd_row2_col3\" class=\"data row2 col3\" >1.0000</td>\n",
              "      <td id=\"T_d62bd_row2_col4\" class=\"data row2 col4\" >0.7500</td>\n",
              "      <td id=\"T_d62bd_row2_col5\" class=\"data row2 col5\" >0.6585</td>\n",
              "      <td id=\"T_d62bd_row2_col6\" class=\"data row2 col6\" >0.7006</td>\n",
              "    </tr>\n",
              "    <tr>\n",
              "      <th id=\"T_d62bd_level0_row3\" class=\"row_heading level0 row3\" >3</th>\n",
              "      <td id=\"T_d62bd_row3_col0\" class=\"data row3 col0\" >0.7500</td>\n",
              "      <td id=\"T_d62bd_row3_col1\" class=\"data row3 col1\" >0.7972</td>\n",
              "      <td id=\"T_d62bd_row3_col2\" class=\"data row3 col2\" >0.5000</td>\n",
              "      <td id=\"T_d62bd_row3_col3\" class=\"data row3 col3\" >0.7143</td>\n",
              "      <td id=\"T_d62bd_row3_col4\" class=\"data row3 col4\" >0.5882</td>\n",
              "      <td id=\"T_d62bd_row3_col5\" class=\"data row3 col5\" >0.4167</td>\n",
              "      <td id=\"T_d62bd_row3_col6\" class=\"data row3 col6\" >0.4303</td>\n",
              "    </tr>\n",
              "    <tr>\n",
              "      <th id=\"T_d62bd_level0_row4\" class=\"row_heading level0 row4\" >4</th>\n",
              "      <td id=\"T_d62bd_row4_col0\" class=\"data row4 col0\" >0.7857</td>\n",
              "      <td id=\"T_d62bd_row4_col1\" class=\"data row4 col1\" >0.8806</td>\n",
              "      <td id=\"T_d62bd_row4_col2\" class=\"data row4 col2\" >0.5000</td>\n",
              "      <td id=\"T_d62bd_row4_col3\" class=\"data row4 col3\" >0.8333</td>\n",
              "      <td id=\"T_d62bd_row4_col4\" class=\"data row4 col4\" >0.6250</td>\n",
              "      <td id=\"T_d62bd_row4_col5\" class=\"data row4 col5\" >0.4878</td>\n",
              "      <td id=\"T_d62bd_row4_col6\" class=\"data row4 col6\" >0.5190</td>\n",
              "    </tr>\n",
              "    <tr>\n",
              "      <th id=\"T_d62bd_level0_row5\" class=\"row_heading level0 row5\" >5</th>\n",
              "      <td id=\"T_d62bd_row5_col0\" class=\"data row5 col0\" >0.7143</td>\n",
              "      <td id=\"T_d62bd_row5_col1\" class=\"data row5 col1\" >0.8278</td>\n",
              "      <td id=\"T_d62bd_row5_col2\" class=\"data row5 col2\" >0.6000</td>\n",
              "      <td id=\"T_d62bd_row5_col3\" class=\"data row5 col3\" >0.6000</td>\n",
              "      <td id=\"T_d62bd_row5_col4\" class=\"data row5 col4\" >0.6000</td>\n",
              "      <td id=\"T_d62bd_row5_col5\" class=\"data row5 col5\" >0.3778</td>\n",
              "      <td id=\"T_d62bd_row5_col6\" class=\"data row5 col6\" >0.3778</td>\n",
              "    </tr>\n",
              "    <tr>\n",
              "      <th id=\"T_d62bd_level0_row6\" class=\"row_heading level0 row6\" >6</th>\n",
              "      <td id=\"T_d62bd_row6_col0\" class=\"data row6 col0\" >0.7857</td>\n",
              "      <td id=\"T_d62bd_row6_col1\" class=\"data row6 col1\" >0.7111</td>\n",
              "      <td id=\"T_d62bd_row6_col2\" class=\"data row6 col2\" >0.5000</td>\n",
              "      <td id=\"T_d62bd_row6_col3\" class=\"data row6 col3\" >0.8333</td>\n",
              "      <td id=\"T_d62bd_row6_col4\" class=\"data row6 col4\" >0.6250</td>\n",
              "      <td id=\"T_d62bd_row6_col5\" class=\"data row6 col5\" >0.4878</td>\n",
              "      <td id=\"T_d62bd_row6_col6\" class=\"data row6 col6\" >0.5190</td>\n",
              "    </tr>\n",
              "    <tr>\n",
              "      <th id=\"T_d62bd_level0_row7\" class=\"row_heading level0 row7\" >7</th>\n",
              "      <td id=\"T_d62bd_row7_col0\" class=\"data row7 col0\" >0.7500</td>\n",
              "      <td id=\"T_d62bd_row7_col1\" class=\"data row7 col1\" >0.7806</td>\n",
              "      <td id=\"T_d62bd_row7_col2\" class=\"data row7 col2\" >0.6000</td>\n",
              "      <td id=\"T_d62bd_row7_col3\" class=\"data row7 col3\" >0.6667</td>\n",
              "      <td id=\"T_d62bd_row7_col4\" class=\"data row7 col4\" >0.6316</td>\n",
              "      <td id=\"T_d62bd_row7_col5\" class=\"data row7 col5\" >0.4432</td>\n",
              "      <td id=\"T_d62bd_row7_col6\" class=\"data row7 col6\" >0.4446</td>\n",
              "    </tr>\n",
              "    <tr>\n",
              "      <th id=\"T_d62bd_level0_row8\" class=\"row_heading level0 row8\" >8</th>\n",
              "      <td id=\"T_d62bd_row8_col0\" class=\"data row8 col0\" >0.7500</td>\n",
              "      <td id=\"T_d62bd_row8_col1\" class=\"data row8 col1\" >0.6750</td>\n",
              "      <td id=\"T_d62bd_row8_col2\" class=\"data row8 col2\" >0.5000</td>\n",
              "      <td id=\"T_d62bd_row8_col3\" class=\"data row8 col3\" >0.7143</td>\n",
              "      <td id=\"T_d62bd_row8_col4\" class=\"data row8 col4\" >0.5882</td>\n",
              "      <td id=\"T_d62bd_row8_col5\" class=\"data row8 col5\" >0.4167</td>\n",
              "      <td id=\"T_d62bd_row8_col6\" class=\"data row8 col6\" >0.4303</td>\n",
              "    </tr>\n",
              "    <tr>\n",
              "      <th id=\"T_d62bd_level0_row9\" class=\"row_heading level0 row9\" >9</th>\n",
              "      <td id=\"T_d62bd_row9_col0\" class=\"data row9 col0\" >0.7407</td>\n",
              "      <td id=\"T_d62bd_row9_col1\" class=\"data row9 col1\" >0.8765</td>\n",
              "      <td id=\"T_d62bd_row9_col2\" class=\"data row9 col2\" >0.5000</td>\n",
              "      <td id=\"T_d62bd_row9_col3\" class=\"data row9 col3\" >0.7143</td>\n",
              "      <td id=\"T_d62bd_row9_col4\" class=\"data row9 col4\" >0.5882</td>\n",
              "      <td id=\"T_d62bd_row9_col5\" class=\"data row9 col5\" >0.4075</td>\n",
              "      <td id=\"T_d62bd_row9_col6\" class=\"data row9 col6\" >0.4213</td>\n",
              "    </tr>\n",
              "    <tr>\n",
              "      <th id=\"T_d62bd_level0_row10\" class=\"row_heading level0 row10\" >Mean</th>\n",
              "      <td id=\"T_d62bd_row10_col0\" class=\"data row10 col0\" >0.7812</td>\n",
              "      <td id=\"T_d62bd_row10_col1\" class=\"data row10 col1\" >0.8185</td>\n",
              "      <td id=\"T_d62bd_row10_col2\" class=\"data row10 col2\" >0.5700</td>\n",
              "      <td id=\"T_d62bd_row10_col3\" class=\"data row10 col3\" >0.7690</td>\n",
              "      <td id=\"T_d62bd_row10_col4\" class=\"data row10 col4\" >0.6485</td>\n",
              "      <td id=\"T_d62bd_row10_col5\" class=\"data row10 col5\" >0.4957</td>\n",
              "      <td id=\"T_d62bd_row10_col6\" class=\"data row10 col6\" >0.5118</td>\n",
              "    </tr>\n",
              "    <tr>\n",
              "      <th id=\"T_d62bd_level0_row11\" class=\"row_heading level0 row11\" >Std</th>\n",
              "      <td id=\"T_d62bd_row11_col0\" class=\"data row11 col0\" >0.0613</td>\n",
              "      <td id=\"T_d62bd_row11_col1\" class=\"data row11 col1\" >0.0753</td>\n",
              "      <td id=\"T_d62bd_row11_col2\" class=\"data row11 col2\" >0.1187</td>\n",
              "      <td id=\"T_d62bd_row11_col3\" class=\"data row11 col3\" >0.1139</td>\n",
              "      <td id=\"T_d62bd_row11_col4\" class=\"data row11 col4\" >0.0958</td>\n",
              "      <td id=\"T_d62bd_row11_col5\" class=\"data row11 col5\" >0.1384</td>\n",
              "      <td id=\"T_d62bd_row11_col6\" class=\"data row11 col6\" >0.1404</td>\n",
              "    </tr>\n",
              "  </tbody>\n",
              "</table>\n"
            ],
            "text/plain": [
              "<pandas.io.formats.style.Styler at 0x25c261a7490>"
            ]
          },
          "metadata": {},
          "output_type": "display_data"
        }
      ],
      "source": [
        "knn = create_model(estimator='knn')"
      ]
    },
    {
      "cell_type": "code",
      "execution_count": 62,
      "metadata": {},
      "outputs": [
        {
          "data": {
            "text/html": [
              "<div>\n",
              "<style scoped>\n",
              "    .dataframe tbody tr th:only-of-type {\n",
              "        vertical-align: middle;\n",
              "    }\n",
              "\n",
              "    .dataframe tbody tr th {\n",
              "        vertical-align: top;\n",
              "    }\n",
              "\n",
              "    .dataframe thead th {\n",
              "        text-align: right;\n",
              "    }\n",
              "</style>\n",
              "<table border=\"1\" class=\"dataframe\">\n",
              "  <thead>\n",
              "    <tr style=\"text-align: right;\">\n",
              "      <th></th>\n",
              "      <th></th>\n",
              "      <th></th>\n",
              "    </tr>\n",
              "    <tr>\n",
              "      <th></th>\n",
              "      <th></th>\n",
              "      <th></th>\n",
              "    </tr>\n",
              "  </thead>\n",
              "  <tbody>\n",
              "    <tr>\n",
              "      <th>Initiated</th>\n",
              "      <td>. . . . . . . . . . . . . . . . . .</td>\n",
              "      <td>16:37:36</td>\n",
              "    </tr>\n",
              "    <tr>\n",
              "      <th>Status</th>\n",
              "      <td>. . . . . . . . . . . . . . . . . .</td>\n",
              "      <td>Searching Hyperparameters</td>\n",
              "    </tr>\n",
              "    <tr>\n",
              "      <th>Estimator</th>\n",
              "      <td>. . . . . . . . . . . . . . . . . .</td>\n",
              "      <td>K Neighbors Classifier</td>\n",
              "    </tr>\n",
              "  </tbody>\n",
              "</table>\n",
              "</div>"
            ],
            "text/plain": [
              "                                                                         \n",
              "                                                                         \n",
              "Initiated  . . . . . . . . . . . . . . . . . .                   16:37:36\n",
              "Status     . . . . . . . . . . . . . . . . . .  Searching Hyperparameters\n",
              "Estimator  . . . . . . . . . . . . . . . . . .     K Neighbors Classifier"
            ]
          },
          "metadata": {},
          "output_type": "display_data"
        },
        {
          "data": {
            "text/html": [
              "<style type=\"text/css\">\n",
              "#T_805c1_row10_col0, #T_805c1_row10_col1, #T_805c1_row10_col2, #T_805c1_row10_col3, #T_805c1_row10_col4, #T_805c1_row10_col5, #T_805c1_row10_col6 {\n",
              "  background: yellow;\n",
              "}\n",
              "</style>\n",
              "<table id=\"T_805c1\">\n",
              "  <thead>\n",
              "    <tr>\n",
              "      <th class=\"blank level0\" >&nbsp;</th>\n",
              "      <th id=\"T_805c1_level0_col0\" class=\"col_heading level0 col0\" >Accuracy</th>\n",
              "      <th id=\"T_805c1_level0_col1\" class=\"col_heading level0 col1\" >AUC</th>\n",
              "      <th id=\"T_805c1_level0_col2\" class=\"col_heading level0 col2\" >Recall</th>\n",
              "      <th id=\"T_805c1_level0_col3\" class=\"col_heading level0 col3\" >Prec.</th>\n",
              "      <th id=\"T_805c1_level0_col4\" class=\"col_heading level0 col4\" >F1</th>\n",
              "      <th id=\"T_805c1_level0_col5\" class=\"col_heading level0 col5\" >Kappa</th>\n",
              "      <th id=\"T_805c1_level0_col6\" class=\"col_heading level0 col6\" >MCC</th>\n",
              "    </tr>\n",
              "    <tr>\n",
              "      <th class=\"index_name level0\" >Fold</th>\n",
              "      <th class=\"blank col0\" >&nbsp;</th>\n",
              "      <th class=\"blank col1\" >&nbsp;</th>\n",
              "      <th class=\"blank col2\" >&nbsp;</th>\n",
              "      <th class=\"blank col3\" >&nbsp;</th>\n",
              "      <th class=\"blank col4\" >&nbsp;</th>\n",
              "      <th class=\"blank col5\" >&nbsp;</th>\n",
              "      <th class=\"blank col6\" >&nbsp;</th>\n",
              "    </tr>\n",
              "  </thead>\n",
              "  <tbody>\n",
              "    <tr>\n",
              "      <th id=\"T_805c1_level0_row0\" class=\"row_heading level0 row0\" >0</th>\n",
              "      <td id=\"T_805c1_row0_col0\" class=\"data row0 col0\" >0.7857</td>\n",
              "      <td id=\"T_805c1_row0_col1\" class=\"data row0 col1\" >0.8500</td>\n",
              "      <td id=\"T_805c1_row0_col2\" class=\"data row0 col2\" >0.7000</td>\n",
              "      <td id=\"T_805c1_row0_col3\" class=\"data row0 col3\" >0.7000</td>\n",
              "      <td id=\"T_805c1_row0_col4\" class=\"data row0 col4\" >0.7000</td>\n",
              "      <td id=\"T_805c1_row0_col5\" class=\"data row0 col5\" >0.5333</td>\n",
              "      <td id=\"T_805c1_row0_col6\" class=\"data row0 col6\" >0.5333</td>\n",
              "    </tr>\n",
              "    <tr>\n",
              "      <th id=\"T_805c1_level0_row1\" class=\"row_heading level0 row1\" >1</th>\n",
              "      <td id=\"T_805c1_row1_col0\" class=\"data row1 col0\" >0.8929</td>\n",
              "      <td id=\"T_805c1_row1_col1\" class=\"data row1 col1\" >0.8722</td>\n",
              "      <td id=\"T_805c1_row1_col2\" class=\"data row1 col2\" >0.9000</td>\n",
              "      <td id=\"T_805c1_row1_col3\" class=\"data row1 col3\" >0.8182</td>\n",
              "      <td id=\"T_805c1_row1_col4\" class=\"data row1 col4\" >0.8571</td>\n",
              "      <td id=\"T_805c1_row1_col5\" class=\"data row1 col5\" >0.7717</td>\n",
              "      <td id=\"T_805c1_row1_col6\" class=\"data row1 col6\" >0.7740</td>\n",
              "    </tr>\n",
              "    <tr>\n",
              "      <th id=\"T_805c1_level0_row2\" class=\"row_heading level0 row2\" >2</th>\n",
              "      <td id=\"T_805c1_row2_col0\" class=\"data row2 col0\" >0.7857</td>\n",
              "      <td id=\"T_805c1_row2_col1\" class=\"data row2 col1\" >0.9056</td>\n",
              "      <td id=\"T_805c1_row2_col2\" class=\"data row2 col2\" >0.8000</td>\n",
              "      <td id=\"T_805c1_row2_col3\" class=\"data row2 col3\" >0.6667</td>\n",
              "      <td id=\"T_805c1_row2_col4\" class=\"data row2 col4\" >0.7273</td>\n",
              "      <td id=\"T_805c1_row2_col5\" class=\"data row2 col5\" >0.5532</td>\n",
              "      <td id=\"T_805c1_row2_col6\" class=\"data row2 col6\" >0.5594</td>\n",
              "    </tr>\n",
              "    <tr>\n",
              "      <th id=\"T_805c1_level0_row3\" class=\"row_heading level0 row3\" >3</th>\n",
              "      <td id=\"T_805c1_row3_col0\" class=\"data row3 col0\" >0.7857</td>\n",
              "      <td id=\"T_805c1_row3_col1\" class=\"data row3 col1\" >0.7500</td>\n",
              "      <td id=\"T_805c1_row3_col2\" class=\"data row3 col2\" >0.6000</td>\n",
              "      <td id=\"T_805c1_row3_col3\" class=\"data row3 col3\" >0.7500</td>\n",
              "      <td id=\"T_805c1_row3_col4\" class=\"data row3 col4\" >0.6667</td>\n",
              "      <td id=\"T_805c1_row3_col5\" class=\"data row3 col5\" >0.5116</td>\n",
              "      <td id=\"T_805c1_row3_col6\" class=\"data row3 col6\" >0.5185</td>\n",
              "    </tr>\n",
              "    <tr>\n",
              "      <th id=\"T_805c1_level0_row4\" class=\"row_heading level0 row4\" >4</th>\n",
              "      <td id=\"T_805c1_row4_col0\" class=\"data row4 col0\" >0.8214</td>\n",
              "      <td id=\"T_805c1_row4_col1\" class=\"data row4 col1\" >0.8444</td>\n",
              "      <td id=\"T_805c1_row4_col2\" class=\"data row4 col2\" >0.5000</td>\n",
              "      <td id=\"T_805c1_row4_col3\" class=\"data row4 col3\" >1.0000</td>\n",
              "      <td id=\"T_805c1_row4_col4\" class=\"data row4 col4\" >0.6667</td>\n",
              "      <td id=\"T_805c1_row4_col5\" class=\"data row4 col5\" >0.5625</td>\n",
              "      <td id=\"T_805c1_row4_col6\" class=\"data row4 col6\" >0.6255</td>\n",
              "    </tr>\n",
              "    <tr>\n",
              "      <th id=\"T_805c1_level0_row5\" class=\"row_heading level0 row5\" >5</th>\n",
              "      <td id=\"T_805c1_row5_col0\" class=\"data row5 col0\" >0.8214</td>\n",
              "      <td id=\"T_805c1_row5_col1\" class=\"data row5 col1\" >0.8167</td>\n",
              "      <td id=\"T_805c1_row5_col2\" class=\"data row5 col2\" >0.8000</td>\n",
              "      <td id=\"T_805c1_row5_col3\" class=\"data row5 col3\" >0.7273</td>\n",
              "      <td id=\"T_805c1_row5_col4\" class=\"data row5 col4\" >0.7619</td>\n",
              "      <td id=\"T_805c1_row5_col5\" class=\"data row5 col5\" >0.6196</td>\n",
              "      <td id=\"T_805c1_row5_col6\" class=\"data row5 col6\" >0.6214</td>\n",
              "    </tr>\n",
              "    <tr>\n",
              "      <th id=\"T_805c1_level0_row6\" class=\"row_heading level0 row6\" >6</th>\n",
              "      <td id=\"T_805c1_row6_col0\" class=\"data row6 col0\" >0.8571</td>\n",
              "      <td id=\"T_805c1_row6_col1\" class=\"data row6 col1\" >0.7806</td>\n",
              "      <td id=\"T_805c1_row6_col2\" class=\"data row6 col2\" >0.7000</td>\n",
              "      <td id=\"T_805c1_row6_col3\" class=\"data row6 col3\" >0.8750</td>\n",
              "      <td id=\"T_805c1_row6_col4\" class=\"data row6 col4\" >0.7778</td>\n",
              "      <td id=\"T_805c1_row6_col5\" class=\"data row6 col5\" >0.6744</td>\n",
              "      <td id=\"T_805c1_row6_col6\" class=\"data row6 col6\" >0.6835</td>\n",
              "    </tr>\n",
              "    <tr>\n",
              "      <th id=\"T_805c1_level0_row7\" class=\"row_heading level0 row7\" >7</th>\n",
              "      <td id=\"T_805c1_row7_col0\" class=\"data row7 col0\" >0.6429</td>\n",
              "      <td id=\"T_805c1_row7_col1\" class=\"data row7 col1\" >0.6889</td>\n",
              "      <td id=\"T_805c1_row7_col2\" class=\"data row7 col2\" >0.5000</td>\n",
              "      <td id=\"T_805c1_row7_col3\" class=\"data row7 col3\" >0.5000</td>\n",
              "      <td id=\"T_805c1_row7_col4\" class=\"data row7 col4\" >0.5000</td>\n",
              "      <td id=\"T_805c1_row7_col5\" class=\"data row7 col5\" >0.2222</td>\n",
              "      <td id=\"T_805c1_row7_col6\" class=\"data row7 col6\" >0.2222</td>\n",
              "    </tr>\n",
              "    <tr>\n",
              "      <th id=\"T_805c1_level0_row8\" class=\"row_heading level0 row8\" >8</th>\n",
              "      <td id=\"T_805c1_row8_col0\" class=\"data row8 col0\" >0.7143</td>\n",
              "      <td id=\"T_805c1_row8_col1\" class=\"data row8 col1\" >0.7000</td>\n",
              "      <td id=\"T_805c1_row8_col2\" class=\"data row8 col2\" >0.6000</td>\n",
              "      <td id=\"T_805c1_row8_col3\" class=\"data row8 col3\" >0.6000</td>\n",
              "      <td id=\"T_805c1_row8_col4\" class=\"data row8 col4\" >0.6000</td>\n",
              "      <td id=\"T_805c1_row8_col5\" class=\"data row8 col5\" >0.3778</td>\n",
              "      <td id=\"T_805c1_row8_col6\" class=\"data row8 col6\" >0.3778</td>\n",
              "    </tr>\n",
              "    <tr>\n",
              "      <th id=\"T_805c1_level0_row9\" class=\"row_heading level0 row9\" >9</th>\n",
              "      <td id=\"T_805c1_row9_col0\" class=\"data row9 col0\" >0.7778</td>\n",
              "      <td id=\"T_805c1_row9_col1\" class=\"data row9 col1\" >0.7647</td>\n",
              "      <td id=\"T_805c1_row9_col2\" class=\"data row9 col2\" >0.6000</td>\n",
              "      <td id=\"T_805c1_row9_col3\" class=\"data row9 col3\" >0.7500</td>\n",
              "      <td id=\"T_805c1_row9_col4\" class=\"data row9 col4\" >0.6667</td>\n",
              "      <td id=\"T_805c1_row9_col5\" class=\"data row9 col5\" >0.5031</td>\n",
              "      <td id=\"T_805c1_row9_col6\" class=\"data row9 col6\" >0.5101</td>\n",
              "    </tr>\n",
              "    <tr>\n",
              "      <th id=\"T_805c1_level0_row10\" class=\"row_heading level0 row10\" >Mean</th>\n",
              "      <td id=\"T_805c1_row10_col0\" class=\"data row10 col0\" >0.7885</td>\n",
              "      <td id=\"T_805c1_row10_col1\" class=\"data row10 col1\" >0.7973</td>\n",
              "      <td id=\"T_805c1_row10_col2\" class=\"data row10 col2\" >0.6700</td>\n",
              "      <td id=\"T_805c1_row10_col3\" class=\"data row10 col3\" >0.7387</td>\n",
              "      <td id=\"T_805c1_row10_col4\" class=\"data row10 col4\" >0.6924</td>\n",
              "      <td id=\"T_805c1_row10_col5\" class=\"data row10 col5\" >0.5329</td>\n",
              "      <td id=\"T_805c1_row10_col6\" class=\"data row10 col6\" >0.5426</td>\n",
              "    </tr>\n",
              "    <tr>\n",
              "      <th id=\"T_805c1_level0_row11\" class=\"row_heading level0 row11\" >Std</th>\n",
              "      <td id=\"T_805c1_row11_col0\" class=\"data row11 col0\" >0.0668</td>\n",
              "      <td id=\"T_805c1_row11_col1\" class=\"data row11 col1\" >0.0689</td>\n",
              "      <td id=\"T_805c1_row11_col2\" class=\"data row11 col2\" >0.1269</td>\n",
              "      <td id=\"T_805c1_row11_col3\" class=\"data row11 col3\" >0.1328</td>\n",
              "      <td id=\"T_805c1_row11_col4\" class=\"data row11 col4\" >0.0938</td>\n",
              "      <td id=\"T_805c1_row11_col5\" class=\"data row11 col5\" >0.1442</td>\n",
              "      <td id=\"T_805c1_row11_col6\" class=\"data row11 col6\" >0.1477</td>\n",
              "    </tr>\n",
              "  </tbody>\n",
              "</table>\n"
            ],
            "text/plain": [
              "<pandas.io.formats.style.Styler at 0x25c25f40100>"
            ]
          },
          "metadata": {},
          "output_type": "display_data"
        },
        {
          "name": "stdout",
          "output_type": "stream",
          "text": [
            "Fitting 10 folds for each of 10 candidates, totalling 100 fits\n"
          ]
        }
      ],
      "source": [
        "tuned_knn = tune_model(knn)"
      ]
    },
    {
      "cell_type": "markdown",
      "metadata": {},
      "source": [
        "## Plot Model\n"
      ]
    },
    {
      "cell_type": "code",
      "execution_count": 63,
      "metadata": {},
      "outputs": [
        {
          "data": {
            "text/html": [],
            "text/plain": [
              "<IPython.core.display.HTML object>"
            ]
          },
          "metadata": {},
          "output_type": "display_data"
        },
        {
          "data": {
            "text/html": [
              "<div>\n",
              "<style scoped>\n",
              "    .dataframe tbody tr th:only-of-type {\n",
              "        vertical-align: middle;\n",
              "    }\n",
              "\n",
              "    .dataframe tbody tr th {\n",
              "        vertical-align: top;\n",
              "    }\n",
              "\n",
              "    .dataframe thead th {\n",
              "        text-align: right;\n",
              "    }\n",
              "</style>\n",
              "<table border=\"1\" class=\"dataframe\">\n",
              "  <thead>\n",
              "    <tr style=\"text-align: right;\">\n",
              "      <th></th>\n",
              "      <th>Parameters</th>\n",
              "    </tr>\n",
              "  </thead>\n",
              "  <tbody>\n",
              "    <tr>\n",
              "      <th>algorithm</th>\n",
              "      <td>auto</td>\n",
              "    </tr>\n",
              "    <tr>\n",
              "      <th>leaf_size</th>\n",
              "      <td>30</td>\n",
              "    </tr>\n",
              "    <tr>\n",
              "      <th>metric</th>\n",
              "      <td>minkowski</td>\n",
              "    </tr>\n",
              "    <tr>\n",
              "      <th>metric_params</th>\n",
              "      <td>None</td>\n",
              "    </tr>\n",
              "    <tr>\n",
              "      <th>n_jobs</th>\n",
              "      <td>-1</td>\n",
              "    </tr>\n",
              "    <tr>\n",
              "      <th>n_neighbors</th>\n",
              "      <td>14</td>\n",
              "    </tr>\n",
              "    <tr>\n",
              "      <th>p</th>\n",
              "      <td>2</td>\n",
              "    </tr>\n",
              "    <tr>\n",
              "      <th>weights</th>\n",
              "      <td>distance</td>\n",
              "    </tr>\n",
              "  </tbody>\n",
              "</table>\n",
              "</div>"
            ],
            "text/plain": [
              "              Parameters\n",
              "algorithm           auto\n",
              "leaf_size             30\n",
              "metric         minkowski\n",
              "metric_params       None\n",
              "n_jobs                -1\n",
              "n_neighbors           14\n",
              "p                      2\n",
              "weights         distance"
            ]
          },
          "metadata": {},
          "output_type": "display_data"
        }
      ],
      "source": [
        "plot_model(tuned_knn, plot = 'parameter')"
      ]
    },
    {
      "cell_type": "code",
      "execution_count": 64,
      "metadata": {},
      "outputs": [
        {
          "data": {
            "text/html": [],
            "text/plain": [
              "<IPython.core.display.HTML object>"
            ]
          },
          "metadata": {},
          "output_type": "display_data"
        },
        {
          "data": {
            "image/png": "[encoded data removed]",
            "text/plain": [
              "<Figure size 432x288 with 1 Axes>"
            ]
          },
          "metadata": {
            "needs_background": "light"
          },
          "output_type": "display_data"
        }
      ],
      "source": [
        "plot_model(tuned_knn, plot = 'auc')"
      ]
    },
    {
      "cell_type": "markdown",
      "metadata": {},
      "source": [
        "the macro-average ROC curve calculates the TPR and FPR separately for each class, and then averages these values across all classes. Micro-average however, is the weighted average version! "
      ]
    },
    {
      "cell_type": "code",
      "execution_count": 65,
      "metadata": {},
      "outputs": [
        {
          "data": {
            "text/html": [],
            "text/plain": [
              "<IPython.core.display.HTML object>"
            ]
          },
          "metadata": {},
          "output_type": "display_data"
        },
        {
          "data": {
            "image/png": "[encoded data removed]",
            "text/plain": [
              "<Figure size 432x288 with 1 Axes>"
            ]
          },
          "metadata": {
            "needs_background": "light"
          },
          "output_type": "display_data"
        }
      ],
      "source": [
        "plot_model(tuned_knn, plot = 'threshold')"
      ]
    },
    {
      "cell_type": "code",
      "execution_count": 66,
      "metadata": {},
      "outputs": [
        {
          "data": {
            "text/html": [],
            "text/plain": [
              "<IPython.core.display.HTML object>"
            ]
          },
          "metadata": {},
          "output_type": "display_data"
        },
        {
          "data": {
            "image/png": "[encoded data removed]",
            "text/plain": [
              "<Figure size 432x288 with 1 Axes>"
            ]
          },
          "metadata": {
            "needs_background": "light"
          },
          "output_type": "display_data"
        }
      ],
      "source": [
        "plot_model(tuned_knn, plot = 'pr')"
      ]
    },
    {
      "attachments": {},
      "cell_type": "markdown",
      "metadata": {},
      "source": [
        "The PR chart is useful in such situations because it provides a way to visualize the trade-off between precision and recall for different classification thresholds. Overall, the precision-recall chart is a useful tool for evaluating the performance of binary classification models, especially in situations where the classes are imbalanced or where the cost of false positives and false negatives is different."
      ]
    },
    {
      "cell_type": "code",
      "execution_count": 67,
      "metadata": {},
      "outputs": [
        {
          "data": {
            "text/html": [],
            "text/plain": [
              "<IPython.core.display.HTML object>"
            ]
          },
          "metadata": {},
          "output_type": "display_data"
        },
        {
          "data": {
            "image/png": "[encoded data removed]",
            "text/plain": [
              "<Figure size 432x288 with 1 Axes>"
            ]
          },
          "metadata": {
            "needs_background": "light"
          },
          "output_type": "display_data"
        }
      ],
      "source": [
        "plot_model(tuned_knn, plot = 'confusion_matrix')"
      ]
    },
    {
      "cell_type": "code",
      "execution_count": 68,
      "metadata": {},
      "outputs": [
        {
          "data": {
            "text/html": [],
            "text/plain": [
              "<IPython.core.display.HTML object>"
            ]
          },
          "metadata": {},
          "output_type": "display_data"
        },
        {
          "data": {
            "image/png": "[encoded data removed]",
            "text/plain": [
              "<Figure size 432x288 with 2 Axes>"
            ]
          },
          "metadata": {
            "needs_background": "light"
          },
          "output_type": "display_data"
        }
      ],
      "source": [
        "plot_model(tuned_knn, plot = 'class_report')"
      ]
    },
    {
      "cell_type": "code",
      "execution_count": 69,
      "metadata": {},
      "outputs": [
        {
          "data": {
            "text/html": [],
            "text/plain": [
              "<IPython.core.display.HTML object>"
            ]
          },
          "metadata": {},
          "output_type": "display_data"
        },
        {
          "data": {
            "image/png": "[encoded data removed]",
            "text/plain": [
              "<Figure size 432x288 with 1 Axes>"
            ]
          },
          "metadata": {
            "needs_background": "light"
          },
          "output_type": "display_data"
        }
      ],
      "source": [
        "plot_model(tuned_knn, plot = 'boundary')"
      ]
    },
    {
      "cell_type": "code",
      "execution_count": 70,
      "metadata": {},
      "outputs": [
        {
          "data": {
            "text/html": [],
            "text/plain": [
              "<IPython.core.display.HTML object>"
            ]
          },
          "metadata": {},
          "output_type": "display_data"
        },
        {
          "data": {
            "image/png": "[encoded data removed]",
            "text/plain": [
              "<Figure size 432x288 with 1 Axes>"
            ]
          },
          "metadata": {
            "needs_background": "light"
          },
          "output_type": "display_data"
        }
      ],
      "source": [
        "plot_model(tuned_knn, plot = 'learning')"
      ]
    },
    {
      "cell_type": "markdown",
      "metadata": {},
      "source": [
        "----\n",
        "Done!"
      ]
    },
    {
      "cell_type": "markdown",
      "metadata": {},
      "source": [
        "###  Additional links:\n",
        "1. Minkowski distance: https://en.wikipedia.org/wiki/Minkowski_distance\n",
        "2. Is accuracy everything? https://towardsdatascience.com/is-accuracy-everything-96da9afd540d\n",
        "3. BallTree vs KDTree vs Brute force KNN: https://towardsdatascience.com/tree-algorithms-explained-ball-tree-algorithm-vs-kd-tree-vs-brute-force-9746debcd940 \n",
        "4. ROC Curves and Precision-Recall Curves for imbalanced Classification: https://machinelearningmastery.com/roc-curves-and-precision-recall-curves-for-imbalanced-classification/\n"
      ]
    }
  ],
  "metadata": {
    "colab": {
      "collapsed_sections": [],
      "provenance": []
    },
    "kernelspec": {
      "display_name": "Python 3.9.7 ('base')",
      "language": "python",
      "name": "python3"
    },
    "language_info": {
      "codemirror_mode": {
        "name": "ipython",
        "version": 3
      },
      "file_extension": ".py",
      "mimetype": "text/x-python",
      "name": "python",
      "nbconvert_exporter": "python",
      "pygments_lexer": "ipython3",
      "version": "3.8.15"
    },
    "vscode": {
      "interpreter": {
        "hash": "49cb93f377a7abe7414b7b0f21fb3017538004a126cf690fb524202736b7fb92"
      }
    }
  },
  "nbformat": 4,
  "nbformat_minor": 0
}
