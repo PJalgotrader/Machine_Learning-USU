{
  "cells": [
    {
      "attachments": {},
      "cell_type": "markdown",
      "metadata": {
        "id": "YDdWyBxu-kTj"
      },
      "source": [
        "# Prof. Pedram Jahangiry\n",
        "\n",
        "You need to make a copy to your own Google drive if you want to edit the original notebook! Start by opening this notebook on Colab 👇\n",
        "\n",
        "<a href=\"https://colab.research.google.com/github/PJalgotrader/Machine_Learning-USU/blob/main/Lectures%20and%20codes/Module%208-%20KNN/python/KNN_Regression.ipynb\" target=\"_parent\"><img src=\"https://colab.research.google.com/assets/colab-badge.svg\" alt=\"Open In Colab\"/></a> \n",
        "\n",
        "\n",
        "\n",
        "![logo](https://upload.wikimedia.org/wikipedia/commons/4/44/Huntsman-Wordmark-with-USU-Blue.gif#center) \n",
        "\n",
        "\n",
        "## 🔗 Links\n",
        "\n",
        "[![linkedin](https://img.shields.io/badge/LinkedIn-0A66C2?style=for-the-badge&logo=linkedin&logoColor=white)](https://www.linkedin.com/in/pedram-jahangiry-cfa-5778015a)\n",
        "\n",
        "[![Youtube](https://img.shields.io/badge/youtube_channel-1DA1F2?style=for-the-badge&logo=youtube&logoColor=white&color=FF0000)](https://www.youtube.com/channel/UCNDElcuuyX-2pSatVBDpJJQ)\n",
        "\n",
        "[![Twitter URL](https://img.shields.io/twitter/url/https/twitter.com/PedramJahangiry.svg?style=social&label=Follow%20%40PedramJahangiry)](https://twitter.com/PedramJahangiry)\n",
        "\n",
        "\n",
        "---"
      ]
    },
    {
      "cell_type": "markdown",
      "metadata": {
        "id": "JqmzRnZl-kTl"
      },
      "source": [
        "# K Nearest Neigbors (KNN) - Regression"
      ]
    },
    {
      "cell_type": "code",
      "execution_count": 1,
      "metadata": {
        "id": "4y5xIJx9-kTm"
      },
      "outputs": [],
      "source": [
        "import numpy as np\n",
        "import pandas as pd\n",
        "import matplotlib.pyplot as plt\n",
        "import seaborn as sns\n",
        "sns.set()  #if you want to use seaborn themes with matplotlib functions\n",
        "import warnings\n",
        "warnings.filterwarnings('ignore')"
      ]
    },
    {
      "cell_type": "code",
      "execution_count": 2,
      "metadata": {
        "id": "3Wvlhw8O-kTm"
      },
      "outputs": [],
      "source": [
        "rand_state = 1000"
      ]
    },
    {
      "cell_type": "code",
      "execution_count": 3,
      "metadata": {
        "colab": {
          "base_uri": "https://localhost:8080/"
        },
        "id": "uz0Xuhl4-kTn",
        "outputId": "367b1d4d-7177-45c9-cfbe-63296760a551"
      },
      "outputs": [],
      "source": [
        "df = pd.read_csv(\"https://raw.githubusercontent.com/PJalgotrader/Machine_Learning-USU/main/data/wage.csv\")"
      ]
    },
    {
      "cell_type": "code",
      "execution_count": 4,
      "metadata": {
        "colab": {
          "base_uri": "https://localhost:8080/",
          "height": 206
        },
        "id": "KYZeiUz9-kTn",
        "outputId": "7955507f-546d-4f1e-a553-18d57f93e1e4"
      },
      "outputs": [
        {
          "data": {
            "text/html": [
              "<div>\n",
              "<style scoped>\n",
              "    .dataframe tbody tr th:only-of-type {\n",
              "        vertical-align: middle;\n",
              "    }\n",
              "\n",
              "    .dataframe tbody tr th {\n",
              "        vertical-align: top;\n",
              "    }\n",
              "\n",
              "    .dataframe thead th {\n",
              "        text-align: right;\n",
              "    }\n",
              "</style>\n",
              "<table border=\"1\" class=\"dataframe\">\n",
              "  <thead>\n",
              "    <tr style=\"text-align: right;\">\n",
              "      <th></th>\n",
              "      <th>wage</th>\n",
              "      <th>hours</th>\n",
              "      <th>IQ</th>\n",
              "      <th>educ</th>\n",
              "      <th>exper</th>\n",
              "      <th>tenure</th>\n",
              "      <th>age</th>\n",
              "      <th>married</th>\n",
              "      <th>black</th>\n",
              "      <th>meduc</th>\n",
              "      <th>feduc</th>\n",
              "    </tr>\n",
              "  </thead>\n",
              "  <tbody>\n",
              "    <tr>\n",
              "      <th>0</th>\n",
              "      <td>76900.0</td>\n",
              "      <td>40</td>\n",
              "      <td>93</td>\n",
              "      <td>12</td>\n",
              "      <td>11</td>\n",
              "      <td>2</td>\n",
              "      <td>31</td>\n",
              "      <td>1</td>\n",
              "      <td>0</td>\n",
              "      <td>8.0</td>\n",
              "      <td>8.0</td>\n",
              "    </tr>\n",
              "    <tr>\n",
              "      <th>1</th>\n",
              "      <td>80800.0</td>\n",
              "      <td>50</td>\n",
              "      <td>119</td>\n",
              "      <td>18</td>\n",
              "      <td>11</td>\n",
              "      <td>16</td>\n",
              "      <td>37</td>\n",
              "      <td>1</td>\n",
              "      <td>0</td>\n",
              "      <td>14.0</td>\n",
              "      <td>14.0</td>\n",
              "    </tr>\n",
              "    <tr>\n",
              "      <th>2</th>\n",
              "      <td>82500.0</td>\n",
              "      <td>40</td>\n",
              "      <td>108</td>\n",
              "      <td>14</td>\n",
              "      <td>11</td>\n",
              "      <td>9</td>\n",
              "      <td>33</td>\n",
              "      <td>1</td>\n",
              "      <td>0</td>\n",
              "      <td>14.0</td>\n",
              "      <td>14.0</td>\n",
              "    </tr>\n",
              "    <tr>\n",
              "      <th>3</th>\n",
              "      <td>65000.0</td>\n",
              "      <td>40</td>\n",
              "      <td>96</td>\n",
              "      <td>12</td>\n",
              "      <td>13</td>\n",
              "      <td>7</td>\n",
              "      <td>32</td>\n",
              "      <td>1</td>\n",
              "      <td>0</td>\n",
              "      <td>12.0</td>\n",
              "      <td>12.0</td>\n",
              "    </tr>\n",
              "    <tr>\n",
              "      <th>4</th>\n",
              "      <td>56200.0</td>\n",
              "      <td>40</td>\n",
              "      <td>74</td>\n",
              "      <td>11</td>\n",
              "      <td>14</td>\n",
              "      <td>5</td>\n",
              "      <td>34</td>\n",
              "      <td>1</td>\n",
              "      <td>0</td>\n",
              "      <td>6.0</td>\n",
              "      <td>11.0</td>\n",
              "    </tr>\n",
              "  </tbody>\n",
              "</table>\n",
              "</div>"
            ],
            "text/plain": [
              "      wage  hours   IQ  educ  exper  tenure  age  married  black  meduc  feduc\n",
              "0  76900.0     40   93    12     11       2   31        1      0    8.0    8.0\n",
              "1  80800.0     50  119    18     11      16   37        1      0   14.0   14.0\n",
              "2  82500.0     40  108    14     11       9   33        1      0   14.0   14.0\n",
              "3  65000.0     40   96    12     13       7   32        1      0   12.0   12.0\n",
              "4  56200.0     40   74    11     14       5   34        1      0    6.0   11.0"
            ]
          },
          "execution_count": 4,
          "metadata": {},
          "output_type": "execute_result"
        }
      ],
      "source": [
        "df.head()"
      ]
    },
    {
      "cell_type": "code",
      "execution_count": 5,
      "metadata": {
        "colab": {
          "base_uri": "https://localhost:8080/"
        },
        "id": "5P1AXSZU-kTn",
        "outputId": "bdfeee1c-2102-4a5a-8458-48f10b0796bd"
      },
      "outputs": [
        {
          "name": "stdout",
          "output_type": "stream",
          "text": [
            "<class 'pandas.core.frame.DataFrame'>\n",
            "RangeIndex: 935 entries, 0 to 934\n",
            "Data columns (total 11 columns):\n",
            " #   Column   Non-Null Count  Dtype  \n",
            "---  ------   --------------  -----  \n",
            " 0   wage     935 non-null    float64\n",
            " 1   hours    935 non-null    int64  \n",
            " 2   IQ       935 non-null    int64  \n",
            " 3   educ     935 non-null    int64  \n",
            " 4   exper    935 non-null    int64  \n",
            " 5   tenure   935 non-null    int64  \n",
            " 6   age      935 non-null    int64  \n",
            " 7   married  935 non-null    int64  \n",
            " 8   black    935 non-null    int64  \n",
            " 9   meduc    857 non-null    float64\n",
            " 10  feduc    741 non-null    float64\n",
            "dtypes: float64(3), int64(8)\n",
            "memory usage: 80.5 KB\n"
          ]
        }
      ],
      "source": [
        "df.info()"
      ]
    },
    {
      "cell_type": "markdown",
      "metadata": {
        "id": "jHl3GT8I-kTo"
      },
      "source": [
        "## Data preprocessing "
      ]
    },
    {
      "cell_type": "code",
      "execution_count": 6,
      "metadata": {
        "colab": {
          "base_uri": "https://localhost:8080/"
        },
        "id": "pyY12nb0-kTo",
        "outputId": "ce7249c9-2fa5-4dcf-aef9-55951078af2c"
      },
      "outputs": [
        {
          "data": {
            "text/plain": [
              "wage       0.000000\n",
              "hours      0.000000\n",
              "IQ         0.000000\n",
              "educ       0.000000\n",
              "exper      0.000000\n",
              "tenure     0.000000\n",
              "age        0.000000\n",
              "married    0.000000\n",
              "black      0.000000\n",
              "meduc      0.083422\n",
              "feduc      0.207487\n",
              "dtype: float64"
            ]
          },
          "execution_count": 6,
          "metadata": {},
          "output_type": "execute_result"
        }
      ],
      "source": [
        "df.isna().sum() /len(df) "
      ]
    },
    {
      "cell_type": "markdown",
      "metadata": {
        "id": "yuU3pqAz-Hv5"
      },
      "source": [
        "There is 20% missing values in feduc and 8.3% in meduc. We are going to impute feduc using linear regression. For meduc we will be using median meduc just for learning purposes. "
      ]
    },
    {
      "cell_type": "code",
      "execution_count": 7,
      "metadata": {
        "colab": {
          "base_uri": "https://localhost:8080/"
        },
        "id": "UlRp9MgD-kTo",
        "outputId": "b668e643-8f05-4700-bf32-790835fb3577"
      },
      "outputs": [
        {
          "name": "stdout",
          "output_type": "stream",
          "text": [
            "<class 'pandas.core.frame.DataFrame'>\n",
            "RangeIndex: 935 entries, 0 to 934\n",
            "Data columns (total 11 columns):\n",
            " #   Column   Non-Null Count  Dtype  \n",
            "---  ------   --------------  -----  \n",
            " 0   wage     935 non-null    float64\n",
            " 1   hours    935 non-null    int64  \n",
            " 2   IQ       935 non-null    int64  \n",
            " 3   educ     935 non-null    int64  \n",
            " 4   exper    935 non-null    int64  \n",
            " 5   tenure   935 non-null    int64  \n",
            " 6   age      935 non-null    int64  \n",
            " 7   married  935 non-null    int64  \n",
            " 8   black    935 non-null    int64  \n",
            " 9   meduc    935 non-null    float64\n",
            " 10  feduc    741 non-null    float64\n",
            "dtypes: float64(3), int64(8)\n",
            "memory usage: 80.5 KB\n"
          ]
        }
      ],
      "source": [
        "df['meduc'].fillna(df['meduc'].median(),axis=0, inplace=True )\n",
        "df.info()"
      ]
    },
    {
      "cell_type": "markdown",
      "metadata": {
        "id": "ZNshASZE_pxC"
      },
      "source": [
        "Fitting models using R-style formulas: https://www.statsmodels.org/dev/example_formulas.html"
      ]
    },
    {
      "cell_type": "code",
      "execution_count": 8,
      "metadata": {
        "id": "RNcj0ZtC-c0j"
      },
      "outputs": [],
      "source": [
        "import statsmodels.formula.api as smf # this style is very similar to R programming language. "
      ]
    },
    {
      "cell_type": "code",
      "execution_count": 9,
      "metadata": {
        "colab": {
          "base_uri": "https://localhost:8080/",
          "height": 494
        },
        "id": "EEVnBSEH-1qa",
        "outputId": "bebd9ef2-8e6a-4189-ee9f-90824fb65079"
      },
      "outputs": [
        {
          "data": {
            "text/html": [
              "<table class=\"simpletable\">\n",
              "<caption>OLS Regression Results</caption>\n",
              "<tr>\n",
              "  <th>Dep. Variable:</th>          <td>feduc</td>      <th>  R-squared:         </th> <td>   0.380</td>\n",
              "</tr>\n",
              "<tr>\n",
              "  <th>Model:</th>                   <td>OLS</td>       <th>  Adj. R-squared:    </th> <td>   0.378</td>\n",
              "</tr>\n",
              "<tr>\n",
              "  <th>Method:</th>             <td>Least Squares</td>  <th>  F-statistic:       </th> <td>   150.7</td>\n",
              "</tr>\n",
              "<tr>\n",
              "  <th>Date:</th>             <td>Tue, 15 Oct 2024</td> <th>  Prob (F-statistic):</th> <td>3.62e-76</td>\n",
              "</tr>\n",
              "<tr>\n",
              "  <th>Time:</th>                 <td>09:41:23</td>     <th>  Log-Likelihood:    </th> <td> -1758.5</td>\n",
              "</tr>\n",
              "<tr>\n",
              "  <th>No. Observations:</th>      <td>   741</td>      <th>  AIC:               </th> <td>   3525.</td>\n",
              "</tr>\n",
              "<tr>\n",
              "  <th>Df Residuals:</th>          <td>   737</td>      <th>  BIC:               </th> <td>   3543.</td>\n",
              "</tr>\n",
              "<tr>\n",
              "  <th>Df Model:</th>              <td>     3</td>      <th>                     </th>     <td> </td>   \n",
              "</tr>\n",
              "<tr>\n",
              "  <th>Covariance Type:</th>      <td>nonrobust</td>    <th>                     </th>     <td> </td>   \n",
              "</tr>\n",
              "</table>\n",
              "<table class=\"simpletable\">\n",
              "<tr>\n",
              "      <td></td>         <th>coef</th>     <th>std err</th>      <th>t</th>      <th>P>|t|</th>  <th>[0.025</th>    <th>0.975]</th>  \n",
              "</tr>\n",
              "<tr>\n",
              "  <th>Intercept</th> <td>   -1.8165</td> <td>    0.727</td> <td>   -2.497</td> <td> 0.013</td> <td>   -3.245</td> <td>   -0.388</td>\n",
              "</tr>\n",
              "<tr>\n",
              "  <th>IQ</th>        <td>    0.0164</td> <td>    0.008</td> <td>    2.093</td> <td> 0.037</td> <td>    0.001</td> <td>    0.032</td>\n",
              "</tr>\n",
              "<tr>\n",
              "  <th>educ</th>      <td>    0.3291</td> <td>    0.052</td> <td>    6.329</td> <td> 0.000</td> <td>    0.227</td> <td>    0.431</td>\n",
              "</tr>\n",
              "<tr>\n",
              "  <th>meduc</th>     <td>    0.5430</td> <td>    0.037</td> <td>   14.619</td> <td> 0.000</td> <td>    0.470</td> <td>    0.616</td>\n",
              "</tr>\n",
              "</table>\n",
              "<table class=\"simpletable\">\n",
              "<tr>\n",
              "  <th>Omnibus:</th>       <td> 8.269</td> <th>  Durbin-Watson:     </th> <td>   1.890</td>\n",
              "</tr>\n",
              "<tr>\n",
              "  <th>Prob(Omnibus):</th> <td> 0.016</td> <th>  Jarque-Bera (JB):  </th> <td>   9.005</td>\n",
              "</tr>\n",
              "<tr>\n",
              "  <th>Skew:</th>          <td>-0.187</td> <th>  Prob(JB):          </th> <td>  0.0111</td>\n",
              "</tr>\n",
              "<tr>\n",
              "  <th>Kurtosis:</th>      <td> 3.390</td> <th>  Cond. No.          </th> <td>    795.</td>\n",
              "</tr>\n",
              "</table><br/><br/>Notes:<br/>[1] Standard Errors assume that the covariance matrix of the errors is correctly specified."
            ],
            "text/latex": [
              "\\begin{center}\n",
              "\\begin{tabular}{lclc}\n",
              "\\toprule\n",
              "\\textbf{Dep. Variable:}    &      feduc       & \\textbf{  R-squared:         } &     0.380   \\\\\n",
              "\\textbf{Model:}            &       OLS        & \\textbf{  Adj. R-squared:    } &     0.378   \\\\\n",
              "\\textbf{Method:}           &  Least Squares   & \\textbf{  F-statistic:       } &     150.7   \\\\\n",
              "\\textbf{Date:}             & Tue, 15 Oct 2024 & \\textbf{  Prob (F-statistic):} &  3.62e-76   \\\\\n",
              "\\textbf{Time:}             &     09:41:23     & \\textbf{  Log-Likelihood:    } &   -1758.5   \\\\\n",
              "\\textbf{No. Observations:} &         741      & \\textbf{  AIC:               } &     3525.   \\\\\n",
              "\\textbf{Df Residuals:}     &         737      & \\textbf{  BIC:               } &     3543.   \\\\\n",
              "\\textbf{Df Model:}         &           3      & \\textbf{                     } &             \\\\\n",
              "\\textbf{Covariance Type:}  &    nonrobust     & \\textbf{                     } &             \\\\\n",
              "\\bottomrule\n",
              "\\end{tabular}\n",
              "\\begin{tabular}{lcccccc}\n",
              "                   & \\textbf{coef} & \\textbf{std err} & \\textbf{t} & \\textbf{P$> |$t$|$} & \\textbf{[0.025} & \\textbf{0.975]}  \\\\\n",
              "\\midrule\n",
              "\\textbf{Intercept} &      -1.8165  &        0.727     &    -2.497  &         0.013        &       -3.245    &       -0.388     \\\\\n",
              "\\textbf{IQ}        &       0.0164  &        0.008     &     2.093  &         0.037        &        0.001    &        0.032     \\\\\n",
              "\\textbf{educ}      &       0.3291  &        0.052     &     6.329  &         0.000        &        0.227    &        0.431     \\\\\n",
              "\\textbf{meduc}     &       0.5430  &        0.037     &    14.619  &         0.000        &        0.470    &        0.616     \\\\\n",
              "\\bottomrule\n",
              "\\end{tabular}\n",
              "\\begin{tabular}{lclc}\n",
              "\\textbf{Omnibus:}       &  8.269 & \\textbf{  Durbin-Watson:     } &    1.890  \\\\\n",
              "\\textbf{Prob(Omnibus):} &  0.016 & \\textbf{  Jarque-Bera (JB):  } &    9.005  \\\\\n",
              "\\textbf{Skew:}          & -0.187 & \\textbf{  Prob(JB):          } &   0.0111  \\\\\n",
              "\\textbf{Kurtosis:}      &  3.390 & \\textbf{  Cond. No.          } &     795.  \\\\\n",
              "\\bottomrule\n",
              "\\end{tabular}\n",
              "%\\caption{OLS Regression Results}\n",
              "\\end{center}\n",
              "\n",
              "Notes: \\newline\n",
              " [1] Standard Errors assume that the covariance matrix of the errors is correctly specified."
            ],
            "text/plain": [
              "<class 'statsmodels.iolib.summary.Summary'>\n",
              "\"\"\"\n",
              "                            OLS Regression Results                            \n",
              "==============================================================================\n",
              "Dep. Variable:                  feduc   R-squared:                       0.380\n",
              "Model:                            OLS   Adj. R-squared:                  0.378\n",
              "Method:                 Least Squares   F-statistic:                     150.7\n",
              "Date:                Tue, 15 Oct 2024   Prob (F-statistic):           3.62e-76\n",
              "Time:                        09:41:23   Log-Likelihood:                -1758.5\n",
              "No. Observations:                 741   AIC:                             3525.\n",
              "Df Residuals:                     737   BIC:                             3543.\n",
              "Df Model:                           3                                         \n",
              "Covariance Type:            nonrobust                                         \n",
              "==============================================================================\n",
              "                 coef    std err          t      P>|t|      [0.025      0.975]\n",
              "------------------------------------------------------------------------------\n",
              "Intercept     -1.8165      0.727     -2.497      0.013      -3.245      -0.388\n",
              "IQ             0.0164      0.008      2.093      0.037       0.001       0.032\n",
              "educ           0.3291      0.052      6.329      0.000       0.227       0.431\n",
              "meduc          0.5430      0.037     14.619      0.000       0.470       0.616\n",
              "==============================================================================\n",
              "Omnibus:                        8.269   Durbin-Watson:                   1.890\n",
              "Prob(Omnibus):                  0.016   Jarque-Bera (JB):                9.005\n",
              "Skew:                          -0.187   Prob(JB):                       0.0111\n",
              "Kurtosis:                       3.390   Cond. No.                         795.\n",
              "==============================================================================\n",
              "\n",
              "Notes:\n",
              "[1] Standard Errors assume that the covariance matrix of the errors is correctly specified.\n",
              "\"\"\""
            ]
          },
          "execution_count": 9,
          "metadata": {},
          "output_type": "execute_result"
        }
      ],
      "source": [
        "reg = smf.ols('feduc ~    IQ + educ +meduc  ', data=df).fit()\n",
        "reg.summary()"
      ]
    },
    {
      "cell_type": "code",
      "execution_count": 10,
      "metadata": {
        "colab": {
          "base_uri": "https://localhost:8080/"
        },
        "id": "snIBw0cB-u0x",
        "outputId": "b4480004-8471-4e77-de82-74bd44054f2d"
      },
      "outputs": [
        {
          "data": {
            "text/plain": [
              "5       9.691238\n",
              "7      10.316720\n",
              "11     13.148295\n",
              "18     11.025223\n",
              "19      8.129423\n",
              "         ...    \n",
              "926     8.327000\n",
              "927    10.301577\n",
              "930    10.715012\n",
              "932     7.193731\n",
              "934    10.399741\n",
              "Length: 194, dtype: float64"
            ]
          },
          "execution_count": 10,
          "metadata": {},
          "output_type": "execute_result"
        }
      ],
      "source": [
        "# imputing missing values for feduc\n",
        "missing_predictions = reg.predict(df[['IQ','educ','meduc']])[df['feduc'].isna()]\n",
        "missing_predictions"
      ]
    },
    {
      "cell_type": "code",
      "execution_count": 11,
      "metadata": {},
      "outputs": [
        {
          "data": {
            "text/plain": [
              "194"
            ]
          },
          "execution_count": 11,
          "metadata": {},
          "output_type": "execute_result"
        }
      ],
      "source": [
        "df.feduc.isna().sum()"
      ]
    },
    {
      "cell_type": "code",
      "execution_count": 12,
      "metadata": {
        "colab": {
          "base_uri": "https://localhost:8080/",
          "height": 363
        },
        "id": "XDZ8LwnnDv3Z",
        "outputId": "0d37b9be-ee1e-4e67-fabf-b1f2878c89ee"
      },
      "outputs": [
        {
          "data": {
            "text/html": [
              "<div>\n",
              "<style scoped>\n",
              "    .dataframe tbody tr th:only-of-type {\n",
              "        vertical-align: middle;\n",
              "    }\n",
              "\n",
              "    .dataframe tbody tr th {\n",
              "        vertical-align: top;\n",
              "    }\n",
              "\n",
              "    .dataframe thead th {\n",
              "        text-align: right;\n",
              "    }\n",
              "</style>\n",
              "<table border=\"1\" class=\"dataframe\">\n",
              "  <thead>\n",
              "    <tr style=\"text-align: right;\">\n",
              "      <th></th>\n",
              "      <th>wage</th>\n",
              "      <th>hours</th>\n",
              "      <th>IQ</th>\n",
              "      <th>educ</th>\n",
              "      <th>exper</th>\n",
              "      <th>tenure</th>\n",
              "      <th>age</th>\n",
              "      <th>married</th>\n",
              "      <th>black</th>\n",
              "      <th>meduc</th>\n",
              "      <th>feduc</th>\n",
              "    </tr>\n",
              "  </thead>\n",
              "  <tbody>\n",
              "    <tr>\n",
              "      <th>0</th>\n",
              "      <td>76900.0</td>\n",
              "      <td>40</td>\n",
              "      <td>93</td>\n",
              "      <td>12</td>\n",
              "      <td>11</td>\n",
              "      <td>2</td>\n",
              "      <td>31</td>\n",
              "      <td>1</td>\n",
              "      <td>0</td>\n",
              "      <td>8.0</td>\n",
              "      <td>8.0</td>\n",
              "    </tr>\n",
              "    <tr>\n",
              "      <th>1</th>\n",
              "      <td>80800.0</td>\n",
              "      <td>50</td>\n",
              "      <td>119</td>\n",
              "      <td>18</td>\n",
              "      <td>11</td>\n",
              "      <td>16</td>\n",
              "      <td>37</td>\n",
              "      <td>1</td>\n",
              "      <td>0</td>\n",
              "      <td>14.0</td>\n",
              "      <td>14.0</td>\n",
              "    </tr>\n",
              "    <tr>\n",
              "      <th>2</th>\n",
              "      <td>82500.0</td>\n",
              "      <td>40</td>\n",
              "      <td>108</td>\n",
              "      <td>14</td>\n",
              "      <td>11</td>\n",
              "      <td>9</td>\n",
              "      <td>33</td>\n",
              "      <td>1</td>\n",
              "      <td>0</td>\n",
              "      <td>14.0</td>\n",
              "      <td>14.0</td>\n",
              "    </tr>\n",
              "    <tr>\n",
              "      <th>3</th>\n",
              "      <td>65000.0</td>\n",
              "      <td>40</td>\n",
              "      <td>96</td>\n",
              "      <td>12</td>\n",
              "      <td>13</td>\n",
              "      <td>7</td>\n",
              "      <td>32</td>\n",
              "      <td>1</td>\n",
              "      <td>0</td>\n",
              "      <td>12.0</td>\n",
              "      <td>12.0</td>\n",
              "    </tr>\n",
              "    <tr>\n",
              "      <th>4</th>\n",
              "      <td>56200.0</td>\n",
              "      <td>40</td>\n",
              "      <td>74</td>\n",
              "      <td>11</td>\n",
              "      <td>14</td>\n",
              "      <td>5</td>\n",
              "      <td>34</td>\n",
              "      <td>1</td>\n",
              "      <td>0</td>\n",
              "      <td>6.0</td>\n",
              "      <td>11.0</td>\n",
              "    </tr>\n",
              "    <tr>\n",
              "      <th>5</th>\n",
              "      <td>140000.0</td>\n",
              "      <td>40</td>\n",
              "      <td>116</td>\n",
              "      <td>16</td>\n",
              "      <td>14</td>\n",
              "      <td>2</td>\n",
              "      <td>35</td>\n",
              "      <td>1</td>\n",
              "      <td>1</td>\n",
              "      <td>8.0</td>\n",
              "      <td>NaN</td>\n",
              "    </tr>\n",
              "    <tr>\n",
              "      <th>6</th>\n",
              "      <td>60000.0</td>\n",
              "      <td>40</td>\n",
              "      <td>91</td>\n",
              "      <td>10</td>\n",
              "      <td>13</td>\n",
              "      <td>0</td>\n",
              "      <td>30</td>\n",
              "      <td>0</td>\n",
              "      <td>0</td>\n",
              "      <td>8.0</td>\n",
              "      <td>8.0</td>\n",
              "    </tr>\n",
              "    <tr>\n",
              "      <th>7</th>\n",
              "      <td>108100.0</td>\n",
              "      <td>40</td>\n",
              "      <td>114</td>\n",
              "      <td>18</td>\n",
              "      <td>8</td>\n",
              "      <td>14</td>\n",
              "      <td>38</td>\n",
              "      <td>1</td>\n",
              "      <td>0</td>\n",
              "      <td>8.0</td>\n",
              "      <td>NaN</td>\n",
              "    </tr>\n",
              "    <tr>\n",
              "      <th>8</th>\n",
              "      <td>115400.0</td>\n",
              "      <td>45</td>\n",
              "      <td>111</td>\n",
              "      <td>15</td>\n",
              "      <td>13</td>\n",
              "      <td>1</td>\n",
              "      <td>36</td>\n",
              "      <td>1</td>\n",
              "      <td>0</td>\n",
              "      <td>14.0</td>\n",
              "      <td>5.0</td>\n",
              "    </tr>\n",
              "    <tr>\n",
              "      <th>9</th>\n",
              "      <td>100000.0</td>\n",
              "      <td>40</td>\n",
              "      <td>95</td>\n",
              "      <td>12</td>\n",
              "      <td>16</td>\n",
              "      <td>16</td>\n",
              "      <td>36</td>\n",
              "      <td>1</td>\n",
              "      <td>0</td>\n",
              "      <td>12.0</td>\n",
              "      <td>11.0</td>\n",
              "    </tr>\n",
              "  </tbody>\n",
              "</table>\n",
              "</div>"
            ],
            "text/plain": [
              "       wage  hours   IQ  educ  exper  tenure  age  married  black  meduc  \\\n",
              "0   76900.0     40   93    12     11       2   31        1      0    8.0   \n",
              "1   80800.0     50  119    18     11      16   37        1      0   14.0   \n",
              "2   82500.0     40  108    14     11       9   33        1      0   14.0   \n",
              "3   65000.0     40   96    12     13       7   32        1      0   12.0   \n",
              "4   56200.0     40   74    11     14       5   34        1      0    6.0   \n",
              "5  140000.0     40  116    16     14       2   35        1      1    8.0   \n",
              "6   60000.0     40   91    10     13       0   30        0      0    8.0   \n",
              "7  108100.0     40  114    18      8      14   38        1      0    8.0   \n",
              "8  115400.0     45  111    15     13       1   36        1      0   14.0   \n",
              "9  100000.0     40   95    12     16      16   36        1      0   12.0   \n",
              "\n",
              "   feduc  \n",
              "0    8.0  \n",
              "1   14.0  \n",
              "2   14.0  \n",
              "3   12.0  \n",
              "4   11.0  \n",
              "5    NaN  \n",
              "6    8.0  \n",
              "7    NaN  \n",
              "8    5.0  \n",
              "9   11.0  "
            ]
          },
          "execution_count": 12,
          "metadata": {},
          "output_type": "execute_result"
        }
      ],
      "source": [
        "df.head(10)"
      ]
    },
    {
      "cell_type": "code",
      "execution_count": 13,
      "metadata": {
        "colab": {
          "base_uri": "https://localhost:8080/"
        },
        "id": "2lbCnaekD0iB",
        "outputId": "fc611af6-0d91-4d37-9c07-71d39c21f8ff"
      },
      "outputs": [
        {
          "data": {
            "text/plain": [
              "9.6955"
            ]
          },
          "execution_count": 13,
          "metadata": {},
          "output_type": "execute_result"
        }
      ],
      "source": [
        "# prediction for 6th observation:\n",
        "\n",
        "-1.8165 + 0.0164 * 116 + 0.3291 * 16 + 0.5430 * 8"
      ]
    },
    {
      "cell_type": "code",
      "execution_count": 14,
      "metadata": {},
      "outputs": [
        {
          "data": {
            "text/plain": [
              "9.691237810837043"
            ]
          },
          "execution_count": 14,
          "metadata": {},
          "output_type": "execute_result"
        }
      ],
      "source": [
        "reg.predict(df[['IQ','educ','meduc']])[5]"
      ]
    },
    {
      "cell_type": "code",
      "execution_count": 15,
      "metadata": {
        "id": "QhBKAFzCBzC6"
      },
      "outputs": [],
      "source": [
        "df['feduc'].fillna(missing_predictions,axis=0, inplace=True )\n"
      ]
    },
    {
      "cell_type": "code",
      "execution_count": 16,
      "metadata": {
        "colab": {
          "base_uri": "https://localhost:8080/",
          "height": 363
        },
        "id": "nI-BlGo1-kTo",
        "outputId": "4da44dbc-7d5f-4f16-e402-8072c59e076d"
      },
      "outputs": [
        {
          "data": {
            "text/html": [
              "<div>\n",
              "<style scoped>\n",
              "    .dataframe tbody tr th:only-of-type {\n",
              "        vertical-align: middle;\n",
              "    }\n",
              "\n",
              "    .dataframe tbody tr th {\n",
              "        vertical-align: top;\n",
              "    }\n",
              "\n",
              "    .dataframe thead th {\n",
              "        text-align: right;\n",
              "    }\n",
              "</style>\n",
              "<table border=\"1\" class=\"dataframe\">\n",
              "  <thead>\n",
              "    <tr style=\"text-align: right;\">\n",
              "      <th></th>\n",
              "      <th>wage</th>\n",
              "      <th>hours</th>\n",
              "      <th>IQ</th>\n",
              "      <th>educ</th>\n",
              "      <th>exper</th>\n",
              "      <th>tenure</th>\n",
              "      <th>age</th>\n",
              "      <th>married</th>\n",
              "      <th>black</th>\n",
              "      <th>meduc</th>\n",
              "      <th>feduc</th>\n",
              "    </tr>\n",
              "  </thead>\n",
              "  <tbody>\n",
              "    <tr>\n",
              "      <th>0</th>\n",
              "      <td>76900.0</td>\n",
              "      <td>40</td>\n",
              "      <td>93</td>\n",
              "      <td>12</td>\n",
              "      <td>11</td>\n",
              "      <td>2</td>\n",
              "      <td>31</td>\n",
              "      <td>1</td>\n",
              "      <td>0</td>\n",
              "      <td>8.0</td>\n",
              "      <td>8.000000</td>\n",
              "    </tr>\n",
              "    <tr>\n",
              "      <th>1</th>\n",
              "      <td>80800.0</td>\n",
              "      <td>50</td>\n",
              "      <td>119</td>\n",
              "      <td>18</td>\n",
              "      <td>11</td>\n",
              "      <td>16</td>\n",
              "      <td>37</td>\n",
              "      <td>1</td>\n",
              "      <td>0</td>\n",
              "      <td>14.0</td>\n",
              "      <td>14.000000</td>\n",
              "    </tr>\n",
              "    <tr>\n",
              "      <th>2</th>\n",
              "      <td>82500.0</td>\n",
              "      <td>40</td>\n",
              "      <td>108</td>\n",
              "      <td>14</td>\n",
              "      <td>11</td>\n",
              "      <td>9</td>\n",
              "      <td>33</td>\n",
              "      <td>1</td>\n",
              "      <td>0</td>\n",
              "      <td>14.0</td>\n",
              "      <td>14.000000</td>\n",
              "    </tr>\n",
              "    <tr>\n",
              "      <th>3</th>\n",
              "      <td>65000.0</td>\n",
              "      <td>40</td>\n",
              "      <td>96</td>\n",
              "      <td>12</td>\n",
              "      <td>13</td>\n",
              "      <td>7</td>\n",
              "      <td>32</td>\n",
              "      <td>1</td>\n",
              "      <td>0</td>\n",
              "      <td>12.0</td>\n",
              "      <td>12.000000</td>\n",
              "    </tr>\n",
              "    <tr>\n",
              "      <th>4</th>\n",
              "      <td>56200.0</td>\n",
              "      <td>40</td>\n",
              "      <td>74</td>\n",
              "      <td>11</td>\n",
              "      <td>14</td>\n",
              "      <td>5</td>\n",
              "      <td>34</td>\n",
              "      <td>1</td>\n",
              "      <td>0</td>\n",
              "      <td>6.0</td>\n",
              "      <td>11.000000</td>\n",
              "    </tr>\n",
              "    <tr>\n",
              "      <th>5</th>\n",
              "      <td>140000.0</td>\n",
              "      <td>40</td>\n",
              "      <td>116</td>\n",
              "      <td>16</td>\n",
              "      <td>14</td>\n",
              "      <td>2</td>\n",
              "      <td>35</td>\n",
              "      <td>1</td>\n",
              "      <td>1</td>\n",
              "      <td>8.0</td>\n",
              "      <td>9.691238</td>\n",
              "    </tr>\n",
              "    <tr>\n",
              "      <th>6</th>\n",
              "      <td>60000.0</td>\n",
              "      <td>40</td>\n",
              "      <td>91</td>\n",
              "      <td>10</td>\n",
              "      <td>13</td>\n",
              "      <td>0</td>\n",
              "      <td>30</td>\n",
              "      <td>0</td>\n",
              "      <td>0</td>\n",
              "      <td>8.0</td>\n",
              "      <td>8.000000</td>\n",
              "    </tr>\n",
              "    <tr>\n",
              "      <th>7</th>\n",
              "      <td>108100.0</td>\n",
              "      <td>40</td>\n",
              "      <td>114</td>\n",
              "      <td>18</td>\n",
              "      <td>8</td>\n",
              "      <td>14</td>\n",
              "      <td>38</td>\n",
              "      <td>1</td>\n",
              "      <td>0</td>\n",
              "      <td>8.0</td>\n",
              "      <td>10.316720</td>\n",
              "    </tr>\n",
              "    <tr>\n",
              "      <th>8</th>\n",
              "      <td>115400.0</td>\n",
              "      <td>45</td>\n",
              "      <td>111</td>\n",
              "      <td>15</td>\n",
              "      <td>13</td>\n",
              "      <td>1</td>\n",
              "      <td>36</td>\n",
              "      <td>1</td>\n",
              "      <td>0</td>\n",
              "      <td>14.0</td>\n",
              "      <td>5.000000</td>\n",
              "    </tr>\n",
              "    <tr>\n",
              "      <th>9</th>\n",
              "      <td>100000.0</td>\n",
              "      <td>40</td>\n",
              "      <td>95</td>\n",
              "      <td>12</td>\n",
              "      <td>16</td>\n",
              "      <td>16</td>\n",
              "      <td>36</td>\n",
              "      <td>1</td>\n",
              "      <td>0</td>\n",
              "      <td>12.0</td>\n",
              "      <td>11.000000</td>\n",
              "    </tr>\n",
              "  </tbody>\n",
              "</table>\n",
              "</div>"
            ],
            "text/plain": [
              "       wage  hours   IQ  educ  exper  tenure  age  married  black  meduc  \\\n",
              "0   76900.0     40   93    12     11       2   31        1      0    8.0   \n",
              "1   80800.0     50  119    18     11      16   37        1      0   14.0   \n",
              "2   82500.0     40  108    14     11       9   33        1      0   14.0   \n",
              "3   65000.0     40   96    12     13       7   32        1      0   12.0   \n",
              "4   56200.0     40   74    11     14       5   34        1      0    6.0   \n",
              "5  140000.0     40  116    16     14       2   35        1      1    8.0   \n",
              "6   60000.0     40   91    10     13       0   30        0      0    8.0   \n",
              "7  108100.0     40  114    18      8      14   38        1      0    8.0   \n",
              "8  115400.0     45  111    15     13       1   36        1      0   14.0   \n",
              "9  100000.0     40   95    12     16      16   36        1      0   12.0   \n",
              "\n",
              "       feduc  \n",
              "0   8.000000  \n",
              "1  14.000000  \n",
              "2  14.000000  \n",
              "3  12.000000  \n",
              "4  11.000000  \n",
              "5   9.691238  \n",
              "6   8.000000  \n",
              "7  10.316720  \n",
              "8   5.000000  \n",
              "9  11.000000  "
            ]
          },
          "execution_count": 16,
          "metadata": {},
          "output_type": "execute_result"
        }
      ],
      "source": [
        "df.head(10)"
      ]
    },
    {
      "attachments": {},
      "cell_type": "markdown",
      "metadata": {},
      "source": [
        "## Defining the variables and splitting the data"
      ]
    },
    {
      "cell_type": "code",
      "execution_count": 17,
      "metadata": {},
      "outputs": [],
      "source": [
        "y = df['wage']\n",
        "X = df.drop('wage', axis=1) # becareful inplace= False\n",
        "\n",
        "from sklearn.model_selection import train_test_split\n",
        "X_train, X_test, y_train, y_test = train_test_split(X, y, test_size=0.2, random_state=rand_state)"
      ]
    },
    {
      "cell_type": "code",
      "execution_count": 18,
      "metadata": {},
      "outputs": [
        {
          "data": {
            "text/html": [
              "<div>\n",
              "<style scoped>\n",
              "    .dataframe tbody tr th:only-of-type {\n",
              "        vertical-align: middle;\n",
              "    }\n",
              "\n",
              "    .dataframe tbody tr th {\n",
              "        vertical-align: top;\n",
              "    }\n",
              "\n",
              "    .dataframe thead th {\n",
              "        text-align: right;\n",
              "    }\n",
              "</style>\n",
              "<table border=\"1\" class=\"dataframe\">\n",
              "  <thead>\n",
              "    <tr style=\"text-align: right;\">\n",
              "      <th></th>\n",
              "      <th>hours</th>\n",
              "      <th>IQ</th>\n",
              "      <th>educ</th>\n",
              "      <th>exper</th>\n",
              "      <th>tenure</th>\n",
              "      <th>age</th>\n",
              "      <th>married</th>\n",
              "      <th>black</th>\n",
              "      <th>meduc</th>\n",
              "      <th>feduc</th>\n",
              "    </tr>\n",
              "  </thead>\n",
              "  <tbody>\n",
              "    <tr>\n",
              "      <th>932</th>\n",
              "      <td>45</td>\n",
              "      <td>77</td>\n",
              "      <td>12</td>\n",
              "      <td>12</td>\n",
              "      <td>10</td>\n",
              "      <td>28</td>\n",
              "      <td>1</td>\n",
              "      <td>1</td>\n",
              "      <td>7.0</td>\n",
              "      <td>7.193731</td>\n",
              "    </tr>\n",
              "    <tr>\n",
              "      <th>82</th>\n",
              "      <td>40</td>\n",
              "      <td>96</td>\n",
              "      <td>11</td>\n",
              "      <td>15</td>\n",
              "      <td>3</td>\n",
              "      <td>37</td>\n",
              "      <td>1</td>\n",
              "      <td>0</td>\n",
              "      <td>8.0</td>\n",
              "      <td>8.000000</td>\n",
              "    </tr>\n",
              "    <tr>\n",
              "      <th>370</th>\n",
              "      <td>40</td>\n",
              "      <td>123</td>\n",
              "      <td>17</td>\n",
              "      <td>14</td>\n",
              "      <td>7</td>\n",
              "      <td>38</td>\n",
              "      <td>1</td>\n",
              "      <td>0</td>\n",
              "      <td>12.0</td>\n",
              "      <td>6.000000</td>\n",
              "    </tr>\n",
              "    <tr>\n",
              "      <th>452</th>\n",
              "      <td>40</td>\n",
              "      <td>109</td>\n",
              "      <td>12</td>\n",
              "      <td>14</td>\n",
              "      <td>1</td>\n",
              "      <td>36</td>\n",
              "      <td>1</td>\n",
              "      <td>0</td>\n",
              "      <td>9.0</td>\n",
              "      <td>7.000000</td>\n",
              "    </tr>\n",
              "    <tr>\n",
              "      <th>132</th>\n",
              "      <td>40</td>\n",
              "      <td>97</td>\n",
              "      <td>12</td>\n",
              "      <td>10</td>\n",
              "      <td>4</td>\n",
              "      <td>31</td>\n",
              "      <td>1</td>\n",
              "      <td>0</td>\n",
              "      <td>12.0</td>\n",
              "      <td>12.000000</td>\n",
              "    </tr>\n",
              "  </tbody>\n",
              "</table>\n",
              "</div>"
            ],
            "text/plain": [
              "     hours   IQ  educ  exper  tenure  age  married  black  meduc      feduc\n",
              "932     45   77    12     12      10   28        1      1    7.0   7.193731\n",
              "82      40   96    11     15       3   37        1      0    8.0   8.000000\n",
              "370     40  123    17     14       7   38        1      0   12.0   6.000000\n",
              "452     40  109    12     14       1   36        1      0    9.0   7.000000\n",
              "132     40   97    12     10       4   31        1      0   12.0  12.000000"
            ]
          },
          "execution_count": 18,
          "metadata": {},
          "output_type": "execute_result"
        }
      ],
      "source": [
        "X_train.head()"
      ]
    },
    {
      "cell_type": "markdown",
      "metadata": {},
      "source": [
        "## Scaling the features: \n",
        "\n",
        "The following step is very important for **KNN regression**. Because any variable on the larger scale, has a larger effect on the distance between observations. \n",
        "\n",
        "In this data set, because married and black are dummy variables, we don't need to standardize them! "
      ]
    },
    {
      "cell_type": "code",
      "execution_count": 19,
      "metadata": {
        "id": "6Pu4F8Fh-kTp"
      },
      "outputs": [],
      "source": [
        "from sklearn.preprocessing import StandardScaler\n",
        "sc=StandardScaler()"
      ]
    },
    {
      "cell_type": "code",
      "execution_count": 20,
      "metadata": {},
      "outputs": [],
      "source": [
        "X_train_sc = pd.DataFrame(sc.fit_transform(X_train), columns=X_train.columns)\n",
        "X_test_sc = pd.DataFrame(sc.transform(X_test), columns=X_test.columns)"
      ]
    },
    {
      "cell_type": "code",
      "execution_count": 21,
      "metadata": {},
      "outputs": [
        {
          "data": {
            "text/html": [
              "<div>\n",
              "<style scoped>\n",
              "    .dataframe tbody tr th:only-of-type {\n",
              "        vertical-align: middle;\n",
              "    }\n",
              "\n",
              "    .dataframe tbody tr th {\n",
              "        vertical-align: top;\n",
              "    }\n",
              "\n",
              "    .dataframe thead th {\n",
              "        text-align: right;\n",
              "    }\n",
              "</style>\n",
              "<table border=\"1\" class=\"dataframe\">\n",
              "  <thead>\n",
              "    <tr style=\"text-align: right;\">\n",
              "      <th></th>\n",
              "      <th>hours</th>\n",
              "      <th>IQ</th>\n",
              "      <th>educ</th>\n",
              "      <th>exper</th>\n",
              "      <th>tenure</th>\n",
              "      <th>age</th>\n",
              "      <th>married</th>\n",
              "      <th>black</th>\n",
              "      <th>meduc</th>\n",
              "      <th>feduc</th>\n",
              "    </tr>\n",
              "  </thead>\n",
              "  <tbody>\n",
              "    <tr>\n",
              "      <th>932</th>\n",
              "      <td>45</td>\n",
              "      <td>77</td>\n",
              "      <td>12</td>\n",
              "      <td>12</td>\n",
              "      <td>10</td>\n",
              "      <td>28</td>\n",
              "      <td>1</td>\n",
              "      <td>1</td>\n",
              "      <td>7.0</td>\n",
              "      <td>7.193731</td>\n",
              "    </tr>\n",
              "    <tr>\n",
              "      <th>82</th>\n",
              "      <td>40</td>\n",
              "      <td>96</td>\n",
              "      <td>11</td>\n",
              "      <td>15</td>\n",
              "      <td>3</td>\n",
              "      <td>37</td>\n",
              "      <td>1</td>\n",
              "      <td>0</td>\n",
              "      <td>8.0</td>\n",
              "      <td>8.000000</td>\n",
              "    </tr>\n",
              "    <tr>\n",
              "      <th>370</th>\n",
              "      <td>40</td>\n",
              "      <td>123</td>\n",
              "      <td>17</td>\n",
              "      <td>14</td>\n",
              "      <td>7</td>\n",
              "      <td>38</td>\n",
              "      <td>1</td>\n",
              "      <td>0</td>\n",
              "      <td>12.0</td>\n",
              "      <td>6.000000</td>\n",
              "    </tr>\n",
              "    <tr>\n",
              "      <th>452</th>\n",
              "      <td>40</td>\n",
              "      <td>109</td>\n",
              "      <td>12</td>\n",
              "      <td>14</td>\n",
              "      <td>1</td>\n",
              "      <td>36</td>\n",
              "      <td>1</td>\n",
              "      <td>0</td>\n",
              "      <td>9.0</td>\n",
              "      <td>7.000000</td>\n",
              "    </tr>\n",
              "    <tr>\n",
              "      <th>132</th>\n",
              "      <td>40</td>\n",
              "      <td>97</td>\n",
              "      <td>12</td>\n",
              "      <td>10</td>\n",
              "      <td>4</td>\n",
              "      <td>31</td>\n",
              "      <td>1</td>\n",
              "      <td>0</td>\n",
              "      <td>12.0</td>\n",
              "      <td>12.000000</td>\n",
              "    </tr>\n",
              "  </tbody>\n",
              "</table>\n",
              "</div>"
            ],
            "text/plain": [
              "     hours   IQ  educ  exper  tenure  age  married  black  meduc      feduc\n",
              "932     45   77    12     12      10   28        1      1    7.0   7.193731\n",
              "82      40   96    11     15       3   37        1      0    8.0   8.000000\n",
              "370     40  123    17     14       7   38        1      0   12.0   6.000000\n",
              "452     40  109    12     14       1   36        1      0    9.0   7.000000\n",
              "132     40   97    12     10       4   31        1      0   12.0  12.000000"
            ]
          },
          "execution_count": 21,
          "metadata": {},
          "output_type": "execute_result"
        }
      ],
      "source": [
        "X_train.head()"
      ]
    },
    {
      "cell_type": "code",
      "execution_count": 22,
      "metadata": {},
      "outputs": [
        {
          "data": {
            "text/html": [
              "<div>\n",
              "<style scoped>\n",
              "    .dataframe tbody tr th:only-of-type {\n",
              "        vertical-align: middle;\n",
              "    }\n",
              "\n",
              "    .dataframe tbody tr th {\n",
              "        vertical-align: top;\n",
              "    }\n",
              "\n",
              "    .dataframe thead th {\n",
              "        text-align: right;\n",
              "    }\n",
              "</style>\n",
              "<table border=\"1\" class=\"dataframe\">\n",
              "  <thead>\n",
              "    <tr style=\"text-align: right;\">\n",
              "      <th></th>\n",
              "      <th>hours</th>\n",
              "      <th>IQ</th>\n",
              "      <th>educ</th>\n",
              "      <th>exper</th>\n",
              "      <th>tenure</th>\n",
              "      <th>age</th>\n",
              "      <th>married</th>\n",
              "      <th>black</th>\n",
              "      <th>meduc</th>\n",
              "      <th>feduc</th>\n",
              "    </tr>\n",
              "  </thead>\n",
              "  <tbody>\n",
              "    <tr>\n",
              "      <th>0</th>\n",
              "      <td>0.148444</td>\n",
              "      <td>-1.586791</td>\n",
              "      <td>-0.648794</td>\n",
              "      <td>0.092863</td>\n",
              "      <td>0.584802</td>\n",
              "      <td>-1.643250</td>\n",
              "      <td>0.341201</td>\n",
              "      <td>2.637697</td>\n",
              "      <td>-1.355775</td>\n",
              "      <td>-0.976840</td>\n",
              "    </tr>\n",
              "    <tr>\n",
              "      <th>1</th>\n",
              "      <td>-0.536120</td>\n",
              "      <td>-0.327846</td>\n",
              "      <td>-1.108793</td>\n",
              "      <td>0.785168</td>\n",
              "      <td>-0.801356</td>\n",
              "      <td>1.281753</td>\n",
              "      <td>0.341201</td>\n",
              "      <td>-0.379119</td>\n",
              "      <td>-0.993719</td>\n",
              "      <td>-0.709917</td>\n",
              "    </tr>\n",
              "    <tr>\n",
              "      <th>2</th>\n",
              "      <td>-0.536120</td>\n",
              "      <td>1.461180</td>\n",
              "      <td>1.651197</td>\n",
              "      <td>0.554400</td>\n",
              "      <td>-0.009266</td>\n",
              "      <td>1.606753</td>\n",
              "      <td>0.341201</td>\n",
              "      <td>-0.379119</td>\n",
              "      <td>0.454507</td>\n",
              "      <td>-1.372034</td>\n",
              "    </tr>\n",
              "    <tr>\n",
              "      <th>3</th>\n",
              "      <td>-0.536120</td>\n",
              "      <td>0.533537</td>\n",
              "      <td>-0.648794</td>\n",
              "      <td>0.554400</td>\n",
              "      <td>-1.197400</td>\n",
              "      <td>0.956752</td>\n",
              "      <td>0.341201</td>\n",
              "      <td>-0.379119</td>\n",
              "      <td>-0.631663</td>\n",
              "      <td>-1.040976</td>\n",
              "    </tr>\n",
              "    <tr>\n",
              "      <th>4</th>\n",
              "      <td>-0.536120</td>\n",
              "      <td>-0.261586</td>\n",
              "      <td>-0.648794</td>\n",
              "      <td>-0.368674</td>\n",
              "      <td>-0.603333</td>\n",
              "      <td>-0.668249</td>\n",
              "      <td>0.341201</td>\n",
              "      <td>-0.379119</td>\n",
              "      <td>0.454507</td>\n",
              "      <td>0.614316</td>\n",
              "    </tr>\n",
              "  </tbody>\n",
              "</table>\n",
              "</div>"
            ],
            "text/plain": [
              "      hours        IQ      educ     exper    tenure       age   married  \\\n",
              "0  0.148444 -1.586791 -0.648794  0.092863  0.584802 -1.643250  0.341201   \n",
              "1 -0.536120 -0.327846 -1.108793  0.785168 -0.801356  1.281753  0.341201   \n",
              "2 -0.536120  1.461180  1.651197  0.554400 -0.009266  1.606753  0.341201   \n",
              "3 -0.536120  0.533537 -0.648794  0.554400 -1.197400  0.956752  0.341201   \n",
              "4 -0.536120 -0.261586 -0.648794 -0.368674 -0.603333 -0.668249  0.341201   \n",
              "\n",
              "      black     meduc     feduc  \n",
              "0  2.637697 -1.355775 -0.976840  \n",
              "1 -0.379119 -0.993719 -0.709917  \n",
              "2 -0.379119  0.454507 -1.372034  \n",
              "3 -0.379119 -0.631663 -1.040976  \n",
              "4 -0.379119  0.454507  0.614316  "
            ]
          },
          "execution_count": 22,
          "metadata": {},
          "output_type": "execute_result"
        }
      ],
      "source": [
        "X_train_sc.head()"
      ]
    },
    {
      "attachments": {},
      "cell_type": "markdown",
      "metadata": {},
      "source": [
        "Pay attention to the index of X_train vs X_train_sc! we need to reset the X_train index. https://pandas.pydata.org/docs/reference/api/pandas.DataFrame.reset_index.html"
      ]
    },
    {
      "cell_type": "code",
      "execution_count": 23,
      "metadata": {},
      "outputs": [
        {
          "data": {
            "text/html": [
              "<div>\n",
              "<style scoped>\n",
              "    .dataframe tbody tr th:only-of-type {\n",
              "        vertical-align: middle;\n",
              "    }\n",
              "\n",
              "    .dataframe tbody tr th {\n",
              "        vertical-align: top;\n",
              "    }\n",
              "\n",
              "    .dataframe thead th {\n",
              "        text-align: right;\n",
              "    }\n",
              "</style>\n",
              "<table border=\"1\" class=\"dataframe\">\n",
              "  <thead>\n",
              "    <tr style=\"text-align: right;\">\n",
              "      <th></th>\n",
              "      <th>hours</th>\n",
              "      <th>IQ</th>\n",
              "      <th>educ</th>\n",
              "      <th>exper</th>\n",
              "      <th>tenure</th>\n",
              "      <th>age</th>\n",
              "      <th>married</th>\n",
              "      <th>black</th>\n",
              "      <th>meduc</th>\n",
              "      <th>feduc</th>\n",
              "    </tr>\n",
              "  </thead>\n",
              "  <tbody>\n",
              "    <tr>\n",
              "      <th>0</th>\n",
              "      <td>45</td>\n",
              "      <td>77</td>\n",
              "      <td>12</td>\n",
              "      <td>12</td>\n",
              "      <td>10</td>\n",
              "      <td>28</td>\n",
              "      <td>1</td>\n",
              "      <td>1</td>\n",
              "      <td>7.0</td>\n",
              "      <td>7.193731</td>\n",
              "    </tr>\n",
              "    <tr>\n",
              "      <th>1</th>\n",
              "      <td>40</td>\n",
              "      <td>96</td>\n",
              "      <td>11</td>\n",
              "      <td>15</td>\n",
              "      <td>3</td>\n",
              "      <td>37</td>\n",
              "      <td>1</td>\n",
              "      <td>0</td>\n",
              "      <td>8.0</td>\n",
              "      <td>8.000000</td>\n",
              "    </tr>\n",
              "    <tr>\n",
              "      <th>2</th>\n",
              "      <td>40</td>\n",
              "      <td>123</td>\n",
              "      <td>17</td>\n",
              "      <td>14</td>\n",
              "      <td>7</td>\n",
              "      <td>38</td>\n",
              "      <td>1</td>\n",
              "      <td>0</td>\n",
              "      <td>12.0</td>\n",
              "      <td>6.000000</td>\n",
              "    </tr>\n",
              "    <tr>\n",
              "      <th>3</th>\n",
              "      <td>40</td>\n",
              "      <td>109</td>\n",
              "      <td>12</td>\n",
              "      <td>14</td>\n",
              "      <td>1</td>\n",
              "      <td>36</td>\n",
              "      <td>1</td>\n",
              "      <td>0</td>\n",
              "      <td>9.0</td>\n",
              "      <td>7.000000</td>\n",
              "    </tr>\n",
              "    <tr>\n",
              "      <th>4</th>\n",
              "      <td>40</td>\n",
              "      <td>97</td>\n",
              "      <td>12</td>\n",
              "      <td>10</td>\n",
              "      <td>4</td>\n",
              "      <td>31</td>\n",
              "      <td>1</td>\n",
              "      <td>0</td>\n",
              "      <td>12.0</td>\n",
              "      <td>12.000000</td>\n",
              "    </tr>\n",
              "  </tbody>\n",
              "</table>\n",
              "</div>"
            ],
            "text/plain": [
              "   hours   IQ  educ  exper  tenure  age  married  black  meduc      feduc\n",
              "0     45   77    12     12      10   28        1      1    7.0   7.193731\n",
              "1     40   96    11     15       3   37        1      0    8.0   8.000000\n",
              "2     40  123    17     14       7   38        1      0   12.0   6.000000\n",
              "3     40  109    12     14       1   36        1      0    9.0   7.000000\n",
              "4     40   97    12     10       4   31        1      0   12.0  12.000000"
            ]
          },
          "execution_count": 23,
          "metadata": {},
          "output_type": "execute_result"
        }
      ],
      "source": [
        "X_train.reset_index(drop=True, inplace=True)\n",
        "X_train.head()"
      ]
    },
    {
      "cell_type": "code",
      "execution_count": 24,
      "metadata": {},
      "outputs": [
        {
          "data": {
            "text/html": [
              "<div>\n",
              "<style scoped>\n",
              "    .dataframe tbody tr th:only-of-type {\n",
              "        vertical-align: middle;\n",
              "    }\n",
              "\n",
              "    .dataframe tbody tr th {\n",
              "        vertical-align: top;\n",
              "    }\n",
              "\n",
              "    .dataframe thead th {\n",
              "        text-align: right;\n",
              "    }\n",
              "</style>\n",
              "<table border=\"1\" class=\"dataframe\">\n",
              "  <thead>\n",
              "    <tr style=\"text-align: right;\">\n",
              "      <th></th>\n",
              "      <th>hours</th>\n",
              "      <th>IQ</th>\n",
              "      <th>educ</th>\n",
              "      <th>exper</th>\n",
              "      <th>tenure</th>\n",
              "      <th>age</th>\n",
              "      <th>married</th>\n",
              "      <th>black</th>\n",
              "      <th>meduc</th>\n",
              "      <th>feduc</th>\n",
              "    </tr>\n",
              "  </thead>\n",
              "  <tbody>\n",
              "    <tr>\n",
              "      <th>0</th>\n",
              "      <td>40</td>\n",
              "      <td>101</td>\n",
              "      <td>13</td>\n",
              "      <td>12</td>\n",
              "      <td>10</td>\n",
              "      <td>30</td>\n",
              "      <td>1</td>\n",
              "      <td>0</td>\n",
              "      <td>12.0</td>\n",
              "      <td>13.000000</td>\n",
              "    </tr>\n",
              "    <tr>\n",
              "      <th>1</th>\n",
              "      <td>50</td>\n",
              "      <td>117</td>\n",
              "      <td>18</td>\n",
              "      <td>12</td>\n",
              "      <td>12</td>\n",
              "      <td>37</td>\n",
              "      <td>1</td>\n",
              "      <td>0</td>\n",
              "      <td>12.0</td>\n",
              "      <td>8.000000</td>\n",
              "    </tr>\n",
              "    <tr>\n",
              "      <th>2</th>\n",
              "      <td>40</td>\n",
              "      <td>77</td>\n",
              "      <td>12</td>\n",
              "      <td>20</td>\n",
              "      <td>4</td>\n",
              "      <td>38</td>\n",
              "      <td>1</td>\n",
              "      <td>1</td>\n",
              "      <td>12.0</td>\n",
              "      <td>6.000000</td>\n",
              "    </tr>\n",
              "    <tr>\n",
              "      <th>3</th>\n",
              "      <td>40</td>\n",
              "      <td>127</td>\n",
              "      <td>18</td>\n",
              "      <td>9</td>\n",
              "      <td>14</td>\n",
              "      <td>36</td>\n",
              "      <td>0</td>\n",
              "      <td>0</td>\n",
              "      <td>10.0</td>\n",
              "      <td>11.615484</td>\n",
              "    </tr>\n",
              "    <tr>\n",
              "      <th>4</th>\n",
              "      <td>60</td>\n",
              "      <td>124</td>\n",
              "      <td>16</td>\n",
              "      <td>6</td>\n",
              "      <td>6</td>\n",
              "      <td>29</td>\n",
              "      <td>1</td>\n",
              "      <td>0</td>\n",
              "      <td>12.0</td>\n",
              "      <td>10.000000</td>\n",
              "    </tr>\n",
              "  </tbody>\n",
              "</table>\n",
              "</div>"
            ],
            "text/plain": [
              "   hours   IQ  educ  exper  tenure  age  married  black  meduc      feduc\n",
              "0     40  101    13     12      10   30        1      0   12.0  13.000000\n",
              "1     50  117    18     12      12   37        1      0   12.0   8.000000\n",
              "2     40   77    12     20       4   38        1      1   12.0   6.000000\n",
              "3     40  127    18      9      14   36        0      0   10.0  11.615484\n",
              "4     60  124    16      6       6   29        1      0   12.0  10.000000"
            ]
          },
          "execution_count": 24,
          "metadata": {},
          "output_type": "execute_result"
        }
      ],
      "source": [
        "X_test.reset_index(drop=True, inplace=True)\n",
        "X_test.head()"
      ]
    },
    {
      "cell_type": "code",
      "execution_count": 25,
      "metadata": {},
      "outputs": [],
      "source": [
        "categoricals = ['black', 'married']"
      ]
    },
    {
      "cell_type": "code",
      "execution_count": 26,
      "metadata": {},
      "outputs": [],
      "source": [
        "for cat in categoricals:\n",
        "    X_train_sc[cat]= X_train[cat]\n",
        "    X_test_sc[cat]= X_test[cat]"
      ]
    },
    {
      "cell_type": "code",
      "execution_count": 27,
      "metadata": {},
      "outputs": [
        {
          "data": {
            "text/html": [
              "<div>\n",
              "<style scoped>\n",
              "    .dataframe tbody tr th:only-of-type {\n",
              "        vertical-align: middle;\n",
              "    }\n",
              "\n",
              "    .dataframe tbody tr th {\n",
              "        vertical-align: top;\n",
              "    }\n",
              "\n",
              "    .dataframe thead th {\n",
              "        text-align: right;\n",
              "    }\n",
              "</style>\n",
              "<table border=\"1\" class=\"dataframe\">\n",
              "  <thead>\n",
              "    <tr style=\"text-align: right;\">\n",
              "      <th></th>\n",
              "      <th>hours</th>\n",
              "      <th>IQ</th>\n",
              "      <th>educ</th>\n",
              "      <th>exper</th>\n",
              "      <th>tenure</th>\n",
              "      <th>age</th>\n",
              "      <th>married</th>\n",
              "      <th>black</th>\n",
              "      <th>meduc</th>\n",
              "      <th>feduc</th>\n",
              "    </tr>\n",
              "  </thead>\n",
              "  <tbody>\n",
              "    <tr>\n",
              "      <th>0</th>\n",
              "      <td>0.148444</td>\n",
              "      <td>-1.586791</td>\n",
              "      <td>-0.648794</td>\n",
              "      <td>0.092863</td>\n",
              "      <td>0.584802</td>\n",
              "      <td>-1.643250</td>\n",
              "      <td>1</td>\n",
              "      <td>1</td>\n",
              "      <td>-1.355775</td>\n",
              "      <td>-0.976840</td>\n",
              "    </tr>\n",
              "    <tr>\n",
              "      <th>1</th>\n",
              "      <td>-0.536120</td>\n",
              "      <td>-0.327846</td>\n",
              "      <td>-1.108793</td>\n",
              "      <td>0.785168</td>\n",
              "      <td>-0.801356</td>\n",
              "      <td>1.281753</td>\n",
              "      <td>1</td>\n",
              "      <td>0</td>\n",
              "      <td>-0.993719</td>\n",
              "      <td>-0.709917</td>\n",
              "    </tr>\n",
              "    <tr>\n",
              "      <th>2</th>\n",
              "      <td>-0.536120</td>\n",
              "      <td>1.461180</td>\n",
              "      <td>1.651197</td>\n",
              "      <td>0.554400</td>\n",
              "      <td>-0.009266</td>\n",
              "      <td>1.606753</td>\n",
              "      <td>1</td>\n",
              "      <td>0</td>\n",
              "      <td>0.454507</td>\n",
              "      <td>-1.372034</td>\n",
              "    </tr>\n",
              "    <tr>\n",
              "      <th>3</th>\n",
              "      <td>-0.536120</td>\n",
              "      <td>0.533537</td>\n",
              "      <td>-0.648794</td>\n",
              "      <td>0.554400</td>\n",
              "      <td>-1.197400</td>\n",
              "      <td>0.956752</td>\n",
              "      <td>1</td>\n",
              "      <td>0</td>\n",
              "      <td>-0.631663</td>\n",
              "      <td>-1.040976</td>\n",
              "    </tr>\n",
              "    <tr>\n",
              "      <th>4</th>\n",
              "      <td>-0.536120</td>\n",
              "      <td>-0.261586</td>\n",
              "      <td>-0.648794</td>\n",
              "      <td>-0.368674</td>\n",
              "      <td>-0.603333</td>\n",
              "      <td>-0.668249</td>\n",
              "      <td>1</td>\n",
              "      <td>0</td>\n",
              "      <td>0.454507</td>\n",
              "      <td>0.614316</td>\n",
              "    </tr>\n",
              "  </tbody>\n",
              "</table>\n",
              "</div>"
            ],
            "text/plain": [
              "      hours        IQ      educ     exper    tenure       age  married  black  \\\n",
              "0  0.148444 -1.586791 -0.648794  0.092863  0.584802 -1.643250        1      1   \n",
              "1 -0.536120 -0.327846 -1.108793  0.785168 -0.801356  1.281753        1      0   \n",
              "2 -0.536120  1.461180  1.651197  0.554400 -0.009266  1.606753        1      0   \n",
              "3 -0.536120  0.533537 -0.648794  0.554400 -1.197400  0.956752        1      0   \n",
              "4 -0.536120 -0.261586 -0.648794 -0.368674 -0.603333 -0.668249        1      0   \n",
              "\n",
              "      meduc     feduc  \n",
              "0 -1.355775 -0.976840  \n",
              "1 -0.993719 -0.709917  \n",
              "2  0.454507 -1.372034  \n",
              "3 -0.631663 -1.040976  \n",
              "4  0.454507  0.614316  "
            ]
          },
          "execution_count": 27,
          "metadata": {},
          "output_type": "execute_result"
        }
      ],
      "source": [
        "X_train_sc.head()"
      ]
    },
    {
      "cell_type": "markdown",
      "metadata": {
        "id": "uB3WP33J-kTs"
      },
      "source": [
        "###  KNN Regression with Sklearn"
      ]
    },
    {
      "cell_type": "code",
      "execution_count": 28,
      "metadata": {
        "id": "5IsWorwf-kTs"
      },
      "outputs": [],
      "source": [
        "from sklearn.neighbors import KNeighborsRegressor"
      ]
    },
    {
      "cell_type": "code",
      "execution_count": 29,
      "metadata": {
        "colab": {
          "base_uri": "https://localhost:8080/"
        },
        "id": "TDUT9xvt-kTs",
        "outputId": "ed33032e-ccfd-42d7-f52b-a0ac82e472e1"
      },
      "outputs": [
        {
          "data": {
            "text/html": [
              "<style>#sk-container-id-1 {\n",
              "  /* Definition of color scheme common for light and dark mode */\n",
              "  --sklearn-color-text: black;\n",
              "  --sklearn-color-line: gray;\n",
              "  /* Definition of color scheme for unfitted estimators */\n",
              "  --sklearn-color-unfitted-level-0: #fff5e6;\n",
              "  --sklearn-color-unfitted-level-1: #f6e4d2;\n",
              "  --sklearn-color-unfitted-level-2: #ffe0b3;\n",
              "  --sklearn-color-unfitted-level-3: chocolate;\n",
              "  /* Definition of color scheme for fitted estimators */\n",
              "  --sklearn-color-fitted-level-0: #f0f8ff;\n",
              "  --sklearn-color-fitted-level-1: #d4ebff;\n",
              "  --sklearn-color-fitted-level-2: #b3dbfd;\n",
              "  --sklearn-color-fitted-level-3: cornflowerblue;\n",
              "\n",
              "  /* Specific color for light theme */\n",
              "  --sklearn-color-text-on-default-background: var(--sg-text-color, var(--theme-code-foreground, var(--jp-content-font-color1, black)));\n",
              "  --sklearn-color-background: var(--sg-background-color, var(--theme-background, var(--jp-layout-color0, white)));\n",
              "  --sklearn-color-border-box: var(--sg-text-color, var(--theme-code-foreground, var(--jp-content-font-color1, black)));\n",
              "  --sklearn-color-icon: #696969;\n",
              "\n",
              "  @media (prefers-color-scheme: dark) {\n",
              "    /* Redefinition of color scheme for dark theme */\n",
              "    --sklearn-color-text-on-default-background: var(--sg-text-color, var(--theme-code-foreground, var(--jp-content-font-color1, white)));\n",
              "    --sklearn-color-background: var(--sg-background-color, var(--theme-background, var(--jp-layout-color0, #111)));\n",
              "    --sklearn-color-border-box: var(--sg-text-color, var(--theme-code-foreground, var(--jp-content-font-color1, white)));\n",
              "    --sklearn-color-icon: #878787;\n",
              "  }\n",
              "}\n",
              "\n",
              "#sk-container-id-1 {\n",
              "  color: var(--sklearn-color-text);\n",
              "}\n",
              "\n",
              "#sk-container-id-1 pre {\n",
              "  padding: 0;\n",
              "}\n",
              "\n",
              "#sk-container-id-1 input.sk-hidden--visually {\n",
              "  border: 0;\n",
              "  clip: rect(1px 1px 1px 1px);\n",
              "  clip: rect(1px, 1px, 1px, 1px);\n",
              "  height: 1px;\n",
              "  margin: -1px;\n",
              "  overflow: hidden;\n",
              "  padding: 0;\n",
              "  position: absolute;\n",
              "  width: 1px;\n",
              "}\n",
              "\n",
              "#sk-container-id-1 div.sk-dashed-wrapped {\n",
              "  border: 1px dashed var(--sklearn-color-line);\n",
              "  margin: 0 0.4em 0.5em 0.4em;\n",
              "  box-sizing: border-box;\n",
              "  padding-bottom: 0.4em;\n",
              "  background-color: var(--sklearn-color-background);\n",
              "}\n",
              "\n",
              "#sk-container-id-1 div.sk-container {\n",
              "  /* jupyter's `normalize.less` sets `[hidden] { display: none; }`\n",
              "     but bootstrap.min.css set `[hidden] { display: none !important; }`\n",
              "     so we also need the `!important` here to be able to override the\n",
              "     default hidden behavior on the sphinx rendered scikit-learn.org.\n",
              "     See: https://github.com/scikit-learn/scikit-learn/issues/21755 */\n",
              "  display: inline-block !important;\n",
              "  position: relative;\n",
              "}\n",
              "\n",
              "#sk-container-id-1 div.sk-text-repr-fallback {\n",
              "  display: none;\n",
              "}\n",
              "\n",
              "div.sk-parallel-item,\n",
              "div.sk-serial,\n",
              "div.sk-item {\n",
              "  /* draw centered vertical line to link estimators */\n",
              "  background-image: linear-gradient(var(--sklearn-color-text-on-default-background), var(--sklearn-color-text-on-default-background));\n",
              "  background-size: 2px 100%;\n",
              "  background-repeat: no-repeat;\n",
              "  background-position: center center;\n",
              "}\n",
              "\n",
              "/* Parallel-specific style estimator block */\n",
              "\n",
              "#sk-container-id-1 div.sk-parallel-item::after {\n",
              "  content: \"\";\n",
              "  width: 100%;\n",
              "  border-bottom: 2px solid var(--sklearn-color-text-on-default-background);\n",
              "  flex-grow: 1;\n",
              "}\n",
              "\n",
              "#sk-container-id-1 div.sk-parallel {\n",
              "  display: flex;\n",
              "  align-items: stretch;\n",
              "  justify-content: center;\n",
              "  background-color: var(--sklearn-color-background);\n",
              "  position: relative;\n",
              "}\n",
              "\n",
              "#sk-container-id-1 div.sk-parallel-item {\n",
              "  display: flex;\n",
              "  flex-direction: column;\n",
              "}\n",
              "\n",
              "#sk-container-id-1 div.sk-parallel-item:first-child::after {\n",
              "  align-self: flex-end;\n",
              "  width: 50%;\n",
              "}\n",
              "\n",
              "#sk-container-id-1 div.sk-parallel-item:last-child::after {\n",
              "  align-self: flex-start;\n",
              "  width: 50%;\n",
              "}\n",
              "\n",
              "#sk-container-id-1 div.sk-parallel-item:only-child::after {\n",
              "  width: 0;\n",
              "}\n",
              "\n",
              "/* Serial-specific style estimator block */\n",
              "\n",
              "#sk-container-id-1 div.sk-serial {\n",
              "  display: flex;\n",
              "  flex-direction: column;\n",
              "  align-items: center;\n",
              "  background-color: var(--sklearn-color-background);\n",
              "  padding-right: 1em;\n",
              "  padding-left: 1em;\n",
              "}\n",
              "\n",
              "\n",
              "/* Toggleable style: style used for estimator/Pipeline/ColumnTransformer box that is\n",
              "clickable and can be expanded/collapsed.\n",
              "- Pipeline and ColumnTransformer use this feature and define the default style\n",
              "- Estimators will overwrite some part of the style using the `sk-estimator` class\n",
              "*/\n",
              "\n",
              "/* Pipeline and ColumnTransformer style (default) */\n",
              "\n",
              "#sk-container-id-1 div.sk-toggleable {\n",
              "  /* Default theme specific background. It is overwritten whether we have a\n",
              "  specific estimator or a Pipeline/ColumnTransformer */\n",
              "  background-color: var(--sklearn-color-background);\n",
              "}\n",
              "\n",
              "/* Toggleable label */\n",
              "#sk-container-id-1 label.sk-toggleable__label {\n",
              "  cursor: pointer;\n",
              "  display: block;\n",
              "  width: 100%;\n",
              "  margin-bottom: 0;\n",
              "  padding: 0.5em;\n",
              "  box-sizing: border-box;\n",
              "  text-align: center;\n",
              "}\n",
              "\n",
              "#sk-container-id-1 label.sk-toggleable__label-arrow:before {\n",
              "  /* Arrow on the left of the label */\n",
              "  content: \"▸\";\n",
              "  float: left;\n",
              "  margin-right: 0.25em;\n",
              "  color: var(--sklearn-color-icon);\n",
              "}\n",
              "\n",
              "#sk-container-id-1 label.sk-toggleable__label-arrow:hover:before {\n",
              "  color: var(--sklearn-color-text);\n",
              "}\n",
              "\n",
              "/* Toggleable content - dropdown */\n",
              "\n",
              "#sk-container-id-1 div.sk-toggleable__content {\n",
              "  max-height: 0;\n",
              "  max-width: 0;\n",
              "  overflow: hidden;\n",
              "  text-align: left;\n",
              "  /* unfitted */\n",
              "  background-color: var(--sklearn-color-unfitted-level-0);\n",
              "}\n",
              "\n",
              "#sk-container-id-1 div.sk-toggleable__content.fitted {\n",
              "  /* fitted */\n",
              "  background-color: var(--sklearn-color-fitted-level-0);\n",
              "}\n",
              "\n",
              "#sk-container-id-1 div.sk-toggleable__content pre {\n",
              "  margin: 0.2em;\n",
              "  border-radius: 0.25em;\n",
              "  color: var(--sklearn-color-text);\n",
              "  /* unfitted */\n",
              "  background-color: var(--sklearn-color-unfitted-level-0);\n",
              "}\n",
              "\n",
              "#sk-container-id-1 div.sk-toggleable__content.fitted pre {\n",
              "  /* unfitted */\n",
              "  background-color: var(--sklearn-color-fitted-level-0);\n",
              "}\n",
              "\n",
              "#sk-container-id-1 input.sk-toggleable__control:checked~div.sk-toggleable__content {\n",
              "  /* Expand drop-down */\n",
              "  max-height: 200px;\n",
              "  max-width: 100%;\n",
              "  overflow: auto;\n",
              "}\n",
              "\n",
              "#sk-container-id-1 input.sk-toggleable__control:checked~label.sk-toggleable__label-arrow:before {\n",
              "  content: \"▾\";\n",
              "}\n",
              "\n",
              "/* Pipeline/ColumnTransformer-specific style */\n",
              "\n",
              "#sk-container-id-1 div.sk-label input.sk-toggleable__control:checked~label.sk-toggleable__label {\n",
              "  color: var(--sklearn-color-text);\n",
              "  background-color: var(--sklearn-color-unfitted-level-2);\n",
              "}\n",
              "\n",
              "#sk-container-id-1 div.sk-label.fitted input.sk-toggleable__control:checked~label.sk-toggleable__label {\n",
              "  background-color: var(--sklearn-color-fitted-level-2);\n",
              "}\n",
              "\n",
              "/* Estimator-specific style */\n",
              "\n",
              "/* Colorize estimator box */\n",
              "#sk-container-id-1 div.sk-estimator input.sk-toggleable__control:checked~label.sk-toggleable__label {\n",
              "  /* unfitted */\n",
              "  background-color: var(--sklearn-color-unfitted-level-2);\n",
              "}\n",
              "\n",
              "#sk-container-id-1 div.sk-estimator.fitted input.sk-toggleable__control:checked~label.sk-toggleable__label {\n",
              "  /* fitted */\n",
              "  background-color: var(--sklearn-color-fitted-level-2);\n",
              "}\n",
              "\n",
              "#sk-container-id-1 div.sk-label label.sk-toggleable__label,\n",
              "#sk-container-id-1 div.sk-label label {\n",
              "  /* The background is the default theme color */\n",
              "  color: var(--sklearn-color-text-on-default-background);\n",
              "}\n",
              "\n",
              "/* On hover, darken the color of the background */\n",
              "#sk-container-id-1 div.sk-label:hover label.sk-toggleable__label {\n",
              "  color: var(--sklearn-color-text);\n",
              "  background-color: var(--sklearn-color-unfitted-level-2);\n",
              "}\n",
              "\n",
              "/* Label box, darken color on hover, fitted */\n",
              "#sk-container-id-1 div.sk-label.fitted:hover label.sk-toggleable__label.fitted {\n",
              "  color: var(--sklearn-color-text);\n",
              "  background-color: var(--sklearn-color-fitted-level-2);\n",
              "}\n",
              "\n",
              "/* Estimator label */\n",
              "\n",
              "#sk-container-id-1 div.sk-label label {\n",
              "  font-family: monospace;\n",
              "  font-weight: bold;\n",
              "  display: inline-block;\n",
              "  line-height: 1.2em;\n",
              "}\n",
              "\n",
              "#sk-container-id-1 div.sk-label-container {\n",
              "  text-align: center;\n",
              "}\n",
              "\n",
              "/* Estimator-specific */\n",
              "#sk-container-id-1 div.sk-estimator {\n",
              "  font-family: monospace;\n",
              "  border: 1px dotted var(--sklearn-color-border-box);\n",
              "  border-radius: 0.25em;\n",
              "  box-sizing: border-box;\n",
              "  margin-bottom: 0.5em;\n",
              "  /* unfitted */\n",
              "  background-color: var(--sklearn-color-unfitted-level-0);\n",
              "}\n",
              "\n",
              "#sk-container-id-1 div.sk-estimator.fitted {\n",
              "  /* fitted */\n",
              "  background-color: var(--sklearn-color-fitted-level-0);\n",
              "}\n",
              "\n",
              "/* on hover */\n",
              "#sk-container-id-1 div.sk-estimator:hover {\n",
              "  /* unfitted */\n",
              "  background-color: var(--sklearn-color-unfitted-level-2);\n",
              "}\n",
              "\n",
              "#sk-container-id-1 div.sk-estimator.fitted:hover {\n",
              "  /* fitted */\n",
              "  background-color: var(--sklearn-color-fitted-level-2);\n",
              "}\n",
              "\n",
              "/* Specification for estimator info (e.g. \"i\" and \"?\") */\n",
              "\n",
              "/* Common style for \"i\" and \"?\" */\n",
              "\n",
              ".sk-estimator-doc-link,\n",
              "a:link.sk-estimator-doc-link,\n",
              "a:visited.sk-estimator-doc-link {\n",
              "  float: right;\n",
              "  font-size: smaller;\n",
              "  line-height: 1em;\n",
              "  font-family: monospace;\n",
              "  background-color: var(--sklearn-color-background);\n",
              "  border-radius: 1em;\n",
              "  height: 1em;\n",
              "  width: 1em;\n",
              "  text-decoration: none !important;\n",
              "  margin-left: 1ex;\n",
              "  /* unfitted */\n",
              "  border: var(--sklearn-color-unfitted-level-1) 1pt solid;\n",
              "  color: var(--sklearn-color-unfitted-level-1);\n",
              "}\n",
              "\n",
              ".sk-estimator-doc-link.fitted,\n",
              "a:link.sk-estimator-doc-link.fitted,\n",
              "a:visited.sk-estimator-doc-link.fitted {\n",
              "  /* fitted */\n",
              "  border: var(--sklearn-color-fitted-level-1) 1pt solid;\n",
              "  color: var(--sklearn-color-fitted-level-1);\n",
              "}\n",
              "\n",
              "/* On hover */\n",
              "div.sk-estimator:hover .sk-estimator-doc-link:hover,\n",
              ".sk-estimator-doc-link:hover,\n",
              "div.sk-label-container:hover .sk-estimator-doc-link:hover,\n",
              ".sk-estimator-doc-link:hover {\n",
              "  /* unfitted */\n",
              "  background-color: var(--sklearn-color-unfitted-level-3);\n",
              "  color: var(--sklearn-color-background);\n",
              "  text-decoration: none;\n",
              "}\n",
              "\n",
              "div.sk-estimator.fitted:hover .sk-estimator-doc-link.fitted:hover,\n",
              ".sk-estimator-doc-link.fitted:hover,\n",
              "div.sk-label-container:hover .sk-estimator-doc-link.fitted:hover,\n",
              ".sk-estimator-doc-link.fitted:hover {\n",
              "  /* fitted */\n",
              "  background-color: var(--sklearn-color-fitted-level-3);\n",
              "  color: var(--sklearn-color-background);\n",
              "  text-decoration: none;\n",
              "}\n",
              "\n",
              "/* Span, style for the box shown on hovering the info icon */\n",
              ".sk-estimator-doc-link span {\n",
              "  display: none;\n",
              "  z-index: 9999;\n",
              "  position: relative;\n",
              "  font-weight: normal;\n",
              "  right: .2ex;\n",
              "  padding: .5ex;\n",
              "  margin: .5ex;\n",
              "  width: min-content;\n",
              "  min-width: 20ex;\n",
              "  max-width: 50ex;\n",
              "  color: var(--sklearn-color-text);\n",
              "  box-shadow: 2pt 2pt 4pt #999;\n",
              "  /* unfitted */\n",
              "  background: var(--sklearn-color-unfitted-level-0);\n",
              "  border: .5pt solid var(--sklearn-color-unfitted-level-3);\n",
              "}\n",
              "\n",
              ".sk-estimator-doc-link.fitted span {\n",
              "  /* fitted */\n",
              "  background: var(--sklearn-color-fitted-level-0);\n",
              "  border: var(--sklearn-color-fitted-level-3);\n",
              "}\n",
              "\n",
              ".sk-estimator-doc-link:hover span {\n",
              "  display: block;\n",
              "}\n",
              "\n",
              "/* \"?\"-specific style due to the `<a>` HTML tag */\n",
              "\n",
              "#sk-container-id-1 a.estimator_doc_link {\n",
              "  float: right;\n",
              "  font-size: 1rem;\n",
              "  line-height: 1em;\n",
              "  font-family: monospace;\n",
              "  background-color: var(--sklearn-color-background);\n",
              "  border-radius: 1rem;\n",
              "  height: 1rem;\n",
              "  width: 1rem;\n",
              "  text-decoration: none;\n",
              "  /* unfitted */\n",
              "  color: var(--sklearn-color-unfitted-level-1);\n",
              "  border: var(--sklearn-color-unfitted-level-1) 1pt solid;\n",
              "}\n",
              "\n",
              "#sk-container-id-1 a.estimator_doc_link.fitted {\n",
              "  /* fitted */\n",
              "  border: var(--sklearn-color-fitted-level-1) 1pt solid;\n",
              "  color: var(--sklearn-color-fitted-level-1);\n",
              "}\n",
              "\n",
              "/* On hover */\n",
              "#sk-container-id-1 a.estimator_doc_link:hover {\n",
              "  /* unfitted */\n",
              "  background-color: var(--sklearn-color-unfitted-level-3);\n",
              "  color: var(--sklearn-color-background);\n",
              "  text-decoration: none;\n",
              "}\n",
              "\n",
              "#sk-container-id-1 a.estimator_doc_link.fitted:hover {\n",
              "  /* fitted */\n",
              "  background-color: var(--sklearn-color-fitted-level-3);\n",
              "}\n",
              "</style><div id=\"sk-container-id-1\" class=\"sk-top-container\"><div class=\"sk-text-repr-fallback\"><pre>KNeighborsRegressor()</pre><b>In a Jupyter environment, please rerun this cell to show the HTML representation or trust the notebook. <br />On GitHub, the HTML representation is unable to render, please try loading this page with nbviewer.org.</b></div><div class=\"sk-container\" hidden><div class=\"sk-item\"><div class=\"sk-estimator fitted sk-toggleable\"><input class=\"sk-toggleable__control sk-hidden--visually\" id=\"sk-estimator-id-1\" type=\"checkbox\" checked><label for=\"sk-estimator-id-1\" class=\"sk-toggleable__label fitted sk-toggleable__label-arrow fitted\">&nbsp;&nbsp;KNeighborsRegressor<a class=\"sk-estimator-doc-link fitted\" rel=\"noreferrer\" target=\"_blank\" href=\"https://scikit-learn.org/1.4/modules/generated/sklearn.neighbors.KNeighborsRegressor.html\">?<span>Documentation for KNeighborsRegressor</span></a><span class=\"sk-estimator-doc-link fitted\">i<span>Fitted</span></span></label><div class=\"sk-toggleable__content fitted\"><pre>KNeighborsRegressor()</pre></div> </div></div></div></div>"
            ],
            "text/plain": [
              "KNeighborsRegressor()"
            ]
          },
          "execution_count": 29,
          "metadata": {},
          "output_type": "execute_result"
        }
      ],
      "source": [
        "# Fitting KNN regression to the Training set\n",
        "\n",
        "KNN_regression = KNeighborsRegressor(n_neighbors=5)\n",
        "KNN_regression.fit(X_train_sc, y_train)"
      ]
    },
    {
      "cell_type": "markdown",
      "metadata": {
        "id": "_TrJreJy-kTt"
      },
      "source": [
        "Minkowski distance: https://en.wikipedia.org/wiki/Minkowski_distance"
      ]
    },
    {
      "cell_type": "code",
      "execution_count": 30,
      "metadata": {
        "id": "J-f5HpCc-kTt"
      },
      "outputs": [],
      "source": [
        "# Predicting the Test set results\n",
        "y_hat = KNN_regression.predict(X_test_sc)"
      ]
    },
    {
      "cell_type": "code",
      "execution_count": 31,
      "metadata": {
        "colab": {
          "base_uri": "https://localhost:8080/",
          "height": 206
        },
        "id": "tJIt_8tL-kTt",
        "outputId": "75a58629-859b-4e61-c7c3-7fe17f4b8419"
      },
      "outputs": [
        {
          "data": {
            "text/html": [
              "<div>\n",
              "<style scoped>\n",
              "    .dataframe tbody tr th:only-of-type {\n",
              "        vertical-align: middle;\n",
              "    }\n",
              "\n",
              "    .dataframe tbody tr th {\n",
              "        vertical-align: top;\n",
              "    }\n",
              "\n",
              "    .dataframe thead th {\n",
              "        text-align: right;\n",
              "    }\n",
              "</style>\n",
              "<table border=\"1\" class=\"dataframe\">\n",
              "  <thead>\n",
              "    <tr style=\"text-align: right;\">\n",
              "      <th></th>\n",
              "      <th>y_test</th>\n",
              "      <th>y_hat</th>\n",
              "    </tr>\n",
              "  </thead>\n",
              "  <tbody>\n",
              "    <tr>\n",
              "      <th>434</th>\n",
              "      <td>97500.0</td>\n",
              "      <td>71300.0</td>\n",
              "    </tr>\n",
              "    <tr>\n",
              "      <th>238</th>\n",
              "      <td>173000.0</td>\n",
              "      <td>159120.0</td>\n",
              "    </tr>\n",
              "    <tr>\n",
              "      <th>531</th>\n",
              "      <td>67500.0</td>\n",
              "      <td>62200.0</td>\n",
              "    </tr>\n",
              "    <tr>\n",
              "      <th>157</th>\n",
              "      <td>189900.0</td>\n",
              "      <td>132420.0</td>\n",
              "    </tr>\n",
              "    <tr>\n",
              "      <th>601</th>\n",
              "      <td>150000.0</td>\n",
              "      <td>119700.0</td>\n",
              "    </tr>\n",
              "  </tbody>\n",
              "</table>\n",
              "</div>"
            ],
            "text/plain": [
              "       y_test     y_hat\n",
              "434   97500.0   71300.0\n",
              "238  173000.0  159120.0\n",
              "531   67500.0   62200.0\n",
              "157  189900.0  132420.0\n",
              "601  150000.0  119700.0"
            ]
          },
          "execution_count": 31,
          "metadata": {},
          "output_type": "execute_result"
        }
      ],
      "source": [
        "predictions = pd.DataFrame({ 'y_test':y_test,'y_hat':y_hat})\n",
        "predictions.head()"
      ]
    },
    {
      "cell_type": "code",
      "execution_count": 32,
      "metadata": {
        "colab": {
          "base_uri": "https://localhost:8080/",
          "height": 306
        },
        "id": "78OsNjVx-kTt",
        "outputId": "1630f31f-6606-42ae-a787-f3b5462c2ddd"
      },
      "outputs": [
        {
          "data": {
            "image/png": "[encoded data removed]",
            "text/plain": [
              "<Figure size 640x480 with 1 Axes>"
            ]
          },
          "metadata": {},
          "output_type": "display_data"
        }
      ],
      "source": [
        "sns.scatterplot(x='y_test', y='y_hat', alpha=0.6, data=predictions)\n",
        "sns.lineplot(x='y_test', y='y_test', data=predictions, color='red')\n",
        "\n",
        "plt.xlabel('Actual wage', fontsize=14)\n",
        "plt.ylabel('Prediced  wage', fontsize=14)\n",
        "plt.title('Actual vs Predicted  wage (test set)', fontsize=17)\n",
        "plt.show()"
      ]
    },
    {
      "cell_type": "code",
      "execution_count": 33,
      "metadata": {
        "colab": {
          "base_uri": "https://localhost:8080/"
        },
        "id": "58iXvpCt-kTt",
        "outputId": "7080db77-f68e-430b-b150-6da88b08e8fb"
      },
      "outputs": [
        {
          "data": {
            "text/plain": [
              "0.3593050769084508"
            ]
          },
          "execution_count": 33,
          "metadata": {},
          "output_type": "execute_result"
        }
      ],
      "source": [
        "KNN_regression.score(X_train_sc, y_train)"
      ]
    },
    {
      "cell_type": "code",
      "execution_count": 34,
      "metadata": {
        "colab": {
          "base_uri": "https://localhost:8080/"
        },
        "id": "veHoyLsQ-kTu",
        "outputId": "4e4be0d3-4916-466b-9a49-409713051741"
      },
      "outputs": [
        {
          "data": {
            "text/plain": [
              "0.06485410080708853"
            ]
          },
          "execution_count": 34,
          "metadata": {},
          "output_type": "execute_result"
        }
      ],
      "source": [
        "KNN_regression.score(X_test_sc, y_test)"
      ]
    },
    {
      "cell_type": "code",
      "execution_count": 35,
      "metadata": {},
      "outputs": [
        {
          "data": {
            "text/plain": [
              "(748, 10)"
            ]
          },
          "execution_count": 35,
          "metadata": {},
          "output_type": "execute_result"
        }
      ],
      "source": [
        "X_train_sc.shape"
      ]
    },
    {
      "cell_type": "markdown",
      "metadata": {
        "id": "XrWooVg5-kTu"
      },
      "source": [
        "**Exercise**: \n",
        "* Now try k=748. What do you expect to see in the actual vs predicted plot?\n",
        "* How about when k=1? can you plot the actual vs predictions in the train set?"
      ]
    },
    {
      "cell_type": "markdown",
      "metadata": {
        "id": "--qUZSS4-kTu"
      },
      "source": [
        "----"
      ]
    },
    {
      "cell_type": "markdown",
      "metadata": {
        "id": "hGri2Kgy-kTu"
      },
      "source": [
        "## Performance metrics:"
      ]
    },
    {
      "cell_type": "code",
      "execution_count": 36,
      "metadata": {
        "colab": {
          "base_uri": "https://localhost:8080/"
        },
        "id": "X0rZjBDV-kTu",
        "outputId": "6fa6b320-0ec9-43ac-de91-143f20baa175"
      },
      "outputs": [
        {
          "data": {
            "text/plain": [
              "1425686109.09"
            ]
          },
          "execution_count": 36,
          "metadata": {},
          "output_type": "execute_result"
        }
      ],
      "source": [
        "MSE_test = round(np.mean(np.square(y_test - y_hat)),2)\n",
        "MSE_test"
      ]
    },
    {
      "cell_type": "code",
      "execution_count": 37,
      "metadata": {
        "colab": {
          "base_uri": "https://localhost:8080/"
        },
        "id": "CakYU0Zd-kTu",
        "outputId": "69368851-4d2d-4b9c-f20e-52709c667205"
      },
      "outputs": [
        {
          "data": {
            "text/plain": [
              "37758.26"
            ]
          },
          "execution_count": 37,
          "metadata": {},
          "output_type": "execute_result"
        }
      ],
      "source": [
        "RMSE_test = round(np.sqrt(MSE_test),2)\n",
        "RMSE_test"
      ]
    },
    {
      "cell_type": "code",
      "execution_count": 38,
      "metadata": {},
      "outputs": [
        {
          "data": {
            "text/plain": [
              "0.3669303851574638"
            ]
          },
          "execution_count": 38,
          "metadata": {},
          "output_type": "execute_result"
        }
      ],
      "source": [
        "# importing mean_absolute_percentage_error from sklearn.metrics\n",
        "from sklearn.metrics import mean_absolute_percentage_error\n",
        "mean_absolute_percentage_error(y_test, y_hat)"
      ]
    },
    {
      "cell_type": "markdown",
      "metadata": {
        "id": "7mGvGFwq-kTv"
      },
      "source": [
        "---"
      ]
    },
    {
      "cell_type": "markdown",
      "metadata": {
        "id": "mxukYNKd-kTv"
      },
      "source": [
        "##  Cross validation\n",
        "\n",
        "In KNN, we use cross validation to find the optimal value of K. "
      ]
    },
    {
      "cell_type": "code",
      "execution_count": 40,
      "metadata": {
        "id": "kDeNbPts-kTv"
      },
      "outputs": [
        {
          "data": {
            "text/plain": [
              "['accuracy',\n",
              " 'adjusted_mutual_info_score',\n",
              " 'adjusted_rand_score',\n",
              " 'average_precision',\n",
              " 'balanced_accuracy',\n",
              " 'completeness_score',\n",
              " 'explained_variance',\n",
              " 'f1',\n",
              " 'f1_macro',\n",
              " 'f1_micro',\n",
              " 'f1_samples',\n",
              " 'f1_weighted',\n",
              " 'fowlkes_mallows_score',\n",
              " 'homogeneity_score',\n",
              " 'jaccard',\n",
              " 'jaccard_macro',\n",
              " 'jaccard_micro',\n",
              " 'jaccard_samples',\n",
              " 'jaccard_weighted',\n",
              " 'matthews_corrcoef',\n",
              " 'max_error',\n",
              " 'mutual_info_score',\n",
              " 'neg_brier_score',\n",
              " 'neg_log_loss',\n",
              " 'neg_mean_absolute_error',\n",
              " 'neg_mean_absolute_percentage_error',\n",
              " 'neg_mean_gamma_deviance',\n",
              " 'neg_mean_poisson_deviance',\n",
              " 'neg_mean_squared_error',\n",
              " 'neg_mean_squared_log_error',\n",
              " 'neg_median_absolute_error',\n",
              " 'neg_negative_likelihood_ratio',\n",
              " 'neg_root_mean_squared_error',\n",
              " 'neg_root_mean_squared_log_error',\n",
              " 'normalized_mutual_info_score',\n",
              " 'positive_likelihood_ratio',\n",
              " 'precision',\n",
              " 'precision_macro',\n",
              " 'precision_micro',\n",
              " 'precision_samples',\n",
              " 'precision_weighted',\n",
              " 'r2',\n",
              " 'rand_score',\n",
              " 'recall',\n",
              " 'recall_macro',\n",
              " 'recall_micro',\n",
              " 'recall_samples',\n",
              " 'recall_weighted',\n",
              " 'roc_auc',\n",
              " 'roc_auc_ovo',\n",
              " 'roc_auc_ovo_weighted',\n",
              " 'roc_auc_ovr',\n",
              " 'roc_auc_ovr_weighted',\n",
              " 'top_k_accuracy',\n",
              " 'v_measure_score']"
            ]
          },
          "execution_count": 40,
          "metadata": {},
          "output_type": "execute_result"
        }
      ],
      "source": [
        "from sklearn.model_selection import cross_val_score\n",
        "from sklearn.metrics import get_scorer_names\n",
        "get_scorer_names()"
      ]
    },
    {
      "cell_type": "code",
      "execution_count": 41,
      "metadata": {
        "id": "qOPYPy_g-kTv"
      },
      "outputs": [],
      "source": [
        "NMSE = cross_val_score(estimator = KNN_regression, X = X_train_sc, y = y_train, cv = 5 , scoring=\"neg_mean_squared_error\" )"
      ]
    },
    {
      "cell_type": "code",
      "execution_count": 42,
      "metadata": {
        "colab": {
          "base_uri": "https://localhost:8080/"
        },
        "id": "XYzdMs4d-kTv",
        "outputId": "16438cc2-7f36-4c92-fd70-357de2a5929a"
      },
      "outputs": [
        {
          "data": {
            "text/plain": [
              "1631056294.0635"
            ]
          },
          "execution_count": 42,
          "metadata": {},
          "output_type": "execute_result"
        }
      ],
      "source": [
        "MSE_CV = round(np.mean(-NMSE),4)\n",
        "MSE_CV"
      ]
    },
    {
      "cell_type": "code",
      "execution_count": 43,
      "metadata": {
        "colab": {
          "base_uri": "https://localhost:8080/"
        },
        "id": "bF0ilAIZ-kTv",
        "outputId": "4a3b2180-b38a-4853-8cc8-36ce72d9128b"
      },
      "outputs": [
        {
          "data": {
            "text/plain": [
              "40386.338"
            ]
          },
          "execution_count": 43,
          "metadata": {},
          "output_type": "execute_result"
        }
      ],
      "source": [
        "RMSE_CV = round(np.sqrt(MSE_CV), 4)\n",
        "RMSE_CV"
      ]
    },
    {
      "cell_type": "markdown",
      "metadata": {
        "id": "YXLgOc47-kTv"
      },
      "source": [
        "----------------"
      ]
    },
    {
      "cell_type": "markdown",
      "metadata": {
        "id": "_tn8c-eq-kTw"
      },
      "source": [
        "## Choosing K\n",
        " \n",
        "Let's plot the RMSE_CV and RMSE_test vs K. "
      ]
    },
    {
      "cell_type": "code",
      "execution_count": 44,
      "metadata": {
        "id": "IW_i4jTg-kTw"
      },
      "outputs": [],
      "source": [
        "MSE_CV=[]\n",
        "MSE_test = []\n",
        "\n",
        "k=100\n",
        "\n",
        "for i in range(1,k):\n",
        "    KNN_i = KNeighborsRegressor(n_neighbors=i)\n",
        "    KNN_i.fit(X_train_sc, y_train)\n",
        "    MSE_i = np.mean(-1*cross_val_score(estimator = KNN_i, X = X_train_sc, y = y_train, cv = 10 , scoring=\"neg_mean_squared_error\" ))\n",
        "    MSE_CV.append(MSE_i)\n",
        "    \n",
        "    MSE_test.append(np.mean(np.square(y_test - KNN_i.predict(X_test_sc))))\n",
        "    \n",
        "optimal_k = pd.DataFrame({'MSE_CV': np.round(MSE_CV,2), 'MSE_test':np.round(MSE_test,2), 'K':range(1,k)})"
      ]
    },
    {
      "cell_type": "code",
      "execution_count": 45,
      "metadata": {
        "colab": {
          "base_uri": "https://localhost:8080/",
          "height": 363
        },
        "id": "ThL3aqMV-kTw",
        "outputId": "7d68ae86-4cb3-47d0-9934-ec3abf0f7985"
      },
      "outputs": [
        {
          "data": {
            "text/html": [
              "<div>\n",
              "<style scoped>\n",
              "    .dataframe tbody tr th:only-of-type {\n",
              "        vertical-align: middle;\n",
              "    }\n",
              "\n",
              "    .dataframe tbody tr th {\n",
              "        vertical-align: top;\n",
              "    }\n",
              "\n",
              "    .dataframe thead th {\n",
              "        text-align: right;\n",
              "    }\n",
              "</style>\n",
              "<table border=\"1\" class=\"dataframe\">\n",
              "  <thead>\n",
              "    <tr style=\"text-align: right;\">\n",
              "      <th></th>\n",
              "      <th>MSE_CV</th>\n",
              "      <th>MSE_test</th>\n",
              "      <th>K</th>\n",
              "    </tr>\n",
              "  </thead>\n",
              "  <tbody>\n",
              "    <tr>\n",
              "      <th>0</th>\n",
              "      <td>2.311739e+09</td>\n",
              "      <td>2.663669e+09</td>\n",
              "      <td>1</td>\n",
              "    </tr>\n",
              "    <tr>\n",
              "      <th>1</th>\n",
              "      <td>1.969113e+09</td>\n",
              "      <td>1.883955e+09</td>\n",
              "      <td>2</td>\n",
              "    </tr>\n",
              "    <tr>\n",
              "      <th>2</th>\n",
              "      <td>1.778172e+09</td>\n",
              "      <td>1.628948e+09</td>\n",
              "      <td>3</td>\n",
              "    </tr>\n",
              "    <tr>\n",
              "      <th>3</th>\n",
              "      <td>1.663524e+09</td>\n",
              "      <td>1.488210e+09</td>\n",
              "      <td>4</td>\n",
              "    </tr>\n",
              "    <tr>\n",
              "      <th>4</th>\n",
              "      <td>1.603689e+09</td>\n",
              "      <td>1.425686e+09</td>\n",
              "      <td>5</td>\n",
              "    </tr>\n",
              "    <tr>\n",
              "      <th>5</th>\n",
              "      <td>1.611505e+09</td>\n",
              "      <td>1.411600e+09</td>\n",
              "      <td>6</td>\n",
              "    </tr>\n",
              "    <tr>\n",
              "      <th>6</th>\n",
              "      <td>1.577139e+09</td>\n",
              "      <td>1.338374e+09</td>\n",
              "      <td>7</td>\n",
              "    </tr>\n",
              "    <tr>\n",
              "      <th>7</th>\n",
              "      <td>1.540310e+09</td>\n",
              "      <td>1.314538e+09</td>\n",
              "      <td>8</td>\n",
              "    </tr>\n",
              "    <tr>\n",
              "      <th>8</th>\n",
              "      <td>1.513874e+09</td>\n",
              "      <td>1.296894e+09</td>\n",
              "      <td>9</td>\n",
              "    </tr>\n",
              "    <tr>\n",
              "      <th>9</th>\n",
              "      <td>1.486566e+09</td>\n",
              "      <td>1.308977e+09</td>\n",
              "      <td>10</td>\n",
              "    </tr>\n",
              "  </tbody>\n",
              "</table>\n",
              "</div>"
            ],
            "text/plain": [
              "         MSE_CV      MSE_test   K\n",
              "0  2.311739e+09  2.663669e+09   1\n",
              "1  1.969113e+09  1.883955e+09   2\n",
              "2  1.778172e+09  1.628948e+09   3\n",
              "3  1.663524e+09  1.488210e+09   4\n",
              "4  1.603689e+09  1.425686e+09   5\n",
              "5  1.611505e+09  1.411600e+09   6\n",
              "6  1.577139e+09  1.338374e+09   7\n",
              "7  1.540310e+09  1.314538e+09   8\n",
              "8  1.513874e+09  1.296894e+09   9\n",
              "9  1.486566e+09  1.308977e+09  10"
            ]
          },
          "execution_count": 45,
          "metadata": {},
          "output_type": "execute_result"
        }
      ],
      "source": [
        "optimal_k.head(10)"
      ]
    },
    {
      "cell_type": "code",
      "execution_count": 46,
      "metadata": {
        "colab": {
          "base_uri": "https://localhost:8080/"
        },
        "id": "8oEz7Cke-kTw",
        "outputId": "81ec8092-9d3b-47c4-a542-bda49130831d"
      },
      "outputs": [
        {
          "data": {
            "text/plain": [
              "49"
            ]
          },
          "execution_count": 46,
          "metadata": {},
          "output_type": "execute_result"
        }
      ],
      "source": [
        "np.argmin(optimal_k['MSE_CV'])"
      ]
    },
    {
      "cell_type": "code",
      "execution_count": 47,
      "metadata": {
        "colab": {
          "base_uri": "https://localhost:8080/"
        },
        "id": "px8F3gDG-kTw",
        "outputId": "eec10fe1-3925-4bd5-cdad-1ab7c326f9ad"
      },
      "outputs": [
        {
          "data": {
            "text/plain": [
              "50"
            ]
          },
          "execution_count": 47,
          "metadata": {},
          "output_type": "execute_result"
        }
      ],
      "source": [
        "optimal_k.loc[np.argmin(optimal_k['MSE_CV']), 'K']"
      ]
    },
    {
      "cell_type": "code",
      "execution_count": 48,
      "metadata": {
        "colab": {
          "base_uri": "https://localhost:8080/",
          "height": 355
        },
        "id": "u-eUyTra-kTw",
        "outputId": "05fb2083-8e92-49ae-a883-4e8042da8e73"
      },
      "outputs": [
        {
          "data": {
            "image/png": "[encoded data removed]",
            "text/plain": [
              "<Figure size 1000x500 with 1 Axes>"
            ]
          },
          "metadata": {},
          "output_type": "display_data"
        }
      ],
      "source": [
        "plt.figure(figsize=(10,5))\n",
        "sns.lineplot(data=optimal_k.drop('K', axis=1))\n",
        "plt.title('Cross Validated MSE VS K')\n",
        "plt.xlabel('K')\n",
        "plt.ylabel('MSE')\n",
        "plt.show()"
      ]
    },
    {
      "cell_type": "markdown",
      "metadata": {
        "id": "xkqvnCh5-kTx"
      },
      "source": [
        "**Exercise**:\n",
        "\n",
        "* By looking at this graph, What is the optimal K?\n",
        "* Can you compare the optimal KNN model with multiple regression model? what do you learn?"
      ]
    },
    {
      "cell_type": "code",
      "execution_count": 51,
      "metadata": {},
      "outputs": [
        {
          "data": {
            "text/plain": [
              "1096655212.2037752"
            ]
          },
          "execution_count": 51,
          "metadata": {},
          "output_type": "execute_result"
        }
      ],
      "source": [
        "from sklearn.linear_model import LinearRegression\n",
        "linreg = LinearRegression()\n",
        "linreg.fit(X_train_sc, y_train)\n",
        "y_hat_linreg = linreg.predict(X_test_sc)\n",
        "\n",
        "from sklearn.metrics import mean_squared_error\n",
        "mean_squared_error(y_test, y_hat_linreg)"
      ]
    },
    {
      "cell_type": "code",
      "execution_count": 53,
      "metadata": {},
      "outputs": [
        {
          "data": {
            "text/plain": [
              "1180033623.9"
            ]
          },
          "execution_count": 53,
          "metadata": {},
          "output_type": "execute_result"
        }
      ],
      "source": [
        "# this is our best RMSE in the test set with K=51\n",
        "np.min(optimal_k['MSE_test'])"
      ]
    },
    {
      "cell_type": "markdown",
      "metadata": {},
      "source": [
        "---\n",
        "---\n",
        "# PyCaret\n",
        "\n",
        "1. **PyCaret**: https://pycaret.readthedocs.io/en/latest/index.html PyCaret3.0\n",
        "2. **scikit-learn**: https://scikit-learn.org/stable/index.html\n",
        "3. **PyCaret model containers** : https://github.com/pycaret/pycaret/tree/master/pycaret/containers/models"
      ]
    },
    {
      "cell_type": "markdown",
      "metadata": {},
      "source": [
        "# Installation"
      ]
    },
    {
      "cell_type": "markdown",
      "metadata": {},
      "source": [
        "Follow the steps here: https://pycaret.gitbook.io/docs/get-started/installation\n"
      ]
    },
    {
      "cell_type": "code",
      "execution_count": 50,
      "metadata": {},
      "outputs": [],
      "source": [
        "#only if you want to run it in Google Colab: \n",
        "# for this chapter, we can install the light version of PyCaret as below. \n",
        "\n",
        "# !pip install pycaret"
      ]
    },
    {
      "cell_type": "code",
      "execution_count": 54,
      "metadata": {},
      "outputs": [
        {
          "data": {
            "text/plain": [
              "'3.3.2'"
            ]
          },
          "execution_count": 54,
          "metadata": {},
          "output_type": "execute_result"
        }
      ],
      "source": [
        "# if you got a warning that you need to \"RESTART RUNTIME\", go ahead and press that button. \n",
        "\n",
        "# let's double ckeck the Pycaret version: \n",
        "from pycaret.utils import version\n",
        "version()"
      ]
    },
    {
      "cell_type": "code",
      "execution_count": 55,
      "metadata": {},
      "outputs": [
        {
          "data": {
            "text/plain": [
              "wage       0\n",
              "hours      0\n",
              "IQ         0\n",
              "educ       0\n",
              "exper      0\n",
              "tenure     0\n",
              "age        0\n",
              "married    0\n",
              "black      0\n",
              "meduc      0\n",
              "feduc      0\n",
              "dtype: int64"
            ]
          },
          "execution_count": 55,
          "metadata": {},
          "output_type": "execute_result"
        }
      ],
      "source": [
        "df.isna().sum()"
      ]
    },
    {
      "cell_type": "code",
      "execution_count": 56,
      "metadata": {},
      "outputs": [],
      "source": [
        "df_py = df.copy()"
      ]
    },
    {
      "cell_type": "code",
      "execution_count": 57,
      "metadata": {},
      "outputs": [
        {
          "data": {
            "text/html": [
              "<div>\n",
              "<style scoped>\n",
              "    .dataframe tbody tr th:only-of-type {\n",
              "        vertical-align: middle;\n",
              "    }\n",
              "\n",
              "    .dataframe tbody tr th {\n",
              "        vertical-align: top;\n",
              "    }\n",
              "\n",
              "    .dataframe thead th {\n",
              "        text-align: right;\n",
              "    }\n",
              "</style>\n",
              "<table border=\"1\" class=\"dataframe\">\n",
              "  <thead>\n",
              "    <tr style=\"text-align: right;\">\n",
              "      <th></th>\n",
              "      <th>wage</th>\n",
              "      <th>hours</th>\n",
              "      <th>IQ</th>\n",
              "      <th>educ</th>\n",
              "      <th>exper</th>\n",
              "      <th>tenure</th>\n",
              "      <th>age</th>\n",
              "      <th>married</th>\n",
              "      <th>black</th>\n",
              "      <th>meduc</th>\n",
              "      <th>feduc</th>\n",
              "    </tr>\n",
              "  </thead>\n",
              "  <tbody>\n",
              "    <tr>\n",
              "      <th>0</th>\n",
              "      <td>76900.0</td>\n",
              "      <td>40</td>\n",
              "      <td>93</td>\n",
              "      <td>12</td>\n",
              "      <td>11</td>\n",
              "      <td>2</td>\n",
              "      <td>31</td>\n",
              "      <td>1</td>\n",
              "      <td>0</td>\n",
              "      <td>8.0</td>\n",
              "      <td>8.0</td>\n",
              "    </tr>\n",
              "    <tr>\n",
              "      <th>1</th>\n",
              "      <td>80800.0</td>\n",
              "      <td>50</td>\n",
              "      <td>119</td>\n",
              "      <td>18</td>\n",
              "      <td>11</td>\n",
              "      <td>16</td>\n",
              "      <td>37</td>\n",
              "      <td>1</td>\n",
              "      <td>0</td>\n",
              "      <td>14.0</td>\n",
              "      <td>14.0</td>\n",
              "    </tr>\n",
              "    <tr>\n",
              "      <th>2</th>\n",
              "      <td>82500.0</td>\n",
              "      <td>40</td>\n",
              "      <td>108</td>\n",
              "      <td>14</td>\n",
              "      <td>11</td>\n",
              "      <td>9</td>\n",
              "      <td>33</td>\n",
              "      <td>1</td>\n",
              "      <td>0</td>\n",
              "      <td>14.0</td>\n",
              "      <td>14.0</td>\n",
              "    </tr>\n",
              "    <tr>\n",
              "      <th>3</th>\n",
              "      <td>65000.0</td>\n",
              "      <td>40</td>\n",
              "      <td>96</td>\n",
              "      <td>12</td>\n",
              "      <td>13</td>\n",
              "      <td>7</td>\n",
              "      <td>32</td>\n",
              "      <td>1</td>\n",
              "      <td>0</td>\n",
              "      <td>12.0</td>\n",
              "      <td>12.0</td>\n",
              "    </tr>\n",
              "    <tr>\n",
              "      <th>4</th>\n",
              "      <td>56200.0</td>\n",
              "      <td>40</td>\n",
              "      <td>74</td>\n",
              "      <td>11</td>\n",
              "      <td>14</td>\n",
              "      <td>5</td>\n",
              "      <td>34</td>\n",
              "      <td>1</td>\n",
              "      <td>0</td>\n",
              "      <td>6.0</td>\n",
              "      <td>11.0</td>\n",
              "    </tr>\n",
              "  </tbody>\n",
              "</table>\n",
              "</div>"
            ],
            "text/plain": [
              "      wage  hours   IQ  educ  exper  tenure  age  married  black  meduc  feduc\n",
              "0  76900.0     40   93    12     11       2   31        1      0    8.0    8.0\n",
              "1  80800.0     50  119    18     11      16   37        1      0   14.0   14.0\n",
              "2  82500.0     40  108    14     11       9   33        1      0   14.0   14.0\n",
              "3  65000.0     40   96    12     13       7   32        1      0   12.0   12.0\n",
              "4  56200.0     40   74    11     14       5   34        1      0    6.0   11.0"
            ]
          },
          "execution_count": 57,
          "metadata": {},
          "output_type": "execute_result"
        }
      ],
      "source": [
        "df_py.head()"
      ]
    },
    {
      "cell_type": "code",
      "execution_count": 58,
      "metadata": {},
      "outputs": [],
      "source": [
        "from pycaret.regression import *\n"
      ]
    },
    {
      "cell_type": "code",
      "execution_count": 59,
      "metadata": {},
      "outputs": [
        {
          "data": {
            "text/html": [
              "<style type=\"text/css\">\n",
              "#T_b8abe_row8_col1 {\n",
              "  background-color: lightgreen;\n",
              "}\n",
              "</style>\n",
              "<table id=\"T_b8abe\">\n",
              "  <thead>\n",
              "    <tr>\n",
              "      <th class=\"blank level0\" >&nbsp;</th>\n",
              "      <th id=\"T_b8abe_level0_col0\" class=\"col_heading level0 col0\" >Description</th>\n",
              "      <th id=\"T_b8abe_level0_col1\" class=\"col_heading level0 col1\" >Value</th>\n",
              "    </tr>\n",
              "  </thead>\n",
              "  <tbody>\n",
              "    <tr>\n",
              "      <th id=\"T_b8abe_level0_row0\" class=\"row_heading level0 row0\" >0</th>\n",
              "      <td id=\"T_b8abe_row0_col0\" class=\"data row0 col0\" >Session id</td>\n",
              "      <td id=\"T_b8abe_row0_col1\" class=\"data row0 col1\" >555</td>\n",
              "    </tr>\n",
              "    <tr>\n",
              "      <th id=\"T_b8abe_level0_row1\" class=\"row_heading level0 row1\" >1</th>\n",
              "      <td id=\"T_b8abe_row1_col0\" class=\"data row1 col0\" >Target</td>\n",
              "      <td id=\"T_b8abe_row1_col1\" class=\"data row1 col1\" >wage</td>\n",
              "    </tr>\n",
              "    <tr>\n",
              "      <th id=\"T_b8abe_level0_row2\" class=\"row_heading level0 row2\" >2</th>\n",
              "      <td id=\"T_b8abe_row2_col0\" class=\"data row2 col0\" >Target type</td>\n",
              "      <td id=\"T_b8abe_row2_col1\" class=\"data row2 col1\" >Regression</td>\n",
              "    </tr>\n",
              "    <tr>\n",
              "      <th id=\"T_b8abe_level0_row3\" class=\"row_heading level0 row3\" >3</th>\n",
              "      <td id=\"T_b8abe_row3_col0\" class=\"data row3 col0\" >Original data shape</td>\n",
              "      <td id=\"T_b8abe_row3_col1\" class=\"data row3 col1\" >(935, 11)</td>\n",
              "    </tr>\n",
              "    <tr>\n",
              "      <th id=\"T_b8abe_level0_row4\" class=\"row_heading level0 row4\" >4</th>\n",
              "      <td id=\"T_b8abe_row4_col0\" class=\"data row4 col0\" >Transformed data shape</td>\n",
              "      <td id=\"T_b8abe_row4_col1\" class=\"data row4 col1\" >(935, 11)</td>\n",
              "    </tr>\n",
              "    <tr>\n",
              "      <th id=\"T_b8abe_level0_row5\" class=\"row_heading level0 row5\" >5</th>\n",
              "      <td id=\"T_b8abe_row5_col0\" class=\"data row5 col0\" >Transformed train set shape</td>\n",
              "      <td id=\"T_b8abe_row5_col1\" class=\"data row5 col1\" >(654, 11)</td>\n",
              "    </tr>\n",
              "    <tr>\n",
              "      <th id=\"T_b8abe_level0_row6\" class=\"row_heading level0 row6\" >6</th>\n",
              "      <td id=\"T_b8abe_row6_col0\" class=\"data row6 col0\" >Transformed test set shape</td>\n",
              "      <td id=\"T_b8abe_row6_col1\" class=\"data row6 col1\" >(281, 11)</td>\n",
              "    </tr>\n",
              "    <tr>\n",
              "      <th id=\"T_b8abe_level0_row7\" class=\"row_heading level0 row7\" >7</th>\n",
              "      <td id=\"T_b8abe_row7_col0\" class=\"data row7 col0\" >Numeric features</td>\n",
              "      <td id=\"T_b8abe_row7_col1\" class=\"data row7 col1\" >10</td>\n",
              "    </tr>\n",
              "    <tr>\n",
              "      <th id=\"T_b8abe_level0_row8\" class=\"row_heading level0 row8\" >8</th>\n",
              "      <td id=\"T_b8abe_row8_col0\" class=\"data row8 col0\" >Preprocess</td>\n",
              "      <td id=\"T_b8abe_row8_col1\" class=\"data row8 col1\" >True</td>\n",
              "    </tr>\n",
              "    <tr>\n",
              "      <th id=\"T_b8abe_level0_row9\" class=\"row_heading level0 row9\" >9</th>\n",
              "      <td id=\"T_b8abe_row9_col0\" class=\"data row9 col0\" >Imputation type</td>\n",
              "      <td id=\"T_b8abe_row9_col1\" class=\"data row9 col1\" >simple</td>\n",
              "    </tr>\n",
              "    <tr>\n",
              "      <th id=\"T_b8abe_level0_row10\" class=\"row_heading level0 row10\" >10</th>\n",
              "      <td id=\"T_b8abe_row10_col0\" class=\"data row10 col0\" >Numeric imputation</td>\n",
              "      <td id=\"T_b8abe_row10_col1\" class=\"data row10 col1\" >mean</td>\n",
              "    </tr>\n",
              "    <tr>\n",
              "      <th id=\"T_b8abe_level0_row11\" class=\"row_heading level0 row11\" >11</th>\n",
              "      <td id=\"T_b8abe_row11_col0\" class=\"data row11 col0\" >Categorical imputation</td>\n",
              "      <td id=\"T_b8abe_row11_col1\" class=\"data row11 col1\" >mode</td>\n",
              "    </tr>\n",
              "    <tr>\n",
              "      <th id=\"T_b8abe_level0_row12\" class=\"row_heading level0 row12\" >12</th>\n",
              "      <td id=\"T_b8abe_row12_col0\" class=\"data row12 col0\" >Fold Generator</td>\n",
              "      <td id=\"T_b8abe_row12_col1\" class=\"data row12 col1\" >KFold</td>\n",
              "    </tr>\n",
              "    <tr>\n",
              "      <th id=\"T_b8abe_level0_row13\" class=\"row_heading level0 row13\" >13</th>\n",
              "      <td id=\"T_b8abe_row13_col0\" class=\"data row13 col0\" >Fold Number</td>\n",
              "      <td id=\"T_b8abe_row13_col1\" class=\"data row13 col1\" >10</td>\n",
              "    </tr>\n",
              "    <tr>\n",
              "      <th id=\"T_b8abe_level0_row14\" class=\"row_heading level0 row14\" >14</th>\n",
              "      <td id=\"T_b8abe_row14_col0\" class=\"data row14 col0\" >CPU Jobs</td>\n",
              "      <td id=\"T_b8abe_row14_col1\" class=\"data row14 col1\" >-1</td>\n",
              "    </tr>\n",
              "    <tr>\n",
              "      <th id=\"T_b8abe_level0_row15\" class=\"row_heading level0 row15\" >15</th>\n",
              "      <td id=\"T_b8abe_row15_col0\" class=\"data row15 col0\" >Use GPU</td>\n",
              "      <td id=\"T_b8abe_row15_col1\" class=\"data row15 col1\" >False</td>\n",
              "    </tr>\n",
              "    <tr>\n",
              "      <th id=\"T_b8abe_level0_row16\" class=\"row_heading level0 row16\" >16</th>\n",
              "      <td id=\"T_b8abe_row16_col0\" class=\"data row16 col0\" >Log Experiment</td>\n",
              "      <td id=\"T_b8abe_row16_col1\" class=\"data row16 col1\" >False</td>\n",
              "    </tr>\n",
              "    <tr>\n",
              "      <th id=\"T_b8abe_level0_row17\" class=\"row_heading level0 row17\" >17</th>\n",
              "      <td id=\"T_b8abe_row17_col0\" class=\"data row17 col0\" >Experiment Name</td>\n",
              "      <td id=\"T_b8abe_row17_col1\" class=\"data row17 col1\" >reg-default-name</td>\n",
              "    </tr>\n",
              "    <tr>\n",
              "      <th id=\"T_b8abe_level0_row18\" class=\"row_heading level0 row18\" >18</th>\n",
              "      <td id=\"T_b8abe_row18_col0\" class=\"data row18 col0\" >USI</td>\n",
              "      <td id=\"T_b8abe_row18_col1\" class=\"data row18 col1\" >e13b</td>\n",
              "    </tr>\n",
              "  </tbody>\n",
              "</table>\n"
            ],
            "text/plain": [
              "<pandas.io.formats.style.Styler at 0x2b4b20bf7d0>"
            ]
          },
          "metadata": {},
          "output_type": "display_data"
        },
        {
          "data": {
            "text/plain": [
              "<pycaret.regression.oop.RegressionExperiment at 0x2b4ae0f6b10>"
            ]
          },
          "execution_count": 59,
          "metadata": {},
          "output_type": "execute_result"
        }
      ],
      "source": [
        "setup(data=df_py,  target='wage', session_id=555, train_size=0.7, preprocess=True)\n"
      ]
    },
    {
      "cell_type": "code",
      "execution_count": 60,
      "metadata": {},
      "outputs": [
        {
          "data": {
            "text/html": [
              "<div>\n",
              "<style scoped>\n",
              "    .dataframe tbody tr th:only-of-type {\n",
              "        vertical-align: middle;\n",
              "    }\n",
              "\n",
              "    .dataframe tbody tr th {\n",
              "        vertical-align: top;\n",
              "    }\n",
              "\n",
              "    .dataframe thead th {\n",
              "        text-align: right;\n",
              "    }\n",
              "</style>\n",
              "<table border=\"1\" class=\"dataframe\">\n",
              "  <thead>\n",
              "    <tr style=\"text-align: right;\">\n",
              "      <th></th>\n",
              "      <th>Name</th>\n",
              "      <th>Reference</th>\n",
              "      <th>Turbo</th>\n",
              "    </tr>\n",
              "    <tr>\n",
              "      <th>ID</th>\n",
              "      <th></th>\n",
              "      <th></th>\n",
              "      <th></th>\n",
              "    </tr>\n",
              "  </thead>\n",
              "  <tbody>\n",
              "    <tr>\n",
              "      <th>lr</th>\n",
              "      <td>Linear Regression</td>\n",
              "      <td>sklearn.linear_model._base.LinearRegression</td>\n",
              "      <td>True</td>\n",
              "    </tr>\n",
              "    <tr>\n",
              "      <th>lasso</th>\n",
              "      <td>Lasso Regression</td>\n",
              "      <td>sklearn.linear_model._coordinate_descent.Lasso</td>\n",
              "      <td>True</td>\n",
              "    </tr>\n",
              "    <tr>\n",
              "      <th>ridge</th>\n",
              "      <td>Ridge Regression</td>\n",
              "      <td>sklearn.linear_model._ridge.Ridge</td>\n",
              "      <td>True</td>\n",
              "    </tr>\n",
              "    <tr>\n",
              "      <th>en</th>\n",
              "      <td>Elastic Net</td>\n",
              "      <td>sklearn.linear_model._coordinate_descent.Elast...</td>\n",
              "      <td>True</td>\n",
              "    </tr>\n",
              "    <tr>\n",
              "      <th>lar</th>\n",
              "      <td>Least Angle Regression</td>\n",
              "      <td>sklearn.linear_model._least_angle.Lars</td>\n",
              "      <td>True</td>\n",
              "    </tr>\n",
              "    <tr>\n",
              "      <th>llar</th>\n",
              "      <td>Lasso Least Angle Regression</td>\n",
              "      <td>sklearn.linear_model._least_angle.LassoLars</td>\n",
              "      <td>True</td>\n",
              "    </tr>\n",
              "    <tr>\n",
              "      <th>omp</th>\n",
              "      <td>Orthogonal Matching Pursuit</td>\n",
              "      <td>sklearn.linear_model._omp.OrthogonalMatchingPu...</td>\n",
              "      <td>True</td>\n",
              "    </tr>\n",
              "    <tr>\n",
              "      <th>br</th>\n",
              "      <td>Bayesian Ridge</td>\n",
              "      <td>sklearn.linear_model._bayes.BayesianRidge</td>\n",
              "      <td>True</td>\n",
              "    </tr>\n",
              "    <tr>\n",
              "      <th>ard</th>\n",
              "      <td>Automatic Relevance Determination</td>\n",
              "      <td>sklearn.linear_model._bayes.ARDRegression</td>\n",
              "      <td>False</td>\n",
              "    </tr>\n",
              "    <tr>\n",
              "      <th>par</th>\n",
              "      <td>Passive Aggressive Regressor</td>\n",
              "      <td>sklearn.linear_model._passive_aggressive.Passi...</td>\n",
              "      <td>True</td>\n",
              "    </tr>\n",
              "    <tr>\n",
              "      <th>ransac</th>\n",
              "      <td>Random Sample Consensus</td>\n",
              "      <td>sklearn.linear_model._ransac.RANSACRegressor</td>\n",
              "      <td>False</td>\n",
              "    </tr>\n",
              "    <tr>\n",
              "      <th>tr</th>\n",
              "      <td>TheilSen Regressor</td>\n",
              "      <td>sklearn.linear_model._theil_sen.TheilSenRegressor</td>\n",
              "      <td>False</td>\n",
              "    </tr>\n",
              "    <tr>\n",
              "      <th>huber</th>\n",
              "      <td>Huber Regressor</td>\n",
              "      <td>sklearn.linear_model._huber.HuberRegressor</td>\n",
              "      <td>True</td>\n",
              "    </tr>\n",
              "    <tr>\n",
              "      <th>kr</th>\n",
              "      <td>Kernel Ridge</td>\n",
              "      <td>sklearn.kernel_ridge.KernelRidge</td>\n",
              "      <td>False</td>\n",
              "    </tr>\n",
              "    <tr>\n",
              "      <th>svm</th>\n",
              "      <td>Support Vector Regression</td>\n",
              "      <td>sklearn.svm._classes.SVR</td>\n",
              "      <td>False</td>\n",
              "    </tr>\n",
              "    <tr>\n",
              "      <th>knn</th>\n",
              "      <td>K Neighbors Regressor</td>\n",
              "      <td>sklearn.neighbors._regression.KNeighborsRegressor</td>\n",
              "      <td>True</td>\n",
              "    </tr>\n",
              "    <tr>\n",
              "      <th>dt</th>\n",
              "      <td>Decision Tree Regressor</td>\n",
              "      <td>sklearn.tree._classes.DecisionTreeRegressor</td>\n",
              "      <td>True</td>\n",
              "    </tr>\n",
              "    <tr>\n",
              "      <th>rf</th>\n",
              "      <td>Random Forest Regressor</td>\n",
              "      <td>sklearn.ensemble._forest.RandomForestRegressor</td>\n",
              "      <td>True</td>\n",
              "    </tr>\n",
              "    <tr>\n",
              "      <th>et</th>\n",
              "      <td>Extra Trees Regressor</td>\n",
              "      <td>sklearn.ensemble._forest.ExtraTreesRegressor</td>\n",
              "      <td>True</td>\n",
              "    </tr>\n",
              "    <tr>\n",
              "      <th>ada</th>\n",
              "      <td>AdaBoost Regressor</td>\n",
              "      <td>sklearn.ensemble._weight_boosting.AdaBoostRegr...</td>\n",
              "      <td>True</td>\n",
              "    </tr>\n",
              "    <tr>\n",
              "      <th>gbr</th>\n",
              "      <td>Gradient Boosting Regressor</td>\n",
              "      <td>sklearn.ensemble._gb.GradientBoostingRegressor</td>\n",
              "      <td>True</td>\n",
              "    </tr>\n",
              "    <tr>\n",
              "      <th>mlp</th>\n",
              "      <td>MLP Regressor</td>\n",
              "      <td>sklearn.neural_network._multilayer_perceptron....</td>\n",
              "      <td>False</td>\n",
              "    </tr>\n",
              "    <tr>\n",
              "      <th>lightgbm</th>\n",
              "      <td>Light Gradient Boosting Machine</td>\n",
              "      <td>lightgbm.sklearn.LGBMRegressor</td>\n",
              "      <td>True</td>\n",
              "    </tr>\n",
              "    <tr>\n",
              "      <th>catboost</th>\n",
              "      <td>CatBoost Regressor</td>\n",
              "      <td>catboost.core.CatBoostRegressor</td>\n",
              "      <td>True</td>\n",
              "    </tr>\n",
              "    <tr>\n",
              "      <th>dummy</th>\n",
              "      <td>Dummy Regressor</td>\n",
              "      <td>sklearn.dummy.DummyRegressor</td>\n",
              "      <td>True</td>\n",
              "    </tr>\n",
              "  </tbody>\n",
              "</table>\n",
              "</div>"
            ],
            "text/plain": [
              "                                       Name  \\\n",
              "ID                                            \n",
              "lr                        Linear Regression   \n",
              "lasso                      Lasso Regression   \n",
              "ridge                      Ridge Regression   \n",
              "en                              Elastic Net   \n",
              "lar                  Least Angle Regression   \n",
              "llar           Lasso Least Angle Regression   \n",
              "omp             Orthogonal Matching Pursuit   \n",
              "br                           Bayesian Ridge   \n",
              "ard       Automatic Relevance Determination   \n",
              "par            Passive Aggressive Regressor   \n",
              "ransac              Random Sample Consensus   \n",
              "tr                       TheilSen Regressor   \n",
              "huber                       Huber Regressor   \n",
              "kr                             Kernel Ridge   \n",
              "svm               Support Vector Regression   \n",
              "knn                   K Neighbors Regressor   \n",
              "dt                  Decision Tree Regressor   \n",
              "rf                  Random Forest Regressor   \n",
              "et                    Extra Trees Regressor   \n",
              "ada                      AdaBoost Regressor   \n",
              "gbr             Gradient Boosting Regressor   \n",
              "mlp                           MLP Regressor   \n",
              "lightgbm    Light Gradient Boosting Machine   \n",
              "catboost                 CatBoost Regressor   \n",
              "dummy                       Dummy Regressor   \n",
              "\n",
              "                                                  Reference  Turbo  \n",
              "ID                                                                  \n",
              "lr              sklearn.linear_model._base.LinearRegression   True  \n",
              "lasso        sklearn.linear_model._coordinate_descent.Lasso   True  \n",
              "ridge                     sklearn.linear_model._ridge.Ridge   True  \n",
              "en        sklearn.linear_model._coordinate_descent.Elast...   True  \n",
              "lar                  sklearn.linear_model._least_angle.Lars   True  \n",
              "llar            sklearn.linear_model._least_angle.LassoLars   True  \n",
              "omp       sklearn.linear_model._omp.OrthogonalMatchingPu...   True  \n",
              "br                sklearn.linear_model._bayes.BayesianRidge   True  \n",
              "ard               sklearn.linear_model._bayes.ARDRegression  False  \n",
              "par       sklearn.linear_model._passive_aggressive.Passi...   True  \n",
              "ransac         sklearn.linear_model._ransac.RANSACRegressor  False  \n",
              "tr        sklearn.linear_model._theil_sen.TheilSenRegressor  False  \n",
              "huber            sklearn.linear_model._huber.HuberRegressor   True  \n",
              "kr                         sklearn.kernel_ridge.KernelRidge  False  \n",
              "svm                                sklearn.svm._classes.SVR  False  \n",
              "knn       sklearn.neighbors._regression.KNeighborsRegressor   True  \n",
              "dt              sklearn.tree._classes.DecisionTreeRegressor   True  \n",
              "rf           sklearn.ensemble._forest.RandomForestRegressor   True  \n",
              "et             sklearn.ensemble._forest.ExtraTreesRegressor   True  \n",
              "ada       sklearn.ensemble._weight_boosting.AdaBoostRegr...   True  \n",
              "gbr          sklearn.ensemble._gb.GradientBoostingRegressor   True  \n",
              "mlp       sklearn.neural_network._multilayer_perceptron....  False  \n",
              "lightgbm                     lightgbm.sklearn.LGBMRegressor   True  \n",
              "catboost                    catboost.core.CatBoostRegressor   True  \n",
              "dummy                          sklearn.dummy.DummyRegressor   True  "
            ]
          },
          "execution_count": 60,
          "metadata": {},
          "output_type": "execute_result"
        }
      ],
      "source": [
        "models()"
      ]
    },
    {
      "cell_type": "markdown",
      "metadata": {},
      "source": [
        "## Create and tune model"
      ]
    },
    {
      "cell_type": "code",
      "execution_count": 61,
      "metadata": {},
      "outputs": [
        {
          "data": {
            "text/html": [],
            "text/plain": [
              "<IPython.core.display.HTML object>"
            ]
          },
          "metadata": {},
          "output_type": "display_data"
        },
        {
          "data": {
            "text/html": [
              "<style type=\"text/css\">\n",
              "#T_5a332_row10_col0, #T_5a332_row10_col1, #T_5a332_row10_col2, #T_5a332_row10_col3, #T_5a332_row10_col4, #T_5a332_row10_col5 {\n",
              "  background: yellow;\n",
              "}\n",
              "</style>\n",
              "<table id=\"T_5a332\">\n",
              "  <thead>\n",
              "    <tr>\n",
              "      <th class=\"blank level0\" >&nbsp;</th>\n",
              "      <th id=\"T_5a332_level0_col0\" class=\"col_heading level0 col0\" >MAE</th>\n",
              "      <th id=\"T_5a332_level0_col1\" class=\"col_heading level0 col1\" >MSE</th>\n",
              "      <th id=\"T_5a332_level0_col2\" class=\"col_heading level0 col2\" >RMSE</th>\n",
              "      <th id=\"T_5a332_level0_col3\" class=\"col_heading level0 col3\" >R2</th>\n",
              "      <th id=\"T_5a332_level0_col4\" class=\"col_heading level0 col4\" >RMSLE</th>\n",
              "      <th id=\"T_5a332_level0_col5\" class=\"col_heading level0 col5\" >MAPE</th>\n",
              "    </tr>\n",
              "    <tr>\n",
              "      <th class=\"index_name level0\" >Fold</th>\n",
              "      <th class=\"blank col0\" >&nbsp;</th>\n",
              "      <th class=\"blank col1\" >&nbsp;</th>\n",
              "      <th class=\"blank col2\" >&nbsp;</th>\n",
              "      <th class=\"blank col3\" >&nbsp;</th>\n",
              "      <th class=\"blank col4\" >&nbsp;</th>\n",
              "      <th class=\"blank col5\" >&nbsp;</th>\n",
              "    </tr>\n",
              "  </thead>\n",
              "  <tbody>\n",
              "    <tr>\n",
              "      <th id=\"T_5a332_level0_row0\" class=\"row_heading level0 row0\" >0</th>\n",
              "      <td id=\"T_5a332_row0_col0\" class=\"data row0 col0\" >31609.6973</td>\n",
              "      <td id=\"T_5a332_row0_col1\" class=\"data row0 col1\" >1526411904.0000</td>\n",
              "      <td id=\"T_5a332_row0_col2\" class=\"data row0 col2\" >39069.3203</td>\n",
              "      <td id=\"T_5a332_row0_col3\" class=\"data row0 col3\" >-0.0906</td>\n",
              "      <td id=\"T_5a332_row0_col4\" class=\"data row0 col4\" >0.4365</td>\n",
              "      <td id=\"T_5a332_row0_col5\" class=\"data row0 col5\" >0.4289</td>\n",
              "    </tr>\n",
              "    <tr>\n",
              "      <th id=\"T_5a332_level0_row1\" class=\"row_heading level0 row1\" >1</th>\n",
              "      <td id=\"T_5a332_row1_col0\" class=\"data row1 col0\" >28976.0605</td>\n",
              "      <td id=\"T_5a332_row1_col1\" class=\"data row1 col1\" >1683742464.0000</td>\n",
              "      <td id=\"T_5a332_row1_col2\" class=\"data row1 col2\" >41033.4297</td>\n",
              "      <td id=\"T_5a332_row1_col3\" class=\"data row1 col3\" >0.0458</td>\n",
              "      <td id=\"T_5a332_row1_col4\" class=\"data row1 col4\" >0.3872</td>\n",
              "      <td id=\"T_5a332_row1_col5\" class=\"data row1 col5\" >0.3174</td>\n",
              "    </tr>\n",
              "    <tr>\n",
              "      <th id=\"T_5a332_level0_row2\" class=\"row_heading level0 row2\" >2</th>\n",
              "      <td id=\"T_5a332_row2_col0\" class=\"data row2 col0\" >28091.8184</td>\n",
              "      <td id=\"T_5a332_row2_col1\" class=\"data row2 col1\" >1260069504.0000</td>\n",
              "      <td id=\"T_5a332_row2_col2\" class=\"data row2 col2\" >35497.4570</td>\n",
              "      <td id=\"T_5a332_row2_col3\" class=\"data row2 col3\" >0.0653</td>\n",
              "      <td id=\"T_5a332_row2_col4\" class=\"data row2 col4\" >0.3900</td>\n",
              "      <td id=\"T_5a332_row2_col5\" class=\"data row2 col5\" >0.3354</td>\n",
              "    </tr>\n",
              "    <tr>\n",
              "      <th id=\"T_5a332_level0_row3\" class=\"row_heading level0 row3\" >3</th>\n",
              "      <td id=\"T_5a332_row3_col0\" class=\"data row3 col0\" >28150.0000</td>\n",
              "      <td id=\"T_5a332_row3_col1\" class=\"data row3 col1\" >1741220352.0000</td>\n",
              "      <td id=\"T_5a332_row3_col2\" class=\"data row3 col2\" >41727.9336</td>\n",
              "      <td id=\"T_5a332_row3_col3\" class=\"data row3 col3\" >0.1454</td>\n",
              "      <td id=\"T_5a332_row3_col4\" class=\"data row3 col4\" >0.4039</td>\n",
              "      <td id=\"T_5a332_row3_col5\" class=\"data row3 col5\" >0.3388</td>\n",
              "    </tr>\n",
              "    <tr>\n",
              "      <th id=\"T_5a332_level0_row4\" class=\"row_heading level0 row4\" >4</th>\n",
              "      <td id=\"T_5a332_row4_col0\" class=\"data row4 col0\" >37077.8477</td>\n",
              "      <td id=\"T_5a332_row4_col1\" class=\"data row4 col1\" >2854799872.0000</td>\n",
              "      <td id=\"T_5a332_row4_col2\" class=\"data row4 col2\" >53430.3281</td>\n",
              "      <td id=\"T_5a332_row4_col3\" class=\"data row4 col3\" >0.0373</td>\n",
              "      <td id=\"T_5a332_row4_col4\" class=\"data row4 col4\" >0.4942</td>\n",
              "      <td id=\"T_5a332_row4_col5\" class=\"data row4 col5\" >0.4589</td>\n",
              "    </tr>\n",
              "    <tr>\n",
              "      <th id=\"T_5a332_level0_row5\" class=\"row_heading level0 row5\" >5</th>\n",
              "      <td id=\"T_5a332_row5_col0\" class=\"data row5 col0\" >31563.3848</td>\n",
              "      <td id=\"T_5a332_row5_col1\" class=\"data row5 col1\" >1889211776.0000</td>\n",
              "      <td id=\"T_5a332_row5_col2\" class=\"data row5 col2\" >43465.0625</td>\n",
              "      <td id=\"T_5a332_row5_col3\" class=\"data row5 col3\" >0.0665</td>\n",
              "      <td id=\"T_5a332_row5_col4\" class=\"data row5 col4\" >0.4006</td>\n",
              "      <td id=\"T_5a332_row5_col5\" class=\"data row5 col5\" >0.3501</td>\n",
              "    </tr>\n",
              "    <tr>\n",
              "      <th id=\"T_5a332_level0_row6\" class=\"row_heading level0 row6\" >6</th>\n",
              "      <td id=\"T_5a332_row6_col0\" class=\"data row6 col0\" >33651.3828</td>\n",
              "      <td id=\"T_5a332_row6_col1\" class=\"data row6 col1\" >1594383232.0000</td>\n",
              "      <td id=\"T_5a332_row6_col2\" class=\"data row6 col2\" >39929.7305</td>\n",
              "      <td id=\"T_5a332_row6_col3\" class=\"data row6 col3\" >-0.1608</td>\n",
              "      <td id=\"T_5a332_row6_col4\" class=\"data row6 col4\" >0.4571</td>\n",
              "      <td id=\"T_5a332_row6_col5\" class=\"data row6 col5\" >0.4364</td>\n",
              "    </tr>\n",
              "    <tr>\n",
              "      <th id=\"T_5a332_level0_row7\" class=\"row_heading level0 row7\" >7</th>\n",
              "      <td id=\"T_5a332_row7_col0\" class=\"data row7 col0\" >28722.7695</td>\n",
              "      <td id=\"T_5a332_row7_col1\" class=\"data row7 col1\" >1203467264.0000</td>\n",
              "      <td id=\"T_5a332_row7_col2\" class=\"data row7 col2\" >34691.0273</td>\n",
              "      <td id=\"T_5a332_row7_col3\" class=\"data row7 col3\" >-0.0519</td>\n",
              "      <td id=\"T_5a332_row7_col4\" class=\"data row7 col4\" >0.3902</td>\n",
              "      <td id=\"T_5a332_row7_col5\" class=\"data row7 col5\" >0.3746</td>\n",
              "    </tr>\n",
              "    <tr>\n",
              "      <th id=\"T_5a332_level0_row8\" class=\"row_heading level0 row8\" >8</th>\n",
              "      <td id=\"T_5a332_row8_col0\" class=\"data row8 col0\" >28715.6914</td>\n",
              "      <td id=\"T_5a332_row8_col1\" class=\"data row8 col1\" >1360393856.0000</td>\n",
              "      <td id=\"T_5a332_row8_col2\" class=\"data row8 col2\" >36883.5156</td>\n",
              "      <td id=\"T_5a332_row8_col3\" class=\"data row8 col3\" >-0.1385</td>\n",
              "      <td id=\"T_5a332_row8_col4\" class=\"data row8 col4\" >0.4215</td>\n",
              "      <td id=\"T_5a332_row8_col5\" class=\"data row8 col5\" >0.3542</td>\n",
              "    </tr>\n",
              "    <tr>\n",
              "      <th id=\"T_5a332_level0_row9\" class=\"row_heading level0 row9\" >9</th>\n",
              "      <td id=\"T_5a332_row9_col0\" class=\"data row9 col0\" >30891.0762</td>\n",
              "      <td id=\"T_5a332_row9_col1\" class=\"data row9 col1\" >1574882816.0000</td>\n",
              "      <td id=\"T_5a332_row9_col2\" class=\"data row9 col2\" >39684.7930</td>\n",
              "      <td id=\"T_5a332_row9_col3\" class=\"data row9 col3\" >-0.5343</td>\n",
              "      <td id=\"T_5a332_row9_col4\" class=\"data row9 col4\" >0.4273</td>\n",
              "      <td id=\"T_5a332_row9_col5\" class=\"data row9 col5\" >0.3704</td>\n",
              "    </tr>\n",
              "    <tr>\n",
              "      <th id=\"T_5a332_level0_row10\" class=\"row_heading level0 row10\" >Mean</th>\n",
              "      <td id=\"T_5a332_row10_col0\" class=\"data row10 col0\" >30744.9729</td>\n",
              "      <td id=\"T_5a332_row10_col1\" class=\"data row10 col1\" >1668858304.0000</td>\n",
              "      <td id=\"T_5a332_row10_col2\" class=\"data row10 col2\" >40541.2598</td>\n",
              "      <td id=\"T_5a332_row10_col3\" class=\"data row10 col3\" >-0.0616</td>\n",
              "      <td id=\"T_5a332_row10_col4\" class=\"data row10 col4\" >0.4209</td>\n",
              "      <td id=\"T_5a332_row10_col5\" class=\"data row10 col5\" >0.3765</td>\n",
              "    </tr>\n",
              "    <tr>\n",
              "      <th id=\"T_5a332_level0_row11\" class=\"row_heading level0 row11\" >Std</th>\n",
              "      <td id=\"T_5a332_row11_col0\" class=\"data row11 col0\" >2740.4538</td>\n",
              "      <td id=\"T_5a332_row11_col1\" class=\"data row11 col1\" >444295755.5399</td>\n",
              "      <td id=\"T_5a332_row11_col2\" class=\"data row11 col2\" >5026.3854</td>\n",
              "      <td id=\"T_5a332_row11_col3\" class=\"data row11 col3\" >0.1835</td>\n",
              "      <td id=\"T_5a332_row11_col4\" class=\"data row11 col4\" >0.0327</td>\n",
              "      <td id=\"T_5a332_row11_col5\" class=\"data row11 col5\" >0.0458</td>\n",
              "    </tr>\n",
              "  </tbody>\n",
              "</table>\n"
            ],
            "text/plain": [
              "<pandas.io.formats.style.Styler at 0x2b4b24a64d0>"
            ]
          },
          "metadata": {},
          "output_type": "display_data"
        },
        {
          "data": {
            "text/html": [],
            "text/plain": [
              "<IPython.core.display.HTML object>"
            ]
          },
          "metadata": {},
          "output_type": "display_data"
        }
      ],
      "source": [
        "knn_reg = create_model(estimator='knn') # how can you change the number of neighbors?"
      ]
    },
    {
      "cell_type": "code",
      "execution_count": 62,
      "metadata": {},
      "outputs": [
        {
          "data": {
            "text/html": [],
            "text/plain": [
              "<IPython.core.display.HTML object>"
            ]
          },
          "metadata": {},
          "output_type": "display_data"
        },
        {
          "data": {
            "text/html": [
              "<style type=\"text/css\">\n",
              "#T_07754_row10_col0, #T_07754_row10_col1, #T_07754_row10_col2, #T_07754_row10_col3, #T_07754_row10_col4, #T_07754_row10_col5 {\n",
              "  background: yellow;\n",
              "}\n",
              "</style>\n",
              "<table id=\"T_07754\">\n",
              "  <thead>\n",
              "    <tr>\n",
              "      <th class=\"blank level0\" >&nbsp;</th>\n",
              "      <th id=\"T_07754_level0_col0\" class=\"col_heading level0 col0\" >MAE</th>\n",
              "      <th id=\"T_07754_level0_col1\" class=\"col_heading level0 col1\" >MSE</th>\n",
              "      <th id=\"T_07754_level0_col2\" class=\"col_heading level0 col2\" >RMSE</th>\n",
              "      <th id=\"T_07754_level0_col3\" class=\"col_heading level0 col3\" >R2</th>\n",
              "      <th id=\"T_07754_level0_col4\" class=\"col_heading level0 col4\" >RMSLE</th>\n",
              "      <th id=\"T_07754_level0_col5\" class=\"col_heading level0 col5\" >MAPE</th>\n",
              "    </tr>\n",
              "    <tr>\n",
              "      <th class=\"index_name level0\" >Fold</th>\n",
              "      <th class=\"blank col0\" >&nbsp;</th>\n",
              "      <th class=\"blank col1\" >&nbsp;</th>\n",
              "      <th class=\"blank col2\" >&nbsp;</th>\n",
              "      <th class=\"blank col3\" >&nbsp;</th>\n",
              "      <th class=\"blank col4\" >&nbsp;</th>\n",
              "      <th class=\"blank col5\" >&nbsp;</th>\n",
              "    </tr>\n",
              "  </thead>\n",
              "  <tbody>\n",
              "    <tr>\n",
              "      <th id=\"T_07754_level0_row0\" class=\"row_heading level0 row0\" >0</th>\n",
              "      <td id=\"T_07754_row0_col0\" class=\"data row0 col0\" >28590.2617</td>\n",
              "      <td id=\"T_07754_row0_col1\" class=\"data row0 col1\" >1286786816.0000</td>\n",
              "      <td id=\"T_07754_row0_col2\" class=\"data row0 col2\" >35871.8125</td>\n",
              "      <td id=\"T_07754_row0_col3\" class=\"data row0 col3\" >0.0806</td>\n",
              "      <td id=\"T_07754_row0_col4\" class=\"data row0 col4\" >0.4184</td>\n",
              "      <td id=\"T_07754_row0_col5\" class=\"data row0 col5\" >0.4023</td>\n",
              "    </tr>\n",
              "    <tr>\n",
              "      <th id=\"T_07754_level0_row1\" class=\"row_heading level0 row1\" >1</th>\n",
              "      <td id=\"T_07754_row1_col0\" class=\"data row1 col0\" >27892.2988</td>\n",
              "      <td id=\"T_07754_row1_col1\" class=\"data row1 col1\" >1655517056.0000</td>\n",
              "      <td id=\"T_07754_row1_col2\" class=\"data row1 col2\" >40688.0469</td>\n",
              "      <td id=\"T_07754_row1_col3\" class=\"data row1 col3\" >0.0618</td>\n",
              "      <td id=\"T_07754_row1_col4\" class=\"data row1 col4\" >0.3704</td>\n",
              "      <td id=\"T_07754_row1_col5\" class=\"data row1 col5\" >0.2989</td>\n",
              "    </tr>\n",
              "    <tr>\n",
              "      <th id=\"T_07754_level0_row2\" class=\"row_heading level0 row2\" >2</th>\n",
              "      <td id=\"T_07754_row2_col0\" class=\"data row2 col0\" >26232.4062</td>\n",
              "      <td id=\"T_07754_row2_col1\" class=\"data row2 col1\" >1065983488.0000</td>\n",
              "      <td id=\"T_07754_row2_col2\" class=\"data row2 col2\" >32649.4023</td>\n",
              "      <td id=\"T_07754_row2_col3\" class=\"data row2 col3\" >0.2092</td>\n",
              "      <td id=\"T_07754_row2_col4\" class=\"data row2 col4\" >0.3527</td>\n",
              "      <td id=\"T_07754_row2_col5\" class=\"data row2 col5\" >0.3097</td>\n",
              "    </tr>\n",
              "    <tr>\n",
              "      <th id=\"T_07754_level0_row3\" class=\"row_heading level0 row3\" >3</th>\n",
              "      <td id=\"T_07754_row3_col0\" class=\"data row3 col0\" >26907.5430</td>\n",
              "      <td id=\"T_07754_row3_col1\" class=\"data row3 col1\" >1550076544.0000</td>\n",
              "      <td id=\"T_07754_row3_col2\" class=\"data row3 col2\" >39371.0117</td>\n",
              "      <td id=\"T_07754_row3_col3\" class=\"data row3 col3\" >0.2392</td>\n",
              "      <td id=\"T_07754_row3_col4\" class=\"data row3 col4\" >0.3816</td>\n",
              "      <td id=\"T_07754_row3_col5\" class=\"data row3 col5\" >0.3344</td>\n",
              "    </tr>\n",
              "    <tr>\n",
              "      <th id=\"T_07754_level0_row4\" class=\"row_heading level0 row4\" >4</th>\n",
              "      <td id=\"T_07754_row4_col0\" class=\"data row4 col0\" >34635.7305</td>\n",
              "      <td id=\"T_07754_row4_col1\" class=\"data row4 col1\" >2689418240.0000</td>\n",
              "      <td id=\"T_07754_row4_col2\" class=\"data row4 col2\" >51859.6016</td>\n",
              "      <td id=\"T_07754_row4_col3\" class=\"data row4 col3\" >0.0931</td>\n",
              "      <td id=\"T_07754_row4_col4\" class=\"data row4 col4\" >0.4745</td>\n",
              "      <td id=\"T_07754_row4_col5\" class=\"data row4 col5\" >0.4251</td>\n",
              "    </tr>\n",
              "    <tr>\n",
              "      <th id=\"T_07754_level0_row5\" class=\"row_heading level0 row5\" >5</th>\n",
              "      <td id=\"T_07754_row5_col0\" class=\"data row5 col0\" >29392.8711</td>\n",
              "      <td id=\"T_07754_row5_col1\" class=\"data row5 col1\" >1877452544.0000</td>\n",
              "      <td id=\"T_07754_row5_col2\" class=\"data row5 col2\" >43329.5820</td>\n",
              "      <td id=\"T_07754_row5_col3\" class=\"data row5 col3\" >0.0723</td>\n",
              "      <td id=\"T_07754_row5_col4\" class=\"data row5 col4\" >0.3835</td>\n",
              "      <td id=\"T_07754_row5_col5\" class=\"data row5 col5\" >0.3224</td>\n",
              "    </tr>\n",
              "    <tr>\n",
              "      <th id=\"T_07754_level0_row6\" class=\"row_heading level0 row6\" >6</th>\n",
              "      <td id=\"T_07754_row6_col0\" class=\"data row6 col0\" >31037.8984</td>\n",
              "      <td id=\"T_07754_row6_col1\" class=\"data row6 col1\" >1432612864.0000</td>\n",
              "      <td id=\"T_07754_row6_col2\" class=\"data row6 col2\" >37849.8711</td>\n",
              "      <td id=\"T_07754_row6_col3\" class=\"data row6 col3\" >-0.0430</td>\n",
              "      <td id=\"T_07754_row6_col4\" class=\"data row6 col4\" >0.4262</td>\n",
              "      <td id=\"T_07754_row6_col5\" class=\"data row6 col5\" >0.3964</td>\n",
              "    </tr>\n",
              "    <tr>\n",
              "      <th id=\"T_07754_level0_row7\" class=\"row_heading level0 row7\" >7</th>\n",
              "      <td id=\"T_07754_row7_col0\" class=\"data row7 col0\" >27327.3789</td>\n",
              "      <td id=\"T_07754_row7_col1\" class=\"data row7 col1\" >1090189312.0000</td>\n",
              "      <td id=\"T_07754_row7_col2\" class=\"data row7 col2\" >33018.0156</td>\n",
              "      <td id=\"T_07754_row7_col3\" class=\"data row7 col3\" >0.0471</td>\n",
              "      <td id=\"T_07754_row7_col4\" class=\"data row7 col4\" >0.3853</td>\n",
              "      <td id=\"T_07754_row7_col5\" class=\"data row7 col5\" >0.3786</td>\n",
              "    </tr>\n",
              "    <tr>\n",
              "      <th id=\"T_07754_level0_row8\" class=\"row_heading level0 row8\" >8</th>\n",
              "      <td id=\"T_07754_row8_col0\" class=\"data row8 col0\" >26740.9121</td>\n",
              "      <td id=\"T_07754_row8_col1\" class=\"data row8 col1\" >1116325632.0000</td>\n",
              "      <td id=\"T_07754_row8_col2\" class=\"data row8 col2\" >33411.4609</td>\n",
              "      <td id=\"T_07754_row8_col3\" class=\"data row8 col3\" >0.0658</td>\n",
              "      <td id=\"T_07754_row8_col4\" class=\"data row8 col4\" >0.4050</td>\n",
              "      <td id=\"T_07754_row8_col5\" class=\"data row8 col5\" >0.3628</td>\n",
              "    </tr>\n",
              "    <tr>\n",
              "      <th id=\"T_07754_level0_row9\" class=\"row_heading level0 row9\" >9</th>\n",
              "      <td id=\"T_07754_row9_col0\" class=\"data row9 col0\" >25325.6504</td>\n",
              "      <td id=\"T_07754_row9_col1\" class=\"data row9 col1\" >927098688.0000</td>\n",
              "      <td id=\"T_07754_row9_col2\" class=\"data row9 col2\" >30448.2949</td>\n",
              "      <td id=\"T_07754_row9_col3\" class=\"data row9 col3\" >0.0968</td>\n",
              "      <td id=\"T_07754_row9_col4\" class=\"data row9 col4\" >0.3320</td>\n",
              "      <td id=\"T_07754_row9_col5\" class=\"data row9 col5\" >0.3036</td>\n",
              "    </tr>\n",
              "    <tr>\n",
              "      <th id=\"T_07754_level0_row10\" class=\"row_heading level0 row10\" >Mean</th>\n",
              "      <td id=\"T_07754_row10_col0\" class=\"data row10 col0\" >28408.2951</td>\n",
              "      <td id=\"T_07754_row10_col1\" class=\"data row10 col1\" >1469146118.4000</td>\n",
              "      <td id=\"T_07754_row10_col2\" class=\"data row10 col2\" >37849.7100</td>\n",
              "      <td id=\"T_07754_row10_col3\" class=\"data row10 col3\" >0.0923</td>\n",
              "      <td id=\"T_07754_row10_col4\" class=\"data row10 col4\" >0.3930</td>\n",
              "      <td id=\"T_07754_row10_col5\" class=\"data row10 col5\" >0.3534</td>\n",
              "    </tr>\n",
              "    <tr>\n",
              "      <th id=\"T_07754_level0_row11\" class=\"row_heading level0 row11\" >Std</th>\n",
              "      <td id=\"T_07754_row11_col0\" class=\"data row11 col0\" >2596.1994</td>\n",
              "      <td id=\"T_07754_row11_col1\" class=\"data row11 col1\" >495590326.9893</td>\n",
              "      <td id=\"T_07754_row11_col2\" class=\"data row11 col2\" >6045.2967</td>\n",
              "      <td id=\"T_07754_row11_col3\" class=\"data row11 col3\" >0.0760</td>\n",
              "      <td id=\"T_07754_row11_col4\" class=\"data row11 col4\" >0.0383</td>\n",
              "      <td id=\"T_07754_row11_col5\" class=\"data row11 col5\" >0.0433</td>\n",
              "    </tr>\n",
              "  </tbody>\n",
              "</table>\n"
            ],
            "text/plain": [
              "<pandas.io.formats.style.Styler at 0x2b4b0c75750>"
            ]
          },
          "metadata": {},
          "output_type": "display_data"
        },
        {
          "data": {
            "text/html": [],
            "text/plain": [
              "<IPython.core.display.HTML object>"
            ]
          },
          "metadata": {},
          "output_type": "display_data"
        },
        {
          "name": "stdout",
          "output_type": "stream",
          "text": [
            "Fitting 10 folds for each of 10 candidates, totalling 100 fits\n"
          ]
        }
      ],
      "source": [
        "tuned_knn_reg = tune_model(knn_reg)"
      ]
    },
    {
      "cell_type": "markdown",
      "metadata": {},
      "source": [
        "## Plot Model\n"
      ]
    },
    {
      "cell_type": "code",
      "execution_count": 63,
      "metadata": {},
      "outputs": [
        {
          "data": {
            "text/html": [],
            "text/plain": [
              "<IPython.core.display.HTML object>"
            ]
          },
          "metadata": {},
          "output_type": "display_data"
        },
        {
          "data": {
            "text/html": [
              "<div>\n",
              "<style scoped>\n",
              "    .dataframe tbody tr th:only-of-type {\n",
              "        vertical-align: middle;\n",
              "    }\n",
              "\n",
              "    .dataframe tbody tr th {\n",
              "        vertical-align: top;\n",
              "    }\n",
              "\n",
              "    .dataframe thead th {\n",
              "        text-align: right;\n",
              "    }\n",
              "</style>\n",
              "<table border=\"1\" class=\"dataframe\">\n",
              "  <thead>\n",
              "    <tr style=\"text-align: right;\">\n",
              "      <th></th>\n",
              "      <th>Parameters</th>\n",
              "    </tr>\n",
              "  </thead>\n",
              "  <tbody>\n",
              "    <tr>\n",
              "      <th>algorithm</th>\n",
              "      <td>auto</td>\n",
              "    </tr>\n",
              "    <tr>\n",
              "      <th>leaf_size</th>\n",
              "      <td>30</td>\n",
              "    </tr>\n",
              "    <tr>\n",
              "      <th>metric</th>\n",
              "      <td>minkowski</td>\n",
              "    </tr>\n",
              "    <tr>\n",
              "      <th>metric_params</th>\n",
              "      <td>None</td>\n",
              "    </tr>\n",
              "    <tr>\n",
              "      <th>n_jobs</th>\n",
              "      <td>-1</td>\n",
              "    </tr>\n",
              "    <tr>\n",
              "      <th>n_neighbors</th>\n",
              "      <td>49</td>\n",
              "    </tr>\n",
              "    <tr>\n",
              "      <th>p</th>\n",
              "      <td>2</td>\n",
              "    </tr>\n",
              "    <tr>\n",
              "      <th>weights</th>\n",
              "      <td>uniform</td>\n",
              "    </tr>\n",
              "  </tbody>\n",
              "</table>\n",
              "</div>"
            ],
            "text/plain": [
              "              Parameters\n",
              "algorithm           auto\n",
              "leaf_size             30\n",
              "metric         minkowski\n",
              "metric_params       None\n",
              "n_jobs                -1\n",
              "n_neighbors           49\n",
              "p                      2\n",
              "weights          uniform"
            ]
          },
          "metadata": {},
          "output_type": "display_data"
        }
      ],
      "source": [
        "plot_model(tuned_knn_reg, plot = 'parameter')"
      ]
    },
    {
      "cell_type": "code",
      "execution_count": 64,
      "metadata": {},
      "outputs": [
        {
          "data": {
            "text/html": [],
            "text/plain": [
              "<IPython.core.display.HTML object>"
            ]
          },
          "metadata": {},
          "output_type": "display_data"
        },
        {
          "data": {
            "image/png": "[encoded data removed]",
            "text/plain": [
              "<Figure size 800x550 with 2 Axes>"
            ]
          },
          "metadata": {},
          "output_type": "display_data"
        }
      ],
      "source": [
        "plot_model(tuned_knn_reg, plot = 'residuals')"
      ]
    },
    {
      "cell_type": "code",
      "execution_count": 65,
      "metadata": {},
      "outputs": [
        {
          "data": {
            "text/html": [],
            "text/plain": [
              "<IPython.core.display.HTML object>"
            ]
          },
          "metadata": {},
          "output_type": "display_data"
        },
        {
          "data": {
            "image/png": "[encoded data removed]",
            "text/plain": [
              "<Figure size 800x550 with 1 Axes>"
            ]
          },
          "metadata": {},
          "output_type": "display_data"
        }
      ],
      "source": [
        "plot_model(tuned_knn_reg, plot = 'learning')"
      ]
    },
    {
      "cell_type": "markdown",
      "metadata": {},
      "source": [
        "----\n",
        "Done!"
      ]
    },
    {
      "cell_type": "markdown",
      "metadata": {
        "id": "0D4IpBl2-kTx"
      },
      "source": [
        "###  Additional links:\n",
        "1. KNN regression Scikit Learn documentation: https://scikit-learn.org/stable/modules/generated/sklearn.neighbors.KNeighborsRegressor.html \n",
        "2. Minkowski distance: https://en.wikipedia.org/wiki/Minkowski_distance\n",
        "3. Behind the scenes of Nearest Neigbor search: https://www.analyticsvidhya.com/blog/2017/11/information-retrieval-using-kdtree/\n",
        "4. BallTree vs KDTree vs Brute force KNN: https://towardsdatascience.com/tree-algorithms-explained-ball-tree-algorithm-vs-kd-tree-vs-brute-force-9746debcd940"
      ]
    }
  ],
  "metadata": {
    "colab": {
      "collapsed_sections": [],
      "provenance": []
    },
    "kernelspec": {
      "display_name": "deep_forecasting",
      "language": "python",
      "name": "python3"
    },
    "language_info": {
      "codemirror_mode": {
        "name": "ipython",
        "version": 3
      },
      "file_extension": ".py",
      "mimetype": "text/x-python",
      "name": "python",
      "nbconvert_exporter": "python",
      "pygments_lexer": "ipython3",
      "version": "3.11.9"
    }
  },
  "nbformat": 4,
  "nbformat_minor": 0
}
