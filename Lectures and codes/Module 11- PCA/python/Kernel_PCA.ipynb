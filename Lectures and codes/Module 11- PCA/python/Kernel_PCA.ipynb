{
 "cells": [
  {
   "attachments": {},
   "cell_type": "markdown",
   "metadata": {},
   "source": [
    "# Prof. Pedram Jahangiry\n",
    "\n",
    "You need to make a copy to your own Google drive if you want to edit the original notebook! Start by opening this notebook on Colab 👇\n",
    "\n",
    "<a href=\"https://colab.research.google.com/github/PJalgotrader/Machine_Learning-USU/blob/main/Lectures%20and%20codes/Module%2011-%20PCA/python/Kernel_PCA.ipynb\" target=\"_parent\"><img src=\"https://colab.research.google.com/assets/colab-badge.svg\" alt=\"Open In Colab\"/></a> \n",
    "\n",
    "\n",
    "\n",
    "![logo](https://upload.wikimedia.org/wikipedia/commons/4/44/Huntsman-Wordmark-with-USU-Blue.gif#center) \n",
    "\n",
    "\n",
    "## 🔗 Links\n",
    "\n",
    "[![linkedin](https://img.shields.io/badge/LinkedIn-0A66C2?style=for-the-badge&logo=linkedin&logoColor=white)](https://www.linkedin.com/in/pedram-jahangiry-cfa-5778015a)\n",
    "\n",
    "[![Youtube](https://img.shields.io/badge/youtube_channel-1DA1F2?style=for-the-badge&logo=youtube&logoColor=white&color=FF0000)](https://www.youtube.com/channel/UCNDElcuuyX-2pSatVBDpJJQ)\n",
    "\n",
    "[![Twitter URL](https://img.shields.io/twitter/url/https/twitter.com/PedramJahangiry.svg?style=social&label=Follow%20%40PedramJahangiry)](https://twitter.com/PedramJahangiry)\n",
    "\n",
    "\n",
    "---"
   ]
  },
  {
   "cell_type": "markdown",
   "metadata": {},
   "source": [
    "# Kernel PCA\n",
    "\n",
    "In this notebook, we are going to show the application of Kernel PCA when preprocessing the data for a supervised learning model. "
   ]
  },
  {
   "cell_type": "code",
   "execution_count": 145,
   "metadata": {},
   "outputs": [],
   "source": [
    "import numpy as np\n",
    "import pandas as pd\n",
    "import matplotlib.pyplot as plt\n",
    "import seaborn as sns\n",
    "sns.set()  #if you want to use seaborn themes with matplotlib functions\n",
    "import warnings\n",
    "warnings.filterwarnings('ignore')"
   ]
  },
  {
   "cell_type": "code",
   "execution_count": 146,
   "metadata": {},
   "outputs": [],
   "source": [
    "rand_state= 1000"
   ]
  },
  {
   "cell_type": "code",
   "execution_count": 147,
   "metadata": {},
   "outputs": [
    {
     "data": {
      "text/html": [
       "<div>\n",
       "<style scoped>\n",
       "    .dataframe tbody tr th:only-of-type {\n",
       "        vertical-align: middle;\n",
       "    }\n",
       "\n",
       "    .dataframe tbody tr th {\n",
       "        vertical-align: top;\n",
       "    }\n",
       "\n",
       "    .dataframe thead th {\n",
       "        text-align: right;\n",
       "    }\n",
       "</style>\n",
       "<table border=\"1\" class=\"dataframe\">\n",
       "  <thead>\n",
       "    <tr style=\"text-align: right;\">\n",
       "      <th></th>\n",
       "      <th>User ID</th>\n",
       "      <th>Gender</th>\n",
       "      <th>Age</th>\n",
       "      <th>EstimatedSalary</th>\n",
       "      <th>Purchased</th>\n",
       "    </tr>\n",
       "  </thead>\n",
       "  <tbody>\n",
       "    <tr>\n",
       "      <th>0</th>\n",
       "      <td>15624510</td>\n",
       "      <td>Male</td>\n",
       "      <td>19</td>\n",
       "      <td>19000</td>\n",
       "      <td>0</td>\n",
       "    </tr>\n",
       "    <tr>\n",
       "      <th>1</th>\n",
       "      <td>15810944</td>\n",
       "      <td>Male</td>\n",
       "      <td>35</td>\n",
       "      <td>20000</td>\n",
       "      <td>0</td>\n",
       "    </tr>\n",
       "    <tr>\n",
       "      <th>2</th>\n",
       "      <td>15668575</td>\n",
       "      <td>Female</td>\n",
       "      <td>26</td>\n",
       "      <td>43000</td>\n",
       "      <td>0</td>\n",
       "    </tr>\n",
       "    <tr>\n",
       "      <th>3</th>\n",
       "      <td>15603246</td>\n",
       "      <td>Female</td>\n",
       "      <td>27</td>\n",
       "      <td>57000</td>\n",
       "      <td>0</td>\n",
       "    </tr>\n",
       "    <tr>\n",
       "      <th>4</th>\n",
       "      <td>15804002</td>\n",
       "      <td>Male</td>\n",
       "      <td>19</td>\n",
       "      <td>76000</td>\n",
       "      <td>0</td>\n",
       "    </tr>\n",
       "  </tbody>\n",
       "</table>\n",
       "</div>"
      ],
      "text/plain": [
       "    User ID  Gender  Age  EstimatedSalary  Purchased\n",
       "0  15624510    Male   19            19000          0\n",
       "1  15810944    Male   35            20000          0\n",
       "2  15668575  Female   26            43000          0\n",
       "3  15603246  Female   27            57000          0\n",
       "4  15804002    Male   19            76000          0"
      ]
     },
     "execution_count": 147,
     "metadata": {},
     "output_type": "execute_result"
    }
   ],
   "source": [
    "df = pd.read_csv('https://raw.githubusercontent.com/PJalgotrader/Machine_Learning-USU/main/data/Social_Network_Ads.csv')\n",
    "df.head()"
   ]
  },
  {
   "cell_type": "markdown",
   "metadata": {},
   "source": [
    "Let's work with age and Estimated salary from the feature space."
   ]
  },
  {
   "cell_type": "code",
   "execution_count": 148,
   "metadata": {},
   "outputs": [
    {
     "data": {
      "text/html": [
       "<div>\n",
       "<style scoped>\n",
       "    .dataframe tbody tr th:only-of-type {\n",
       "        vertical-align: middle;\n",
       "    }\n",
       "\n",
       "    .dataframe tbody tr th {\n",
       "        vertical-align: top;\n",
       "    }\n",
       "\n",
       "    .dataframe thead th {\n",
       "        text-align: right;\n",
       "    }\n",
       "</style>\n",
       "<table border=\"1\" class=\"dataframe\">\n",
       "  <thead>\n",
       "    <tr style=\"text-align: right;\">\n",
       "      <th></th>\n",
       "      <th>Age</th>\n",
       "      <th>EstimatedSalary</th>\n",
       "      <th>Purchased</th>\n",
       "    </tr>\n",
       "  </thead>\n",
       "  <tbody>\n",
       "    <tr>\n",
       "      <th>0</th>\n",
       "      <td>19</td>\n",
       "      <td>19000</td>\n",
       "      <td>0</td>\n",
       "    </tr>\n",
       "    <tr>\n",
       "      <th>1</th>\n",
       "      <td>35</td>\n",
       "      <td>20000</td>\n",
       "      <td>0</td>\n",
       "    </tr>\n",
       "    <tr>\n",
       "      <th>2</th>\n",
       "      <td>26</td>\n",
       "      <td>43000</td>\n",
       "      <td>0</td>\n",
       "    </tr>\n",
       "    <tr>\n",
       "      <th>3</th>\n",
       "      <td>27</td>\n",
       "      <td>57000</td>\n",
       "      <td>0</td>\n",
       "    </tr>\n",
       "    <tr>\n",
       "      <th>4</th>\n",
       "      <td>19</td>\n",
       "      <td>76000</td>\n",
       "      <td>0</td>\n",
       "    </tr>\n",
       "  </tbody>\n",
       "</table>\n",
       "</div>"
      ],
      "text/plain": [
       "   Age  EstimatedSalary  Purchased\n",
       "0   19            19000          0\n",
       "1   35            20000          0\n",
       "2   26            43000          0\n",
       "3   27            57000          0\n",
       "4   19            76000          0"
      ]
     },
     "execution_count": 148,
     "metadata": {},
     "output_type": "execute_result"
    }
   ],
   "source": [
    "df= df[['Age','EstimatedSalary','Purchased']]\n",
    "df.head()"
   ]
  },
  {
   "cell_type": "markdown",
   "metadata": {},
   "source": [
    "###  Logistic regressions  (number of features = 2 for visualization purpose)\n",
    "\n",
    "Let's work with age and Estimated salary from the feature space."
   ]
  },
  {
   "cell_type": "code",
   "execution_count": 149,
   "metadata": {},
   "outputs": [],
   "source": [
    "from sklearn.linear_model import LogisticRegression\n",
    "from sklearn.preprocessing import StandardScaler\n",
    "sc = StandardScaler()"
   ]
  },
  {
   "cell_type": "code",
   "execution_count": 150,
   "metadata": {},
   "outputs": [],
   "source": [
    "y = df['Purchased']\n",
    "X = df.drop('Purchased', axis=1, inplace=False)\n",
    "\n",
    "from sklearn.model_selection import train_test_split\n",
    "X_train, X_test, y_train, y_test = train_test_split(X, y, test_size=0.2, random_state=rand_state)\n",
    "\n",
    "X_train =sc.fit_transform(X_train)\n",
    "X_test =sc.transform(X_test) # to avoid data leakage we only transform the test set and not fit it. "
   ]
  },
  {
   "cell_type": "code",
   "execution_count": 151,
   "metadata": {},
   "outputs": [],
   "source": [
    "# Fitting Logistic Regression to the Training set\n",
    "from sklearn.linear_model import LogisticRegression\n",
    "logistic = LogisticRegression(random_state = rand_state)\n",
    "logistic.fit(X_train, y_train)\n",
    "\n",
    "# Predicting the Test set results\n",
    "y_pred_test = logistic.predict(X_test)"
   ]
  },
  {
   "cell_type": "markdown",
   "metadata": {},
   "source": [
    "### Applying Kernel PCA"
   ]
  },
  {
   "cell_type": "code",
   "execution_count": 152,
   "metadata": {},
   "outputs": [
    {
     "data": {
      "text/plain": [
       "(400, 3)"
      ]
     },
     "execution_count": 152,
     "metadata": {},
     "output_type": "execute_result"
    }
   ],
   "source": [
    "df.shape"
   ]
  },
  {
   "cell_type": "code",
   "execution_count": 153,
   "metadata": {},
   "outputs": [
    {
     "data": {
      "text/plain": [
       "(320, 2)"
      ]
     },
     "execution_count": 153,
     "metadata": {},
     "output_type": "execute_result"
    }
   ],
   "source": [
    "X_train.shape"
   ]
  },
  {
   "cell_type": "code",
   "execution_count": 154,
   "metadata": {},
   "outputs": [],
   "source": [
    "from sklearn.decomposition import KernelPCA\n",
    "kpca = KernelPCA(n_components =2, kernel = 'rbf') # 'rbf', 'sigmoid', 'poly', 'linear'\n",
    "train_pca_scores= kpca.fit_transform(X_train) \n",
    "test_pca_scores=  kpca.transform(X_test)"
   ]
  },
  {
   "cell_type": "code",
   "execution_count": 155,
   "metadata": {},
   "outputs": [
    {
     "data": {
      "text/plain": [
       "(320, 2)"
      ]
     },
     "execution_count": 155,
     "metadata": {},
     "output_type": "execute_result"
    }
   ],
   "source": [
    "train_pca_scores.shape "
   ]
  },
  {
   "cell_type": "markdown",
   "metadata": {},
   "source": [
    "we can find the PVE as below: "
   ]
  },
  {
   "cell_type": "code",
   "execution_count": 156,
   "metadata": {},
   "outputs": [
    {
     "data": {
      "text/plain": [
       "array([0.01102625, 0.00911673, 0.00750067, 0.00661806, 0.00657368,\n",
       "       0.00631508, 0.006301  , 0.00629174, 0.00626036, 0.00625499,\n",
       "       0.00625468, 0.00625468, 0.00625468, 0.00624675, 0.00602237,\n",
       "       0.00527394, 0.00510803, 0.00510712, 0.0050909 , 0.00501871,\n",
       "       0.00501871, 0.00501855, 0.00501809, 0.00501809, 0.00501809,\n",
       "       0.00501809, 0.00501809, 0.00501809, 0.00501809, 0.00501809,\n",
       "       0.00499421, 0.00488778, 0.00476204, 0.00450677, 0.00422677,\n",
       "       0.00407949, 0.00407442, 0.00407442, 0.00407442, 0.00406379,\n",
       "       0.00403113, 0.0040311 , 0.00403086, 0.00403086, 0.00403086,\n",
       "       0.00403086, 0.00403086, 0.00403086, 0.00403086, 0.00403086,\n",
       "       0.00403086, 0.00403086, 0.00403086, 0.00403086, 0.00403085,\n",
       "       0.00403065, 0.00402689, 0.00384252, 0.00374162, 0.00313315,\n",
       "       0.00298968, 0.00298439, 0.00297134, 0.00287622, 0.00284975,\n",
       "       0.00284951, 0.00284861, 0.00284861, 0.00284861, 0.00284861,\n",
       "       0.00284861, 0.00284861, 0.00284839, 0.00284713, 0.00281961,\n",
       "       0.00279628, 0.00269905, 0.0026265 , 0.00253693, 0.00253692,\n",
       "       0.00253692, 0.00253692, 0.00253692, 0.00253692, 0.00253692,\n",
       "       0.00253484, 0.00250989, 0.00250989, 0.00250989, 0.00250989,\n",
       "       0.00250989, 0.00250989, 0.00250989, 0.00250989, 0.00250989,\n",
       "       0.0025098 , 0.00250906, 0.00250905, 0.00250905, 0.00250905,\n",
       "       0.00250905, 0.00250905, 0.00250905, 0.00250905, 0.00250905,\n",
       "       0.00250905, 0.00250904, 0.00250904, 0.00250904, 0.00250904,\n",
       "       0.00250904, 0.00250904, 0.00250904, 0.00250904, 0.00250904,\n",
       "       0.00250904, 0.00250904, 0.00250904, 0.00250904, 0.00250904,\n",
       "       0.00250904, 0.00250904, 0.00250904, 0.00250904, 0.00250904,\n",
       "       0.00250904, 0.00250904, 0.00250904, 0.00250904, 0.00250904,\n",
       "       0.00250904, 0.00250904, 0.00250904, 0.00250904, 0.00250904,\n",
       "       0.00250904, 0.00250904, 0.00250904, 0.00250904, 0.00250904,\n",
       "       0.00250904, 0.00250904, 0.00250904, 0.00250904, 0.00250904,\n",
       "       0.00250904, 0.00250904, 0.00250904, 0.00250904, 0.00250904,\n",
       "       0.00250904, 0.00250904, 0.00250904, 0.00250904, 0.00250904,\n",
       "       0.00250904, 0.00250904, 0.00250904, 0.00250904, 0.00250904,\n",
       "       0.00250904, 0.00250904, 0.00250904, 0.00250904, 0.00250904,\n",
       "       0.00250904, 0.00250904, 0.00250904, 0.00250904, 0.00250904,\n",
       "       0.00250904, 0.00250904, 0.00250904, 0.00250904, 0.00250904,\n",
       "       0.00250904, 0.00250904, 0.00250904, 0.00250904, 0.00250904,\n",
       "       0.00250904, 0.00250904, 0.00250904, 0.00250904, 0.00250904,\n",
       "       0.00250904, 0.00250904, 0.00250904, 0.00250904, 0.00250904,\n",
       "       0.00250904, 0.00250904, 0.00250904, 0.00250904, 0.00250904,\n",
       "       0.00250904, 0.00250904, 0.00250904, 0.00250904, 0.00250904,\n",
       "       0.00250904, 0.00250904, 0.00250904, 0.00250904, 0.00250904,\n",
       "       0.00250904, 0.00250904, 0.00250904, 0.00250904, 0.00250904,\n",
       "       0.00250904, 0.00250904, 0.00250904, 0.00250904, 0.00250904,\n",
       "       0.00250904, 0.00250904, 0.00250904, 0.00250904, 0.00250904,\n",
       "       0.00250904, 0.00250904, 0.00250904, 0.00250904, 0.00250904,\n",
       "       0.00250904, 0.00250904, 0.00250904, 0.00250904, 0.00250904,\n",
       "       0.00250904, 0.00250904, 0.00250904, 0.00250904, 0.00250904,\n",
       "       0.00250904, 0.00250904, 0.00250904, 0.00250904, 0.00250904,\n",
       "       0.00250904, 0.00250904, 0.00250904, 0.00250904, 0.00250904,\n",
       "       0.00250904, 0.00250904, 0.00250904, 0.00250904, 0.00250904,\n",
       "       0.00250904, 0.00250904, 0.00250904, 0.00250904, 0.00250904,\n",
       "       0.00250904, 0.00250904, 0.00250904, 0.00250904, 0.00250904,\n",
       "       0.00250904, 0.00250904, 0.00250904, 0.00250904, 0.00250904,\n",
       "       0.00250904, 0.00250903, 0.00250901, 0.00250901, 0.00250901,\n",
       "       0.00250875, 0.00250844, 0.00250843, 0.00250843, 0.00250843,\n",
       "       0.0025082 , 0.0025082 , 0.0025082 , 0.0025082 , 0.0025082 ,\n",
       "       0.0025082 , 0.0025082 , 0.0025082 , 0.0025082 , 0.0025082 ,\n",
       "       0.0025082 , 0.0025082 , 0.00250773, 0.00250216, 0.00249815,\n",
       "       0.00249732, 0.0024972 , 0.0024972 , 0.0024972 , 0.0024895 ,\n",
       "       0.00248117, 0.00248117, 0.00248117, 0.00248117, 0.00248117,\n",
       "       0.00248117, 0.00248117, 0.00248116, 0.00242057, 0.00241987,\n",
       "       0.0023389 , 0.00216948, 0.00216948, 0.00216948, 0.00216948,\n",
       "       0.00216948, 0.00216948, 0.00216948, 0.00216927, 0.00216835,\n",
       "       0.00216834, 0.00212657, 0.00204592, 0.00203242, 0.00202955,\n",
       "       0.00202925, 0.00143212, 0.00129258, 0.00127864, 0.0012732 ,\n",
       "       0.00127273, 0.00127245, 0.00127245, 0.00127245, 0.00125249,\n",
       "       0.00123535, 0.00123239, 0.00122847, 0.00112023, 0.00099149,\n",
       "       0.00098724, 0.00098723, 0.00098723, 0.00098723, 0.00098723,\n",
       "       0.00098723, 0.00098723, 0.00098723, 0.00098723, 0.00098723,\n",
       "       0.00098723, 0.00098723, 0.00098723, 0.00098723, 0.00098699,\n",
       "       0.00098699, 0.00098654, 0.00097631, 0.00095584, 0.00095552,\n",
       "       0.00095552, 0.00095551, 0.00094955, 0.00083524, 0.00058037,\n",
       "       0.00055392, 0.00050969, 0.00034591, 0.00033571, 0.        ,\n",
       "       0.        , 0.        , 0.        , 0.        , 0.        ,\n",
       "       0.        , 0.        , 0.        , 0.        , 0.        ,\n",
       "       0.        , 0.        , 0.        , 0.        , 0.        ,\n",
       "       0.        , 0.        , 0.        , 0.        , 0.        ,\n",
       "       0.        , 0.        , 0.        , 0.        , 0.        ,\n",
       "       0.        , 0.        , 0.        , 0.        , 0.        ,\n",
       "       0.        , 0.        , 0.        , 0.        , 0.        ])"
      ]
     },
     "execution_count": 156,
     "metadata": {},
     "output_type": "execute_result"
    }
   ],
   "source": [
    "var = np.var(KernelPCA(n_components =400, kernel = 'rbf').fit_transform(X), axis=0) # why should we use 400 components? Gram matrix is 400x400\n",
    "var / var.sum()"
   ]
  },
  {
   "cell_type": "code",
   "execution_count": 157,
   "metadata": {},
   "outputs": [
    {
     "data": {
      "text/plain": [
       "(400,)"
      ]
     },
     "execution_count": 157,
     "metadata": {},
     "output_type": "execute_result"
    }
   ],
   "source": [
    "var.shape"
   ]
  },
  {
   "cell_type": "code",
   "execution_count": 158,
   "metadata": {},
   "outputs": [
    {
     "data": {
      "text/plain": [
       "array([0.0109865 , 0.02007037, 0.027544  , 0.0341382 , 0.04068818,\n",
       "       0.04698049, 0.05325877, 0.05952784, 0.06576563, 0.07199807,\n",
       "       0.07823021, 0.08446234, 0.09069448, 0.09691871, 0.10291937,\n",
       "       0.1081743 , 0.11326391, 0.11835262, 0.12342517, 0.12842578,\n",
       "       0.1334264 , 0.13842686, 0.14342686, 0.14842686, 0.15342686,\n",
       "       0.15842686, 0.16342686, 0.16842686, 0.17342686, 0.17842686,\n",
       "       0.18340307, 0.18827323, 0.1930181 , 0.19750862, 0.20172016,\n",
       "       0.20578494, 0.20984468, 0.21390441, 0.21796414, 0.22201328,\n",
       "       0.22602988, 0.23004644, 0.23406277, 0.2380791 , 0.24209542,\n",
       "       0.24611175, 0.25012807, 0.2541444 , 0.25816073, 0.26217705,\n",
       "       0.26619338, 0.27020971, 0.27422603, 0.27824236, 0.28225868,\n",
       "       0.28627481, 0.29028718, 0.29411585, 0.29784399, 0.30096584,\n",
       "       0.30394474, 0.30691837, 0.309879  , 0.31274485, 0.31558433,\n",
       "       0.31842356, 0.3212619 , 0.32410024, 0.32693858, 0.32977692,\n",
       "       0.33261525, 0.33545359, 0.33829171, 0.34112858, 0.34393803,\n",
       "       0.34672423, 0.34941355, 0.35203059, 0.35455837, 0.35708615,\n",
       "       0.35961392, 0.36214169, 0.36466946, 0.36719724, 0.36972501,\n",
       "       0.37225071, 0.37475155, 0.37725238, 0.37975322, 0.38225406,\n",
       "       0.3847549 , 0.38725574, 0.38975658, 0.39225742, 0.39475825,\n",
       "       0.39725901, 0.39975902, 0.40225903, 0.40475904, 0.40725905,\n",
       "       0.40975906, 0.41225907, 0.41475908, 0.41725909, 0.4197591 ,\n",
       "       0.4222591 , 0.4247591 , 0.4272591 , 0.4297591 , 0.4322591 ,\n",
       "       0.4347591 , 0.4372591 , 0.4397591 , 0.4422591 , 0.4447591 ,\n",
       "       0.4472591 , 0.4497591 , 0.4522591 , 0.4547591 , 0.4572591 ,\n",
       "       0.4597591 , 0.4622591 , 0.4647591 , 0.4672591 , 0.4697591 ,\n",
       "       0.4722591 , 0.4747591 , 0.4772591 , 0.4797591 , 0.4822591 ,\n",
       "       0.4847591 , 0.4872591 , 0.4897591 , 0.4922591 , 0.4947591 ,\n",
       "       0.4972591 , 0.4997591 , 0.5022591 , 0.5047591 , 0.5072591 ,\n",
       "       0.5097591 , 0.5122591 , 0.5147591 , 0.5172591 , 0.5197591 ,\n",
       "       0.5222591 , 0.5247591 , 0.5272591 , 0.5297591 , 0.5322591 ,\n",
       "       0.5347591 , 0.5372591 , 0.5397591 , 0.5422591 , 0.5447591 ,\n",
       "       0.5472591 , 0.5497591 , 0.5522591 , 0.5547591 , 0.5572591 ,\n",
       "       0.5597591 , 0.5622591 , 0.5647591 , 0.5672591 , 0.5697591 ,\n",
       "       0.5722591 , 0.5747591 , 0.5772591 , 0.5797591 , 0.5822591 ,\n",
       "       0.5847591 , 0.5872591 , 0.5897591 , 0.5922591 , 0.5947591 ,\n",
       "       0.5972591 , 0.5997591 , 0.6022591 , 0.6047591 , 0.6072591 ,\n",
       "       0.6097591 , 0.6122591 , 0.6147591 , 0.6172591 , 0.6197591 ,\n",
       "       0.6222591 , 0.6247591 , 0.6272591 , 0.6297591 , 0.6322591 ,\n",
       "       0.6347591 , 0.6372591 , 0.6397591 , 0.6422591 , 0.6447591 ,\n",
       "       0.6472591 , 0.6497591 , 0.6522591 , 0.6547591 , 0.6572591 ,\n",
       "       0.6597591 , 0.6622591 , 0.6647591 , 0.6672591 , 0.6697591 ,\n",
       "       0.6722591 , 0.6747591 , 0.6772591 , 0.6797591 , 0.6822591 ,\n",
       "       0.6847591 , 0.6872591 , 0.6897591 , 0.6922591 , 0.6947591 ,\n",
       "       0.6972591 , 0.6997591 , 0.7022591 , 0.7047591 , 0.7072591 ,\n",
       "       0.7097591 , 0.7122591 , 0.7147591 , 0.7172591 , 0.7197591 ,\n",
       "       0.7222591 , 0.7247591 , 0.7272591 , 0.7297591 , 0.7322591 ,\n",
       "       0.7347591 , 0.7372591 , 0.7397591 , 0.7422591 , 0.7447591 ,\n",
       "       0.7472591 , 0.7497591 , 0.7522591 , 0.7547591 , 0.7572591 ,\n",
       "       0.7597591 , 0.7622591 , 0.7647591 , 0.7672591 , 0.7697591 ,\n",
       "       0.7722591 , 0.7747591 , 0.7772591 , 0.7797591 , 0.7822591 ,\n",
       "       0.7847591 , 0.7872591 , 0.7897591 , 0.7922591 , 0.7947591 ,\n",
       "       0.79725909, 0.79975909, 0.80225909, 0.80475908, 0.80725907,\n",
       "       0.80975906, 0.81225905, 0.81475904, 0.81725903, 0.81975903,\n",
       "       0.82225902, 0.824759  , 0.82725897, 0.82975894, 0.83225891,\n",
       "       0.83475861, 0.83725801, 0.83975739, 0.84225678, 0.84475616,\n",
       "       0.84725532, 0.84975448, 0.85225365, 0.85475281, 0.85725197,\n",
       "       0.85975113, 0.86225029, 0.86474945, 0.86724861, 0.86974777,\n",
       "       0.87224694, 0.8747461 , 0.87724478, 0.87973792, 0.88222706,\n",
       "       0.88471538, 0.88720357, 0.88969177, 0.89217997, 0.89466049,\n",
       "       0.89713272, 0.89960495, 0.90207718, 0.9045494 , 0.90702163,\n",
       "       0.90949386, 0.91196609, 0.9144383 , 0.91685014, 0.91926128,\n",
       "       0.92159175, 0.92375341, 0.92591507, 0.92807674, 0.9302384 ,\n",
       "       0.93240006, 0.93456172, 0.93672338, 0.93888483, 0.94104536,\n",
       "       0.94320589, 0.94532479, 0.94736334, 0.94938843, 0.95141066,\n",
       "       0.9534326 , 0.95485956, 0.95614747, 0.9574215 , 0.95869011,\n",
       "       0.95995825, 0.96122612, 0.96249398, 0.96376185, 0.96500982,\n",
       "       0.96624072, 0.96746867, 0.96869271, 0.9698089 , 0.97079682,\n",
       "       0.9717805 , 0.97276417, 0.97374784, 0.97473152, 0.97571519,\n",
       "       0.97669886, 0.97768254, 0.97866621, 0.97964988, 0.98063356,\n",
       "       0.98161723, 0.9826009 , 0.98358458, 0.98456825, 0.98555168,\n",
       "       0.98653512, 0.9875181 , 0.98849089, 0.98944329, 0.99039536,\n",
       "       0.99134743, 0.9922995 , 0.99324563, 0.99407785, 0.99465613,\n",
       "       0.99520806, 0.99571591, 0.99606057, 0.99639507, 0.99639507,\n",
       "       0.99639507, 0.99639507, 0.99639507, 0.99639507, 0.99639507,\n",
       "       0.99639507, 0.99639507, 0.99639507, 0.99639507, 0.99639507,\n",
       "       0.99639507, 0.99639507, 0.99639507, 0.99639507, 0.99639507,\n",
       "       0.99639507, 0.99639507, 0.99639507, 0.99639507, 0.99639507,\n",
       "       0.99639507, 0.99639507, 0.99639507, 0.99639507, 0.99639507,\n",
       "       0.99639507, 0.99639507, 0.99639507, 0.99639507, 0.99639507,\n",
       "       0.99639507, 0.99639507, 0.99639507, 0.99639507, 0.99639507])"
      ]
     },
     "execution_count": 158,
     "metadata": {},
     "output_type": "execute_result"
    }
   ],
   "source": [
    "var.cumsum()"
   ]
  },
  {
   "cell_type": "code",
   "execution_count": 159,
   "metadata": {},
   "outputs": [
    {
     "data": {
      "text/plain": [
       "(320, 2)"
      ]
     },
     "execution_count": 159,
     "metadata": {},
     "output_type": "execute_result"
    }
   ],
   "source": [
    "train_pca_scores.shape"
   ]
  },
  {
   "cell_type": "code",
   "execution_count": 160,
   "metadata": {},
   "outputs": [],
   "source": [
    "# Fitting Logistic Regression to the Training set\n",
    "logistic.fit(train_pca_scores, y_train)\n",
    "\n",
    "# Predicting the Test set results\n",
    "y_PC_pred_test = logistic.predict(test_pca_scores)"
   ]
  },
  {
   "cell_type": "markdown",
   "metadata": {},
   "source": [
    "### the Confusion Matrix "
   ]
  },
  {
   "cell_type": "code",
   "execution_count": 161,
   "metadata": {},
   "outputs": [],
   "source": [
    "from sklearn.metrics import confusion_matrix, classification_report"
   ]
  },
  {
   "cell_type": "code",
   "execution_count": 162,
   "metadata": {},
   "outputs": [
    {
     "name": "stdout",
     "output_type": "stream",
     "text": [
      "              precision    recall  f1-score   support\n",
      "\n",
      "           0       0.81      0.88      0.84        48\n",
      "           1       0.79      0.69      0.73        32\n",
      "\n",
      "    accuracy                           0.80        80\n",
      "   macro avg       0.80      0.78      0.79        80\n",
      "weighted avg       0.80      0.80      0.80        80\n",
      "\n"
     ]
    }
   ],
   "source": [
    "print(classification_report(y_test, y_PC_pred_test))"
   ]
  },
  {
   "cell_type": "markdown",
   "metadata": {},
   "source": [
    "### Let's see the classifiers in two cases:\n",
    "1. Original space + logistic regression (Linear Classifier)\n",
    "2. Kernel PC space + logistic regression (Linear classifier)\n",
    "\n"
   ]
  },
  {
   "cell_type": "markdown",
   "metadata": {},
   "source": [
    "### 1. Original space + logistic regression (Linear Classifier)"
   ]
  },
  {
   "cell_type": "code",
   "execution_count": 163,
   "metadata": {},
   "outputs": [
    {
     "data": {
      "text/html": [
       "<style>#sk-container-id-13 {color: black;background-color: white;}#sk-container-id-13 pre{padding: 0;}#sk-container-id-13 div.sk-toggleable {background-color: white;}#sk-container-id-13 label.sk-toggleable__label {cursor: pointer;display: block;width: 100%;margin-bottom: 0;padding: 0.3em;box-sizing: border-box;text-align: center;}#sk-container-id-13 label.sk-toggleable__label-arrow:before {content: \"▸\";float: left;margin-right: 0.25em;color: #696969;}#sk-container-id-13 label.sk-toggleable__label-arrow:hover:before {color: black;}#sk-container-id-13 div.sk-estimator:hover label.sk-toggleable__label-arrow:before {color: black;}#sk-container-id-13 div.sk-toggleable__content {max-height: 0;max-width: 0;overflow: hidden;text-align: left;background-color: #f0f8ff;}#sk-container-id-13 div.sk-toggleable__content pre {margin: 0.2em;color: black;border-radius: 0.25em;background-color: #f0f8ff;}#sk-container-id-13 input.sk-toggleable__control:checked~div.sk-toggleable__content {max-height: 200px;max-width: 100%;overflow: auto;}#sk-container-id-13 input.sk-toggleable__control:checked~label.sk-toggleable__label-arrow:before {content: \"▾\";}#sk-container-id-13 div.sk-estimator input.sk-toggleable__control:checked~label.sk-toggleable__label {background-color: #d4ebff;}#sk-container-id-13 div.sk-label input.sk-toggleable__control:checked~label.sk-toggleable__label {background-color: #d4ebff;}#sk-container-id-13 input.sk-hidden--visually {border: 0;clip: rect(1px 1px 1px 1px);clip: rect(1px, 1px, 1px, 1px);height: 1px;margin: -1px;overflow: hidden;padding: 0;position: absolute;width: 1px;}#sk-container-id-13 div.sk-estimator {font-family: monospace;background-color: #f0f8ff;border: 1px dotted black;border-radius: 0.25em;box-sizing: border-box;margin-bottom: 0.5em;}#sk-container-id-13 div.sk-estimator:hover {background-color: #d4ebff;}#sk-container-id-13 div.sk-parallel-item::after {content: \"\";width: 100%;border-bottom: 1px solid gray;flex-grow: 1;}#sk-container-id-13 div.sk-label:hover label.sk-toggleable__label {background-color: #d4ebff;}#sk-container-id-13 div.sk-serial::before {content: \"\";position: absolute;border-left: 1px solid gray;box-sizing: border-box;top: 0;bottom: 0;left: 50%;z-index: 0;}#sk-container-id-13 div.sk-serial {display: flex;flex-direction: column;align-items: center;background-color: white;padding-right: 0.2em;padding-left: 0.2em;position: relative;}#sk-container-id-13 div.sk-item {position: relative;z-index: 1;}#sk-container-id-13 div.sk-parallel {display: flex;align-items: stretch;justify-content: center;background-color: white;position: relative;}#sk-container-id-13 div.sk-item::before, #sk-container-id-13 div.sk-parallel-item::before {content: \"\";position: absolute;border-left: 1px solid gray;box-sizing: border-box;top: 0;bottom: 0;left: 50%;z-index: -1;}#sk-container-id-13 div.sk-parallel-item {display: flex;flex-direction: column;z-index: 1;position: relative;background-color: white;}#sk-container-id-13 div.sk-parallel-item:first-child::after {align-self: flex-end;width: 50%;}#sk-container-id-13 div.sk-parallel-item:last-child::after {align-self: flex-start;width: 50%;}#sk-container-id-13 div.sk-parallel-item:only-child::after {width: 0;}#sk-container-id-13 div.sk-dashed-wrapped {border: 1px dashed gray;margin: 0 0.4em 0.5em 0.4em;box-sizing: border-box;padding-bottom: 0.4em;background-color: white;}#sk-container-id-13 div.sk-label label {font-family: monospace;font-weight: bold;display: inline-block;line-height: 1.2em;}#sk-container-id-13 div.sk-label-container {text-align: center;}#sk-container-id-13 div.sk-container {/* jupyter's `normalize.less` sets `[hidden] { display: none; }` but bootstrap.min.css set `[hidden] { display: none !important; }` so we also need the `!important` here to be able to override the default hidden behavior on the sphinx rendered scikit-learn.org. See: https://github.com/scikit-learn/scikit-learn/issues/21755 */display: inline-block !important;position: relative;}#sk-container-id-13 div.sk-text-repr-fallback {display: none;}</style><div id=\"sk-container-id-13\" class=\"sk-top-container\"><div class=\"sk-text-repr-fallback\"><pre>LogisticRegression(random_state=1000)</pre><b>In a Jupyter environment, please rerun this cell to show the HTML representation or trust the notebook. <br />On GitHub, the HTML representation is unable to render, please try loading this page with nbviewer.org.</b></div><div class=\"sk-container\" hidden><div class=\"sk-item\"><div class=\"sk-estimator sk-toggleable\"><input class=\"sk-toggleable__control sk-hidden--visually\" id=\"sk-estimator-id-13\" type=\"checkbox\" checked><label for=\"sk-estimator-id-13\" class=\"sk-toggleable__label sk-toggleable__label-arrow\">LogisticRegression</label><div class=\"sk-toggleable__content\"><pre>LogisticRegression(random_state=1000)</pre></div></div></div></div></div>"
      ],
      "text/plain": [
       "LogisticRegression(random_state=1000)"
      ]
     },
     "execution_count": 163,
     "metadata": {},
     "output_type": "execute_result"
    }
   ],
   "source": [
    "logistic = LogisticRegression(random_state = rand_state)\n",
    "logistic.fit(X_train, y_train)"
   ]
  },
  {
   "cell_type": "code",
   "execution_count": 164,
   "metadata": {},
   "outputs": [
    {
     "data": {
      "image/png": "[encoded data removed]",
      "text/plain": [
       "<Figure size 1200x800 with 1 Axes>"
      ]
     },
     "metadata": {},
     "output_type": "display_data"
    }
   ],
   "source": [
    "plt.figure(figsize=(12,8))\n",
    "from matplotlib.colors import ListedColormap\n",
    "X_set, y_set = X_train, y_train\n",
    "X1, X2 = np.meshgrid(np.arange(start = X_set[:, 0].min() - 1, stop = X_set[:, 0].max() + 1, step = 0.01),\n",
    "                     np.arange(start = X_set[:, 1].min() - 1, stop = X_set[:, 1].max() + 1, step = 0.01))\n",
    "plt.contourf(X1, X2, logistic.predict(np.array([X1.ravel(), X2.ravel()]).T).reshape(X1.shape),\n",
    "             alpha = 0.75, cmap = ListedColormap(('#FF6347', '#90EE90')))\n",
    "plt.xlim(X1.min(), X1.max())\n",
    "plt.ylim(X2.min(), X2.max())\n",
    "for i, j in enumerate(np.unique(y_set)):\n",
    "    plt.scatter(X_set[y_set == j, 0], X_set[y_set == j, 1],\n",
    "                c = ListedColormap(('red', 'green'))(i), label = j)\n",
    "plt.title('Logistic Regression (Training set)')\n",
    "plt.xlabel('Age')\n",
    "plt.ylabel('Estimated Salary')\n",
    "plt.legend()\n",
    "plt.show()"
   ]
  },
  {
   "cell_type": "markdown",
   "metadata": {},
   "source": [
    "### 2. Kernel PC space + logistic regression (Linear classifier)\n"
   ]
  },
  {
   "cell_type": "code",
   "execution_count": 165,
   "metadata": {},
   "outputs": [
    {
     "data": {
      "text/html": [
       "<style>#sk-container-id-14 {color: black;background-color: white;}#sk-container-id-14 pre{padding: 0;}#sk-container-id-14 div.sk-toggleable {background-color: white;}#sk-container-id-14 label.sk-toggleable__label {cursor: pointer;display: block;width: 100%;margin-bottom: 0;padding: 0.3em;box-sizing: border-box;text-align: center;}#sk-container-id-14 label.sk-toggleable__label-arrow:before {content: \"▸\";float: left;margin-right: 0.25em;color: #696969;}#sk-container-id-14 label.sk-toggleable__label-arrow:hover:before {color: black;}#sk-container-id-14 div.sk-estimator:hover label.sk-toggleable__label-arrow:before {color: black;}#sk-container-id-14 div.sk-toggleable__content {max-height: 0;max-width: 0;overflow: hidden;text-align: left;background-color: #f0f8ff;}#sk-container-id-14 div.sk-toggleable__content pre {margin: 0.2em;color: black;border-radius: 0.25em;background-color: #f0f8ff;}#sk-container-id-14 input.sk-toggleable__control:checked~div.sk-toggleable__content {max-height: 200px;max-width: 100%;overflow: auto;}#sk-container-id-14 input.sk-toggleable__control:checked~label.sk-toggleable__label-arrow:before {content: \"▾\";}#sk-container-id-14 div.sk-estimator input.sk-toggleable__control:checked~label.sk-toggleable__label {background-color: #d4ebff;}#sk-container-id-14 div.sk-label input.sk-toggleable__control:checked~label.sk-toggleable__label {background-color: #d4ebff;}#sk-container-id-14 input.sk-hidden--visually {border: 0;clip: rect(1px 1px 1px 1px);clip: rect(1px, 1px, 1px, 1px);height: 1px;margin: -1px;overflow: hidden;padding: 0;position: absolute;width: 1px;}#sk-container-id-14 div.sk-estimator {font-family: monospace;background-color: #f0f8ff;border: 1px dotted black;border-radius: 0.25em;box-sizing: border-box;margin-bottom: 0.5em;}#sk-container-id-14 div.sk-estimator:hover {background-color: #d4ebff;}#sk-container-id-14 div.sk-parallel-item::after {content: \"\";width: 100%;border-bottom: 1px solid gray;flex-grow: 1;}#sk-container-id-14 div.sk-label:hover label.sk-toggleable__label {background-color: #d4ebff;}#sk-container-id-14 div.sk-serial::before {content: \"\";position: absolute;border-left: 1px solid gray;box-sizing: border-box;top: 0;bottom: 0;left: 50%;z-index: 0;}#sk-container-id-14 div.sk-serial {display: flex;flex-direction: column;align-items: center;background-color: white;padding-right: 0.2em;padding-left: 0.2em;position: relative;}#sk-container-id-14 div.sk-item {position: relative;z-index: 1;}#sk-container-id-14 div.sk-parallel {display: flex;align-items: stretch;justify-content: center;background-color: white;position: relative;}#sk-container-id-14 div.sk-item::before, #sk-container-id-14 div.sk-parallel-item::before {content: \"\";position: absolute;border-left: 1px solid gray;box-sizing: border-box;top: 0;bottom: 0;left: 50%;z-index: -1;}#sk-container-id-14 div.sk-parallel-item {display: flex;flex-direction: column;z-index: 1;position: relative;background-color: white;}#sk-container-id-14 div.sk-parallel-item:first-child::after {align-self: flex-end;width: 50%;}#sk-container-id-14 div.sk-parallel-item:last-child::after {align-self: flex-start;width: 50%;}#sk-container-id-14 div.sk-parallel-item:only-child::after {width: 0;}#sk-container-id-14 div.sk-dashed-wrapped {border: 1px dashed gray;margin: 0 0.4em 0.5em 0.4em;box-sizing: border-box;padding-bottom: 0.4em;background-color: white;}#sk-container-id-14 div.sk-label label {font-family: monospace;font-weight: bold;display: inline-block;line-height: 1.2em;}#sk-container-id-14 div.sk-label-container {text-align: center;}#sk-container-id-14 div.sk-container {/* jupyter's `normalize.less` sets `[hidden] { display: none; }` but bootstrap.min.css set `[hidden] { display: none !important; }` so we also need the `!important` here to be able to override the default hidden behavior on the sphinx rendered scikit-learn.org. See: https://github.com/scikit-learn/scikit-learn/issues/21755 */display: inline-block !important;position: relative;}#sk-container-id-14 div.sk-text-repr-fallback {display: none;}</style><div id=\"sk-container-id-14\" class=\"sk-top-container\"><div class=\"sk-text-repr-fallback\"><pre>LogisticRegression(random_state=1000)</pre><b>In a Jupyter environment, please rerun this cell to show the HTML representation or trust the notebook. <br />On GitHub, the HTML representation is unable to render, please try loading this page with nbviewer.org.</b></div><div class=\"sk-container\" hidden><div class=\"sk-item\"><div class=\"sk-estimator sk-toggleable\"><input class=\"sk-toggleable__control sk-hidden--visually\" id=\"sk-estimator-id-14\" type=\"checkbox\" checked><label for=\"sk-estimator-id-14\" class=\"sk-toggleable__label sk-toggleable__label-arrow\">LogisticRegression</label><div class=\"sk-toggleable__content\"><pre>LogisticRegression(random_state=1000)</pre></div></div></div></div></div>"
      ],
      "text/plain": [
       "LogisticRegression(random_state=1000)"
      ]
     },
     "execution_count": 165,
     "metadata": {},
     "output_type": "execute_result"
    }
   ],
   "source": [
    "kernel_logistic = LogisticRegression(random_state = rand_state)\n",
    "kernel_logistic.fit(train_pca_scores, y_train)"
   ]
  },
  {
   "cell_type": "code",
   "execution_count": 166,
   "metadata": {},
   "outputs": [
    {
     "data": {
      "image/png": "[encoded data removed]",
      "text/plain": [
       "<Figure size 1200x800 with 1 Axes>"
      ]
     },
     "metadata": {},
     "output_type": "display_data"
    }
   ],
   "source": [
    "plt.figure(figsize=(12,8))\n",
    "from matplotlib.colors import ListedColormap\n",
    "X_set, y_set = train_pca_scores, y_train\n",
    "X1, X2 = np.meshgrid(np.arange(start = X_set[:, 0].min() - 1, stop = X_set[:, 0].max() + 1, step = 0.01),\n",
    "                     np.arange(start = X_set[:, 1].min() - 1, stop = X_set[:, 1].max() + 1, step = 0.01))\n",
    "plt.contourf(X1, X2, kernel_logistic.predict(np.array([X1.ravel(), X2.ravel()]).T).reshape(X1.shape),\n",
    "             alpha = 0.75, cmap = ListedColormap(('#FF6347', '#90EE90')))\n",
    "plt.xlim(X1.min(), X1.max())\n",
    "plt.ylim(X2.min(), X2.max())\n",
    "for i, j in enumerate(np.unique(y_set)):\n",
    "    plt.scatter(X_set[y_set == j, 0], X_set[y_set == j, 1],\n",
    "                c = ListedColormap(('red', 'green'))(i), label = j)\n",
    "plt.title('Logistic Regression (Training set)')\n",
    "plt.xlabel('PC1')\n",
    "plt.ylabel('PC2')\n",
    "plt.legend()\n",
    "plt.show()"
   ]
  },
  {
   "cell_type": "markdown",
   "metadata": {},
   "source": [
    "Here, the kernel PCA is finding the most important components of the Gram matrix (400*400) which carry some information about non-linearity of the data. "
   ]
  },
  {
   "cell_type": "markdown",
   "metadata": {},
   "source": [
    "### Let's see the performance of the models in the test set! this is what matters. \n"
   ]
  },
  {
   "cell_type": "code",
   "execution_count": 167,
   "metadata": {},
   "outputs": [
    {
     "name": "stdout",
     "output_type": "stream",
     "text": [
      "              precision    recall  f1-score   support\n",
      "\n",
      "           0       0.79      0.94      0.86        48\n",
      "           1       0.87      0.62      0.73        32\n",
      "\n",
      "    accuracy                           0.81        80\n",
      "   macro avg       0.83      0.78      0.79        80\n",
      "weighted avg       0.82      0.81      0.81        80\n",
      "\n"
     ]
    }
   ],
   "source": [
    "print(classification_report(y_test, logistic.predict(X_test)))"
   ]
  },
  {
   "cell_type": "code",
   "execution_count": 168,
   "metadata": {},
   "outputs": [
    {
     "name": "stdout",
     "output_type": "stream",
     "text": [
      "              precision    recall  f1-score   support\n",
      "\n",
      "           0       0.81      0.88      0.84        48\n",
      "           1       0.79      0.69      0.73        32\n",
      "\n",
      "    accuracy                           0.80        80\n",
      "   macro avg       0.80      0.78      0.79        80\n",
      "weighted avg       0.80      0.80      0.80        80\n",
      "\n"
     ]
    }
   ],
   "source": [
    "print(classification_report(y_test, kernel_logistic.predict(test_pca_scores)))"
   ]
  },
  {
   "cell_type": "markdown",
   "metadata": {},
   "source": [
    "**Exercise**: \n",
    "1. Go back and use linear kernel. what do you expect?\n",
    "2. Try poly or sigmoid kernels as well. Any improvements? "
   ]
  },
  {
   "cell_type": "markdown",
   "metadata": {},
   "source": [
    "###  Additional links:\n",
    "1. PCA sklearn documentation: https://scikit-learn.org/stable/modules/generated/sklearn.decomposition.PCA.html\n",
    "2. PCA visualization: https://setosa.io/ev/principal-component-analysis/\n",
    "3. Kernel PCA sklearn documentation: https://scikit-learn.org/stable/modules/generated/sklearn.decomposition.KernelPCA.html#sklearn.decomposition.KernelPCA\n",
    "4. Kernel PCA visualization: https://scikit-learn.org/stable/auto_examples/decomposition/plot_kernel_pca.html#sphx-glr-auto-examples-decomposition-plot-kernel-pca-py\n",
    "5. What is Singular Value Decomposition (SVD): https://www.youtube.com/watch?v=mBcLRGuAFUk"
   ]
  }
 ],
 "metadata": {
  "kernelspec": {
   "display_name": "Python 3.10.6 ('pjml310')",
   "language": "python",
   "name": "python3"
  },
  "language_info": {
   "codemirror_mode": {
    "name": "ipython",
    "version": 3
   },
   "file_extension": ".py",
   "mimetype": "text/x-python",
   "name": "python",
   "nbconvert_exporter": "python",
   "pygments_lexer": "ipython3",
   "version": "3.10.13"
  },
  "vscode": {
   "interpreter": {
    "hash": "44d9e5587b065fe8437787747b7fc2d8f50b87a6faf8f49b018cd4ac0d6794ee"
   }
  }
 },
 "nbformat": 4,
 "nbformat_minor": 4
}
