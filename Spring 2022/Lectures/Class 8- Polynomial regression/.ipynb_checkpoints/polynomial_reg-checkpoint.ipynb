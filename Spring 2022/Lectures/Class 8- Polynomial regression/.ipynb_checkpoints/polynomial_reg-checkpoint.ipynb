{
 "cells": [
  {
   "cell_type": "markdown",
   "metadata": {},
   "source": [
    "<img src=\"logo.jpg\" />\n",
    "\n",
    "## [Pedram Jahangiry](https://github.com/PJalgotrader) "
   ]
  },
  {
   "cell_type": "markdown",
   "metadata": {},
   "source": [
    "# Polynomial Regression\n",
    "\n",
    "Polynomial regression extends the linear model by adding extra predictors, obtainded by raising each of the original predictors to a power. This approach provides a simple way to provide a **non-linear fit** to data. The model however is still **linear**. "
   ]
  },
  {
   "cell_type": "markdown",
   "metadata": {},
   "source": [
    "First we need to import the libraries: "
   ]
  },
  {
   "cell_type": "code",
   "execution_count": 1,
   "metadata": {},
   "outputs": [],
   "source": [
    "import numpy as np\n",
    "import pandas as pd\n",
    "import matplotlib.pyplot as plt\n",
    "import seaborn as sns\n",
    "from sklearn.linear_model import LinearRegression\n",
    "from sklearn.preprocessing import PolynomialFeatures, StandardScaler\n",
    "\n",
    "\n",
    "sns.set()  #if you want to use seaborn themes with matplotlib functions"
   ]
  },
  {
   "cell_type": "code",
   "execution_count": 2,
   "metadata": {},
   "outputs": [],
   "source": [
    "import warnings\n",
    "warnings.filterwarnings('ignore')"
   ]
  },
  {
   "cell_type": "markdown",
   "metadata": {},
   "source": [
    "### Why Polynomial Regression? "
   ]
  },
  {
   "cell_type": "markdown",
   "metadata": {},
   "source": [
    "Let's generate some random data set based on true model f(x)\n",
    "\n",
    "$$y =f(x)= x + 2x^2- 3 x^3 + \\epsilon$$"
   ]
  },
  {
   "cell_type": "code",
   "execution_count": 3,
   "metadata": {},
   "outputs": [
    {
     "data": {
      "text/plain": [
       "array([ 0.91976683,  0.67504241, -0.53467226, -1.31076363, -0.07505218])"
      ]
     },
     "execution_count": 3,
     "metadata": {},
     "output_type": "execute_result"
    }
   ],
   "source": [
    "np.random.randn(5)"
   ]
  },
  {
   "cell_type": "code",
   "execution_count": 4,
   "metadata": {},
   "outputs": [
    {
     "data": {
      "image/png": "[encoded data removed]",
      "text/plain": [
       "<Figure size 432x288 with 1 Axes>"
      ]
     },
     "metadata": {},
     "output_type": "display_data"
    }
   ],
   "source": [
    "np.random.seed(102)\n",
    "x = np.random.randn(100)\n",
    "y = x + 2 * (x ** 2) -3 * (x ** 3) + 5*np.random.normal(0,2,100)\n",
    "plt.scatter(x,y)\n",
    "plt.show()"
   ]
  },
  {
   "cell_type": "code",
   "execution_count": 5,
   "metadata": {},
   "outputs": [
    {
     "data": {
      "image/png": "[encoded data removed]",
      "text/plain": [
       "<Figure size 432x288 with 1 Axes>"
      ]
     },
     "metadata": {},
     "output_type": "display_data"
    }
   ],
   "source": [
    "plt.scatter(x,y)\n",
    "# let's add the unobservable true model\n",
    "w=np.linspace(-3,3,500)\n",
    "z= w+ 2*(w**2) - 3*(w**3)\n",
    "plt.plot(w,z, c='black')\n",
    "plt.show()"
   ]
  },
  {
   "cell_type": "markdown",
   "metadata": {},
   "source": [
    "###  Polynomial transformation of the data"
   ]
  },
  {
   "cell_type": "code",
   "execution_count": 6,
   "metadata": {},
   "outputs": [],
   "source": [
    "poly = PolynomialFeatures(degree =5)"
   ]
  },
  {
   "cell_type": "code",
   "execution_count": 7,
   "metadata": {},
   "outputs": [
    {
     "data": {
      "text/plain": [
       "array([ 1.6680683 ,  0.92586182,  1.05799677, -0.92033901,  1.29974847,\n",
       "        0.33118301, -0.50984497, -0.90309892, -0.13001637, -2.23820349,\n",
       "        0.97316488, -0.02418481, -0.48492775, -1.10926436, -0.55897476,\n",
       "        1.04238657, -1.71226271,  0.13611989, -0.46444399,  0.05097984,\n",
       "        1.44789871,  0.59313848, -0.75561568, -0.62716553,  0.88403489,\n",
       "        0.16271776, -2.50281287,  0.41079099,  0.72875041,  0.0291402 ,\n",
       "       -0.29105246,  0.31429308,  0.99718968,  3.42856293, -0.57856735,\n",
       "       -0.20416301, -1.86716866,  1.44343395,  0.40338004, -0.6907654 ,\n",
       "        1.17228746, -1.5711284 ,  0.80199231, -0.57197286,  1.55339371,\n",
       "        0.70121998,  1.01499268, -0.11804196, -1.06389095,  1.1766912 ,\n",
       "        1.34761944, -0.79430004, -1.27994303,  0.55675276, -0.04840372,\n",
       "        0.23436431, -0.98365709,  1.09300506, -1.25129603,  1.48159981,\n",
       "       -0.22729307, -0.06378016, -0.17618511, -2.17267394, -1.58895723,\n",
       "       -1.29298148, -0.5474315 , -0.0087966 , -0.47854023, -0.35936233,\n",
       "        0.60915098,  1.03869376,  0.09884339, -1.10981742, -0.75438429,\n",
       "        1.01710566, -1.74990478, -1.35057311,  0.03391207,  0.42444706,\n",
       "       -0.42940304, -0.22316959,  0.2315886 , -0.89537857, -1.00075912,\n",
       "        1.16936995,  0.78685977,  0.56300614, -1.27006566, -0.28483636,\n",
       "        0.26854096, -0.75050759,  0.48000165,  1.93801916, -0.70419326,\n",
       "       -0.23023896, -0.01351578, -0.49059401,  0.1562467 , -0.40248655])"
      ]
     },
     "execution_count": 7,
     "metadata": {},
     "output_type": "execute_result"
    }
   ],
   "source": [
    "x"
   ]
  },
  {
   "cell_type": "code",
   "execution_count": 8,
   "metadata": {},
   "outputs": [
    {
     "data": {
      "text/plain": [
       "array([ 1.6680683 ,  0.92586182,  1.05799677, -0.92033901,  1.29974847])"
      ]
     },
     "execution_count": 8,
     "metadata": {},
     "output_type": "execute_result"
    }
   ],
   "source": [
    "type(x)\n",
    "x[0:5]"
   ]
  },
  {
   "cell_type": "code",
   "execution_count": 9,
   "metadata": {},
   "outputs": [
    {
     "data": {
      "text/plain": [
       "array([[ 1.6680683 ],\n",
       "       [ 0.92586182],\n",
       "       [ 1.05799677],\n",
       "       [-0.92033901],\n",
       "       [ 1.29974847]])"
      ]
     },
     "execution_count": 9,
     "metadata": {},
     "output_type": "execute_result"
    }
   ],
   "source": [
    "x.reshape(-1,1) [0:5]\n",
    "# this is equivalent to x.reshape(100,1)[0:5]"
   ]
  },
  {
   "cell_type": "code",
   "execution_count": 10,
   "metadata": {},
   "outputs": [
    {
     "data": {
      "text/html": [
       "<div>\n",
       "<style scoped>\n",
       "    .dataframe tbody tr th:only-of-type {\n",
       "        vertical-align: middle;\n",
       "    }\n",
       "\n",
       "    .dataframe tbody tr th {\n",
       "        vertical-align: top;\n",
       "    }\n",
       "\n",
       "    .dataframe thead th {\n",
       "        text-align: right;\n",
       "    }\n",
       "</style>\n",
       "<table border=\"1\" class=\"dataframe\">\n",
       "  <thead>\n",
       "    <tr style=\"text-align: right;\">\n",
       "      <th></th>\n",
       "      <th>0</th>\n",
       "      <th>1</th>\n",
       "      <th>2</th>\n",
       "      <th>3</th>\n",
       "      <th>4</th>\n",
       "      <th>5</th>\n",
       "    </tr>\n",
       "  </thead>\n",
       "  <tbody>\n",
       "    <tr>\n",
       "      <th>0</th>\n",
       "      <td>1.0</td>\n",
       "      <td>1.668068</td>\n",
       "      <td>2.782452</td>\n",
       "      <td>4.641320</td>\n",
       "      <td>7.742038</td>\n",
       "      <td>12.914249</td>\n",
       "    </tr>\n",
       "    <tr>\n",
       "      <th>1</th>\n",
       "      <td>1.0</td>\n",
       "      <td>0.925862</td>\n",
       "      <td>0.857220</td>\n",
       "      <td>0.793667</td>\n",
       "      <td>0.734826</td>\n",
       "      <td>0.680348</td>\n",
       "    </tr>\n",
       "    <tr>\n",
       "      <th>2</th>\n",
       "      <td>1.0</td>\n",
       "      <td>1.057997</td>\n",
       "      <td>1.119357</td>\n",
       "      <td>1.184276</td>\n",
       "      <td>1.252960</td>\n",
       "      <td>1.325628</td>\n",
       "    </tr>\n",
       "    <tr>\n",
       "      <th>3</th>\n",
       "      <td>1.0</td>\n",
       "      <td>-0.920339</td>\n",
       "      <td>0.847024</td>\n",
       "      <td>-0.779549</td>\n",
       "      <td>0.717449</td>\n",
       "      <td>-0.660297</td>\n",
       "    </tr>\n",
       "    <tr>\n",
       "      <th>4</th>\n",
       "      <td>1.0</td>\n",
       "      <td>1.299748</td>\n",
       "      <td>1.689346</td>\n",
       "      <td>2.195725</td>\n",
       "      <td>2.853890</td>\n",
       "      <td>3.709339</td>\n",
       "    </tr>\n",
       "  </tbody>\n",
       "</table>\n",
       "</div>"
      ],
      "text/plain": [
       "     0         1         2         3         4          5\n",
       "0  1.0  1.668068  2.782452  4.641320  7.742038  12.914249\n",
       "1  1.0  0.925862  0.857220  0.793667  0.734826   0.680348\n",
       "2  1.0  1.057997  1.119357  1.184276  1.252960   1.325628\n",
       "3  1.0 -0.920339  0.847024 -0.779549  0.717449  -0.660297\n",
       "4  1.0  1.299748  1.689346  2.195725  2.853890   3.709339"
      ]
     },
     "execution_count": 10,
     "metadata": {},
     "output_type": "execute_result"
    }
   ],
   "source": [
    "X_poly= pd.DataFrame(poly.fit_transform(x.reshape(-1,1)))\n",
    "X_poly.head()"
   ]
  },
  {
   "cell_type": "markdown",
   "metadata": {},
   "source": [
    "###  Splitting the data"
   ]
  },
  {
   "cell_type": "code",
   "execution_count": 11,
   "metadata": {},
   "outputs": [],
   "source": [
    "from sklearn.model_selection import train_test_split\n",
    "X_train, X_test, y_train, y_test = train_test_split(X_poly, y, test_size=0.3, random_state=100)"
   ]
  },
  {
   "cell_type": "code",
   "execution_count": 12,
   "metadata": {},
   "outputs": [
    {
     "data": {
      "text/html": [
       "<div>\n",
       "<style scoped>\n",
       "    .dataframe tbody tr th:only-of-type {\n",
       "        vertical-align: middle;\n",
       "    }\n",
       "\n",
       "    .dataframe tbody tr th {\n",
       "        vertical-align: top;\n",
       "    }\n",
       "\n",
       "    .dataframe thead th {\n",
       "        text-align: right;\n",
       "    }\n",
       "</style>\n",
       "<table border=\"1\" class=\"dataframe\">\n",
       "  <thead>\n",
       "    <tr style=\"text-align: right;\">\n",
       "      <th></th>\n",
       "      <th>0</th>\n",
       "      <th>1</th>\n",
       "      <th>2</th>\n",
       "      <th>3</th>\n",
       "      <th>4</th>\n",
       "      <th>5</th>\n",
       "    </tr>\n",
       "  </thead>\n",
       "  <tbody>\n",
       "    <tr>\n",
       "      <th>32</th>\n",
       "      <td>1.0</td>\n",
       "      <td>0.997190</td>\n",
       "      <td>0.994387</td>\n",
       "      <td>0.991593</td>\n",
       "      <td>0.988806</td>\n",
       "      <td>0.986027</td>\n",
       "    </tr>\n",
       "    <tr>\n",
       "      <th>6</th>\n",
       "      <td>1.0</td>\n",
       "      <td>-0.509845</td>\n",
       "      <td>0.259942</td>\n",
       "      <td>-0.132530</td>\n",
       "      <td>0.067570</td>\n",
       "      <td>-0.034450</td>\n",
       "    </tr>\n",
       "    <tr>\n",
       "      <th>3</th>\n",
       "      <td>1.0</td>\n",
       "      <td>-0.920339</td>\n",
       "      <td>0.847024</td>\n",
       "      <td>-0.779549</td>\n",
       "      <td>0.717449</td>\n",
       "      <td>-0.660297</td>\n",
       "    </tr>\n",
       "    <tr>\n",
       "      <th>12</th>\n",
       "      <td>1.0</td>\n",
       "      <td>-0.484928</td>\n",
       "      <td>0.235155</td>\n",
       "      <td>-0.114033</td>\n",
       "      <td>0.055298</td>\n",
       "      <td>-0.026815</td>\n",
       "    </tr>\n",
       "    <tr>\n",
       "      <th>51</th>\n",
       "      <td>1.0</td>\n",
       "      <td>-0.794300</td>\n",
       "      <td>0.630913</td>\n",
       "      <td>-0.501134</td>\n",
       "      <td>0.398051</td>\n",
       "      <td>-0.316172</td>\n",
       "    </tr>\n",
       "  </tbody>\n",
       "</table>\n",
       "</div>"
      ],
      "text/plain": [
       "      0         1         2         3         4         5\n",
       "32  1.0  0.997190  0.994387  0.991593  0.988806  0.986027\n",
       "6   1.0 -0.509845  0.259942 -0.132530  0.067570 -0.034450\n",
       "3   1.0 -0.920339  0.847024 -0.779549  0.717449 -0.660297\n",
       "12  1.0 -0.484928  0.235155 -0.114033  0.055298 -0.026815\n",
       "51  1.0 -0.794300  0.630913 -0.501134  0.398051 -0.316172"
      ]
     },
     "execution_count": 12,
     "metadata": {},
     "output_type": "execute_result"
    }
   ],
   "source": [
    "X_train.head()"
   ]
  },
  {
   "cell_type": "code",
   "execution_count": 13,
   "metadata": {},
   "outputs": [
    {
     "data": {
      "text/plain": [
       "LinearRegression()"
      ]
     },
     "execution_count": 13,
     "metadata": {},
     "output_type": "execute_result"
    }
   ],
   "source": [
    "model = LinearRegression()\n",
    "model.fit(X_train, y_train)"
   ]
  },
  {
   "cell_type": "code",
   "execution_count": 14,
   "metadata": {},
   "outputs": [],
   "source": [
    "y_hat_te = model.predict(X_test)"
   ]
  },
  {
   "cell_type": "code",
   "execution_count": 15,
   "metadata": {},
   "outputs": [
    {
     "data": {
      "text/html": [
       "<div>\n",
       "<style scoped>\n",
       "    .dataframe tbody tr th:only-of-type {\n",
       "        vertical-align: middle;\n",
       "    }\n",
       "\n",
       "    .dataframe tbody tr th {\n",
       "        vertical-align: top;\n",
       "    }\n",
       "\n",
       "    .dataframe thead th {\n",
       "        text-align: right;\n",
       "    }\n",
       "</style>\n",
       "<table border=\"1\" class=\"dataframe\">\n",
       "  <thead>\n",
       "    <tr style=\"text-align: right;\">\n",
       "      <th></th>\n",
       "      <th>y_test</th>\n",
       "      <th>y_hat_test</th>\n",
       "      <th>resid</th>\n",
       "    </tr>\n",
       "  </thead>\n",
       "  <tbody>\n",
       "    <tr>\n",
       "      <th>0</th>\n",
       "      <td>-5.403786</td>\n",
       "      <td>-0.004184</td>\n",
       "      <td>-5.399601</td>\n",
       "    </tr>\n",
       "    <tr>\n",
       "      <th>1</th>\n",
       "      <td>-14.957215</td>\n",
       "      <td>-1.701846</td>\n",
       "      <td>-13.255370</td>\n",
       "    </tr>\n",
       "    <tr>\n",
       "      <th>2</th>\n",
       "      <td>61.375324</td>\n",
       "      <td>35.333017</td>\n",
       "      <td>26.042307</td>\n",
       "    </tr>\n",
       "    <tr>\n",
       "      <th>3</th>\n",
       "      <td>-17.744152</td>\n",
       "      <td>22.460100</td>\n",
       "      <td>-40.204251</td>\n",
       "    </tr>\n",
       "    <tr>\n",
       "      <th>4</th>\n",
       "      <td>-15.849248</td>\n",
       "      <td>-1.877517</td>\n",
       "      <td>-13.971731</td>\n",
       "    </tr>\n",
       "  </tbody>\n",
       "</table>\n",
       "</div>"
      ],
      "text/plain": [
       "      y_test  y_hat_test      resid\n",
       "0  -5.403786   -0.004184  -5.399601\n",
       "1 -14.957215   -1.701846 -13.255370\n",
       "2  61.375324   35.333017  26.042307\n",
       "3 -17.744152   22.460100 -40.204251\n",
       "4 -15.849248   -1.877517 -13.971731"
      ]
     },
     "execution_count": 15,
     "metadata": {},
     "output_type": "execute_result"
    }
   ],
   "source": [
    "df_predictions = pd.DataFrame({'y_test':y_test, 'y_hat_test':y_hat_te, 'resid': y_test - y_hat_te})\n",
    "df_predictions.head()"
   ]
  },
  {
   "cell_type": "markdown",
   "metadata": {},
   "source": [
    "### Plotting the train data regression function"
   ]
  },
  {
   "cell_type": "code",
   "execution_count": 16,
   "metadata": {},
   "outputs": [
    {
     "data": {
      "text/plain": [
       "numpy.ndarray"
      ]
     },
     "execution_count": 16,
     "metadata": {},
     "output_type": "execute_result"
    }
   ],
   "source": [
    "y_hat_tr = model.predict(X_train)\n",
    "type(y_hat_tr)"
   ]
  },
  {
   "cell_type": "code",
   "execution_count": 17,
   "metadata": {},
   "outputs": [
    {
     "data": {
      "text/plain": [
       "array([[ 0.99718968,  5.49656101],\n",
       "       [-0.50984497, -2.42204352],\n",
       "       [-0.92033901,  2.1857189 ],\n",
       "       [-0.48492775, -2.48838418],\n",
       "       [-0.79430004,  0.03056342]])"
      ]
     },
     "execution_count": 17,
     "metadata": {},
     "output_type": "execute_result"
    }
   ],
   "source": [
    "np.c_[X_train[1],y_hat_tr][:5]"
   ]
  },
  {
   "cell_type": "code",
   "execution_count": 18,
   "metadata": {},
   "outputs": [
    {
     "data": {
      "text/html": [
       "<div>\n",
       "<style scoped>\n",
       "    .dataframe tbody tr th:only-of-type {\n",
       "        vertical-align: middle;\n",
       "    }\n",
       "\n",
       "    .dataframe tbody tr th {\n",
       "        vertical-align: top;\n",
       "    }\n",
       "\n",
       "    .dataframe thead th {\n",
       "        text-align: right;\n",
       "    }\n",
       "</style>\n",
       "<table border=\"1\" class=\"dataframe\">\n",
       "  <thead>\n",
       "    <tr style=\"text-align: right;\">\n",
       "      <th></th>\n",
       "      <th>x</th>\n",
       "      <th>y_hat_tr</th>\n",
       "    </tr>\n",
       "  </thead>\n",
       "  <tbody>\n",
       "    <tr>\n",
       "      <th>0</th>\n",
       "      <td>0.997190</td>\n",
       "      <td>5.496561</td>\n",
       "    </tr>\n",
       "    <tr>\n",
       "      <th>1</th>\n",
       "      <td>-0.509845</td>\n",
       "      <td>-2.422044</td>\n",
       "    </tr>\n",
       "    <tr>\n",
       "      <th>2</th>\n",
       "      <td>-0.920339</td>\n",
       "      <td>2.185719</td>\n",
       "    </tr>\n",
       "    <tr>\n",
       "      <th>3</th>\n",
       "      <td>-0.484928</td>\n",
       "      <td>-2.488384</td>\n",
       "    </tr>\n",
       "    <tr>\n",
       "      <th>4</th>\n",
       "      <td>-0.794300</td>\n",
       "      <td>0.030563</td>\n",
       "    </tr>\n",
       "  </tbody>\n",
       "</table>\n",
       "</div>"
      ],
      "text/plain": [
       "          x  y_hat_tr\n",
       "0  0.997190  5.496561\n",
       "1 -0.509845 -2.422044\n",
       "2 -0.920339  2.185719\n",
       "3 -0.484928 -2.488384\n",
       "4 -0.794300  0.030563"
      ]
     },
     "execution_count": 18,
     "metadata": {},
     "output_type": "execute_result"
    }
   ],
   "source": [
    "prediction_tr =pd.DataFrame(np.c_[X_train[1],y_hat_tr], columns=['x','y_hat_tr'])\n",
    "prediction_tr.head()"
   ]
  },
  {
   "cell_type": "code",
   "execution_count": 19,
   "metadata": {},
   "outputs": [
    {
     "data": {
      "image/png": "[encoded data removed]",
      "text/plain": [
       "<Figure size 432x288 with 1 Axes>"
      ]
     },
     "metadata": {},
     "output_type": "display_data"
    }
   ],
   "source": [
    "# plotting the fitted line vs true (unobservable) line.\n",
    "sns.lineplot(x='x',y='y_hat_tr', data=prediction_tr)\n",
    "plt.scatter(X_train[1], y_train, s=10, c='g')\n",
    "plt.plot(w,z, c='black', linewidth=1)\n",
    "\n",
    "plt.show()"
   ]
  },
  {
   "cell_type": "markdown",
   "metadata": {},
   "source": [
    "###  comparing the MSE_train and MSE_test"
   ]
  },
  {
   "cell_type": "code",
   "execution_count": 20,
   "metadata": {},
   "outputs": [
    {
     "data": {
      "text/plain": [
       "98.84"
      ]
     },
     "execution_count": 20,
     "metadata": {},
     "output_type": "execute_result"
    }
   ],
   "source": [
    "err_tr = y_train - y_hat_tr\n",
    "MSE_train = np.mean(np.square(err_tr))\n",
    "round(MSE_train,2)"
   ]
  },
  {
   "cell_type": "code",
   "execution_count": 21,
   "metadata": {},
   "outputs": [
    {
     "data": {
      "text/plain": [
       "1987.51"
      ]
     },
     "execution_count": 21,
     "metadata": {},
     "output_type": "execute_result"
    }
   ],
   "source": [
    "err_te= y_test - y_hat_te\n",
    "MSE_test = np.mean(np.square(err_te))\n",
    "round(MSE_test,2)"
   ]
  },
  {
   "cell_type": "markdown",
   "metadata": {},
   "source": [
    "### All in one function"
   ]
  },
  {
   "cell_type": "code",
   "execution_count": 22,
   "metadata": {},
   "outputs": [],
   "source": [
    "import numpy as np\n",
    "import pandas as pd\n",
    "from sklearn.linear_model import LinearRegression\n",
    "from sklearn.preprocessing import PolynomialFeatures\n",
    "from sklearn.model_selection import train_test_split\n",
    "\n",
    "\n",
    "\n",
    "\n",
    "def my_polynomial_regression(poly_degree, X, y, test_size=0.3, rand_state=100):\n",
    "    \n",
    "    poly_features= PolynomialFeatures(degree=poly_degree)\n",
    "    \n",
    "    # transforms the existing features to higher degree features.\n",
    "    X_poly = pd.DataFrame(poly_features.fit_transform(X.reshape(-1,1)))   \n",
    "    \n",
    "    X_train, X_test, y_train, y_test = train_test_split(X_poly, y, test_size=test_size, random_state=rand_state)\n",
    "\n",
    "    # fit the transformed features to Linear Regression\n",
    "    poly_model = LinearRegression()\n",
    "    poly_model.fit(X_train, y_train)\n",
    "    \n",
    "  \n",
    "    # predicting on training data-set\n",
    "    y_train_predicted = poly_model.predict(X_train)\n",
    "  \n",
    "    # predicting on test data-set\n",
    "    y_test_predicted = poly_model.predict(X_test)\n",
    "  \n",
    "   # evaluating the model on training dataset\n",
    "    MSE_train = round(np.mean(np.square(y_train - y_train_predicted)),2)\n",
    "    RMSE_train = round(np.sqrt(MSE_train),2)\n",
    "\n",
    "  \n",
    "    # evaluating the model on test dataset\n",
    "    MSE_test = round(np.mean(np.square(y_test - y_test_predicted)),2)\n",
    "    RMSE_test = round(np.sqrt(MSE_test),2)\n",
    "\n",
    "\n",
    "  \n",
    "#     print(\"Traning model fit\")\n",
    "#     print(\"R2_train = {}\".format(R2_train))\n",
    "\n",
    "#     print(\"-------------------------------------------\")\n",
    "#     print(\"MSE_train = {}\".format(MSE_train))\n",
    "#     print(\"RMSE_train = {}\".format(RMSE_train))\n",
    "\n",
    "#     print(\"-------------------------------------------\")\n",
    "#     print(\"MSE_test = {}\".format(MSE_test))\n",
    "#     print(\"RMSE_test = {}\".format(RMSE_test))\n",
    "    \n",
    "    return poly_degree, RMSE_train, RMSE_test\n",
    "\n",
    "    \n"
   ]
  },
  {
   "cell_type": "code",
   "execution_count": 23,
   "metadata": {},
   "outputs": [
    {
     "data": {
      "text/plain": [
       "(5, 9.94, 44.58)"
      ]
     },
     "execution_count": 23,
     "metadata": {},
     "output_type": "execute_result"
    }
   ],
   "source": [
    "my_polynomial_regression(poly_degree=5,X=x,y=y)"
   ]
  },
  {
   "cell_type": "code",
   "execution_count": 24,
   "metadata": {},
   "outputs": [
    {
     "data": {
      "text/plain": [
       "(1, 12.65, 20.74)"
      ]
     },
     "execution_count": 24,
     "metadata": {},
     "output_type": "execute_result"
    }
   ],
   "source": [
    "my_polynomial_regression(poly_degree=1, X=x, y=y)"
   ]
  },
  {
   "cell_type": "code",
   "execution_count": 25,
   "metadata": {},
   "outputs": [
    {
     "data": {
      "text/html": [
       "<div>\n",
       "<style scoped>\n",
       "    .dataframe tbody tr th:only-of-type {\n",
       "        vertical-align: middle;\n",
       "    }\n",
       "\n",
       "    .dataframe tbody tr th {\n",
       "        vertical-align: top;\n",
       "    }\n",
       "\n",
       "    .dataframe thead th {\n",
       "        text-align: right;\n",
       "    }\n",
       "</style>\n",
       "<table border=\"1\" class=\"dataframe\">\n",
       "  <thead>\n",
       "    <tr style=\"text-align: right;\">\n",
       "      <th></th>\n",
       "      <th>Degree</th>\n",
       "      <th>RMSE_train</th>\n",
       "      <th>RMSE_test</th>\n",
       "    </tr>\n",
       "  </thead>\n",
       "  <tbody>\n",
       "    <tr>\n",
       "      <th>0</th>\n",
       "      <td>1</td>\n",
       "      <td>12.65</td>\n",
       "      <td>20.74</td>\n",
       "    </tr>\n",
       "    <tr>\n",
       "      <th>1</th>\n",
       "      <td>2</td>\n",
       "      <td>11.32</td>\n",
       "      <td>29.15</td>\n",
       "    </tr>\n",
       "    <tr>\n",
       "      <th>2</th>\n",
       "      <td>3</td>\n",
       "      <td>10.24</td>\n",
       "      <td>10.20</td>\n",
       "    </tr>\n",
       "    <tr>\n",
       "      <th>3</th>\n",
       "      <td>4</td>\n",
       "      <td>10.06</td>\n",
       "      <td>33.45</td>\n",
       "    </tr>\n",
       "    <tr>\n",
       "      <th>4</th>\n",
       "      <td>5</td>\n",
       "      <td>9.94</td>\n",
       "      <td>44.58</td>\n",
       "    </tr>\n",
       "  </tbody>\n",
       "</table>\n",
       "</div>"
      ],
      "text/plain": [
       "   Degree  RMSE_train  RMSE_test\n",
       "0       1       12.65      20.74\n",
       "1       2       11.32      29.15\n",
       "2       3       10.24      10.20\n",
       "3       4       10.06      33.45\n",
       "4       5        9.94      44.58"
      ]
     },
     "execution_count": 25,
     "metadata": {},
     "output_type": "execute_result"
    }
   ],
   "source": [
    "returns= []\n",
    "for i in range(1,6):\n",
    "    returns.append(my_polynomial_regression(poly_degree=i, X=x,y=y))\n",
    "    \n",
    "output = pd.DataFrame(returns, columns=['Degree', 'RMSE_train', 'RMSE_test'])\n",
    "output"
   ]
  },
  {
   "cell_type": "code",
   "execution_count": 26,
   "metadata": {},
   "outputs": [
    {
     "data": {
      "image/png": "[encoded data removed]",
      "text/plain": [
       "<Figure size 432x288 with 1 Axes>"
      ]
     },
     "metadata": {},
     "output_type": "display_data"
    }
   ],
   "source": [
    "output.set_index('Degree').plot()\n",
    "plt.show()"
   ]
  },
  {
   "cell_type": "markdown",
   "metadata": {},
   "source": [
    "by looking at the table and graph above, what is the optimal poly degree?"
   ]
  },
  {
   "cell_type": "markdown",
   "metadata": {},
   "source": [
    "But what if we don't have the labeled test set? we will estimate it by **cross validation**. "
   ]
  },
  {
   "cell_type": "markdown",
   "metadata": {},
   "source": [
    "### Challenge: \n",
    "Can you generate the same table all in one line of code? "
   ]
  },
  {
   "cell_type": "code",
   "execution_count": 27,
   "metadata": {},
   "outputs": [
    {
     "data": {
      "text/html": [
       "<div>\n",
       "<style scoped>\n",
       "    .dataframe tbody tr th:only-of-type {\n",
       "        vertical-align: middle;\n",
       "    }\n",
       "\n",
       "    .dataframe tbody tr th {\n",
       "        vertical-align: top;\n",
       "    }\n",
       "\n",
       "    .dataframe thead th {\n",
       "        text-align: right;\n",
       "    }\n",
       "</style>\n",
       "<table border=\"1\" class=\"dataframe\">\n",
       "  <thead>\n",
       "    <tr style=\"text-align: right;\">\n",
       "      <th></th>\n",
       "      <th>Degree</th>\n",
       "      <th>RMSE_train</th>\n",
       "      <th>RMSE_test</th>\n",
       "    </tr>\n",
       "  </thead>\n",
       "  <tbody>\n",
       "    <tr>\n",
       "      <th>0</th>\n",
       "      <td>1</td>\n",
       "      <td>12.65</td>\n",
       "      <td>20.74</td>\n",
       "    </tr>\n",
       "    <tr>\n",
       "      <th>1</th>\n",
       "      <td>2</td>\n",
       "      <td>11.32</td>\n",
       "      <td>29.15</td>\n",
       "    </tr>\n",
       "    <tr>\n",
       "      <th>2</th>\n",
       "      <td>3</td>\n",
       "      <td>10.24</td>\n",
       "      <td>10.20</td>\n",
       "    </tr>\n",
       "    <tr>\n",
       "      <th>3</th>\n",
       "      <td>4</td>\n",
       "      <td>10.06</td>\n",
       "      <td>33.45</td>\n",
       "    </tr>\n",
       "    <tr>\n",
       "      <th>4</th>\n",
       "      <td>5</td>\n",
       "      <td>9.94</td>\n",
       "      <td>44.58</td>\n",
       "    </tr>\n",
       "  </tbody>\n",
       "</table>\n",
       "</div>"
      ],
      "text/plain": [
       "   Degree  RMSE_train  RMSE_test\n",
       "0       1       12.65      20.74\n",
       "1       2       11.32      29.15\n",
       "2       3       10.24      10.20\n",
       "3       4       10.06      33.45\n",
       "4       5        9.94      44.58"
      ]
     },
     "execution_count": 27,
     "metadata": {},
     "output_type": "execute_result"
    }
   ],
   "source": [
    "pd.DataFrame([my_polynomial_regression(i,x,y) for i in range(1,6)], columns=['Degree', 'RMSE_train', 'RMSE_test'])"
   ]
  },
  {
   "cell_type": "markdown",
   "metadata": {},
   "source": [
    "##  Finding the optimal polynomial degree : Elbow method"
   ]
  },
  {
   "cell_type": "markdown",
   "metadata": {},
   "source": [
    "### Cross validation "
   ]
  },
  {
   "cell_type": "code",
   "execution_count": 28,
   "metadata": {},
   "outputs": [],
   "source": [
    "from sklearn.model_selection import cross_val_score\n",
    "import sklearn.metrics"
   ]
  },
  {
   "cell_type": "code",
   "execution_count": 29,
   "metadata": {},
   "outputs": [],
   "source": [
    "model = LinearRegression()"
   ]
  },
  {
   "cell_type": "code",
   "execution_count": 30,
   "metadata": {},
   "outputs": [
    {
     "data": {
      "text/html": [
       "<div>\n",
       "<style scoped>\n",
       "    .dataframe tbody tr th:only-of-type {\n",
       "        vertical-align: middle;\n",
       "    }\n",
       "\n",
       "    .dataframe tbody tr th {\n",
       "        vertical-align: top;\n",
       "    }\n",
       "\n",
       "    .dataframe thead th {\n",
       "        text-align: right;\n",
       "    }\n",
       "</style>\n",
       "<table border=\"1\" class=\"dataframe\">\n",
       "  <thead>\n",
       "    <tr style=\"text-align: right;\">\n",
       "      <th></th>\n",
       "      <th>0</th>\n",
       "      <th>1</th>\n",
       "      <th>2</th>\n",
       "      <th>3</th>\n",
       "      <th>4</th>\n",
       "      <th>5</th>\n",
       "    </tr>\n",
       "  </thead>\n",
       "  <tbody>\n",
       "    <tr>\n",
       "      <th>32</th>\n",
       "      <td>1.0</td>\n",
       "      <td>0.997190</td>\n",
       "      <td>0.994387</td>\n",
       "      <td>0.991593</td>\n",
       "      <td>0.988806</td>\n",
       "      <td>0.986027</td>\n",
       "    </tr>\n",
       "    <tr>\n",
       "      <th>6</th>\n",
       "      <td>1.0</td>\n",
       "      <td>-0.509845</td>\n",
       "      <td>0.259942</td>\n",
       "      <td>-0.132530</td>\n",
       "      <td>0.067570</td>\n",
       "      <td>-0.034450</td>\n",
       "    </tr>\n",
       "    <tr>\n",
       "      <th>3</th>\n",
       "      <td>1.0</td>\n",
       "      <td>-0.920339</td>\n",
       "      <td>0.847024</td>\n",
       "      <td>-0.779549</td>\n",
       "      <td>0.717449</td>\n",
       "      <td>-0.660297</td>\n",
       "    </tr>\n",
       "    <tr>\n",
       "      <th>12</th>\n",
       "      <td>1.0</td>\n",
       "      <td>-0.484928</td>\n",
       "      <td>0.235155</td>\n",
       "      <td>-0.114033</td>\n",
       "      <td>0.055298</td>\n",
       "      <td>-0.026815</td>\n",
       "    </tr>\n",
       "    <tr>\n",
       "      <th>51</th>\n",
       "      <td>1.0</td>\n",
       "      <td>-0.794300</td>\n",
       "      <td>0.630913</td>\n",
       "      <td>-0.501134</td>\n",
       "      <td>0.398051</td>\n",
       "      <td>-0.316172</td>\n",
       "    </tr>\n",
       "  </tbody>\n",
       "</table>\n",
       "</div>"
      ],
      "text/plain": [
       "      0         1         2         3         4         5\n",
       "32  1.0  0.997190  0.994387  0.991593  0.988806  0.986027\n",
       "6   1.0 -0.509845  0.259942 -0.132530  0.067570 -0.034450\n",
       "3   1.0 -0.920339  0.847024 -0.779549  0.717449 -0.660297\n",
       "12  1.0 -0.484928  0.235155 -0.114033  0.055298 -0.026815\n",
       "51  1.0 -0.794300  0.630913 -0.501134  0.398051 -0.316172"
      ]
     },
     "execution_count": 30,
     "metadata": {},
     "output_type": "execute_result"
    }
   ],
   "source": [
    "# recall our d=5 so far! \n",
    "X_train.head()"
   ]
  },
  {
   "cell_type": "code",
   "execution_count": 31,
   "metadata": {},
   "outputs": [],
   "source": [
    "NMSE = cross_val_score(estimator = model, X = X_train, y = y_train, cv = 10 , scoring=\"neg_mean_squared_error\" )\n",
    "# cv is the number of Folds. To speed up the process you can set the n_jobs=-1\n",
    "# to see the list of valid scorings try:sorted(sklearn.metrics.SCORERS.keys())"
   ]
  },
  {
   "cell_type": "markdown",
   "metadata": {},
   "source": [
    "### Exercise: \n",
    "Why do you think the scoring is \"negative MSE\" instead of \"MSE\"?"
   ]
  },
  {
   "cell_type": "code",
   "execution_count": 32,
   "metadata": {},
   "outputs": [
    {
     "data": {
      "text/plain": [
       "array([-110.21236405,  -94.26943861, -454.20321642, -156.387272  ,\n",
       "        -84.96548085, -234.76610844,  -92.31163064,  -44.37653192,\n",
       "        -55.46621079, -178.73365102])"
      ]
     },
     "execution_count": 32,
     "metadata": {},
     "output_type": "execute_result"
    }
   ],
   "source": [
    "NMSE"
   ]
  },
  {
   "cell_type": "code",
   "execution_count": 33,
   "metadata": {},
   "outputs": [
    {
     "data": {
      "text/plain": [
       "150.5691904754522"
      ]
     },
     "execution_count": 33,
     "metadata": {},
     "output_type": "execute_result"
    }
   ],
   "source": [
    "MSE_CV= np.mean(-NMSE)\n",
    "MSE_CV"
   ]
  },
  {
   "cell_type": "code",
   "execution_count": 34,
   "metadata": {},
   "outputs": [
    {
     "data": {
      "text/plain": [
       "11.565089766333518"
      ]
     },
     "execution_count": 34,
     "metadata": {},
     "output_type": "execute_result"
    }
   ],
   "source": [
    "RMSE_CV = np.sqrt(-NMSE).mean()\n",
    "RMSE_CV"
   ]
  },
  {
   "cell_type": "markdown",
   "metadata": {},
   "source": [
    "### Exercise: Plot the test MSE using 5-fold cross validation."
   ]
  },
  {
   "cell_type": "code",
   "execution_count": 35,
   "metadata": {},
   "outputs": [
    {
     "data": {
      "text/html": [
       "<div>\n",
       "<style scoped>\n",
       "    .dataframe tbody tr th:only-of-type {\n",
       "        vertical-align: middle;\n",
       "    }\n",
       "\n",
       "    .dataframe tbody tr th {\n",
       "        vertical-align: top;\n",
       "    }\n",
       "\n",
       "    .dataframe thead th {\n",
       "        text-align: right;\n",
       "    }\n",
       "</style>\n",
       "<table border=\"1\" class=\"dataframe\">\n",
       "  <thead>\n",
       "    <tr style=\"text-align: right;\">\n",
       "      <th></th>\n",
       "      <th>Poly degree</th>\n",
       "      <th>RMSE_CV</th>\n",
       "    </tr>\n",
       "  </thead>\n",
       "  <tbody>\n",
       "    <tr>\n",
       "      <th>0</th>\n",
       "      <td>1</td>\n",
       "      <td>13.312919</td>\n",
       "    </tr>\n",
       "    <tr>\n",
       "      <th>1</th>\n",
       "      <td>2</td>\n",
       "      <td>12.571895</td>\n",
       "    </tr>\n",
       "    <tr>\n",
       "      <th>2</th>\n",
       "      <td>3</td>\n",
       "      <td>10.864611</td>\n",
       "    </tr>\n",
       "    <tr>\n",
       "      <th>3</th>\n",
       "      <td>4</td>\n",
       "      <td>11.489488</td>\n",
       "    </tr>\n",
       "    <tr>\n",
       "      <th>4</th>\n",
       "      <td>5</td>\n",
       "      <td>10.532328</td>\n",
       "    </tr>\n",
       "    <tr>\n",
       "      <th>5</th>\n",
       "      <td>6</td>\n",
       "      <td>10.554299</td>\n",
       "    </tr>\n",
       "    <tr>\n",
       "      <th>6</th>\n",
       "      <td>7</td>\n",
       "      <td>14.307515</td>\n",
       "    </tr>\n",
       "  </tbody>\n",
       "</table>\n",
       "</div>"
      ],
      "text/plain": [
       "   Poly degree    RMSE_CV\n",
       "0            1  13.312919\n",
       "1            2  12.571895\n",
       "2            3  10.864611\n",
       "3            4  11.489488\n",
       "4            5  10.532328\n",
       "5            6  10.554299\n",
       "6            7  14.307515"
      ]
     },
     "execution_count": 35,
     "metadata": {},
     "output_type": "execute_result"
    }
   ],
   "source": [
    "# Fil in the blanks!\n",
    "\n",
    "RMSE_CV=[]\n",
    "iterator= range(1,8) # the second number is polynomial degree \n",
    "for i in iterator:\n",
    "    X_train, X_test, y_train, y_test = train_test_split(PolynomialFeatures(degree=i).fit_transform(x.reshape(-1,1)), y, test_size=0.3, random_state=100)\n",
    "    MSE = -cross_val_score(estimator = LinearRegression() , X = X_train, y = y_train, cv = 5 , scoring=\"neg_mean_squared_error\" )\n",
    "    RMSE_CV.append(np.sqrt(MSE).mean())\n",
    "    \n",
    "output = pd.DataFrame({'Poly degree':iterator, 'RMSE_CV':RMSE_CV })\n",
    "output"
   ]
  },
  {
   "cell_type": "code",
   "execution_count": 36,
   "metadata": {},
   "outputs": [
    {
     "data": {
      "image/png": "[encoded data removed]",
      "text/plain": [
       "<Figure size 432x288 with 1 Axes>"
      ]
     },
     "metadata": {},
     "output_type": "display_data"
    }
   ],
   "source": [
    "sns.lineplot(x='Poly degree', y='RMSE_CV', data=output , color='r', label=\"RMSE_CV vs Polynomial Degree\")\n",
    "plt.show()"
   ]
  },
  {
   "cell_type": "markdown",
   "metadata": {},
   "source": [
    "now using RMSE_CV and elbo method, what is the optimal poly degree? "
   ]
  },
  {
   "cell_type": "markdown",
   "metadata": {},
   "source": [
    "###  Additional links:\n",
    "1- Underfitting vs Overfitting: https://scikit-learn.org/stable/auto_examples/model_selection/plot_underfitting_overfitting.html#sphx-glr-auto-examples-model-selection-plot-underfitting-overfitting-py\n",
    "\n",
    "2- Going beyond linearity in python: https://www.analyticsvidhya.com/blog/2018/03/introduction-regression-splines-python-codes/\n",
    "\n",
    "3- Validation set approach: http://www.science.smith.edu/~jcrouser/SDS293/labs/lab7-py.html\n",
    "4- How to concat data frames: https://pandas.pydata.org/pandas-docs/stable/user_guide/merging.html"
   ]
  }
 ],
 "metadata": {
  "kernelspec": {
   "display_name": "Python 3",
   "language": "python",
   "name": "python3"
  },
  "language_info": {
   "codemirror_mode": {
    "name": "ipython",
    "version": 3
   },
   "file_extension": ".py",
   "mimetype": "text/x-python",
   "name": "python",
   "nbconvert_exporter": "python",
   "pygments_lexer": "ipython3",
   "version": "3.8.8"
  }
 },
 "nbformat": 4,
 "nbformat_minor": 4
}
